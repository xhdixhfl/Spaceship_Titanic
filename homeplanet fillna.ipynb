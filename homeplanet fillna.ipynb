{
 "cells": [
  {
   "cell_type": "code",
   "execution_count": 1,
   "id": "0c5c8549",
   "metadata": {},
   "outputs": [],
   "source": [
    "# 필요한 데이터 로딩\n",
    "import numpy as np\n",
    "import pandas as pd\n",
    "import matplotlib as mpl\n",
    "import matplotlib.pyplot as plt\n",
    "import seaborn as sns"
   ]
  },
  {
   "cell_type": "code",
   "execution_count": 2,
   "id": "112448bf",
   "metadata": {},
   "outputs": [
    {
     "data": {
      "text/html": [
       "<div>\n",
       "<style scoped>\n",
       "    .dataframe tbody tr th:only-of-type {\n",
       "        vertical-align: middle;\n",
       "    }\n",
       "\n",
       "    .dataframe tbody tr th {\n",
       "        vertical-align: top;\n",
       "    }\n",
       "\n",
       "    .dataframe thead th {\n",
       "        text-align: right;\n",
       "    }\n",
       "</style>\n",
       "<table border=\"1\" class=\"dataframe\">\n",
       "  <thead>\n",
       "    <tr style=\"text-align: right;\">\n",
       "      <th></th>\n",
       "      <th>PassengerId</th>\n",
       "      <th>HomePlanet</th>\n",
       "      <th>CryoSleep</th>\n",
       "      <th>Cabin1</th>\n",
       "      <th>Cabin2</th>\n",
       "      <th>combi</th>\n",
       "      <th>Cabin3</th>\n",
       "      <th>Cabin</th>\n",
       "      <th>Destination</th>\n",
       "      <th>Age</th>\n",
       "      <th>VIP</th>\n",
       "      <th>RoomService</th>\n",
       "      <th>FoodCourt</th>\n",
       "      <th>ShoppingMall</th>\n",
       "      <th>Spa</th>\n",
       "      <th>VRDeck</th>\n",
       "      <th>Name</th>\n",
       "      <th>Transported</th>\n",
       "    </tr>\n",
       "  </thead>\n",
       "  <tbody>\n",
       "    <tr>\n",
       "      <th>0</th>\n",
       "      <td>0001_01</td>\n",
       "      <td>Europa</td>\n",
       "      <td>False</td>\n",
       "      <td>B</td>\n",
       "      <td>0.0</td>\n",
       "      <td>B0</td>\n",
       "      <td>P</td>\n",
       "      <td>B/0/P</td>\n",
       "      <td>TRAPPIST-1e</td>\n",
       "      <td>39.0</td>\n",
       "      <td>False</td>\n",
       "      <td>0.0</td>\n",
       "      <td>0.0</td>\n",
       "      <td>0.0</td>\n",
       "      <td>0.0</td>\n",
       "      <td>0.0</td>\n",
       "      <td>Maham Ofracculy</td>\n",
       "      <td>False</td>\n",
       "    </tr>\n",
       "    <tr>\n",
       "      <th>1</th>\n",
       "      <td>0002_01</td>\n",
       "      <td>Earth</td>\n",
       "      <td>False</td>\n",
       "      <td>F</td>\n",
       "      <td>0.0</td>\n",
       "      <td>F0</td>\n",
       "      <td>S</td>\n",
       "      <td>F/0/S</td>\n",
       "      <td>TRAPPIST-1e</td>\n",
       "      <td>24.0</td>\n",
       "      <td>False</td>\n",
       "      <td>109.0</td>\n",
       "      <td>9.0</td>\n",
       "      <td>25.0</td>\n",
       "      <td>549.0</td>\n",
       "      <td>44.0</td>\n",
       "      <td>Juanna Vines</td>\n",
       "      <td>True</td>\n",
       "    </tr>\n",
       "    <tr>\n",
       "      <th>2</th>\n",
       "      <td>0003_01</td>\n",
       "      <td>Europa</td>\n",
       "      <td>False</td>\n",
       "      <td>A</td>\n",
       "      <td>0.0</td>\n",
       "      <td>A0</td>\n",
       "      <td>S</td>\n",
       "      <td>A/0/S</td>\n",
       "      <td>TRAPPIST-1e</td>\n",
       "      <td>58.0</td>\n",
       "      <td>True</td>\n",
       "      <td>43.0</td>\n",
       "      <td>3576.0</td>\n",
       "      <td>0.0</td>\n",
       "      <td>6715.0</td>\n",
       "      <td>49.0</td>\n",
       "      <td>Altark Susent</td>\n",
       "      <td>False</td>\n",
       "    </tr>\n",
       "    <tr>\n",
       "      <th>3</th>\n",
       "      <td>0003_02</td>\n",
       "      <td>Europa</td>\n",
       "      <td>False</td>\n",
       "      <td>A</td>\n",
       "      <td>0.0</td>\n",
       "      <td>A0</td>\n",
       "      <td>S</td>\n",
       "      <td>A/0/S</td>\n",
       "      <td>TRAPPIST-1e</td>\n",
       "      <td>33.0</td>\n",
       "      <td>False</td>\n",
       "      <td>0.0</td>\n",
       "      <td>1283.0</td>\n",
       "      <td>371.0</td>\n",
       "      <td>3329.0</td>\n",
       "      <td>193.0</td>\n",
       "      <td>Solam Susent</td>\n",
       "      <td>False</td>\n",
       "    </tr>\n",
       "    <tr>\n",
       "      <th>4</th>\n",
       "      <td>0004_01</td>\n",
       "      <td>Earth</td>\n",
       "      <td>False</td>\n",
       "      <td>F</td>\n",
       "      <td>1.0</td>\n",
       "      <td>F1</td>\n",
       "      <td>S</td>\n",
       "      <td>F/1/S</td>\n",
       "      <td>TRAPPIST-1e</td>\n",
       "      <td>16.0</td>\n",
       "      <td>False</td>\n",
       "      <td>303.0</td>\n",
       "      <td>70.0</td>\n",
       "      <td>151.0</td>\n",
       "      <td>565.0</td>\n",
       "      <td>2.0</td>\n",
       "      <td>Willy Santantines</td>\n",
       "      <td>True</td>\n",
       "    </tr>\n",
       "  </tbody>\n",
       "</table>\n",
       "</div>"
      ],
      "text/plain": [
       "  PassengerId HomePlanet CryoSleep Cabin1  Cabin2 combi Cabin3  Cabin  \\\n",
       "0     0001_01     Europa     False      B     0.0    B0      P  B/0/P   \n",
       "1     0002_01      Earth     False      F     0.0    F0      S  F/0/S   \n",
       "2     0003_01     Europa     False      A     0.0    A0      S  A/0/S   \n",
       "3     0003_02     Europa     False      A     0.0    A0      S  A/0/S   \n",
       "4     0004_01      Earth     False      F     1.0    F1      S  F/1/S   \n",
       "\n",
       "   Destination   Age    VIP  RoomService  FoodCourt  ShoppingMall     Spa  \\\n",
       "0  TRAPPIST-1e  39.0  False          0.0        0.0           0.0     0.0   \n",
       "1  TRAPPIST-1e  24.0  False        109.0        9.0          25.0   549.0   \n",
       "2  TRAPPIST-1e  58.0   True         43.0     3576.0           0.0  6715.0   \n",
       "3  TRAPPIST-1e  33.0  False          0.0     1283.0         371.0  3329.0   \n",
       "4  TRAPPIST-1e  16.0  False        303.0       70.0         151.0   565.0   \n",
       "\n",
       "   VRDeck               Name  Transported  \n",
       "0     0.0    Maham Ofracculy        False  \n",
       "1    44.0       Juanna Vines         True  \n",
       "2    49.0      Altark Susent        False  \n",
       "3   193.0       Solam Susent        False  \n",
       "4     2.0  Willy Santantines         True  "
      ]
     },
     "execution_count": 2,
     "metadata": {},
     "output_type": "execute_result"
    }
   ],
   "source": [
    "# 결측치를 가진 값만 가지고 데이터셋 만들어서 모델링한 개체에 예측값 채우기\n",
    "data = pd.read_csv('C:/Users/admin/Desktop/sparta/train_scaled_org.csv')\n",
    "data.head()"
   ]
  },
  {
   "cell_type": "code",
   "execution_count": 3,
   "id": "11eff6b1",
   "metadata": {},
   "outputs": [
    {
     "data": {
      "text/plain": [
       "0    1.0\n",
       "1    0.0\n",
       "2    1.0\n",
       "3    1.0\n",
       "4    0.0\n",
       "Name: HomePlanet, dtype: float64"
      ]
     },
     "execution_count": 3,
     "metadata": {},
     "output_type": "execute_result"
    }
   ],
   "source": [
    "data['HomePlanet'] = data['HomePlanet'].map({'Earth':0, 'Europa':1, 'Mars':2})\n",
    "data['HomePlanet'].head()"
   ]
  },
  {
   "cell_type": "code",
   "execution_count": 4,
   "id": "16d1c802",
   "metadata": {},
   "outputs": [
    {
     "data": {
      "text/plain": [
       "PassengerId       0\n",
       "HomePlanet      192\n",
       "CryoSleep         2\n",
       "Cabin1          103\n",
       "Cabin2          103\n",
       "combi           103\n",
       "Cabin3          103\n",
       "Cabin           103\n",
       "Destination     174\n",
       "Age             179\n",
       "VIP             203\n",
       "RoomService     112\n",
       "FoodCourt       112\n",
       "ShoppingMall    112\n",
       "Spa             115\n",
       "VRDeck          124\n",
       "Name            200\n",
       "Transported       0\n",
       "dtype: int64"
      ]
     },
     "execution_count": 4,
     "metadata": {},
     "output_type": "execute_result"
    }
   ],
   "source": [
    "data.isnull().sum()"
   ]
  },
  {
   "cell_type": "code",
   "execution_count": 6,
   "id": "8ddbef34",
   "metadata": {},
   "outputs": [
    {
     "name": "stdout",
     "output_type": "stream",
     "text": [
      "<class 'pandas.core.frame.DataFrame'>\n",
      "Int64Index: 8590 entries, 0 to 8692\n",
      "Data columns (total 18 columns):\n",
      " #   Column        Non-Null Count  Dtype  \n",
      "---  ------        --------------  -----  \n",
      " 0   PassengerId   8590 non-null   object \n",
      " 1   HomePlanet    8402 non-null   float64\n",
      " 2   CryoSleep     8590 non-null   object \n",
      " 3   Cabin1        8590 non-null   object \n",
      " 4   Cabin2        8590 non-null   float64\n",
      " 5   combi         8590 non-null   object \n",
      " 6   Cabin3        8590 non-null   object \n",
      " 7   Cabin         8590 non-null   object \n",
      " 8   Destination   8418 non-null   object \n",
      " 9   Age           8415 non-null   float64\n",
      " 10  VIP           8391 non-null   object \n",
      " 11  RoomService   8479 non-null   float64\n",
      " 12  FoodCourt     8480 non-null   float64\n",
      " 13  ShoppingMall  8479 non-null   float64\n",
      " 14  Spa           8476 non-null   float64\n",
      " 15  VRDeck        8467 non-null   float64\n",
      " 16  Name          8390 non-null   object \n",
      " 17  Transported   8590 non-null   bool   \n",
      "dtypes: bool(1), float64(8), object(9)\n",
      "memory usage: 1.2+ MB\n"
     ]
    }
   ],
   "source": [
    "data = data.dropna(axis='index',how='any', subset=['Cabin'])\n",
    "data.info()"
   ]
  },
  {
   "cell_type": "code",
   "execution_count": 7,
   "id": "4b601dfe",
   "metadata": {},
   "outputs": [
    {
     "data": {
      "text/plain": [
       "PassengerId       0\n",
       "HomePlanet      188\n",
       "CryoSleep         0\n",
       "Cabin1            0\n",
       "Cabin2            0\n",
       "combi             0\n",
       "Cabin3            0\n",
       "Cabin             0\n",
       "Destination     172\n",
       "Age             175\n",
       "VIP             199\n",
       "RoomService     111\n",
       "FoodCourt       110\n",
       "ShoppingMall    111\n",
       "Spa             114\n",
       "VRDeck          123\n",
       "Name            200\n",
       "Transported       0\n",
       "dtype: int64"
      ]
     },
     "execution_count": 7,
     "metadata": {},
     "output_type": "execute_result"
    }
   ],
   "source": [
    "data.isnull().sum()"
   ]
  },
  {
   "cell_type": "code",
   "execution_count": 8,
   "id": "c26eb274",
   "metadata": {},
   "outputs": [
    {
     "name": "stdout",
     "output_type": "stream",
     "text": [
      "<class 'pandas.core.frame.DataFrame'>\n",
      "Int64Index: 8418 entries, 0 to 8692\n",
      "Data columns (total 18 columns):\n",
      " #   Column        Non-Null Count  Dtype  \n",
      "---  ------        --------------  -----  \n",
      " 0   PassengerId   8418 non-null   object \n",
      " 1   HomePlanet    8234 non-null   float64\n",
      " 2   CryoSleep     8418 non-null   object \n",
      " 3   Cabin1        8418 non-null   object \n",
      " 4   Cabin2        8418 non-null   float64\n",
      " 5   combi         8418 non-null   object \n",
      " 6   Cabin3        8418 non-null   object \n",
      " 7   Cabin         8418 non-null   object \n",
      " 8   Destination   8418 non-null   object \n",
      " 9   Age           8246 non-null   float64\n",
      " 10  VIP           8223 non-null   object \n",
      " 11  RoomService   8308 non-null   float64\n",
      " 12  FoodCourt     8311 non-null   float64\n",
      " 13  ShoppingMall  8310 non-null   float64\n",
      " 14  Spa           8307 non-null   float64\n",
      " 15  VRDeck        8296 non-null   float64\n",
      " 16  Name          8221 non-null   object \n",
      " 17  Transported   8418 non-null   bool   \n",
      "dtypes: bool(1), float64(8), object(9)\n",
      "memory usage: 1.2+ MB\n"
     ]
    }
   ],
   "source": [
    "data = data.dropna(axis='index',how='any', subset=['Destination'])\n",
    "data.info()"
   ]
  },
  {
   "cell_type": "code",
   "execution_count": 9,
   "id": "d3691002",
   "metadata": {},
   "outputs": [
    {
     "data": {
      "text/plain": [
       "PassengerId       0\n",
       "HomePlanet      184\n",
       "CryoSleep         0\n",
       "Cabin1            0\n",
       "Cabin2            0\n",
       "combi             0\n",
       "Cabin3            0\n",
       "Cabin             0\n",
       "Destination       0\n",
       "Age             172\n",
       "VIP             195\n",
       "RoomService     110\n",
       "FoodCourt       107\n",
       "ShoppingMall    108\n",
       "Spa             111\n",
       "VRDeck          122\n",
       "Name            197\n",
       "Transported       0\n",
       "dtype: int64"
      ]
     },
     "execution_count": 9,
     "metadata": {},
     "output_type": "execute_result"
    }
   ],
   "source": [
    "data.isnull().sum()"
   ]
  },
  {
   "cell_type": "code",
   "execution_count": 10,
   "id": "ff9e5442",
   "metadata": {},
   "outputs": [
    {
     "name": "stdout",
     "output_type": "stream",
     "text": [
      "<class 'pandas.core.frame.DataFrame'>\n",
      "Int64Index: 8223 entries, 0 to 8692\n",
      "Data columns (total 18 columns):\n",
      " #   Column        Non-Null Count  Dtype  \n",
      "---  ------        --------------  -----  \n",
      " 0   PassengerId   8223 non-null   object \n",
      " 1   HomePlanet    8041 non-null   float64\n",
      " 2   CryoSleep     8223 non-null   object \n",
      " 3   Cabin1        8223 non-null   object \n",
      " 4   Cabin2        8223 non-null   float64\n",
      " 5   combi         8223 non-null   object \n",
      " 6   Cabin3        8223 non-null   object \n",
      " 7   Cabin         8223 non-null   object \n",
      " 8   Destination   8223 non-null   object \n",
      " 9   Age           8056 non-null   float64\n",
      " 10  VIP           8223 non-null   object \n",
      " 11  RoomService   8115 non-null   float64\n",
      " 12  FoodCourt     8118 non-null   float64\n",
      " 13  ShoppingMall  8118 non-null   float64\n",
      " 14  Spa           8113 non-null   float64\n",
      " 15  VRDeck        8102 non-null   float64\n",
      " 16  Name          8027 non-null   object \n",
      " 17  Transported   8223 non-null   bool   \n",
      "dtypes: bool(1), float64(8), object(9)\n",
      "memory usage: 1.1+ MB\n"
     ]
    }
   ],
   "source": [
    "data = data.dropna(axis='index',how='any', subset=['VIP'])\n",
    "data.info()"
   ]
  },
  {
   "cell_type": "code",
   "execution_count": 11,
   "id": "94b74325",
   "metadata": {},
   "outputs": [
    {
     "data": {
      "text/plain": [
       "PassengerId       0\n",
       "HomePlanet      182\n",
       "CryoSleep         0\n",
       "Cabin1            0\n",
       "Cabin2            0\n",
       "combi             0\n",
       "Cabin3            0\n",
       "Cabin             0\n",
       "Destination       0\n",
       "Age             167\n",
       "VIP               0\n",
       "RoomService     108\n",
       "FoodCourt       105\n",
       "ShoppingMall    105\n",
       "Spa             110\n",
       "VRDeck          121\n",
       "Name            196\n",
       "Transported       0\n",
       "dtype: int64"
      ]
     },
     "execution_count": 11,
     "metadata": {},
     "output_type": "execute_result"
    }
   ],
   "source": [
    "data.isnull().sum()"
   ]
  },
  {
   "cell_type": "code",
   "execution_count": 12,
   "id": "a359c137",
   "metadata": {},
   "outputs": [
    {
     "name": "stdout",
     "output_type": "stream",
     "text": [
      "<class 'pandas.core.frame.DataFrame'>\n",
      "Int64Index: 8056 entries, 0 to 8692\n",
      "Data columns (total 18 columns):\n",
      " #   Column        Non-Null Count  Dtype  \n",
      "---  ------        --------------  -----  \n",
      " 0   PassengerId   8056 non-null   object \n",
      " 1   HomePlanet    7876 non-null   float64\n",
      " 2   CryoSleep     8056 non-null   object \n",
      " 3   Cabin1        8056 non-null   object \n",
      " 4   Cabin2        8056 non-null   float64\n",
      " 5   combi         8056 non-null   object \n",
      " 6   Cabin3        8056 non-null   object \n",
      " 7   Cabin         8056 non-null   object \n",
      " 8   Destination   8056 non-null   object \n",
      " 9   Age           8056 non-null   float64\n",
      " 10  VIP           8056 non-null   object \n",
      " 11  RoomService   7948 non-null   float64\n",
      " 12  FoodCourt     7951 non-null   float64\n",
      " 13  ShoppingMall  7953 non-null   float64\n",
      " 14  Spa           7946 non-null   float64\n",
      " 15  VRDeck        7936 non-null   float64\n",
      " 16  Name          7863 non-null   object \n",
      " 17  Transported   8056 non-null   bool   \n",
      "dtypes: bool(1), float64(8), object(9)\n",
      "memory usage: 1.1+ MB\n"
     ]
    }
   ],
   "source": [
    "data = data.dropna(axis='index',how='any', subset=['Age'])\n",
    "data.info()"
   ]
  },
  {
   "cell_type": "code",
   "execution_count": 13,
   "id": "258a8ea6",
   "metadata": {},
   "outputs": [
    {
     "data": {
      "text/plain": [
       "PassengerId       0\n",
       "HomePlanet      180\n",
       "CryoSleep         0\n",
       "Cabin1            0\n",
       "Cabin2            0\n",
       "combi             0\n",
       "Cabin3            0\n",
       "Cabin             0\n",
       "Destination       0\n",
       "Age               0\n",
       "VIP               0\n",
       "RoomService     108\n",
       "FoodCourt       105\n",
       "ShoppingMall    103\n",
       "Spa             110\n",
       "VRDeck          120\n",
       "Name            193\n",
       "Transported       0\n",
       "dtype: int64"
      ]
     },
     "execution_count": 13,
     "metadata": {},
     "output_type": "execute_result"
    }
   ],
   "source": [
    "data.isnull().sum()"
   ]
  },
  {
   "cell_type": "markdown",
   "id": "786bccd5",
   "metadata": {},
   "source": [
    "# 데이터 정리"
   ]
  },
  {
   "cell_type": "code",
   "execution_count": 42,
   "id": "ee5f28d8",
   "metadata": {},
   "outputs": [],
   "source": [
    "# 예측후 값 담을 데이터\n",
    "x = data[data['HomePlanet'].isna()]"
   ]
  },
  {
   "cell_type": "code",
   "execution_count": 43,
   "id": "1e5d2c27",
   "metadata": {},
   "outputs": [],
   "source": [
    "# 검증 데이터로 사용할 것\n",
    "y = data[data['HomePlanet'].isna()==False]"
   ]
  },
  {
   "cell_type": "code",
   "execution_count": 44,
   "id": "c8772ecf",
   "metadata": {},
   "outputs": [
    {
     "name": "stdout",
     "output_type": "stream",
     "text": [
      "<class 'pandas.core.frame.DataFrame'>\n",
      "Int64Index: 180 entries, 59 to 8684\n",
      "Data columns (total 29 columns):\n",
      " #   Column         Non-Null Count  Dtype  \n",
      "---  ------         --------------  -----  \n",
      " 0   PassengerId    180 non-null    object \n",
      " 1   HomePlanet     0 non-null      float64\n",
      " 2   CryoSleep      180 non-null    bool   \n",
      " 3   Cabin1         180 non-null    object \n",
      " 4   Cabin2         180 non-null    float64\n",
      " 5   combi          180 non-null    object \n",
      " 6   Cabin3         180 non-null    bool   \n",
      " 7   Cabin          180 non-null    object \n",
      " 8   Destination    180 non-null    object \n",
      " 9   Age            180 non-null    float64\n",
      " 10  VIP            180 non-null    bool   \n",
      " 11  RoomService    176 non-null    float64\n",
      " 12  FoodCourt      179 non-null    float64\n",
      " 13  ShoppingMall   179 non-null    float64\n",
      " 14  Spa            179 non-null    float64\n",
      " 15  VRDeck         180 non-null    float64\n",
      " 16  Name           173 non-null    object \n",
      " 17  Transported    180 non-null    bool   \n",
      " 18  55 Cancri e    180 non-null    uint8  \n",
      " 19  PSO J318.5-22  180 non-null    uint8  \n",
      " 20  TRAPPIST-1e    180 non-null    uint8  \n",
      " 21  A              180 non-null    uint8  \n",
      " 22  B              180 non-null    uint8  \n",
      " 23  C              180 non-null    uint8  \n",
      " 24  D              180 non-null    uint8  \n",
      " 25  E              180 non-null    uint8  \n",
      " 26  F              180 non-null    uint8  \n",
      " 27  G              180 non-null    uint8  \n",
      " 28  T              180 non-null    uint8  \n",
      "dtypes: bool(4), float64(8), object(6), uint8(11)\n",
      "memory usage: 23.7+ KB\n"
     ]
    }
   ],
   "source": [
    "x.info()"
   ]
  },
  {
   "cell_type": "code",
   "execution_count": 45,
   "id": "5a966ac5",
   "metadata": {},
   "outputs": [
    {
     "name": "stdout",
     "output_type": "stream",
     "text": [
      "<class 'pandas.core.frame.DataFrame'>\n",
      "Int64Index: 7876 entries, 0 to 8692\n",
      "Data columns (total 29 columns):\n",
      " #   Column         Non-Null Count  Dtype  \n",
      "---  ------         --------------  -----  \n",
      " 0   PassengerId    7876 non-null   object \n",
      " 1   HomePlanet     7876 non-null   float64\n",
      " 2   CryoSleep      7876 non-null   bool   \n",
      " 3   Cabin1         7876 non-null   object \n",
      " 4   Cabin2         7876 non-null   float64\n",
      " 5   combi          7876 non-null   object \n",
      " 6   Cabin3         7876 non-null   bool   \n",
      " 7   Cabin          7876 non-null   object \n",
      " 8   Destination    7876 non-null   object \n",
      " 9   Age            7876 non-null   float64\n",
      " 10  VIP            7876 non-null   bool   \n",
      " 11  RoomService    7772 non-null   float64\n",
      " 12  FoodCourt      7772 non-null   float64\n",
      " 13  ShoppingMall   7774 non-null   float64\n",
      " 14  Spa            7767 non-null   float64\n",
      " 15  VRDeck         7756 non-null   float64\n",
      " 16  Name           7690 non-null   object \n",
      " 17  Transported    7876 non-null   bool   \n",
      " 18  55 Cancri e    7876 non-null   uint8  \n",
      " 19  PSO J318.5-22  7876 non-null   uint8  \n",
      " 20  TRAPPIST-1e    7876 non-null   uint8  \n",
      " 21  A              7876 non-null   uint8  \n",
      " 22  B              7876 non-null   uint8  \n",
      " 23  C              7876 non-null   uint8  \n",
      " 24  D              7876 non-null   uint8  \n",
      " 25  E              7876 non-null   uint8  \n",
      " 26  F              7876 non-null   uint8  \n",
      " 27  G              7876 non-null   uint8  \n",
      " 28  T              7876 non-null   uint8  \n",
      "dtypes: bool(4), float64(8), object(6), uint8(11)\n",
      "memory usage: 1.0+ MB\n"
     ]
    }
   ],
   "source": [
    "y.info()"
   ]
  },
  {
   "cell_type": "markdown",
   "id": "a745c821",
   "metadata": {},
   "source": [
    "# 원-핫 인코딩"
   ]
  },
  {
   "cell_type": "code",
   "execution_count": 38,
   "id": "bc7a8702",
   "metadata": {},
   "outputs": [],
   "source": [
    "train_encoding = pd.get_dummies(data['Destination'])\n",
    "# 기존의 팀명 컬러 삭제\n",
    "# df=df.drop('Destination',axis=1)\n",
    "data = data.join(train_encoding)\n",
    "\n",
    "train_encoding = pd.get_dummies(data['Cabin1'])\n",
    "# 기존의 팀명 컬러 삭제\n",
    "# df=df.drop('Cabin1',axis=1)\n",
    "data = data.join(train_encoding)"
   ]
  },
  {
   "cell_type": "code",
   "execution_count": 39,
   "id": "bd450f99",
   "metadata": {},
   "outputs": [
    {
     "data": {
      "text/plain": [
       "0        True\n",
       "1       False\n",
       "2       False\n",
       "3       False\n",
       "4       False\n",
       "        ...  \n",
       "8688     True\n",
       "8689    False\n",
       "8690    False\n",
       "8691    False\n",
       "8692    False\n",
       "Name: Cabin3, Length: 8056, dtype: object"
      ]
     },
     "execution_count": 39,
     "metadata": {},
     "output_type": "execute_result"
    }
   ],
   "source": [
    "data['Cabin3'].replace({'P': 'True','S': 'False'})"
   ]
  },
  {
   "cell_type": "code",
   "execution_count": 41,
   "id": "ad94a24d",
   "metadata": {},
   "outputs": [
    {
     "name": "stdout",
     "output_type": "stream",
     "text": [
      "<class 'pandas.core.frame.DataFrame'>\n",
      "Int64Index: 8056 entries, 0 to 8692\n",
      "Data columns (total 29 columns):\n",
      " #   Column         Non-Null Count  Dtype  \n",
      "---  ------         --------------  -----  \n",
      " 0   PassengerId    8056 non-null   object \n",
      " 1   HomePlanet     7876 non-null   float64\n",
      " 2   CryoSleep      8056 non-null   bool   \n",
      " 3   Cabin1         8056 non-null   object \n",
      " 4   Cabin2         8056 non-null   float64\n",
      " 5   combi          8056 non-null   object \n",
      " 6   Cabin3         8056 non-null   bool   \n",
      " 7   Cabin          8056 non-null   object \n",
      " 8   Destination    8056 non-null   object \n",
      " 9   Age            8056 non-null   float64\n",
      " 10  VIP            8056 non-null   bool   \n",
      " 11  RoomService    7948 non-null   float64\n",
      " 12  FoodCourt      7951 non-null   float64\n",
      " 13  ShoppingMall   7953 non-null   float64\n",
      " 14  Spa            7946 non-null   float64\n",
      " 15  VRDeck         7936 non-null   float64\n",
      " 16  Name           7863 non-null   object \n",
      " 17  Transported    8056 non-null   bool   \n",
      " 18  55 Cancri e    8056 non-null   uint8  \n",
      " 19  PSO J318.5-22  8056 non-null   uint8  \n",
      " 20  TRAPPIST-1e    8056 non-null   uint8  \n",
      " 21  A              8056 non-null   uint8  \n",
      " 22  B              8056 non-null   uint8  \n",
      " 23  C              8056 non-null   uint8  \n",
      " 24  D              8056 non-null   uint8  \n",
      " 25  E              8056 non-null   uint8  \n",
      " 26  F              8056 non-null   uint8  \n",
      " 27  G              8056 non-null   uint8  \n",
      " 28  T              8056 non-null   uint8  \n",
      "dtypes: bool(4), float64(8), object(6), uint8(11)\n",
      "memory usage: 1.3+ MB\n"
     ]
    }
   ],
   "source": [
    "# boolean 변환\n",
    "data['CryoSleep'] = data['CryoSleep'].astype(bool)\n",
    "data['VIP'] = data['VIP'].astype(bool)\n",
    "data['Cabin3'] = data['Cabin3'].astype(bool)\n",
    "data.info()"
   ]
  },
  {
   "cell_type": "code",
   "execution_count": 47,
   "id": "c7c42a4b",
   "metadata": {},
   "outputs": [
    {
     "name": "stdout",
     "output_type": "stream",
     "text": [
      "    PassengerId  HomePlanet  CryoSleep Cabin1  Cabin2 combi  Cabin3   Cabin  \\\n",
      "59      0064_02         NaN       True      E     3.0    E3    True   E/3/S   \n",
      "113     0119_01         NaN      False      A     0.0    A0    True   A/0/P   \n",
      "186     0210_01         NaN       True      D     6.0    D6    True   D/6/P   \n",
      "225     0242_01         NaN      False      F    46.0   F46    True  F/46/S   \n",
      "234     0251_01         NaN       True      C    11.0   C11    True  C/11/S   \n",
      "\n",
      "     Destination   Age  ...  PSO J318.5-22  TRAPPIST-1e  A  B  C  D  E  F  G  \\\n",
      "59   TRAPPIST-1e  33.0  ...              0            1  0  0  0  0  1  0  0   \n",
      "113  TRAPPIST-1e  39.0  ...              0            1  1  0  0  0  0  0  0   \n",
      "186  55 Cancri e  24.0  ...              0            0  0  0  0  1  0  0  0   \n",
      "225  TRAPPIST-1e  18.0  ...              0            1  0  0  0  0  0  1  0   \n",
      "234  55 Cancri e  54.0  ...              0            0  0  0  1  0  0  0  0   \n",
      "\n",
      "     T  \n",
      "59   0  \n",
      "113  0  \n",
      "186  0  \n",
      "225  0  \n",
      "234  0  \n",
      "\n",
      "[5 rows x 29 columns]   PassengerId  HomePlanet  CryoSleep Cabin1  Cabin2 combi  Cabin3  Cabin  \\\n",
      "0     0001_01         1.0      False      B     0.0    B0    True  B/0/P   \n",
      "1     0002_01         0.0      False      F     0.0    F0    True  F/0/S   \n",
      "2     0003_01         1.0      False      A     0.0    A0    True  A/0/S   \n",
      "3     0003_02         1.0      False      A     0.0    A0    True  A/0/S   \n",
      "4     0004_01         0.0      False      F     1.0    F1    True  F/1/S   \n",
      "\n",
      "   Destination   Age  ...  PSO J318.5-22  TRAPPIST-1e  A  B  C  D  E  F  G  T  \n",
      "0  TRAPPIST-1e  39.0  ...              0            1  0  1  0  0  0  0  0  0  \n",
      "1  TRAPPIST-1e  24.0  ...              0            1  0  0  0  0  0  1  0  0  \n",
      "2  TRAPPIST-1e  58.0  ...              0            1  1  0  0  0  0  0  0  0  \n",
      "3  TRAPPIST-1e  33.0  ...              0            1  1  0  0  0  0  0  0  0  \n",
      "4  TRAPPIST-1e  16.0  ...              0            1  0  0  0  0  0  1  0  0  \n",
      "\n",
      "[5 rows x 29 columns]\n"
     ]
    }
   ],
   "source": [
    "print(x.head(), y.head())"
   ]
  },
  {
   "cell_type": "code",
   "execution_count": 50,
   "id": "a904e217",
   "metadata": {},
   "outputs": [
    {
     "data": {
      "text/plain": [
       "Index(['PassengerId', 'HomePlanet', 'CryoSleep', 'Cabin1', 'Cabin2', 'combi',\n",
       "       'Cabin3', 'Cabin', 'Destination', 'Age', 'VIP', 'RoomService',\n",
       "       'FoodCourt', 'ShoppingMall', 'Spa', 'VRDeck', 'Name', 'Transported',\n",
       "       '55 Cancri e', 'PSO J318.5-22', 'TRAPPIST-1e', 'A', 'B', 'C', 'D', 'E',\n",
       "       'F', 'G', 'T'],\n",
       "      dtype='object')"
      ]
     },
     "execution_count": 50,
     "metadata": {},
     "output_type": "execute_result"
    }
   ],
   "source": [
    "y.columns"
   ]
  },
  {
   "cell_type": "code",
   "execution_count": 55,
   "id": "fe6bfd97",
   "metadata": {},
   "outputs": [],
   "source": [
    "data = y.drop(['PassengerId', 'HomePlanet','combi','Cabin1', 'Cabin',\n",
    "               'Destination', 'Age', 'RoomService','FoodCourt',\n",
    "               'ShoppingMall', 'Spa', 'VRDeck', 'Name'],axis=1)\n",
    "label = y['HomePlanet']"
   ]
  },
  {
   "cell_type": "code",
   "execution_count": 56,
   "id": "24c77a47",
   "metadata": {},
   "outputs": [
    {
     "name": "stdout",
     "output_type": "stream",
     "text": [
      "<class 'pandas.core.frame.DataFrame'>\n",
      "Int64Index: 7876 entries, 0 to 8692\n",
      "Data columns (total 16 columns):\n",
      " #   Column         Non-Null Count  Dtype  \n",
      "---  ------         --------------  -----  \n",
      " 0   CryoSleep      7876 non-null   bool   \n",
      " 1   Cabin2         7876 non-null   float64\n",
      " 2   Cabin3         7876 non-null   bool   \n",
      " 3   VIP            7876 non-null   bool   \n",
      " 4   Transported    7876 non-null   bool   \n",
      " 5   55 Cancri e    7876 non-null   uint8  \n",
      " 6   PSO J318.5-22  7876 non-null   uint8  \n",
      " 7   TRAPPIST-1e    7876 non-null   uint8  \n",
      " 8   A              7876 non-null   uint8  \n",
      " 9   B              7876 non-null   uint8  \n",
      " 10  C              7876 non-null   uint8  \n",
      " 11  D              7876 non-null   uint8  \n",
      " 12  E              7876 non-null   uint8  \n",
      " 13  F              7876 non-null   uint8  \n",
      " 14  G              7876 non-null   uint8  \n",
      " 15  T              7876 non-null   uint8  \n",
      "dtypes: bool(4), float64(1), uint8(11)\n",
      "memory usage: 238.4 KB\n"
     ]
    }
   ],
   "source": [
    "data.info()"
   ]
  },
  {
   "cell_type": "code",
   "execution_count": 57,
   "id": "80b7054d",
   "metadata": {},
   "outputs": [
    {
     "data": {
      "text/html": [
       "<style>#sk-container-id-1 {color: black;background-color: white;}#sk-container-id-1 pre{padding: 0;}#sk-container-id-1 div.sk-toggleable {background-color: white;}#sk-container-id-1 label.sk-toggleable__label {cursor: pointer;display: block;width: 100%;margin-bottom: 0;padding: 0.3em;box-sizing: border-box;text-align: center;}#sk-container-id-1 label.sk-toggleable__label-arrow:before {content: \"▸\";float: left;margin-right: 0.25em;color: #696969;}#sk-container-id-1 label.sk-toggleable__label-arrow:hover:before {color: black;}#sk-container-id-1 div.sk-estimator:hover label.sk-toggleable__label-arrow:before {color: black;}#sk-container-id-1 div.sk-toggleable__content {max-height: 0;max-width: 0;overflow: hidden;text-align: left;background-color: #f0f8ff;}#sk-container-id-1 div.sk-toggleable__content pre {margin: 0.2em;color: black;border-radius: 0.25em;background-color: #f0f8ff;}#sk-container-id-1 input.sk-toggleable__control:checked~div.sk-toggleable__content {max-height: 200px;max-width: 100%;overflow: auto;}#sk-container-id-1 input.sk-toggleable__control:checked~label.sk-toggleable__label-arrow:before {content: \"▾\";}#sk-container-id-1 div.sk-estimator input.sk-toggleable__control:checked~label.sk-toggleable__label {background-color: #d4ebff;}#sk-container-id-1 div.sk-label input.sk-toggleable__control:checked~label.sk-toggleable__label {background-color: #d4ebff;}#sk-container-id-1 input.sk-hidden--visually {border: 0;clip: rect(1px 1px 1px 1px);clip: rect(1px, 1px, 1px, 1px);height: 1px;margin: -1px;overflow: hidden;padding: 0;position: absolute;width: 1px;}#sk-container-id-1 div.sk-estimator {font-family: monospace;background-color: #f0f8ff;border: 1px dotted black;border-radius: 0.25em;box-sizing: border-box;margin-bottom: 0.5em;}#sk-container-id-1 div.sk-estimator:hover {background-color: #d4ebff;}#sk-container-id-1 div.sk-parallel-item::after {content: \"\";width: 100%;border-bottom: 1px solid gray;flex-grow: 1;}#sk-container-id-1 div.sk-label:hover label.sk-toggleable__label {background-color: #d4ebff;}#sk-container-id-1 div.sk-serial::before {content: \"\";position: absolute;border-left: 1px solid gray;box-sizing: border-box;top: 0;bottom: 0;left: 50%;z-index: 0;}#sk-container-id-1 div.sk-serial {display: flex;flex-direction: column;align-items: center;background-color: white;padding-right: 0.2em;padding-left: 0.2em;position: relative;}#sk-container-id-1 div.sk-item {position: relative;z-index: 1;}#sk-container-id-1 div.sk-parallel {display: flex;align-items: stretch;justify-content: center;background-color: white;position: relative;}#sk-container-id-1 div.sk-item::before, #sk-container-id-1 div.sk-parallel-item::before {content: \"\";position: absolute;border-left: 1px solid gray;box-sizing: border-box;top: 0;bottom: 0;left: 50%;z-index: -1;}#sk-container-id-1 div.sk-parallel-item {display: flex;flex-direction: column;z-index: 1;position: relative;background-color: white;}#sk-container-id-1 div.sk-parallel-item:first-child::after {align-self: flex-end;width: 50%;}#sk-container-id-1 div.sk-parallel-item:last-child::after {align-self: flex-start;width: 50%;}#sk-container-id-1 div.sk-parallel-item:only-child::after {width: 0;}#sk-container-id-1 div.sk-dashed-wrapped {border: 1px dashed gray;margin: 0 0.4em 0.5em 0.4em;box-sizing: border-box;padding-bottom: 0.4em;background-color: white;}#sk-container-id-1 div.sk-label label {font-family: monospace;font-weight: bold;display: inline-block;line-height: 1.2em;}#sk-container-id-1 div.sk-label-container {text-align: center;}#sk-container-id-1 div.sk-container {/* jupyter's `normalize.less` sets `[hidden] { display: none; }` but bootstrap.min.css set `[hidden] { display: none !important; }` so we also need the `!important` here to be able to override the default hidden behavior on the sphinx rendered scikit-learn.org. See: https://github.com/scikit-learn/scikit-learn/issues/21755 */display: inline-block !important;position: relative;}#sk-container-id-1 div.sk-text-repr-fallback {display: none;}</style><div id=\"sk-container-id-1\" class=\"sk-top-container\"><div class=\"sk-text-repr-fallback\"><pre>RandomForestClassifier(n_jobs=-1, random_state=109)</pre><b>In a Jupyter environment, please rerun this cell to show the HTML representation or trust the notebook. <br />On GitHub, the HTML representation is unable to render, please try loading this page with nbviewer.org.</b></div><div class=\"sk-container\" hidden><div class=\"sk-item\"><div class=\"sk-estimator sk-toggleable\"><input class=\"sk-toggleable__control sk-hidden--visually\" id=\"sk-estimator-id-1\" type=\"checkbox\" checked><label for=\"sk-estimator-id-1\" class=\"sk-toggleable__label sk-toggleable__label-arrow\">RandomForestClassifier</label><div class=\"sk-toggleable__content\"><pre>RandomForestClassifier(n_jobs=-1, random_state=109)</pre></div></div></div></div></div>"
      ],
      "text/plain": [
       "RandomForestClassifier(n_jobs=-1, random_state=109)"
      ]
     },
     "execution_count": 57,
     "metadata": {},
     "output_type": "execute_result"
    }
   ],
   "source": [
    "from sklearn.ensemble import RandomForestClassifier\n",
    "from sklearn.model_selection import GridSearchCV\n",
    "rtc = RandomForestClassifier(n_jobs= -1, random_state= 109)\n",
    "rtc.fit(data, label)"
   ]
  },
  {
   "cell_type": "code",
   "execution_count": 59,
   "id": "bc7b719e",
   "metadata": {
    "scrolled": true
   },
   "outputs": [
    {
     "name": "stdout",
     "output_type": "stream",
     "text": [
      "Fitting 5 folds for each of 625 candidates, totalling 3125 fits\n",
      "최고 평균 정확도 : 0.8682091692853113\n",
      "최고의 파라미터 : {'max_depth': 10, 'min_samples_leaf': 5, 'min_samples_split': 2, 'n_estimators': 50}\n"
     ]
    }
   ],
   "source": [
    "grid = {\n",
    "      'n_estimators' : [25, 50,100,200, 300],\n",
    "      'max_depth' : [5,7,10,12, 14],\n",
    "      'min_samples_leaf' : [1,3,5,7,10],\n",
    "      'min_samples_split' : [2,3,5,7,10],\n",
    "  }\n",
    "\n",
    "rt_grid = GridSearchCV(rtc, param_grid = grid, scoring=\"accuracy\", cv=5, n_jobs=-1, verbose =1)\n",
    "\n",
    "rt_grid.fit(data,label)\n",
    "\n",
    "print(\"최고 평균 정확도 : {}\".format(rt_grid.best_score_))\n",
    "print(\"최고의 파라미터 :\", rt_grid.best_params_)"
   ]
  },
  {
   "cell_type": "code",
   "execution_count": 63,
   "id": "df903dc2",
   "metadata": {},
   "outputs": [],
   "source": [
    "from sklearn.metrics import accuracy_score, confusion_matrix"
   ]
  },
  {
   "cell_type": "code",
   "execution_count": 62,
   "id": "df405954",
   "metadata": {
    "scrolled": true
   },
   "outputs": [
    {
     "name": "stdout",
     "output_type": "stream",
     "text": [
      "정확도 : 0.8789994921279838\n"
     ]
    }
   ],
   "source": [
    "model = RandomForestClassifier(max_depth = 10, min_samples_leaf= 5,\n",
    "                                 min_samples_split= 2, \n",
    "                                 n_estimators= 50, random_state=109)\n",
    "model.fit(data,label)\n",
    "# 예측 \n",
    "pred = model.predict(data)\n",
    "print('정확도 :', accuracy_score(label, pred))"
   ]
  },
  {
   "cell_type": "code",
   "execution_count": 64,
   "id": "97161de8",
   "metadata": {},
   "outputs": [
    {
     "data": {
      "text/plain": [
       "array([[4239,    2,   21],\n",
       "       [  57, 1812,  125],\n",
       "       [ 713,   35,  872]], dtype=int64)"
      ]
     },
     "execution_count": 64,
     "metadata": {},
     "output_type": "execute_result"
    }
   ],
   "source": [
    "confusion_matrix(label,pred)"
   ]
  },
  {
   "cell_type": "markdown",
   "id": "39c01ccb",
   "metadata": {},
   "source": [
    "# 원본 예측"
   ]
  },
  {
   "cell_type": "code",
   "execution_count": 67,
   "id": "bd6d75b1",
   "metadata": {},
   "outputs": [],
   "source": [
    "target = x.drop(['PassengerId', 'HomePlanet','combi','Cabin1', 'Cabin',\n",
    "               'Destination', 'Age', 'RoomService','FoodCourt',\n",
    "               'ShoppingMall', 'Spa', 'VRDeck', 'Name'],axis=1)\n",
    "test = x['HomePlanet']"
   ]
  },
  {
   "cell_type": "code",
   "execution_count": 75,
   "id": "26688dc6",
   "metadata": {},
   "outputs": [],
   "source": [
    "model = RandomForestClassifier(max_depth = 10, min_samples_leaf= 5,\n",
    "                                 min_samples_split= 2, \n",
    "                                 n_estimators= 50, random_state=109)\n",
    "model.fit(data,label)\n",
    "x['HomePlanet'] = model.predict(target)"
   ]
  },
  {
   "cell_type": "code",
   "execution_count": 76,
   "id": "cfe44a41",
   "metadata": {},
   "outputs": [
    {
     "data": {
      "text/html": [
       "<div>\n",
       "<style scoped>\n",
       "    .dataframe tbody tr th:only-of-type {\n",
       "        vertical-align: middle;\n",
       "    }\n",
       "\n",
       "    .dataframe tbody tr th {\n",
       "        vertical-align: top;\n",
       "    }\n",
       "\n",
       "    .dataframe thead th {\n",
       "        text-align: right;\n",
       "    }\n",
       "</style>\n",
       "<table border=\"1\" class=\"dataframe\">\n",
       "  <thead>\n",
       "    <tr style=\"text-align: right;\">\n",
       "      <th></th>\n",
       "      <th>PassengerId</th>\n",
       "      <th>HomePlanet</th>\n",
       "      <th>CryoSleep</th>\n",
       "      <th>Cabin1</th>\n",
       "      <th>Cabin2</th>\n",
       "      <th>combi</th>\n",
       "      <th>Cabin3</th>\n",
       "      <th>Cabin</th>\n",
       "      <th>Destination</th>\n",
       "      <th>Age</th>\n",
       "      <th>...</th>\n",
       "      <th>PSO J318.5-22</th>\n",
       "      <th>TRAPPIST-1e</th>\n",
       "      <th>A</th>\n",
       "      <th>B</th>\n",
       "      <th>C</th>\n",
       "      <th>D</th>\n",
       "      <th>E</th>\n",
       "      <th>F</th>\n",
       "      <th>G</th>\n",
       "      <th>T</th>\n",
       "    </tr>\n",
       "  </thead>\n",
       "  <tbody>\n",
       "    <tr>\n",
       "      <th>59</th>\n",
       "      <td>0064_02</td>\n",
       "      <td>2.0</td>\n",
       "      <td>True</td>\n",
       "      <td>E</td>\n",
       "      <td>3.0</td>\n",
       "      <td>E3</td>\n",
       "      <td>True</td>\n",
       "      <td>E/3/S</td>\n",
       "      <td>TRAPPIST-1e</td>\n",
       "      <td>33.0</td>\n",
       "      <td>...</td>\n",
       "      <td>0</td>\n",
       "      <td>1</td>\n",
       "      <td>0</td>\n",
       "      <td>0</td>\n",
       "      <td>0</td>\n",
       "      <td>0</td>\n",
       "      <td>1</td>\n",
       "      <td>0</td>\n",
       "      <td>0</td>\n",
       "      <td>0</td>\n",
       "    </tr>\n",
       "    <tr>\n",
       "      <th>113</th>\n",
       "      <td>0119_01</td>\n",
       "      <td>1.0</td>\n",
       "      <td>False</td>\n",
       "      <td>A</td>\n",
       "      <td>0.0</td>\n",
       "      <td>A0</td>\n",
       "      <td>True</td>\n",
       "      <td>A/0/P</td>\n",
       "      <td>TRAPPIST-1e</td>\n",
       "      <td>39.0</td>\n",
       "      <td>...</td>\n",
       "      <td>0</td>\n",
       "      <td>1</td>\n",
       "      <td>1</td>\n",
       "      <td>0</td>\n",
       "      <td>0</td>\n",
       "      <td>0</td>\n",
       "      <td>0</td>\n",
       "      <td>0</td>\n",
       "      <td>0</td>\n",
       "      <td>0</td>\n",
       "    </tr>\n",
       "    <tr>\n",
       "      <th>186</th>\n",
       "      <td>0210_01</td>\n",
       "      <td>1.0</td>\n",
       "      <td>True</td>\n",
       "      <td>D</td>\n",
       "      <td>6.0</td>\n",
       "      <td>D6</td>\n",
       "      <td>True</td>\n",
       "      <td>D/6/P</td>\n",
       "      <td>55 Cancri e</td>\n",
       "      <td>24.0</td>\n",
       "      <td>...</td>\n",
       "      <td>0</td>\n",
       "      <td>0</td>\n",
       "      <td>0</td>\n",
       "      <td>0</td>\n",
       "      <td>0</td>\n",
       "      <td>1</td>\n",
       "      <td>0</td>\n",
       "      <td>0</td>\n",
       "      <td>0</td>\n",
       "      <td>0</td>\n",
       "    </tr>\n",
       "    <tr>\n",
       "      <th>225</th>\n",
       "      <td>0242_01</td>\n",
       "      <td>0.0</td>\n",
       "      <td>False</td>\n",
       "      <td>F</td>\n",
       "      <td>46.0</td>\n",
       "      <td>F46</td>\n",
       "      <td>True</td>\n",
       "      <td>F/46/S</td>\n",
       "      <td>TRAPPIST-1e</td>\n",
       "      <td>18.0</td>\n",
       "      <td>...</td>\n",
       "      <td>0</td>\n",
       "      <td>1</td>\n",
       "      <td>0</td>\n",
       "      <td>0</td>\n",
       "      <td>0</td>\n",
       "      <td>0</td>\n",
       "      <td>0</td>\n",
       "      <td>1</td>\n",
       "      <td>0</td>\n",
       "      <td>0</td>\n",
       "    </tr>\n",
       "    <tr>\n",
       "      <th>234</th>\n",
       "      <td>0251_01</td>\n",
       "      <td>1.0</td>\n",
       "      <td>True</td>\n",
       "      <td>C</td>\n",
       "      <td>11.0</td>\n",
       "      <td>C11</td>\n",
       "      <td>True</td>\n",
       "      <td>C/11/S</td>\n",
       "      <td>55 Cancri e</td>\n",
       "      <td>54.0</td>\n",
       "      <td>...</td>\n",
       "      <td>0</td>\n",
       "      <td>0</td>\n",
       "      <td>0</td>\n",
       "      <td>0</td>\n",
       "      <td>1</td>\n",
       "      <td>0</td>\n",
       "      <td>0</td>\n",
       "      <td>0</td>\n",
       "      <td>0</td>\n",
       "      <td>0</td>\n",
       "    </tr>\n",
       "  </tbody>\n",
       "</table>\n",
       "<p>5 rows × 29 columns</p>\n",
       "</div>"
      ],
      "text/plain": [
       "    PassengerId  HomePlanet  CryoSleep Cabin1  Cabin2 combi  Cabin3   Cabin  \\\n",
       "59      0064_02         2.0       True      E     3.0    E3    True   E/3/S   \n",
       "113     0119_01         1.0      False      A     0.0    A0    True   A/0/P   \n",
       "186     0210_01         1.0       True      D     6.0    D6    True   D/6/P   \n",
       "225     0242_01         0.0      False      F    46.0   F46    True  F/46/S   \n",
       "234     0251_01         1.0       True      C    11.0   C11    True  C/11/S   \n",
       "\n",
       "     Destination   Age  ...  PSO J318.5-22  TRAPPIST-1e  A  B  C  D  E  F  G  \\\n",
       "59   TRAPPIST-1e  33.0  ...              0            1  0  0  0  0  1  0  0   \n",
       "113  TRAPPIST-1e  39.0  ...              0            1  1  0  0  0  0  0  0   \n",
       "186  55 Cancri e  24.0  ...              0            0  0  0  0  1  0  0  0   \n",
       "225  TRAPPIST-1e  18.0  ...              0            1  0  0  0  0  0  1  0   \n",
       "234  55 Cancri e  54.0  ...              0            0  0  0  1  0  0  0  0   \n",
       "\n",
       "     T  \n",
       "59   0  \n",
       "113  0  \n",
       "186  0  \n",
       "225  0  \n",
       "234  0  \n",
       "\n",
       "[5 rows x 29 columns]"
      ]
     },
     "execution_count": 76,
     "metadata": {},
     "output_type": "execute_result"
    }
   ],
   "source": [
    "x.head()"
   ]
  },
  {
   "cell_type": "code",
   "execution_count": 77,
   "id": "3f084fdb",
   "metadata": {},
   "outputs": [],
   "source": [
    "x['HomePlanet'] = x['HomePlanet'].map({0.0:'Earth',1.0:'Europa',2.0:'Mars' })"
   ]
  },
  {
   "cell_type": "code",
   "execution_count": 78,
   "id": "eee87501",
   "metadata": {},
   "outputs": [
    {
     "data": {
      "text/html": [
       "<div>\n",
       "<style scoped>\n",
       "    .dataframe tbody tr th:only-of-type {\n",
       "        vertical-align: middle;\n",
       "    }\n",
       "\n",
       "    .dataframe tbody tr th {\n",
       "        vertical-align: top;\n",
       "    }\n",
       "\n",
       "    .dataframe thead th {\n",
       "        text-align: right;\n",
       "    }\n",
       "</style>\n",
       "<table border=\"1\" class=\"dataframe\">\n",
       "  <thead>\n",
       "    <tr style=\"text-align: right;\">\n",
       "      <th></th>\n",
       "      <th>PassengerId</th>\n",
       "      <th>HomePlanet</th>\n",
       "      <th>CryoSleep</th>\n",
       "      <th>Cabin1</th>\n",
       "      <th>Cabin2</th>\n",
       "      <th>combi</th>\n",
       "      <th>Cabin3</th>\n",
       "      <th>Cabin</th>\n",
       "      <th>Destination</th>\n",
       "      <th>Age</th>\n",
       "      <th>...</th>\n",
       "      <th>PSO J318.5-22</th>\n",
       "      <th>TRAPPIST-1e</th>\n",
       "      <th>A</th>\n",
       "      <th>B</th>\n",
       "      <th>C</th>\n",
       "      <th>D</th>\n",
       "      <th>E</th>\n",
       "      <th>F</th>\n",
       "      <th>G</th>\n",
       "      <th>T</th>\n",
       "    </tr>\n",
       "  </thead>\n",
       "  <tbody>\n",
       "    <tr>\n",
       "      <th>59</th>\n",
       "      <td>0064_02</td>\n",
       "      <td>Mars</td>\n",
       "      <td>True</td>\n",
       "      <td>E</td>\n",
       "      <td>3.0</td>\n",
       "      <td>E3</td>\n",
       "      <td>True</td>\n",
       "      <td>E/3/S</td>\n",
       "      <td>TRAPPIST-1e</td>\n",
       "      <td>33.0</td>\n",
       "      <td>...</td>\n",
       "      <td>0</td>\n",
       "      <td>1</td>\n",
       "      <td>0</td>\n",
       "      <td>0</td>\n",
       "      <td>0</td>\n",
       "      <td>0</td>\n",
       "      <td>1</td>\n",
       "      <td>0</td>\n",
       "      <td>0</td>\n",
       "      <td>0</td>\n",
       "    </tr>\n",
       "    <tr>\n",
       "      <th>113</th>\n",
       "      <td>0119_01</td>\n",
       "      <td>Europa</td>\n",
       "      <td>False</td>\n",
       "      <td>A</td>\n",
       "      <td>0.0</td>\n",
       "      <td>A0</td>\n",
       "      <td>True</td>\n",
       "      <td>A/0/P</td>\n",
       "      <td>TRAPPIST-1e</td>\n",
       "      <td>39.0</td>\n",
       "      <td>...</td>\n",
       "      <td>0</td>\n",
       "      <td>1</td>\n",
       "      <td>1</td>\n",
       "      <td>0</td>\n",
       "      <td>0</td>\n",
       "      <td>0</td>\n",
       "      <td>0</td>\n",
       "      <td>0</td>\n",
       "      <td>0</td>\n",
       "      <td>0</td>\n",
       "    </tr>\n",
       "    <tr>\n",
       "      <th>186</th>\n",
       "      <td>0210_01</td>\n",
       "      <td>Europa</td>\n",
       "      <td>True</td>\n",
       "      <td>D</td>\n",
       "      <td>6.0</td>\n",
       "      <td>D6</td>\n",
       "      <td>True</td>\n",
       "      <td>D/6/P</td>\n",
       "      <td>55 Cancri e</td>\n",
       "      <td>24.0</td>\n",
       "      <td>...</td>\n",
       "      <td>0</td>\n",
       "      <td>0</td>\n",
       "      <td>0</td>\n",
       "      <td>0</td>\n",
       "      <td>0</td>\n",
       "      <td>1</td>\n",
       "      <td>0</td>\n",
       "      <td>0</td>\n",
       "      <td>0</td>\n",
       "      <td>0</td>\n",
       "    </tr>\n",
       "    <tr>\n",
       "      <th>225</th>\n",
       "      <td>0242_01</td>\n",
       "      <td>Earth</td>\n",
       "      <td>False</td>\n",
       "      <td>F</td>\n",
       "      <td>46.0</td>\n",
       "      <td>F46</td>\n",
       "      <td>True</td>\n",
       "      <td>F/46/S</td>\n",
       "      <td>TRAPPIST-1e</td>\n",
       "      <td>18.0</td>\n",
       "      <td>...</td>\n",
       "      <td>0</td>\n",
       "      <td>1</td>\n",
       "      <td>0</td>\n",
       "      <td>0</td>\n",
       "      <td>0</td>\n",
       "      <td>0</td>\n",
       "      <td>0</td>\n",
       "      <td>1</td>\n",
       "      <td>0</td>\n",
       "      <td>0</td>\n",
       "    </tr>\n",
       "    <tr>\n",
       "      <th>234</th>\n",
       "      <td>0251_01</td>\n",
       "      <td>Europa</td>\n",
       "      <td>True</td>\n",
       "      <td>C</td>\n",
       "      <td>11.0</td>\n",
       "      <td>C11</td>\n",
       "      <td>True</td>\n",
       "      <td>C/11/S</td>\n",
       "      <td>55 Cancri e</td>\n",
       "      <td>54.0</td>\n",
       "      <td>...</td>\n",
       "      <td>0</td>\n",
       "      <td>0</td>\n",
       "      <td>0</td>\n",
       "      <td>0</td>\n",
       "      <td>1</td>\n",
       "      <td>0</td>\n",
       "      <td>0</td>\n",
       "      <td>0</td>\n",
       "      <td>0</td>\n",
       "      <td>0</td>\n",
       "    </tr>\n",
       "  </tbody>\n",
       "</table>\n",
       "<p>5 rows × 29 columns</p>\n",
       "</div>"
      ],
      "text/plain": [
       "    PassengerId HomePlanet  CryoSleep Cabin1  Cabin2 combi  Cabin3   Cabin  \\\n",
       "59      0064_02       Mars       True      E     3.0    E3    True   E/3/S   \n",
       "113     0119_01     Europa      False      A     0.0    A0    True   A/0/P   \n",
       "186     0210_01     Europa       True      D     6.0    D6    True   D/6/P   \n",
       "225     0242_01      Earth      False      F    46.0   F46    True  F/46/S   \n",
       "234     0251_01     Europa       True      C    11.0   C11    True  C/11/S   \n",
       "\n",
       "     Destination   Age  ...  PSO J318.5-22  TRAPPIST-1e  A  B  C  D  E  F  G  \\\n",
       "59   TRAPPIST-1e  33.0  ...              0            1  0  0  0  0  1  0  0   \n",
       "113  TRAPPIST-1e  39.0  ...              0            1  1  0  0  0  0  0  0   \n",
       "186  55 Cancri e  24.0  ...              0            0  0  0  0  1  0  0  0   \n",
       "225  TRAPPIST-1e  18.0  ...              0            1  0  0  0  0  0  1  0   \n",
       "234  55 Cancri e  54.0  ...              0            0  0  0  1  0  0  0  0   \n",
       "\n",
       "     T  \n",
       "59   0  \n",
       "113  0  \n",
       "186  0  \n",
       "225  0  \n",
       "234  0  \n",
       "\n",
       "[5 rows x 29 columns]"
      ]
     },
     "execution_count": 78,
     "metadata": {},
     "output_type": "execute_result"
    }
   ],
   "source": [
    "x.head()"
   ]
  },
  {
   "cell_type": "code",
   "execution_count": null,
   "id": "11468466",
   "metadata": {},
   "outputs": [],
   "source": []
  }
 ],
 "metadata": {
  "kernelspec": {
   "display_name": "Python 3 (ipykernel)",
   "language": "python",
   "name": "python3"
  },
  "language_info": {
   "codemirror_mode": {
    "name": "ipython",
    "version": 3
   },
   "file_extension": ".py",
   "mimetype": "text/x-python",
   "name": "python",
   "nbconvert_exporter": "python",
   "pygments_lexer": "ipython3",
   "version": "3.9.7"
  },
  "toc": {
   "base_numbering": 1,
   "nav_menu": {},
   "number_sections": true,
   "sideBar": true,
   "skip_h1_title": false,
   "title_cell": "Table of Contents",
   "title_sidebar": "Contents",
   "toc_cell": false,
   "toc_position": {},
   "toc_section_display": true,
   "toc_window_display": false
  }
 },
 "nbformat": 4,
 "nbformat_minor": 5
}
