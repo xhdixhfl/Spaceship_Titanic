{
  "cells": [
    {
      "cell_type": "markdown",
      "metadata": {
        "id": "view-in-github",
        "colab_type": "text"
      },
      "source": [
        "<a href=\"https://colab.research.google.com/github/xhdixhfl/Spaceship_Titanic/blob/main/Stacking_Ensemble.ipynb\" target=\"_parent\"><img src=\"https://colab.research.google.com/assets/colab-badge.svg\" alt=\"Open In Colab\"/></a>"
      ]
    },
    {
      "cell_type": "markdown",
      "id": "e36151e8",
      "metadata": {
        "id": "e36151e8"
      },
      "source": [
        "# 라이브러리 호출"
      ]
    },
    {
      "cell_type": "code",
      "execution_count": null,
      "id": "93a37513",
      "metadata": {
        "ExecuteTime": {
          "end_time": "2022-11-23T08:07:22.867054Z",
          "start_time": "2022-11-23T08:07:20.994458Z"
        },
        "id": "93a37513",
        "outputId": "6389ecde-152f-447f-ba18-3f9d651c254c"
      },
      "outputs": [
        {
          "name": "stderr",
          "output_type": "stream",
          "text": [
            "[nltk_data] Downloading package names to\n",
            "[nltk_data]     C:\\Users\\admin\\AppData\\Roaming\\nltk_data...\n",
            "[nltk_data]   Package names is already up-to-date!\n"
          ]
        }
      ],
      "source": [
        "import numpy as np # Numpy\n",
        "import pandas as pd # Pandas\n",
        "import matplotlib as mpl #Matplotlib 세팅용\n",
        "import matplotlib.pyplot as plt # 시각화 도구\n",
        "import seaborn as sns # 시각화 도구\n",
        "from sklearn.model_selection import train_test_split # 데이터셋 분리\n",
        "from sklearn.model_selection import KFold # KFold 교차검증\n",
        "from sklearn.cluster import KMeans # 클러스터링\n",
        "from sklearn.metrics import silhouette_score # 실루엣 점수\n",
        "import xgboost as xgb # XGBoost\n",
        "from xgboost import XGBClassifier\n",
        "from lightgbm import LGBMClassifier\n",
        "from sklearn.model_selection import GridSearchCV # 그리드 서치\n",
        "from sklearn.model_selection import cross_val_score\n",
        "from sklearn.metrics import accuracy_score, precision_score # 평가 지표\n",
        "from sklearn.metrics import recall_score, confusion_matrix, roc_auc_score, f1_score # 평가 지표\n",
        "from imblearn.combine import SMOTEENN, SMOTETomek # 복합샘플링\n",
        "from hyperopt import hp, fmin, tpe, Trials, STATUS_OK # HyperOPT\n",
        "from nltk.corpus import names # nltk\n",
        "import nltk\n",
        "nltk.download(\"names\")\n",
        "from nltk import NaiveBayesClassifier\n",
        "from scipy import stats\n",
        "from collections import Counter\n",
        "import random\n",
        "# for stacking ensemble\n",
        "from sklearn.neighbors import KNeighborsClassifier\n",
        "from sklearn.ensemble import RandomForestClassifier\n",
        "from sklearn.ensemble import AdaBoostClassifier\n",
        "from sklearn.tree import DecisionTreeClassifier\n",
        "from sklearn.linear_model import LogisticRegression\n",
        "# cv스태밍\n",
        "from sklearn.metrics import mean_absolute_error\n",
        "\n",
        "\n",
        "import warnings # 경고문 제거용\n",
        "\n",
        "\n",
        "%matplotlib inline\n",
        "%config Inlinebackend.figure_format = 'retina'\n",
        "\n",
        "# 한글 폰트 설정\n",
        "mpl.rc('font', family='batang')\n",
        "# 유니코드에서 음수 부호 설정\n",
        "mpl.rc('axes', unicode_minus = False)\n",
        "\n",
        "warnings.filterwarnings('ignore')\n",
        "sns.set(font=\"batang\", rc={\"axes.unicode_minus\":False}, style='whitegrid')\n",
        "plt.rc('figure', figsize=(10,8))"
      ]
    },
    {
      "cell_type": "markdown",
      "id": "4ec34e8c",
      "metadata": {
        "id": "4ec34e8c"
      },
      "source": [
        "# 데이터로딩"
      ]
    },
    {
      "cell_type": "code",
      "execution_count": null,
      "id": "1bcaa6f0",
      "metadata": {
        "ExecuteTime": {
          "end_time": "2022-11-23T08:07:25.204619Z",
          "start_time": "2022-11-23T08:07:22.869050Z"
        },
        "id": "1bcaa6f0",
        "outputId": "8e3db10f-3b3d-4699-d46c-bddd08826550"
      },
      "outputs": [
        {
          "name": "stdout",
          "output_type": "stream",
          "text": [
            "<class 'pandas.core.frame.DataFrame'>\n",
            "RangeIndex: 8693 entries, 0 to 8692\n",
            "Data columns (total 18 columns):\n",
            " #   Column        Non-Null Count  Dtype  \n",
            "---  ------        --------------  -----  \n",
            " 0   PassengerId   8693 non-null   object \n",
            " 1   HomePlanet    8693 non-null   object \n",
            " 2   CryoSleep     8693 non-null   bool   \n",
            " 3   Cabin1        8590 non-null   object \n",
            " 4   Cabin2        8590 non-null   float64\n",
            " 5   Combi         8590 non-null   object \n",
            " 6   Cabin3        8590 non-null   object \n",
            " 7   Cabin         8590 non-null   object \n",
            " 8   Destination   8693 non-null   object \n",
            " 9   Age           8693 non-null   int64  \n",
            " 10  VIP           8693 non-null   bool   \n",
            " 11  RoomService   8693 non-null   int64  \n",
            " 12  FoodCourt     8693 non-null   int64  \n",
            " 13  ShoppingMall  8693 non-null   int64  \n",
            " 14  Spa           8693 non-null   int64  \n",
            " 15  VRDeck        8693 non-null   int64  \n",
            " 16  Name          8493 non-null   object \n",
            " 17  Transported   8693 non-null   bool   \n",
            "dtypes: bool(3), float64(1), int64(6), object(8)\n",
            "memory usage: 1.0+ MB\n"
          ]
        }
      ],
      "source": [
        "data = pd.read_excel('train_test_na_filled.xlsx', sheet_name='Train')\n",
        "data.info()"
      ]
    },
    {
      "cell_type": "code",
      "execution_count": null,
      "id": "7add291b",
      "metadata": {
        "ExecuteTime": {
          "end_time": "2022-11-23T08:07:26.510579Z",
          "start_time": "2022-11-23T08:07:25.205615Z"
        },
        "id": "7add291b",
        "outputId": "9ee4a944-8541-4237-fef5-5b24360db77f"
      },
      "outputs": [
        {
          "data": {
            "text/html": [
              "<div>\n",
              "<style scoped>\n",
              "    .dataframe tbody tr th:only-of-type {\n",
              "        vertical-align: middle;\n",
              "    }\n",
              "\n",
              "    .dataframe tbody tr th {\n",
              "        vertical-align: top;\n",
              "    }\n",
              "\n",
              "    .dataframe thead th {\n",
              "        text-align: right;\n",
              "    }\n",
              "</style>\n",
              "<table border=\"1\" class=\"dataframe\">\n",
              "  <thead>\n",
              "    <tr style=\"text-align: right;\">\n",
              "      <th></th>\n",
              "      <th>PassengerId</th>\n",
              "      <th>HomePlanet</th>\n",
              "      <th>CryoSleep</th>\n",
              "      <th>Cabin1</th>\n",
              "      <th>Cabin2</th>\n",
              "      <th>Combi</th>\n",
              "      <th>Cabin3</th>\n",
              "      <th>Cabin</th>\n",
              "      <th>Destination</th>\n",
              "      <th>Age</th>\n",
              "      <th>VIP</th>\n",
              "      <th>RoomService</th>\n",
              "      <th>FoodCourt</th>\n",
              "      <th>ShoppingMall</th>\n",
              "      <th>Spa</th>\n",
              "      <th>VRDeck</th>\n",
              "      <th>Name</th>\n",
              "      <th>Transported</th>\n",
              "    </tr>\n",
              "  </thead>\n",
              "  <tbody>\n",
              "    <tr>\n",
              "      <th>0</th>\n",
              "      <td>0013_01</td>\n",
              "      <td>Earth</td>\n",
              "      <td>True</td>\n",
              "      <td>G</td>\n",
              "      <td>3.0</td>\n",
              "      <td>G3</td>\n",
              "      <td>S</td>\n",
              "      <td>G/3/S</td>\n",
              "      <td>TRAPPIST-1e</td>\n",
              "      <td>27</td>\n",
              "      <td>False</td>\n",
              "      <td>0</td>\n",
              "      <td>0</td>\n",
              "      <td>0</td>\n",
              "      <td>0</td>\n",
              "      <td>0</td>\n",
              "      <td>Nelly Carsoning</td>\n",
              "      <td>NaN</td>\n",
              "    </tr>\n",
              "    <tr>\n",
              "      <th>1</th>\n",
              "      <td>0018_01</td>\n",
              "      <td>Earth</td>\n",
              "      <td>False</td>\n",
              "      <td>F</td>\n",
              "      <td>4.0</td>\n",
              "      <td>F4</td>\n",
              "      <td>S</td>\n",
              "      <td>F/4/S</td>\n",
              "      <td>TRAPPIST-1e</td>\n",
              "      <td>19</td>\n",
              "      <td>False</td>\n",
              "      <td>0</td>\n",
              "      <td>9</td>\n",
              "      <td>0</td>\n",
              "      <td>2823</td>\n",
              "      <td>0</td>\n",
              "      <td>Lerome Peckers</td>\n",
              "      <td>NaN</td>\n",
              "    </tr>\n",
              "    <tr>\n",
              "      <th>2</th>\n",
              "      <td>0019_01</td>\n",
              "      <td>Europa</td>\n",
              "      <td>True</td>\n",
              "      <td>C</td>\n",
              "      <td>0.0</td>\n",
              "      <td>C0</td>\n",
              "      <td>S</td>\n",
              "      <td>C/0/S</td>\n",
              "      <td>55 Cancri e</td>\n",
              "      <td>31</td>\n",
              "      <td>False</td>\n",
              "      <td>0</td>\n",
              "      <td>0</td>\n",
              "      <td>0</td>\n",
              "      <td>0</td>\n",
              "      <td>0</td>\n",
              "      <td>Sabih Unhearfus</td>\n",
              "      <td>NaN</td>\n",
              "    </tr>\n",
              "    <tr>\n",
              "      <th>3</th>\n",
              "      <td>0021_01</td>\n",
              "      <td>Europa</td>\n",
              "      <td>False</td>\n",
              "      <td>C</td>\n",
              "      <td>1.0</td>\n",
              "      <td>C1</td>\n",
              "      <td>S</td>\n",
              "      <td>C/1/S</td>\n",
              "      <td>TRAPPIST-1e</td>\n",
              "      <td>38</td>\n",
              "      <td>False</td>\n",
              "      <td>0</td>\n",
              "      <td>6652</td>\n",
              "      <td>0</td>\n",
              "      <td>181</td>\n",
              "      <td>585</td>\n",
              "      <td>Meratz Caltilter</td>\n",
              "      <td>NaN</td>\n",
              "    </tr>\n",
              "    <tr>\n",
              "      <th>4</th>\n",
              "      <td>0023_01</td>\n",
              "      <td>Earth</td>\n",
              "      <td>False</td>\n",
              "      <td>F</td>\n",
              "      <td>5.0</td>\n",
              "      <td>F5</td>\n",
              "      <td>S</td>\n",
              "      <td>F/5/S</td>\n",
              "      <td>TRAPPIST-1e</td>\n",
              "      <td>20</td>\n",
              "      <td>False</td>\n",
              "      <td>10</td>\n",
              "      <td>0</td>\n",
              "      <td>635</td>\n",
              "      <td>0</td>\n",
              "      <td>0</td>\n",
              "      <td>Brence Harperez</td>\n",
              "      <td>NaN</td>\n",
              "    </tr>\n",
              "  </tbody>\n",
              "</table>\n",
              "</div>"
            ],
            "text/plain": [
              "  PassengerId HomePlanet  CryoSleep Cabin1  Cabin2 Combi Cabin3  Cabin  \\\n",
              "0     0013_01      Earth       True      G     3.0    G3      S  G/3/S   \n",
              "1     0018_01      Earth      False      F     4.0    F4      S  F/4/S   \n",
              "2     0019_01     Europa       True      C     0.0    C0      S  C/0/S   \n",
              "3     0021_01     Europa      False      C     1.0    C1      S  C/1/S   \n",
              "4     0023_01      Earth      False      F     5.0    F5      S  F/5/S   \n",
              "\n",
              "   Destination  Age    VIP  RoomService  FoodCourt  ShoppingMall   Spa  \\\n",
              "0  TRAPPIST-1e   27  False            0          0             0     0   \n",
              "1  TRAPPIST-1e   19  False            0          9             0  2823   \n",
              "2  55 Cancri e   31  False            0          0             0     0   \n",
              "3  TRAPPIST-1e   38  False            0       6652             0   181   \n",
              "4  TRAPPIST-1e   20  False           10          0           635     0   \n",
              "\n",
              "   VRDeck              Name  Transported  \n",
              "0       0   Nelly Carsoning          NaN  \n",
              "1       0    Lerome Peckers          NaN  \n",
              "2       0   Sabih Unhearfus          NaN  \n",
              "3     585  Meratz Caltilter          NaN  \n",
              "4       0   Brence Harperez          NaN  "
            ]
          },
          "execution_count": 3,
          "metadata": {},
          "output_type": "execute_result"
        }
      ],
      "source": [
        "test = pd.read_excel('train_test_na_filled.xlsx', sheet_name='Test')\n",
        "test.head()"
      ]
    },
    {
      "cell_type": "markdown",
      "id": "c6815030",
      "metadata": {
        "id": "c6815030"
      },
      "source": [
        "# 탐색"
      ]
    },
    {
      "cell_type": "markdown",
      "id": "110e02ce",
      "metadata": {
        "id": "110e02ce"
      },
      "source": [
        "## ANOVA 분석"
      ]
    },
    {
      "cell_type": "code",
      "execution_count": null,
      "id": "49910a0f",
      "metadata": {
        "ExecuteTime": {
          "end_time": "2022-11-23T08:07:26.555717Z",
          "start_time": "2022-11-23T08:07:26.512574Z"
        },
        "scrolled": true,
        "id": "49910a0f",
        "outputId": "224b6f1a-8493-40ce-abd6-16d8a6afe47f"
      },
      "outputs": [
        {
          "name": "stdout",
          "output_type": "stream",
          "text": [
            "Cabin2 is not an important feature for prediction\n",
            "Age is important feature for prediction\n",
            "RoomService is important feature for prediction\n",
            "FoodCourt is important feature for prediction\n",
            "ShoppingMall is not an important feature for prediction\n",
            "Spa is important feature for prediction\n",
            "VRDeck is important feature for prediction\n"
          ]
        }
      ],
      "source": [
        "numeric_data = [column for column in data.select_dtypes([\"int\", \"float\"])]\n",
        "\n",
        "for column in numeric_data:\n",
        "    df_anova = data[[column,'Transported']]\n",
        "    grouped_anova = df_anova.groupby(['Transported'])\n",
        "    f_value, p_value = stats.f_oneway(grouped_anova.get_group(True)[column],\n",
        "                                    grouped_anova.get_group(False)[column])\n",
        "    result = \"\"\n",
        "    if p_value < 0.05:\n",
        "        result = \"{} is important feature for prediction\".format(column)\n",
        "    else:\n",
        "        result = \"{} is not an important feature for prediction\".format(column)\n",
        "    print(result)"
      ]
    },
    {
      "cell_type": "code",
      "execution_count": null,
      "id": "bd761bd6",
      "metadata": {
        "ExecuteTime": {
          "end_time": "2022-11-23T08:07:26.570440Z",
          "start_time": "2022-11-23T08:07:26.557454Z"
        },
        "id": "bd761bd6"
      },
      "outputs": [],
      "source": [
        "def outlier_detection_train(df, n, columns):\n",
        "    rows = []\n",
        "    will_drop_train = []\n",
        "    for col in columns:\n",
        "        Q1 = np.nanpercentile(df[col], 25)\n",
        "        Q3 = np.nanpercentile(df[col], 75)\n",
        "        IQR = Q3 - Q1\n",
        "        outlier_point = 1.5 * IQR\n",
        "        rows.extend(df[(df[col] < Q1 - outlier_point)|(df[col] > Q3 + outlier_point)].index)\n",
        "    for r, c in Counter(rows).items():\n",
        "        if c >= n: will_drop_train.append(r)\n",
        "    return will_drop_train"
      ]
    },
    {
      "cell_type": "code",
      "execution_count": null,
      "id": "d2d05ec3",
      "metadata": {
        "ExecuteTime": {
          "end_time": "2022-11-23T08:07:26.585418Z",
          "start_time": "2022-11-23T08:07:26.571416Z"
        },
        "scrolled": true,
        "id": "d2d05ec3"
      },
      "outputs": [],
      "source": [
        "data.drop('Cabin2', inplace=True, axis=1)"
      ]
    },
    {
      "cell_type": "code",
      "execution_count": null,
      "id": "5a9c24b1",
      "metadata": {
        "ExecuteTime": {
          "end_time": "2022-11-23T08:07:26.600867Z",
          "start_time": "2022-11-23T08:07:26.586376Z"
        },
        "id": "5a9c24b1"
      },
      "outputs": [],
      "source": [
        "test.drop('Cabin2', inplace=True, axis=1)"
      ]
    },
    {
      "cell_type": "code",
      "execution_count": null,
      "id": "6a57b4f7",
      "metadata": {
        "ExecuteTime": {
          "end_time": "2022-11-23T08:07:26.615828Z",
          "start_time": "2022-11-23T08:07:26.601864Z"
        },
        "id": "6a57b4f7",
        "outputId": "ebac86f8-8625-498e-c869-4b73eaa6c5d9"
      },
      "outputs": [
        {
          "data": {
            "text/plain": [
              "Index(['PassengerId', 'HomePlanet', 'CryoSleep', 'Cabin1', 'Combi', 'Cabin3',\n",
              "       'Cabin', 'Destination', 'Age', 'VIP', 'RoomService', 'FoodCourt',\n",
              "       'ShoppingMall', 'Spa', 'VRDeck', 'Name', 'Transported'],\n",
              "      dtype='object')"
            ]
          },
          "execution_count": 8,
          "metadata": {},
          "output_type": "execute_result"
        }
      ],
      "source": [
        "data.columns"
      ]
    },
    {
      "cell_type": "markdown",
      "id": "1476a238",
      "metadata": {
        "id": "1476a238"
      },
      "source": [
        "## 이상치 확인 및 제거"
      ]
    },
    {
      "cell_type": "code",
      "execution_count": null,
      "id": "e18e5389",
      "metadata": {
        "ExecuteTime": {
          "end_time": "2022-11-23T08:07:26.630787Z",
          "start_time": "2022-11-23T08:07:26.616825Z"
        },
        "id": "e18e5389"
      },
      "outputs": [],
      "source": [
        "def outlier_detection_train(df, n, columns):\n",
        "    rows = []\n",
        "    will_drop_train = []\n",
        "    for col in columns:\n",
        "        Q1 = np.nanpercentile(data[col], 25)\n",
        "        Q3 = np.nanpercentile(data[col], 75)\n",
        "        IQR = Q3 - Q1\n",
        "        outlier_point = 1.5 * IQR\n",
        "        rows.extend(df[(df[col] < Q1 - outlier_point)|(df[col] > Q3 + outlier_point)].index)\n",
        "    for r, c in Counter(rows).items():\n",
        "        if c >= n: will_drop_train.append(r)\n",
        "    return will_drop_train"
      ]
    },
    {
      "cell_type": "code",
      "execution_count": null,
      "id": "b51ff506",
      "metadata": {
        "ExecuteTime": {
          "end_time": "2022-11-23T08:07:26.660707Z",
          "start_time": "2022-11-23T08:07:26.633780Z"
        },
        "id": "b51ff506",
        "outputId": "7803598f-2ed3-4345-f11a-c30c5114a1f7"
      },
      "outputs": [
        {
          "data": {
            "text/plain": [
              "[338,\n",
              " 1390,\n",
              " 6469,\n",
              " 7038,\n",
              " 1936,\n",
              " 3317,\n",
              " 3980,\n",
              " 4762,\n",
              " 6509,\n",
              " 7007,\n",
              " 7065,\n",
              " 7294,\n",
              " 7689,\n",
              " 7957,\n",
              " 8064]"
            ]
          },
          "execution_count": 10,
          "metadata": {},
          "output_type": "execute_result"
        }
      ],
      "source": [
        "will_drop_train = outlier_detection_train(data, 5 ,data.select_dtypes([\"float\", \"int\"]).columns)\n",
        "will_drop_train"
      ]
    },
    {
      "cell_type": "code",
      "execution_count": null,
      "id": "e641e1ff",
      "metadata": {
        "ExecuteTime": {
          "end_time": "2022-11-23T08:07:26.675667Z",
          "start_time": "2022-11-23T08:07:26.662706Z"
        },
        "id": "e641e1ff"
      },
      "outputs": [],
      "source": [
        "data.drop(will_drop_train, inplace = True, axis = 0)"
      ]
    },
    {
      "cell_type": "markdown",
      "id": "f1ff624b",
      "metadata": {
        "id": "f1ff624b"
      },
      "source": [
        "## 새로운 feature 생성"
      ]
    },
    {
      "cell_type": "markdown",
      "id": "add80a5c",
      "metadata": {
        "id": "add80a5c"
      },
      "source": [
        "### 총 사용금액, 그리고 사용한 금액에 따라 poor, middle, rich로 분류"
      ]
    },
    {
      "cell_type": "code",
      "execution_count": null,
      "id": "4dd441f5",
      "metadata": {
        "ExecuteTime": {
          "end_time": "2022-11-23T08:07:26.690627Z",
          "start_time": "2022-11-23T08:07:26.676665Z"
        },
        "id": "4dd441f5"
      },
      "outputs": [],
      "source": [
        "data[\"Total\"] = data[\"RoomService\"] + data[\"FoodCourt\"] + data[\"ShoppingMall\"] + data[\"Spa\"] +\\\n",
        "data[\"VRDeck\"] \n",
        "data[\"RichPoor\"] = data[\"Total\"].apply(lambda x: \"poor\" if x < 5000\\\n",
        "                                       else (\"middle\" if x>=5000 and x<20000 else \"rich\"))\n",
        "\n",
        "test[\"Total\"] = test[\"RoomService\"] + test[\"FoodCourt\"] + test[\"ShoppingMall\"] + test[\"Spa\"] +\\\n",
        "test[\"VRDeck\"] \n",
        "test[\"RichPoor\"] = test[\"Total\"].apply(lambda x: \"poor\" if x < 5000\\\n",
        "                                       else (\"middle\" if x>=5000 and x<20000 else \"rich\"))"
      ]
    },
    {
      "cell_type": "markdown",
      "id": "ed7cb334",
      "metadata": {
        "id": "ed7cb334"
      },
      "source": [
        "### 그룹여행객 여부"
      ]
    },
    {
      "cell_type": "code",
      "execution_count": null,
      "id": "c00842f5",
      "metadata": {
        "ExecuteTime": {
          "end_time": "2022-11-23T08:07:27.244660Z",
          "start_time": "2022-11-23T08:07:26.691625Z"
        },
        "id": "c00842f5"
      },
      "outputs": [],
      "source": [
        "data[\"GroupId\"] = data[\"PassengerId\"].apply(lambda x: x.split(\"_\")[0])\n",
        "test[\"GroupId\"] = test[\"PassengerId\"].apply(lambda x: x.split(\"_\")[0])\n",
        "data[\"GroupNo\"] = data[\"PassengerId\"].apply(lambda x: x.split(\"_\")[1])\n",
        "test[\"GroupNo\"] = test[\"PassengerId\"].apply(lambda x: x.split(\"_\")[1])\n",
        "\n",
        "train_g = data[data[\"GroupId\"].duplicated()][\"GroupId\"]\n",
        "test_g = test[test[\"GroupId\"].duplicated()][\"GroupId\"]\n",
        "data[\"Group\"] = data[\"GroupId\"].apply(lambda x: x in train_g.values)\n",
        "test[\"Group\"] = test[\"GroupId\"].apply(lambda x: x in test_g.values)"
      ]
    },
    {
      "cell_type": "code",
      "execution_count": null,
      "id": "1553eecf",
      "metadata": {
        "ExecuteTime": {
          "end_time": "2022-11-23T08:07:27.274580Z",
          "start_time": "2022-11-23T08:07:27.245651Z"
        },
        "id": "1553eecf",
        "outputId": "80fe49d4-5473-431d-a3e4-b9d3568b512c"
      },
      "outputs": [
        {
          "name": "stdout",
          "output_type": "stream",
          "text": [
            "<class 'pandas.core.frame.DataFrame'>\n",
            "Int64Index: 8678 entries, 0 to 8692\n",
            "Data columns (total 22 columns):\n",
            " #   Column        Non-Null Count  Dtype \n",
            "---  ------        --------------  ----- \n",
            " 0   PassengerId   8678 non-null   object\n",
            " 1   HomePlanet    8678 non-null   object\n",
            " 2   CryoSleep     8678 non-null   bool  \n",
            " 3   Cabin1        8575 non-null   object\n",
            " 4   Combi         8575 non-null   object\n",
            " 5   Cabin3        8575 non-null   object\n",
            " 6   Cabin         8575 non-null   object\n",
            " 7   Destination   8678 non-null   object\n",
            " 8   Age           8678 non-null   int64 \n",
            " 9   VIP           8678 non-null   bool  \n",
            " 10  RoomService   8678 non-null   int64 \n",
            " 11  FoodCourt     8678 non-null   int64 \n",
            " 12  ShoppingMall  8678 non-null   int64 \n",
            " 13  Spa           8678 non-null   int64 \n",
            " 14  VRDeck        8678 non-null   int64 \n",
            " 15  Name          8478 non-null   object\n",
            " 16  Transported   8678 non-null   bool  \n",
            " 17  Total         8678 non-null   int64 \n",
            " 18  RichPoor      8678 non-null   object\n",
            " 19  GroupId       8678 non-null   object\n",
            " 20  GroupNo       8678 non-null   object\n",
            " 21  Group         8678 non-null   bool  \n",
            "dtypes: bool(4), int64(7), object(11)\n",
            "memory usage: 1.3+ MB\n"
          ]
        }
      ],
      "source": [
        "data.info()"
      ]
    },
    {
      "cell_type": "markdown",
      "id": "770cf97f",
      "metadata": {
        "id": "770cf97f"
      },
      "source": [
        "### 나이브 베어스를 활용한 이름을 통한 성별 분류"
      ]
    },
    {
      "cell_type": "code",
      "execution_count": null,
      "id": "3a681a48",
      "metadata": {
        "ExecuteTime": {
          "end_time": "2022-11-23T08:07:27.289534Z",
          "start_time": "2022-11-23T08:07:27.275571Z"
        },
        "id": "3a681a48"
      },
      "outputs": [],
      "source": [
        "# Train_Data\n",
        "names_train_data = []\n",
        "for n in data[\"Name\"]:\n",
        "    n = str(n)\n",
        "    a = n.split()\n",
        "    names_train_data.append(a[0])"
      ]
    },
    {
      "cell_type": "markdown",
      "id": "45dfb8f1",
      "metadata": {
        "id": "45dfb8f1"
      },
      "source": [
        "#### 훈련셋"
      ]
    },
    {
      "cell_type": "code",
      "execution_count": null,
      "id": "763ad2af",
      "metadata": {
        "ExecuteTime": {
          "end_time": "2022-11-23T08:07:27.304500Z",
          "start_time": "2022-11-23T08:07:27.290532Z"
        },
        "id": "763ad2af"
      },
      "outputs": [],
      "source": [
        "# 이름과 성 분리\n",
        "names_train_data = []\n",
        "for i in data[\"Name\"]:\n",
        "    i = str(i)\n",
        "    a = i.split()\n",
        "    names_train_data.append(a[0])"
      ]
    },
    {
      "cell_type": "code",
      "execution_count": null,
      "id": "41aac228",
      "metadata": {
        "ExecuteTime": {
          "end_time": "2022-11-23T08:07:27.334421Z",
          "start_time": "2022-11-23T08:07:27.305491Z"
        },
        "id": "41aac228"
      },
      "outputs": [],
      "source": [
        "# NLTK의 names 파일을 활용하여 이름을 여성과 남성으로 분리\n",
        "labeled_names = [(name, \"female\") for name in names.words(\"female.txt\")] + \\\n",
        "[(name, \"male\") for name in names.words(\"male.txt\")]\n",
        "random.shuffle(labeled_names)"
      ]
    },
    {
      "cell_type": "code",
      "execution_count": null,
      "id": "b64b839d",
      "metadata": {
        "ExecuteTime": {
          "end_time": "2022-11-23T08:07:27.349374Z",
          "start_time": "2022-11-23T08:07:27.335411Z"
        },
        "id": "b64b839d"
      },
      "outputs": [],
      "source": [
        "# 이름의 마지막 단어 가져오는 함수\n",
        "def gender_features(word):\n",
        "    return {'last_letter': word[-1]}"
      ]
    },
    {
      "cell_type": "code",
      "execution_count": null,
      "id": "576e9dd1",
      "metadata": {
        "ExecuteTime": {
          "end_time": "2022-11-23T08:07:27.379294Z",
          "start_time": "2022-11-23T08:07:27.350371Z"
        },
        "id": "576e9dd1",
        "outputId": "8b0ca02f-3fa9-4ca3-b05a-20a8fa5d945d"
      },
      "outputs": [
        {
          "data": {
            "text/plain": [
              "['Maham',\n",
              " 'Juanna',\n",
              " 'Altark',\n",
              " 'Solam',\n",
              " 'Willy',\n",
              " 'Sandie',\n",
              " 'Billex',\n",
              " 'Candra',\n",
              " 'Andona',\n",
              " 'Erraiam',\n",
              " 'Altardr',\n",
              " 'Wezena',\n",
              " 'Berers',\n",
              " 'Reney',\n",
              " 'Elle',\n",
              " 'Justie',\n",
              " 'Flats',\n",
              " 'Carry',\n",
              " 'Alus',\n",
              " 'Lyde',\n",
              " 'Philda',\n",
              " 'Almary',\n",
              " 'Glendy',\n",
              " 'Mollen',\n",
              " 'Breney',\n",
              " 'Mael',\n",
              " 'Terta',\n",
              " 'nan',\n",
              " 'Penton',\n",
              " 'Karard',\n",
              " 'Anyoni',\n",
              " 'Ceros',\n",
              " 'Ginia',\n",
              " 'Coobix',\n",
              " 'Cinets',\n",
              " 'Dontch',\n",
              " 'Ziba',\n",
              " 'Luse',\n",
              " 'Marina',\n",
              " 'Loise',\n",
              " 'Jorgie',\n",
              " 'Margia',\n",
              " 'Ankalik',\n",
              " 'Jodye',\n",
              " 'Kayne',\n",
              " 'Cassa',\n",
              " 'Zelowl',\n",
              " 'Mass',\n",
              " 'Sony',\n",
              " 'Vivia',\n",
              " 'Elaney',\n",
              " 'Elson',\n",
              " 'Okulas',\n",
              " 'Instab',\n",
              " 'Zinoces',\n",
              " 'Warry',\n",
              " 'Shanya',\n",
              " 'Sterry',\n",
              " 'nan',\n",
              " 'Colatz',\n",
              " 'Diandy',\n",
              " 'Ninaha',\n",
              " 'Celine',\n",
              " 'Velyne',\n",
              " 'Cinst',\n",
              " 'nan',\n",
              " 'Meremy',\n",
              " 'Nelly',\n",
              " 'Thell',\n",
              " 'Gorn',\n",
              " 'Aldibah',\n",
              " 'Conk',\n",
              " 'Pon',\n",
              " 'Spuri',\n",
              " 'Dellie',\n",
              " 'Totse',\n",
              " 'Eaturs',\n",
              " 'nan',\n",
              " 'Coren',\n",
              " 'Furudah',\n",
              " 'Jodye',\n",
              " 'Stmeal',\n",
              " 'Heremy',\n",
              " 'Deanne',\n",
              " 'Tinez',\n",
              " 'Gracy',\n",
              " 'Stald',\n",
              " 'Tiney',\n",
              " 'Alchium',\n",
              " 'Doria',\n",
              " 'Leence',\n",
              " 'Aliey',\n",
              " 'Thewis',\n",
              " 'Book',\n",
              " 'Ritany',\n",
              " 'Arlen',\n",
              " 'Shaele',\n",
              " 'Fanne',\n",
              " 'Carry',\n",
              " 'Coobix',\n",
              " 'Natald',\n",
              " 'nan',\n",
              " 'Oline',\n",
              " 'Graviph',\n",
              " 'Aldeba',\n",
              " 'Alaratz',\n",
              " 'Izark',\n",
              " 'Aldera',\n",
              " 'Moth',\n",
              " 'Idary',\n",
              " 'Maura',\n",
              " 'Rohs',\n",
              " 'Alhenah',\n",
              " 'Batan',\n",
              " 'Kleeiak',\n",
              " 'Bees',\n",
              " 'Shelle',\n",
              " 'Iree',\n",
              " 'Milly',\n",
              " 'Miloss',\n",
              " 'Grohs',\n",
              " 'Barave',\n",
              " 'Race',\n",
              " 'Flynx',\n",
              " 'Egrasp',\n",
              " 'Camina',\n",
              " 'nan',\n",
              " 'Fayene',\n",
              " 'Monah',\n",
              " 'Charda',\n",
              " 'Evaley',\n",
              " 'Verney',\n",
              " 'Pyrohs',\n",
              " 'Guadae',\n",
              " 'Verly',\n",
              " 'Samie',\n",
              " 'Corsh',\n",
              " 'Billya',\n",
              " 'Shanie',\n",
              " 'Andan',\n",
              " 'Gory',\n",
              " 'Kabiton',\n",
              " 'Scharab',\n",
              " 'Fany',\n",
              " 'Ianya',\n",
              " 'Graven',\n",
              " 'Miten',\n",
              " 'Rios',\n",
              " 'Wandy',\n",
              " 'Mollie',\n",
              " 'Coracy',\n",
              " 'Hanna',\n",
              " 'Hilip',\n",
              " 'Doryn',\n",
              " 'Toperon',\n",
              " 'Wees',\n",
              " 'Elaney',\n",
              " 'Raque',\n",
              " 'Sallyl',\n",
              " 'Nancis',\n",
              " 'Ksorab',\n",
              " 'Stany',\n",
              " 'Camiet',\n",
              " 'Branda',\n",
              " 'Helly',\n",
              " 'nan',\n",
              " 'Tance',\n",
              " 'Robyny',\n",
              " 'Lilace',\n",
              " 'Sps',\n",
              " 'Frook',\n",
              " 'Goles',\n",
              " 'Bar',\n",
              " 'Caper',\n",
              " 'Astrak',\n",
              " 'Jeroy',\n",
              " 'Regana',\n",
              " 'Elia',\n",
              " 'Kaffias',\n",
              " 'Edaruma',\n",
              " 'Pomera',\n",
              " 'Vegas',\n",
              " 'Ancham',\n",
              " 'Carma',\n",
              " 'Nuson',\n",
              " 'Thony',\n",
              " 'Arraid',\n",
              " 'Pebuts',\n",
              " 'Corsh',\n",
              " 'Picers',\n",
              " 'Inen',\n",
              " 'Shally',\n",
              " 'Carita',\n",
              " 'Searla',\n",
              " 'Prilly',\n",
              " 'Nica',\n",
              " 'Tyle',\n",
              " 'Wena',\n",
              " 'Branca',\n",
              " 'Dont',\n",
              " 'Velyne',\n",
              " 'Weney',\n",
              " 'Guye',\n",
              " 'Cowhex',\n",
              " 'Yogark',\n",
              " 'Jacks',\n",
              " 'Eerch',\n",
              " 'Panbug',\n",
              " 'Gran',\n",
              " 'Rohs',\n",
              " 'Gone',\n",
              " 'Colf',\n",
              " 'Grake',\n",
              " 'Evan',\n",
              " 'Blues',\n",
              " 'Carly',\n",
              " 'Done',\n",
              " 'Krus',\n",
              " 'Nica',\n",
              " 'Teda',\n",
              " 'Keitha',\n",
              " 'Weias',\n",
              " 'Diedow',\n",
              " 'Puffes',\n",
              " 'Alas',\n",
              " 'Almone',\n",
              " 'Lilace',\n",
              " 'Froos',\n",
              " 'Tous',\n",
              " 'Glueba',\n",
              " 'Anchib',\n",
              " 'Mele',\n",
              " 'Genifi',\n",
              " 'Camily',\n",
              " 'Diphah',\n",
              " 'Leenny',\n",
              " 'Dawne',\n",
              " 'Race',\n",
              " 'Ashir',\n",
              " 'Errohs',\n",
              " 'Squars',\n",
              " 'Feryla',\n",
              " 'Segino',\n",
              " 'Dord',\n",
              " 'Maen',\n",
              " 'Etair',\n",
              " 'Lilace',\n",
              " 'Lerome',\n",
              " 'Cathya',\n",
              " 'Terf',\n",
              " 'Byront',\n",
              " 'Judya',\n",
              " 'Marice',\n",
              " 'Derine',\n",
              " 'Valex',\n",
              " 'Jacky',\n",
              " 'Roydo',\n",
              " 'Krabik',\n",
              " 'Grasath',\n",
              " 'Carita',\n",
              " 'Tetra',\n",
              " 'Alasym',\n",
              " 'Gory',\n",
              " 'Furuson',\n",
              " 'Skaton',\n",
              " 'Algor',\n",
              " 'Dhenar',\n",
              " 'Atino',\n",
              " 'Castab',\n",
              " 'Phonons',\n",
              " 'Ernice',\n",
              " 'Ashird',\n",
              " 'Margia',\n",
              " 'Lesley',\n",
              " 'Oraryn',\n",
              " 'Betena',\n",
              " 'Suhelik',\n",
              " 'Dony',\n",
              " 'Natald',\n",
              " 'Billya',\n",
              " 'Naviton',\n",
              " 'Briney',\n",
              " 'Jona',\n",
              " 'Jaimer',\n",
              " 'Hary',\n",
              " 'Kell',\n",
              " 'Adriet',\n",
              " 'Hallah',\n",
              " 'Beneba',\n",
              " 'Breney',\n",
              " 'Garley',\n",
              " 'Quites',\n",
              " 'Annya',\n",
              " 'Carma',\n",
              " 'Charly',\n",
              " 'Jasony',\n",
              " 'Bellah',\n",
              " 'nan',\n",
              " 'Hekaton',\n",
              " 'Lewise',\n",
              " 'Phios',\n",
              " 'Unfly',\n",
              " 'Maura',\n",
              " 'Guanch',\n",
              " 'Weros',\n",
              " 'nan',\n",
              " 'Ireen',\n",
              " 'Pentard',\n",
              " 'Lorian',\n",
              " 'Meremy',\n",
              " 'Berios',\n",
              " 'Lynney',\n",
              " 'Cousk',\n",
              " 'Stray',\n",
              " 'Weet',\n",
              " 'Loresa',\n",
              " 'Hits',\n",
              " 'Tricky',\n",
              " 'Pharmus',\n",
              " 'Eduard',\n",
              " 'Ronna',\n",
              " 'Dandy',\n",
              " 'Celine',\n",
              " 'Elancy',\n",
              " 'Virgie',\n",
              " 'Dandra',\n",
              " 'Resers',\n",
              " 'Batech',\n",
              " 'Veroy',\n",
              " 'Tine',\n",
              " 'Chrey',\n",
              " 'nan',\n",
              " 'Billex',\n",
              " 'Luzel',\n",
              " 'Francy',\n",
              " 'Wezncha',\n",
              " 'Bram',\n",
              " 'Marfak',\n",
              " 'Muonons',\n",
              " 'Polaton',\n",
              " 'Sollum',\n",
              " 'Achib',\n",
              " 'Brita',\n",
              " 'Zinopus',\n",
              " 'Mesatan',\n",
              " 'Aston',\n",
              " 'Blanie',\n",
              " 'Phia',\n",
              " 'Evane',\n",
              " 'Cliney',\n",
              " 'Ellard',\n",
              " 'Tanley',\n",
              " 'Verek',\n",
              " 'Fanna',\n",
              " 'Elanda',\n",
              " 'Dabik',\n",
              " 'Ward',\n",
              " 'Meropus',\n",
              " 'Hadyon',\n",
              " 'Brinez',\n",
              " 'Graw',\n",
              " 'Wales',\n",
              " 'Luse',\n",
              " 'Parney',\n",
              " 'Teron',\n",
              " 'Push',\n",
              " 'Denis',\n",
              " 'Dandy',\n",
              " 'Luzel',\n",
              " 'Dennya',\n",
              " 'Cus',\n",
              " 'Mats',\n",
              " 'Tyrona',\n",
              " 'Benny',\n",
              " 'Baton',\n",
              " 'Elina',\n",
              " 'Iney',\n",
              " 'Lesatik',\n",
              " 'Mirark',\n",
              " 'Enifik',\n",
              " 'Syrmark',\n",
              " 'Blesh',\n",
              " 'Cowns',\n",
              " 'Ree',\n",
              " 'Algor',\n",
              " 'Chargin',\n",
              " 'Aino',\n",
              " 'Taurak',\n",
              " 'Eliana',\n",
              " 'Fronch',\n",
              " 'Caper',\n",
              " 'Hekark',\n",
              " 'Naosura',\n",
              " 'Row',\n",
              " 'Allie',\n",
              " 'Sallyl',\n",
              " 'Lilace',\n",
              " 'Lynnee',\n",
              " 'Debora',\n",
              " 'Dyonon',\n",
              " 'Izarino',\n",
              " 'Loree',\n",
              " 'Elica',\n",
              " 'Camonk',\n",
              " 'Colal',\n",
              " 'Loria',\n",
              " 'Rice',\n",
              " 'Hadira',\n",
              " 'Ferry',\n",
              " 'Elara',\n",
              " 'nan',\n",
              " 'Nathy',\n",
              " 'Swafox',\n",
              " 'Aldun',\n",
              " 'Minopus',\n",
              " 'Wezena',\n",
              " 'Tabius',\n",
              " 'Etair',\n",
              " 'Hallux',\n",
              " 'Lulah',\n",
              " 'Leonyl',\n",
              " 'Sallyl',\n",
              " 'Joela',\n",
              " 'Zanin',\n",
              " 'Hardy',\n",
              " 'Shawne',\n",
              " 'Shany',\n",
              " 'Warry',\n",
              " 'Len',\n",
              " 'Ronia',\n",
              " 'Grats',\n",
              " 'Flamal',\n",
              " 'Deandy',\n",
              " 'Kyley',\n",
              " 'Aude',\n",
              " 'Haryn',\n",
              " 'Aptal',\n",
              " 'Jurs',\n",
              " 'Astab',\n",
              " 'Izarino',\n",
              " 'Stene',\n",
              " 'Nicey',\n",
              " 'Danie',\n",
              " 'Coves',\n",
              " 'Book',\n",
              " 'Beah',\n",
              " 'Benny',\n",
              " 'Chrisa',\n",
              " 'Gera',\n",
              " 'Anny',\n",
              " 'Isaacy',\n",
              " 'Furudah',\n",
              " 'Sadirak',\n",
              " 'Chery',\n",
              " 'Hanne',\n",
              " 'Batomam',\n",
              " 'Kastrak',\n",
              " 'Eclass',\n",
              " 'Yogark',\n",
              " 'Ots',\n",
              " 'Hadirk',\n",
              " 'Pigars',\n",
              " 'Gal',\n",
              " 'Torms',\n",
              " 'Pios',\n",
              " 'Thabius',\n",
              " 'Mirfar',\n",
              " 'Sterops',\n",
              " 'Tauria',\n",
              " 'Azharga',\n",
              " 'Alheneb',\n",
              " 'Kad',\n",
              " 'Kylen',\n",
              " 'Astrark',\n",
              " 'Sadirak',\n",
              " 'Ankalik',\n",
              " 'Rayley',\n",
              " 'Alramix',\n",
              " 'Vindem',\n",
              " 'Jandy',\n",
              " 'Soyos',\n",
              " 'Ryany',\n",
              " 'Bel',\n",
              " 'Hery',\n",
              " 'Glenry',\n",
              " 'Helley',\n",
              " 'Wenise',\n",
              " 'Supce',\n",
              " 'Llat',\n",
              " 'Alasmon',\n",
              " 'Ericia',\n",
              " 'Estine',\n",
              " 'Darley',\n",
              " 'Tops',\n",
              " 'Asellux',\n",
              " 'Weia',\n",
              " 'Kylen',\n",
              " 'Walla',\n",
              " 'Tard',\n",
              " 'Achyon',\n",
              " 'Alderak',\n",
              " 'Betenif',\n",
              " 'Mardyon',\n",
              " 'Jell',\n",
              " 'Rantax',\n",
              " 'Landa',\n",
              " 'Kaye',\n",
              " 'Shawne',\n",
              " 'Trick',\n",
              " 'Kariel',\n",
              " 'Warets',\n",
              " 'Guans',\n",
              " 'Maen',\n",
              " 'Stene',\n",
              " 'Minkab',\n",
              " 'Tope',\n",
              " 'Gluinol',\n",
              " 'Alraixa',\n",
              " 'Alhain',\n",
              " 'Jilla',\n",
              " 'Margia',\n",
              " 'Anniey',\n",
              " 'Tonyn',\n",
              " 'Annah',\n",
              " 'Jessa',\n",
              " 'Hamsp',\n",
              " 'Bath',\n",
              " 'Taura',\n",
              " 'Aldibi',\n",
              " 'Cines',\n",
              " 'Muls',\n",
              " 'Jeron',\n",
              " 'Enibik',\n",
              " 'Pentard',\n",
              " 'Tin',\n",
              " 'Chard',\n",
              " 'Branev',\n",
              " 'Alchium',\n",
              " 'Bahoton',\n",
              " 'Izark',\n",
              " 'Polam',\n",
              " 'Hasich',\n",
              " 'Isoton',\n",
              " 'Lesley',\n",
              " 'Deandy',\n",
              " 'Minoton',\n",
              " 'Melice',\n",
              " 'Gwendy',\n",
              " 'Greggy',\n",
              " 'Scotty',\n",
              " 'Guye',\n",
              " 'Chael',\n",
              " 'Dicks',\n",
              " 'Muebix',\n",
              " 'Beeres',\n",
              " 'Cricks',\n",
              " 'Graven',\n",
              " 'Sugard',\n",
              " 'Flams',\n",
              " 'Askeid',\n",
              " 'Gorn',\n",
              " 'Camiet',\n",
              " 'Maya',\n",
              " 'Chelsa',\n",
              " 'Loreen',\n",
              " 'Hon',\n",
              " 'Joana',\n",
              " 'Cores',\n",
              " 'Ton',\n",
              " 'Arllia',\n",
              " 'Bertle',\n",
              " 'Gabrin',\n",
              " 'Losp',\n",
              " 'Bases',\n",
              " 'Apple',\n",
              " 'Honjay',\n",
              " 'Muonon',\n",
              " 'Seats',\n",
              " 'Oats',\n",
              " 'Rana',\n",
              " 'Lyny',\n",
              " 'Dyonium',\n",
              " 'Mino',\n",
              " 'Pola',\n",
              " 'Maril',\n",
              " 'Guteda',\n",
              " 'Erie',\n",
              " 'Paulas',\n",
              " 'Achyon',\n",
              " 'Feline',\n",
              " 'Blancy',\n",
              " 'Elina',\n",
              " 'Stance',\n",
              " 'Philda',\n",
              " 'Troyce',\n",
              " 'Scellus',\n",
              " 'Ankabit',\n",
              " 'Ellene',\n",
              " 'Joela',\n",
              " 'Rickie',\n",
              " 'Cord',\n",
              " 'Croos',\n",
              " 'Cakes',\n",
              " 'Patoya',\n",
              " 'Ronna',\n",
              " 'Millia',\n",
              " 'Craine',\n",
              " 'Loresa',\n",
              " 'Cowl',\n",
              " 'Eleonon',\n",
              " 'Dory',\n",
              " 'Krisa',\n",
              " 'Dilatik',\n",
              " 'Aviton',\n",
              " 'Chabik',\n",
              " 'Tachir',\n",
              " 'Duhrk',\n",
              " 'Tran',\n",
              " 'Hadlam',\n",
              " 'Troyra',\n",
              " 'Errim',\n",
              " 'Lidex',\n",
              " 'Anack',\n",
              " 'Oareel',\n",
              " 'Eulah',\n",
              " 'Rionk',\n",
              " 'Phios',\n",
              " 'Nicey',\n",
              " 'nan',\n",
              " 'Glenna',\n",
              " 'Ernice',\n",
              " 'Stal',\n",
              " 'Leonyl',\n",
              " 'Misadr',\n",
              " 'Jeroy',\n",
              " 'Jabba',\n",
              " 'Cineys',\n",
              " 'Lix',\n",
              " 'Rician',\n",
              " 'Elanie',\n",
              " 'Veroy',\n",
              " 'Josey',\n",
              " 'Grette',\n",
              " 'Lorian',\n",
              " 'Bettie',\n",
              " 'Vana',\n",
              " 'Garyan',\n",
              " 'Annard',\n",
              " 'Joandy',\n",
              " 'Grany',\n",
              " 'Wheals',\n",
              " 'Sug',\n",
              " 'Trohs',\n",
              " 'Jack',\n",
              " 'Arl',\n",
              " 'Permit',\n",
              " 'Cheat',\n",
              " 'Lix',\n",
              " 'Goos',\n",
              " 'Chard',\n",
              " 'Yapich',\n",
              " 'Bubbix',\n",
              " 'Fis',\n",
              " 'Moss',\n",
              " 'Mothab',\n",
              " 'Tetraix',\n",
              " 'Stany',\n",
              " 'Dixiel',\n",
              " 'Roswal',\n",
              " 'Flyros',\n",
              " 'Menkibi',\n",
              " 'Briane',\n",
              " 'Brank',\n",
              " 'Adanne',\n",
              " 'Denny',\n",
              " 'Jorgie',\n",
              " 'Astorux',\n",
              " 'Thaban',\n",
              " 'Props',\n",
              " 'Nute',\n",
              " 'Pik',\n",
              " 'Crans',\n",
              " 'Vivia',\n",
              " 'Erie',\n",
              " 'Claine',\n",
              " 'Sony',\n",
              " 'Charry',\n",
              " 'Jeanny',\n",
              " 'Man',\n",
              " 'Brene',\n",
              " 'Izarfik',\n",
              " 'Alendy',\n",
              " 'Naros',\n",
              " 'Mela',\n",
              " 'Verly',\n",
              " 'Branda',\n",
              " 'Johna',\n",
              " 'Briam',\n",
              " 'Jilla',\n",
              " 'Lulah',\n",
              " 'Elinda',\n",
              " 'Lerion',\n",
              " 'Charmus',\n",
              " 'Ran',\n",
              " 'Dyonevi',\n",
              " 'Zaurah',\n",
              " 'Thab',\n",
              " 'Loree',\n",
              " 'Milyla',\n",
              " 'Tiney',\n",
              " 'Mesarix',\n",
              " 'nan',\n",
              " 'Matan',\n",
              " 'Atikard',\n",
              " 'Ashelik',\n",
              " 'Ranon',\n",
              " 'Hadalm',\n",
              " 'Mins',\n",
              " 'Izarki',\n",
              " 'Elody',\n",
              " 'Danna',\n",
              " 'Frus',\n",
              " 'Ponts',\n",
              " 'Francy',\n",
              " 'Maiam',\n",
              " 'Arix',\n",
              " 'Astrah',\n",
              " 'Alendy',\n",
              " 'Sanney',\n",
              " 'Hughy',\n",
              " 'Kimmy',\n",
              " 'Harlen',\n",
              " 'nan',\n",
              " 'Troyra',\n",
              " 'Minoton',\n",
              " 'Halleth',\n",
              " 'Weia',\n",
              " 'Arrain',\n",
              " 'Gwendy',\n",
              " 'Breney',\n",
              " 'Wasalm',\n",
              " 'Holey',\n",
              " 'Diandy',\n",
              " 'Clus',\n",
              " 'Grafirk',\n",
              " 'Francy',\n",
              " 'Robyny',\n",
              " 'Ritany',\n",
              " 'nan',\n",
              " 'Mesath',\n",
              " 'Auvan',\n",
              " 'Zaninon',\n",
              " 'Fanne',\n",
              " 'Neila',\n",
              " 'Millie',\n",
              " 'Nakes',\n",
              " 'Squars',\n",
              " 'Pristy',\n",
              " 'Alatrix',\n",
              " 'Hery',\n",
              " 'Ecco',\n",
              " 'Genibah',\n",
              " 'Plat',\n",
              " 'Glueba',\n",
              " 'Deaney',\n",
              " 'Bonyam',\n",
              " 'Benew',\n",
              " 'Oaters',\n",
              " 'Crin',\n",
              " 'Smal',\n",
              " 'Wales',\n",
              " 'Ranutz',\n",
              " 'Pan',\n",
              " 'Phams',\n",
              " 'Frouse',\n",
              " 'Wenise',\n",
              " 'Giedir',\n",
              " 'Carona',\n",
              " 'Ksorab',\n",
              " 'Patsya',\n",
              " 'Hanry',\n",
              " 'Sus',\n",
              " 'Scotte',\n",
              " 'Chadie',\n",
              " 'Wenten',\n",
              " 'Teda',\n",
              " 'Alendy',\n",
              " 'Danna',\n",
              " 'Juliey',\n",
              " 'Rosey',\n",
              " 'Myrace',\n",
              " 'Eilan',\n",
              " 'Tarmus',\n",
              " 'Garry',\n",
              " 'Briane',\n",
              " 'Set',\n",
              " 'Grumak',\n",
              " 'Ebonyd',\n",
              " 'Achbah',\n",
              " 'Tera',\n",
              " 'Sts',\n",
              " 'Monam',\n",
              " 'Cellum',\n",
              " 'Tareson',\n",
              " 'Koops',\n",
              " 'Iandy',\n",
              " 'Hamelik',\n",
              " 'Eleaha',\n",
              " 'nan',\n",
              " 'Jone',\n",
              " 'Lynez',\n",
              " 'Rald',\n",
              " 'nan',\n",
              " 'Neutria',\n",
              " 'Ernice',\n",
              " 'Ianya',\n",
              " 'Hilley',\n",
              " 'Dessie',\n",
              " 'Polar',\n",
              " 'Garyan',\n",
              " 'Breney',\n",
              " 'nan',\n",
              " 'Teryla',\n",
              " 'Hallus',\n",
              " 'Sceres',\n",
              " 'Therta',\n",
              " 'Gollux',\n",
              " 'Elson',\n",
              " 'Chelsa',\n",
              " 'Velyne',\n",
              " 'Marfak',\n",
              " 'Izaron',\n",
              " 'nan',\n",
              " 'Rica',\n",
              " 'Jilla',\n",
              " 'Evane',\n",
              " 'Allene',\n",
              " 'Grake',\n",
              " 'Duana',\n",
              " 'Nelley',\n",
              " 'Wein',\n",
              " 'Gicks',\n",
              " 'Gwenda',\n",
              " 'Achah',\n",
              " 'Marinon',\n",
              " 'Violey',\n",
              " 'Angars',\n",
              " 'Froops',\n",
              " 'Dyonon',\n",
              " 'Shail',\n",
              " 'Jerrye',\n",
              " 'Caseye',\n",
              " 'Hery',\n",
              " 'Gracy',\n",
              " 'Shaiam',\n",
              " 'Achyon',\n",
              " 'Hadaron',\n",
              " 'Alpha',\n",
              " 'Jona',\n",
              " 'Skix',\n",
              " 'Varkes',\n",
              " 'Almone',\n",
              " 'Minchib',\n",
              " 'Alkeson',\n",
              " 'Emmax',\n",
              " 'Elene',\n",
              " 'Arlie',\n",
              " 'Elanie',\n",
              " 'Therie',\n",
              " 'Boats',\n",
              " 'nan',\n",
              " 'Astorux',\n",
              " 'Terly',\n",
              " 'Earlie',\n",
              " 'Walles',\n",
              " 'Tiney',\n",
              " 'Eulah',\n",
              " 'Armen',\n",
              " 'Carita',\n",
              " 'Triple',\n",
              " 'Hilley',\n",
              " 'Terrie',\n",
              " 'Verly',\n",
              " 'Lyny',\n",
              " 'Benny',\n",
              " 'Done',\n",
              " 'Grios',\n",
              " 'Erice',\n",
              " 'Glena',\n",
              " 'Jimen',\n",
              " 'Waffs',\n",
              " 'Lorian',\n",
              " 'Gailia',\n",
              " 'Alderak',\n",
              " 'Weidus',\n",
              " 'Wacks',\n",
              " 'Duana',\n",
              " 'Tyrona',\n",
              " 'Lar',\n",
              " 'Tamie',\n",
              " 'nan',\n",
              " 'Glendy',\n",
              " 'Allena',\n",
              " 'Tonyn',\n",
              " 'Lesley',\n",
              " 'Gimph',\n",
              " 'Eriky',\n",
              " 'Joyton',\n",
              " 'Teremy',\n",
              " 'Wen',\n",
              " 'nan',\n",
              " 'Morrie',\n",
              " 'Lyde',\n",
              " 'Greggy',\n",
              " 'Walley',\n",
              " 'Shery',\n",
              " 'Alancy',\n",
              " 'Dory',\n",
              " 'Fayen',\n",
              " 'Lyne',\n",
              " 'Jeresa',\n",
              " 'Kayd',\n",
              " 'Tonia',\n",
              " 'Bethew',\n",
              " 'Zino',\n",
              " 'Tareson',\n",
              " 'Matan',\n",
              " 'Naosa',\n",
              " 'Sinon',\n",
              " 'Weidus',\n",
              " 'Juanie',\n",
              " 'Ellene',\n",
              " 'Dell',\n",
              " 'Chabik',\n",
              " 'Berios',\n",
              " 'Muonin',\n",
              " 'Alus',\n",
              " 'Nadie',\n",
              " 'Caish',\n",
              " 'Bun',\n",
              " 'Spuffs',\n",
              " 'Aldun',\n",
              " 'Coreee',\n",
              " 'Velyne',\n",
              " 'Stany',\n",
              " 'Stenny',\n",
              " 'Wasatz',\n",
              " 'Wimpha',\n",
              " 'Camie',\n",
              " 'Kaye',\n",
              " 'Valey',\n",
              " 'Weslie',\n",
              " 'Ranuts',\n",
              " 'Wilmay',\n",
              " 'Joya',\n",
              " 'Elaney',\n",
              " 'Melia',\n",
              " 'Appers',\n",
              " 'Melvia',\n",
              " 'Verly',\n",
              " 'Myrace',\n",
              " 'Bellee',\n",
              " 'Bethew',\n",
              " 'Chrisa',\n",
              " 'Lilace',\n",
              " 'Cort',\n",
              " 'Anamse',\n",
              " 'Basps',\n",
              " 'Trine',\n",
              " 'Crowk',\n",
              " 'Jorgie',\n",
              " 'Warry',\n",
              " 'Aude',\n",
              " 'Ericky',\n",
              " 'Aliedy',\n",
              " 'Nutz',\n",
              " 'Laude',\n",
              " 'Naomie',\n",
              " 'Clard',\n",
              " 'Algrafi',\n",
              " 'Gwenda',\n",
              " 'Halsham',\n",
              " 'Shail',\n",
              " 'Wena',\n",
              " 'nan',\n",
              " 'Deany',\n",
              " 'Ockies',\n",
              " 'Yakers',\n",
              " 'Frandy',\n",
              " 'Leenny',\n",
              " 'Rald',\n",
              " 'Blanie',\n",
              " 'Cineys',\n",
              " 'Otlios',\n",
              " 'Cherkar',\n",
              " 'Keithy',\n",
              " 'Willip',\n",
              " 'Erina',\n",
              " 'Markar',\n",
              " 'Aldebah',\n",
              " ...]"
            ]
          },
          "execution_count": 19,
          "metadata": {},
          "output_type": "execute_result"
        }
      ],
      "source": [
        "names_train_data"
      ]
    },
    {
      "cell_type": "code",
      "execution_count": null,
      "id": "43e0203a",
      "metadata": {
        "ExecuteTime": {
          "end_time": "2022-11-23T08:07:27.469248Z",
          "start_time": "2022-11-23T08:07:27.380291Z"
        },
        "id": "43e0203a"
      },
      "outputs": [],
      "source": [
        "# 나이브 베어스 모델 학습\n",
        "featuresets = [(gender_features(n), gender) for (n, gender) in labeled_names]\n",
        "classifier = NaiveBayesClassifier.train(featuresets)"
      ]
    },
    {
      "cell_type": "code",
      "execution_count": null,
      "id": "92df7fdc",
      "metadata": {
        "ExecuteTime": {
          "end_time": "2022-11-23T08:07:27.559047Z",
          "start_time": "2022-11-23T08:07:27.471049Z"
        },
        "id": "92df7fdc"
      },
      "outputs": [],
      "source": [
        "# 성별 feature 생성\n",
        "names_gender = []\n",
        "for i in names_train_data:\n",
        "    names_gender.append(classifier.classify(gender_features(i)))\n",
        "\n",
        "# create new column called 'gender'    \n",
        "data[\"Gender\"] = names_gender"
      ]
    },
    {
      "cell_type": "code",
      "execution_count": null,
      "id": "f5f23816",
      "metadata": {
        "ExecuteTime": {
          "end_time": "2022-11-23T08:07:27.573795Z",
          "start_time": "2022-11-23T08:07:27.560810Z"
        },
        "id": "f5f23816"
      },
      "outputs": [],
      "source": [
        "data.Gender[data.Name.isna()] = 'female'"
      ]
    },
    {
      "cell_type": "code",
      "execution_count": null,
      "id": "4517b510",
      "metadata": {
        "ExecuteTime": {
          "end_time": "2022-11-23T08:07:27.588734Z",
          "start_time": "2022-11-23T08:07:27.574772Z"
        },
        "id": "4517b510",
        "outputId": "5bc0965d-55ee-428d-a5d6-e0fb04b19225"
      },
      "outputs": [
        {
          "data": {
            "text/plain": [
              "array(['female'], dtype=object)"
            ]
          },
          "execution_count": 23,
          "metadata": {},
          "output_type": "execute_result"
        }
      ],
      "source": [
        "data.Gender[data.Name.isna()].unique()"
      ]
    },
    {
      "cell_type": "markdown",
      "id": "2a8a93c7",
      "metadata": {
        "id": "2a8a93c7"
      },
      "source": [
        "#### 테스트셋"
      ]
    },
    {
      "cell_type": "code",
      "execution_count": null,
      "id": "b8b0ea42",
      "metadata": {
        "ExecuteTime": {
          "end_time": "2022-11-23T08:07:27.603706Z",
          "start_time": "2022-11-23T08:07:27.589731Z"
        },
        "id": "b8b0ea42"
      },
      "outputs": [],
      "source": [
        "# 이름과 성 분리\n",
        "names_test_data = []\n",
        "for i in test[\"Name\"]:\n",
        "    i = str(i)\n",
        "    a = i.split()\n",
        "    names_test_data.append(a[0])"
      ]
    },
    {
      "cell_type": "code",
      "execution_count": null,
      "id": "a3a5c5b5",
      "metadata": {
        "ExecuteTime": {
          "end_time": "2022-11-23T08:07:27.618677Z",
          "start_time": "2022-11-23T08:07:27.604693Z"
        },
        "id": "a3a5c5b5"
      },
      "outputs": [],
      "source": [
        "# NLTK의 names 파일을 활용하여 이름을 여성과 남성으로 분리\n",
        "labeled_names = [(name, \"female\") for name in names.words(\"female.txt\")] + \\\n",
        "[(name, \"male\") for name in names.words(\"male.txt\")]\n",
        "random.shuffle(labeled_names)"
      ]
    },
    {
      "cell_type": "code",
      "execution_count": null,
      "id": "df61f1df",
      "metadata": {
        "ExecuteTime": {
          "end_time": "2022-11-23T08:07:27.648822Z",
          "start_time": "2022-11-23T08:07:27.619651Z"
        },
        "id": "df61f1df"
      },
      "outputs": [],
      "source": [
        "# 나이브 베어스 모델 학습\n",
        "featuresets = [(gender_features(n), gender) for (n, gender) in labeled_names]\n",
        "classifier = NaiveBayesClassifier.train(featuresets)"
      ]
    },
    {
      "cell_type": "code",
      "execution_count": null,
      "id": "6a1a1eee",
      "metadata": {
        "ExecuteTime": {
          "end_time": "2022-11-23T08:07:27.663534Z",
          "start_time": "2022-11-23T08:07:27.650577Z"
        },
        "id": "6a1a1eee"
      },
      "outputs": [],
      "source": [
        "# 이름의 마지막 단어 가져오는 함수\n",
        "def gender_features(word):\n",
        "    return {'last_letter': word[-1]}"
      ]
    },
    {
      "cell_type": "code",
      "execution_count": null,
      "id": "4147d715",
      "metadata": {
        "ExecuteTime": {
          "end_time": "2022-11-23T08:07:27.723591Z",
          "start_time": "2022-11-23T08:07:27.666526Z"
        },
        "id": "4147d715"
      },
      "outputs": [],
      "source": [
        "# 성별 feature 생성\n",
        "names_gender = []\n",
        "for i in names_test_data:\n",
        "    names_gender.append(classifier.classify(gender_features(i)))"
      ]
    },
    {
      "cell_type": "code",
      "execution_count": null,
      "id": "bde95e40",
      "metadata": {
        "ExecuteTime": {
          "end_time": "2022-11-23T08:07:27.738335Z",
          "start_time": "2022-11-23T08:07:27.725369Z"
        },
        "id": "bde95e40"
      },
      "outputs": [],
      "source": [
        "test[\"Gender\"] = pd.Series(names_gender)"
      ]
    },
    {
      "cell_type": "code",
      "execution_count": null,
      "id": "1f06c0d4",
      "metadata": {
        "ExecuteTime": {
          "end_time": "2022-11-23T08:07:27.753304Z",
          "start_time": "2022-11-23T08:07:27.739332Z"
        },
        "id": "1f06c0d4"
      },
      "outputs": [],
      "source": [
        "test.Gender[test.Name.isna()] = 'female'"
      ]
    },
    {
      "cell_type": "code",
      "execution_count": null,
      "id": "c50a44fb",
      "metadata": {
        "ExecuteTime": {
          "end_time": "2022-11-23T08:07:27.768255Z",
          "start_time": "2022-11-23T08:07:27.754291Z"
        },
        "id": "c50a44fb",
        "outputId": "29e4c1f9-49dd-429f-dc0d-acd4c67385c2"
      },
      "outputs": [
        {
          "data": {
            "text/plain": [
              "array(['female'], dtype=object)"
            ]
          },
          "execution_count": 31,
          "metadata": {},
          "output_type": "execute_result"
        }
      ],
      "source": [
        "data.Gender[data.Name.isna()].unique()"
      ]
    },
    {
      "cell_type": "markdown",
      "id": "7a8f94c5",
      "metadata": {
        "id": "7a8f94c5"
      },
      "source": [
        "## Cabin 결측값들 제거"
      ]
    },
    {
      "cell_type": "code",
      "execution_count": null,
      "id": "3b68edc0",
      "metadata": {
        "ExecuteTime": {
          "end_time": "2022-11-23T08:07:27.798180Z",
          "start_time": "2022-11-23T08:07:27.770256Z"
        },
        "id": "3b68edc0"
      },
      "outputs": [],
      "source": [
        "data.dropna(axis=0, inplace=True)"
      ]
    },
    {
      "cell_type": "markdown",
      "id": "7e52aa14",
      "metadata": {
        "id": "7e52aa14"
      },
      "source": [
        "## 필요없는 features 제거"
      ]
    },
    {
      "cell_type": "code",
      "execution_count": null,
      "id": "93e6980a",
      "metadata": {
        "ExecuteTime": {
          "end_time": "2022-11-23T08:07:27.813136Z",
          "start_time": "2022-11-23T08:07:27.799171Z"
        },
        "id": "93e6980a"
      },
      "outputs": [],
      "source": [
        "target = data['Transported']\n",
        "data = data.drop([\"PassengerId\", \"Name\", \"Cabin\", \"Combi\", \"Total\", \"GroupId\",\\\n",
        "                  \"GroupNo\", \"Transported\"], axis = 1)\n",
        "test = test.drop([\"PassengerId\", \"Name\", \"Cabin\", \"Combi\", \"Total\", \"GroupId\",\\\n",
        "                  \"GroupNo\", \"Transported\"], axis = 1)\n"
      ]
    },
    {
      "cell_type": "markdown",
      "id": "9f9b34ea",
      "metadata": {
        "id": "9f9b34ea"
      },
      "source": [
        "## 째려보기"
      ]
    },
    {
      "cell_type": "code",
      "execution_count": null,
      "id": "d2a312b6",
      "metadata": {
        "ExecuteTime": {
          "end_time": "2022-11-23T08:07:27.828094Z",
          "start_time": "2022-11-23T08:07:27.815129Z"
        },
        "id": "d2a312b6",
        "outputId": "138f4f72-d08f-4490-c081-20e45412ff27"
      },
      "outputs": [
        {
          "name": "stdout",
          "output_type": "stream",
          "text": [
            "<class 'pandas.core.frame.DataFrame'>\n",
            "Int64Index: 8375 entries, 0 to 8692\n",
            "Data columns (total 15 columns):\n",
            " #   Column        Non-Null Count  Dtype \n",
            "---  ------        --------------  ----- \n",
            " 0   HomePlanet    8375 non-null   object\n",
            " 1   CryoSleep     8375 non-null   bool  \n",
            " 2   Cabin1        8375 non-null   object\n",
            " 3   Cabin3        8375 non-null   object\n",
            " 4   Destination   8375 non-null   object\n",
            " 5   Age           8375 non-null   int64 \n",
            " 6   VIP           8375 non-null   bool  \n",
            " 7   RoomService   8375 non-null   int64 \n",
            " 8   FoodCourt     8375 non-null   int64 \n",
            " 9   ShoppingMall  8375 non-null   int64 \n",
            " 10  Spa           8375 non-null   int64 \n",
            " 11  VRDeck        8375 non-null   int64 \n",
            " 12  RichPoor      8375 non-null   object\n",
            " 13  Group         8375 non-null   bool  \n",
            " 14  Gender        8375 non-null   object\n",
            "dtypes: bool(3), int64(6), object(6)\n",
            "memory usage: 875.1+ KB\n"
          ]
        }
      ],
      "source": [
        "data.info()"
      ]
    },
    {
      "cell_type": "code",
      "execution_count": null,
      "id": "aff13723",
      "metadata": {
        "ExecuteTime": {
          "end_time": "2022-11-23T08:07:27.843054Z",
          "start_time": "2022-11-23T08:07:27.829091Z"
        },
        "scrolled": true,
        "id": "aff13723",
        "outputId": "b12739a0-c785-46db-8a00-628ab2dad185"
      },
      "outputs": [
        {
          "name": "stdout",
          "output_type": "stream",
          "text": [
            "<class 'pandas.core.frame.DataFrame'>\n",
            "RangeIndex: 4277 entries, 0 to 4276\n",
            "Data columns (total 15 columns):\n",
            " #   Column        Non-Null Count  Dtype \n",
            "---  ------        --------------  ----- \n",
            " 0   HomePlanet    4277 non-null   object\n",
            " 1   CryoSleep     4277 non-null   bool  \n",
            " 2   Cabin1        4214 non-null   object\n",
            " 3   Cabin3        4214 non-null   object\n",
            " 4   Destination   4277 non-null   object\n",
            " 5   Age           4277 non-null   int64 \n",
            " 6   VIP           4277 non-null   bool  \n",
            " 7   RoomService   4277 non-null   int64 \n",
            " 8   FoodCourt     4277 non-null   int64 \n",
            " 9   ShoppingMall  4277 non-null   int64 \n",
            " 10  Spa           4277 non-null   int64 \n",
            " 11  VRDeck        4277 non-null   int64 \n",
            " 12  RichPoor      4277 non-null   object\n",
            " 13  Group         4277 non-null   bool  \n",
            " 14  Gender        4277 non-null   object\n",
            "dtypes: bool(3), int64(6), object(6)\n",
            "memory usage: 413.6+ KB\n"
          ]
        }
      ],
      "source": [
        "test.info()"
      ]
    },
    {
      "cell_type": "markdown",
      "id": "11abb105",
      "metadata": {
        "id": "11abb105"
      },
      "source": [
        "## 원핫인코딩"
      ]
    },
    {
      "cell_type": "markdown",
      "id": "b9fc5d99",
      "metadata": {
        "id": "b9fc5d99"
      },
      "source": [
        "### boolean 타입 피처들 object로 캐스팅"
      ]
    },
    {
      "cell_type": "code",
      "execution_count": null,
      "id": "b3fb23b7",
      "metadata": {
        "ExecuteTime": {
          "end_time": "2022-11-23T08:07:27.858014Z",
          "start_time": "2022-11-23T08:07:27.844051Z"
        },
        "id": "b3fb23b7",
        "outputId": "03632c9c-2d69-4ed6-c421-7e784dc4a1b4"
      },
      "outputs": [
        {
          "data": {
            "text/plain": [
              "['CryoSleep', 'VIP', 'Group']"
            ]
          },
          "execution_count": 36,
          "metadata": {},
          "output_type": "execute_result"
        }
      ],
      "source": [
        "bool_data = [column for column in data.select_dtypes([\"bool\"])]\n",
        "\n",
        "bool_data"
      ]
    },
    {
      "cell_type": "code",
      "execution_count": null,
      "id": "be93b421",
      "metadata": {
        "ExecuteTime": {
          "end_time": "2022-11-23T08:07:27.872975Z",
          "start_time": "2022-11-23T08:07:27.859011Z"
        },
        "id": "be93b421"
      },
      "outputs": [],
      "source": [
        "data[\"VIP\"] = data[\"VIP\"].replace(to_replace = [False, True], \n",
        "                                  value = [\"No\", \"Yes\"]).astype(\"object\")\n",
        "data[\"CryoSleep\"] = data[\"CryoSleep\"].replace(to_replace = [False, True], \n",
        "                                  value = [\"No\", \"Yes\"]).astype(\"object\")\n",
        "data[\"Group\"] = data[\"Group\"].replace(to_replace = [False, True], \n",
        "                                  value = [\"No\", \"Yes\"]).astype(\"object\")"
      ]
    },
    {
      "cell_type": "code",
      "execution_count": null,
      "id": "c71e72b8",
      "metadata": {
        "ExecuteTime": {
          "end_time": "2022-11-23T08:07:27.887936Z",
          "start_time": "2022-11-23T08:07:27.873972Z"
        },
        "id": "c71e72b8",
        "outputId": "6bd06466-da08-4dbf-bc24-00c7e98cfe21"
      },
      "outputs": [
        {
          "name": "stdout",
          "output_type": "stream",
          "text": [
            "<class 'pandas.core.frame.DataFrame'>\n",
            "Int64Index: 8375 entries, 0 to 8692\n",
            "Data columns (total 15 columns):\n",
            " #   Column        Non-Null Count  Dtype \n",
            "---  ------        --------------  ----- \n",
            " 0   HomePlanet    8375 non-null   object\n",
            " 1   CryoSleep     8375 non-null   object\n",
            " 2   Cabin1        8375 non-null   object\n",
            " 3   Cabin3        8375 non-null   object\n",
            " 4   Destination   8375 non-null   object\n",
            " 5   Age           8375 non-null   int64 \n",
            " 6   VIP           8375 non-null   object\n",
            " 7   RoomService   8375 non-null   int64 \n",
            " 8   FoodCourt     8375 non-null   int64 \n",
            " 9   ShoppingMall  8375 non-null   int64 \n",
            " 10  Spa           8375 non-null   int64 \n",
            " 11  VRDeck        8375 non-null   int64 \n",
            " 12  RichPoor      8375 non-null   object\n",
            " 13  Group         8375 non-null   object\n",
            " 14  Gender        8375 non-null   object\n",
            "dtypes: int64(6), object(9)\n",
            "memory usage: 1.0+ MB\n"
          ]
        }
      ],
      "source": [
        "data.info()"
      ]
    },
    {
      "cell_type": "code",
      "execution_count": null,
      "id": "4f6f5973",
      "metadata": {
        "id": "4f6f5973",
        "outputId": "7b1bb773-53b9-485a-e970-fa9d97bcf673"
      },
      "outputs": [
        {
          "name": "stdout",
          "output_type": "stream",
          "text": [
            "<class 'pandas.core.frame.DataFrame'>\n",
            "RangeIndex: 4277 entries, 0 to 4276\n",
            "Data columns (total 15 columns):\n",
            " #   Column        Non-Null Count  Dtype \n",
            "---  ------        --------------  ----- \n",
            " 0   HomePlanet    4277 non-null   object\n",
            " 1   CryoSleep     4277 non-null   object\n",
            " 2   Cabin1        4214 non-null   object\n",
            " 3   Cabin3        4214 non-null   object\n",
            " 4   Destination   4277 non-null   object\n",
            " 5   Age           4277 non-null   int64 \n",
            " 6   VIP           4277 non-null   object\n",
            " 7   RoomService   4277 non-null   int64 \n",
            " 8   FoodCourt     4277 non-null   int64 \n",
            " 9   ShoppingMall  4277 non-null   int64 \n",
            " 10  Spa           4277 non-null   int64 \n",
            " 11  VRDeck        4277 non-null   int64 \n",
            " 12  RichPoor      4277 non-null   object\n",
            " 13  Group         4277 non-null   object\n",
            " 14  Gender        4277 non-null   object\n",
            "dtypes: int64(6), object(9)\n",
            "memory usage: 501.3+ KB\n"
          ]
        }
      ],
      "source": [
        "# test 셋\n",
        "bool_test = [column for column in test.select_dtypes([\"bool\"])]\n",
        "\n",
        "test[\"VIP\"] = test[\"VIP\"].replace(to_replace = [False, True], \n",
        "                                  value = [\"No\", \"Yes\"]).astype(\"object\")\n",
        "test[\"CryoSleep\"] = test[\"CryoSleep\"].replace(to_replace = [False, True], \n",
        "                                  value = [\"No\", \"Yes\"]).astype(\"object\")\n",
        "test[\"Group\"] = test[\"Group\"].replace(to_replace = [False, True], \n",
        "                                  value = [\"No\", \"Yes\"]).astype(\"object\")\n",
        "test.info()"
      ]
    },
    {
      "cell_type": "markdown",
      "id": "b7e8557d",
      "metadata": {
        "id": "b7e8557d"
      },
      "source": [
        "### 더미화"
      ]
    },
    {
      "cell_type": "code",
      "execution_count": null,
      "id": "3ef28125",
      "metadata": {
        "ExecuteTime": {
          "end_time": "2022-11-23T08:07:27.917859Z",
          "start_time": "2022-11-23T08:07:27.888931Z"
        },
        "id": "3ef28125"
      },
      "outputs": [],
      "source": [
        "# drop_first 첫번째 범주는 제거하고 더미화\n",
        "# 다른 범주가 전부 0이면 자동적으로 첫번째 범주가 1인걸 알 수 있기에 사용\n",
        "df = pd.get_dummies(data, drop_first = True)"
      ]
    },
    {
      "cell_type": "code",
      "execution_count": null,
      "id": "db3cbbbd",
      "metadata": {
        "ExecuteTime": {
          "end_time": "2022-11-23T08:07:27.933812Z",
          "start_time": "2022-11-23T08:07:27.919848Z"
        },
        "id": "db3cbbbd",
        "outputId": "f9db3625-47e4-42f4-bf59-0abea793b1aa"
      },
      "outputs": [
        {
          "name": "stdout",
          "output_type": "stream",
          "text": [
            "<class 'pandas.core.frame.DataFrame'>\n",
            "Int64Index: 8375 entries, 0 to 8692\n",
            "Data columns (total 24 columns):\n",
            " #   Column                     Non-Null Count  Dtype\n",
            "---  ------                     --------------  -----\n",
            " 0   Age                        8375 non-null   int64\n",
            " 1   RoomService                8375 non-null   int64\n",
            " 2   FoodCourt                  8375 non-null   int64\n",
            " 3   ShoppingMall               8375 non-null   int64\n",
            " 4   Spa                        8375 non-null   int64\n",
            " 5   VRDeck                     8375 non-null   int64\n",
            " 6   HomePlanet_Europa          8375 non-null   uint8\n",
            " 7   HomePlanet_Mars            8375 non-null   uint8\n",
            " 8   CryoSleep_Yes              8375 non-null   uint8\n",
            " 9   Cabin1_B                   8375 non-null   uint8\n",
            " 10  Cabin1_C                   8375 non-null   uint8\n",
            " 11  Cabin1_D                   8375 non-null   uint8\n",
            " 12  Cabin1_E                   8375 non-null   uint8\n",
            " 13  Cabin1_F                   8375 non-null   uint8\n",
            " 14  Cabin1_G                   8375 non-null   uint8\n",
            " 15  Cabin1_T                   8375 non-null   uint8\n",
            " 16  Cabin3_S                   8375 non-null   uint8\n",
            " 17  Destination_PSO J318.5-22  8375 non-null   uint8\n",
            " 18  Destination_TRAPPIST-1e    8375 non-null   uint8\n",
            " 19  VIP_Yes                    8375 non-null   uint8\n",
            " 20  RichPoor_poor              8375 non-null   uint8\n",
            " 21  RichPoor_rich              8375 non-null   uint8\n",
            " 22  Group_Yes                  8375 non-null   uint8\n",
            " 23  Gender_male                8375 non-null   uint8\n",
            "dtypes: int64(6), uint8(18)\n",
            "memory usage: 605.2 KB\n"
          ]
        }
      ],
      "source": [
        "df.info()"
      ]
    },
    {
      "cell_type": "code",
      "execution_count": null,
      "id": "cc62c110",
      "metadata": {
        "id": "cc62c110",
        "outputId": "f5d0c12a-9522-47a3-878b-2ac4a10e519c"
      },
      "outputs": [
        {
          "name": "stdout",
          "output_type": "stream",
          "text": [
            "<class 'pandas.core.frame.DataFrame'>\n",
            "RangeIndex: 4277 entries, 0 to 4276\n",
            "Data columns (total 24 columns):\n",
            " #   Column                     Non-Null Count  Dtype\n",
            "---  ------                     --------------  -----\n",
            " 0   Age                        4277 non-null   int64\n",
            " 1   RoomService                4277 non-null   int64\n",
            " 2   FoodCourt                  4277 non-null   int64\n",
            " 3   ShoppingMall               4277 non-null   int64\n",
            " 4   Spa                        4277 non-null   int64\n",
            " 5   VRDeck                     4277 non-null   int64\n",
            " 6   HomePlanet_Europa          4277 non-null   uint8\n",
            " 7   HomePlanet_Mars            4277 non-null   uint8\n",
            " 8   CryoSleep_Yes              4277 non-null   uint8\n",
            " 9   Cabin1_B                   4277 non-null   uint8\n",
            " 10  Cabin1_C                   4277 non-null   uint8\n",
            " 11  Cabin1_D                   4277 non-null   uint8\n",
            " 12  Cabin1_E                   4277 non-null   uint8\n",
            " 13  Cabin1_F                   4277 non-null   uint8\n",
            " 14  Cabin1_G                   4277 non-null   uint8\n",
            " 15  Cabin1_T                   4277 non-null   uint8\n",
            " 16  Cabin3_S                   4277 non-null   uint8\n",
            " 17  Destination_PSO J318.5-22  4277 non-null   uint8\n",
            " 18  Destination_TRAPPIST-1e    4277 non-null   uint8\n",
            " 19  VIP_Yes                    4277 non-null   uint8\n",
            " 20  RichPoor_poor              4277 non-null   uint8\n",
            " 21  RichPoor_rich              4277 non-null   uint8\n",
            " 22  Group_Yes                  4277 non-null   uint8\n",
            " 23  Gender_male                4277 non-null   uint8\n",
            "dtypes: int64(6), uint8(18)\n",
            "memory usage: 275.8 KB\n"
          ]
        }
      ],
      "source": [
        "# test\n",
        "dt = pd.get_dummies(test, drop_first = True)\n",
        "dt.info()"
      ]
    },
    {
      "cell_type": "markdown",
      "id": "b13086c3",
      "metadata": {
        "id": "b13086c3"
      },
      "source": [
        "### 스케일링"
      ]
    },
    {
      "cell_type": "code",
      "execution_count": null,
      "id": "f0235b1e",
      "metadata": {
        "id": "f0235b1e"
      },
      "outputs": [],
      "source": [
        "# 스케일링을 위한 함수 생성\n",
        "col = ['Age', 'RoomService','FoodCourt','ShoppingMall','Spa','VRDeck']\n",
        "def data_scaled(df, col):\n",
        "    for i in col:\n",
        "        data_mean = df[i].mean()\n",
        "        data_std = df[i].std()\n",
        "        scaled = (df[i]-data_mean)/data_std\n",
        "        df[i]=scaled\n",
        "    return df"
      ]
    },
    {
      "cell_type": "code",
      "execution_count": null,
      "id": "6e009e20",
      "metadata": {
        "id": "6e009e20",
        "outputId": "b0029375-0d3c-42bb-a1ff-adc52e9391bc"
      },
      "outputs": [
        {
          "data": {
            "text/html": [
              "<div>\n",
              "<style scoped>\n",
              "    .dataframe tbody tr th:only-of-type {\n",
              "        vertical-align: middle;\n",
              "    }\n",
              "\n",
              "    .dataframe tbody tr th {\n",
              "        vertical-align: top;\n",
              "    }\n",
              "\n",
              "    .dataframe thead th {\n",
              "        text-align: right;\n",
              "    }\n",
              "</style>\n",
              "<table border=\"1\" class=\"dataframe\">\n",
              "  <thead>\n",
              "    <tr style=\"text-align: right;\">\n",
              "      <th></th>\n",
              "      <th>Age</th>\n",
              "      <th>RoomService</th>\n",
              "      <th>FoodCourt</th>\n",
              "      <th>ShoppingMall</th>\n",
              "      <th>Spa</th>\n",
              "      <th>VRDeck</th>\n",
              "      <th>HomePlanet_Europa</th>\n",
              "      <th>HomePlanet_Mars</th>\n",
              "      <th>CryoSleep_Yes</th>\n",
              "      <th>Cabin1_B</th>\n",
              "      <th>...</th>\n",
              "      <th>Cabin1_G</th>\n",
              "      <th>Cabin1_T</th>\n",
              "      <th>Cabin3_S</th>\n",
              "      <th>Destination_PSO J318.5-22</th>\n",
              "      <th>Destination_TRAPPIST-1e</th>\n",
              "      <th>VIP_Yes</th>\n",
              "      <th>RichPoor_poor</th>\n",
              "      <th>RichPoor_rich</th>\n",
              "      <th>Group_Yes</th>\n",
              "      <th>Gender_male</th>\n",
              "    </tr>\n",
              "  </thead>\n",
              "  <tbody>\n",
              "    <tr>\n",
              "      <th>0</th>\n",
              "      <td>0.715470</td>\n",
              "      <td>-0.334894</td>\n",
              "      <td>-0.279292</td>\n",
              "      <td>-0.304198</td>\n",
              "      <td>-0.272993</td>\n",
              "      <td>-0.266558</td>\n",
              "      <td>1</td>\n",
              "      <td>0</td>\n",
              "      <td>0</td>\n",
              "      <td>1</td>\n",
              "      <td>...</td>\n",
              "      <td>0</td>\n",
              "      <td>0</td>\n",
              "      <td>0</td>\n",
              "      <td>0</td>\n",
              "      <td>1</td>\n",
              "      <td>0</td>\n",
              "      <td>1</td>\n",
              "      <td>0</td>\n",
              "      <td>0</td>\n",
              "      <td>1</td>\n",
              "    </tr>\n",
              "    <tr>\n",
              "      <th>1</th>\n",
              "      <td>-0.333218</td>\n",
              "      <td>-0.166089</td>\n",
              "      <td>-0.273660</td>\n",
              "      <td>-0.258609</td>\n",
              "      <td>0.232511</td>\n",
              "      <td>-0.226756</td>\n",
              "      <td>0</td>\n",
              "      <td>0</td>\n",
              "      <td>0</td>\n",
              "      <td>0</td>\n",
              "      <td>...</td>\n",
              "      <td>0</td>\n",
              "      <td>0</td>\n",
              "      <td>1</td>\n",
              "      <td>0</td>\n",
              "      <td>1</td>\n",
              "      <td>0</td>\n",
              "      <td>1</td>\n",
              "      <td>0</td>\n",
              "      <td>0</td>\n",
              "      <td>0</td>\n",
              "    </tr>\n",
              "    <tr>\n",
              "      <th>2</th>\n",
              "      <td>2.043809</td>\n",
              "      <td>-0.268301</td>\n",
              "      <td>1.958587</td>\n",
              "      <td>-0.304198</td>\n",
              "      <td>5.909999</td>\n",
              "      <td>-0.222233</td>\n",
              "      <td>1</td>\n",
              "      <td>0</td>\n",
              "      <td>0</td>\n",
              "      <td>0</td>\n",
              "      <td>...</td>\n",
              "      <td>0</td>\n",
              "      <td>0</td>\n",
              "      <td>1</td>\n",
              "      <td>0</td>\n",
              "      <td>1</td>\n",
              "      <td>1</td>\n",
              "      <td>0</td>\n",
              "      <td>0</td>\n",
              "      <td>1</td>\n",
              "      <td>1</td>\n",
              "    </tr>\n",
              "    <tr>\n",
              "      <th>3</th>\n",
              "      <td>0.295995</td>\n",
              "      <td>-0.334894</td>\n",
              "      <td>0.523616</td>\n",
              "      <td>0.372345</td>\n",
              "      <td>2.792261</td>\n",
              "      <td>-0.091975</td>\n",
              "      <td>1</td>\n",
              "      <td>0</td>\n",
              "      <td>0</td>\n",
              "      <td>0</td>\n",
              "      <td>...</td>\n",
              "      <td>0</td>\n",
              "      <td>0</td>\n",
              "      <td>1</td>\n",
              "      <td>0</td>\n",
              "      <td>1</td>\n",
              "      <td>0</td>\n",
              "      <td>0</td>\n",
              "      <td>0</td>\n",
              "      <td>1</td>\n",
              "      <td>1</td>\n",
              "    </tr>\n",
              "    <tr>\n",
              "      <th>4</th>\n",
              "      <td>-0.892518</td>\n",
              "      <td>0.134352</td>\n",
              "      <td>-0.235486</td>\n",
              "      <td>-0.028839</td>\n",
              "      <td>0.247243</td>\n",
              "      <td>-0.264748</td>\n",
              "      <td>0</td>\n",
              "      <td>0</td>\n",
              "      <td>0</td>\n",
              "      <td>0</td>\n",
              "      <td>...</td>\n",
              "      <td>0</td>\n",
              "      <td>0</td>\n",
              "      <td>1</td>\n",
              "      <td>0</td>\n",
              "      <td>1</td>\n",
              "      <td>0</td>\n",
              "      <td>1</td>\n",
              "      <td>0</td>\n",
              "      <td>0</td>\n",
              "      <td>0</td>\n",
              "    </tr>\n",
              "    <tr>\n",
              "      <th>...</th>\n",
              "      <td>...</td>\n",
              "      <td>...</td>\n",
              "      <td>...</td>\n",
              "      <td>...</td>\n",
              "      <td>...</td>\n",
              "      <td>...</td>\n",
              "      <td>...</td>\n",
              "      <td>...</td>\n",
              "      <td>...</td>\n",
              "      <td>...</td>\n",
              "      <td>...</td>\n",
              "      <td>...</td>\n",
              "      <td>...</td>\n",
              "      <td>...</td>\n",
              "      <td>...</td>\n",
              "      <td>...</td>\n",
              "      <td>...</td>\n",
              "      <td>...</td>\n",
              "      <td>...</td>\n",
              "      <td>...</td>\n",
              "      <td>...</td>\n",
              "    </tr>\n",
              "    <tr>\n",
              "      <th>8688</th>\n",
              "      <td>0.855295</td>\n",
              "      <td>-0.334894</td>\n",
              "      <td>3.988073</td>\n",
              "      <td>-0.304198</td>\n",
              "      <td>1.239837</td>\n",
              "      <td>-0.199619</td>\n",
              "      <td>1</td>\n",
              "      <td>0</td>\n",
              "      <td>0</td>\n",
              "      <td>0</td>\n",
              "      <td>...</td>\n",
              "      <td>0</td>\n",
              "      <td>0</td>\n",
              "      <td>0</td>\n",
              "      <td>0</td>\n",
              "      <td>0</td>\n",
              "      <td>1</td>\n",
              "      <td>0</td>\n",
              "      <td>0</td>\n",
              "      <td>0</td>\n",
              "      <td>1</td>\n",
              "    </tr>\n",
              "    <tr>\n",
              "      <th>8689</th>\n",
              "      <td>-0.752693</td>\n",
              "      <td>-0.334894</td>\n",
              "      <td>-0.279292</td>\n",
              "      <td>-0.304198</td>\n",
              "      <td>-0.272993</td>\n",
              "      <td>-0.266558</td>\n",
              "      <td>0</td>\n",
              "      <td>0</td>\n",
              "      <td>1</td>\n",
              "      <td>0</td>\n",
              "      <td>...</td>\n",
              "      <td>1</td>\n",
              "      <td>0</td>\n",
              "      <td>1</td>\n",
              "      <td>1</td>\n",
              "      <td>0</td>\n",
              "      <td>0</td>\n",
              "      <td>1</td>\n",
              "      <td>0</td>\n",
              "      <td>0</td>\n",
              "      <td>0</td>\n",
              "    </tr>\n",
              "    <tr>\n",
              "      <th>8690</th>\n",
              "      <td>-0.193393</td>\n",
              "      <td>-0.334894</td>\n",
              "      <td>-0.279292</td>\n",
              "      <td>3.109517</td>\n",
              "      <td>-0.272073</td>\n",
              "      <td>-0.266558</td>\n",
              "      <td>0</td>\n",
              "      <td>0</td>\n",
              "      <td>0</td>\n",
              "      <td>0</td>\n",
              "      <td>...</td>\n",
              "      <td>1</td>\n",
              "      <td>0</td>\n",
              "      <td>1</td>\n",
              "      <td>0</td>\n",
              "      <td>1</td>\n",
              "      <td>0</td>\n",
              "      <td>1</td>\n",
              "      <td>0</td>\n",
              "      <td>0</td>\n",
              "      <td>0</td>\n",
              "    </tr>\n",
              "    <tr>\n",
              "      <th>8691</th>\n",
              "      <td>0.226083</td>\n",
              "      <td>-0.334894</td>\n",
              "      <td>0.377178</td>\n",
              "      <td>-0.304198</td>\n",
              "      <td>0.052040</td>\n",
              "      <td>2.659744</td>\n",
              "      <td>1</td>\n",
              "      <td>0</td>\n",
              "      <td>0</td>\n",
              "      <td>0</td>\n",
              "      <td>...</td>\n",
              "      <td>0</td>\n",
              "      <td>0</td>\n",
              "      <td>1</td>\n",
              "      <td>0</td>\n",
              "      <td>0</td>\n",
              "      <td>0</td>\n",
              "      <td>1</td>\n",
              "      <td>0</td>\n",
              "      <td>1</td>\n",
              "      <td>1</td>\n",
              "    </tr>\n",
              "    <tr>\n",
              "      <th>8692</th>\n",
              "      <td>1.065033</td>\n",
              "      <td>-0.139762</td>\n",
              "      <td>2.654482</td>\n",
              "      <td>-0.304198</td>\n",
              "      <td>-0.272993</td>\n",
              "      <td>-0.255703</td>\n",
              "      <td>1</td>\n",
              "      <td>0</td>\n",
              "      <td>0</td>\n",
              "      <td>0</td>\n",
              "      <td>...</td>\n",
              "      <td>0</td>\n",
              "      <td>0</td>\n",
              "      <td>1</td>\n",
              "      <td>0</td>\n",
              "      <td>1</td>\n",
              "      <td>0</td>\n",
              "      <td>1</td>\n",
              "      <td>0</td>\n",
              "      <td>1</td>\n",
              "      <td>0</td>\n",
              "    </tr>\n",
              "  </tbody>\n",
              "</table>\n",
              "<p>8375 rows × 24 columns</p>\n",
              "</div>"
            ],
            "text/plain": [
              "           Age  RoomService  FoodCourt  ShoppingMall       Spa    VRDeck  \\\n",
              "0     0.715470    -0.334894  -0.279292     -0.304198 -0.272993 -0.266558   \n",
              "1    -0.333218    -0.166089  -0.273660     -0.258609  0.232511 -0.226756   \n",
              "2     2.043809    -0.268301   1.958587     -0.304198  5.909999 -0.222233   \n",
              "3     0.295995    -0.334894   0.523616      0.372345  2.792261 -0.091975   \n",
              "4    -0.892518     0.134352  -0.235486     -0.028839  0.247243 -0.264748   \n",
              "...        ...          ...        ...           ...       ...       ...   \n",
              "8688  0.855295    -0.334894   3.988073     -0.304198  1.239837 -0.199619   \n",
              "8689 -0.752693    -0.334894  -0.279292     -0.304198 -0.272993 -0.266558   \n",
              "8690 -0.193393    -0.334894  -0.279292      3.109517 -0.272073 -0.266558   \n",
              "8691  0.226083    -0.334894   0.377178     -0.304198  0.052040  2.659744   \n",
              "8692  1.065033    -0.139762   2.654482     -0.304198 -0.272993 -0.255703   \n",
              "\n",
              "      HomePlanet_Europa  HomePlanet_Mars  CryoSleep_Yes  Cabin1_B  ...  \\\n",
              "0                     1                0              0         1  ...   \n",
              "1                     0                0              0         0  ...   \n",
              "2                     1                0              0         0  ...   \n",
              "3                     1                0              0         0  ...   \n",
              "4                     0                0              0         0  ...   \n",
              "...                 ...              ...            ...       ...  ...   \n",
              "8688                  1                0              0         0  ...   \n",
              "8689                  0                0              1         0  ...   \n",
              "8690                  0                0              0         0  ...   \n",
              "8691                  1                0              0         0  ...   \n",
              "8692                  1                0              0         0  ...   \n",
              "\n",
              "      Cabin1_G  Cabin1_T  Cabin3_S  Destination_PSO J318.5-22  \\\n",
              "0            0         0         0                          0   \n",
              "1            0         0         1                          0   \n",
              "2            0         0         1                          0   \n",
              "3            0         0         1                          0   \n",
              "4            0         0         1                          0   \n",
              "...        ...       ...       ...                        ...   \n",
              "8688         0         0         0                          0   \n",
              "8689         1         0         1                          1   \n",
              "8690         1         0         1                          0   \n",
              "8691         0         0         1                          0   \n",
              "8692         0         0         1                          0   \n",
              "\n",
              "      Destination_TRAPPIST-1e  VIP_Yes  RichPoor_poor  RichPoor_rich  \\\n",
              "0                           1        0              1              0   \n",
              "1                           1        0              1              0   \n",
              "2                           1        1              0              0   \n",
              "3                           1        0              0              0   \n",
              "4                           1        0              1              0   \n",
              "...                       ...      ...            ...            ...   \n",
              "8688                        0        1              0              0   \n",
              "8689                        0        0              1              0   \n",
              "8690                        1        0              1              0   \n",
              "8691                        0        0              1              0   \n",
              "8692                        1        0              1              0   \n",
              "\n",
              "      Group_Yes  Gender_male  \n",
              "0             0            1  \n",
              "1             0            0  \n",
              "2             1            1  \n",
              "3             1            1  \n",
              "4             0            0  \n",
              "...         ...          ...  \n",
              "8688          0            1  \n",
              "8689          0            0  \n",
              "8690          0            0  \n",
              "8691          1            1  \n",
              "8692          1            0  \n",
              "\n",
              "[8375 rows x 24 columns]"
            ]
          },
          "execution_count": 44,
          "metadata": {},
          "output_type": "execute_result"
        }
      ],
      "source": [
        "data_scaled(df, col)"
      ]
    },
    {
      "cell_type": "code",
      "execution_count": null,
      "id": "6c961e74",
      "metadata": {
        "scrolled": true,
        "id": "6c961e74",
        "outputId": "ccb54ad4-b32a-4ce7-bd0c-d083c5e8b322"
      },
      "outputs": [
        {
          "data": {
            "text/html": [
              "<div>\n",
              "<style scoped>\n",
              "    .dataframe tbody tr th:only-of-type {\n",
              "        vertical-align: middle;\n",
              "    }\n",
              "\n",
              "    .dataframe tbody tr th {\n",
              "        vertical-align: top;\n",
              "    }\n",
              "\n",
              "    .dataframe thead th {\n",
              "        text-align: right;\n",
              "    }\n",
              "</style>\n",
              "<table border=\"1\" class=\"dataframe\">\n",
              "  <thead>\n",
              "    <tr style=\"text-align: right;\">\n",
              "      <th></th>\n",
              "      <th>Age</th>\n",
              "      <th>RoomService</th>\n",
              "      <th>FoodCourt</th>\n",
              "      <th>ShoppingMall</th>\n",
              "      <th>Spa</th>\n",
              "      <th>VRDeck</th>\n",
              "      <th>HomePlanet_Europa</th>\n",
              "      <th>HomePlanet_Mars</th>\n",
              "      <th>CryoSleep_Yes</th>\n",
              "      <th>Cabin1_B</th>\n",
              "      <th>...</th>\n",
              "      <th>Cabin1_G</th>\n",
              "      <th>Cabin1_T</th>\n",
              "      <th>Cabin3_S</th>\n",
              "      <th>Destination_PSO J318.5-22</th>\n",
              "      <th>Destination_TRAPPIST-1e</th>\n",
              "      <th>VIP_Yes</th>\n",
              "      <th>RichPoor_poor</th>\n",
              "      <th>RichPoor_rich</th>\n",
              "      <th>Group_Yes</th>\n",
              "      <th>Gender_male</th>\n",
              "    </tr>\n",
              "  </thead>\n",
              "  <tbody>\n",
              "    <tr>\n",
              "      <th>0</th>\n",
              "      <td>-0.115676</td>\n",
              "      <td>-0.357297</td>\n",
              "      <td>-0.283807</td>\n",
              "      <td>-0.312136</td>\n",
              "      <td>-0.267810</td>\n",
              "      <td>-0.246683</td>\n",
              "      <td>0</td>\n",
              "      <td>0</td>\n",
              "      <td>1</td>\n",
              "      <td>0</td>\n",
              "      <td>...</td>\n",
              "      <td>1</td>\n",
              "      <td>0</td>\n",
              "      <td>1</td>\n",
              "      <td>0</td>\n",
              "      <td>1</td>\n",
              "      <td>0</td>\n",
              "      <td>1</td>\n",
              "      <td>0</td>\n",
              "      <td>0</td>\n",
              "      <td>0</td>\n",
              "    </tr>\n",
              "    <tr>\n",
              "      <th>1</th>\n",
              "      <td>-0.685906</td>\n",
              "      <td>-0.357297</td>\n",
              "      <td>-0.277847</td>\n",
              "      <td>-0.312136</td>\n",
              "      <td>2.287237</td>\n",
              "      <td>-0.246683</td>\n",
              "      <td>0</td>\n",
              "      <td>0</td>\n",
              "      <td>0</td>\n",
              "      <td>0</td>\n",
              "      <td>...</td>\n",
              "      <td>0</td>\n",
              "      <td>0</td>\n",
              "      <td>1</td>\n",
              "      <td>0</td>\n",
              "      <td>1</td>\n",
              "      <td>0</td>\n",
              "      <td>1</td>\n",
              "      <td>0</td>\n",
              "      <td>0</td>\n",
              "      <td>0</td>\n",
              "    </tr>\n",
              "    <tr>\n",
              "      <th>2</th>\n",
              "      <td>0.169439</td>\n",
              "      <td>-0.357297</td>\n",
              "      <td>-0.283807</td>\n",
              "      <td>-0.312136</td>\n",
              "      <td>-0.267810</td>\n",
              "      <td>-0.246683</td>\n",
              "      <td>1</td>\n",
              "      <td>0</td>\n",
              "      <td>1</td>\n",
              "      <td>0</td>\n",
              "      <td>...</td>\n",
              "      <td>0</td>\n",
              "      <td>0</td>\n",
              "      <td>1</td>\n",
              "      <td>0</td>\n",
              "      <td>0</td>\n",
              "      <td>0</td>\n",
              "      <td>1</td>\n",
              "      <td>0</td>\n",
              "      <td>0</td>\n",
              "      <td>0</td>\n",
              "    </tr>\n",
              "    <tr>\n",
              "      <th>3</th>\n",
              "      <td>0.668390</td>\n",
              "      <td>-0.357297</td>\n",
              "      <td>4.121036</td>\n",
              "      <td>-0.312136</td>\n",
              "      <td>-0.103990</td>\n",
              "      <td>0.226621</td>\n",
              "      <td>1</td>\n",
              "      <td>0</td>\n",
              "      <td>0</td>\n",
              "      <td>0</td>\n",
              "      <td>...</td>\n",
              "      <td>0</td>\n",
              "      <td>0</td>\n",
              "      <td>1</td>\n",
              "      <td>0</td>\n",
              "      <td>1</td>\n",
              "      <td>0</td>\n",
              "      <td>0</td>\n",
              "      <td>0</td>\n",
              "      <td>0</td>\n",
              "      <td>1</td>\n",
              "    </tr>\n",
              "    <tr>\n",
              "      <th>4</th>\n",
              "      <td>-0.614627</td>\n",
              "      <td>-0.340684</td>\n",
              "      <td>-0.283807</td>\n",
              "      <td>0.832025</td>\n",
              "      <td>-0.267810</td>\n",
              "      <td>-0.246683</td>\n",
              "      <td>0</td>\n",
              "      <td>0</td>\n",
              "      <td>0</td>\n",
              "      <td>0</td>\n",
              "      <td>...</td>\n",
              "      <td>0</td>\n",
              "      <td>0</td>\n",
              "      <td>1</td>\n",
              "      <td>0</td>\n",
              "      <td>1</td>\n",
              "      <td>0</td>\n",
              "      <td>1</td>\n",
              "      <td>0</td>\n",
              "      <td>0</td>\n",
              "      <td>0</td>\n",
              "    </tr>\n",
              "    <tr>\n",
              "      <th>...</th>\n",
              "      <td>...</td>\n",
              "      <td>...</td>\n",
              "      <td>...</td>\n",
              "      <td>...</td>\n",
              "      <td>...</td>\n",
              "      <td>...</td>\n",
              "      <td>...</td>\n",
              "      <td>...</td>\n",
              "      <td>...</td>\n",
              "      <td>...</td>\n",
              "      <td>...</td>\n",
              "      <td>...</td>\n",
              "      <td>...</td>\n",
              "      <td>...</td>\n",
              "      <td>...</td>\n",
              "      <td>...</td>\n",
              "      <td>...</td>\n",
              "      <td>...</td>\n",
              "      <td>...</td>\n",
              "      <td>...</td>\n",
              "      <td>...</td>\n",
              "    </tr>\n",
              "    <tr>\n",
              "      <th>4272</th>\n",
              "      <td>0.383275</td>\n",
              "      <td>-0.357297</td>\n",
              "      <td>-0.283807</td>\n",
              "      <td>-0.312136</td>\n",
              "      <td>-0.267810</td>\n",
              "      <td>-0.246683</td>\n",
              "      <td>0</td>\n",
              "      <td>0</td>\n",
              "      <td>1</td>\n",
              "      <td>0</td>\n",
              "      <td>...</td>\n",
              "      <td>1</td>\n",
              "      <td>0</td>\n",
              "      <td>1</td>\n",
              "      <td>0</td>\n",
              "      <td>1</td>\n",
              "      <td>0</td>\n",
              "      <td>1</td>\n",
              "      <td>0</td>\n",
              "      <td>1</td>\n",
              "      <td>1</td>\n",
              "    </tr>\n",
              "    <tr>\n",
              "      <th>4273</th>\n",
              "      <td>0.953505</td>\n",
              "      <td>-0.357297</td>\n",
              "      <td>0.277063</td>\n",
              "      <td>-0.281505</td>\n",
              "      <td>-0.258759</td>\n",
              "      <td>-0.130177</td>\n",
              "      <td>0</td>\n",
              "      <td>0</td>\n",
              "      <td>0</td>\n",
              "      <td>0</td>\n",
              "      <td>...</td>\n",
              "      <td>0</td>\n",
              "      <td>0</td>\n",
              "      <td>0</td>\n",
              "      <td>0</td>\n",
              "      <td>1</td>\n",
              "      <td>0</td>\n",
              "      <td>1</td>\n",
              "      <td>0</td>\n",
              "      <td>0</td>\n",
              "      <td>0</td>\n",
              "    </tr>\n",
              "    <tr>\n",
              "      <th>4274</th>\n",
              "      <td>-0.115676</td>\n",
              "      <td>-0.357297</td>\n",
              "      <td>-0.283807</td>\n",
              "      <td>-0.312136</td>\n",
              "      <td>-0.267810</td>\n",
              "      <td>-0.246683</td>\n",
              "      <td>0</td>\n",
              "      <td>1</td>\n",
              "      <td>1</td>\n",
              "      <td>0</td>\n",
              "      <td>...</td>\n",
              "      <td>0</td>\n",
              "      <td>0</td>\n",
              "      <td>0</td>\n",
              "      <td>0</td>\n",
              "      <td>0</td>\n",
              "      <td>0</td>\n",
              "      <td>1</td>\n",
              "      <td>0</td>\n",
              "      <td>0</td>\n",
              "      <td>1</td>\n",
              "    </tr>\n",
              "    <tr>\n",
              "      <th>4275</th>\n",
              "      <td>-0.115676</td>\n",
              "      <td>-0.357297</td>\n",
              "      <td>1.490845</td>\n",
              "      <td>-0.312136</td>\n",
              "      <td>-0.267810</td>\n",
              "      <td>0.176459</td>\n",
              "      <td>1</td>\n",
              "      <td>0</td>\n",
              "      <td>0</td>\n",
              "      <td>0</td>\n",
              "      <td>...</td>\n",
              "      <td>0</td>\n",
              "      <td>0</td>\n",
              "      <td>0</td>\n",
              "      <td>0</td>\n",
              "      <td>1</td>\n",
              "      <td>0</td>\n",
              "      <td>1</td>\n",
              "      <td>0</td>\n",
              "      <td>0</td>\n",
              "      <td>1</td>\n",
              "    </tr>\n",
              "    <tr>\n",
              "      <th>4276</th>\n",
              "      <td>1.024784</td>\n",
              "      <td>-0.357297</td>\n",
              "      <td>-0.283807</td>\n",
              "      <td>-0.312136</td>\n",
              "      <td>-0.267810</td>\n",
              "      <td>-0.246683</td>\n",
              "      <td>0</td>\n",
              "      <td>0</td>\n",
              "      <td>1</td>\n",
              "      <td>0</td>\n",
              "      <td>...</td>\n",
              "      <td>1</td>\n",
              "      <td>0</td>\n",
              "      <td>1</td>\n",
              "      <td>1</td>\n",
              "      <td>0</td>\n",
              "      <td>0</td>\n",
              "      <td>1</td>\n",
              "      <td>0</td>\n",
              "      <td>0</td>\n",
              "      <td>0</td>\n",
              "    </tr>\n",
              "  </tbody>\n",
              "</table>\n",
              "<p>4277 rows × 24 columns</p>\n",
              "</div>"
            ],
            "text/plain": [
              "           Age  RoomService  FoodCourt  ShoppingMall       Spa    VRDeck  \\\n",
              "0    -0.115676    -0.357297  -0.283807     -0.312136 -0.267810 -0.246683   \n",
              "1    -0.685906    -0.357297  -0.277847     -0.312136  2.287237 -0.246683   \n",
              "2     0.169439    -0.357297  -0.283807     -0.312136 -0.267810 -0.246683   \n",
              "3     0.668390    -0.357297   4.121036     -0.312136 -0.103990  0.226621   \n",
              "4    -0.614627    -0.340684  -0.283807      0.832025 -0.267810 -0.246683   \n",
              "...        ...          ...        ...           ...       ...       ...   \n",
              "4272  0.383275    -0.357297  -0.283807     -0.312136 -0.267810 -0.246683   \n",
              "4273  0.953505    -0.357297   0.277063     -0.281505 -0.258759 -0.130177   \n",
              "4274 -0.115676    -0.357297  -0.283807     -0.312136 -0.267810 -0.246683   \n",
              "4275 -0.115676    -0.357297   1.490845     -0.312136 -0.267810  0.176459   \n",
              "4276  1.024784    -0.357297  -0.283807     -0.312136 -0.267810 -0.246683   \n",
              "\n",
              "      HomePlanet_Europa  HomePlanet_Mars  CryoSleep_Yes  Cabin1_B  ...  \\\n",
              "0                     0                0              1         0  ...   \n",
              "1                     0                0              0         0  ...   \n",
              "2                     1                0              1         0  ...   \n",
              "3                     1                0              0         0  ...   \n",
              "4                     0                0              0         0  ...   \n",
              "...                 ...              ...            ...       ...  ...   \n",
              "4272                  0                0              1         0  ...   \n",
              "4273                  0                0              0         0  ...   \n",
              "4274                  0                1              1         0  ...   \n",
              "4275                  1                0              0         0  ...   \n",
              "4276                  0                0              1         0  ...   \n",
              "\n",
              "      Cabin1_G  Cabin1_T  Cabin3_S  Destination_PSO J318.5-22  \\\n",
              "0            1         0         1                          0   \n",
              "1            0         0         1                          0   \n",
              "2            0         0         1                          0   \n",
              "3            0         0         1                          0   \n",
              "4            0         0         1                          0   \n",
              "...        ...       ...       ...                        ...   \n",
              "4272         1         0         1                          0   \n",
              "4273         0         0         0                          0   \n",
              "4274         0         0         0                          0   \n",
              "4275         0         0         0                          0   \n",
              "4276         1         0         1                          1   \n",
              "\n",
              "      Destination_TRAPPIST-1e  VIP_Yes  RichPoor_poor  RichPoor_rich  \\\n",
              "0                           1        0              1              0   \n",
              "1                           1        0              1              0   \n",
              "2                           0        0              1              0   \n",
              "3                           1        0              0              0   \n",
              "4                           1        0              1              0   \n",
              "...                       ...      ...            ...            ...   \n",
              "4272                        1        0              1              0   \n",
              "4273                        1        0              1              0   \n",
              "4274                        0        0              1              0   \n",
              "4275                        1        0              1              0   \n",
              "4276                        0        0              1              0   \n",
              "\n",
              "      Group_Yes  Gender_male  \n",
              "0             0            0  \n",
              "1             0            0  \n",
              "2             0            0  \n",
              "3             0            1  \n",
              "4             0            0  \n",
              "...         ...          ...  \n",
              "4272          1            1  \n",
              "4273          0            0  \n",
              "4274          0            1  \n",
              "4275          0            1  \n",
              "4276          0            0  \n",
              "\n",
              "[4277 rows x 24 columns]"
            ]
          },
          "execution_count": 45,
          "metadata": {},
          "output_type": "execute_result"
        }
      ],
      "source": [
        "data_scaled(dt, col)"
      ]
    },
    {
      "cell_type": "markdown",
      "id": "889db984",
      "metadata": {
        "id": "889db984"
      },
      "source": [
        "# 데이터셋 분리"
      ]
    },
    {
      "cell_type": "code",
      "execution_count": null,
      "id": "553800e0",
      "metadata": {
        "ExecuteTime": {
          "end_time": "2022-11-23T08:07:27.948771Z",
          "start_time": "2022-11-23T08:07:27.935806Z"
        },
        "id": "553800e0"
      },
      "outputs": [],
      "source": [
        "X_train, X_test, y_train, y_test = train_test_split(df, target, shuffle = True, random_state = 109)\n",
        "X_train, X_val, y_train, y_val = train_test_split(df, target, shuffle = True,\\\n",
        "                                                  test_size=0.15, random_state = 109)"
      ]
    },
    {
      "cell_type": "code",
      "execution_count": null,
      "id": "d4df805a",
      "metadata": {
        "id": "d4df805a"
      },
      "outputs": [],
      "source": [
        "def score_funcs(y_test, pred=None, pred_proba=None):\n",
        "    confusion = confusion_matrix(y_test, pred)\n",
        "    accuracy = accuracy_score(y_test, pred)\n",
        "    precision = precision_score(y_test, pred)\n",
        "    recall = recall_score(y_test, pred)\n",
        "    f1 = f1_score(y_test, pred)\n",
        "    roc_auc = roc_auc_score(y_test, pred_proba)\n",
        "    \n",
        "    print('오차행렬 \\n', confusion)\n",
        "    print('정확도 : {0:.4f}, 정밀도: {1:.4f}, \\\n",
        "         재현율 : {2:.4f}, F1 : {3:.4f}, AUC : {4:.4f}'.format(accuracy, precision, recall, f1, roc_auc))"
      ]
    },
    {
      "cell_type": "markdown",
      "id": "70b80233",
      "metadata": {
        "id": "70b80233"
      },
      "source": [
        "# stacking Ensemble\n",
        "<br>\n",
        "\n",
        "- 정의 : 다수의 개별 모델이 예측한 데이터 값을 다시 트레이닝 셋으로 사용하여 학습하는 알고리즘이다.\n",
        "- **이용한 개별 모델**\n",
        " > RandomForestClassifier, DecisionTreeClassifier, AdaboostClassifier\n",
        "  - AdaboostClassifier : AdaBoost는 과적 합되는 경향을 줄이는 데 도움이되고 , 약한 분류기의 실수를 반복적으로 수정, 약한 학습자를 결합하여 정확도를 높이는 알고리즘\n",
        "  \n",
        "- **최종 메타 모델**\n",
        " > LogisticRegression"
      ]
    },
    {
      "cell_type": "markdown",
      "id": "0f8c69bd",
      "metadata": {
        "id": "0f8c69bd"
      },
      "source": [
        "## 기본 스태킹\n",
        "### 개별 머신러닝 모델생성 및 학습"
      ]
    },
    {
      "cell_type": "code",
      "execution_count": null,
      "id": "48d532f3",
      "metadata": {
        "id": "48d532f3"
      },
      "outputs": [],
      "source": [
        "rf_clf = RandomForestClassifier(n_estimators=150, random_state=109)\n",
        "df_clf = DecisionTreeClassifier()\n",
        "ada_clf = AdaBoostClassifier(n_estimators=150)\n",
        "\n",
        "# 스태킹 최종 모델\n",
        "lr_final = LogisticRegression(solver = 'liblinear')"
      ]
    },
    {
      "cell_type": "code",
      "execution_count": null,
      "id": "94501662",
      "metadata": {
        "id": "94501662",
        "outputId": "92786a2b-d209-4c4c-c505-ff7832f9dfa0"
      },
      "outputs": [
        {
          "data": {
            "text/html": [
              "<style>#sk-container-id-1 {color: black;background-color: white;}#sk-container-id-1 pre{padding: 0;}#sk-container-id-1 div.sk-toggleable {background-color: white;}#sk-container-id-1 label.sk-toggleable__label {cursor: pointer;display: block;width: 100%;margin-bottom: 0;padding: 0.3em;box-sizing: border-box;text-align: center;}#sk-container-id-1 label.sk-toggleable__label-arrow:before {content: \"▸\";float: left;margin-right: 0.25em;color: #696969;}#sk-container-id-1 label.sk-toggleable__label-arrow:hover:before {color: black;}#sk-container-id-1 div.sk-estimator:hover label.sk-toggleable__label-arrow:before {color: black;}#sk-container-id-1 div.sk-toggleable__content {max-height: 0;max-width: 0;overflow: hidden;text-align: left;background-color: #f0f8ff;}#sk-container-id-1 div.sk-toggleable__content pre {margin: 0.2em;color: black;border-radius: 0.25em;background-color: #f0f8ff;}#sk-container-id-1 input.sk-toggleable__control:checked~div.sk-toggleable__content {max-height: 200px;max-width: 100%;overflow: auto;}#sk-container-id-1 input.sk-toggleable__control:checked~label.sk-toggleable__label-arrow:before {content: \"▾\";}#sk-container-id-1 div.sk-estimator input.sk-toggleable__control:checked~label.sk-toggleable__label {background-color: #d4ebff;}#sk-container-id-1 div.sk-label input.sk-toggleable__control:checked~label.sk-toggleable__label {background-color: #d4ebff;}#sk-container-id-1 input.sk-hidden--visually {border: 0;clip: rect(1px 1px 1px 1px);clip: rect(1px, 1px, 1px, 1px);height: 1px;margin: -1px;overflow: hidden;padding: 0;position: absolute;width: 1px;}#sk-container-id-1 div.sk-estimator {font-family: monospace;background-color: #f0f8ff;border: 1px dotted black;border-radius: 0.25em;box-sizing: border-box;margin-bottom: 0.5em;}#sk-container-id-1 div.sk-estimator:hover {background-color: #d4ebff;}#sk-container-id-1 div.sk-parallel-item::after {content: \"\";width: 100%;border-bottom: 1px solid gray;flex-grow: 1;}#sk-container-id-1 div.sk-label:hover label.sk-toggleable__label {background-color: #d4ebff;}#sk-container-id-1 div.sk-serial::before {content: \"\";position: absolute;border-left: 1px solid gray;box-sizing: border-box;top: 0;bottom: 0;left: 50%;z-index: 0;}#sk-container-id-1 div.sk-serial {display: flex;flex-direction: column;align-items: center;background-color: white;padding-right: 0.2em;padding-left: 0.2em;position: relative;}#sk-container-id-1 div.sk-item {position: relative;z-index: 1;}#sk-container-id-1 div.sk-parallel {display: flex;align-items: stretch;justify-content: center;background-color: white;position: relative;}#sk-container-id-1 div.sk-item::before, #sk-container-id-1 div.sk-parallel-item::before {content: \"\";position: absolute;border-left: 1px solid gray;box-sizing: border-box;top: 0;bottom: 0;left: 50%;z-index: -1;}#sk-container-id-1 div.sk-parallel-item {display: flex;flex-direction: column;z-index: 1;position: relative;background-color: white;}#sk-container-id-1 div.sk-parallel-item:first-child::after {align-self: flex-end;width: 50%;}#sk-container-id-1 div.sk-parallel-item:last-child::after {align-self: flex-start;width: 50%;}#sk-container-id-1 div.sk-parallel-item:only-child::after {width: 0;}#sk-container-id-1 div.sk-dashed-wrapped {border: 1px dashed gray;margin: 0 0.4em 0.5em 0.4em;box-sizing: border-box;padding-bottom: 0.4em;background-color: white;}#sk-container-id-1 div.sk-label label {font-family: monospace;font-weight: bold;display: inline-block;line-height: 1.2em;}#sk-container-id-1 div.sk-label-container {text-align: center;}#sk-container-id-1 div.sk-container {/* jupyter's `normalize.less` sets `[hidden] { display: none; }` but bootstrap.min.css set `[hidden] { display: none !important; }` so we also need the `!important` here to be able to override the default hidden behavior on the sphinx rendered scikit-learn.org. See: https://github.com/scikit-learn/scikit-learn/issues/21755 */display: inline-block !important;position: relative;}#sk-container-id-1 div.sk-text-repr-fallback {display: none;}</style><div id=\"sk-container-id-1\" class=\"sk-top-container\"><div class=\"sk-text-repr-fallback\"><pre>AdaBoostClassifier(n_estimators=150)</pre><b>In a Jupyter environment, please rerun this cell to show the HTML representation or trust the notebook. <br />On GitHub, the HTML representation is unable to render, please try loading this page with nbviewer.org.</b></div><div class=\"sk-container\" hidden><div class=\"sk-item\"><div class=\"sk-estimator sk-toggleable\"><input class=\"sk-toggleable__control sk-hidden--visually\" id=\"sk-estimator-id-1\" type=\"checkbox\" checked><label for=\"sk-estimator-id-1\" class=\"sk-toggleable__label sk-toggleable__label-arrow\">AdaBoostClassifier</label><div class=\"sk-toggleable__content\"><pre>AdaBoostClassifier(n_estimators=150)</pre></div></div></div></div></div>"
            ],
            "text/plain": [
              "AdaBoostClassifier(n_estimators=150)"
            ]
          },
          "execution_count": 49,
          "metadata": {},
          "output_type": "execute_result"
        }
      ],
      "source": [
        "# 개별 학습\n",
        "rf_clf.fit(X_train, y_train)\n",
        "df_clf.fit(X_train, y_train)\n",
        "ada_clf.fit(X_train, y_train)"
      ]
    },
    {
      "cell_type": "code",
      "execution_count": null,
      "id": "d8023b2d",
      "metadata": {
        "id": "d8023b2d",
        "outputId": "1ff5fd59-2365-45c1-d003-134cf0b07093"
      },
      "outputs": [
        {
          "name": "stdout",
          "output_type": "stream",
          "text": [
            "오차행렬 \n",
            " [[3343  185]\n",
            " [  89 3501]]\n",
            "정확도 : 0.9615, 정밀도: 0.9498,          재현율 : 0.9752, F1 : 0.9623, AUC : 0.9939\n",
            "RF모델 정확도\n",
            " None\n",
            "오차행렬 \n",
            " [[3394  134]\n",
            " [ 140 3450]]\n",
            "정확도 : 0.9615, 정밀도: 0.9626,          재현율 : 0.9610, F1 : 0.9618, AUC : 0.9964\n",
            "DT모델 정확도\n",
            " None\n",
            "오차행렬 \n",
            " [[2678  850]\n",
            " [ 577 3013]]\n",
            "정확도 : 0.7995, 정밀도: 0.7800,          재현율 : 0.8393, F1 : 0.8085, AUC : 0.8905\n",
            "Ada모델 정확도\n",
            " None\n"
          ]
        }
      ],
      "source": [
        "# 개별 모델들의 예측 데이터 생성(train)\n",
        "Trf_pred = rf_clf.predict(X_train)\n",
        "Tdt_pred = df_clf.predict(X_train)\n",
        "Tada_pred = ada_clf.predict(X_train)\n",
        "\n",
        "# pred_proba\n",
        "Trf_pred_proba = rf_clf.predict_proba(X_train)[:,1]\n",
        "Tdt_pred_proba = df_clf.predict_proba(X_train)[:,1]\n",
        "Tada_pred_proba = ada_clf.predict_proba(X_train)[:,1]\n",
        "\n",
        "# 모델 별 정확도\n",
        "print('RF모델 정확도\\n', score_funcs(y_train,Trf_pred,Trf_pred_proba))\n",
        "print('DT모델 정확도\\n', score_funcs(y_train,Tdt_pred,Tdt_pred_proba))\n",
        "print('Ada모델 정확도\\n', score_funcs(y_train,Tada_pred,Tada_pred_proba))"
      ]
    },
    {
      "cell_type": "code",
      "execution_count": null,
      "id": "7c1c57e9",
      "metadata": {
        "scrolled": true,
        "id": "7c1c57e9",
        "outputId": "61c2d35f-3171-4ed3-8637-80ff8af948d3"
      },
      "outputs": [
        {
          "name": "stdout",
          "output_type": "stream",
          "text": [
            "오차행렬 \n",
            " [[901 134]\n",
            " [160 899]]\n",
            "정확도 : 0.8596, 정밀도: 0.8703,          재현율 : 0.8489, F1 : 0.8595, AUC : 0.9267\n",
            "RF모델 정확도\n",
            " None\n",
            "오차행렬 \n",
            " [[839 196]\n",
            " [172 887]]\n",
            "정확도 : 0.8243, 정밀도: 0.8190,          재현율 : 0.8376, F1 : 0.8282, AUC : 0.8451\n",
            "DT모델 정확도\n",
            " None\n",
            "오차행렬 \n",
            " [[797 238]\n",
            " [180 879]]\n",
            "정확도 : 0.8004, 정밀도: 0.7869,          재현율 : 0.8300, F1 : 0.8079, AUC : 0.8848\n",
            "Ada모델 정확도\n",
            " None\n"
          ]
        }
      ],
      "source": [
        "# 개별 모델들의 예측 데이터 생성(test)\n",
        "rf_pred = rf_clf.predict(X_test)\n",
        "df_pred = df_clf.predict(X_test)\n",
        "ada_pred = ada_clf.predict(X_test)\n",
        "# pred_proba\n",
        "rf_pred_proba = rf_clf.predict_proba(X_test)[:,1]\n",
        "df_pred_proba = df_clf.predict_proba(X_test)[:,1]\n",
        "ada_pred_proba = ada_clf.predict_proba(X_test)[:,1]\n",
        "\n",
        "# 모델 별 정확도\n",
        "print('RF모델 정확도\\n', score_funcs(y_test,rf_pred,rf_pred_proba))\n",
        "print('DT모델 정확도\\n', score_funcs(y_test,df_pred,df_pred_proba))\n",
        "print('Ada모델 정확도\\n', score_funcs(y_test,ada_pred,ada_pred_proba))"
      ]
    },
    {
      "cell_type": "code",
      "execution_count": null,
      "id": "61086a49",
      "metadata": {
        "id": "61086a49",
        "outputId": "9d8a4fc4-bd57-497c-f87c-7686e97d2bbc"
      },
      "outputs": [
        {
          "name": "stdout",
          "output_type": "stream",
          "text": [
            "(3, 7118)\n",
            "(7118, 3)\n"
          ]
        }
      ],
      "source": [
        "# 검증 셋 데이터 용\n",
        "Tpred = np.array([Trf_pred, Tdt_pred, Tada_pred])\n",
        "print(Tpred.shape)\n",
        "\n",
        "# 칼럼 레벨로 각 알고리즘의 예측 결과를 피처로 만들기\n",
        "Tpred = np.transpose(Tpred)\n",
        "print(Tpred.shape)"
      ]
    },
    {
      "cell_type": "code",
      "execution_count": null,
      "id": "8ba70024",
      "metadata": {
        "id": "8ba70024",
        "outputId": "f3270212-e514-4a94-ff0c-c2d3e0f70207"
      },
      "outputs": [
        {
          "name": "stdout",
          "output_type": "stream",
          "text": [
            "오차행렬 \n",
            " [[3345  183]\n",
            " [  91 3499]]\n",
            "정확도 : 0.9615, 정밀도: 0.9503,          재현율 : 0.9747, F1 : 0.9623, AUC : 0.9738\n",
            "최종 메타 모델 정확도 \n",
            " None\n"
          ]
        }
      ],
      "source": [
        "# 최종 메타 모델 학습 및 예측(검증)\n",
        "lr_final.fit(Tpred, y_train)\n",
        "Tfinal = lr_final.predict(Tpred)\n",
        "Tfinal_proba = lr_final.predict_proba(Tpred)[:,1]\n",
        "print('최종 메타 모델 정확도 \\n',score_funcs(y_train, Tfinal,Tfinal_proba))"
      ]
    },
    {
      "cell_type": "code",
      "execution_count": null,
      "id": "c0234df6",
      "metadata": {
        "id": "c0234df6",
        "outputId": "deaec311-45a5-411e-8de7-3f62874ea268"
      },
      "outputs": [
        {
          "name": "stdout",
          "output_type": "stream",
          "text": [
            "(3, 2094)\n",
            "(2094, 3)\n"
          ]
        }
      ],
      "source": [
        "pred = np.array([rf_pred, df_pred, ada_pred])\n",
        "print(pred.shape)\n",
        "\n",
        "# 칼럼 레벨로 각 알고리즘의 예측 결과를 피처로 만들기\n",
        "pred = np.transpose(pred)\n",
        "print(pred.shape)"
      ]
    },
    {
      "cell_type": "code",
      "execution_count": null,
      "id": "4f48bcdf",
      "metadata": {
        "id": "4f48bcdf",
        "outputId": "039b654b-eb8d-4b0d-d94c-d55ec53d7344"
      },
      "outputs": [
        {
          "name": "stdout",
          "output_type": "stream",
          "text": [
            "오차행렬 \n",
            " [[894 141]\n",
            " [151 908]]\n",
            "정확도 : 0.8606, 정밀도: 0.8656,          재현율 : 0.8574, F1 : 0.8615, AUC : 0.8950\n",
            "최종 메타 모델 정확도 \n",
            " None\n"
          ]
        }
      ],
      "source": [
        "# 최종 메타 모델 학습 및 예측\n",
        "lr_final.fit(pred, y_test)\n",
        "final = lr_final.predict(pred)\n",
        "final_proba = lr_final.predict_proba(pred)[:,1]\n",
        "print('최종 메타 모델 정확도 \\n',score_funcs(y_test, final, final_proba))"
      ]
    },
    {
      "cell_type": "markdown",
      "id": "7cbbcbf1",
      "metadata": {
        "id": "7cbbcbf1"
      },
      "source": [
        "- 정확도 자체는 높은 편이지만, 과대적합이 심함"
      ]
    },
    {
      "cell_type": "markdown",
      "id": "a16e06b2",
      "metadata": {
        "id": "a16e06b2"
      },
      "source": [
        "## cv세트 기반 스태킹"
      ]
    },
    {
      "cell_type": "code",
      "execution_count": null,
      "id": "225c8ce9",
      "metadata": {
        "id": "225c8ce9"
      },
      "outputs": [],
      "source": [
        "# 개별 기반 모델에서 최종 모델이 사용할 학습 검정 데이터 생성 함수\n",
        "def get_data(model, X_train_n, y_train_n, X_test_n, n_folds):\n",
        "    # kfold 생성\n",
        "    kf = KFold(n_splits=n_folds, shuffle=False)\n",
        "    # 넘파이 배열 초기화\n",
        "    train_fold_pred = np.zeros((X_train_n.shape[0],1))\n",
        "    test_pred = np.zeros((X_test_n.shape[0], n_folds))\n",
        "    print(model.__class__.__name__, 'model 시작')\n",
        "    \n",
        "    for fold_counter, (train_index, valid_index) in enumerate(kf.split(X_train_n)):\n",
        "        # 기반 모델의 학습 예측 폴드 데이터 셋 추출\n",
        "        print('\\t 폴드세트 :', fold_counter, ' model 시작')\n",
        "        X_tr = X_train_n[train_index]\n",
        "        y_tr = y_train_n[train_index]\n",
        "        X_te = X_train_n[valid_index]\n",
        "        \n",
        "        # fitting(in foldsets)\n",
        "        model.fit(X_tr, y_tr)\n",
        "        # predicting(in foldsets)\n",
        "        train_fold_pred[valid_index, :] = model.predict(X_te).reshape(-1,1)\n",
        "        # predicting((in rawtest_sets))\n",
        "        test_pred[:,fold_counter] = model.predict(X_test_n)\n",
        "        \n",
        "    # make test data using mean of predict data\n",
        "    test_pred_mean = np.mean(test_pred, axis = 1).reshape(-1,1)\n",
        "    \n",
        "    # 생성된 학습, 테스트 데이터 반환\n",
        "    return train_fold_pred, test_pred_mean"
      ]
    },
    {
      "cell_type": "code",
      "execution_count": null,
      "id": "8af27e60",
      "metadata": {
        "id": "8af27e60"
      },
      "outputs": [],
      "source": [
        "# 배열로 값 바꾸기\n",
        "X_train_n = X_train.values\n",
        "y_train_n = y_train.values\n",
        "X_test_n = X_test.values"
      ]
    },
    {
      "cell_type": "code",
      "execution_count": null,
      "id": "dbfb4471",
      "metadata": {
        "scrolled": true,
        "id": "dbfb4471",
        "outputId": "b2f18dbe-6f87-4892-a24b-87c27c3abcda"
      },
      "outputs": [
        {
          "name": "stdout",
          "output_type": "stream",
          "text": [
            "RandomForestClassifier model 시작\n",
            "\t 폴드세트 : 0  model 시작\n",
            "\t 폴드세트 : 1  model 시작\n",
            "\t 폴드세트 : 2  model 시작\n",
            "\t 폴드세트 : 3  model 시작\n",
            "\t 폴드세트 : 4  model 시작\n",
            "DecisionTreeClassifier model 시작\n",
            "\t 폴드세트 : 0  model 시작\n",
            "\t 폴드세트 : 1  model 시작\n",
            "\t 폴드세트 : 2  model 시작\n",
            "\t 폴드세트 : 3  model 시작\n",
            "\t 폴드세트 : 4  model 시작\n",
            "AdaBoostClassifier model 시작\n",
            "\t 폴드세트 : 0  model 시작\n",
            "\t 폴드세트 : 1  model 시작\n",
            "\t 폴드세트 : 2  model 시작\n",
            "\t 폴드세트 : 3  model 시작\n",
            "\t 폴드세트 : 4  model 시작\n"
          ]
        }
      ],
      "source": [
        "rf_train, rf_test = get_data(rf_clf, X_train_n, y_train_n, X_test_n, 5)\n",
        "df_train, df_test = get_data(df_clf, X_train_n, y_train_n, X_test_n, 5)\n",
        "ada_train, ada_test = get_data(ada_clf, X_train_n, y_train_n, X_test_n, 5)"
      ]
    },
    {
      "cell_type": "code",
      "execution_count": null,
      "id": "ac101218",
      "metadata": {
        "id": "ac101218",
        "outputId": "c9a2ed8b-8177-48ee-dd1b-5c07709640ad"
      },
      "outputs": [
        {
          "name": "stdout",
          "output_type": "stream",
          "text": [
            "원본 피처 크기(학습, 테스트) (7118, 24) (2094, 24)\n",
            "스태킹 피처 크기(학습, 테스트) (7118, 3) (2094, 3)\n"
          ]
        }
      ],
      "source": [
        "final_X_train = np.concatenate((rf_train, df_train, ada_train), axis = 1)\n",
        "final_X_test = np.concatenate(( rf_test, df_test, ada_test), axis =1)\n",
        "print( '원본 피처 크기(학습, 테스트)', X_train.shape, X_test.shape)\n",
        "print( '스태킹 피처 크기(학습, 테스트)', final_X_train.shape, final_X_test.shape)"
      ]
    },
    {
      "cell_type": "code",
      "execution_count": null,
      "id": "08e379a3",
      "metadata": {
        "id": "08e379a3",
        "outputId": "6154be3e-2a9d-47b3-baa2-11507854abae"
      },
      "outputs": [
        {
          "name": "stdout",
          "output_type": "stream",
          "text": [
            "오차행렬 \n",
            " [[847 188]\n",
            " [171 888]]\n",
            "정확도 : 0.8286, 정밀도: 0.8253,          재현율 : 0.8385, F1 : 0.8319, AUC : 0.9046\n",
            "최종 메타 모델의 예측 정확도 \n",
            " None\n"
          ]
        }
      ],
      "source": [
        "# 최종 모델에 학습\n",
        "lr_final.fit(final_X_train, y_train)\n",
        "stack_final = lr_final.predict(final_X_test)\n",
        "stack_final_proba = lr_final.predict_proba(final_X_test)[:,1]\n",
        "print('최종 메타 모델의 예측 정확도 \\n', score_funcs(y_test, stack_final, stack_final_proba))"
      ]
    },
    {
      "cell_type": "code",
      "execution_count": null,
      "id": "dc4ba98f",
      "metadata": {
        "id": "dc4ba98f",
        "outputId": "d509d866-4f1f-4fc1-8272-bf9f92ee5c5b"
      },
      "outputs": [
        {
          "name": "stdout",
          "output_type": "stream",
          "text": [
            "오차행렬 \n",
            " [[2873  655]\n",
            " [ 832 2758]]\n",
            "정확도 : 0.7911, 정밀도: 0.8081,          재현율 : 0.7682, F1 : 0.7877, AUC : 0.8438\n",
            "최종 메타 모델의 예측 정확도 \n",
            " None\n"
          ]
        }
      ],
      "source": [
        "# train sets\n",
        "Tstack_final = lr_final.predict(final_X_train)\n",
        "Tstack_final_proba = lr_final.predict_proba(final_X_train)[:,1]\n",
        "print('최종 메타 모델의 예측 정확도 \\n', score_funcs(y_train, Tstack_final, Tstack_final_proba))"
      ]
    },
    {
      "cell_type": "markdown",
      "id": "f6a85468",
      "metadata": {
        "id": "f6a85468"
      },
      "source": [
        "- cv기반으로 진행하니 정확도는 떨어져 보이지만 \n",
        "- 과대적합이 해소 되고 과소 적합으로 전환"
      ]
    },
    {
      "cell_type": "markdown",
      "id": "2fdc18ad",
      "metadata": {
        "id": "2fdc18ad"
      },
      "source": [
        "# stacking ensemble & hyperopt"
      ]
    },
    {
      "cell_type": "code",
      "execution_count": null,
      "id": "769128a1",
      "metadata": {
        "id": "769128a1"
      },
      "outputs": [],
      "source": [
        "xg_clf = XGBClassifier()\n",
        "rf_clf = RandomForestClassifier(n_estimators=150, random_state=109)\n",
        "dt_clf = DecisionTreeClassifier()\n",
        "ada_clf = AdaBoostClassifier(n_estimators=150)\n",
        "\n",
        "# 스태킹 최종 모델\n",
        "lr_final = LogisticRegression(solver = 'liblinear')"
      ]
    },
    {
      "cell_type": "markdown",
      "id": "d6d33c27",
      "metadata": {
        "id": "d6d33c27"
      },
      "source": [
        "## 개별 모델들 하이퍼 오피티\n",
        "### GridSearchCV_Knn & Ada"
      ]
    },
    {
      "cell_type": "code",
      "execution_count": null,
      "id": "a11e245a",
      "metadata": {
        "id": "a11e245a",
        "outputId": "9e40db40-45a2-41b3-85ea-aedac8e9574e"
      },
      "outputs": [
        {
          "name": "stdout",
          "output_type": "stream",
          "text": [
            "Fitting 5 folds for each of 30 candidates, totalling 150 fits\n",
            "최고 평균 정확도 : 0.7903934755659432\n",
            "최고의 파라미터 : {'learning_rate': 0.95, 'n_estimators': 90}\n"
          ]
        }
      ],
      "source": [
        "# GridSearchCV, 하이퍼파라미터 조정 값이 작은 모델\n",
        "ada_grid = {\n",
        "      'learning_rate' : [0.5,0.65,0.78,0.88,0.95],\n",
        "    'n_estimators' : [25,50,75,90,100,150]\n",
        "  }\n",
        "ada_gridCV = GridSearchCV(ada_clf, param_grid = ada_grid, scoring=\"accuracy\", cv=5, n_jobs=-1, verbose =1)\n",
        "\n",
        "ada_gridCV.fit(X_train,y_train)\n",
        "print(\"최고 평균 정확도 : {}\".format(ada_gridCV.best_score_))\n",
        "print(\"최고의 파라미터 :\", ada_gridCV.best_params_)\n"
      ]
    },
    {
      "cell_type": "code",
      "execution_count": null,
      "id": "7e5338d7",
      "metadata": {
        "id": "7e5338d7",
        "outputId": "2cd17505-31f7-49cd-97b0-11cc1a86d7cd"
      },
      "outputs": [
        {
          "name": "stdout",
          "output_type": "stream",
          "text": [
            "오차행렬 \n",
            " [[808 227]\n",
            " [189 870]]\n",
            "정확도 : 0.8013, 정밀도: 0.7931,          재현율 : 0.8215, F1 : 0.8071, AUC : 0.8856\n",
            "## Ada 정확도 \n",
            " None\n"
          ]
        }
      ],
      "source": [
        "# Ada모델링\n",
        "ada_model = AdaBoostClassifier(n_estimators=90,\n",
        "                               learning_rate = 0.95).fit(X_train, y_train)\n",
        "ada_pred = ada_model.predict(X_test)\n",
        "ada_proba = ada_model.predict_proba(X_test)[:,1]\n",
        "print('## Ada 정확도 \\n', score_funcs(y_test, ada_pred, ada_proba))"
      ]
    },
    {
      "cell_type": "code",
      "execution_count": null,
      "id": "2c089d8e",
      "metadata": {
        "id": "2c089d8e",
        "outputId": "d99996cc-cac4-4e83-a4f8-ceab2b452a9a"
      },
      "outputs": [
        {
          "name": "stdout",
          "output_type": "stream",
          "text": [
            "오차행렬 \n",
            " [[2711  817]\n",
            " [ 619 2971]]\n",
            "정확도 : 0.7983, 정밀도: 0.7843,          재현율 : 0.8276, F1 : 0.8054, AUC : 0.8876\n",
            "## Ada 정확도(train) \n",
            " None\n"
          ]
        }
      ],
      "source": [
        "# 학습세트\n",
        "Tada_pred = ada_model.predict(X_train)\n",
        "Tada_proba = ada_model.predict_proba(X_train)[:,1]\n",
        "print('## Ada 정확도(train) \\n', score_funcs(y_train, Tada_pred, Tada_proba))"
      ]
    },
    {
      "cell_type": "code",
      "execution_count": null,
      "id": "0f440d4f",
      "metadata": {
        "id": "0f440d4f"
      },
      "outputs": [],
      "source": [
        "# hyperopt 적용을 위한 설정 값 담기\n",
        "xgb_search_space = {'max_depth': hp.quniform('max_depth', 5, 20, 1),\n",
        "                    'min_child_weight': hp.quniform('min_child_weight', 1, 2, 1),\n",
        "                    'learning_rate': hp.uniform('learning_rate', 0.01, 0.2),\n",
        "                    'colsample_bytree': hp.uniform('colsample_bytree', 0.5, 1)\n",
        "               }\n",
        "rf_search_space = {'criterion': hp.choice('criterion', ['entropy', 'gini']),\n",
        "        'max_depth': hp.quniform('max_depth', 10, 12, 10),\n",
        "        'max_features': hp.choice('max_features', ['auto', 'sqrt','log2', None]),\n",
        "        'min_samples_leaf': hp.uniform ('min_samples_leaf', 0, 0.5),\n",
        "        'min_samples_split' : hp.uniform ('min_samples_split', 0, 1),\n",
        "        'n_estimators' : hp.choice('n_estimators', [10, 50])\n",
        "                  }\n",
        "dt_search_space = {'max_depth': hp.quniform('max_depth', 10, 12, 10),\n",
        "                   'n_estimators': hp.choice('n_estimators', [10,50]),\n",
        "                    'min_samples_leaf': hp.uniform ('min_samples_leaf', 0, 0.5),\n",
        "        'min_samples_split' : hp.uniform ('min_samples_split', 0, 1)\n",
        "                                             }"
      ]
    },
    {
      "cell_type": "code",
      "execution_count": null,
      "id": "4e3eb582",
      "metadata": {
        "id": "4e3eb582"
      },
      "outputs": [],
      "source": [
        "# 실행을 위한 함수 정의\n",
        "def xg_objective_func(search_space):\n",
        "    xgb_clf = XGBClassifier(n_estimators=50, max_depth=int(search_space['max_depth']),\n",
        "                            min_child_weight=int(search_space['min_child_weight']),\n",
        "                            learning_rate=search_space['learning_rate'],\n",
        "                            colsample_bytree=search_space['colsample_bytree'], \n",
        "                            eval_metric='logloss')\n",
        "    accuracy = cross_val_score(xgb_clf, X_train, y_train, scoring='accuracy', cv=3)\n",
        "    return {'loss':-1 * np.mean(accuracy), 'status': STATUS_OK}\n",
        "\n",
        "    \n",
        "def rf_objective_func(rf_search_space):    \n",
        "    rf_clf = RandomForestClassifier(criterion = rf_search_space['criterion'], \n",
        "                                   max_depth = int(rf_search_space['max_depth']),\n",
        "                                 max_features = rf_search_space['max_features'],\n",
        "                                 min_samples_leaf = rf_search_space['min_samples_leaf'],\n",
        "                                 min_samples_split = rf_search_space['min_samples_split'],\n",
        "                                 n_estimators = rf_search_space['n_estimators'], \n",
        "                                 )\n",
        "    rf_accuracy = cross_val_score(rf_clf, X_train, y_train, cv = 4).mean()\n",
        "    return { 'loss':-1 *rf_accuracy,'status': STATUS_OK}\n",
        "\n",
        "def dt_objective_func(dt_search_space):    \n",
        "    dt_clf = RandomForestClassifier(max_depth = int(dt_search_space['max_depth']),\n",
        "\n",
        "                                 min_samples_leaf = dt_search_space['min_samples_leaf'],\n",
        "                                 min_samples_split = dt_search_space['min_samples_split'],\n",
        "                                 n_estimators = dt_search_space['n_estimators'], \n",
        "                                 )\n",
        "    dt_accuracy = cross_val_score(dt_clf, X_train, y_train, cv = 4).mean()\n",
        "    return { 'loss':-1 *dt_accuracy,'status': STATUS_OK}\n"
      ]
    },
    {
      "cell_type": "markdown",
      "id": "4a85c6eb",
      "metadata": {
        "id": "4a85c6eb"
      },
      "source": [
        "### XGBClassifier의 hyperopt"
      ]
    },
    {
      "cell_type": "code",
      "execution_count": null,
      "id": "220c5408",
      "metadata": {
        "id": "220c5408",
        "outputId": "c67224d8-094d-47a2-b124-a00066c155e3"
      },
      "outputs": [
        {
          "name": "stdout",
          "output_type": "stream",
          "text": [
            "100%|████████████████████████████████████████████████| 50/50 [00:27<00:00,  1.81trial/s, best loss: -0.806266606688938]\n",
            "best: {'colsample_bytree': 0.6193829886091825, 'learning_rate': 0.13704847650855984, 'max_depth': 7.0, 'min_child_weight': 1.0}\n"
          ]
        }
      ],
      "source": [
        "trial_val = Trials()\n",
        "xgb_best = fmin(fn=xg_objective_func,\n",
        "            space=xgb_search_space,\n",
        "            algo=tpe.suggest,\n",
        "            max_evals=50,\n",
        "            trials=trial_val, rstate=np.random.default_rng(seed=9))\n",
        "print('best:', xgb_best)"
      ]
    },
    {
      "cell_type": "code",
      "execution_count": null,
      "id": "301f7bff",
      "metadata": {
        "id": "301f7bff",
        "outputId": "9eb346f5-d0fe-462b-d4b6-83fee10075f4"
      },
      "outputs": [
        {
          "name": "stdout",
          "output_type": "stream",
          "text": [
            "## XGB, n_estimators=150\n",
            "오차행렬 \n",
            " [[860 175]\n",
            " [161 898]]\n",
            "정확도 : 0.8395, 정밀도: 0.8369,          재현율 : 0.8480, F1 : 0.8424, AUC : 0.9188\n"
          ]
        }
      ],
      "source": [
        "# 모델링\n",
        "xg_model = XGBClassifier(n_estimators=200, \n",
        "                          learning_rate=round(xgb_best['learning_rate'], 5), \n",
        "                            max_depth=int(xgb_best['max_depth']),\n",
        "                          min_child_weight=int(xgb_best['min_child_weight']),\n",
        "                            colsample_bytree=round(xgb_best['colsample_bytree'], 5)\n",
        "                           )\n",
        "xg_model.fit(X_train, y_train)\n",
        "xgb_pred= xg_model.predict(X_test)\n",
        "xgb_pred_proba = xg_model.predict_proba(X_test)[:,1]\n",
        "print('## XGB, n_estimators=150')\n",
        "score_funcs(y_test, xgb_pred, xgb_pred_proba)"
      ]
    },
    {
      "cell_type": "code",
      "execution_count": null,
      "id": "6556419d",
      "metadata": {
        "id": "6556419d",
        "outputId": "354df325-39af-494c-80a5-c15194c6447b"
      },
      "outputs": [
        {
          "name": "stdout",
          "output_type": "stream",
          "text": [
            "## XGB Train세트, n_estimators=200\n",
            "오차행렬 \n",
            " [[3118  410]\n",
            " [ 310 3280]]\n",
            "정확도 : 0.8988, 정밀도: 0.8889,          재현율 : 0.9136, F1 : 0.9011, AUC : 0.9675\n"
          ]
        }
      ],
      "source": [
        "# train 세트\n",
        "Txgb_pred= xg_model.predict(X_train)\n",
        "Txgb_pred_proba = xg_model.predict_proba(X_train)[:,1]\n",
        "print('## XGB Train세트, n_estimators=200')\n",
        "score_funcs(y_train, Txgb_pred, Txgb_pred_proba)"
      ]
    },
    {
      "cell_type": "markdown",
      "id": "384fc95c",
      "metadata": {
        "id": "384fc95c"
      },
      "source": [
        "### RFClassifier의 hyper opt"
      ]
    },
    {
      "cell_type": "code",
      "execution_count": null,
      "id": "5cff55f2",
      "metadata": {
        "id": "5cff55f2",
        "outputId": "be12fe7b-64c3-4e5e-f932-2fe72accfc08"
      },
      "outputs": [
        {
          "name": "stdout",
          "output_type": "stream",
          "text": [
            "100%|███████████████████████████████████████████████| 50/50 [00:15<00:00,  3.21trial/s, best loss: -0.7589212630501924]\n",
            "best: {'criterion': 0, 'max_depth': 10.0, 'max_features': 0, 'min_samples_leaf': 0.015616032067591091, 'min_samples_split': 0.05979986228499941, 'n_estimators': 1}\n"
          ]
        }
      ],
      "source": [
        "## RandomForest\n",
        "trials = Trials()\n",
        "rf_best = fmin(fn= rf_objective_func,\n",
        "            space= rf_search_space,\n",
        "            algo= tpe.suggest,\n",
        "            max_evals = 50,\n",
        "            trials= trials)\n",
        "print('best:', rf_best)"
      ]
    },
    {
      "cell_type": "code",
      "execution_count": null,
      "id": "64618bc3",
      "metadata": {
        "id": "64618bc3",
        "outputId": "84d4d13a-1efb-44fc-87b3-3d320dc8d0f9"
      },
      "outputs": [
        {
          "name": "stdout",
          "output_type": "stream",
          "text": [
            "## RFC\n",
            "오차행렬 \n",
            " [[849 186]\n",
            " [335 724]]\n",
            "정확도 : 0.7512, 정밀도: 0.7956,          재현율 : 0.6837, F1 : 0.7354, AUC : 0.8614\n"
          ]
        }
      ],
      "source": [
        "# quniform과 choice의 경우 무작위 형태라 설정값 딕셔너리를 따로 정의\n",
        "crit = {0: 'entropy', 1: 'gini'}\n",
        "feat = {0: 'auto', 1: 'sqrt', 2: 'log2', 3: None}\n",
        "est = {0: 10, 1: 50, 2: 75, 3: 100, 4: 125}\n",
        "# 모델링\n",
        "rf_model = RandomForestClassifier(criterion = crit[rf_best['criterion']], \n",
        "                                      max_depth = int(rf_best['max_depth']), \n",
        "                                      max_features = feat[rf_best['max_features']], \n",
        "                                      min_samples_leaf = rf_best['min_samples_leaf'], \n",
        "                                      min_samples_split = rf_best['min_samples_split'], \n",
        "                                      n_estimators = est[rf_best['n_estimators']])\n",
        "                                    \n",
        "\n",
        "rf_model.fit(X_train, y_train)\n",
        "rf_pred= rf_model.predict(X_test)\n",
        "rf_pred_proba = rf_model.predict_proba(X_test)[:,1]\n",
        "print('## RFC')\n",
        "score_funcs(y_test, rf_pred, rf_pred_proba)"
      ]
    },
    {
      "cell_type": "code",
      "execution_count": null,
      "id": "5331a309",
      "metadata": {
        "id": "5331a309",
        "outputId": "d0afa6dc-4bb5-4cb4-d5d9-e9104058d70c"
      },
      "outputs": [
        {
          "name": "stdout",
          "output_type": "stream",
          "text": [
            "## RFC 학습 세트\n",
            "오차행렬 \n",
            " [[2861  667]\n",
            " [1124 2466]]\n",
            "정확도 : 0.7484, 정밀도: 0.7871,          재현율 : 0.6869, F1 : 0.7336, AUC : 0.8568\n"
          ]
        }
      ],
      "source": [
        "# train 세트\n",
        "Trf_pred= rf_model.predict(X_train)\n",
        "Trf_pred_proba = rf_model.predict_proba(X_train)[:,1]\n",
        "print('## RFC 학습 세트')\n",
        "score_funcs(y_train, Trf_pred, Trf_pred_proba)"
      ]
    },
    {
      "cell_type": "markdown",
      "id": "0089e151",
      "metadata": {
        "id": "0089e151"
      },
      "source": [
        "### DTClassifier의 hyperopt"
      ]
    },
    {
      "cell_type": "code",
      "execution_count": null,
      "id": "d1459847",
      "metadata": {
        "id": "d1459847",
        "outputId": "ef34ad80-3514-4229-d035-4d10f57c4289"
      },
      "outputs": [
        {
          "name": "stdout",
          "output_type": "stream",
          "text": [
            "100%|███████████████████████████████████████████████| 50/50 [00:08<00:00,  5.97trial/s, best loss: -0.7864572477910201]\n",
            "best: {'max_depth': 10.0, 'min_samples_leaf': 0.0019192023504284435, 'min_samples_split': 0.0006829804967916457, 'n_estimators': 0}\n"
          ]
        }
      ],
      "source": [
        "## DecisionTreeClassifier\n",
        "trials = Trials()\n",
        "dt_best = fmin(fn= dt_objective_func,\n",
        "            space= dt_search_space,\n",
        "            algo= tpe.suggest,\n",
        "            max_evals = 50,\n",
        "            trials= trials)\n",
        "print('best:', dt_best)"
      ]
    },
    {
      "cell_type": "code",
      "execution_count": null,
      "id": "325c1e33",
      "metadata": {
        "id": "325c1e33",
        "outputId": "c982f6cb-37b3-4673-ef83-5fc2d4102984"
      },
      "outputs": [
        {
          "name": "stdout",
          "output_type": "stream",
          "text": [
            "## DTC\n",
            "오차행렬 \n",
            " [[799 236]\n",
            " [186 873]]\n",
            "정확도 : 0.7985, 정밀도: 0.7872,          재현율 : 0.8244, F1 : 0.8054, AUC : 0.8898\n"
          ]
        }
      ],
      "source": [
        "# 모델링\n",
        "dt_model = RandomForestClassifier(max_depth = int(dt_best['max_depth']), \n",
        "                                      min_samples_leaf = dt_best['min_samples_leaf'], \n",
        "                                      min_samples_split = dt_best['min_samples_split'], \n",
        "                                      n_estimators = est[dt_best['n_estimators']])\n",
        "                                    \n",
        "\n",
        "dt_model.fit(X_train, y_train)\n",
        "dt_pred= dt_model.predict(X_test)\n",
        "dt_pred_proba = dt_model.predict_proba(X_test)[:,1]\n",
        "print('## DTC')\n",
        "score_funcs(y_test, dt_pred, dt_pred_proba)"
      ]
    },
    {
      "cell_type": "code",
      "execution_count": null,
      "id": "0e8b163a",
      "metadata": {
        "id": "0e8b163a",
        "outputId": "878ed328-c069-4a31-cacf-eac89f1a650f"
      },
      "outputs": [
        {
          "name": "stdout",
          "output_type": "stream",
          "text": [
            "## DTC train sets\n",
            "오차행렬 \n",
            " [[2773  755]\n",
            " [ 594 2996]]\n",
            "정확도 : 0.8105, 정밀도: 0.7987,          재현율 : 0.8345, F1 : 0.8162, AUC : 0.9015\n"
          ]
        }
      ],
      "source": [
        "# train 세트\n",
        "Tdt_pred= dt_model.predict(X_train)\n",
        "Tdt_pred_proba = dt_model.predict_proba(X_train)[:,1]\n",
        "print('## DTC train sets')\n",
        "score_funcs(y_train, Tdt_pred, Tdt_pred_proba)"
      ]
    },
    {
      "cell_type": "markdown",
      "id": "df244a8d",
      "metadata": {
        "id": "df244a8d"
      },
      "source": [
        "## 최종 모델 용"
      ]
    },
    {
      "cell_type": "code",
      "execution_count": null,
      "id": "adda8691",
      "metadata": {
        "id": "adda8691",
        "outputId": "2a62cbd1-bed8-4dec-9b7b-1859f04f4c85"
      },
      "outputs": [
        {
          "name": "stdout",
          "output_type": "stream",
          "text": [
            "(4, 2094)\n",
            "(2094, 4)\n"
          ]
        }
      ],
      "source": [
        "lr_pred = np.array([xgb_pred, rf_pred, dt_pred, ada_pred])\n",
        "print(lr_pred.shape)\n",
        "\n",
        "# 칼럼 레벨로 각 알고리즘의 예측 결과를 피처로 만들기\n",
        "lr_pred = np.transpose(lr_pred)\n",
        "print(lr_pred.shape)"
      ]
    },
    {
      "cell_type": "code",
      "execution_count": null,
      "id": "ca3acf90",
      "metadata": {
        "id": "ca3acf90",
        "outputId": "e83ac5c2-4c9d-4d11-a5b3-4997c5389d8a"
      },
      "outputs": [
        {
          "name": "stdout",
          "output_type": "stream",
          "text": [
            "오차행렬 \n",
            " [[860 175]\n",
            " [161 898]]\n",
            "정확도 : 0.8395, 정밀도: 0.8369,          재현율 : 0.8480, F1 : 0.8424, AUC : 0.8695\n",
            "최종 메타 모델 정확도 \n",
            " None\n"
          ]
        }
      ],
      "source": [
        "# 최종 메타 모델 학습 및 예측\n",
        "lr_final.fit(lr_pred, y_test)\n",
        "final = lr_final.predict(lr_pred)\n",
        "final_proba = lr_final.predict_proba(lr_pred)[:,1]\n",
        "print('최종 메타 모델 정확도 \\n',score_funcs(y_test, final, final_proba))"
      ]
    },
    {
      "cell_type": "code",
      "execution_count": null,
      "id": "fc0d0749",
      "metadata": {
        "id": "fc0d0749",
        "outputId": "a2ed756a-17ef-453c-f256-30e47e6475f4"
      },
      "outputs": [
        {
          "name": "stdout",
          "output_type": "stream",
          "text": [
            "(4, 7118)\n",
            "(7118, 4)\n"
          ]
        }
      ],
      "source": [
        "# 검증 셋 데이터 용\n",
        "Tpred = np.array([Txgb_pred, Trf_pred, Tdt_pred, Tada_pred])\n",
        "print(Tpred.shape)\n",
        "\n",
        "# 칼럼 레벨로 각 알고리즘의 예측 결과를 피처로 만들기\n",
        "Tpred = np.transpose(Tpred)\n",
        "print(Tpred.shape)"
      ]
    },
    {
      "cell_type": "code",
      "execution_count": null,
      "id": "f6c73534",
      "metadata": {
        "id": "f6c73534",
        "outputId": "db987b32-4a0e-4107-f65a-80fbed542929"
      },
      "outputs": [
        {
          "name": "stdout",
          "output_type": "stream",
          "text": [
            "오차행렬 \n",
            " [[3118  410]\n",
            " [ 310 3280]]\n",
            "정확도 : 0.8988, 정밀도: 0.8889,          재현율 : 0.9136, F1 : 0.9011, AUC : 0.9080\n",
            "최종 메타 모델 정확도 \n",
            " None\n"
          ]
        }
      ],
      "source": [
        "# 최종 메타 모델 학습 및 예측(검증)\n",
        "lr_final.fit(Tpred, y_train)\n",
        "Tfinal = lr_final.predict(Tpred)\n",
        "Tfinal_proba = lr_final.predict_proba(Tpred)[:,1]\n",
        "print('최종 메타 모델 정확도 \\n',score_funcs(y_train, Tfinal,Tfinal_proba))"
      ]
    },
    {
      "cell_type": "markdown",
      "id": "2bedd0dc",
      "metadata": {
        "id": "2bedd0dc"
      },
      "source": [
        "- 하이퍼오피티를 실시하여 최적화를 구했더니 정확도도 올라가고 기존스태킹 앙상블보다는 과대적합이 적은편"
      ]
    },
    {
      "cell_type": "markdown",
      "id": "b783c9a5",
      "metadata": {
        "id": "b783c9a5"
      },
      "source": [
        "## 최종모델 cv기반 스태킹"
      ]
    },
    {
      "cell_type": "code",
      "execution_count": null,
      "id": "84fe1a57",
      "metadata": {
        "id": "84fe1a57"
      },
      "outputs": [],
      "source": [
        "# 배열로 값 바꾸기\n",
        "X_train_n = X_train.values\n",
        "y_train_n = y_train.values\n",
        "X_test_n = X_test.values"
      ]
    },
    {
      "cell_type": "code",
      "execution_count": null,
      "id": "a5bba976",
      "metadata": {
        "id": "a5bba976",
        "outputId": "f72456e5-9b77-4081-eefa-e7d2164bb513"
      },
      "outputs": [
        {
          "name": "stdout",
          "output_type": "stream",
          "text": [
            "RandomForestClassifier model 시작\n",
            "\t 폴드세트 : 0  model 시작\n",
            "\t 폴드세트 : 1  model 시작\n",
            "\t 폴드세트 : 2  model 시작\n",
            "\t 폴드세트 : 3  model 시작\n",
            "\t 폴드세트 : 4  model 시작\n",
            "DecisionTreeClassifier model 시작\n",
            "\t 폴드세트 : 0  model 시작\n",
            "\t 폴드세트 : 1  model 시작\n",
            "\t 폴드세트 : 2  model 시작\n",
            "\t 폴드세트 : 3  model 시작\n",
            "\t 폴드세트 : 4  model 시작\n",
            "AdaBoostClassifier model 시작\n",
            "\t 폴드세트 : 0  model 시작\n",
            "\t 폴드세트 : 1  model 시작\n",
            "\t 폴드세트 : 2  model 시작\n",
            "\t 폴드세트 : 3  model 시작\n",
            "\t 폴드세트 : 4  model 시작\n"
          ]
        }
      ],
      "source": [
        "rf_train, rf_test = get_data(rf_clf, X_train_n, y_train_n, X_test_n, 5)\n",
        "df_train, df_test = get_data(df_clf, X_train_n, y_train_n, X_test_n, 5)\n",
        "ada_train, ada_test = get_data(ada_clf, X_train_n, y_train_n, X_test_n, 5)"
      ]
    },
    {
      "cell_type": "code",
      "execution_count": null,
      "id": "af28c481",
      "metadata": {
        "id": "af28c481",
        "outputId": "b7a5a301-643f-4046-a4aa-acc3723e7e3a"
      },
      "outputs": [
        {
          "name": "stdout",
          "output_type": "stream",
          "text": [
            "원본 피처 크기(학습, 테스트) (7118, 24) (2094, 24)\n",
            "스태킹 피처 크기(학습, 테스트) (7118, 3) (2094, 3)\n"
          ]
        }
      ],
      "source": [
        "final_X_train = np.concatenate((rf_train, df_train, ada_train), axis = 1)\n",
        "final_X_test = np.concatenate(( rf_test, df_test, ada_test), axis =1)\n",
        "print( '원본 피처 크기(학습, 테스트)', X_train.shape, X_test.shape)\n",
        "print( '스태킹 피처 크기(학습, 테스트)', final_X_train.shape, final_X_test.shape)"
      ]
    },
    {
      "cell_type": "code",
      "execution_count": null,
      "id": "d7ea66c9",
      "metadata": {
        "id": "d7ea66c9",
        "outputId": "fe1e26ca-4056-42d9-c204-d89b9ee13756"
      },
      "outputs": [
        {
          "name": "stdout",
          "output_type": "stream",
          "text": [
            "오차행렬 \n",
            " [[848 187]\n",
            " [171 888]]\n",
            "정확도 : 0.8290, 정밀도: 0.8260,          재현율 : 0.8385, F1 : 0.8322, AUC : 0.9055\n",
            "최종 메타 모델의 예측 정확도 \n",
            " None\n"
          ]
        }
      ],
      "source": [
        "# 최종 모델에 학습\n",
        "lr_final.fit(final_X_train, y_train)\n",
        "stack_final = lr_final.predict(final_X_test)\n",
        "stack_final_proba = lr_final.predict_proba(final_X_test)[:,1]\n",
        "print('최종 메타 모델의 예측 정확도 \\n', score_funcs(y_test, stack_final, stack_final_proba))"
      ]
    },
    {
      "cell_type": "code",
      "execution_count": null,
      "id": "dd6edd7e",
      "metadata": {
        "id": "dd6edd7e",
        "outputId": "1e96a8ee-f25e-4b85-feec-b3a645512f3b"
      },
      "outputs": [
        {
          "name": "stdout",
          "output_type": "stream",
          "text": [
            "오차행렬 \n",
            " [[2870  658]\n",
            " [ 836 2754]]\n",
            "정확도 : 0.7901, 정밀도: 0.8072,          재현율 : 0.7671, F1 : 0.7866, AUC : 0.8447\n",
            "최종 메타 모델의 예측 정확도 \n",
            " None\n"
          ]
        }
      ],
      "source": [
        "# train sets\n",
        "Tstack_final = lr_final.predict(final_X_train)\n",
        "Tstack_final_proba = lr_final.predict_proba(final_X_train)[:,1]\n",
        "print('최종 메타 모델의 예측 정확도 \\n', score_funcs(y_train, Tstack_final, Tstack_final_proba))"
      ]
    },
    {
      "cell_type": "markdown",
      "id": "d3daae42",
      "metadata": {
        "id": "d3daae42"
      },
      "source": [
        "# 개별 모델 대체한 스태킹 앙상블\n",
        "<br>\n",
        "\n",
        "- 정확도를 조금 더 올리기 위해 AdaboostClassifier모델을 제거하고, LGBMClassifier 모델을 사용함\n",
        "- LGBMClassifier\n",
        " >  속도가 빠르고 데이터 수가 많을 때 편리한 알고리즘이다. <br>\n",
        " 다른 트리기반 알고리즘과 달리 트리가 수평적으로 확장한다는 차이점이 있다.\n"
      ]
    },
    {
      "cell_type": "code",
      "execution_count": null,
      "id": "019af1ce",
      "metadata": {
        "id": "019af1ce"
      },
      "outputs": [],
      "source": [
        "xgb_clf = XGBClassifier()\n",
        "lgbm_clf = LGBMClassifier(n_estimators=150, random_state=109)\n",
        "rf_clf = RandomForestClassifier(n_estimators=150, random_state=109)\n",
        "df_clf = DecisionTreeClassifier()\n",
        "\n",
        "# 스태킹 최종 모델\n",
        "lr_final = LogisticRegression(solver = 'liblinear')"
      ]
    },
    {
      "cell_type": "code",
      "execution_count": null,
      "id": "2d125674",
      "metadata": {
        "id": "2d125674",
        "outputId": "1fa8ca4c-0a1a-4a41-a00d-8268671cdca3"
      },
      "outputs": [
        {
          "name": "stdout",
          "output_type": "stream",
          "text": [
            "오차행렬 \n",
            " [[3131  397]\n",
            " [ 307 3283]]\n",
            "정확도 : 0.9011, 정밀도: 0.8921,          재현율 : 0.9145, F1 : 0.9032, AUC : 0.9698\n",
            "XG모델 정확도(train)\n",
            " None\n",
            "오차행렬 \n",
            " [[3098  430]\n",
            " [ 369 3221]]\n",
            "정확도 : 0.8877, 정밀도: 0.8822,          재현율 : 0.8972, F1 : 0.8897, AUC : 0.9626\n",
            "LG모델 정확도(train)\n",
            " None\n",
            "오차행렬 \n",
            " [[3343  185]\n",
            " [  89 3501]]\n",
            "정확도 : 0.9615, 정밀도: 0.9498,          재현율 : 0.9752, F1 : 0.9623, AUC : 0.9939\n",
            "RF모델 정확도(train)\n",
            " None\n",
            "오차행렬 \n",
            " [[3394  134]\n",
            " [ 140 3450]]\n",
            "정확도 : 0.9615, 정밀도: 0.9626,          재현율 : 0.9610, F1 : 0.9618, AUC : 0.9964\n",
            "DT모델 정확도(train)\n",
            " None\n"
          ]
        }
      ],
      "source": [
        "# train sets\n",
        "Txgb_pred = xgb_clf.predict(X_train)\n",
        "Tlgbm_pred = lgbm_clf.predict(X_train)\n",
        "Trf_pred = rf_clf.predict(X_train)\n",
        "Tdf_pred = df_clf.predict(X_train)\n",
        "\n",
        "# pred_proba\n",
        "Txgb_pred_proba = xgb_clf.predict_proba(X_train)[:,1]\n",
        "Tlgbm_pred_proba = lgbm_clf.predict_proba(X_train)[:,1]\n",
        "Trf_pred_proba = rf_clf.predict_proba(X_train)[:,1]\n",
        "Tdf_pred_proba = df_clf.predict_proba(X_train)[:,1]\n",
        "# 모델 별 정확도\n",
        "print('XG모델 정확도(train)\\n', score_funcs(y_train,Txgb_pred,Txgb_pred_proba))\n",
        "print('LG모델 정확도(train)\\n', score_funcs(y_train,Tlgbm_pred,Tlgbm_pred_proba))\n",
        "print('RF모델 정확도(train)\\n', score_funcs(y_train,Trf_pred,Trf_pred_proba))\n",
        "print('DT모델 정확도(train)\\n', score_funcs(y_train,Tdf_pred,Tdf_pred_proba))"
      ]
    },
    {
      "cell_type": "code",
      "execution_count": null,
      "id": "65b51dd8",
      "metadata": {
        "id": "65b51dd8",
        "outputId": "796da60d-319b-4b18-a037-196ead3735ca"
      },
      "outputs": [
        {
          "name": "stdout",
          "output_type": "stream",
          "text": [
            "(4, 2094)\n",
            "(2094, 4)\n"
          ]
        }
      ],
      "source": [
        "pred = np.array([xgb_pred, lgbm_pred, rf_pred, df_pred])\n",
        "print(pred.shape)\n",
        "\n",
        "# 칼럼 레벨로 각 알고리즘의 예측 결과를 피처로 만들기\n",
        "pred = np.transpose(pred)\n",
        "print(pred.shape)"
      ]
    },
    {
      "cell_type": "code",
      "execution_count": null,
      "id": "851b37a4",
      "metadata": {
        "scrolled": true,
        "id": "851b37a4",
        "outputId": "4b677f62-ef5f-4257-810e-7671b7e6a859"
      },
      "outputs": [
        {
          "name": "stdout",
          "output_type": "stream",
          "text": [
            "오차행렬 \n",
            " [[898 137]\n",
            " [153 906]]\n",
            "정확도 : 0.8615, 정밀도: 0.8686,          재현율 : 0.8555, F1 : 0.8620, AUC : 0.8973\n",
            "최종 메타 모델 정확도 \n",
            " None\n"
          ]
        }
      ],
      "source": [
        "# 최종 메타 모델 학습 및 예측\n",
        "lr_final.fit(pred, y_test)\n",
        "final = lr_final.predict(pred)\n",
        "final_proba = lr_final.predict_proba(pred)[:,1]\n",
        "print('최종 메타 모델 정확도 \\n',score_funcs(y_test, final, final_proba))"
      ]
    },
    {
      "cell_type": "code",
      "execution_count": null,
      "id": "ee5410f0",
      "metadata": {
        "scrolled": true,
        "id": "ee5410f0",
        "outputId": "4be47666-8071-4a1c-a055-420f105dab2f"
      },
      "outputs": [
        {
          "name": "stdout",
          "output_type": "stream",
          "text": [
            "(4, 7118)\n",
            "(7118, 4)\n",
            "오차행렬 \n",
            " [[3348  180]\n",
            " [  94 3496]]\n",
            "정확도 : 0.9615, 정밀도: 0.9510,          재현율 : 0.9738, F1 : 0.9623, AUC : 0.9749\n",
            "최종 메타 모델 정확도(train) \n",
            " None\n"
          ]
        }
      ],
      "source": [
        "# train sets\n",
        "Tpred = np.array([Txgb_pred, Tlgbm_pred, Trf_pred, Tdf_pred])\n",
        "print(Tpred.shape)\n",
        "Tpred = np.transpose(Tpred)\n",
        "print(Tpred.shape)\n",
        "\n",
        "# fitting & predict\n",
        "lr_final.fit(Tpred, y_train)\n",
        "Tfinal = lr_final.predict(Tpred)\n",
        "Tfinal_proba = lr_final.predict_proba(Tpred)[:,1]\n",
        "print('최종 메타 모델 정확도(train) \\n',score_funcs(y_train, Tfinal, Tfinal_proba))"
      ]
    },
    {
      "cell_type": "markdown",
      "id": "94344727",
      "metadata": {
        "id": "94344727"
      },
      "source": [
        "## cv 기반"
      ]
    },
    {
      "cell_type": "code",
      "execution_count": null,
      "id": "4f092a94",
      "metadata": {
        "id": "4f092a94"
      },
      "outputs": [],
      "source": [
        "# 배열로 값 바꾸기\n",
        "X_train_n = X_train.values\n",
        "y_train_n = y_train.values\n",
        "X_test_n = X_test.values"
      ]
    },
    {
      "cell_type": "code",
      "execution_count": null,
      "id": "779cff2a",
      "metadata": {
        "id": "779cff2a",
        "outputId": "f641a34e-51b3-4b69-b9fa-149d2d282a6c"
      },
      "outputs": [
        {
          "name": "stdout",
          "output_type": "stream",
          "text": [
            "XGBClassifier model 시작\n",
            "\t 폴드세트 : 0  model 시작\n",
            "\t 폴드세트 : 1  model 시작\n",
            "\t 폴드세트 : 2  model 시작\n",
            "\t 폴드세트 : 3  model 시작\n",
            "\t 폴드세트 : 4  model 시작\n",
            "LGBMClassifier model 시작\n",
            "\t 폴드세트 : 0  model 시작\n",
            "\t 폴드세트 : 1  model 시작\n",
            "\t 폴드세트 : 2  model 시작\n",
            "\t 폴드세트 : 3  model 시작\n",
            "\t 폴드세트 : 4  model 시작\n",
            "RandomForestClassifier model 시작\n",
            "\t 폴드세트 : 0  model 시작\n",
            "\t 폴드세트 : 1  model 시작\n",
            "\t 폴드세트 : 2  model 시작\n",
            "\t 폴드세트 : 3  model 시작\n",
            "\t 폴드세트 : 4  model 시작\n",
            "DecisionTreeClassifier model 시작\n",
            "\t 폴드세트 : 0  model 시작\n",
            "\t 폴드세트 : 1  model 시작\n",
            "\t 폴드세트 : 2  model 시작\n",
            "\t 폴드세트 : 3  model 시작\n",
            "\t 폴드세트 : 4  model 시작\n"
          ]
        }
      ],
      "source": [
        "# 함수는 6.2에 정의\n",
        "\n",
        "xgb_train, xgb_test = get_data(xgb_clf, X_train_n, y_train_n, X_test_n, 5)\n",
        "lgbm_train,lgbm_test = get_data(lgbm_clf, X_train_n, y_train_n, X_test_n, 5)\n",
        "rf_train, rf_test = get_data(rf_clf, X_train_n, y_train_n, X_test_n, 5)\n",
        "df_train, df_test = get_data(df_clf, X_train_n, y_train_n, X_test_n, 5)"
      ]
    },
    {
      "cell_type": "code",
      "execution_count": null,
      "id": "64d2c65b",
      "metadata": {
        "scrolled": true,
        "id": "64d2c65b",
        "outputId": "98a956eb-5d9f-4af2-e6e4-1b8a6f664ec8"
      },
      "outputs": [
        {
          "name": "stdout",
          "output_type": "stream",
          "text": [
            "원본 피처 크기(학습, 테스트) (7118, 24) (2094, 24)\n",
            "스태킹 피처 크기(학습, 테스트) (7118, 4) (2094, 4)\n"
          ]
        }
      ],
      "source": [
        "model_X_train = np.concatenate((xgb_train, lgbm_train, rf_train, df_train), axis = 1)\n",
        "model_X_test = np.concatenate((xgb_test, lgbm_test, rf_test, df_test), axis =1)\n",
        "print( '원본 피처 크기(학습, 테스트)', X_train.shape, X_test.shape)\n",
        "print( '스태킹 피처 크기(학습, 테스트)', model_X_train.shape, model_X_test.shape)"
      ]
    },
    {
      "cell_type": "code",
      "execution_count": null,
      "id": "6aa8f49e",
      "metadata": {
        "id": "6aa8f49e",
        "outputId": "e2ae13dc-566a-476e-8594-3fc885fcfc59"
      },
      "outputs": [
        {
          "name": "stdout",
          "output_type": "stream",
          "text": [
            "오차행렬 \n",
            " [[867 168]\n",
            " [149 910]]\n",
            "정확도 : 0.8486, 정밀도: 0.8442,          재현율 : 0.8593, F1 : 0.8517, AUC : 0.9078\n",
            "최종 메타 모델의 예측 정확도 \n",
            " None\n"
          ]
        }
      ],
      "source": [
        "# 최종 모델에 학습\n",
        "lr_final.fit(model_X_train, y_train)\n",
        "stack_final = lr_final.predict(model_X_test)\n",
        "stack_final_proba = lr_final.predict_proba(model_X_test)[:,1]\n",
        "print('최종 메타 모델의 예측 정확도 \\n', score_funcs(y_test, stack_final, stack_final_proba))"
      ]
    },
    {
      "cell_type": "code",
      "execution_count": null,
      "id": "efef6d77",
      "metadata": {
        "scrolled": true,
        "id": "efef6d77",
        "outputId": "4ccf4793-4dd3-465a-8be5-e6c2ea593a0c"
      },
      "outputs": [
        {
          "name": "stdout",
          "output_type": "stream",
          "text": [
            "오차행렬 \n",
            " [[2854  674]\n",
            " [ 723 2867]]\n",
            "정확도 : 0.8037, 정밀도: 0.8097,          재현율 : 0.7986, F1 : 0.8041, AUC : 0.8449\n",
            "최종 메타 모델의 예측 정확도 \n",
            " None\n"
          ]
        }
      ],
      "source": [
        "# train sets\n",
        "Tstack_final = lr_final.predict(model_X_train)\n",
        "Tstack_final_proba = lr_final.predict_proba(model_X_train)[:,1]\n",
        "print('최종 메타 모델의 예측 정확도 \\n', score_funcs(y_train, Tstack_final, Tstack_final_proba))"
      ]
    },
    {
      "cell_type": "markdown",
      "id": "9080f198",
      "metadata": {
        "id": "9080f198"
      },
      "source": [
        "- 과대적합은 해소되었으나 과소적합을 의심할 만함"
      ]
    },
    {
      "cell_type": "markdown",
      "id": "93a2c614",
      "metadata": {
        "id": "93a2c614"
      },
      "source": [
        "## hyperopt 적용"
      ]
    },
    {
      "cell_type": "code",
      "execution_count": null,
      "id": "16eac91b",
      "metadata": {
        "id": "16eac91b"
      },
      "outputs": [],
      "source": [
        "## 개별 모델 정의\n",
        "xgb_clf = XGBClassifier()\n",
        "lgbm_clf = LGBMClassifier(n_estimators=150, random_state=109)\n",
        "rf_clf = RandomForestClassifier(n_estimators=150, random_state=109)\n",
        "df_clf = DecisionTreeClassifier()\n",
        "\n",
        "# 스태킹 최종 모델\n",
        "lr_final = LogisticRegression(solver = 'liblinear')"
      ]
    },
    {
      "cell_type": "markdown",
      "id": "7d5cc720",
      "metadata": {
        "id": "7d5cc720"
      },
      "source": [
        "### hyperopt 스페이스 조정"
      ]
    },
    {
      "cell_type": "code",
      "execution_count": null,
      "id": "3c75d9e7",
      "metadata": {
        "id": "3c75d9e7"
      },
      "outputs": [],
      "source": [
        "# hyperopt 적용을 위한 설정 값 담기\n",
        "xgb_search_space = {'n_estimators': hp.choice('n_estimators', [10,50]),\n",
        "                    'max_depth': hp.quniform('max_depth', 5, 20, 1),\n",
        "                    'min_child_weight': hp.quniform('min_child_weight', 1, 2, 1),\n",
        "                    'learning_rate': hp.uniform('learning_rate', 0.01, 0.2),\n",
        "                    'colsample_bytree': hp.uniform('colsample_bytree', 0.5, 1)\n",
        "               }\n",
        "\n",
        "lgbm_search_space = {'num_leaves':hp.quniform('num_leaves', 32, 64, 1),\n",
        "    'max_depth':hp.quniform('max_depth', 100, 160, 1),\n",
        "    'min_child_samples':hp.quniform('min_child_samples', 60,100, 1),\n",
        "    'subsample':hp.uniform('subsample', 0.7, 1),\n",
        "    'learning_rate':hp.uniform('learning_rate', 0.01, 0.2)\n",
        "}\n",
        "\n",
        "rf_search_space = {'criterion': hp.choice('criterion', ['entropy', 'gini']),\n",
        "        'max_depth': hp.quniform('max_depth', 10, 12, 10),\n",
        "        'max_features': hp.choice('max_features', ['auto', 'sqrt','log2', None]),\n",
        "        'min_samples_leaf': hp.uniform ('min_samples_leaf', 0, 0.5),\n",
        "        'min_samples_split' : hp.uniform ('min_samples_split', 0, 1),\n",
        "        'n_estimators' : hp.choice('n_estimators', [10, 50])\n",
        "                  }\n",
        "dt_search_space = {'max_depth': hp.quniform('max_depth', 10, 12, 10),\n",
        "                   'n_estimators': hp.choice('n_estimators', [10,50]),\n",
        "                    'min_samples_leaf': hp.uniform ('min_samples_leaf', 0, 0.5),\n",
        "        'min_samples_split' : hp.uniform ('min_samples_split', 0, 1)\n",
        "                                             }"
      ]
    },
    {
      "cell_type": "code",
      "execution_count": null,
      "id": "c71def04",
      "metadata": {
        "id": "c71def04"
      },
      "outputs": [],
      "source": [
        "# 목적함수 정의\n",
        "def xgb_objective_func(search_space):\n",
        "    xgb_clf = XGBClassifier(n_estimators = search_space['n_estimators'],\n",
        "                            max_depth=int(search_space['max_depth']),\n",
        "                            min_child_weight=int(search_space['min_child_weight']),\n",
        "                            learning_rate=search_space['learning_rate'],\n",
        "                            colsample_bytree=search_space['colsample_bytree'], \n",
        "                            eval_metric='logloss')\n",
        "    xgb_accuracy = cross_val_score(xgb_clf, X_train, y_train, scoring='accuracy', cv=3)\n",
        "    return {'loss':-1 * np.mean(xgb_accuracy), 'status': STATUS_OK}\n",
        "\n",
        "def lgbm_objective_funcs(search_space):\n",
        "    lgbm_clf = LGBMClassifier(n_estimators=100, num_leaves = int(search_space['num_leaves']),\n",
        "                              max_depth = int(search_space['max_depth']),\n",
        "                              min_child_samples = int(search_space['min_child_samples']),\n",
        "                              subsample = search_space['subsample'],\n",
        "                              learning_rate = search_space['learning_rate']\n",
        "                             )\n",
        "    lgbm_accuracy = cross_val_score(lgbm_clf, X_train, y_train, scoring='accuracy', cv=3)\n",
        "    return {'loss':-1 * np.mean(lgbm_accuracy), 'status': STATUS_OK}\n",
        "    \n",
        "def rf_objective_func(rf_search_space):    \n",
        "    rf_clf = RandomForestClassifier(criterion = rf_search_space['criterion'], \n",
        "                                   max_depth = int(rf_search_space['max_depth']),\n",
        "                                 max_features = rf_search_space['max_features'],\n",
        "                                 min_samples_leaf = rf_search_space['min_samples_leaf'],\n",
        "                                 min_samples_split = rf_search_space['min_samples_split'],\n",
        "                                 n_estimators = rf_search_space['n_estimators'], \n",
        "                                 )\n",
        "    rf_accuracy = cross_val_score(rf_clf, X_train, y_train, cv = 4).mean()\n",
        "    return { 'loss':-1 *rf_accuracy,'status': STATUS_OK}\n",
        "\n",
        "def dt_objective_func(dt_search_space):    \n",
        "    dt_clf = RandomForestClassifier(max_depth = int(dt_search_space['max_depth']),\n",
        "                                 min_samples_leaf = dt_search_space['min_samples_leaf'],\n",
        "                                 min_samples_split = dt_search_space['min_samples_split'],\n",
        "                                 n_estimators = dt_search_space['n_estimators'], \n",
        "                                 )\n",
        "    dt_accuracy = cross_val_score(dt_clf, X_train, y_train, cv = 4).mean()\n",
        "    return { 'loss':-1 *dt_accuracy,'status': STATUS_OK}"
      ]
    },
    {
      "cell_type": "markdown",
      "id": "9083aa4f",
      "metadata": {
        "id": "9083aa4f"
      },
      "source": [
        "### XGBClassifier"
      ]
    },
    {
      "cell_type": "code",
      "execution_count": null,
      "id": "d72a9c0b",
      "metadata": {
        "id": "d72a9c0b",
        "outputId": "39ab7f9a-88bc-4f7e-b19b-d4b59beebd4e"
      },
      "outputs": [
        {
          "name": "stdout",
          "output_type": "stream",
          "text": [
            "100%|███████████████████████████████████████████████| 50/50 [00:26<00:00,  1.92trial/s, best loss: -0.8026138161493114]\n",
            "best: {'colsample_bytree': 0.8418286288021363, 'learning_rate': 0.04801060921231198, 'max_depth': 14.0, 'min_child_weight': 2.0, 'n_estimators': 1}\n"
          ]
        }
      ],
      "source": [
        "trial_val = Trials()\n",
        "xgb_best = fmin(fn=xgb_objective_func,\n",
        "            space=xgb_search_space,\n",
        "            algo=tpe.suggest,\n",
        "            max_evals=50,\n",
        "            trials=trial_val, rstate=np.random.default_rng(seed=9))\n",
        "print('best:', xgb_best)"
      ]
    },
    {
      "cell_type": "code",
      "execution_count": null,
      "id": "2baf0f7b",
      "metadata": {
        "id": "2baf0f7b",
        "outputId": "a039ca10-7527-4a97-c15b-31756c2d55e3"
      },
      "outputs": [
        {
          "name": "stdout",
          "output_type": "stream",
          "text": [
            "## XGB\n",
            "오차행렬 \n",
            " [[861 174]\n",
            " [161 898]]\n",
            "정확도 : 0.8400, 정밀도: 0.8377,          재현율 : 0.8480, F1 : 0.8428, AUC : 0.9171\n"
          ]
        }
      ],
      "source": [
        "est = {0: 10, 1: 50, 2: 75, 3: 100, 4: 125}\n",
        "# 모델링\n",
        "xgb_model = XGBClassifier(n_estimators = est[xgb_best['n_estimators']],\n",
        "                          learning_rate=round(xgb_best['learning_rate'], 5), \n",
        "                            max_depth=int(xgb_best['max_depth']),\n",
        "                          min_child_weight=int(xgb_best['min_child_weight']),\n",
        "                            colsample_bytree=round(xgb_best['colsample_bytree'], 5)\n",
        "                           )\n",
        "xgb_model.fit(X_train, y_train)\n",
        "xg_pred= xgb_model.predict(X_test)\n",
        "xg_pred_proba = xgb_model.predict_proba(X_test)[:,1]\n",
        "print('## XGB')\n",
        "score_funcs(y_test, xg_pred, xg_pred_proba)"
      ]
    },
    {
      "cell_type": "code",
      "execution_count": null,
      "id": "fb7b810f",
      "metadata": {
        "id": "fb7b810f",
        "outputId": "fe1f3626-a144-40f2-f3cb-2583897a6fa7"
      },
      "outputs": [
        {
          "name": "stdout",
          "output_type": "stream",
          "text": [
            "## XGB(train)\n",
            "오차행렬 \n",
            " [[3131  397]\n",
            " [ 338 3252]]\n",
            "정확도 : 0.8967, 정밀도: 0.8912,          재현율 : 0.9058, F1 : 0.8985, AUC : 0.9651\n"
          ]
        }
      ],
      "source": [
        "# train sets\n",
        "Txg_pred= xgb_model.predict(X_train)\n",
        "Txg_pred_proba = xgb_model.predict_proba(X_train)[:,1]\n",
        "print('## XGB(train)')\n",
        "score_funcs(y_train, Txg_pred, Txg_pred_proba)"
      ]
    },
    {
      "cell_type": "markdown",
      "id": "74f9c07d",
      "metadata": {
        "id": "74f9c07d"
      },
      "source": [
        "### LGBMClassifier"
      ]
    },
    {
      "cell_type": "code",
      "execution_count": null,
      "id": "a36d2023",
      "metadata": {
        "id": "a36d2023",
        "outputId": "b8ed4807-14d3-4913-84ac-0c9b74cbf927"
      },
      "outputs": [
        {
          "name": "stdout",
          "output_type": "stream",
          "text": [
            "100%|███████████████████████████████████████████████| 50/50 [00:26<00:00,  1.92trial/s, best loss: -0.8031756928173829]\n",
            "best:  {'learning_rate': 0.04629077656287839, 'max_depth': 119.0, 'min_child_samples': 69.0, 'num_leaves': 32.0, 'subsample': 0.9835048715830431}\n"
          ]
        }
      ],
      "source": [
        "trials =Trials()\n",
        "\n",
        "lgbm_best = fmin(fn = lgbm_objective_funcs, \n",
        "            space = lgbm_search_space, \n",
        "            algo = tpe.suggest, \n",
        "           max_evals = 50, trials = trials, \n",
        "            rstate = np.random.default_rng(seed=9))\n",
        "\n",
        "print('best: ', lgbm_best)"
      ]
    },
    {
      "cell_type": "code",
      "execution_count": null,
      "id": "4b6c0f12",
      "metadata": {
        "id": "4b6c0f12",
        "outputId": "b04a1e3f-11c3-41f4-89f6-1c6416ca123e"
      },
      "outputs": [
        {
          "name": "stdout",
          "output_type": "stream",
          "text": [
            "## LGBM\n",
            "오차행렬 \n",
            " [[826 209]\n",
            " [174 885]]\n",
            "정확도 : 0.8171, 정밀도: 0.8090,          재현율 : 0.8357, F1 : 0.8221, AUC : 0.9024\n"
          ]
        }
      ],
      "source": [
        "lgbm_model = LGBMClassifier(n_estimators = 100, \n",
        "                            num_leaves = int(lgbm_best['num_leaves']),\n",
        "                              max_depth = int(lgbm_best['max_depth']),\n",
        "                              min_child_samples = int(lgbm_best['min_child_samples']),\n",
        "                              subsample = round(lgbm_best['subsample'], 5),\n",
        "                              learning_rate = round(lgbm_best['learning_rate'], 5))\n",
        "\n",
        "lgbm_model.fit(X_train, y_train)\n",
        "lgbm_pred = lgbm_model.predict(X_test)\n",
        "lgbm_pred_proba = lgbm_model.predict_proba(X_test)[:,1]\n",
        "print('## LGBM')\n",
        "score_funcs(y_test, lgbm_pred, lgbm_pred_proba)"
      ]
    },
    {
      "cell_type": "code",
      "execution_count": null,
      "id": "fc14eb23",
      "metadata": {
        "id": "fc14eb23",
        "outputId": "f2c15018-a371-4c8e-d835-fcc42ed4634b"
      },
      "outputs": [
        {
          "name": "stdout",
          "output_type": "stream",
          "text": [
            "## LGBM(train)\n",
            "오차행렬 \n",
            " [[2923  605]\n",
            " [ 566 3024]]\n",
            "정확도 : 0.8355, 정밀도: 0.8333,          재현율 : 0.8423, F1 : 0.8378, AUC : 0.9236\n"
          ]
        }
      ],
      "source": [
        "# train sets\n",
        "Tlgbm_pred = lgbm_model.predict(X_train)\n",
        "Tlgbm_pred_proba = lgbm_model.predict_proba(X_train)[:,1]\n",
        "print('## LGBM(train)')\n",
        "score_funcs(y_train, Tlgbm_pred, Tlgbm_pred_proba)"
      ]
    },
    {
      "cell_type": "markdown",
      "id": "ffb102f8",
      "metadata": {
        "id": "ffb102f8"
      },
      "source": [
        "### RandomForestClassifier"
      ]
    },
    {
      "cell_type": "code",
      "execution_count": null,
      "id": "b2c9d758",
      "metadata": {
        "id": "b2c9d758",
        "outputId": "a74b2f65-a4c7-4056-d7f3-b667bedbef93"
      },
      "outputs": [
        {
          "name": "stdout",
          "output_type": "stream",
          "text": [
            "100%|███████████████████████████████████████████████| 50/50 [00:13<00:00,  3.62trial/s, best loss: -0.7891260239624585]\n",
            "best: {'criterion': 1, 'max_depth': 10.0, 'max_features': 2, 'min_samples_leaf': 0.002865167394070889, 'min_samples_split': 0.01107645772656729, 'n_estimators': 1}\n"
          ]
        }
      ],
      "source": [
        "## RandomForest\n",
        "trials = Trials()\n",
        "rf_best = fmin(fn= rf_objective_func,\n",
        "            space= rf_search_space,\n",
        "            algo= tpe.suggest,\n",
        "            max_evals = 50,\n",
        "            trials= trials)\n",
        "print('best:', rf_best)"
      ]
    },
    {
      "cell_type": "code",
      "execution_count": null,
      "id": "0646bc85",
      "metadata": {
        "id": "0646bc85",
        "outputId": "22525d2d-22c9-46f9-eb92-e7a609fe9a25"
      },
      "outputs": [
        {
          "name": "stdout",
          "output_type": "stream",
          "text": [
            "## RFC\n",
            "오차행렬 \n",
            " [[833 202]\n",
            " [222 837]]\n",
            "정확도 : 0.7975, 정밀도: 0.8056,          재현율 : 0.7904, F1 : 0.7979, AUC : 0.8795\n"
          ]
        }
      ],
      "source": [
        "# quniform과 choice의 경우 무작위 형태라 설정값 딕셔너리를 따로 정의\n",
        "crit = {0: 'entropy', 1: 'gini'}\n",
        "feat = {0: 'auto', 1: 'sqrt', 2: 'log2', 3: None}\n",
        "est = {0: 10, 1: 50, 2: 75, 3: 100, 4: 125}\n",
        "# 모델링\n",
        "rf_model = RandomForestClassifier(criterion = crit[rf_best['criterion']], \n",
        "                                      max_depth = int(rf_best['max_depth']), \n",
        "                                      max_features = feat[rf_best['max_features']], \n",
        "                                      min_samples_leaf = rf_best['min_samples_leaf'], \n",
        "                                      min_samples_split = rf_best['min_samples_split'], \n",
        "                                      n_estimators = est[rf_best['n_estimators']])\n",
        "                                    \n",
        "\n",
        "rf_model.fit(X_train, y_train)\n",
        "rf_pred= rf_model.predict(X_test)\n",
        "rf_pred_proba = rf_model.predict_proba(X_test)[:,1]\n",
        "print('## RFC')\n",
        "score_funcs(y_test, rf_pred, rf_pred_proba)"
      ]
    },
    {
      "cell_type": "code",
      "execution_count": null,
      "id": "575570e3",
      "metadata": {
        "id": "575570e3",
        "outputId": "d618d772-6d34-44da-ef36-a54a73b253b8"
      },
      "outputs": [
        {
          "name": "stdout",
          "output_type": "stream",
          "text": [
            "## RFC(train)\n",
            "오차행렬 \n",
            " [[2852  676]\n",
            " [ 714 2876]]\n",
            "정확도 : 0.8047, 정밀도: 0.8097,          재현율 : 0.8011, F1 : 0.8054, AUC : 0.8876\n"
          ]
        }
      ],
      "source": [
        "Trf_pred= rf_model.predict(X_train)\n",
        "Trf_pred_proba = rf_model.predict_proba(X_train)[:,1]\n",
        "print('## RFC(train)')\n",
        "score_funcs(y_train, Trf_pred, Trf_pred_proba)"
      ]
    },
    {
      "cell_type": "markdown",
      "id": "92366810",
      "metadata": {
        "id": "92366810"
      },
      "source": [
        "### DecisionTreeClassifier"
      ]
    },
    {
      "cell_type": "code",
      "execution_count": null,
      "id": "8a14fbce",
      "metadata": {
        "id": "8a14fbce",
        "outputId": "2ee3d947-8360-4f68-8985-a8aa0f7b1e89"
      },
      "outputs": [
        {
          "name": "stdout",
          "output_type": "stream",
          "text": [
            "100%|███████████████████████████████████████████████| 50/50 [00:08<00:00,  5.88trial/s, best loss: -0.7569556814521478]\n",
            "best: {'max_depth': 10.0, 'min_samples_leaf': 0.021086068172031347, 'min_samples_split': 0.0373352029429076, 'n_estimators': 0}\n"
          ]
        }
      ],
      "source": [
        "## DecisionTreeClassifier\n",
        "trials = Trials()\n",
        "dt_best = fmin(fn= dt_objective_func,\n",
        "            space= dt_search_space,\n",
        "            algo= tpe.suggest,\n",
        "            max_evals = 50,\n",
        "            trials= trials)\n",
        "print('best:', dt_best)"
      ]
    },
    {
      "cell_type": "code",
      "execution_count": null,
      "id": "98dbd781",
      "metadata": {
        "id": "98dbd781",
        "outputId": "049850c7-d505-4672-b70f-2cdb4e250941"
      },
      "outputs": [
        {
          "name": "stdout",
          "output_type": "stream",
          "text": [
            "## DTC\n",
            "오차행렬 \n",
            " [[852 183]\n",
            " [292 767]]\n",
            "정확도 : 0.7732, 정밀도: 0.8074,          재현율 : 0.7243, F1 : 0.7636, AUC : 0.8584\n"
          ]
        }
      ],
      "source": [
        "# 모델링\n",
        "dt_model = RandomForestClassifier(max_depth = int(dt_best['max_depth']), \n",
        "                                      min_samples_leaf = dt_best['min_samples_leaf'], \n",
        "                                      min_samples_split = dt_best['min_samples_split'], \n",
        "                                      n_estimators = est[dt_best['n_estimators']])\n",
        "                                    \n",
        "\n",
        "dt_model.fit(X_train, y_train)\n",
        "dt_pred= dt_model.predict(X_test)\n",
        "dt_pred_proba = dt_model.predict_proba(X_test)[:,1]\n",
        "print('## DTC')\n",
        "score_funcs(y_test, dt_pred, dt_pred_proba)"
      ]
    },
    {
      "cell_type": "code",
      "execution_count": null,
      "id": "7a77d476",
      "metadata": {
        "id": "7a77d476",
        "outputId": "f34917bf-728a-40f7-b35a-4545cb216d1e"
      },
      "outputs": [
        {
          "name": "stdout",
          "output_type": "stream",
          "text": [
            "## DTC train sets\n",
            "오차행렬 \n",
            " [[2873  655]\n",
            " [1038 2552]]\n",
            "정확도 : 0.7622, 정밀도: 0.7958,          재현율 : 0.7109, F1 : 0.7509, AUC : 0.8536\n"
          ]
        }
      ],
      "source": [
        "# train 세트\n",
        "Tdt_pred= dt_model.predict(X_train)\n",
        "Tdt_pred_proba = dt_model.predict_proba(X_train)[:,1]\n",
        "print('## DTC train sets')\n",
        "score_funcs(y_train, Tdt_pred, Tdt_pred_proba)"
      ]
    },
    {
      "cell_type": "markdown",
      "id": "ad5de7b4",
      "metadata": {
        "id": "ad5de7b4"
      },
      "source": [
        "### 최종 모델\n",
        "- DT, RF는 하이퍼를 돌릴수록 정확도가 더 떨어저서 기본모델로 가려 했으나\n",
        "- 정확도는 떨어지지만 과적합이 많이 감소되어서 그냥 하이퍼적용한 값으로 고"
      ]
    },
    {
      "cell_type": "code",
      "execution_count": null,
      "id": "e2de7ca8",
      "metadata": {
        "id": "e2de7ca8",
        "outputId": "fbc79435-1502-480a-de9e-02543991f3ac"
      },
      "outputs": [
        {
          "name": "stdout",
          "output_type": "stream",
          "text": [
            "(4, 2094)\n",
            "(2094, 4)\n"
          ]
        }
      ],
      "source": [
        "lr_pred = np.array([xgb_pred, lgbm_pred, rf_pred, dt_pred])\n",
        "print(lr_pred.shape)\n",
        "\n",
        "# 칼럼 레벨로 각 알고리즘의 예측 결과를 피처로 만들기\n",
        "lr_pred = np.transpose(lr_pred)\n",
        "print(lr_pred.shape)"
      ]
    },
    {
      "cell_type": "code",
      "execution_count": null,
      "id": "a4324eca",
      "metadata": {
        "id": "a4324eca",
        "outputId": "0bbcc9eb-823c-4301-9a48-a74591d8c438"
      },
      "outputs": [
        {
          "name": "stdout",
          "output_type": "stream",
          "text": [
            "오차행렬 \n",
            " [[871 164]\n",
            " [161 898]]\n",
            "정확도 : 0.8448, 정밀도: 0.8456,          재현율 : 0.8480, F1 : 0.8468, AUC : 0.8693\n",
            "최종 메타 모델 정확도 \n",
            " None\n"
          ]
        }
      ],
      "source": [
        "# 최종 메타 모델 학습 및 예측\n",
        "lr_final.fit(lr_pred, y_test)\n",
        "final = lr_final.predict(lr_pred)\n",
        "final_proba = lr_final.predict_proba(lr_pred)[:,1]\n",
        "print('최종 메타 모델 정확도 \\n',score_funcs(y_test, final, final_proba))"
      ]
    },
    {
      "cell_type": "code",
      "execution_count": null,
      "id": "cfba917c",
      "metadata": {
        "scrolled": false,
        "id": "cfba917c",
        "outputId": "bb1d1c14-4e2e-41aa-811a-185e84d4f584"
      },
      "outputs": [
        {
          "name": "stdout",
          "output_type": "stream",
          "text": [
            "(4, 7118)\n",
            "(7118, 4)\n",
            "오차행렬 \n",
            " [[3131  397]\n",
            " [ 338 3252]]\n",
            "정확도 : 0.8967, 정밀도: 0.8912,          재현율 : 0.9058, F1 : 0.8985, AUC : 0.9000\n",
            "최종 메타 모델 정확도(train) \n",
            " None\n"
          ]
        }
      ],
      "source": [
        "# 훈련 세트\n",
        "Tlr_pred = np.array([Txg_pred, Tlgbm_pred, Trf_pred, Tdt_pred])\n",
        "print(Tlr_pred.shape)\n",
        "Tlr_pred = np.transpose(Tlr_pred)\n",
        "print(Tlr_pred.shape)\n",
        "\n",
        "# 최종 메타 모델 학습 및 예측(train)\n",
        "lr_final.fit(Tlr_pred, y_train)\n",
        "Tfinal = lr_final.predict(Tlr_pred)\n",
        "Tfinal_proba = lr_final.predict_proba(Tlr_pred)[:,1]\n",
        "print('최종 메타 모델 정확도(train) \\n',score_funcs(y_train, Tfinal, Tfinal_proba))"
      ]
    },
    {
      "cell_type": "markdown",
      "id": "ab3a20e4",
      "metadata": {
        "id": "ab3a20e4"
      },
      "source": [
        "- 이전 스태킹 앙상블 모델의 정확도가 시험셋(86%), 학습셋(96%)인 데 반해\n",
        "- 과대적합이 많이 감소된 것을 확인함."
      ]
    },
    {
      "cell_type": "markdown",
      "id": "d6a9596e",
      "metadata": {
        "id": "d6a9596e"
      },
      "source": [
        "#### transported예측하기"
      ]
    },
    {
      "cell_type": "code",
      "execution_count": null,
      "id": "d513be26",
      "metadata": {
        "id": "d513be26",
        "outputId": "86b3cfd6-cd94-42ae-87ee-4b744ca02e22"
      },
      "outputs": [
        {
          "name": "stdout",
          "output_type": "stream",
          "text": [
            "<class 'pandas.core.frame.DataFrame'>\n",
            "RangeIndex: 4277 entries, 0 to 4276\n",
            "Data columns (total 2 columns):\n",
            " #   Column       Non-Null Count  Dtype \n",
            "---  ------       --------------  ----- \n",
            " 0   PassengerId  4277 non-null   object\n",
            " 1   Transported  4277 non-null   bool  \n",
            "dtypes: bool(1), object(1)\n",
            "memory usage: 37.7+ KB\n"
          ]
        }
      ],
      "source": [
        "# 저장파일 불러오기\n",
        "#last = pd.read_csv('C:/Users/admin/Downloads/spaceship-titanic/sample_submission.csv')\n",
        "#last.info()"
      ]
    },
    {
      "cell_type": "code",
      "execution_count": null,
      "id": "22ef01f2",
      "metadata": {
        "id": "22ef01f2"
      },
      "outputs": [],
      "source": [
        "# 미리 Transported 컬럼 삭제\n",
        "#last = last.drop('Transported', axis=1)"
      ]
    },
    {
      "cell_type": "code",
      "execution_count": null,
      "id": "6cd4ac31",
      "metadata": {
        "id": "6cd4ac31"
      },
      "outputs": [],
      "source": [
        "# 개별 모델로 타깃값 예측\n",
        "XGB_transported = xgb_model.predict(dt)\n",
        "lgbm_transported = lgbm_model.predict(dt)\n",
        "rf_transported = rf_model.predict(dt)\n",
        "dt_transported = dt_model.predict(dt)"
      ]
    },
    {
      "cell_type": "code",
      "execution_count": null,
      "id": "e33504bb",
      "metadata": {
        "id": "e33504bb",
        "outputId": "1d31c761-cc72-4ebb-8993-2b97b93bc59b"
      },
      "outputs": [
        {
          "name": "stdout",
          "output_type": "stream",
          "text": [
            "(4, 4277)\n",
            "(4277, 4)\n"
          ]
        }
      ],
      "source": [
        "pred_transported = np.array([XGB_transported, lgbm_transported, rf_transported, dt_transported])\n",
        "print(pred_transported.shape)\n",
        "\n",
        "pred_transported = np.transpose(pred_transported)\n",
        "print(pred_transported.shape)"
      ]
    },
    {
      "cell_type": "code",
      "execution_count": null,
      "id": "de3267f2",
      "metadata": {
        "id": "de3267f2"
      },
      "outputs": [],
      "source": [
        "# 완성된 모델로 값 예측 하여 컬럼에 추가\n",
        "#last['Transported'] = lr_final.predict(pred_transported)"
      ]
    },
    {
      "cell_type": "code",
      "execution_count": null,
      "id": "bfb4da1a",
      "metadata": {
        "id": "bfb4da1a",
        "outputId": "23c1f9eb-96ff-4cea-bb5c-9c2c2e75df25"
      },
      "outputs": [
        {
          "data": {
            "text/html": [
              "<div>\n",
              "<style scoped>\n",
              "    .dataframe tbody tr th:only-of-type {\n",
              "        vertical-align: middle;\n",
              "    }\n",
              "\n",
              "    .dataframe tbody tr th {\n",
              "        vertical-align: top;\n",
              "    }\n",
              "\n",
              "    .dataframe thead th {\n",
              "        text-align: right;\n",
              "    }\n",
              "</style>\n",
              "<table border=\"1\" class=\"dataframe\">\n",
              "  <thead>\n",
              "    <tr style=\"text-align: right;\">\n",
              "      <th></th>\n",
              "      <th>PassengerId</th>\n",
              "      <th>Transported</th>\n",
              "    </tr>\n",
              "  </thead>\n",
              "  <tbody>\n",
              "    <tr>\n",
              "      <th>0</th>\n",
              "      <td>0013_01</td>\n",
              "      <td>True</td>\n",
              "    </tr>\n",
              "    <tr>\n",
              "      <th>1</th>\n",
              "      <td>0018_01</td>\n",
              "      <td>False</td>\n",
              "    </tr>\n",
              "    <tr>\n",
              "      <th>2</th>\n",
              "      <td>0019_01</td>\n",
              "      <td>True</td>\n",
              "    </tr>\n",
              "    <tr>\n",
              "      <th>3</th>\n",
              "      <td>0021_01</td>\n",
              "      <td>True</td>\n",
              "    </tr>\n",
              "    <tr>\n",
              "      <th>4</th>\n",
              "      <td>0023_01</td>\n",
              "      <td>True</td>\n",
              "    </tr>\n",
              "  </tbody>\n",
              "</table>\n",
              "</div>"
            ],
            "text/plain": [
              "  PassengerId  Transported\n",
              "0     0013_01         True\n",
              "1     0018_01        False\n",
              "2     0019_01         True\n",
              "3     0021_01         True\n",
              "4     0023_01         True"
            ]
          },
          "execution_count": 126,
          "metadata": {},
          "output_type": "execute_result"
        }
      ],
      "source": [
        "# 확인\n",
        "#last.head()"
      ]
    },
    {
      "cell_type": "code",
      "execution_count": null,
      "id": "c52687d7",
      "metadata": {
        "id": "c52687d7"
      },
      "outputs": [],
      "source": [
        "# csv파일로 내보내기\n",
        "#last.to_csv('C:/Users/admin/Desktop/sparta/submit5.csv', index=False)"
      ]
    },
    {
      "cell_type": "markdown",
      "id": "5998d69d",
      "metadata": {
        "id": "5998d69d"
      },
      "source": [
        "### 최종모델을 이용한 cv기반 스태킹앙상블"
      ]
    },
    {
      "cell_type": "code",
      "execution_count": null,
      "id": "cb51293b",
      "metadata": {
        "id": "cb51293b"
      },
      "outputs": [],
      "source": [
        "# 배열로 값 바꾸기\n",
        "X_train_n = X_train.values\n",
        "y_train_n = y_train.values\n",
        "X_test_n = X_test.values"
      ]
    },
    {
      "cell_type": "code",
      "execution_count": null,
      "id": "c40b1cbe",
      "metadata": {
        "id": "c40b1cbe",
        "outputId": "ad9f3863-1d02-401c-9fba-65933bfd6f3e"
      },
      "outputs": [
        {
          "name": "stdout",
          "output_type": "stream",
          "text": [
            "XGBClassifier model 시작\n",
            "\t 폴드세트 : 0  model 시작\n",
            "\t 폴드세트 : 1  model 시작\n",
            "\t 폴드세트 : 2  model 시작\n",
            "\t 폴드세트 : 3  model 시작\n",
            "\t 폴드세트 : 4  model 시작\n",
            "LGBMClassifier model 시작\n",
            "\t 폴드세트 : 0  model 시작\n",
            "\t 폴드세트 : 1  model 시작\n",
            "\t 폴드세트 : 2  model 시작\n",
            "\t 폴드세트 : 3  model 시작\n",
            "\t 폴드세트 : 4  model 시작\n",
            "RandomForestClassifier model 시작\n",
            "\t 폴드세트 : 0  model 시작\n",
            "\t 폴드세트 : 1  model 시작\n",
            "\t 폴드세트 : 2  model 시작\n",
            "\t 폴드세트 : 3  model 시작\n",
            "\t 폴드세트 : 4  model 시작\n",
            "DecisionTreeClassifier model 시작\n",
            "\t 폴드세트 : 0  model 시작\n",
            "\t 폴드세트 : 1  model 시작\n",
            "\t 폴드세트 : 2  model 시작\n",
            "\t 폴드세트 : 3  model 시작\n",
            "\t 폴드세트 : 4  model 시작\n"
          ]
        }
      ],
      "source": [
        "# 함수는 6.2에 정의\n",
        "\n",
        "xgb_train, xgb_test = get_data(xgb_clf, X_train_n, y_train_n, X_test_n, 5)\n",
        "lgbm_train,lgbm_test = get_data(lgbm_clf, X_train_n, y_train_n, X_test_n, 5)\n",
        "rf_train, rf_test = get_data(rf_clf, X_train_n, y_train_n, X_test_n, 5)\n",
        "dt_train, dt_test = get_data(dt_clf, X_train_n, y_train_n, X_test_n, 5)"
      ]
    },
    {
      "cell_type": "code",
      "execution_count": null,
      "id": "427be632",
      "metadata": {
        "id": "427be632",
        "outputId": "b53fbb43-76fc-4ae9-e226-c732248b7b7b"
      },
      "outputs": [
        {
          "name": "stdout",
          "output_type": "stream",
          "text": [
            "원본 피처 크기(학습, 테스트) (7118, 24) (2094, 24)\n",
            "스태킹 피처 크기(학습, 테스트) (7118, 4) (2094, 4)\n"
          ]
        }
      ],
      "source": [
        "Train = np.concatenate((xgb_train, lgbm_train, rf_train, dt_train), axis = 1)\n",
        "Test = np.concatenate((xgb_test, lgbm_test, rf_test, df_test), axis =1)\n",
        "print( '원본 피처 크기(학습, 테스트)', X_train.shape, X_test.shape)\n",
        "print( '스태킹 피처 크기(학습, 테스트)', Train.shape, Test.shape)"
      ]
    },
    {
      "cell_type": "code",
      "execution_count": null,
      "id": "c13d9c94",
      "metadata": {
        "id": "c13d9c94",
        "outputId": "b291c7c1-1158-4761-ebd2-16d6fd356207"
      },
      "outputs": [
        {
          "name": "stdout",
          "output_type": "stream",
          "text": [
            "오차행렬 \n",
            " [[867 168]\n",
            " [149 910]]\n",
            "정확도 : 0.8486, 정밀도: 0.8442,          재현율 : 0.8593, F1 : 0.8517, AUC : 0.9078\n",
            "최종 메타 모델의 예측 정확도 \n",
            " None\n"
          ]
        }
      ],
      "source": [
        "# 최종 모델에 학습\n",
        "lr_final.fit(Train, y_train)\n",
        "model_pred = lr_final.predict(Test)\n",
        "model_pred_proba = lr_final.predict_proba(Test)[:,1]\n",
        "print('최종 메타 모델의 예측 정확도 \\n', score_funcs(y_test, model_pred, model_pred_proba))"
      ]
    },
    {
      "cell_type": "code",
      "execution_count": null,
      "id": "5b44926a",
      "metadata": {
        "scrolled": false,
        "id": "5b44926a",
        "outputId": "86dc77b3-f994-4a8a-8929-35828b3865ee"
      },
      "outputs": [
        {
          "name": "stdout",
          "output_type": "stream",
          "text": [
            "오차행렬 \n",
            " [[2854  674]\n",
            " [ 723 2867]]\n",
            "정확도 : 0.8037, 정밀도: 0.8097,          재현율 : 0.7986, F1 : 0.8041, AUC : 0.8445\n",
            "최종 메타 모델의 예측 정확도 \n",
            " None\n"
          ]
        }
      ],
      "source": [
        "# train sets\n",
        "Tmodel_pred = lr_final.predict(Train)\n",
        "Tmodel_pred_proba = lr_final.predict_proba(Train)[:,1]\n",
        "print('최종 메타 모델의 예측 정확도 \\n', score_funcs(y_train, Tmodel_pred, Tmodel_pred_proba))"
      ]
    },
    {
      "cell_type": "markdown",
      "id": "b226d961",
      "metadata": {
        "id": "b226d961"
      },
      "source": []
    }
  ],
  "metadata": {
    "kernelspec": {
      "display_name": "Python 3 (ipykernel)",
      "language": "python",
      "name": "python3"
    },
    "language_info": {
      "codemirror_mode": {
        "name": "ipython",
        "version": 3
      },
      "file_extension": ".py",
      "mimetype": "text/x-python",
      "name": "python",
      "nbconvert_exporter": "python",
      "pygments_lexer": "ipython3",
      "version": "3.9.7"
    },
    "toc": {
      "base_numbering": 1,
      "nav_menu": {},
      "number_sections": true,
      "sideBar": true,
      "skip_h1_title": false,
      "title_cell": "Table of Contents",
      "title_sidebar": "Contents",
      "toc_cell": false,
      "toc_position": {
        "height": "calc(100% - 180px)",
        "left": "10px",
        "top": "150px",
        "width": "341.333px"
      },
      "toc_section_display": true,
      "toc_window_display": true
    },
    "colab": {
      "provenance": [],
      "include_colab_link": true
    }
  },
  "nbformat": 4,
  "nbformat_minor": 5
}