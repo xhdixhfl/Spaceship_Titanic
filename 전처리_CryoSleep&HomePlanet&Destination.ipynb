{
  "cells": [
    {
      "cell_type": "markdown",
      "id": "ef0e9e3c",
      "metadata": {
        "id": "ef0e9e3c"
      },
      "source": [
        "# 사용할 라이브러리 로딩"
      ]
    },
    {
      "cell_type": "code",
      "execution_count": null,
      "id": "662696a4",
      "metadata": {
        "ExecuteTime": {
          "end_time": "2022-11-18T08:04:26.963947Z",
          "start_time": "2022-11-18T08:04:26.931034Z"
        },
        "id": "662696a4"
      },
      "outputs": [],
      "source": [
        "import numpy as np # Numpy\n",
        "import pandas as pd # Pandas\n",
        "import matplotlib as mpl #Matplotlib 세팅용\n",
        "import matplotlib.pyplot as plt # 시각화 도구\n",
        "import seaborn as sns # 시각화 도구\n",
        "from sklearn.model_selection import train_test_split # 데이터셋 분리\n",
        "from sklearn.cluster import KMeans # 클러스터링\n",
        "from sklearn.metrics import silhouette_score # 실루엣 점수\n",
        "from xgboost import XGBClassifier  # XGBoostClassifier\n",
        "import xgboost as xgb # XGBoost\n",
        "from sklearn.ensemble import RandomForestClassifier # 랜덤 포레스트\n",
        "from hyperopt import hp, STATUS_OK, fmin, tpe, Trials # 최적의 파람\n",
        "from imblearn.combine import * # 복합 샘플링\n",
        "from sklearn.model_selection import GridSearchCV # 그리드 서치\n",
        "from sklearn.model_selection import cross_val_score # 교차 스코어\n",
        "from sklearn.metrics import accuracy_score, precision_score # 평가 지표\n",
        "from sklearn.metrics import recall_score, confusion_matrix, roc_auc_score, f1_score # 평가 지표\n",
        "\n",
        "import warnings # 경고문 제거용\n",
        "\n",
        "\n",
        "%matplotlib inline\n",
        "%config Inlinebackend.figure_format = 'retina'\n",
        "\n",
        "# 한글 폰트 설정\n",
        "mpl.rc('font', family='D2Coding')\n",
        "# 유니코드에서 음수 부호 설정\n",
        "mpl.rc('axes', unicode_minus = False)\n",
        "\n",
        "warnings.filterwarnings('ignore')\n",
        "sns.set(font=\"D2Coding\", rc={\"axes.unicode_minus\":False}, style='darkgrid')\n",
        "plt.rc('figure', figsize=(10,8))"
      ]
    },
    {
      "cell_type": "markdown",
      "id": "a1db4c3f",
      "metadata": {
        "id": "a1db4c3f"
      },
      "source": [
        "# 데이터 로딩"
      ]
    },
    {
      "cell_type": "code",
      "execution_count": null,
      "id": "6a05849d",
      "metadata": {
        "ExecuteTime": {
          "end_time": "2022-11-18T06:59:19.778264Z",
          "start_time": "2022-11-18T06:59:19.749296Z"
        },
        "id": "6a05849d"
      },
      "outputs": [],
      "source": [
        "data = pd.read_csv('C:/Users/admin/Desktop/sparta/train.csv')"
      ]
    },
    {
      "cell_type": "markdown",
      "id": "54bc037e",
      "metadata": {
        "id": "54bc037e"
      },
      "source": [
        "## 데이터 탐색"
      ]
    },
    {
      "cell_type": "code",
      "execution_count": null,
      "id": "bcf6a8b9",
      "metadata": {
        "ExecuteTime": {
          "end_time": "2022-11-18T06:59:19.808138Z",
          "start_time": "2022-11-18T06:59:19.779216Z"
        },
        "scrolled": true,
        "id": "bcf6a8b9",
        "outputId": "e49fbcb9-da5d-4d9b-e37f-63142d766d3e"
      },
      "outputs": [
        {
          "data": {
            "text/html": [
              "<div>\n",
              "<style scoped>\n",
              "    .dataframe tbody tr th:only-of-type {\n",
              "        vertical-align: middle;\n",
              "    }\n",
              "\n",
              "    .dataframe tbody tr th {\n",
              "        vertical-align: top;\n",
              "    }\n",
              "\n",
              "    .dataframe thead th {\n",
              "        text-align: right;\n",
              "    }\n",
              "</style>\n",
              "<table border=\"1\" class=\"dataframe\">\n",
              "  <thead>\n",
              "    <tr style=\"text-align: right;\">\n",
              "      <th></th>\n",
              "      <th>PassengerId</th>\n",
              "      <th>HomePlanet</th>\n",
              "      <th>CryoSleep</th>\n",
              "      <th>Cabin</th>\n",
              "      <th>Destination</th>\n",
              "      <th>Age</th>\n",
              "      <th>VIP</th>\n",
              "      <th>RoomService</th>\n",
              "      <th>FoodCourt</th>\n",
              "      <th>ShoppingMall</th>\n",
              "      <th>Spa</th>\n",
              "      <th>VRDeck</th>\n",
              "      <th>Name</th>\n",
              "      <th>Transported</th>\n",
              "    </tr>\n",
              "  </thead>\n",
              "  <tbody>\n",
              "    <tr>\n",
              "      <th>0</th>\n",
              "      <td>0001_01</td>\n",
              "      <td>Europa</td>\n",
              "      <td>False</td>\n",
              "      <td>B/0/P</td>\n",
              "      <td>TRAPPIST-1e</td>\n",
              "      <td>39.0</td>\n",
              "      <td>False</td>\n",
              "      <td>0.0</td>\n",
              "      <td>0.0</td>\n",
              "      <td>0.0</td>\n",
              "      <td>0.0</td>\n",
              "      <td>0.0</td>\n",
              "      <td>Maham Ofracculy</td>\n",
              "      <td>False</td>\n",
              "    </tr>\n",
              "    <tr>\n",
              "      <th>1</th>\n",
              "      <td>0002_01</td>\n",
              "      <td>Earth</td>\n",
              "      <td>False</td>\n",
              "      <td>F/0/S</td>\n",
              "      <td>TRAPPIST-1e</td>\n",
              "      <td>24.0</td>\n",
              "      <td>False</td>\n",
              "      <td>109.0</td>\n",
              "      <td>9.0</td>\n",
              "      <td>25.0</td>\n",
              "      <td>549.0</td>\n",
              "      <td>44.0</td>\n",
              "      <td>Juanna Vines</td>\n",
              "      <td>True</td>\n",
              "    </tr>\n",
              "    <tr>\n",
              "      <th>2</th>\n",
              "      <td>0003_01</td>\n",
              "      <td>Europa</td>\n",
              "      <td>False</td>\n",
              "      <td>A/0/S</td>\n",
              "      <td>TRAPPIST-1e</td>\n",
              "      <td>58.0</td>\n",
              "      <td>True</td>\n",
              "      <td>43.0</td>\n",
              "      <td>3576.0</td>\n",
              "      <td>0.0</td>\n",
              "      <td>6715.0</td>\n",
              "      <td>49.0</td>\n",
              "      <td>Altark Susent</td>\n",
              "      <td>False</td>\n",
              "    </tr>\n",
              "    <tr>\n",
              "      <th>3</th>\n",
              "      <td>0003_02</td>\n",
              "      <td>Europa</td>\n",
              "      <td>False</td>\n",
              "      <td>A/0/S</td>\n",
              "      <td>TRAPPIST-1e</td>\n",
              "      <td>33.0</td>\n",
              "      <td>False</td>\n",
              "      <td>0.0</td>\n",
              "      <td>1283.0</td>\n",
              "      <td>371.0</td>\n",
              "      <td>3329.0</td>\n",
              "      <td>193.0</td>\n",
              "      <td>Solam Susent</td>\n",
              "      <td>False</td>\n",
              "    </tr>\n",
              "    <tr>\n",
              "      <th>4</th>\n",
              "      <td>0004_01</td>\n",
              "      <td>Earth</td>\n",
              "      <td>False</td>\n",
              "      <td>F/1/S</td>\n",
              "      <td>TRAPPIST-1e</td>\n",
              "      <td>16.0</td>\n",
              "      <td>False</td>\n",
              "      <td>303.0</td>\n",
              "      <td>70.0</td>\n",
              "      <td>151.0</td>\n",
              "      <td>565.0</td>\n",
              "      <td>2.0</td>\n",
              "      <td>Willy Santantines</td>\n",
              "      <td>True</td>\n",
              "    </tr>\n",
              "  </tbody>\n",
              "</table>\n",
              "</div>"
            ],
            "text/plain": [
              "  PassengerId HomePlanet CryoSleep  Cabin  Destination   Age    VIP  \\\n",
              "0     0001_01     Europa     False  B/0/P  TRAPPIST-1e  39.0  False   \n",
              "1     0002_01      Earth     False  F/0/S  TRAPPIST-1e  24.0  False   \n",
              "2     0003_01     Europa     False  A/0/S  TRAPPIST-1e  58.0   True   \n",
              "3     0003_02     Europa     False  A/0/S  TRAPPIST-1e  33.0  False   \n",
              "4     0004_01      Earth     False  F/1/S  TRAPPIST-1e  16.0  False   \n",
              "\n",
              "   RoomService  FoodCourt  ShoppingMall     Spa  VRDeck               Name  \\\n",
              "0          0.0        0.0           0.0     0.0     0.0    Maham Ofracculy   \n",
              "1        109.0        9.0          25.0   549.0    44.0       Juanna Vines   \n",
              "2         43.0     3576.0           0.0  6715.0    49.0      Altark Susent   \n",
              "3          0.0     1283.0         371.0  3329.0   193.0       Solam Susent   \n",
              "4        303.0       70.0         151.0   565.0     2.0  Willy Santantines   \n",
              "\n",
              "   Transported  \n",
              "0        False  \n",
              "1         True  \n",
              "2        False  \n",
              "3        False  \n",
              "4         True  "
            ]
          },
          "execution_count": 3,
          "metadata": {},
          "output_type": "execute_result"
        }
      ],
      "source": [
        "data.head()"
      ]
    },
    {
      "cell_type": "code",
      "execution_count": null,
      "id": "53191299",
      "metadata": {
        "ExecuteTime": {
          "end_time": "2022-11-18T06:59:19.823099Z",
          "start_time": "2022-11-18T06:59:19.810132Z"
        },
        "id": "53191299",
        "outputId": "74e604d3-0216-4e0d-f9a8-057ff2d955f3"
      },
      "outputs": [
        {
          "data": {
            "text/plain": [
              "Index(['PassengerId', 'HomePlanet', 'CryoSleep', 'Cabin', 'Destination', 'Age',\n",
              "       'VIP', 'RoomService', 'FoodCourt', 'ShoppingMall', 'Spa', 'VRDeck',\n",
              "       'Name', 'Transported'],\n",
              "      dtype='object')"
            ]
          },
          "execution_count": 4,
          "metadata": {},
          "output_type": "execute_result"
        }
      ],
      "source": [
        "data.columns"
      ]
    },
    {
      "cell_type": "code",
      "execution_count": null,
      "id": "098a764b",
      "metadata": {
        "ExecuteTime": {
          "end_time": "2022-11-18T06:59:19.854016Z",
          "start_time": "2022-11-18T06:59:19.824095Z"
        },
        "scrolled": false,
        "id": "098a764b",
        "outputId": "9e117efa-a155-44cd-9d96-c688b2310466"
      },
      "outputs": [
        {
          "name": "stdout",
          "output_type": "stream",
          "text": [
            "<class 'pandas.core.frame.DataFrame'>\n",
            "RangeIndex: 8693 entries, 0 to 8692\n",
            "Data columns (total 14 columns):\n",
            " #   Column        Non-Null Count  Dtype  \n",
            "---  ------        --------------  -----  \n",
            " 0   PassengerId   8693 non-null   object \n",
            " 1   HomePlanet    8492 non-null   object \n",
            " 2   CryoSleep     8476 non-null   object \n",
            " 3   Cabin         8494 non-null   object \n",
            " 4   Destination   8511 non-null   object \n",
            " 5   Age           8514 non-null   float64\n",
            " 6   VIP           8490 non-null   object \n",
            " 7   RoomService   8512 non-null   float64\n",
            " 8   FoodCourt     8510 non-null   float64\n",
            " 9   ShoppingMall  8485 non-null   float64\n",
            " 10  Spa           8510 non-null   float64\n",
            " 11  VRDeck        8505 non-null   float64\n",
            " 12  Name          8493 non-null   object \n",
            " 13  Transported   8693 non-null   bool   \n",
            "dtypes: bool(1), float64(6), object(7)\n",
            "memory usage: 891.5+ KB\n"
          ]
        }
      ],
      "source": [
        "data.info()"
      ]
    },
    {
      "cell_type": "code",
      "execution_count": null,
      "id": "43c1e15d",
      "metadata": {
        "ExecuteTime": {
          "end_time": "2022-11-18T06:59:19.883935Z",
          "start_time": "2022-11-18T06:59:19.856013Z"
        },
        "id": "43c1e15d",
        "outputId": "82270a71-1bd0-44ef-b1b5-a89509cdfa28"
      },
      "outputs": [
        {
          "data": {
            "text/plain": [
              "PassengerId       0\n",
              "HomePlanet      201\n",
              "CryoSleep       217\n",
              "Cabin           199\n",
              "Destination     182\n",
              "Age             179\n",
              "VIP             203\n",
              "RoomService     181\n",
              "FoodCourt       183\n",
              "ShoppingMall    208\n",
              "Spa             183\n",
              "VRDeck          188\n",
              "Name            200\n",
              "Transported       0\n",
              "dtype: int64"
            ]
          },
          "execution_count": 6,
          "metadata": {},
          "output_type": "execute_result"
        }
      ],
      "source": [
        "data.isna().sum()"
      ]
    },
    {
      "cell_type": "markdown",
      "id": "f3db12df",
      "metadata": {
        "ExecuteTime": {
          "end_time": "2022-11-18T05:13:16.189954Z",
          "start_time": "2022-11-18T05:13:16.173985Z"
        },
        "id": "f3db12df"
      },
      "source": [
        "## Cabin 결측값 처리\n",
        "- 결측값 확인 후 우선 Cabin부터 채워넣기로 함\n",
        "- PassengerId의 첫 4자리 숫자는 승객의 그룹을 의미함으로 Cabin 결측값 중 그룹이 있으면 그룹의 Cabin으로 채워넣음\n",
        "- train뿐만 아니라 test에도 결측값이 있기에 같이 처리하기로 함\n",
        "- 그렇게 처리하고 나온 파일이 하단의 파일"
      ]
    },
    {
      "cell_type": "code",
      "execution_count": null,
      "id": "23d648e9",
      "metadata": {
        "ExecuteTime": {
          "end_time": "2022-11-18T06:59:22.848182Z",
          "start_time": "2022-11-18T06:59:19.884932Z"
        },
        "id": "23d648e9"
      },
      "outputs": [],
      "source": [
        "data = pd.read_excel('C:/Users/admin/Desktop/sparta/train_test_origin.xlsx')"
      ]
    },
    {
      "cell_type": "code",
      "execution_count": null,
      "id": "68457bb1",
      "metadata": {
        "ExecuteTime": {
          "end_time": "2022-11-18T06:59:22.877929Z",
          "start_time": "2022-11-18T06:59:22.850003Z"
        },
        "id": "68457bb1",
        "outputId": "30cc4705-85d1-475d-e8d9-4126d62be435"
      },
      "outputs": [
        {
          "data": {
            "text/html": [
              "<div>\n",
              "<style scoped>\n",
              "    .dataframe tbody tr th:only-of-type {\n",
              "        vertical-align: middle;\n",
              "    }\n",
              "\n",
              "    .dataframe tbody tr th {\n",
              "        vertical-align: top;\n",
              "    }\n",
              "\n",
              "    .dataframe thead th {\n",
              "        text-align: right;\n",
              "    }\n",
              "</style>\n",
              "<table border=\"1\" class=\"dataframe\">\n",
              "  <thead>\n",
              "    <tr style=\"text-align: right;\">\n",
              "      <th></th>\n",
              "      <th>PassengerId</th>\n",
              "      <th>HomePlanet</th>\n",
              "      <th>CryoSleep</th>\n",
              "      <th>Cabin1</th>\n",
              "      <th>Cabin2</th>\n",
              "      <th>Combi</th>\n",
              "      <th>Cabin3</th>\n",
              "      <th>Cabin</th>\n",
              "      <th>Destination</th>\n",
              "      <th>Age</th>\n",
              "      <th>VIP</th>\n",
              "      <th>RoomService</th>\n",
              "      <th>FoodCourt</th>\n",
              "      <th>ShoppingMall</th>\n",
              "      <th>Spa</th>\n",
              "      <th>VRDeck</th>\n",
              "      <th>Name</th>\n",
              "      <th>Transported</th>\n",
              "    </tr>\n",
              "  </thead>\n",
              "  <tbody>\n",
              "    <tr>\n",
              "      <th>0</th>\n",
              "      <td>0001_01</td>\n",
              "      <td>Europa</td>\n",
              "      <td>0.0</td>\n",
              "      <td>B</td>\n",
              "      <td>0.0</td>\n",
              "      <td>B0</td>\n",
              "      <td>P</td>\n",
              "      <td>B/0/P</td>\n",
              "      <td>TRAPPIST-1e</td>\n",
              "      <td>39.0</td>\n",
              "      <td>0.0</td>\n",
              "      <td>0.0</td>\n",
              "      <td>0.0</td>\n",
              "      <td>0.0</td>\n",
              "      <td>0.0</td>\n",
              "      <td>0.0</td>\n",
              "      <td>Maham Ofracculy</td>\n",
              "      <td>0.0</td>\n",
              "    </tr>\n",
              "    <tr>\n",
              "      <th>1</th>\n",
              "      <td>0002_01</td>\n",
              "      <td>Earth</td>\n",
              "      <td>0.0</td>\n",
              "      <td>F</td>\n",
              "      <td>0.0</td>\n",
              "      <td>F0</td>\n",
              "      <td>S</td>\n",
              "      <td>F/0/S</td>\n",
              "      <td>TRAPPIST-1e</td>\n",
              "      <td>24.0</td>\n",
              "      <td>0.0</td>\n",
              "      <td>109.0</td>\n",
              "      <td>9.0</td>\n",
              "      <td>25.0</td>\n",
              "      <td>549.0</td>\n",
              "      <td>44.0</td>\n",
              "      <td>Juanna Vines</td>\n",
              "      <td>1.0</td>\n",
              "    </tr>\n",
              "    <tr>\n",
              "      <th>2</th>\n",
              "      <td>0003_01</td>\n",
              "      <td>Europa</td>\n",
              "      <td>0.0</td>\n",
              "      <td>A</td>\n",
              "      <td>0.0</td>\n",
              "      <td>A0</td>\n",
              "      <td>S</td>\n",
              "      <td>A/0/S</td>\n",
              "      <td>TRAPPIST-1e</td>\n",
              "      <td>58.0</td>\n",
              "      <td>1.0</td>\n",
              "      <td>43.0</td>\n",
              "      <td>3576.0</td>\n",
              "      <td>0.0</td>\n",
              "      <td>6715.0</td>\n",
              "      <td>49.0</td>\n",
              "      <td>Altark Susent</td>\n",
              "      <td>0.0</td>\n",
              "    </tr>\n",
              "    <tr>\n",
              "      <th>3</th>\n",
              "      <td>0003_02</td>\n",
              "      <td>Europa</td>\n",
              "      <td>0.0</td>\n",
              "      <td>A</td>\n",
              "      <td>0.0</td>\n",
              "      <td>A0</td>\n",
              "      <td>S</td>\n",
              "      <td>A/0/S</td>\n",
              "      <td>TRAPPIST-1e</td>\n",
              "      <td>33.0</td>\n",
              "      <td>0.0</td>\n",
              "      <td>0.0</td>\n",
              "      <td>1283.0</td>\n",
              "      <td>371.0</td>\n",
              "      <td>3329.0</td>\n",
              "      <td>193.0</td>\n",
              "      <td>Solam Susent</td>\n",
              "      <td>0.0</td>\n",
              "    </tr>\n",
              "    <tr>\n",
              "      <th>4</th>\n",
              "      <td>0004_01</td>\n",
              "      <td>Earth</td>\n",
              "      <td>0.0</td>\n",
              "      <td>F</td>\n",
              "      <td>1.0</td>\n",
              "      <td>F1</td>\n",
              "      <td>S</td>\n",
              "      <td>F/1/S</td>\n",
              "      <td>TRAPPIST-1e</td>\n",
              "      <td>16.0</td>\n",
              "      <td>0.0</td>\n",
              "      <td>303.0</td>\n",
              "      <td>70.0</td>\n",
              "      <td>151.0</td>\n",
              "      <td>565.0</td>\n",
              "      <td>2.0</td>\n",
              "      <td>Willy Santantines</td>\n",
              "      <td>1.0</td>\n",
              "    </tr>\n",
              "  </tbody>\n",
              "</table>\n",
              "</div>"
            ],
            "text/plain": [
              "  PassengerId HomePlanet  CryoSleep Cabin1  Cabin2 Combi Cabin3  Cabin  \\\n",
              "0     0001_01     Europa        0.0      B     0.0    B0      P  B/0/P   \n",
              "1     0002_01      Earth        0.0      F     0.0    F0      S  F/0/S   \n",
              "2     0003_01     Europa        0.0      A     0.0    A0      S  A/0/S   \n",
              "3     0003_02     Europa        0.0      A     0.0    A0      S  A/0/S   \n",
              "4     0004_01      Earth        0.0      F     1.0    F1      S  F/1/S   \n",
              "\n",
              "   Destination   Age  VIP  RoomService  FoodCourt  ShoppingMall     Spa  \\\n",
              "0  TRAPPIST-1e  39.0  0.0          0.0        0.0           0.0     0.0   \n",
              "1  TRAPPIST-1e  24.0  0.0        109.0        9.0          25.0   549.0   \n",
              "2  TRAPPIST-1e  58.0  1.0         43.0     3576.0           0.0  6715.0   \n",
              "3  TRAPPIST-1e  33.0  0.0          0.0     1283.0         371.0  3329.0   \n",
              "4  TRAPPIST-1e  16.0  0.0        303.0       70.0         151.0   565.0   \n",
              "\n",
              "   VRDeck               Name  Transported  \n",
              "0     0.0    Maham Ofracculy          0.0  \n",
              "1    44.0       Juanna Vines          1.0  \n",
              "2    49.0      Altark Susent          0.0  \n",
              "3   193.0       Solam Susent          0.0  \n",
              "4     2.0  Willy Santantines          1.0  "
            ]
          },
          "execution_count": 4,
          "metadata": {},
          "output_type": "execute_result"
        }
      ],
      "source": [
        "data.head()"
      ]
    },
    {
      "cell_type": "code",
      "execution_count": null,
      "id": "ad35c7d5",
      "metadata": {
        "ExecuteTime": {
          "end_time": "2022-11-18T06:59:22.892888Z",
          "start_time": "2022-11-18T06:59:22.878925Z"
        },
        "id": "ad35c7d5",
        "outputId": "a6465f23-fa95-4393-d3df-83ae4c4f29bd"
      },
      "outputs": [
        {
          "data": {
            "text/plain": [
              "Index(['PassengerId', 'HomePlanet', 'CryoSleep', 'Cabin1', 'Cabin2', 'Combi',\n",
              "       'Cabin3', 'Cabin', 'Destination', 'Age', 'VIP', 'RoomService',\n",
              "       'FoodCourt', 'ShoppingMall', 'Spa', 'VRDeck', 'Name', 'Transported'],\n",
              "      dtype='object')"
            ]
          },
          "execution_count": 9,
          "metadata": {},
          "output_type": "execute_result"
        }
      ],
      "source": [
        "# 결측값을 처리하면 Cabin을 나눠서 구분함\n",
        "# Cabin은 섹터/방번호/측면으로 구분되어 있음\n",
        "# Cabin1은 섹터\n",
        "# Cabin2는 방번호\n",
        "# Combi는 Cabin1+Cabin2\n",
        "# Cabin3는 측면(P(ort)는 좌현, S(tarboard)는 우현)\n",
        "data.columns"
      ]
    },
    {
      "cell_type": "code",
      "execution_count": null,
      "id": "8ff34a25",
      "metadata": {
        "ExecuteTime": {
          "end_time": "2022-11-18T06:59:22.922813Z",
          "start_time": "2022-11-18T06:59:22.894882Z"
        },
        "scrolled": false,
        "id": "8ff34a25",
        "outputId": "a91e2924-cfee-456e-e11b-fa462fbe4085"
      },
      "outputs": [
        {
          "name": "stdout",
          "output_type": "stream",
          "text": [
            "<class 'pandas.core.frame.DataFrame'>\n",
            "RangeIndex: 12970 entries, 0 to 12969\n",
            "Data columns (total 18 columns):\n",
            " #   Column        Non-Null Count  Dtype  \n",
            "---  ------        --------------  -----  \n",
            " 0   PassengerId   12970 non-null  object \n",
            " 1   HomePlanet    12691 non-null  object \n",
            " 2   CryoSleep     12660 non-null  float64\n",
            " 3   Cabin1        12804 non-null  object \n",
            " 4   Cabin2        12804 non-null  float64\n",
            " 5   Combi         12804 non-null  object \n",
            " 6   Cabin3        12804 non-null  object \n",
            " 7   Cabin         12804 non-null  object \n",
            " 8   Destination   12704 non-null  object \n",
            " 9   Age           12700 non-null  float64\n",
            " 10  VIP           12674 non-null  float64\n",
            " 11  RoomService   12776 non-null  float64\n",
            " 12  FoodCourt     12752 non-null  float64\n",
            " 13  ShoppingMall  12760 non-null  float64\n",
            " 14  Spa           12754 non-null  float64\n",
            " 15  VRDeck        12766 non-null  float64\n",
            " 16  Name          12676 non-null  object \n",
            " 17  Transported   8693 non-null   float64\n",
            "dtypes: float64(10), object(8)\n",
            "memory usage: 1.8+ MB\n"
          ]
        }
      ],
      "source": [
        "data.info()"
      ]
    },
    {
      "cell_type": "markdown",
      "id": "4d1a21ff",
      "metadata": {
        "id": "4d1a21ff"
      },
      "source": [
        "- test 데이터는 Kaggle에 제출해야하는 데이터이기에 target인 Transported가 전부 결측임"
      ]
    },
    {
      "cell_type": "code",
      "execution_count": null,
      "id": "477247d5",
      "metadata": {
        "ExecuteTime": {
          "end_time": "2022-11-18T06:59:22.937768Z",
          "start_time": "2022-11-18T06:59:22.923805Z"
        },
        "id": "477247d5",
        "outputId": "b7a84144-6617-44aa-edb7-d1ef3d428c54"
      },
      "outputs": [
        {
          "data": {
            "text/plain": [
              "PassengerId        0\n",
              "HomePlanet       279\n",
              "CryoSleep        310\n",
              "Cabin1           166\n",
              "Cabin2           166\n",
              "Combi            166\n",
              "Cabin3           166\n",
              "Cabin            166\n",
              "Destination      266\n",
              "Age              270\n",
              "VIP              296\n",
              "RoomService      194\n",
              "FoodCourt        218\n",
              "ShoppingMall     210\n",
              "Spa              216\n",
              "VRDeck           204\n",
              "Name             294\n",
              "Transported     4277\n",
              "dtype: int64"
            ]
          },
          "execution_count": 11,
          "metadata": {},
          "output_type": "execute_result"
        }
      ],
      "source": [
        "data.isna().sum()"
      ]
    },
    {
      "cell_type": "markdown",
      "id": "948aefc8",
      "metadata": {
        "id": "948aefc8"
      },
      "source": [
        "- 나머지 결측값을 처리하기 위해 클러스터링을 해보기로 함\n",
        "- 클러스터링 하기 전에 전처리를 진행해야함"
      ]
    },
    {
      "cell_type": "markdown",
      "id": "171193e4",
      "metadata": {
        "id": "171193e4"
      },
      "source": [
        "# 전처리"
      ]
    },
    {
      "cell_type": "markdown",
      "id": "007417a1",
      "metadata": {
        "id": "007417a1"
      },
      "source": [
        "## 필요없는 feature 제거"
      ]
    },
    {
      "cell_type": "code",
      "execution_count": null,
      "id": "e0150919",
      "metadata": {
        "ExecuteTime": {
          "end_time": "2022-11-18T06:59:22.952728Z",
          "start_time": "2022-11-18T06:59:22.938765Z"
        },
        "id": "e0150919"
      },
      "outputs": [],
      "source": [
        "# 분류하는데 필요없다고 예상되는 'PassengerId', 'Name' feature 제거\n",
        "data.drop(['PassengerId', 'Name'], inplace=True, axis=1)"
      ]
    },
    {
      "cell_type": "code",
      "execution_count": null,
      "id": "d6a16943",
      "metadata": {
        "ExecuteTime": {
          "end_time": "2022-11-18T06:59:22.967690Z",
          "start_time": "2022-11-18T06:59:22.953730Z"
        },
        "id": "d6a16943",
        "outputId": "a3f1a840-8aff-4a7f-dd34-d548db2f11d4"
      },
      "outputs": [
        {
          "name": "stdout",
          "output_type": "stream",
          "text": [
            "<class 'pandas.core.frame.DataFrame'>\n",
            "RangeIndex: 12970 entries, 0 to 12969\n",
            "Data columns (total 16 columns):\n",
            " #   Column        Non-Null Count  Dtype  \n",
            "---  ------        --------------  -----  \n",
            " 0   HomePlanet    12691 non-null  object \n",
            " 1   CryoSleep     12660 non-null  float64\n",
            " 2   Cabin1        12804 non-null  object \n",
            " 3   Cabin2        12804 non-null  float64\n",
            " 4   Combi         12804 non-null  object \n",
            " 5   Cabin3        12804 non-null  object \n",
            " 6   Cabin         12804 non-null  object \n",
            " 7   Destination   12704 non-null  object \n",
            " 8   Age           12700 non-null  float64\n",
            " 9   VIP           12674 non-null  float64\n",
            " 10  RoomService   12776 non-null  float64\n",
            " 11  FoodCourt     12752 non-null  float64\n",
            " 12  ShoppingMall  12760 non-null  float64\n",
            " 13  Spa           12754 non-null  float64\n",
            " 14  VRDeck        12766 non-null  float64\n",
            " 15  Transported   8693 non-null   float64\n",
            "dtypes: float64(10), object(6)\n",
            "memory usage: 1.6+ MB\n"
          ]
        }
      ],
      "source": [
        "# 제거 확인\n",
        "data.info()"
      ]
    },
    {
      "cell_type": "markdown",
      "id": "1d059ad3",
      "metadata": {
        "id": "1d059ad3"
      },
      "source": [
        "## CryoSleep, VIP, Cabin3 boolean 타입으로 캐스팅"
      ]
    },
    {
      "cell_type": "code",
      "execution_count": null,
      "id": "7f4d22f7",
      "metadata": {
        "ExecuteTime": {
          "end_time": "2022-11-18T06:59:22.982648Z",
          "start_time": "2022-11-18T06:59:22.968685Z"
        },
        "id": "7f4d22f7"
      },
      "outputs": [],
      "source": [
        "# Cabin3의 P(좌현)를 False으로 S(우현)를 True로 변경\n",
        "data['Cabin3'].replace({'P': True,'S': False}, inplace=True)"
      ]
    },
    {
      "cell_type": "code",
      "execution_count": null,
      "id": "01d2230c",
      "metadata": {
        "ExecuteTime": {
          "end_time": "2022-11-18T06:59:22.997620Z",
          "start_time": "2022-11-18T06:59:22.983646Z"
        },
        "id": "01d2230c"
      },
      "outputs": [],
      "source": [
        "# boolean으로 변환\n",
        "data['CryoSleep'] = data['CryoSleep'].astype(bool)\n",
        "data['VIP'] = data['VIP'].astype(bool)\n",
        "data['Cabin3'] = data['Cabin3'].astype(bool)"
      ]
    },
    {
      "cell_type": "code",
      "execution_count": null,
      "id": "5df54ff5",
      "metadata": {
        "ExecuteTime": {
          "end_time": "2022-11-18T06:59:23.012567Z",
          "start_time": "2022-11-18T06:59:22.998605Z"
        },
        "id": "5df54ff5",
        "outputId": "6fd8d3c7-db49-486a-d947-69b40fa23021"
      },
      "outputs": [
        {
          "name": "stdout",
          "output_type": "stream",
          "text": [
            "<class 'pandas.core.frame.DataFrame'>\n",
            "RangeIndex: 12970 entries, 0 to 12969\n",
            "Data columns (total 16 columns):\n",
            " #   Column        Non-Null Count  Dtype  \n",
            "---  ------        --------------  -----  \n",
            " 0   HomePlanet    12691 non-null  object \n",
            " 1   CryoSleep     12970 non-null  bool   \n",
            " 2   Cabin1        12804 non-null  object \n",
            " 3   Cabin2        12804 non-null  float64\n",
            " 4   Combi         12804 non-null  object \n",
            " 5   Cabin3        12970 non-null  bool   \n",
            " 6   Cabin         12804 non-null  object \n",
            " 7   Destination   12704 non-null  object \n",
            " 8   Age           12700 non-null  float64\n",
            " 9   VIP           12970 non-null  bool   \n",
            " 10  RoomService   12776 non-null  float64\n",
            " 11  FoodCourt     12752 non-null  float64\n",
            " 12  ShoppingMall  12760 non-null  float64\n",
            " 13  Spa           12754 non-null  float64\n",
            " 14  VRDeck        12766 non-null  float64\n",
            " 15  Transported   8693 non-null   float64\n",
            "dtypes: bool(3), float64(8), object(5)\n",
            "memory usage: 1.3+ MB\n"
          ]
        }
      ],
      "source": [
        "# 변환 확인\n",
        "data.info()"
      ]
    },
    {
      "cell_type": "code",
      "execution_count": null,
      "id": "8d9a7a31",
      "metadata": {
        "ExecuteTime": {
          "end_time": "2022-11-18T06:59:23.027528Z",
          "start_time": "2022-11-18T06:59:23.014563Z"
        },
        "id": "8d9a7a31"
      },
      "outputs": [],
      "source": [
        "# target 값을 제외하고 다른 변수에 저장\n",
        "df = data.iloc[:,:15]"
      ]
    },
    {
      "cell_type": "code",
      "execution_count": null,
      "id": "996f7f99",
      "metadata": {
        "ExecuteTime": {
          "end_time": "2022-11-18T06:59:23.057547Z",
          "start_time": "2022-11-18T06:59:23.028527Z"
        },
        "id": "996f7f99",
        "outputId": "ee017244-a0e0-4ad3-9af0-52e5d66474b2"
      },
      "outputs": [
        {
          "name": "stdout",
          "output_type": "stream",
          "text": [
            "<class 'pandas.core.frame.DataFrame'>\n",
            "RangeIndex: 12970 entries, 0 to 12969\n",
            "Data columns (total 15 columns):\n",
            " #   Column        Non-Null Count  Dtype  \n",
            "---  ------        --------------  -----  \n",
            " 0   HomePlanet    12691 non-null  object \n",
            " 1   CryoSleep     12970 non-null  bool   \n",
            " 2   Cabin1        12804 non-null  object \n",
            " 3   Cabin2        12804 non-null  float64\n",
            " 4   Combi         12804 non-null  object \n",
            " 5   Cabin3        12970 non-null  bool   \n",
            " 6   Cabin         12804 non-null  object \n",
            " 7   Destination   12704 non-null  object \n",
            " 8   Age           12700 non-null  float64\n",
            " 9   VIP           12970 non-null  bool   \n",
            " 10  RoomService   12776 non-null  float64\n",
            " 11  FoodCourt     12752 non-null  float64\n",
            " 12  ShoppingMall  12760 non-null  float64\n",
            " 13  Spa           12754 non-null  float64\n",
            " 14  VRDeck        12766 non-null  float64\n",
            "dtypes: bool(3), float64(7), object(5)\n",
            "memory usage: 1.2+ MB\n"
          ]
        }
      ],
      "source": [
        "df.info()"
      ]
    },
    {
      "cell_type": "markdown",
      "id": "ae08e756",
      "metadata": {
        "id": "ae08e756"
      },
      "source": [
        "## 클러스터링을 위해 다른 결측값들을 전부 제거"
      ]
    },
    {
      "cell_type": "code",
      "execution_count": null,
      "id": "8bf0a85d",
      "metadata": {
        "ExecuteTime": {
          "end_time": "2022-11-18T06:59:23.087368Z",
          "start_time": "2022-11-18T06:59:23.058445Z"
        },
        "id": "8bf0a85d",
        "outputId": "eda8cb15-0d81-418a-e00d-2dcc722046bc"
      },
      "outputs": [
        {
          "name": "stdout",
          "output_type": "stream",
          "text": [
            "<class 'pandas.core.frame.DataFrame'>\n",
            "Int64Index: 11076 entries, 0 to 12969\n",
            "Data columns (total 15 columns):\n",
            " #   Column        Non-Null Count  Dtype  \n",
            "---  ------        --------------  -----  \n",
            " 0   HomePlanet    11076 non-null  object \n",
            " 1   CryoSleep     11076 non-null  bool   \n",
            " 2   Cabin1        11076 non-null  object \n",
            " 3   Cabin2        11076 non-null  float64\n",
            " 4   Combi         11076 non-null  object \n",
            " 5   Cabin3        11076 non-null  bool   \n",
            " 6   Cabin         11076 non-null  object \n",
            " 7   Destination   11076 non-null  object \n",
            " 8   Age           11076 non-null  float64\n",
            " 9   VIP           11076 non-null  bool   \n",
            " 10  RoomService   11076 non-null  float64\n",
            " 11  FoodCourt     11076 non-null  float64\n",
            " 12  ShoppingMall  11076 non-null  float64\n",
            " 13  Spa           11076 non-null  float64\n",
            " 14  VRDeck        11076 non-null  float64\n",
            "dtypes: bool(3), float64(7), object(5)\n",
            "memory usage: 1.1+ MB\n"
          ]
        }
      ],
      "source": [
        "df.dropna(inplace=True)\n",
        "df.info()"
      ]
    },
    {
      "cell_type": "markdown",
      "id": "bf858a99",
      "metadata": {
        "id": "bf858a99"
      },
      "source": [
        "## 원핫인코딩"
      ]
    },
    {
      "cell_type": "code",
      "execution_count": null,
      "id": "fbeaab98",
      "metadata": {
        "ExecuteTime": {
          "end_time": "2022-11-18T06:59:23.117288Z",
          "start_time": "2022-11-18T06:59:23.088364Z"
        },
        "id": "fbeaab98"
      },
      "outputs": [],
      "source": [
        "# object 타입의 데이터들 더미화\n",
        "train_encoding = pd.get_dummies(df['HomePlanet'])\n",
        "df=df.drop('HomePlanet',axis=1)\n",
        "df = df.join(train_encoding)\n",
        "\n",
        "train_encoding = pd.get_dummies(df['Destination'])\n",
        "# 기존의 팀명 컬러 삭제\n",
        "df=df.drop('Destination',axis=1)\n",
        "df = df.join(train_encoding)\n",
        "\n",
        "train_encoding = pd.get_dummies(df['Cabin1'])\n",
        "# 기존의 팀명 컬러 삭제\n",
        "df=df.drop('Cabin1',axis=1)\n",
        "df = df.join(train_encoding)"
      ]
    },
    {
      "cell_type": "code",
      "execution_count": null,
      "id": "3d3a1b1a",
      "metadata": {
        "ExecuteTime": {
          "end_time": "2022-11-18T06:59:23.132248Z",
          "start_time": "2022-11-18T06:59:23.118286Z"
        },
        "id": "3d3a1b1a",
        "outputId": "79e73fe4-ee85-43fa-efc8-8a31e525688c"
      },
      "outputs": [
        {
          "name": "stdout",
          "output_type": "stream",
          "text": [
            "<class 'pandas.core.frame.DataFrame'>\n",
            "Int64Index: 11076 entries, 0 to 12969\n",
            "Data columns (total 26 columns):\n",
            " #   Column         Non-Null Count  Dtype  \n",
            "---  ------         --------------  -----  \n",
            " 0   CryoSleep      11076 non-null  bool   \n",
            " 1   Cabin2         11076 non-null  float64\n",
            " 2   Combi          11076 non-null  object \n",
            " 3   Cabin3         11076 non-null  bool   \n",
            " 4   Cabin          11076 non-null  object \n",
            " 5   Age            11076 non-null  float64\n",
            " 6   VIP            11076 non-null  bool   \n",
            " 7   RoomService    11076 non-null  float64\n",
            " 8   FoodCourt      11076 non-null  float64\n",
            " 9   ShoppingMall   11076 non-null  float64\n",
            " 10  Spa            11076 non-null  float64\n",
            " 11  VRDeck         11076 non-null  float64\n",
            " 12  Earth          11076 non-null  uint8  \n",
            " 13  Europa         11076 non-null  uint8  \n",
            " 14  Mars           11076 non-null  uint8  \n",
            " 15  55 Cancri e    11076 non-null  uint8  \n",
            " 16  PSO J318.5-22  11076 non-null  uint8  \n",
            " 17  TRAPPIST-1e    11076 non-null  uint8  \n",
            " 18  A              11076 non-null  uint8  \n",
            " 19  B              11076 non-null  uint8  \n",
            " 20  C              11076 non-null  uint8  \n",
            " 21  D              11076 non-null  uint8  \n",
            " 22  E              11076 non-null  uint8  \n",
            " 23  F              11076 non-null  uint8  \n",
            " 24  G              11076 non-null  uint8  \n",
            " 25  T              11076 non-null  uint8  \n",
            "dtypes: bool(3), float64(7), object(2), uint8(14)\n",
            "memory usage: 1.3+ MB\n"
          ]
        }
      ],
      "source": [
        "# 데이터 확인\n",
        "df.info()"
      ]
    },
    {
      "cell_type": "markdown",
      "id": "aedb7034",
      "metadata": {
        "id": "aedb7034"
      },
      "source": [
        "## 스케일링"
      ]
    },
    {
      "cell_type": "code",
      "execution_count": null,
      "id": "414075b5",
      "metadata": {
        "ExecuteTime": {
          "end_time": "2022-11-18T06:59:23.147264Z",
          "start_time": "2022-11-18T06:59:23.133245Z"
        },
        "id": "414075b5"
      },
      "outputs": [],
      "source": [
        "# 스케일링을 위한 함수 생성\n",
        "col = ['Cabin2', 'Age', 'RoomService','FoodCourt','ShoppingMall','Spa','VRDeck']\n",
        "def data_scaled(df, col):\n",
        "    for i in col:\n",
        "        data_mean = df[i].mean()\n",
        "        data_std = df[i].std()\n",
        "        scaled = (df[i]-data_mean)/data_std\n",
        "        df[i]=scaled\n",
        "    return df"
      ]
    },
    {
      "cell_type": "code",
      "execution_count": null,
      "id": "10928d1d",
      "metadata": {
        "ExecuteTime": {
          "end_time": "2022-11-18T06:59:23.192139Z",
          "start_time": "2022-11-18T06:59:23.148255Z"
        },
        "id": "10928d1d",
        "outputId": "c39b6ef6-ae18-40df-f865-98f4c2bb6160"
      },
      "outputs": [
        {
          "data": {
            "text/html": [
              "<div>\n",
              "<style scoped>\n",
              "    .dataframe tbody tr th:only-of-type {\n",
              "        vertical-align: middle;\n",
              "    }\n",
              "\n",
              "    .dataframe tbody tr th {\n",
              "        vertical-align: top;\n",
              "    }\n",
              "\n",
              "    .dataframe thead th {\n",
              "        text-align: right;\n",
              "    }\n",
              "</style>\n",
              "<table border=\"1\" class=\"dataframe\">\n",
              "  <thead>\n",
              "    <tr style=\"text-align: right;\">\n",
              "      <th></th>\n",
              "      <th>CryoSleep</th>\n",
              "      <th>Cabin2</th>\n",
              "      <th>Combi</th>\n",
              "      <th>Cabin3</th>\n",
              "      <th>Cabin</th>\n",
              "      <th>Age</th>\n",
              "      <th>VIP</th>\n",
              "      <th>RoomService</th>\n",
              "      <th>FoodCourt</th>\n",
              "      <th>ShoppingMall</th>\n",
              "      <th>...</th>\n",
              "      <th>PSO J318.5-22</th>\n",
              "      <th>TRAPPIST-1e</th>\n",
              "      <th>A</th>\n",
              "      <th>B</th>\n",
              "      <th>C</th>\n",
              "      <th>D</th>\n",
              "      <th>E</th>\n",
              "      <th>F</th>\n",
              "      <th>G</th>\n",
              "      <th>T</th>\n",
              "    </tr>\n",
              "  </thead>\n",
              "  <tbody>\n",
              "    <tr>\n",
              "      <th>0</th>\n",
              "      <td>False</td>\n",
              "      <td>-1.171058</td>\n",
              "      <td>B0</td>\n",
              "      <td>True</td>\n",
              "      <td>B/0/P</td>\n",
              "      <td>0.707877</td>\n",
              "      <td>False</td>\n",
              "      <td>-0.334616</td>\n",
              "      <td>-0.282674</td>\n",
              "      <td>-0.285975</td>\n",
              "      <td>...</td>\n",
              "      <td>0</td>\n",
              "      <td>1</td>\n",
              "      <td>0</td>\n",
              "      <td>1</td>\n",
              "      <td>0</td>\n",
              "      <td>0</td>\n",
              "      <td>0</td>\n",
              "      <td>0</td>\n",
              "      <td>0</td>\n",
              "      <td>0</td>\n",
              "    </tr>\n",
              "    <tr>\n",
              "      <th>1</th>\n",
              "      <td>False</td>\n",
              "      <td>-1.171058</td>\n",
              "      <td>F0</td>\n",
              "      <td>True</td>\n",
              "      <td>F/0/S</td>\n",
              "      <td>-0.329018</td>\n",
              "      <td>False</td>\n",
              "      <td>-0.166861</td>\n",
              "      <td>-0.277057</td>\n",
              "      <td>-0.244125</td>\n",
              "      <td>...</td>\n",
              "      <td>0</td>\n",
              "      <td>1</td>\n",
              "      <td>0</td>\n",
              "      <td>0</td>\n",
              "      <td>0</td>\n",
              "      <td>0</td>\n",
              "      <td>0</td>\n",
              "      <td>1</td>\n",
              "      <td>0</td>\n",
              "      <td>0</td>\n",
              "    </tr>\n",
              "    <tr>\n",
              "      <th>2</th>\n",
              "      <td>False</td>\n",
              "      <td>-1.171058</td>\n",
              "      <td>A0</td>\n",
              "      <td>True</td>\n",
              "      <td>A/0/S</td>\n",
              "      <td>2.021278</td>\n",
              "      <td>True</td>\n",
              "      <td>-0.268437</td>\n",
              "      <td>1.949128</td>\n",
              "      <td>-0.285975</td>\n",
              "      <td>...</td>\n",
              "      <td>0</td>\n",
              "      <td>1</td>\n",
              "      <td>1</td>\n",
              "      <td>0</td>\n",
              "      <td>0</td>\n",
              "      <td>0</td>\n",
              "      <td>0</td>\n",
              "      <td>0</td>\n",
              "      <td>0</td>\n",
              "      <td>0</td>\n",
              "    </tr>\n",
              "    <tr>\n",
              "      <th>3</th>\n",
              "      <td>False</td>\n",
              "      <td>-1.171058</td>\n",
              "      <td>A0</td>\n",
              "      <td>True</td>\n",
              "      <td>A/0/S</td>\n",
              "      <td>0.293119</td>\n",
              "      <td>False</td>\n",
              "      <td>-0.334616</td>\n",
              "      <td>0.518053</td>\n",
              "      <td>0.335083</td>\n",
              "      <td>...</td>\n",
              "      <td>0</td>\n",
              "      <td>1</td>\n",
              "      <td>1</td>\n",
              "      <td>0</td>\n",
              "      <td>0</td>\n",
              "      <td>0</td>\n",
              "      <td>0</td>\n",
              "      <td>0</td>\n",
              "      <td>0</td>\n",
              "      <td>0</td>\n",
              "    </tr>\n",
              "    <tr>\n",
              "      <th>4</th>\n",
              "      <td>False</td>\n",
              "      <td>-1.169112</td>\n",
              "      <td>F1</td>\n",
              "      <td>True</td>\n",
              "      <td>F/1/S</td>\n",
              "      <td>-0.882029</td>\n",
              "      <td>False</td>\n",
              "      <td>0.131712</td>\n",
              "      <td>-0.238987</td>\n",
              "      <td>-0.033199</td>\n",
              "      <td>...</td>\n",
              "      <td>0</td>\n",
              "      <td>1</td>\n",
              "      <td>0</td>\n",
              "      <td>0</td>\n",
              "      <td>0</td>\n",
              "      <td>0</td>\n",
              "      <td>0</td>\n",
              "      <td>1</td>\n",
              "      <td>0</td>\n",
              "      <td>0</td>\n",
              "    </tr>\n",
              "    <tr>\n",
              "      <th>...</th>\n",
              "      <td>...</td>\n",
              "      <td>...</td>\n",
              "      <td>...</td>\n",
              "      <td>...</td>\n",
              "      <td>...</td>\n",
              "      <td>...</td>\n",
              "      <td>...</td>\n",
              "      <td>...</td>\n",
              "      <td>...</td>\n",
              "      <td>...</td>\n",
              "      <td>...</td>\n",
              "      <td>...</td>\n",
              "      <td>...</td>\n",
              "      <td>...</td>\n",
              "      <td>...</td>\n",
              "      <td>...</td>\n",
              "      <td>...</td>\n",
              "      <td>...</td>\n",
              "      <td>...</td>\n",
              "      <td>...</td>\n",
              "      <td>...</td>\n",
              "    </tr>\n",
              "    <tr>\n",
              "      <th>12962</th>\n",
              "      <td>True</td>\n",
              "      <td>1.737845</td>\n",
              "      <td>G1495</td>\n",
              "      <td>True</td>\n",
              "      <td>G/1495/S</td>\n",
              "      <td>0.984383</td>\n",
              "      <td>False</td>\n",
              "      <td>-0.334616</td>\n",
              "      <td>-0.282674</td>\n",
              "      <td>-0.285975</td>\n",
              "      <td>...</td>\n",
              "      <td>0</td>\n",
              "      <td>1</td>\n",
              "      <td>0</td>\n",
              "      <td>0</td>\n",
              "      <td>0</td>\n",
              "      <td>0</td>\n",
              "      <td>0</td>\n",
              "      <td>0</td>\n",
              "      <td>1</td>\n",
              "      <td>0</td>\n",
              "    </tr>\n",
              "    <tr>\n",
              "      <th>12963</th>\n",
              "      <td>False</td>\n",
              "      <td>-0.630138</td>\n",
              "      <td>D278</td>\n",
              "      <td>True</td>\n",
              "      <td>D/278/S</td>\n",
              "      <td>0.984383</td>\n",
              "      <td>False</td>\n",
              "      <td>-0.262281</td>\n",
              "      <td>-0.282674</td>\n",
              "      <td>6.160647</td>\n",
              "      <td>...</td>\n",
              "      <td>0</td>\n",
              "      <td>1</td>\n",
              "      <td>0</td>\n",
              "      <td>0</td>\n",
              "      <td>0</td>\n",
              "      <td>1</td>\n",
              "      <td>0</td>\n",
              "      <td>0</td>\n",
              "      <td>0</td>\n",
              "      <td>0</td>\n",
              "    </tr>\n",
              "    <tr>\n",
              "      <th>12964</th>\n",
              "      <td>False</td>\n",
              "      <td>2.323517</td>\n",
              "      <td>F1796</td>\n",
              "      <td>True</td>\n",
              "      <td>F/1796/S</td>\n",
              "      <td>0.777004</td>\n",
              "      <td>False</td>\n",
              "      <td>-0.334616</td>\n",
              "      <td>0.257177</td>\n",
              "      <td>-0.285975</td>\n",
              "      <td>...</td>\n",
              "      <td>0</td>\n",
              "      <td>1</td>\n",
              "      <td>0</td>\n",
              "      <td>0</td>\n",
              "      <td>0</td>\n",
              "      <td>0</td>\n",
              "      <td>0</td>\n",
              "      <td>1</td>\n",
              "      <td>0</td>\n",
              "      <td>0</td>\n",
              "    </tr>\n",
              "    <tr>\n",
              "      <th>12965</th>\n",
              "      <td>True</td>\n",
              "      <td>1.739790</td>\n",
              "      <td>G1496</td>\n",
              "      <td>True</td>\n",
              "      <td>G/1496/S</td>\n",
              "      <td>0.362246</td>\n",
              "      <td>False</td>\n",
              "      <td>-0.334616</td>\n",
              "      <td>-0.282674</td>\n",
              "      <td>-0.285975</td>\n",
              "      <td>...</td>\n",
              "      <td>0</td>\n",
              "      <td>1</td>\n",
              "      <td>0</td>\n",
              "      <td>0</td>\n",
              "      <td>0</td>\n",
              "      <td>0</td>\n",
              "      <td>0</td>\n",
              "      <td>0</td>\n",
              "      <td>1</td>\n",
              "      <td>0</td>\n",
              "    </tr>\n",
              "    <tr>\n",
              "      <th>12969</th>\n",
              "      <td>True</td>\n",
              "      <td>1.743682</td>\n",
              "      <td>G1498</td>\n",
              "      <td>True</td>\n",
              "      <td>G/1498/S</td>\n",
              "      <td>0.984383</td>\n",
              "      <td>False</td>\n",
              "      <td>-0.334616</td>\n",
              "      <td>-0.282674</td>\n",
              "      <td>-0.285975</td>\n",
              "      <td>...</td>\n",
              "      <td>1</td>\n",
              "      <td>0</td>\n",
              "      <td>0</td>\n",
              "      <td>0</td>\n",
              "      <td>0</td>\n",
              "      <td>0</td>\n",
              "      <td>0</td>\n",
              "      <td>0</td>\n",
              "      <td>1</td>\n",
              "      <td>0</td>\n",
              "    </tr>\n",
              "  </tbody>\n",
              "</table>\n",
              "<p>11076 rows × 26 columns</p>\n",
              "</div>"
            ],
            "text/plain": [
              "       CryoSleep    Cabin2  Combi  Cabin3     Cabin       Age    VIP  \\\n",
              "0          False -1.171058     B0    True     B/0/P  0.707877  False   \n",
              "1          False -1.171058     F0    True     F/0/S -0.329018  False   \n",
              "2          False -1.171058     A0    True     A/0/S  2.021278   True   \n",
              "3          False -1.171058     A0    True     A/0/S  0.293119  False   \n",
              "4          False -1.169112     F1    True     F/1/S -0.882029  False   \n",
              "...          ...       ...    ...     ...       ...       ...    ...   \n",
              "12962       True  1.737845  G1495    True  G/1495/S  0.984383  False   \n",
              "12963      False -0.630138   D278    True   D/278/S  0.984383  False   \n",
              "12964      False  2.323517  F1796    True  F/1796/S  0.777004  False   \n",
              "12965       True  1.739790  G1496    True  G/1496/S  0.362246  False   \n",
              "12969       True  1.743682  G1498    True  G/1498/S  0.984383  False   \n",
              "\n",
              "       RoomService  FoodCourt  ShoppingMall  ...  PSO J318.5-22  TRAPPIST-1e  \\\n",
              "0        -0.334616  -0.282674     -0.285975  ...              0            1   \n",
              "1        -0.166861  -0.277057     -0.244125  ...              0            1   \n",
              "2        -0.268437   1.949128     -0.285975  ...              0            1   \n",
              "3        -0.334616   0.518053      0.335083  ...              0            1   \n",
              "4         0.131712  -0.238987     -0.033199  ...              0            1   \n",
              "...            ...        ...           ...  ...            ...          ...   \n",
              "12962    -0.334616  -0.282674     -0.285975  ...              0            1   \n",
              "12963    -0.262281  -0.282674      6.160647  ...              0            1   \n",
              "12964    -0.334616   0.257177     -0.285975  ...              0            1   \n",
              "12965    -0.334616  -0.282674     -0.285975  ...              0            1   \n",
              "12969    -0.334616  -0.282674     -0.285975  ...              1            0   \n",
              "\n",
              "       A  B  C  D  E  F  G  T  \n",
              "0      0  1  0  0  0  0  0  0  \n",
              "1      0  0  0  0  0  1  0  0  \n",
              "2      1  0  0  0  0  0  0  0  \n",
              "3      1  0  0  0  0  0  0  0  \n",
              "4      0  0  0  0  0  1  0  0  \n",
              "...   .. .. .. .. .. .. .. ..  \n",
              "12962  0  0  0  0  0  0  1  0  \n",
              "12963  0  0  0  1  0  0  0  0  \n",
              "12964  0  0  0  0  0  1  0  0  \n",
              "12965  0  0  0  0  0  0  1  0  \n",
              "12969  0  0  0  0  0  0  1  0  \n",
              "\n",
              "[11076 rows x 26 columns]"
            ]
          },
          "execution_count": 23,
          "metadata": {},
          "output_type": "execute_result"
        }
      ],
      "source": [
        "data_scaled(df, col)"
      ]
    },
    {
      "cell_type": "code",
      "execution_count": null,
      "id": "59dcd3b8",
      "metadata": {
        "ExecuteTime": {
          "end_time": "2022-11-18T06:59:23.222058Z",
          "start_time": "2022-11-18T06:59:23.193134Z"
        },
        "id": "59dcd3b8",
        "outputId": "9952e60c-2796-4fe7-9d8f-42cf8ef5c7e1"
      },
      "outputs": [
        {
          "data": {
            "text/html": [
              "<div>\n",
              "<style scoped>\n",
              "    .dataframe tbody tr th:only-of-type {\n",
              "        vertical-align: middle;\n",
              "    }\n",
              "\n",
              "    .dataframe tbody tr th {\n",
              "        vertical-align: top;\n",
              "    }\n",
              "\n",
              "    .dataframe thead th {\n",
              "        text-align: right;\n",
              "    }\n",
              "</style>\n",
              "<table border=\"1\" class=\"dataframe\">\n",
              "  <thead>\n",
              "    <tr style=\"text-align: right;\">\n",
              "      <th></th>\n",
              "      <th>CryoSleep</th>\n",
              "      <th>Cabin2</th>\n",
              "      <th>Combi</th>\n",
              "      <th>Cabin3</th>\n",
              "      <th>Cabin</th>\n",
              "      <th>Age</th>\n",
              "      <th>VIP</th>\n",
              "      <th>RoomService</th>\n",
              "      <th>FoodCourt</th>\n",
              "      <th>ShoppingMall</th>\n",
              "      <th>...</th>\n",
              "      <th>PSO J318.5-22</th>\n",
              "      <th>TRAPPIST-1e</th>\n",
              "      <th>A</th>\n",
              "      <th>B</th>\n",
              "      <th>C</th>\n",
              "      <th>D</th>\n",
              "      <th>E</th>\n",
              "      <th>F</th>\n",
              "      <th>G</th>\n",
              "      <th>T</th>\n",
              "    </tr>\n",
              "  </thead>\n",
              "  <tbody>\n",
              "    <tr>\n",
              "      <th>0</th>\n",
              "      <td>False</td>\n",
              "      <td>-1.171058</td>\n",
              "      <td>B0</td>\n",
              "      <td>True</td>\n",
              "      <td>B/0/P</td>\n",
              "      <td>0.707877</td>\n",
              "      <td>False</td>\n",
              "      <td>-0.334616</td>\n",
              "      <td>-0.282674</td>\n",
              "      <td>-0.285975</td>\n",
              "      <td>...</td>\n",
              "      <td>0</td>\n",
              "      <td>1</td>\n",
              "      <td>0</td>\n",
              "      <td>1</td>\n",
              "      <td>0</td>\n",
              "      <td>0</td>\n",
              "      <td>0</td>\n",
              "      <td>0</td>\n",
              "      <td>0</td>\n",
              "      <td>0</td>\n",
              "    </tr>\n",
              "    <tr>\n",
              "      <th>1</th>\n",
              "      <td>False</td>\n",
              "      <td>-1.171058</td>\n",
              "      <td>F0</td>\n",
              "      <td>True</td>\n",
              "      <td>F/0/S</td>\n",
              "      <td>-0.329018</td>\n",
              "      <td>False</td>\n",
              "      <td>-0.166861</td>\n",
              "      <td>-0.277057</td>\n",
              "      <td>-0.244125</td>\n",
              "      <td>...</td>\n",
              "      <td>0</td>\n",
              "      <td>1</td>\n",
              "      <td>0</td>\n",
              "      <td>0</td>\n",
              "      <td>0</td>\n",
              "      <td>0</td>\n",
              "      <td>0</td>\n",
              "      <td>1</td>\n",
              "      <td>0</td>\n",
              "      <td>0</td>\n",
              "    </tr>\n",
              "    <tr>\n",
              "      <th>2</th>\n",
              "      <td>False</td>\n",
              "      <td>-1.171058</td>\n",
              "      <td>A0</td>\n",
              "      <td>True</td>\n",
              "      <td>A/0/S</td>\n",
              "      <td>2.021278</td>\n",
              "      <td>True</td>\n",
              "      <td>-0.268437</td>\n",
              "      <td>1.949128</td>\n",
              "      <td>-0.285975</td>\n",
              "      <td>...</td>\n",
              "      <td>0</td>\n",
              "      <td>1</td>\n",
              "      <td>1</td>\n",
              "      <td>0</td>\n",
              "      <td>0</td>\n",
              "      <td>0</td>\n",
              "      <td>0</td>\n",
              "      <td>0</td>\n",
              "      <td>0</td>\n",
              "      <td>0</td>\n",
              "    </tr>\n",
              "    <tr>\n",
              "      <th>3</th>\n",
              "      <td>False</td>\n",
              "      <td>-1.171058</td>\n",
              "      <td>A0</td>\n",
              "      <td>True</td>\n",
              "      <td>A/0/S</td>\n",
              "      <td>0.293119</td>\n",
              "      <td>False</td>\n",
              "      <td>-0.334616</td>\n",
              "      <td>0.518053</td>\n",
              "      <td>0.335083</td>\n",
              "      <td>...</td>\n",
              "      <td>0</td>\n",
              "      <td>1</td>\n",
              "      <td>1</td>\n",
              "      <td>0</td>\n",
              "      <td>0</td>\n",
              "      <td>0</td>\n",
              "      <td>0</td>\n",
              "      <td>0</td>\n",
              "      <td>0</td>\n",
              "      <td>0</td>\n",
              "    </tr>\n",
              "    <tr>\n",
              "      <th>4</th>\n",
              "      <td>False</td>\n",
              "      <td>-1.169112</td>\n",
              "      <td>F1</td>\n",
              "      <td>True</td>\n",
              "      <td>F/1/S</td>\n",
              "      <td>-0.882029</td>\n",
              "      <td>False</td>\n",
              "      <td>0.131712</td>\n",
              "      <td>-0.238987</td>\n",
              "      <td>-0.033199</td>\n",
              "      <td>...</td>\n",
              "      <td>0</td>\n",
              "      <td>1</td>\n",
              "      <td>0</td>\n",
              "      <td>0</td>\n",
              "      <td>0</td>\n",
              "      <td>0</td>\n",
              "      <td>0</td>\n",
              "      <td>1</td>\n",
              "      <td>0</td>\n",
              "      <td>0</td>\n",
              "    </tr>\n",
              "  </tbody>\n",
              "</table>\n",
              "<p>5 rows × 26 columns</p>\n",
              "</div>"
            ],
            "text/plain": [
              "   CryoSleep    Cabin2 Combi  Cabin3  Cabin       Age    VIP  RoomService  \\\n",
              "0      False -1.171058    B0    True  B/0/P  0.707877  False    -0.334616   \n",
              "1      False -1.171058    F0    True  F/0/S -0.329018  False    -0.166861   \n",
              "2      False -1.171058    A0    True  A/0/S  2.021278   True    -0.268437   \n",
              "3      False -1.171058    A0    True  A/0/S  0.293119  False    -0.334616   \n",
              "4      False -1.169112    F1    True  F/1/S -0.882029  False     0.131712   \n",
              "\n",
              "   FoodCourt  ShoppingMall  ...  PSO J318.5-22  TRAPPIST-1e  A  B  C  D  E  F  \\\n",
              "0  -0.282674     -0.285975  ...              0            1  0  1  0  0  0  0   \n",
              "1  -0.277057     -0.244125  ...              0            1  0  0  0  0  0  1   \n",
              "2   1.949128     -0.285975  ...              0            1  1  0  0  0  0  0   \n",
              "3   0.518053      0.335083  ...              0            1  1  0  0  0  0  0   \n",
              "4  -0.238987     -0.033199  ...              0            1  0  0  0  0  0  1   \n",
              "\n",
              "   G  T  \n",
              "0  0  0  \n",
              "1  0  0  \n",
              "2  0  0  \n",
              "3  0  0  \n",
              "4  0  0  \n",
              "\n",
              "[5 rows x 26 columns]"
            ]
          },
          "execution_count": 24,
          "metadata": {},
          "output_type": "execute_result"
        }
      ],
      "source": [
        "df.head()"
      ]
    },
    {
      "cell_type": "markdown",
      "id": "ecb78a82",
      "metadata": {
        "id": "ecb78a82"
      },
      "source": [
        "## 클러스터링\n",
        "- 필요없는 feature 추가로 제거한 후 진행"
      ]
    },
    {
      "cell_type": "code",
      "execution_count": null,
      "id": "104b25ea",
      "metadata": {
        "ExecuteTime": {
          "end_time": "2022-11-18T06:59:23.237019Z",
          "start_time": "2022-11-18T06:59:23.223054Z"
        },
        "id": "104b25ea"
      },
      "outputs": [],
      "source": [
        "dt = df.drop(['Combi', 'Cabin'], axis=1)"
      ]
    },
    {
      "cell_type": "code",
      "execution_count": null,
      "id": "838e1acb",
      "metadata": {
        "ExecuteTime": {
          "end_time": "2022-11-18T07:00:34.249314Z",
          "start_time": "2022-11-18T06:59:23.239013Z"
        },
        "id": "838e1acb",
        "outputId": "108bb838-a522-41c5-fcf9-57462bec4096"
      },
      "outputs": [
        {
          "name": "stdout",
          "output_type": "stream",
          "text": [
            "k: 2, score: 0.39969018335468287\n",
            "k: 3, score: 0.14185156575717311\n",
            "k: 4, score: 0.15151784045362093\n",
            "k: 5, score: 0.1559061192440089\n",
            "k: 6, score: 0.13272243195725927\n",
            "k: 7, score: 0.14264793143217322\n",
            "k: 8, score: 0.1523939867296424\n",
            "k: 9, score: 0.15855572438088006\n",
            "k: 10, score: 0.16848717649649886\n",
            "k: 11, score: 0.1719417766830233\n",
            "k: 12, score: 0.1767525504160753\n",
            "k: 13, score: 0.15301345015328918\n",
            "k: 14, score: 0.16995625293762828\n",
            "k: 15, score: 0.17547035906816716\n",
            "k: 16, score: 0.15851569352600384\n",
            "k: 17, score: 0.16866166334971966\n",
            "k: 18, score: 0.17945282042894817\n",
            "k: 19, score: 0.1782550670939478\n",
            "k: 20, score: 0.17939509762456127\n",
            "k: 21, score: 0.17489397195225823\n",
            "k: 22, score: 0.17714857616304974\n",
            "k: 23, score: 0.1736955166982367\n",
            "k: 24, score: 0.1745671601499613\n",
            "k: 25, score: 0.17714199923930266\n",
            "k: 26, score: 0.17156985331968433\n",
            "k: 27, score: 0.17462637551984989\n",
            "k: 28, score: 0.17879420423015113\n",
            "k: 29, score: 0.18481786330498226\n",
            "\n",
            " best K: 2, best Score: 0.39969018335468287\n"
          ]
        }
      ],
      "source": [
        "k_range = range(2,30)\n",
        "\n",
        "best_k = -1\n",
        "best_silhouette_score = -1\n",
        "\n",
        "for k in k_range:\n",
        "    km = KMeans(n_clusters = k, random_state=109)\n",
        "    km.fit(dt)\n",
        "    clusters= km.predict(dt)\n",
        "    \n",
        "    score = silhouette_score(dt, clusters)\n",
        "    \n",
        "    print('k: {}, score: {}'.format(k, score))\n",
        "    if score > best_silhouette_score:\n",
        "        best_k = k\n",
        "        best_silhouette_score = score\n",
        "        \n",
        "print('\\n best K: {}, best Score: {}'.format(best_k, best_silhouette_score))"
      ]
    },
    {
      "cell_type": "markdown",
      "id": "c8a43715",
      "metadata": {
        "id": "c8a43715"
      },
      "source": [
        "- 군집화를 시켜보니 실루엣 점수가 너무 낮아서 이를 포기하고 feature 별로 분류하여 결측값을 채우기로 함"
      ]
    },
    {
      "cell_type": "markdown",
      "id": "531f044c",
      "metadata": {
        "id": "531f044c"
      },
      "source": [
        "## CryoSleep 결측값 채우기\n",
        "- XGBoost 활용하기"
      ]
    },
    {
      "cell_type": "markdown",
      "id": "27298d94",
      "metadata": {
        "id": "27298d94"
      },
      "source": [
        "### 훈련셋 테스트셋 검증셋 분리"
      ]
    },
    {
      "cell_type": "code",
      "execution_count": null,
      "id": "94a5d778",
      "metadata": {
        "ExecuteTime": {
          "end_time": "2022-11-18T07:00:34.266097Z",
          "start_time": "2022-11-18T07:00:34.250309Z"
        },
        "id": "94a5d778"
      },
      "outputs": [],
      "source": [
        "X_train, X_test, y_train, y_test = train_test_split(dt.drop(['CryoSleep'],axis=1),dt.CryoSleep,\n",
        "                                                    random_state=109)\n",
        "X_train, X_val, y_train, y_val = train_test_split(X_train, y_train)"
      ]
    },
    {
      "cell_type": "markdown",
      "id": "ef241804",
      "metadata": {
        "id": "ef241804"
      },
      "source": [
        "### 모델 생성(그리드서치)"
      ]
    },
    {
      "cell_type": "code",
      "execution_count": null,
      "id": "8f040ff7",
      "metadata": {
        "ExecuteTime": {
          "end_time": "2022-11-18T07:41:43.904924Z",
          "start_time": "2022-11-18T07:11:56.002694Z"
        },
        "id": "8f040ff7"
      },
      "outputs": [],
      "source": [
        "# xgbo = xgb.XGBClassifier()\n",
        "\n",
        "# params = {\n",
        "#     'max_depth':[2, 3, 4, 5, 6, 7, 8, 9, 10, 11, 12, 13, 14, 15, 16, 17, 18, 19, 20, 21, 22, 23, 24, 25, None],\n",
        "#     'learning_rate':[0.01, 0.05, 0.1, 0.15, 0.2, 0.25, 0.3, 0.35, 0.4],\n",
        "#     'gamma':[0.5, 1, 1.5, 2, 2.5, 3, 3.5, 4, 4.5, 5],\n",
        "#     'random_state':[109]\n",
        "# }\n",
        "\n",
        "# gs = GridSearchCV(xgbo, param_grid = params, cv = 3, refit = True, n_jobs=-1)\n",
        "# gs.fit(X_train, y_train)"
      ]
    },
    {
      "cell_type": "markdown",
      "id": "935bdb16",
      "metadata": {
        "id": "935bdb16"
      },
      "source": [
        "### 결과확인"
      ]
    },
    {
      "cell_type": "code",
      "execution_count": null,
      "id": "d1ae84af",
      "metadata": {
        "ExecuteTime": {
          "end_time": "2022-11-18T07:50:09.323643Z",
          "start_time": "2022-11-18T07:50:09.288737Z"
        },
        "scrolled": true,
        "id": "d1ae84af"
      },
      "outputs": [],
      "source": [
        "# model = gs.best_estimator_\n",
        "# print(model.score(X_train, y_train))\n",
        "# print(model.score(X_test, y_test))\n",
        "# print(model.score(X_val, y_val))"
      ]
    },
    {
      "cell_type": "code",
      "execution_count": null,
      "id": "abc118af",
      "metadata": {
        "ExecuteTime": {
          "end_time": "2022-11-18T07:46:44.087473Z",
          "start_time": "2022-11-18T07:46:44.074507Z"
        },
        "id": "abc118af"
      },
      "outputs": [],
      "source": [
        "# # 최적의 파라미터값\n",
        "# print(gs.best_params_)"
      ]
    },
    {
      "cell_type": "code",
      "execution_count": null,
      "id": "e9fcacf8",
      "metadata": {
        "ExecuteTime": {
          "end_time": "2022-11-18T07:49:14.960344Z",
          "start_time": "2022-11-18T07:49:14.608281Z"
        },
        "id": "e9fcacf8",
        "outputId": "14c64c60-bdd3-4e90-9754-46ea7a792e50"
      },
      "outputs": [
        {
          "data": {
            "text/html": [
              "<style>#sk-container-id-1 {color: black;background-color: white;}#sk-container-id-1 pre{padding: 0;}#sk-container-id-1 div.sk-toggleable {background-color: white;}#sk-container-id-1 label.sk-toggleable__label {cursor: pointer;display: block;width: 100%;margin-bottom: 0;padding: 0.3em;box-sizing: border-box;text-align: center;}#sk-container-id-1 label.sk-toggleable__label-arrow:before {content: \"▸\";float: left;margin-right: 0.25em;color: #696969;}#sk-container-id-1 label.sk-toggleable__label-arrow:hover:before {color: black;}#sk-container-id-1 div.sk-estimator:hover label.sk-toggleable__label-arrow:before {color: black;}#sk-container-id-1 div.sk-toggleable__content {max-height: 0;max-width: 0;overflow: hidden;text-align: left;background-color: #f0f8ff;}#sk-container-id-1 div.sk-toggleable__content pre {margin: 0.2em;color: black;border-radius: 0.25em;background-color: #f0f8ff;}#sk-container-id-1 input.sk-toggleable__control:checked~div.sk-toggleable__content {max-height: 200px;max-width: 100%;overflow: auto;}#sk-container-id-1 input.sk-toggleable__control:checked~label.sk-toggleable__label-arrow:before {content: \"▾\";}#sk-container-id-1 div.sk-estimator input.sk-toggleable__control:checked~label.sk-toggleable__label {background-color: #d4ebff;}#sk-container-id-1 div.sk-label input.sk-toggleable__control:checked~label.sk-toggleable__label {background-color: #d4ebff;}#sk-container-id-1 input.sk-hidden--visually {border: 0;clip: rect(1px 1px 1px 1px);clip: rect(1px, 1px, 1px, 1px);height: 1px;margin: -1px;overflow: hidden;padding: 0;position: absolute;width: 1px;}#sk-container-id-1 div.sk-estimator {font-family: monospace;background-color: #f0f8ff;border: 1px dotted black;border-radius: 0.25em;box-sizing: border-box;margin-bottom: 0.5em;}#sk-container-id-1 div.sk-estimator:hover {background-color: #d4ebff;}#sk-container-id-1 div.sk-parallel-item::after {content: \"\";width: 100%;border-bottom: 1px solid gray;flex-grow: 1;}#sk-container-id-1 div.sk-label:hover label.sk-toggleable__label {background-color: #d4ebff;}#sk-container-id-1 div.sk-serial::before {content: \"\";position: absolute;border-left: 1px solid gray;box-sizing: border-box;top: 0;bottom: 0;left: 50%;z-index: 0;}#sk-container-id-1 div.sk-serial {display: flex;flex-direction: column;align-items: center;background-color: white;padding-right: 0.2em;padding-left: 0.2em;position: relative;}#sk-container-id-1 div.sk-item {position: relative;z-index: 1;}#sk-container-id-1 div.sk-parallel {display: flex;align-items: stretch;justify-content: center;background-color: white;position: relative;}#sk-container-id-1 div.sk-item::before, #sk-container-id-1 div.sk-parallel-item::before {content: \"\";position: absolute;border-left: 1px solid gray;box-sizing: border-box;top: 0;bottom: 0;left: 50%;z-index: -1;}#sk-container-id-1 div.sk-parallel-item {display: flex;flex-direction: column;z-index: 1;position: relative;background-color: white;}#sk-container-id-1 div.sk-parallel-item:first-child::after {align-self: flex-end;width: 50%;}#sk-container-id-1 div.sk-parallel-item:last-child::after {align-self: flex-start;width: 50%;}#sk-container-id-1 div.sk-parallel-item:only-child::after {width: 0;}#sk-container-id-1 div.sk-dashed-wrapped {border: 1px dashed gray;margin: 0 0.4em 0.5em 0.4em;box-sizing: border-box;padding-bottom: 0.4em;background-color: white;}#sk-container-id-1 div.sk-label label {font-family: monospace;font-weight: bold;display: inline-block;line-height: 1.2em;}#sk-container-id-1 div.sk-label-container {text-align: center;}#sk-container-id-1 div.sk-container {/* jupyter's `normalize.less` sets `[hidden] { display: none; }` but bootstrap.min.css set `[hidden] { display: none !important; }` so we also need the `!important` here to be able to override the default hidden behavior on the sphinx rendered scikit-learn.org. See: https://github.com/scikit-learn/scikit-learn/issues/21755 */display: inline-block !important;position: relative;}#sk-container-id-1 div.sk-text-repr-fallback {display: none;}</style><div id=\"sk-container-id-1\" class=\"sk-top-container\"><div class=\"sk-text-repr-fallback\"><pre>XGBClassifier(base_score=0.5, booster=&#x27;gbtree&#x27;, callbacks=None,\n",
              "              colsample_bylevel=1, colsample_bynode=1, colsample_bytree=1,\n",
              "              early_stopping_rounds=None, enable_categorical=False,\n",
              "              eval_metric=None, feature_types=None, gamma=4, gpu_id=-1,\n",
              "              grow_policy=&#x27;depthwise&#x27;, importance_type=None,\n",
              "              interaction_constraints=&#x27;&#x27;, learning_rate=0.3, max_bin=256,\n",
              "              max_cat_threshold=64, max_cat_to_onehot=4, max_delta_step=0,\n",
              "              max_depth=11, max_leaves=0, min_child_weight=1, missing=nan,\n",
              "              monotone_constraints=&#x27;()&#x27;, n_estimators=100, n_jobs=0,\n",
              "              num_parallel_tree=1, predictor=&#x27;auto&#x27;, random_state=109, ...)</pre><b>In a Jupyter environment, please rerun this cell to show the HTML representation or trust the notebook. <br />On GitHub, the HTML representation is unable to render, please try loading this page with nbviewer.org.</b></div><div class=\"sk-container\" hidden><div class=\"sk-item\"><div class=\"sk-estimator sk-toggleable\"><input class=\"sk-toggleable__control sk-hidden--visually\" id=\"sk-estimator-id-1\" type=\"checkbox\" checked><label for=\"sk-estimator-id-1\" class=\"sk-toggleable__label sk-toggleable__label-arrow\">XGBClassifier</label><div class=\"sk-toggleable__content\"><pre>XGBClassifier(base_score=0.5, booster=&#x27;gbtree&#x27;, callbacks=None,\n",
              "              colsample_bylevel=1, colsample_bynode=1, colsample_bytree=1,\n",
              "              early_stopping_rounds=None, enable_categorical=False,\n",
              "              eval_metric=None, feature_types=None, gamma=4, gpu_id=-1,\n",
              "              grow_policy=&#x27;depthwise&#x27;, importance_type=None,\n",
              "              interaction_constraints=&#x27;&#x27;, learning_rate=0.3, max_bin=256,\n",
              "              max_cat_threshold=64, max_cat_to_onehot=4, max_delta_step=0,\n",
              "              max_depth=11, max_leaves=0, min_child_weight=1, missing=nan,\n",
              "              monotone_constraints=&#x27;()&#x27;, n_estimators=100, n_jobs=0,\n",
              "              num_parallel_tree=1, predictor=&#x27;auto&#x27;, random_state=109, ...)</pre></div></div></div></div></div>"
            ],
            "text/plain": [
              "XGBClassifier(base_score=0.5, booster='gbtree', callbacks=None,\n",
              "              colsample_bylevel=1, colsample_bynode=1, colsample_bytree=1,\n",
              "              early_stopping_rounds=None, enable_categorical=False,\n",
              "              eval_metric=None, feature_types=None, gamma=4, gpu_id=-1,\n",
              "              grow_policy='depthwise', importance_type=None,\n",
              "              interaction_constraints='', learning_rate=0.3, max_bin=256,\n",
              "              max_cat_threshold=64, max_cat_to_onehot=4, max_delta_step=0,\n",
              "              max_depth=11, max_leaves=0, min_child_weight=1, missing=nan,\n",
              "              monotone_constraints='()', n_estimators=100, n_jobs=0,\n",
              "              num_parallel_tree=1, predictor='auto', random_state=109, ...)"
            ]
          },
          "execution_count": 31,
          "metadata": {},
          "output_type": "execute_result"
        }
      ],
      "source": [
        "xgbo = xgb.XGBClassifier(gamma=4, learning_rate=0.3, max_depth=11, random_state=109)\n",
        "xgbo.fit(X_train, y_train)"
      ]
    },
    {
      "cell_type": "code",
      "execution_count": null,
      "id": "c7daa634",
      "metadata": {
        "ExecuteTime": {
          "end_time": "2022-11-18T08:06:44.273633Z",
          "start_time": "2022-11-18T08:06:44.208275Z"
        },
        "id": "c7daa634"
      },
      "outputs": [],
      "source": [
        "train_pred = xgbo.predict(X_train)\n",
        "train_proba = xgbo.predict_proba(X_train)\n",
        "\n",
        "test_pred = xgbo.predict(X_test)\n",
        "test_proba = xgbo.predict_proba(X_test)\n",
        "\n",
        "val_pred = xgbo.predict(X_val)\n",
        "val_proba = xgbo.predict_proba(X_val)"
      ]
    },
    {
      "cell_type": "code",
      "execution_count": null,
      "id": "4ecc6ae2",
      "metadata": {
        "ExecuteTime": {
          "end_time": "2022-11-18T08:08:54.096298Z",
          "start_time": "2022-11-18T08:08:54.087322Z"
        },
        "id": "4ecc6ae2"
      },
      "outputs": [],
      "source": [
        "# 평가용 함수\n",
        "def  get_clf_eval(y_test, pred=None, pred_proba=None):\n",
        "    confusion = confusion_matrix(y_test, pred)\n",
        "    accuracy = accuracy_score(y_test, pred)\n",
        "    precision = precision_score(y_test, pred)\n",
        "    recall = recall_score(y_test, pred)\n",
        "    f1 = f1_score(y_test, pred)\n",
        "#     roc_auc = roc_auc_score(y_test, pred_proba)\n",
        "    \n",
        "    print('오차 행렬')\n",
        "    print(confusion)\n",
        " \n",
        "    print('정확도: {0:.4f}, 정밀도: {1:.4f}, \\\n",
        "    재현율: {2:.4f}, F1: {3:.4f}'.format(accuracy, precision, recall, f1))"
      ]
    },
    {
      "cell_type": "markdown",
      "id": "3ae23ad3",
      "metadata": {
        "id": "3ae23ad3"
      },
      "source": [
        "#### 훈련셋 평가"
      ]
    },
    {
      "cell_type": "code",
      "execution_count": null,
      "id": "12b16d1d",
      "metadata": {
        "ExecuteTime": {
          "end_time": "2022-11-18T08:08:55.941963Z",
          "start_time": "2022-11-18T08:08:55.903827Z"
        },
        "scrolled": true,
        "id": "12b16d1d",
        "outputId": "458f12b5-54f0-4bec-d3c8-2584b9db6b88"
      },
      "outputs": [
        {
          "name": "stdout",
          "output_type": "stream",
          "text": [
            "오차 행렬\n",
            "[[3550  199]\n",
            " [ 146 2335]]\n",
            "정확도: 0.9446, 정밀도: 0.9215,     재현율: 0.9412, F1: 0.9312\n"
          ]
        }
      ],
      "source": [
        "get_clf_eval(y_train, train_pred, train_proba)"
      ]
    },
    {
      "cell_type": "markdown",
      "id": "9cc9db34",
      "metadata": {
        "id": "9cc9db34"
      },
      "source": [
        "#### 테스트셋 평가"
      ]
    },
    {
      "cell_type": "code",
      "execution_count": null,
      "id": "98c7029a",
      "metadata": {
        "ExecuteTime": {
          "end_time": "2022-11-18T08:10:29.452579Z",
          "start_time": "2022-11-18T08:10:29.431638Z"
        },
        "id": "98c7029a",
        "outputId": "99c25656-bfee-4625-e6d4-2e0d4749b017"
      },
      "outputs": [
        {
          "name": "stdout",
          "output_type": "stream",
          "text": [
            "오차 행렬\n",
            "[[1592   94]\n",
            " [  73 1010]]\n",
            "정확도: 0.9397, 정밀도: 0.9149,     재현율: 0.9326, F1: 0.9236\n"
          ]
        }
      ],
      "source": [
        "get_clf_eval(y_test, test_pred, test_proba)"
      ]
    },
    {
      "cell_type": "markdown",
      "id": "3fc77835",
      "metadata": {
        "id": "3fc77835"
      },
      "source": [
        "#### 검증셋 평가"
      ]
    },
    {
      "cell_type": "code",
      "execution_count": null,
      "id": "22142581",
      "metadata": {
        "ExecuteTime": {
          "end_time": "2022-11-18T08:10:30.625739Z",
          "start_time": "2022-11-18T08:10:30.599788Z"
        },
        "id": "22142581",
        "outputId": "68e53330-addc-4a09-8ad6-42bc1f7e0beb"
      },
      "outputs": [
        {
          "name": "stdout",
          "output_type": "stream",
          "text": [
            "오차 행렬\n",
            "[[1223   61]\n",
            " [  56  737]]\n",
            "정확도: 0.9437, 정밀도: 0.9236,     재현율: 0.9294, F1: 0.9265\n"
          ]
        }
      ],
      "source": [
        "get_clf_eval(y_val, val_pred, val_proba)"
      ]
    },
    {
      "cell_type": "markdown",
      "id": "d4804b51",
      "metadata": {
        "id": "d4804b51"
      },
      "source": [
        "- CryoSleep XGBoost 모델은 0.93이상의 정확도와 다른 지표도 좋아 결측값 예측에 사용하기로 함"
      ]
    },
    {
      "cell_type": "markdown",
      "id": "a0525a6e",
      "metadata": {
        "id": "a0525a6e"
      },
      "source": [
        "# HomePlanet 결측치 채우기\n",
        "## 사본 df생성"
      ]
    },
    {
      "cell_type": "code",
      "execution_count": null,
      "id": "3d4d756f",
      "metadata": {
        "id": "3d4d756f"
      },
      "outputs": [],
      "source": [
        "# target 값을 제외하고 다른 변수에 저장\n",
        "df_hp = data.iloc[:,:15]\n",
        "# 그 외 사용하지 않는 피처 삭제\n",
        "df_hp = df_hp.drop(['Cabin','Combi','Age'], axis=1)"
      ]
    },
    {
      "cell_type": "code",
      "execution_count": null,
      "id": "3986a05e",
      "metadata": {
        "id": "3986a05e",
        "outputId": "aef1c6e3-24cd-40f1-83ff-4a9284915da6"
      },
      "outputs": [
        {
          "data": {
            "text/html": [
              "<div>\n",
              "<style scoped>\n",
              "    .dataframe tbody tr th:only-of-type {\n",
              "        vertical-align: middle;\n",
              "    }\n",
              "\n",
              "    .dataframe tbody tr th {\n",
              "        vertical-align: top;\n",
              "    }\n",
              "\n",
              "    .dataframe thead th {\n",
              "        text-align: right;\n",
              "    }\n",
              "</style>\n",
              "<table border=\"1\" class=\"dataframe\">\n",
              "  <thead>\n",
              "    <tr style=\"text-align: right;\">\n",
              "      <th></th>\n",
              "      <th>HomePlanet</th>\n",
              "      <th>CryoSleep</th>\n",
              "      <th>Cabin1</th>\n",
              "      <th>Cabin2</th>\n",
              "      <th>Cabin3</th>\n",
              "      <th>Destination</th>\n",
              "      <th>VIP</th>\n",
              "      <th>RoomService</th>\n",
              "      <th>FoodCourt</th>\n",
              "      <th>ShoppingMall</th>\n",
              "      <th>Spa</th>\n",
              "      <th>VRDeck</th>\n",
              "    </tr>\n",
              "  </thead>\n",
              "  <tbody>\n",
              "    <tr>\n",
              "      <th>0</th>\n",
              "      <td>Europa</td>\n",
              "      <td>False</td>\n",
              "      <td>B</td>\n",
              "      <td>0.0</td>\n",
              "      <td>True</td>\n",
              "      <td>TRAPPIST-1e</td>\n",
              "      <td>False</td>\n",
              "      <td>0.0</td>\n",
              "      <td>0.0</td>\n",
              "      <td>0.0</td>\n",
              "      <td>0.0</td>\n",
              "      <td>0.0</td>\n",
              "    </tr>\n",
              "    <tr>\n",
              "      <th>1</th>\n",
              "      <td>Earth</td>\n",
              "      <td>False</td>\n",
              "      <td>F</td>\n",
              "      <td>0.0</td>\n",
              "      <td>False</td>\n",
              "      <td>TRAPPIST-1e</td>\n",
              "      <td>False</td>\n",
              "      <td>109.0</td>\n",
              "      <td>9.0</td>\n",
              "      <td>25.0</td>\n",
              "      <td>549.0</td>\n",
              "      <td>44.0</td>\n",
              "    </tr>\n",
              "    <tr>\n",
              "      <th>2</th>\n",
              "      <td>Europa</td>\n",
              "      <td>False</td>\n",
              "      <td>A</td>\n",
              "      <td>0.0</td>\n",
              "      <td>False</td>\n",
              "      <td>TRAPPIST-1e</td>\n",
              "      <td>True</td>\n",
              "      <td>43.0</td>\n",
              "      <td>3576.0</td>\n",
              "      <td>0.0</td>\n",
              "      <td>6715.0</td>\n",
              "      <td>49.0</td>\n",
              "    </tr>\n",
              "    <tr>\n",
              "      <th>3</th>\n",
              "      <td>Europa</td>\n",
              "      <td>False</td>\n",
              "      <td>A</td>\n",
              "      <td>0.0</td>\n",
              "      <td>False</td>\n",
              "      <td>TRAPPIST-1e</td>\n",
              "      <td>False</td>\n",
              "      <td>0.0</td>\n",
              "      <td>1283.0</td>\n",
              "      <td>371.0</td>\n",
              "      <td>3329.0</td>\n",
              "      <td>193.0</td>\n",
              "    </tr>\n",
              "    <tr>\n",
              "      <th>4</th>\n",
              "      <td>Earth</td>\n",
              "      <td>False</td>\n",
              "      <td>F</td>\n",
              "      <td>1.0</td>\n",
              "      <td>False</td>\n",
              "      <td>TRAPPIST-1e</td>\n",
              "      <td>False</td>\n",
              "      <td>303.0</td>\n",
              "      <td>70.0</td>\n",
              "      <td>151.0</td>\n",
              "      <td>565.0</td>\n",
              "      <td>2.0</td>\n",
              "    </tr>\n",
              "    <tr>\n",
              "      <th>...</th>\n",
              "      <td>...</td>\n",
              "      <td>...</td>\n",
              "      <td>...</td>\n",
              "      <td>...</td>\n",
              "      <td>...</td>\n",
              "      <td>...</td>\n",
              "      <td>...</td>\n",
              "      <td>...</td>\n",
              "      <td>...</td>\n",
              "      <td>...</td>\n",
              "      <td>...</td>\n",
              "      <td>...</td>\n",
              "    </tr>\n",
              "    <tr>\n",
              "      <th>12965</th>\n",
              "      <td>Earth</td>\n",
              "      <td>True</td>\n",
              "      <td>G</td>\n",
              "      <td>1496.0</td>\n",
              "      <td>False</td>\n",
              "      <td>TRAPPIST-1e</td>\n",
              "      <td>False</td>\n",
              "      <td>0.0</td>\n",
              "      <td>0.0</td>\n",
              "      <td>0.0</td>\n",
              "      <td>0.0</td>\n",
              "      <td>0.0</td>\n",
              "    </tr>\n",
              "    <tr>\n",
              "      <th>12966</th>\n",
              "      <td>Earth</td>\n",
              "      <td>False</td>\n",
              "      <td>NaN</td>\n",
              "      <td>NaN</td>\n",
              "      <td>True</td>\n",
              "      <td>TRAPPIST-1e</td>\n",
              "      <td>False</td>\n",
              "      <td>0.0</td>\n",
              "      <td>847.0</td>\n",
              "      <td>17.0</td>\n",
              "      <td>10.0</td>\n",
              "      <td>144.0</td>\n",
              "    </tr>\n",
              "    <tr>\n",
              "      <th>12967</th>\n",
              "      <td>Mars</td>\n",
              "      <td>True</td>\n",
              "      <td>D</td>\n",
              "      <td>296.0</td>\n",
              "      <td>True</td>\n",
              "      <td>55 Cancri e</td>\n",
              "      <td>False</td>\n",
              "      <td>0.0</td>\n",
              "      <td>0.0</td>\n",
              "      <td>0.0</td>\n",
              "      <td>0.0</td>\n",
              "      <td>0.0</td>\n",
              "    </tr>\n",
              "    <tr>\n",
              "      <th>12968</th>\n",
              "      <td>Europa</td>\n",
              "      <td>False</td>\n",
              "      <td>D</td>\n",
              "      <td>297.0</td>\n",
              "      <td>True</td>\n",
              "      <td>NaN</td>\n",
              "      <td>False</td>\n",
              "      <td>0.0</td>\n",
              "      <td>2680.0</td>\n",
              "      <td>0.0</td>\n",
              "      <td>0.0</td>\n",
              "      <td>523.0</td>\n",
              "    </tr>\n",
              "    <tr>\n",
              "      <th>12969</th>\n",
              "      <td>Earth</td>\n",
              "      <td>True</td>\n",
              "      <td>G</td>\n",
              "      <td>1498.0</td>\n",
              "      <td>False</td>\n",
              "      <td>PSO J318.5-22</td>\n",
              "      <td>False</td>\n",
              "      <td>0.0</td>\n",
              "      <td>0.0</td>\n",
              "      <td>0.0</td>\n",
              "      <td>0.0</td>\n",
              "      <td>0.0</td>\n",
              "    </tr>\n",
              "  </tbody>\n",
              "</table>\n",
              "<p>12970 rows × 12 columns</p>\n",
              "</div>"
            ],
            "text/plain": [
              "      HomePlanet  CryoSleep Cabin1  Cabin2  Cabin3    Destination    VIP  \\\n",
              "0         Europa      False      B     0.0    True    TRAPPIST-1e  False   \n",
              "1          Earth      False      F     0.0   False    TRAPPIST-1e  False   \n",
              "2         Europa      False      A     0.0   False    TRAPPIST-1e   True   \n",
              "3         Europa      False      A     0.0   False    TRAPPIST-1e  False   \n",
              "4          Earth      False      F     1.0   False    TRAPPIST-1e  False   \n",
              "...          ...        ...    ...     ...     ...            ...    ...   \n",
              "12965      Earth       True      G  1496.0   False    TRAPPIST-1e  False   \n",
              "12966      Earth      False    NaN     NaN    True    TRAPPIST-1e  False   \n",
              "12967       Mars       True      D   296.0    True    55 Cancri e  False   \n",
              "12968     Europa      False      D   297.0    True            NaN  False   \n",
              "12969      Earth       True      G  1498.0   False  PSO J318.5-22  False   \n",
              "\n",
              "       RoomService  FoodCourt  ShoppingMall     Spa  VRDeck  \n",
              "0              0.0        0.0           0.0     0.0     0.0  \n",
              "1            109.0        9.0          25.0   549.0    44.0  \n",
              "2             43.0     3576.0           0.0  6715.0    49.0  \n",
              "3              0.0     1283.0         371.0  3329.0   193.0  \n",
              "4            303.0       70.0         151.0   565.0     2.0  \n",
              "...            ...        ...           ...     ...     ...  \n",
              "12965          0.0        0.0           0.0     0.0     0.0  \n",
              "12966          0.0      847.0          17.0    10.0   144.0  \n",
              "12967          0.0        0.0           0.0     0.0     0.0  \n",
              "12968          0.0     2680.0           0.0     0.0   523.0  \n",
              "12969          0.0        0.0           0.0     0.0     0.0  \n",
              "\n",
              "[12970 rows x 12 columns]"
            ]
          },
          "execution_count": 11,
          "metadata": {},
          "output_type": "execute_result"
        }
      ],
      "source": [
        "df_hp"
      ]
    },
    {
      "cell_type": "code",
      "execution_count": null,
      "id": "45ce5cf1",
      "metadata": {
        "id": "45ce5cf1",
        "outputId": "3bb89353-111f-4df4-e5fb-56c7ccd41819"
      },
      "outputs": [
        {
          "name": "stdout",
          "output_type": "stream",
          "text": [
            "<class 'pandas.core.frame.DataFrame'>\n",
            "Int64Index: 11317 entries, 0 to 12969\n",
            "Data columns (total 12 columns):\n",
            " #   Column        Non-Null Count  Dtype  \n",
            "---  ------        --------------  -----  \n",
            " 0   HomePlanet    11317 non-null  object \n",
            " 1   CryoSleep     11317 non-null  bool   \n",
            " 2   Cabin1        11317 non-null  object \n",
            " 3   Cabin2        11317 non-null  float64\n",
            " 4   Cabin3        11317 non-null  bool   \n",
            " 5   Destination   11317 non-null  object \n",
            " 6   VIP           11317 non-null  bool   \n",
            " 7   RoomService   11317 non-null  float64\n",
            " 8   FoodCourt     11317 non-null  float64\n",
            " 9   ShoppingMall  11317 non-null  float64\n",
            " 10  Spa           11317 non-null  float64\n",
            " 11  VRDeck        11317 non-null  float64\n",
            "dtypes: bool(3), float64(6), object(3)\n",
            "memory usage: 917.3+ KB\n"
          ]
        }
      ],
      "source": [
        "df_hp.dropna(inplace=True)\n",
        "df_hp.info()"
      ]
    },
    {
      "cell_type": "code",
      "execution_count": null,
      "id": "7134be98",
      "metadata": {
        "id": "7134be98"
      },
      "outputs": [],
      "source": [
        "# homeplanet이 타깃으로 할거라서 홈플레닛 값을 0,1,2로 치환하여 사용\n",
        "df_hp.HomePlanet = df_hp['HomePlanet'].map({'Earth':0, 'Europa':1, 'Mars':2})"
      ]
    },
    {
      "cell_type": "code",
      "execution_count": null,
      "id": "6840f823",
      "metadata": {
        "id": "6840f823",
        "outputId": "91f35d17-0f80-42e2-8c5d-65fa3fbcbd54"
      },
      "outputs": [
        {
          "data": {
            "text/plain": [
              "array([1, 0, 2], dtype=int64)"
            ]
          },
          "execution_count": 14,
          "metadata": {},
          "output_type": "execute_result"
        }
      ],
      "source": [
        "df_hp.HomePlanet.unique() # 변경 확인"
      ]
    },
    {
      "cell_type": "markdown",
      "id": "4d0fe8c0",
      "metadata": {
        "id": "4d0fe8c0"
      },
      "source": [
        "## 원-핫 인코딩"
      ]
    },
    {
      "cell_type": "code",
      "execution_count": null,
      "id": "1fe594a5",
      "metadata": {
        "id": "1fe594a5"
      },
      "outputs": [],
      "source": [
        "# 원-핫 인코딩 (cabin1, destination)\n",
        "## Cabin1\n",
        "encoding = pd.get_dummies(df_hp.Cabin1)\n",
        "df_hp = df_hp.drop('Cabin1', axis =1) # 기존 삭제\n",
        "df_hp = df_hp.join(encoding) # 적용\n",
        "## Destination\n",
        "encoding = pd.get_dummies(df_hp.Destination)\n",
        "df_hp = df_hp.drop('Destination', axis =1)\n",
        "df_hp = df_hp.join(encoding)"
      ]
    },
    {
      "cell_type": "code",
      "execution_count": null,
      "id": "0f217c9a",
      "metadata": {
        "id": "0f217c9a",
        "outputId": "9a910618-e70d-4898-b043-043615b0317e"
      },
      "outputs": [
        {
          "data": {
            "text/html": [
              "<div>\n",
              "<style scoped>\n",
              "    .dataframe tbody tr th:only-of-type {\n",
              "        vertical-align: middle;\n",
              "    }\n",
              "\n",
              "    .dataframe tbody tr th {\n",
              "        vertical-align: top;\n",
              "    }\n",
              "\n",
              "    .dataframe thead th {\n",
              "        text-align: right;\n",
              "    }\n",
              "</style>\n",
              "<table border=\"1\" class=\"dataframe\">\n",
              "  <thead>\n",
              "    <tr style=\"text-align: right;\">\n",
              "      <th></th>\n",
              "      <th>HomePlanet</th>\n",
              "      <th>CryoSleep</th>\n",
              "      <th>Cabin2</th>\n",
              "      <th>Cabin3</th>\n",
              "      <th>VIP</th>\n",
              "      <th>RoomService</th>\n",
              "      <th>FoodCourt</th>\n",
              "      <th>ShoppingMall</th>\n",
              "      <th>Spa</th>\n",
              "      <th>VRDeck</th>\n",
              "      <th>...</th>\n",
              "      <th>B</th>\n",
              "      <th>C</th>\n",
              "      <th>D</th>\n",
              "      <th>E</th>\n",
              "      <th>F</th>\n",
              "      <th>G</th>\n",
              "      <th>T</th>\n",
              "      <th>55 Cancri e</th>\n",
              "      <th>PSO J318.5-22</th>\n",
              "      <th>TRAPPIST-1e</th>\n",
              "    </tr>\n",
              "  </thead>\n",
              "  <tbody>\n",
              "    <tr>\n",
              "      <th>0</th>\n",
              "      <td>1</td>\n",
              "      <td>False</td>\n",
              "      <td>0.0</td>\n",
              "      <td>True</td>\n",
              "      <td>False</td>\n",
              "      <td>0.0</td>\n",
              "      <td>0.0</td>\n",
              "      <td>0.0</td>\n",
              "      <td>0.0</td>\n",
              "      <td>0.0</td>\n",
              "      <td>...</td>\n",
              "      <td>1</td>\n",
              "      <td>0</td>\n",
              "      <td>0</td>\n",
              "      <td>0</td>\n",
              "      <td>0</td>\n",
              "      <td>0</td>\n",
              "      <td>0</td>\n",
              "      <td>0</td>\n",
              "      <td>0</td>\n",
              "      <td>1</td>\n",
              "    </tr>\n",
              "    <tr>\n",
              "      <th>1</th>\n",
              "      <td>0</td>\n",
              "      <td>False</td>\n",
              "      <td>0.0</td>\n",
              "      <td>False</td>\n",
              "      <td>False</td>\n",
              "      <td>109.0</td>\n",
              "      <td>9.0</td>\n",
              "      <td>25.0</td>\n",
              "      <td>549.0</td>\n",
              "      <td>44.0</td>\n",
              "      <td>...</td>\n",
              "      <td>0</td>\n",
              "      <td>0</td>\n",
              "      <td>0</td>\n",
              "      <td>0</td>\n",
              "      <td>1</td>\n",
              "      <td>0</td>\n",
              "      <td>0</td>\n",
              "      <td>0</td>\n",
              "      <td>0</td>\n",
              "      <td>1</td>\n",
              "    </tr>\n",
              "    <tr>\n",
              "      <th>2</th>\n",
              "      <td>1</td>\n",
              "      <td>False</td>\n",
              "      <td>0.0</td>\n",
              "      <td>False</td>\n",
              "      <td>True</td>\n",
              "      <td>43.0</td>\n",
              "      <td>3576.0</td>\n",
              "      <td>0.0</td>\n",
              "      <td>6715.0</td>\n",
              "      <td>49.0</td>\n",
              "      <td>...</td>\n",
              "      <td>0</td>\n",
              "      <td>0</td>\n",
              "      <td>0</td>\n",
              "      <td>0</td>\n",
              "      <td>0</td>\n",
              "      <td>0</td>\n",
              "      <td>0</td>\n",
              "      <td>0</td>\n",
              "      <td>0</td>\n",
              "      <td>1</td>\n",
              "    </tr>\n",
              "    <tr>\n",
              "      <th>3</th>\n",
              "      <td>1</td>\n",
              "      <td>False</td>\n",
              "      <td>0.0</td>\n",
              "      <td>False</td>\n",
              "      <td>False</td>\n",
              "      <td>0.0</td>\n",
              "      <td>1283.0</td>\n",
              "      <td>371.0</td>\n",
              "      <td>3329.0</td>\n",
              "      <td>193.0</td>\n",
              "      <td>...</td>\n",
              "      <td>0</td>\n",
              "      <td>0</td>\n",
              "      <td>0</td>\n",
              "      <td>0</td>\n",
              "      <td>0</td>\n",
              "      <td>0</td>\n",
              "      <td>0</td>\n",
              "      <td>0</td>\n",
              "      <td>0</td>\n",
              "      <td>1</td>\n",
              "    </tr>\n",
              "    <tr>\n",
              "      <th>4</th>\n",
              "      <td>0</td>\n",
              "      <td>False</td>\n",
              "      <td>1.0</td>\n",
              "      <td>False</td>\n",
              "      <td>False</td>\n",
              "      <td>303.0</td>\n",
              "      <td>70.0</td>\n",
              "      <td>151.0</td>\n",
              "      <td>565.0</td>\n",
              "      <td>2.0</td>\n",
              "      <td>...</td>\n",
              "      <td>0</td>\n",
              "      <td>0</td>\n",
              "      <td>0</td>\n",
              "      <td>0</td>\n",
              "      <td>1</td>\n",
              "      <td>0</td>\n",
              "      <td>0</td>\n",
              "      <td>0</td>\n",
              "      <td>0</td>\n",
              "      <td>1</td>\n",
              "    </tr>\n",
              "  </tbody>\n",
              "</table>\n",
              "<p>5 rows × 21 columns</p>\n",
              "</div>"
            ],
            "text/plain": [
              "   HomePlanet  CryoSleep  Cabin2  Cabin3    VIP  RoomService  FoodCourt  \\\n",
              "0           1      False     0.0    True  False          0.0        0.0   \n",
              "1           0      False     0.0   False  False        109.0        9.0   \n",
              "2           1      False     0.0   False   True         43.0     3576.0   \n",
              "3           1      False     0.0   False  False          0.0     1283.0   \n",
              "4           0      False     1.0   False  False        303.0       70.0   \n",
              "\n",
              "   ShoppingMall     Spa  VRDeck  ...  B  C  D  E  F  G  T  55 Cancri e  \\\n",
              "0           0.0     0.0     0.0  ...  1  0  0  0  0  0  0            0   \n",
              "1          25.0   549.0    44.0  ...  0  0  0  0  1  0  0            0   \n",
              "2           0.0  6715.0    49.0  ...  0  0  0  0  0  0  0            0   \n",
              "3         371.0  3329.0   193.0  ...  0  0  0  0  0  0  0            0   \n",
              "4         151.0   565.0     2.0  ...  0  0  0  0  1  0  0            0   \n",
              "\n",
              "   PSO J318.5-22  TRAPPIST-1e  \n",
              "0              0            1  \n",
              "1              0            1  \n",
              "2              0            1  \n",
              "3              0            1  \n",
              "4              0            1  \n",
              "\n",
              "[5 rows x 21 columns]"
            ]
          },
          "execution_count": 16,
          "metadata": {},
          "output_type": "execute_result"
        }
      ],
      "source": [
        "df_hp.head()"
      ]
    },
    {
      "cell_type": "code",
      "execution_count": null,
      "id": "90e379f4",
      "metadata": {
        "id": "90e379f4",
        "outputId": "a0838b17-4812-4af3-93b6-be7309a21598"
      },
      "outputs": [
        {
          "name": "stdout",
          "output_type": "stream",
          "text": [
            "<class 'pandas.core.frame.DataFrame'>\n",
            "Int64Index: 11317 entries, 0 to 12969\n",
            "Data columns (total 21 columns):\n",
            " #   Column         Non-Null Count  Dtype  \n",
            "---  ------         --------------  -----  \n",
            " 0   HomePlanet     11317 non-null  int64  \n",
            " 1   CryoSleep      11317 non-null  bool   \n",
            " 2   Cabin2         11317 non-null  float64\n",
            " 3   Cabin3         11317 non-null  bool   \n",
            " 4   VIP            11317 non-null  bool   \n",
            " 5   RoomService    11317 non-null  float64\n",
            " 6   FoodCourt      11317 non-null  float64\n",
            " 7   ShoppingMall   11317 non-null  float64\n",
            " 8   Spa            11317 non-null  float64\n",
            " 9   VRDeck         11317 non-null  float64\n",
            " 10  A              11317 non-null  uint8  \n",
            " 11  B              11317 non-null  uint8  \n",
            " 12  C              11317 non-null  uint8  \n",
            " 13  D              11317 non-null  uint8  \n",
            " 14  E              11317 non-null  uint8  \n",
            " 15  F              11317 non-null  uint8  \n",
            " 16  G              11317 non-null  uint8  \n",
            " 17  T              11317 non-null  uint8  \n",
            " 18  55 Cancri e    11317 non-null  uint8  \n",
            " 19  PSO J318.5-22  11317 non-null  uint8  \n",
            " 20  TRAPPIST-1e    11317 non-null  uint8  \n",
            "dtypes: bool(3), float64(6), int64(1), uint8(11)\n",
            "memory usage: 1.1 MB\n"
          ]
        }
      ],
      "source": [
        "df_hp.info()"
      ]
    },
    {
      "cell_type": "markdown",
      "id": "2fe25131",
      "metadata": {
        "id": "2fe25131"
      },
      "source": [
        "## 스케일링"
      ]
    },
    {
      "cell_type": "code",
      "execution_count": null,
      "id": "53968357",
      "metadata": {
        "id": "53968357",
        "outputId": "b7e90af3-cb90-4dfb-a29b-465fb358fa5e"
      },
      "outputs": [
        {
          "data": {
            "text/html": [
              "<div>\n",
              "<style scoped>\n",
              "    .dataframe tbody tr th:only-of-type {\n",
              "        vertical-align: middle;\n",
              "    }\n",
              "\n",
              "    .dataframe tbody tr th {\n",
              "        vertical-align: top;\n",
              "    }\n",
              "\n",
              "    .dataframe thead th {\n",
              "        text-align: right;\n",
              "    }\n",
              "</style>\n",
              "<table border=\"1\" class=\"dataframe\">\n",
              "  <thead>\n",
              "    <tr style=\"text-align: right;\">\n",
              "      <th></th>\n",
              "      <th>HomePlanet</th>\n",
              "      <th>CryoSleep</th>\n",
              "      <th>Cabin2</th>\n",
              "      <th>Cabin3</th>\n",
              "      <th>VIP</th>\n",
              "      <th>RoomService</th>\n",
              "      <th>FoodCourt</th>\n",
              "      <th>ShoppingMall</th>\n",
              "      <th>Spa</th>\n",
              "      <th>VRDeck</th>\n",
              "      <th>...</th>\n",
              "      <th>B</th>\n",
              "      <th>C</th>\n",
              "      <th>D</th>\n",
              "      <th>E</th>\n",
              "      <th>F</th>\n",
              "      <th>G</th>\n",
              "      <th>T</th>\n",
              "      <th>55 Cancri e</th>\n",
              "      <th>PSO J318.5-22</th>\n",
              "      <th>TRAPPIST-1e</th>\n",
              "    </tr>\n",
              "  </thead>\n",
              "  <tbody>\n",
              "    <tr>\n",
              "      <th>0</th>\n",
              "      <td>1</td>\n",
              "      <td>False</td>\n",
              "      <td>-1.171813</td>\n",
              "      <td>True</td>\n",
              "      <td>False</td>\n",
              "      <td>-0.334680</td>\n",
              "      <td>-0.281438</td>\n",
              "      <td>-0.285053</td>\n",
              "      <td>-0.270872</td>\n",
              "      <td>-0.260036</td>\n",
              "      <td>...</td>\n",
              "      <td>1</td>\n",
              "      <td>0</td>\n",
              "      <td>0</td>\n",
              "      <td>0</td>\n",
              "      <td>0</td>\n",
              "      <td>0</td>\n",
              "      <td>0</td>\n",
              "      <td>0</td>\n",
              "      <td>0</td>\n",
              "      <td>1</td>\n",
              "    </tr>\n",
              "    <tr>\n",
              "      <th>1</th>\n",
              "      <td>0</td>\n",
              "      <td>False</td>\n",
              "      <td>-1.171813</td>\n",
              "      <td>False</td>\n",
              "      <td>False</td>\n",
              "      <td>-0.166509</td>\n",
              "      <td>-0.275840</td>\n",
              "      <td>-0.243219</td>\n",
              "      <td>0.215668</td>\n",
              "      <td>-0.220589</td>\n",
              "      <td>...</td>\n",
              "      <td>0</td>\n",
              "      <td>0</td>\n",
              "      <td>0</td>\n",
              "      <td>0</td>\n",
              "      <td>1</td>\n",
              "      <td>0</td>\n",
              "      <td>0</td>\n",
              "      <td>0</td>\n",
              "      <td>0</td>\n",
              "      <td>1</td>\n",
              "    </tr>\n",
              "    <tr>\n",
              "      <th>2</th>\n",
              "      <td>1</td>\n",
              "      <td>False</td>\n",
              "      <td>-1.171813</td>\n",
              "      <td>False</td>\n",
              "      <td>True</td>\n",
              "      <td>-0.268338</td>\n",
              "      <td>1.942578</td>\n",
              "      <td>-0.285053</td>\n",
              "      <td>5.680162</td>\n",
              "      <td>-0.216106</td>\n",
              "      <td>...</td>\n",
              "      <td>0</td>\n",
              "      <td>0</td>\n",
              "      <td>0</td>\n",
              "      <td>0</td>\n",
              "      <td>0</td>\n",
              "      <td>0</td>\n",
              "      <td>0</td>\n",
              "      <td>0</td>\n",
              "      <td>0</td>\n",
              "      <td>1</td>\n",
              "    </tr>\n",
              "    <tr>\n",
              "      <th>3</th>\n",
              "      <td>1</td>\n",
              "      <td>False</td>\n",
              "      <td>-1.171813</td>\n",
              "      <td>False</td>\n",
              "      <td>False</td>\n",
              "      <td>-0.334680</td>\n",
              "      <td>0.516496</td>\n",
              "      <td>0.335766</td>\n",
              "      <td>2.679387</td>\n",
              "      <td>-0.087005</td>\n",
              "      <td>...</td>\n",
              "      <td>0</td>\n",
              "      <td>0</td>\n",
              "      <td>0</td>\n",
              "      <td>0</td>\n",
              "      <td>0</td>\n",
              "      <td>0</td>\n",
              "      <td>0</td>\n",
              "      <td>0</td>\n",
              "      <td>0</td>\n",
              "      <td>1</td>\n",
              "    </tr>\n",
              "    <tr>\n",
              "      <th>4</th>\n",
              "      <td>0</td>\n",
              "      <td>False</td>\n",
              "      <td>-1.169865</td>\n",
              "      <td>False</td>\n",
              "      <td>False</td>\n",
              "      <td>0.132804</td>\n",
              "      <td>-0.237903</td>\n",
              "      <td>-0.032375</td>\n",
              "      <td>0.229848</td>\n",
              "      <td>-0.258243</td>\n",
              "      <td>...</td>\n",
              "      <td>0</td>\n",
              "      <td>0</td>\n",
              "      <td>0</td>\n",
              "      <td>0</td>\n",
              "      <td>1</td>\n",
              "      <td>0</td>\n",
              "      <td>0</td>\n",
              "      <td>0</td>\n",
              "      <td>0</td>\n",
              "      <td>1</td>\n",
              "    </tr>\n",
              "    <tr>\n",
              "      <th>...</th>\n",
              "      <td>...</td>\n",
              "      <td>...</td>\n",
              "      <td>...</td>\n",
              "      <td>...</td>\n",
              "      <td>...</td>\n",
              "      <td>...</td>\n",
              "      <td>...</td>\n",
              "      <td>...</td>\n",
              "      <td>...</td>\n",
              "      <td>...</td>\n",
              "      <td>...</td>\n",
              "      <td>...</td>\n",
              "      <td>...</td>\n",
              "      <td>...</td>\n",
              "      <td>...</td>\n",
              "      <td>...</td>\n",
              "      <td>...</td>\n",
              "      <td>...</td>\n",
              "      <td>...</td>\n",
              "      <td>...</td>\n",
              "      <td>...</td>\n",
              "    </tr>\n",
              "    <tr>\n",
              "      <th>12963</th>\n",
              "      <td>2</td>\n",
              "      <td>False</td>\n",
              "      <td>-0.630313</td>\n",
              "      <td>False</td>\n",
              "      <td>False</td>\n",
              "      <td>-0.262166</td>\n",
              "      <td>-0.281438</td>\n",
              "      <td>6.159085</td>\n",
              "      <td>-0.270872</td>\n",
              "      <td>-0.260036</td>\n",
              "      <td>...</td>\n",
              "      <td>0</td>\n",
              "      <td>0</td>\n",
              "      <td>1</td>\n",
              "      <td>0</td>\n",
              "      <td>0</td>\n",
              "      <td>0</td>\n",
              "      <td>0</td>\n",
              "      <td>0</td>\n",
              "      <td>0</td>\n",
              "      <td>1</td>\n",
              "    </tr>\n",
              "    <tr>\n",
              "      <th>12964</th>\n",
              "      <td>0</td>\n",
              "      <td>False</td>\n",
              "      <td>2.326507</td>\n",
              "      <td>False</td>\n",
              "      <td>False</td>\n",
              "      <td>-0.334680</td>\n",
              "      <td>0.256530</td>\n",
              "      <td>-0.285053</td>\n",
              "      <td>-0.268214</td>\n",
              "      <td>-0.260036</td>\n",
              "      <td>...</td>\n",
              "      <td>0</td>\n",
              "      <td>0</td>\n",
              "      <td>0</td>\n",
              "      <td>0</td>\n",
              "      <td>1</td>\n",
              "      <td>0</td>\n",
              "      <td>0</td>\n",
              "      <td>0</td>\n",
              "      <td>0</td>\n",
              "      <td>1</td>\n",
              "    </tr>\n",
              "    <tr>\n",
              "      <th>12965</th>\n",
              "      <td>0</td>\n",
              "      <td>True</td>\n",
              "      <td>1.742155</td>\n",
              "      <td>False</td>\n",
              "      <td>False</td>\n",
              "      <td>-0.334680</td>\n",
              "      <td>-0.281438</td>\n",
              "      <td>-0.285053</td>\n",
              "      <td>-0.270872</td>\n",
              "      <td>-0.260036</td>\n",
              "      <td>...</td>\n",
              "      <td>0</td>\n",
              "      <td>0</td>\n",
              "      <td>0</td>\n",
              "      <td>0</td>\n",
              "      <td>0</td>\n",
              "      <td>1</td>\n",
              "      <td>0</td>\n",
              "      <td>0</td>\n",
              "      <td>0</td>\n",
              "      <td>1</td>\n",
              "    </tr>\n",
              "    <tr>\n",
              "      <th>12967</th>\n",
              "      <td>2</td>\n",
              "      <td>True</td>\n",
              "      <td>-0.595252</td>\n",
              "      <td>True</td>\n",
              "      <td>False</td>\n",
              "      <td>-0.334680</td>\n",
              "      <td>-0.281438</td>\n",
              "      <td>-0.285053</td>\n",
              "      <td>-0.270872</td>\n",
              "      <td>-0.260036</td>\n",
              "      <td>...</td>\n",
              "      <td>0</td>\n",
              "      <td>0</td>\n",
              "      <td>1</td>\n",
              "      <td>0</td>\n",
              "      <td>0</td>\n",
              "      <td>0</td>\n",
              "      <td>0</td>\n",
              "      <td>1</td>\n",
              "      <td>0</td>\n",
              "      <td>0</td>\n",
              "    </tr>\n",
              "    <tr>\n",
              "      <th>12969</th>\n",
              "      <td>0</td>\n",
              "      <td>True</td>\n",
              "      <td>1.746051</td>\n",
              "      <td>False</td>\n",
              "      <td>False</td>\n",
              "      <td>-0.334680</td>\n",
              "      <td>-0.281438</td>\n",
              "      <td>-0.285053</td>\n",
              "      <td>-0.270872</td>\n",
              "      <td>-0.260036</td>\n",
              "      <td>...</td>\n",
              "      <td>0</td>\n",
              "      <td>0</td>\n",
              "      <td>0</td>\n",
              "      <td>0</td>\n",
              "      <td>0</td>\n",
              "      <td>1</td>\n",
              "      <td>0</td>\n",
              "      <td>0</td>\n",
              "      <td>1</td>\n",
              "      <td>0</td>\n",
              "    </tr>\n",
              "  </tbody>\n",
              "</table>\n",
              "<p>11317 rows × 21 columns</p>\n",
              "</div>"
            ],
            "text/plain": [
              "       HomePlanet  CryoSleep    Cabin2  Cabin3    VIP  RoomService  FoodCourt  \\\n",
              "0               1      False -1.171813    True  False    -0.334680  -0.281438   \n",
              "1               0      False -1.171813   False  False    -0.166509  -0.275840   \n",
              "2               1      False -1.171813   False   True    -0.268338   1.942578   \n",
              "3               1      False -1.171813   False  False    -0.334680   0.516496   \n",
              "4               0      False -1.169865   False  False     0.132804  -0.237903   \n",
              "...           ...        ...       ...     ...    ...          ...        ...   \n",
              "12963           2      False -0.630313   False  False    -0.262166  -0.281438   \n",
              "12964           0      False  2.326507   False  False    -0.334680   0.256530   \n",
              "12965           0       True  1.742155   False  False    -0.334680  -0.281438   \n",
              "12967           2       True -0.595252    True  False    -0.334680  -0.281438   \n",
              "12969           0       True  1.746051   False  False    -0.334680  -0.281438   \n",
              "\n",
              "       ShoppingMall       Spa    VRDeck  ...  B  C  D  E  F  G  T  \\\n",
              "0         -0.285053 -0.270872 -0.260036  ...  1  0  0  0  0  0  0   \n",
              "1         -0.243219  0.215668 -0.220589  ...  0  0  0  0  1  0  0   \n",
              "2         -0.285053  5.680162 -0.216106  ...  0  0  0  0  0  0  0   \n",
              "3          0.335766  2.679387 -0.087005  ...  0  0  0  0  0  0  0   \n",
              "4         -0.032375  0.229848 -0.258243  ...  0  0  0  0  1  0  0   \n",
              "...             ...       ...       ...  ... .. .. .. .. .. .. ..   \n",
              "12963      6.159085 -0.270872 -0.260036  ...  0  0  1  0  0  0  0   \n",
              "12964     -0.285053 -0.268214 -0.260036  ...  0  0  0  0  1  0  0   \n",
              "12965     -0.285053 -0.270872 -0.260036  ...  0  0  0  0  0  1  0   \n",
              "12967     -0.285053 -0.270872 -0.260036  ...  0  0  1  0  0  0  0   \n",
              "12969     -0.285053 -0.270872 -0.260036  ...  0  0  0  0  0  1  0   \n",
              "\n",
              "       55 Cancri e  PSO J318.5-22  TRAPPIST-1e  \n",
              "0                0              0            1  \n",
              "1                0              0            1  \n",
              "2                0              0            1  \n",
              "3                0              0            1  \n",
              "4                0              0            1  \n",
              "...            ...            ...          ...  \n",
              "12963            0              0            1  \n",
              "12964            0              0            1  \n",
              "12965            0              0            1  \n",
              "12967            1              0            0  \n",
              "12969            0              1            0  \n",
              "\n",
              "[11317 rows x 21 columns]"
            ]
          },
          "execution_count": 20,
          "metadata": {},
          "output_type": "execute_result"
        }
      ],
      "source": [
        "# 위에 정의된 스케일링 함수 호출\n",
        "col = ['Cabin2', 'RoomService','FoodCourt','ShoppingMall','Spa','VRDeck']\n",
        "\n",
        "data_scaled(df_hp, col)"
      ]
    },
    {
      "cell_type": "markdown",
      "id": "1cdeb4b3",
      "metadata": {
        "id": "1cdeb4b3"
      },
      "source": [
        "## 모델링_랜덤포레스트"
      ]
    },
    {
      "cell_type": "code",
      "execution_count": null,
      "id": "30cd46ec",
      "metadata": {
        "id": "30cd46ec"
      },
      "outputs": [],
      "source": [
        "# 데이터 타깃 분리\n",
        "hp_data = df_hp.drop('HomePlanet', axis=1)\n",
        "hp_label = df_hp['HomePlanet']"
      ]
    },
    {
      "cell_type": "code",
      "execution_count": null,
      "id": "09145c19",
      "metadata": {
        "id": "09145c19"
      },
      "outputs": [],
      "source": [
        "from imblearn.combine import *"
      ]
    },
    {
      "cell_type": "code",
      "execution_count": null,
      "id": "77a21bf3",
      "metadata": {
        "id": "77a21bf3"
      },
      "outputs": [],
      "source": [
        "# 임시 모델 설정\n",
        "rfc = RandomForestClassifier()\n",
        "# 그리드 서치\n",
        "#grid = {\n",
        "#    'n_estimators': [50,90,100,150,200, 250],\n",
        "#    'max_depth': [3,5,7,9,13,15],\n",
        "#    'min_samples_leaf':[3,5,7,9,13,15],\n",
        "#    'min_samples_split': [3,5,7,9,13,15]\n",
        "#}\n",
        "# 그리드 객체\n",
        "#rfc_grid = GridSearchCV(rfc, param_grid = grid, scoring = 'accuracy', cv=5, n_jobs=-1, \n",
        "#                       verbose =1)\n",
        "# fitting\n",
        "#rfc_grid.fit(hp_data, hp_label)\n",
        "#print('최고 평균 정확도 : {}'.format(rfc_grid.best_score_))\n",
        "#print('최고 파라미터: {}', rfc_grid.best_params_)"
      ]
    },
    {
      "cell_type": "code",
      "execution_count": null,
      "id": "45b4f371",
      "metadata": {
        "scrolled": true,
        "id": "45b4f371",
        "outputId": "c108fafe-c621-4bc0-afe2-789a2351c41c"
      },
      "outputs": [
        {
          "name": "stdout",
          "output_type": "stream",
          "text": [
            "정확도 :  0.9621807899620041\n"
          ]
        }
      ],
      "source": [
        "# 최적의 파라미터를 이용한 모델링\n",
        "rfc_model = RandomForestClassifier(n_estimators=200, max_depth=15, \n",
        "                                   min_samples_leaf=3, min_samples_split=9, random_state=109)\n",
        "\n",
        "# fitting\n",
        "rfc_model.fit(hp_data, hp_label)\n",
        "\n",
        "# pred \n",
        "rfc_pred = rfc_model.predict(hp_data)\n",
        "print('정확도 : ', accuracy_score(hp_label, rfc_pred))"
      ]
    },
    {
      "cell_type": "code",
      "execution_count": null,
      "id": "a6b8cd63",
      "metadata": {
        "id": "a6b8cd63",
        "outputId": "eafbca34-fdc6-4a14-d636-f4d10a3cba78"
      },
      "outputs": [
        {
          "data": {
            "text/plain": [
              "array([[5919,    5,  130],\n",
              "       [  12, 2800,   45],\n",
              "       [ 180,   56, 2170]], dtype=int64)"
            ]
          },
          "execution_count": 24,
          "metadata": {},
          "output_type": "execute_result"
        }
      ],
      "source": [
        "# 혼돈행렬\n",
        "confusion_matrix(hp_label, rfc_pred)"
      ]
    },
    {
      "cell_type": "code",
      "execution_count": null,
      "id": "89668fc3",
      "metadata": {
        "id": "89668fc3",
        "outputId": "ffd977dd-910f-4e72-a0ac-4c5c9361fb5f"
      },
      "outputs": [
        {
          "data": {
            "text/plain": [
              "0.9019118869492935"
            ]
          },
          "execution_count": 82,
          "metadata": {},
          "output_type": "execute_result"
        }
      ],
      "source": [
        "2170/(2170+56+180)"
      ]
    },
    {
      "cell_type": "markdown",
      "id": "a7ff241c",
      "metadata": {
        "id": "a7ff241c"
      },
      "source": [
        "### 세트 분리 후 모델링"
      ]
    },
    {
      "cell_type": "code",
      "execution_count": null,
      "id": "a607063c",
      "metadata": {
        "id": "a607063c"
      },
      "outputs": [],
      "source": [
        "X_train, X_test, y_train, y_test = train_test_split(\n",
        "df_hp.drop('HomePlanet', axis =1),df_hp['HomePlanet'], random_state =109) "
      ]
    },
    {
      "cell_type": "code",
      "execution_count": null,
      "id": "3740e5c8",
      "metadata": {
        "id": "3740e5c8",
        "outputId": "af2e03d5-d0e9-46a0-88ec-973e313da839"
      },
      "outputs": [
        {
          "name": "stdout",
          "output_type": "stream",
          "text": [
            "Fitting 5 folds for each of 1296 candidates, totalling 6480 fits\n"
          ]
        },
        {
          "data": {
            "text/html": [
              "<style>#sk-container-id-1 {color: black;background-color: white;}#sk-container-id-1 pre{padding: 0;}#sk-container-id-1 div.sk-toggleable {background-color: white;}#sk-container-id-1 label.sk-toggleable__label {cursor: pointer;display: block;width: 100%;margin-bottom: 0;padding: 0.3em;box-sizing: border-box;text-align: center;}#sk-container-id-1 label.sk-toggleable__label-arrow:before {content: \"▸\";float: left;margin-right: 0.25em;color: #696969;}#sk-container-id-1 label.sk-toggleable__label-arrow:hover:before {color: black;}#sk-container-id-1 div.sk-estimator:hover label.sk-toggleable__label-arrow:before {color: black;}#sk-container-id-1 div.sk-toggleable__content {max-height: 0;max-width: 0;overflow: hidden;text-align: left;background-color: #f0f8ff;}#sk-container-id-1 div.sk-toggleable__content pre {margin: 0.2em;color: black;border-radius: 0.25em;background-color: #f0f8ff;}#sk-container-id-1 input.sk-toggleable__control:checked~div.sk-toggleable__content {max-height: 200px;max-width: 100%;overflow: auto;}#sk-container-id-1 input.sk-toggleable__control:checked~label.sk-toggleable__label-arrow:before {content: \"▾\";}#sk-container-id-1 div.sk-estimator input.sk-toggleable__control:checked~label.sk-toggleable__label {background-color: #d4ebff;}#sk-container-id-1 div.sk-label input.sk-toggleable__control:checked~label.sk-toggleable__label {background-color: #d4ebff;}#sk-container-id-1 input.sk-hidden--visually {border: 0;clip: rect(1px 1px 1px 1px);clip: rect(1px, 1px, 1px, 1px);height: 1px;margin: -1px;overflow: hidden;padding: 0;position: absolute;width: 1px;}#sk-container-id-1 div.sk-estimator {font-family: monospace;background-color: #f0f8ff;border: 1px dotted black;border-radius: 0.25em;box-sizing: border-box;margin-bottom: 0.5em;}#sk-container-id-1 div.sk-estimator:hover {background-color: #d4ebff;}#sk-container-id-1 div.sk-parallel-item::after {content: \"\";width: 100%;border-bottom: 1px solid gray;flex-grow: 1;}#sk-container-id-1 div.sk-label:hover label.sk-toggleable__label {background-color: #d4ebff;}#sk-container-id-1 div.sk-serial::before {content: \"\";position: absolute;border-left: 1px solid gray;box-sizing: border-box;top: 0;bottom: 0;left: 50%;z-index: 0;}#sk-container-id-1 div.sk-serial {display: flex;flex-direction: column;align-items: center;background-color: white;padding-right: 0.2em;padding-left: 0.2em;position: relative;}#sk-container-id-1 div.sk-item {position: relative;z-index: 1;}#sk-container-id-1 div.sk-parallel {display: flex;align-items: stretch;justify-content: center;background-color: white;position: relative;}#sk-container-id-1 div.sk-item::before, #sk-container-id-1 div.sk-parallel-item::before {content: \"\";position: absolute;border-left: 1px solid gray;box-sizing: border-box;top: 0;bottom: 0;left: 50%;z-index: -1;}#sk-container-id-1 div.sk-parallel-item {display: flex;flex-direction: column;z-index: 1;position: relative;background-color: white;}#sk-container-id-1 div.sk-parallel-item:first-child::after {align-self: flex-end;width: 50%;}#sk-container-id-1 div.sk-parallel-item:last-child::after {align-self: flex-start;width: 50%;}#sk-container-id-1 div.sk-parallel-item:only-child::after {width: 0;}#sk-container-id-1 div.sk-dashed-wrapped {border: 1px dashed gray;margin: 0 0.4em 0.5em 0.4em;box-sizing: border-box;padding-bottom: 0.4em;background-color: white;}#sk-container-id-1 div.sk-label label {font-family: monospace;font-weight: bold;display: inline-block;line-height: 1.2em;}#sk-container-id-1 div.sk-label-container {text-align: center;}#sk-container-id-1 div.sk-container {/* jupyter's `normalize.less` sets `[hidden] { display: none; }` but bootstrap.min.css set `[hidden] { display: none !important; }` so we also need the `!important` here to be able to override the default hidden behavior on the sphinx rendered scikit-learn.org. See: https://github.com/scikit-learn/scikit-learn/issues/21755 */display: inline-block !important;position: relative;}#sk-container-id-1 div.sk-text-repr-fallback {display: none;}</style><div id=\"sk-container-id-1\" class=\"sk-top-container\"><div class=\"sk-text-repr-fallback\"><pre>GridSearchCV(cv=5, estimator=RandomForestClassifier(), n_jobs=-1,\n",
              "             param_grid={&#x27;max_depth&#x27;: [3, 5, 7, 9, 13, 15],\n",
              "                         &#x27;min_samples_leaf&#x27;: [3, 5, 7, 9, 13, 15],\n",
              "                         &#x27;min_samples_split&#x27;: [3, 5, 7, 9, 13, 15],\n",
              "                         &#x27;n_estimators&#x27;: [50, 90, 100, 150, 200, 250]},\n",
              "             scoring=&#x27;accuracy&#x27;, verbose=1)</pre><b>In a Jupyter environment, please rerun this cell to show the HTML representation or trust the notebook. <br />On GitHub, the HTML representation is unable to render, please try loading this page with nbviewer.org.</b></div><div class=\"sk-container\" hidden><div class=\"sk-item sk-dashed-wrapped\"><div class=\"sk-label-container\"><div class=\"sk-label sk-toggleable\"><input class=\"sk-toggleable__control sk-hidden--visually\" id=\"sk-estimator-id-1\" type=\"checkbox\" ><label for=\"sk-estimator-id-1\" class=\"sk-toggleable__label sk-toggleable__label-arrow\">GridSearchCV</label><div class=\"sk-toggleable__content\"><pre>GridSearchCV(cv=5, estimator=RandomForestClassifier(), n_jobs=-1,\n",
              "             param_grid={&#x27;max_depth&#x27;: [3, 5, 7, 9, 13, 15],\n",
              "                         &#x27;min_samples_leaf&#x27;: [3, 5, 7, 9, 13, 15],\n",
              "                         &#x27;min_samples_split&#x27;: [3, 5, 7, 9, 13, 15],\n",
              "                         &#x27;n_estimators&#x27;: [50, 90, 100, 150, 200, 250]},\n",
              "             scoring=&#x27;accuracy&#x27;, verbose=1)</pre></div></div></div><div class=\"sk-parallel\"><div class=\"sk-parallel-item\"><div class=\"sk-item\"><div class=\"sk-label-container\"><div class=\"sk-label sk-toggleable\"><input class=\"sk-toggleable__control sk-hidden--visually\" id=\"sk-estimator-id-2\" type=\"checkbox\" ><label for=\"sk-estimator-id-2\" class=\"sk-toggleable__label sk-toggleable__label-arrow\">estimator: RandomForestClassifier</label><div class=\"sk-toggleable__content\"><pre>RandomForestClassifier()</pre></div></div></div><div class=\"sk-serial\"><div class=\"sk-item\"><div class=\"sk-estimator sk-toggleable\"><input class=\"sk-toggleable__control sk-hidden--visually\" id=\"sk-estimator-id-3\" type=\"checkbox\" ><label for=\"sk-estimator-id-3\" class=\"sk-toggleable__label sk-toggleable__label-arrow\">RandomForestClassifier</label><div class=\"sk-toggleable__content\"><pre>RandomForestClassifier()</pre></div></div></div></div></div></div></div></div></div></div>"
            ],
            "text/plain": [
              "GridSearchCV(cv=5, estimator=RandomForestClassifier(), n_jobs=-1,\n",
              "             param_grid={'max_depth': [3, 5, 7, 9, 13, 15],\n",
              "                         'min_samples_leaf': [3, 5, 7, 9, 13, 15],\n",
              "                         'min_samples_split': [3, 5, 7, 9, 13, 15],\n",
              "                         'n_estimators': [50, 90, 100, 150, 200, 250]},\n",
              "             scoring='accuracy', verbose=1)"
            ]
          },
          "execution_count": 26,
          "metadata": {},
          "output_type": "execute_result"
        }
      ],
      "source": [
        "rf_clf = RandomForestClassifier()\n",
        "grid = {\n",
        "    'n_estimators': [50,90,100,150,200, 250],\n",
        "    'max_depth': [3,5,7,9,13,15],\n",
        "    'min_samples_leaf':[3,5,7,9,13,15],\n",
        "    'min_samples_split': [3,5,7,9,13,15]}\n",
        "\n",
        "clf_grid = GridSearchCV(rf_clf, param_grid = grid, scoring='accuracy', verbose=1, cv= 5, n_jobs=-1)\n",
        "\n",
        "clf_grid.fit(X_train, y_train)\n"
      ]
    },
    {
      "cell_type": "code",
      "execution_count": null,
      "id": "df373b01",
      "metadata": {
        "id": "df373b01",
        "outputId": "7b7d753d-a054-4731-d020-f53e9ac2a571"
      },
      "outputs": [
        {
          "name": "stdout",
          "output_type": "stream",
          "text": [
            "최고 평균 정확도 : 0.937316250599513\n",
            "최고 파라미터: {} {'max_depth': 13, 'min_samples_leaf': 3, 'min_samples_split': 7, 'n_estimators': 200}\n"
          ]
        }
      ],
      "source": [
        "print('최고 평균 정확도 : {}'.format(clf_grid.best_score_))\n",
        "print('최고 파라미터: {}', clf_grid.best_params_)"
      ]
    },
    {
      "cell_type": "code",
      "execution_count": null,
      "id": "f1e327a6",
      "metadata": {
        "id": "f1e327a6",
        "outputId": "a80f199b-05e1-406e-f509-465d99e26d03"
      },
      "outputs": [
        {
          "name": "stdout",
          "output_type": "stream",
          "text": [
            "정확도 :  0.9406360424028268\n"
          ]
        }
      ],
      "source": [
        "# 최적의 파라미터를 이용한 모델링\n",
        "clf_model = RandomForestClassifier(n_estimators=150, max_depth=15, \n",
        "                                   min_samples_leaf=3, min_samples_split=5, random_state=109)\n",
        "\n",
        "# fitting\n",
        "clf_model.fit(X_train, y_train)\n",
        "\n",
        "# pred \n",
        "clf_pred = clf_model.predict(X_test)\n",
        "print('정확도 : ', accuracy_score(y_test, clf_pred))"
      ]
    },
    {
      "cell_type": "code",
      "execution_count": null,
      "id": "ad18aaca",
      "metadata": {
        "id": "ad18aaca",
        "outputId": "55e39fd1-2e42-4b51-ad0a-467a85f19855"
      },
      "outputs": [
        {
          "data": {
            "text/plain": [
              "array([[1481,    1,   47],\n",
              "       [  11,  671,   15],\n",
              "       [  78,   16,  510]], dtype=int64)"
            ]
          },
          "execution_count": 29,
          "metadata": {},
          "output_type": "execute_result"
        }
      ],
      "source": [
        "confusion_matrix(y_test, clf_pred)"
      ]
    },
    {
      "cell_type": "code",
      "execution_count": null,
      "id": "c3bf33fd",
      "metadata": {
        "id": "c3bf33fd",
        "outputId": "91ce62c7-e23a-491a-c64a-0f2568ceff94"
      },
      "outputs": [
        {
          "data": {
            "text/plain": [
              "0.8443708609271523"
            ]
          },
          "execution_count": 30,
          "metadata": {},
          "output_type": "execute_result"
        }
      ],
      "source": [
        "# Mars의 예측 정확도가 다소 낮은걸 확인\n",
        "510/(78+16+510)"
      ]
    },
    {
      "cell_type": "markdown",
      "id": "d8b52604",
      "metadata": {
        "id": "d8b52604"
      },
      "source": [
        "## 모델링_XGBoost"
      ]
    },
    {
      "cell_type": "code",
      "execution_count": null,
      "id": "556926b5",
      "metadata": {
        "id": "556926b5"
      },
      "outputs": [],
      "source": [
        "# hyperopt 적용을 위한 설정 값 담기\n",
        "xgb_search_space = {'max_depth': hp.quniform('max_depth', 5, 20, 1),\n",
        "                    'min_child_weight': hp.quniform('min_child_weight', 1, 2, 1),\n",
        "                    'learning_rate': hp.uniform('learning_rate', 0.01, 0.2),\n",
        "                    'colsample_bytree': hp.uniform('colsample_bytree', 0.5, 1)\n",
        "               }"
      ]
    },
    {
      "cell_type": "code",
      "execution_count": null,
      "id": "497f1dcd",
      "metadata": {
        "id": "497f1dcd"
      },
      "outputs": [],
      "source": [
        "# 실행을 위한 함수 정의\n",
        "def objective_func(search_space):\n",
        "    xgb_clf = XGBClassifier(n_estimators=100, max_depth=int(search_space['max_depth']),\n",
        "                            min_child_weight=int(search_space['min_child_weight']),\n",
        "                            learning_rate=search_space['learning_rate'],\n",
        "                            colsample_bytree=search_space['colsample_bytree'], \n",
        "                            eval_metric='logloss')\n",
        "    accuracy = cross_val_score(xgb_clf, X_train, y_train, scoring='accuracy', cv=3)\n",
        "    return {'loss':-1 * np.mean(accuracy), 'status': STATUS_OK}\n"
      ]
    },
    {
      "cell_type": "code",
      "execution_count": null,
      "id": "5bcdd6d1",
      "metadata": {
        "scrolled": false,
        "id": "5bcdd6d1",
        "outputId": "a007dbe9-b972-4c91-9289-c93b4a88a59e"
      },
      "outputs": [
        {
          "name": "stdout",
          "output_type": "stream",
          "text": [
            "100%|███████████████████████████████████████████████| 50/50 [02:32<00:00,  3.04s/trial, best loss: -0.9408507128549547]\n",
            "best: {'colsample_bytree': 0.6385285878314475, 'learning_rate': 0.16316252418744445, 'max_depth': 12.0, 'min_child_weight': 1.0}\n"
          ]
        }
      ],
      "source": [
        "# 최적의 파라미터 찾기\n",
        "trial_val = Trials()\n",
        "best = fmin(fn=objective_func, # 정의한 실행 함수\n",
        "            space=xgb_search_space, # 하이퍼 오피티 설정값 정의한거\n",
        "            algo=tpe.suggest,\n",
        "            max_evals=50,\n",
        "            trials=trial_val, rstate=np.random.default_rng(seed=9))\n",
        "print('best:', best)"
      ]
    },
    {
      "cell_type": "code",
      "execution_count": null,
      "id": "343c0b01",
      "metadata": {
        "id": "343c0b01",
        "outputId": "0a57d4d9-bbc8-4591-e82b-33e2b8d02a79"
      },
      "outputs": [
        {
          "name": "stdout",
          "output_type": "stream",
          "text": [
            "정확도 :  0.9452296819787986\n",
            "혼돈행렬 : \n",
            " [[1468    4   57]\n",
            " [   5  678   14]\n",
            " [  62   13  529]]\n"
          ]
        }
      ],
      "source": [
        "# 모델링\n",
        "xgb_model = XGBClassifier(n_estimators=200, learning_rate=round(best['learning_rate'], 5), \n",
        "                            max_depth=int(best['max_depth']), min_child_weight=int(best['min_child_weight']),\n",
        "                            colsample_bytree=round(best['colsample_bytree'], 5)\n",
        "                           )\n",
        "xgb_model.fit(X_train, y_train)\n",
        "pred= xgb_model.predict(X_test)\n",
        "print('정확도 : ', accuracy_score(y_test, pred))\n",
        "print('혼돈행렬 : \\n', confusion_matrix(y_test, pred))"
      ]
    },
    {
      "cell_type": "code",
      "execution_count": null,
      "id": "4af39ad8",
      "metadata": {
        "id": "4af39ad8",
        "outputId": "6e949abd-6a59-4f93-9466-db0be7a7eb03"
      },
      "outputs": [
        {
          "data": {
            "text/plain": [
              "87.58278145695364"
            ]
          },
          "execution_count": 36,
          "metadata": {},
          "output_type": "execute_result"
        }
      ],
      "source": [
        "# Mars의 정확도\n",
        "529/(62+13+529)*100"
      ]
    },
    {
      "cell_type": "markdown",
      "id": "46a637d3",
      "metadata": {
        "id": "46a637d3"
      },
      "source": [
        "## 결측값 채우기\n",
        "### 결측치 파일 불러오기"
      ]
    },
    {
      "cell_type": "code",
      "execution_count": null,
      "id": "dacbc54e",
      "metadata": {
        "id": "dacbc54e",
        "outputId": "074796b6-eab2-4a93-b15c-ff3e8cea84e7"
      },
      "outputs": [
        {
          "data": {
            "text/html": [
              "<div>\n",
              "<style scoped>\n",
              "    .dataframe tbody tr th:only-of-type {\n",
              "        vertical-align: middle;\n",
              "    }\n",
              "\n",
              "    .dataframe tbody tr th {\n",
              "        vertical-align: top;\n",
              "    }\n",
              "\n",
              "    .dataframe thead th {\n",
              "        text-align: right;\n",
              "    }\n",
              "</style>\n",
              "<table border=\"1\" class=\"dataframe\">\n",
              "  <thead>\n",
              "    <tr style=\"text-align: right;\">\n",
              "      <th></th>\n",
              "      <th>PassengerId</th>\n",
              "      <th>HomePlanet</th>\n",
              "      <th>CryoSleep</th>\n",
              "      <th>Cabin1</th>\n",
              "      <th>Cabin2</th>\n",
              "      <th>Combi</th>\n",
              "      <th>Cabin3</th>\n",
              "      <th>Cabin</th>\n",
              "      <th>Destination</th>\n",
              "      <th>Age</th>\n",
              "      <th>VIP</th>\n",
              "      <th>RoomService</th>\n",
              "      <th>FoodCourt</th>\n",
              "      <th>ShoppingMall</th>\n",
              "      <th>Spa</th>\n",
              "      <th>VRDeck</th>\n",
              "      <th>Name</th>\n",
              "      <th>Transported</th>\n",
              "    </tr>\n",
              "  </thead>\n",
              "  <tbody>\n",
              "    <tr>\n",
              "      <th>0</th>\n",
              "      <td>0064_02</td>\n",
              "      <td>NaN</td>\n",
              "      <td>True</td>\n",
              "      <td>E</td>\n",
              "      <td>3.0</td>\n",
              "      <td>E3</td>\n",
              "      <td>S</td>\n",
              "      <td>E/3/S</td>\n",
              "      <td>TRAPPIST-1e</td>\n",
              "      <td>33.0</td>\n",
              "      <td>0.0</td>\n",
              "      <td>0.0</td>\n",
              "      <td>0.0</td>\n",
              "      <td>0.0</td>\n",
              "      <td>0.0</td>\n",
              "      <td>0.0</td>\n",
              "      <td>Colatz Keen</td>\n",
              "      <td>1.0</td>\n",
              "    </tr>\n",
              "    <tr>\n",
              "      <th>1</th>\n",
              "      <td>0119_01</td>\n",
              "      <td>NaN</td>\n",
              "      <td>False</td>\n",
              "      <td>A</td>\n",
              "      <td>0.0</td>\n",
              "      <td>A0</td>\n",
              "      <td>P</td>\n",
              "      <td>A/0/P</td>\n",
              "      <td>TRAPPIST-1e</td>\n",
              "      <td>39.0</td>\n",
              "      <td>0.0</td>\n",
              "      <td>0.0</td>\n",
              "      <td>2344.0</td>\n",
              "      <td>0.0</td>\n",
              "      <td>65.0</td>\n",
              "      <td>6898.0</td>\n",
              "      <td>Batan Coning</td>\n",
              "      <td>0.0</td>\n",
              "    </tr>\n",
              "    <tr>\n",
              "      <th>2</th>\n",
              "      <td>0210_01</td>\n",
              "      <td>NaN</td>\n",
              "      <td>True</td>\n",
              "      <td>D</td>\n",
              "      <td>6.0</td>\n",
              "      <td>D6</td>\n",
              "      <td>P</td>\n",
              "      <td>D/6/P</td>\n",
              "      <td>55 Cancri e</td>\n",
              "      <td>24.0</td>\n",
              "      <td>0.0</td>\n",
              "      <td>0.0</td>\n",
              "      <td>0.0</td>\n",
              "      <td>0.0</td>\n",
              "      <td>0.0</td>\n",
              "      <td>0.0</td>\n",
              "      <td>Arraid Inicont</td>\n",
              "      <td>1.0</td>\n",
              "    </tr>\n",
              "    <tr>\n",
              "      <th>3</th>\n",
              "      <td>0242_01</td>\n",
              "      <td>NaN</td>\n",
              "      <td>False</td>\n",
              "      <td>F</td>\n",
              "      <td>46.0</td>\n",
              "      <td>F46</td>\n",
              "      <td>S</td>\n",
              "      <td>F/46/S</td>\n",
              "      <td>TRAPPIST-1e</td>\n",
              "      <td>18.0</td>\n",
              "      <td>0.0</td>\n",
              "      <td>313.0</td>\n",
              "      <td>1.0</td>\n",
              "      <td>691.0</td>\n",
              "      <td>283.0</td>\n",
              "      <td>0.0</td>\n",
              "      <td>Almone St챕</td>\n",
              "      <td>0.0</td>\n",
              "    </tr>\n",
              "    <tr>\n",
              "      <th>4</th>\n",
              "      <td>0251_01</td>\n",
              "      <td>NaN</td>\n",
              "      <td>True</td>\n",
              "      <td>C</td>\n",
              "      <td>11.0</td>\n",
              "      <td>C11</td>\n",
              "      <td>S</td>\n",
              "      <td>C/11/S</td>\n",
              "      <td>55 Cancri e</td>\n",
              "      <td>54.0</td>\n",
              "      <td>0.0</td>\n",
              "      <td>0.0</td>\n",
              "      <td>0.0</td>\n",
              "      <td>0.0</td>\n",
              "      <td>0.0</td>\n",
              "      <td>0.0</td>\n",
              "      <td>Diphah Amsive</td>\n",
              "      <td>1.0</td>\n",
              "    </tr>\n",
              "  </tbody>\n",
              "</table>\n",
              "</div>"
            ],
            "text/plain": [
              "  PassengerId  HomePlanet  CryoSleep Cabin1  Cabin2 Combi Cabin3   Cabin  \\\n",
              "0     0064_02         NaN       True      E     3.0    E3      S   E/3/S   \n",
              "1     0119_01         NaN      False      A     0.0    A0      P   A/0/P   \n",
              "2     0210_01         NaN       True      D     6.0    D6      P   D/6/P   \n",
              "3     0242_01         NaN      False      F    46.0   F46      S  F/46/S   \n",
              "4     0251_01         NaN       True      C    11.0   C11      S  C/11/S   \n",
              "\n",
              "   Destination   Age  VIP  RoomService  FoodCourt  ShoppingMall    Spa  \\\n",
              "0  TRAPPIST-1e  33.0  0.0          0.0        0.0           0.0    0.0   \n",
              "1  TRAPPIST-1e  39.0  0.0          0.0     2344.0           0.0   65.0   \n",
              "2  55 Cancri e  24.0  0.0          0.0        0.0           0.0    0.0   \n",
              "3  TRAPPIST-1e  18.0  0.0        313.0        1.0         691.0  283.0   \n",
              "4  55 Cancri e  54.0  0.0          0.0        0.0           0.0    0.0   \n",
              "\n",
              "   VRDeck            Name  Transported  \n",
              "0     0.0     Colatz Keen          1.0  \n",
              "1  6898.0    Batan Coning          0.0  \n",
              "2     0.0  Arraid Inicont          1.0  \n",
              "3     0.0      Almone St챕          0.0  \n",
              "4     0.0   Diphah Amsive          1.0  "
            ]
          },
          "execution_count": 79,
          "metadata": {},
          "output_type": "execute_result"
        }
      ],
      "source": [
        "df = pd.read_excel('C:/Users/admin/Desktop/sparta/hp_na.xlsx')\n",
        "df.head()"
      ]
    },
    {
      "cell_type": "code",
      "execution_count": null,
      "id": "173de153",
      "metadata": {
        "id": "173de153"
      },
      "outputs": [],
      "source": [
        "data = df.drop(['Transported', 'Name', 'Age', 'Cabin','Combi'], axis=1)"
      ]
    },
    {
      "cell_type": "markdown",
      "id": "e8b17b8a",
      "metadata": {
        "id": "e8b17b8a"
      },
      "source": [
        "### 원-핫 인코딩, 형변환, 스케일링"
      ]
    },
    {
      "cell_type": "code",
      "execution_count": null,
      "id": "50f1e95d",
      "metadata": {
        "id": "50f1e95d"
      },
      "outputs": [],
      "source": [
        "# Cabin1\n",
        "encode = pd.get_dummies(data['Cabin1'])\n",
        "data.drop('Cabin1', axis=1)\n",
        "data = data.join(encode)\n",
        "# Destination\n",
        "encode = pd.get_dummies(data['Destination'])\n",
        "data.drop(['Destination'], axis=1)\n",
        "data = data.join(encode)"
      ]
    },
    {
      "cell_type": "code",
      "execution_count": null,
      "id": "334e32c5",
      "metadata": {
        "id": "334e32c5"
      },
      "outputs": [],
      "source": [
        "data['Cabin3'] = data['Cabin3'].map({'P':0, 'S':1})\n",
        "data['HomePlanet'] = data['HomePlanet'].map({'Earth':0, 'Europa':1, 'Mars':2})"
      ]
    },
    {
      "cell_type": "code",
      "execution_count": null,
      "id": "2ea20b0b",
      "metadata": {
        "id": "2ea20b0b",
        "outputId": "474f1228-8b2e-49ff-f6f9-e01b0d947e14"
      },
      "outputs": [
        {
          "data": {
            "text/html": [
              "<div>\n",
              "<style scoped>\n",
              "    .dataframe tbody tr th:only-of-type {\n",
              "        vertical-align: middle;\n",
              "    }\n",
              "\n",
              "    .dataframe tbody tr th {\n",
              "        vertical-align: top;\n",
              "    }\n",
              "\n",
              "    .dataframe thead th {\n",
              "        text-align: right;\n",
              "    }\n",
              "</style>\n",
              "<table border=\"1\" class=\"dataframe\">\n",
              "  <thead>\n",
              "    <tr style=\"text-align: right;\">\n",
              "      <th></th>\n",
              "      <th>PassengerId</th>\n",
              "      <th>HomePlanet</th>\n",
              "      <th>CryoSleep</th>\n",
              "      <th>Cabin1</th>\n",
              "      <th>Cabin2</th>\n",
              "      <th>Cabin3</th>\n",
              "      <th>Destination</th>\n",
              "      <th>VIP</th>\n",
              "      <th>RoomService</th>\n",
              "      <th>FoodCourt</th>\n",
              "      <th>...</th>\n",
              "      <th>B</th>\n",
              "      <th>C</th>\n",
              "      <th>D</th>\n",
              "      <th>E</th>\n",
              "      <th>F</th>\n",
              "      <th>G</th>\n",
              "      <th>T</th>\n",
              "      <th>55 Cancri e</th>\n",
              "      <th>PSO J318.5-22</th>\n",
              "      <th>TRAPPIST-1e</th>\n",
              "    </tr>\n",
              "  </thead>\n",
              "  <tbody>\n",
              "    <tr>\n",
              "      <th>0</th>\n",
              "      <td>0064_02</td>\n",
              "      <td>NaN</td>\n",
              "      <td>True</td>\n",
              "      <td>E</td>\n",
              "      <td>-1.185692</td>\n",
              "      <td>1.0</td>\n",
              "      <td>TRAPPIST-1e</td>\n",
              "      <td>0.0</td>\n",
              "      <td>-0.458634</td>\n",
              "      <td>-0.256582</td>\n",
              "      <td>...</td>\n",
              "      <td>0</td>\n",
              "      <td>0</td>\n",
              "      <td>0</td>\n",
              "      <td>1</td>\n",
              "      <td>0</td>\n",
              "      <td>0</td>\n",
              "      <td>0</td>\n",
              "      <td>0</td>\n",
              "      <td>0</td>\n",
              "      <td>1</td>\n",
              "    </tr>\n",
              "    <tr>\n",
              "      <th>1</th>\n",
              "      <td>0119_01</td>\n",
              "      <td>NaN</td>\n",
              "      <td>False</td>\n",
              "      <td>A</td>\n",
              "      <td>-1.191345</td>\n",
              "      <td>0.0</td>\n",
              "      <td>TRAPPIST-1e</td>\n",
              "      <td>0.0</td>\n",
              "      <td>-0.458634</td>\n",
              "      <td>1.610934</td>\n",
              "      <td>...</td>\n",
              "      <td>0</td>\n",
              "      <td>0</td>\n",
              "      <td>0</td>\n",
              "      <td>0</td>\n",
              "      <td>0</td>\n",
              "      <td>0</td>\n",
              "      <td>0</td>\n",
              "      <td>0</td>\n",
              "      <td>0</td>\n",
              "      <td>1</td>\n",
              "    </tr>\n",
              "    <tr>\n",
              "      <th>2</th>\n",
              "      <td>0210_01</td>\n",
              "      <td>NaN</td>\n",
              "      <td>True</td>\n",
              "      <td>D</td>\n",
              "      <td>-1.180040</td>\n",
              "      <td>0.0</td>\n",
              "      <td>55 Cancri e</td>\n",
              "      <td>0.0</td>\n",
              "      <td>-0.458634</td>\n",
              "      <td>-0.256582</td>\n",
              "      <td>...</td>\n",
              "      <td>0</td>\n",
              "      <td>0</td>\n",
              "      <td>1</td>\n",
              "      <td>0</td>\n",
              "      <td>0</td>\n",
              "      <td>0</td>\n",
              "      <td>0</td>\n",
              "      <td>1</td>\n",
              "      <td>0</td>\n",
              "      <td>0</td>\n",
              "    </tr>\n",
              "    <tr>\n",
              "      <th>3</th>\n",
              "      <td>0242_01</td>\n",
              "      <td>NaN</td>\n",
              "      <td>False</td>\n",
              "      <td>F</td>\n",
              "      <td>-1.104674</td>\n",
              "      <td>1.0</td>\n",
              "      <td>TRAPPIST-1e</td>\n",
              "      <td>0.0</td>\n",
              "      <td>0.237424</td>\n",
              "      <td>-0.255785</td>\n",
              "      <td>...</td>\n",
              "      <td>0</td>\n",
              "      <td>0</td>\n",
              "      <td>0</td>\n",
              "      <td>0</td>\n",
              "      <td>1</td>\n",
              "      <td>0</td>\n",
              "      <td>0</td>\n",
              "      <td>0</td>\n",
              "      <td>0</td>\n",
              "      <td>1</td>\n",
              "    </tr>\n",
              "    <tr>\n",
              "      <th>4</th>\n",
              "      <td>0251_01</td>\n",
              "      <td>NaN</td>\n",
              "      <td>True</td>\n",
              "      <td>C</td>\n",
              "      <td>-1.170619</td>\n",
              "      <td>1.0</td>\n",
              "      <td>55 Cancri e</td>\n",
              "      <td>0.0</td>\n",
              "      <td>-0.458634</td>\n",
              "      <td>-0.256582</td>\n",
              "      <td>...</td>\n",
              "      <td>0</td>\n",
              "      <td>1</td>\n",
              "      <td>0</td>\n",
              "      <td>0</td>\n",
              "      <td>0</td>\n",
              "      <td>0</td>\n",
              "      <td>0</td>\n",
              "      <td>1</td>\n",
              "      <td>0</td>\n",
              "      <td>0</td>\n",
              "    </tr>\n",
              "    <tr>\n",
              "      <th>...</th>\n",
              "      <td>...</td>\n",
              "      <td>...</td>\n",
              "      <td>...</td>\n",
              "      <td>...</td>\n",
              "      <td>...</td>\n",
              "      <td>...</td>\n",
              "      <td>...</td>\n",
              "      <td>...</td>\n",
              "      <td>...</td>\n",
              "      <td>...</td>\n",
              "      <td>...</td>\n",
              "      <td>...</td>\n",
              "      <td>...</td>\n",
              "      <td>...</td>\n",
              "      <td>...</td>\n",
              "      <td>...</td>\n",
              "      <td>...</td>\n",
              "      <td>...</td>\n",
              "      <td>...</td>\n",
              "      <td>...</td>\n",
              "      <td>...</td>\n",
              "    </tr>\n",
              "    <tr>\n",
              "      <th>274</th>\n",
              "      <td>8621_01</td>\n",
              "      <td>NaN</td>\n",
              "      <td>False</td>\n",
              "      <td>E</td>\n",
              "      <td>-0.151302</td>\n",
              "      <td>0.0</td>\n",
              "      <td>TRAPPIST-1e</td>\n",
              "      <td>0.0</td>\n",
              "      <td>-0.449739</td>\n",
              "      <td>-0.256582</td>\n",
              "      <td>...</td>\n",
              "      <td>0</td>\n",
              "      <td>0</td>\n",
              "      <td>0</td>\n",
              "      <td>1</td>\n",
              "      <td>0</td>\n",
              "      <td>0</td>\n",
              "      <td>0</td>\n",
              "      <td>0</td>\n",
              "      <td>0</td>\n",
              "      <td>1</td>\n",
              "    </tr>\n",
              "    <tr>\n",
              "      <th>275</th>\n",
              "      <td>8678_01</td>\n",
              "      <td>NaN</td>\n",
              "      <td>True</td>\n",
              "      <td>G</td>\n",
              "      <td>1.444561</td>\n",
              "      <td>1.0</td>\n",
              "      <td>55 Cancri e</td>\n",
              "      <td>0.0</td>\n",
              "      <td>-0.458634</td>\n",
              "      <td>-0.256582</td>\n",
              "      <td>...</td>\n",
              "      <td>0</td>\n",
              "      <td>0</td>\n",
              "      <td>0</td>\n",
              "      <td>0</td>\n",
              "      <td>0</td>\n",
              "      <td>1</td>\n",
              "      <td>0</td>\n",
              "      <td>1</td>\n",
              "      <td>0</td>\n",
              "      <td>0</td>\n",
              "    </tr>\n",
              "    <tr>\n",
              "      <th>276</th>\n",
              "      <td>8775_01</td>\n",
              "      <td>NaN</td>\n",
              "      <td>True</td>\n",
              "      <td>D</td>\n",
              "      <td>-0.673207</td>\n",
              "      <td>0.0</td>\n",
              "      <td>TRAPPIST-1e</td>\n",
              "      <td>0.0</td>\n",
              "      <td>-0.458634</td>\n",
              "      <td>-0.256582</td>\n",
              "      <td>...</td>\n",
              "      <td>0</td>\n",
              "      <td>0</td>\n",
              "      <td>1</td>\n",
              "      <td>0</td>\n",
              "      <td>0</td>\n",
              "      <td>0</td>\n",
              "      <td>0</td>\n",
              "      <td>0</td>\n",
              "      <td>0</td>\n",
              "      <td>1</td>\n",
              "    </tr>\n",
              "    <tr>\n",
              "      <th>277</th>\n",
              "      <td>9025_01</td>\n",
              "      <td>NaN</td>\n",
              "      <td>False</td>\n",
              "      <td>G</td>\n",
              "      <td>1.548189</td>\n",
              "      <td>1.0</td>\n",
              "      <td>TRAPPIST-1e</td>\n",
              "      <td>0.0</td>\n",
              "      <td>-0.458634</td>\n",
              "      <td>-0.256582</td>\n",
              "      <td>...</td>\n",
              "      <td>0</td>\n",
              "      <td>0</td>\n",
              "      <td>0</td>\n",
              "      <td>0</td>\n",
              "      <td>0</td>\n",
              "      <td>1</td>\n",
              "      <td>0</td>\n",
              "      <td>0</td>\n",
              "      <td>0</td>\n",
              "      <td>1</td>\n",
              "    </tr>\n",
              "    <tr>\n",
              "      <th>278</th>\n",
              "      <td>9146_01</td>\n",
              "      <td>NaN</td>\n",
              "      <td>False</td>\n",
              "      <td>F</td>\n",
              "      <td>2.339526</td>\n",
              "      <td>0.0</td>\n",
              "      <td>TRAPPIST-1e</td>\n",
              "      <td>0.0</td>\n",
              "      <td>1.751851</td>\n",
              "      <td>-0.256582</td>\n",
              "      <td>...</td>\n",
              "      <td>0</td>\n",
              "      <td>0</td>\n",
              "      <td>0</td>\n",
              "      <td>0</td>\n",
              "      <td>1</td>\n",
              "      <td>0</td>\n",
              "      <td>0</td>\n",
              "      <td>0</td>\n",
              "      <td>0</td>\n",
              "      <td>1</td>\n",
              "    </tr>\n",
              "  </tbody>\n",
              "</table>\n",
              "<p>279 rows × 24 columns</p>\n",
              "</div>"
            ],
            "text/plain": [
              "    PassengerId  HomePlanet  CryoSleep Cabin1    Cabin2  Cabin3  Destination  \\\n",
              "0       0064_02         NaN       True      E -1.185692     1.0  TRAPPIST-1e   \n",
              "1       0119_01         NaN      False      A -1.191345     0.0  TRAPPIST-1e   \n",
              "2       0210_01         NaN       True      D -1.180040     0.0  55 Cancri e   \n",
              "3       0242_01         NaN      False      F -1.104674     1.0  TRAPPIST-1e   \n",
              "4       0251_01         NaN       True      C -1.170619     1.0  55 Cancri e   \n",
              "..          ...         ...        ...    ...       ...     ...          ...   \n",
              "274     8621_01         NaN      False      E -0.151302     0.0  TRAPPIST-1e   \n",
              "275     8678_01         NaN       True      G  1.444561     1.0  55 Cancri e   \n",
              "276     8775_01         NaN       True      D -0.673207     0.0  TRAPPIST-1e   \n",
              "277     9025_01         NaN      False      G  1.548189     1.0  TRAPPIST-1e   \n",
              "278     9146_01         NaN      False      F  2.339526     0.0  TRAPPIST-1e   \n",
              "\n",
              "     VIP  RoomService  FoodCourt  ...  B  C  D  E  F  G  T  55 Cancri e  \\\n",
              "0    0.0    -0.458634  -0.256582  ...  0  0  0  1  0  0  0            0   \n",
              "1    0.0    -0.458634   1.610934  ...  0  0  0  0  0  0  0            0   \n",
              "2    0.0    -0.458634  -0.256582  ...  0  0  1  0  0  0  0            1   \n",
              "3    0.0     0.237424  -0.255785  ...  0  0  0  0  1  0  0            0   \n",
              "4    0.0    -0.458634  -0.256582  ...  0  1  0  0  0  0  0            1   \n",
              "..   ...          ...        ...  ... .. .. .. .. .. .. ..          ...   \n",
              "274  0.0    -0.449739  -0.256582  ...  0  0  0  1  0  0  0            0   \n",
              "275  0.0    -0.458634  -0.256582  ...  0  0  0  0  0  1  0            1   \n",
              "276  0.0    -0.458634  -0.256582  ...  0  0  1  0  0  0  0            0   \n",
              "277  0.0    -0.458634  -0.256582  ...  0  0  0  0  0  1  0            0   \n",
              "278  0.0     1.751851  -0.256582  ...  0  0  0  0  1  0  0            0   \n",
              "\n",
              "     PSO J318.5-22  TRAPPIST-1e  \n",
              "0                0            1  \n",
              "1                0            1  \n",
              "2                0            0  \n",
              "3                0            1  \n",
              "4                0            0  \n",
              "..             ...          ...  \n",
              "274              0            1  \n",
              "275              0            0  \n",
              "276              0            1  \n",
              "277              0            1  \n",
              "278              0            1  \n",
              "\n",
              "[279 rows x 24 columns]"
            ]
          },
          "execution_count": 83,
          "metadata": {},
          "output_type": "execute_result"
        }
      ],
      "source": [
        "data_scaled(data, col)"
      ]
    },
    {
      "cell_type": "code",
      "execution_count": null,
      "id": "90960922",
      "metadata": {
        "id": "90960922"
      },
      "outputs": [],
      "source": [
        "dt = data.drop(['PassengerId', 'HomePlanet','Destination', 'Cabin1'], axis = 1)\n",
        "label = data['HomePlanet']"
      ]
    },
    {
      "cell_type": "code",
      "execution_count": null,
      "id": "a07d63e5",
      "metadata": {
        "id": "a07d63e5",
        "outputId": "da8c604b-3974-4a45-b0b3-3046ca62f3a3"
      },
      "outputs": [
        {
          "name": "stdout",
          "output_type": "stream",
          "text": [
            "<class 'pandas.core.frame.DataFrame'>\n",
            "RangeIndex: 279 entries, 0 to 278\n",
            "Data columns (total 20 columns):\n",
            " #   Column         Non-Null Count  Dtype  \n",
            "---  ------         --------------  -----  \n",
            " 0   CryoSleep      279 non-null    bool   \n",
            " 1   Cabin2         274 non-null    float64\n",
            " 2   Cabin3         274 non-null    float64\n",
            " 3   VIP            276 non-null    float64\n",
            " 4   RoomService    275 non-null    float64\n",
            " 5   FoodCourt      276 non-null    float64\n",
            " 6   ShoppingMall   275 non-null    float64\n",
            " 7   Spa            272 non-null    float64\n",
            " 8   VRDeck         277 non-null    float64\n",
            " 9   A              279 non-null    uint8  \n",
            " 10  B              279 non-null    uint8  \n",
            " 11  C              279 non-null    uint8  \n",
            " 12  D              279 non-null    uint8  \n",
            " 13  E              279 non-null    uint8  \n",
            " 14  F              279 non-null    uint8  \n",
            " 15  G              279 non-null    uint8  \n",
            " 16  T              279 non-null    uint8  \n",
            " 17  55 Cancri e    279 non-null    uint8  \n",
            " 18  PSO J318.5-22  279 non-null    uint8  \n",
            " 19  TRAPPIST-1e    279 non-null    uint8  \n",
            "dtypes: bool(1), float64(8), uint8(11)\n",
            "memory usage: 20.8 KB\n"
          ]
        }
      ],
      "source": [
        "dt.info()"
      ]
    },
    {
      "cell_type": "markdown",
      "id": "dee50802",
      "metadata": {
        "id": "dee50802"
      },
      "source": [
        "### 결측값 예측하기"
      ]
    },
    {
      "cell_type": "code",
      "execution_count": null,
      "id": "8d20afde",
      "metadata": {
        "id": "8d20afde"
      },
      "outputs": [],
      "source": [
        "df['predict_hp']= xgb_model.predict(dt)"
      ]
    },
    {
      "cell_type": "code",
      "execution_count": null,
      "id": "7f69b2fd",
      "metadata": {
        "id": "7f69b2fd"
      },
      "outputs": [],
      "source": [
        "df['predict_hp'] = df['predict_hp'].map({0:'Earth', 1:'Europa', 2:'Mars'})"
      ]
    },
    {
      "cell_type": "code",
      "execution_count": null,
      "id": "98e7b8b7",
      "metadata": {
        "id": "98e7b8b7",
        "outputId": "fd86b770-a56b-496f-cdd7-0708122505a6"
      },
      "outputs": [
        {
          "data": {
            "text/html": [
              "<div>\n",
              "<style scoped>\n",
              "    .dataframe tbody tr th:only-of-type {\n",
              "        vertical-align: middle;\n",
              "    }\n",
              "\n",
              "    .dataframe tbody tr th {\n",
              "        vertical-align: top;\n",
              "    }\n",
              "\n",
              "    .dataframe thead th {\n",
              "        text-align: right;\n",
              "    }\n",
              "</style>\n",
              "<table border=\"1\" class=\"dataframe\">\n",
              "  <thead>\n",
              "    <tr style=\"text-align: right;\">\n",
              "      <th></th>\n",
              "      <th>PassengerId</th>\n",
              "      <th>HomePlanet</th>\n",
              "      <th>CryoSleep</th>\n",
              "      <th>Cabin1</th>\n",
              "      <th>Cabin2</th>\n",
              "      <th>Combi</th>\n",
              "      <th>Cabin3</th>\n",
              "      <th>Cabin</th>\n",
              "      <th>Destination</th>\n",
              "      <th>Age</th>\n",
              "      <th>VIP</th>\n",
              "      <th>RoomService</th>\n",
              "      <th>FoodCourt</th>\n",
              "      <th>ShoppingMall</th>\n",
              "      <th>Spa</th>\n",
              "      <th>VRDeck</th>\n",
              "      <th>Name</th>\n",
              "      <th>Transported</th>\n",
              "      <th>predict_hp</th>\n",
              "    </tr>\n",
              "  </thead>\n",
              "  <tbody>\n",
              "    <tr>\n",
              "      <th>0</th>\n",
              "      <td>0064_02</td>\n",
              "      <td>NaN</td>\n",
              "      <td>True</td>\n",
              "      <td>E</td>\n",
              "      <td>3.0</td>\n",
              "      <td>E3</td>\n",
              "      <td>S</td>\n",
              "      <td>E/3/S</td>\n",
              "      <td>TRAPPIST-1e</td>\n",
              "      <td>33.0</td>\n",
              "      <td>0.0</td>\n",
              "      <td>0.0</td>\n",
              "      <td>0.0</td>\n",
              "      <td>0.0</td>\n",
              "      <td>0.0</td>\n",
              "      <td>0.0</td>\n",
              "      <td>Colatz Keen</td>\n",
              "      <td>1.0</td>\n",
              "      <td>Earth</td>\n",
              "    </tr>\n",
              "    <tr>\n",
              "      <th>1</th>\n",
              "      <td>0119_01</td>\n",
              "      <td>NaN</td>\n",
              "      <td>False</td>\n",
              "      <td>A</td>\n",
              "      <td>0.0</td>\n",
              "      <td>A0</td>\n",
              "      <td>P</td>\n",
              "      <td>A/0/P</td>\n",
              "      <td>TRAPPIST-1e</td>\n",
              "      <td>39.0</td>\n",
              "      <td>0.0</td>\n",
              "      <td>0.0</td>\n",
              "      <td>2344.0</td>\n",
              "      <td>0.0</td>\n",
              "      <td>65.0</td>\n",
              "      <td>6898.0</td>\n",
              "      <td>Batan Coning</td>\n",
              "      <td>0.0</td>\n",
              "      <td>Europa</td>\n",
              "    </tr>\n",
              "    <tr>\n",
              "      <th>2</th>\n",
              "      <td>0210_01</td>\n",
              "      <td>NaN</td>\n",
              "      <td>True</td>\n",
              "      <td>D</td>\n",
              "      <td>6.0</td>\n",
              "      <td>D6</td>\n",
              "      <td>P</td>\n",
              "      <td>D/6/P</td>\n",
              "      <td>55 Cancri e</td>\n",
              "      <td>24.0</td>\n",
              "      <td>0.0</td>\n",
              "      <td>0.0</td>\n",
              "      <td>0.0</td>\n",
              "      <td>0.0</td>\n",
              "      <td>0.0</td>\n",
              "      <td>0.0</td>\n",
              "      <td>Arraid Inicont</td>\n",
              "      <td>1.0</td>\n",
              "      <td>Europa</td>\n",
              "    </tr>\n",
              "    <tr>\n",
              "      <th>3</th>\n",
              "      <td>0242_01</td>\n",
              "      <td>NaN</td>\n",
              "      <td>False</td>\n",
              "      <td>F</td>\n",
              "      <td>46.0</td>\n",
              "      <td>F46</td>\n",
              "      <td>S</td>\n",
              "      <td>F/46/S</td>\n",
              "      <td>TRAPPIST-1e</td>\n",
              "      <td>18.0</td>\n",
              "      <td>0.0</td>\n",
              "      <td>313.0</td>\n",
              "      <td>1.0</td>\n",
              "      <td>691.0</td>\n",
              "      <td>283.0</td>\n",
              "      <td>0.0</td>\n",
              "      <td>Almone St챕</td>\n",
              "      <td>0.0</td>\n",
              "      <td>Mars</td>\n",
              "    </tr>\n",
              "    <tr>\n",
              "      <th>4</th>\n",
              "      <td>0251_01</td>\n",
              "      <td>NaN</td>\n",
              "      <td>True</td>\n",
              "      <td>C</td>\n",
              "      <td>11.0</td>\n",
              "      <td>C11</td>\n",
              "      <td>S</td>\n",
              "      <td>C/11/S</td>\n",
              "      <td>55 Cancri e</td>\n",
              "      <td>54.0</td>\n",
              "      <td>0.0</td>\n",
              "      <td>0.0</td>\n",
              "      <td>0.0</td>\n",
              "      <td>0.0</td>\n",
              "      <td>0.0</td>\n",
              "      <td>0.0</td>\n",
              "      <td>Diphah Amsive</td>\n",
              "      <td>1.0</td>\n",
              "      <td>Europa</td>\n",
              "    </tr>\n",
              "    <tr>\n",
              "      <th>...</th>\n",
              "      <td>...</td>\n",
              "      <td>...</td>\n",
              "      <td>...</td>\n",
              "      <td>...</td>\n",
              "      <td>...</td>\n",
              "      <td>...</td>\n",
              "      <td>...</td>\n",
              "      <td>...</td>\n",
              "      <td>...</td>\n",
              "      <td>...</td>\n",
              "      <td>...</td>\n",
              "      <td>...</td>\n",
              "      <td>...</td>\n",
              "      <td>...</td>\n",
              "      <td>...</td>\n",
              "      <td>...</td>\n",
              "      <td>...</td>\n",
              "      <td>...</td>\n",
              "      <td>...</td>\n",
              "    </tr>\n",
              "    <tr>\n",
              "      <th>274</th>\n",
              "      <td>8621_01</td>\n",
              "      <td>NaN</td>\n",
              "      <td>False</td>\n",
              "      <td>E</td>\n",
              "      <td>552.0</td>\n",
              "      <td>E552</td>\n",
              "      <td>P</td>\n",
              "      <td>E/552/P</td>\n",
              "      <td>TRAPPIST-1e</td>\n",
              "      <td>19.0</td>\n",
              "      <td>0.0</td>\n",
              "      <td>4.0</td>\n",
              "      <td>0.0</td>\n",
              "      <td>1604.0</td>\n",
              "      <td>0.0</td>\n",
              "      <td>0.0</td>\n",
              "      <td>Vanley Simmonders</td>\n",
              "      <td>NaN</td>\n",
              "      <td>Mars</td>\n",
              "    </tr>\n",
              "    <tr>\n",
              "      <th>275</th>\n",
              "      <td>8678_01</td>\n",
              "      <td>NaN</td>\n",
              "      <td>True</td>\n",
              "      <td>G</td>\n",
              "      <td>1399.0</td>\n",
              "      <td>G1399</td>\n",
              "      <td>S</td>\n",
              "      <td>G/1399/S</td>\n",
              "      <td>55 Cancri e</td>\n",
              "      <td>9.0</td>\n",
              "      <td>0.0</td>\n",
              "      <td>0.0</td>\n",
              "      <td>0.0</td>\n",
              "      <td>0.0</td>\n",
              "      <td>0.0</td>\n",
              "      <td>0.0</td>\n",
              "      <td>Eilan Kellson</td>\n",
              "      <td>NaN</td>\n",
              "      <td>Earth</td>\n",
              "    </tr>\n",
              "    <tr>\n",
              "      <th>276</th>\n",
              "      <td>8775_01</td>\n",
              "      <td>NaN</td>\n",
              "      <td>True</td>\n",
              "      <td>D</td>\n",
              "      <td>275.0</td>\n",
              "      <td>D275</td>\n",
              "      <td>P</td>\n",
              "      <td>D/275/P</td>\n",
              "      <td>TRAPPIST-1e</td>\n",
              "      <td>40.0</td>\n",
              "      <td>0.0</td>\n",
              "      <td>0.0</td>\n",
              "      <td>0.0</td>\n",
              "      <td>0.0</td>\n",
              "      <td>0.0</td>\n",
              "      <td>0.0</td>\n",
              "      <td>Raston Maltorted</td>\n",
              "      <td>NaN</td>\n",
              "      <td>Europa</td>\n",
              "    </tr>\n",
              "    <tr>\n",
              "      <th>277</th>\n",
              "      <td>9025_01</td>\n",
              "      <td>NaN</td>\n",
              "      <td>False</td>\n",
              "      <td>G</td>\n",
              "      <td>1454.0</td>\n",
              "      <td>G1454</td>\n",
              "      <td>S</td>\n",
              "      <td>G/1454/S</td>\n",
              "      <td>TRAPPIST-1e</td>\n",
              "      <td>42.0</td>\n",
              "      <td>0.0</td>\n",
              "      <td>0.0</td>\n",
              "      <td>0.0</td>\n",
              "      <td>28.0</td>\n",
              "      <td>726.0</td>\n",
              "      <td>0.0</td>\n",
              "      <td>Ale Whitersone</td>\n",
              "      <td>NaN</td>\n",
              "      <td>Earth</td>\n",
              "    </tr>\n",
              "    <tr>\n",
              "      <th>278</th>\n",
              "      <td>9146_01</td>\n",
              "      <td>NaN</td>\n",
              "      <td>False</td>\n",
              "      <td>F</td>\n",
              "      <td>1874.0</td>\n",
              "      <td>F1874</td>\n",
              "      <td>P</td>\n",
              "      <td>F/1874/P</td>\n",
              "      <td>TRAPPIST-1e</td>\n",
              "      <td>52.0</td>\n",
              "      <td>0.0</td>\n",
              "      <td>994.0</td>\n",
              "      <td>0.0</td>\n",
              "      <td>173.0</td>\n",
              "      <td>0.0</td>\n",
              "      <td>24.0</td>\n",
              "      <td>Rionk Sache</td>\n",
              "      <td>NaN</td>\n",
              "      <td>Mars</td>\n",
              "    </tr>\n",
              "  </tbody>\n",
              "</table>\n",
              "<p>279 rows × 19 columns</p>\n",
              "</div>"
            ],
            "text/plain": [
              "    PassengerId  HomePlanet  CryoSleep Cabin1  Cabin2  Combi Cabin3     Cabin  \\\n",
              "0       0064_02         NaN       True      E     3.0     E3      S     E/3/S   \n",
              "1       0119_01         NaN      False      A     0.0     A0      P     A/0/P   \n",
              "2       0210_01         NaN       True      D     6.0     D6      P     D/6/P   \n",
              "3       0242_01         NaN      False      F    46.0    F46      S    F/46/S   \n",
              "4       0251_01         NaN       True      C    11.0    C11      S    C/11/S   \n",
              "..          ...         ...        ...    ...     ...    ...    ...       ...   \n",
              "274     8621_01         NaN      False      E   552.0   E552      P   E/552/P   \n",
              "275     8678_01         NaN       True      G  1399.0  G1399      S  G/1399/S   \n",
              "276     8775_01         NaN       True      D   275.0   D275      P   D/275/P   \n",
              "277     9025_01         NaN      False      G  1454.0  G1454      S  G/1454/S   \n",
              "278     9146_01         NaN      False      F  1874.0  F1874      P  F/1874/P   \n",
              "\n",
              "     Destination   Age  VIP  RoomService  FoodCourt  ShoppingMall    Spa  \\\n",
              "0    TRAPPIST-1e  33.0  0.0          0.0        0.0           0.0    0.0   \n",
              "1    TRAPPIST-1e  39.0  0.0          0.0     2344.0           0.0   65.0   \n",
              "2    55 Cancri e  24.0  0.0          0.0        0.0           0.0    0.0   \n",
              "3    TRAPPIST-1e  18.0  0.0        313.0        1.0         691.0  283.0   \n",
              "4    55 Cancri e  54.0  0.0          0.0        0.0           0.0    0.0   \n",
              "..           ...   ...  ...          ...        ...           ...    ...   \n",
              "274  TRAPPIST-1e  19.0  0.0          4.0        0.0        1604.0    0.0   \n",
              "275  55 Cancri e   9.0  0.0          0.0        0.0           0.0    0.0   \n",
              "276  TRAPPIST-1e  40.0  0.0          0.0        0.0           0.0    0.0   \n",
              "277  TRAPPIST-1e  42.0  0.0          0.0        0.0          28.0  726.0   \n",
              "278  TRAPPIST-1e  52.0  0.0        994.0        0.0         173.0    0.0   \n",
              "\n",
              "     VRDeck               Name  Transported predict_hp  \n",
              "0       0.0        Colatz Keen          1.0      Earth  \n",
              "1    6898.0       Batan Coning          0.0     Europa  \n",
              "2       0.0     Arraid Inicont          1.0     Europa  \n",
              "3       0.0         Almone St챕          0.0       Mars  \n",
              "4       0.0      Diphah Amsive          1.0     Europa  \n",
              "..      ...                ...          ...        ...  \n",
              "274     0.0  Vanley Simmonders          NaN       Mars  \n",
              "275     0.0      Eilan Kellson          NaN      Earth  \n",
              "276     0.0   Raston Maltorted          NaN     Europa  \n",
              "277     0.0     Ale Whitersone          NaN      Earth  \n",
              "278    24.0        Rionk Sache          NaN       Mars  \n",
              "\n",
              "[279 rows x 19 columns]"
            ]
          },
          "execution_count": 46,
          "metadata": {},
          "output_type": "execute_result"
        }
      ],
      "source": [
        "df"
      ]
    },
    {
      "cell_type": "code",
      "execution_count": null,
      "id": "d4a5b185",
      "metadata": {
        "id": "d4a5b185"
      },
      "outputs": [],
      "source": [
        "df.to_excel('C:/Users/admin/Desktop/sparta/hp_fill(cabin).xlsx')"
      ]
    },
    {
      "cell_type": "markdown",
      "id": "46eb3164",
      "metadata": {
        "id": "46eb3164"
      },
      "source": [
        "## 복합 샘플링"
      ]
    },
    {
      "cell_type": "code",
      "execution_count": null,
      "id": "d48eede4",
      "metadata": {
        "id": "d48eede4",
        "outputId": "fa8f1161-a2fb-43d0-9054-c45d3b66a7e6"
      },
      "outputs": [
        {
          "data": {
            "text/plain": [
              "(array([0, 1, 2], dtype=int64), array([6054, 2857, 2406], dtype=int64))"
            ]
          },
          "execution_count": 67,
          "metadata": {},
          "output_type": "execute_result"
        }
      ],
      "source": [
        "# 샘플 편향\n",
        "np.unique(hp_label, return_counts = True)"
      ]
    },
    {
      "cell_type": "code",
      "execution_count": null,
      "id": "0cff0454",
      "metadata": {
        "id": "0cff0454"
      },
      "outputs": [],
      "source": [
        "# 복합 샘플링\n",
        "X_samp, y_samp = SMOTEENN(random_state=109).fit_resample(hp_data, hp_label)"
      ]
    },
    {
      "cell_type": "code",
      "execution_count": null,
      "id": "0b83cea8",
      "metadata": {
        "id": "0b83cea8",
        "outputId": "3c6eb4a8-d72f-41b0-e92d-b1a5388037fd"
      },
      "outputs": [
        {
          "data": {
            "text/plain": [
              "(array([0, 1, 2], dtype=int64), array([5237, 5740, 5109], dtype=int64))"
            ]
          },
          "execution_count": 68,
          "metadata": {},
          "output_type": "execute_result"
        }
      ],
      "source": [
        "# 샘플링 완료\n",
        "np.unique(y_samp, return_counts = True)"
      ]
    },
    {
      "cell_type": "markdown",
      "id": "06a50767",
      "metadata": {
        "id": "06a50767"
      },
      "source": [
        "### 세트 분리"
      ]
    },
    {
      "cell_type": "code",
      "execution_count": null,
      "id": "339287a7",
      "metadata": {
        "id": "339287a7"
      },
      "outputs": [],
      "source": [
        "X_train, X_test, y_train, y_test = train_test_split( X_samp, y_samp, random_state = 109 )"
      ]
    },
    {
      "cell_type": "markdown",
      "id": "aa4208a6",
      "metadata": {
        "id": "aa4208a6"
      },
      "source": [
        "### XGBClassifier & hyperopt"
      ]
    },
    {
      "cell_type": "code",
      "execution_count": null,
      "id": "1fdd70f5",
      "metadata": {
        "id": "1fdd70f5"
      },
      "outputs": [],
      "source": [
        "# 실행을 위한 함수 정의\n",
        "def objective_func(search_space):\n",
        "    xgb_clf = XGBClassifier(n_estimators=100, max_depth=int(search_space['max_depth']),\n",
        "                            min_child_weight=int(search_space['min_child_weight']),\n",
        "                            learning_rate=search_space['learning_rate'],\n",
        "                            colsample_bytree=search_space['colsample_bytree'], \n",
        "                            eval_metric='logloss')\n",
        "    accuracy = cross_val_score(xgb_clf, X_train, y_train, scoring='accuracy', cv=3)\n",
        "    return {'loss':-1 * np.mean(accuracy), 'status': STATUS_OK}\n"
      ]
    },
    {
      "cell_type": "code",
      "execution_count": null,
      "id": "5a3b0fa0",
      "metadata": {
        "id": "5a3b0fa0",
        "outputId": "44247493-fe8f-4323-8fc9-2f0f9cf23d2c"
      },
      "outputs": [
        {
          "name": "stdout",
          "output_type": "stream",
          "text": [
            "100%|███████████████████████████████████████████████| 50/50 [03:02<00:00,  3.65s/trial, best loss: -0.9915450927220193]\n",
            "best: {'colsample_bytree': 0.7397666727597565, 'learning_rate': 0.176738407962117, 'max_depth': 11.0, 'min_child_weight': 1.0}\n"
          ]
        }
      ],
      "source": [
        "# 최적의 파라미터 찾기\n",
        "trial_val = Trials()\n",
        "best = fmin(fn=objective_func,\n",
        "            space=xgb_search_space,\n",
        "            algo=tpe.suggest,\n",
        "            max_evals=50,\n",
        "            trials=trial_val, rstate=np.random.default_rng(seed=9))\n",
        "print('best:', best)"
      ]
    },
    {
      "cell_type": "code",
      "execution_count": null,
      "id": "d82deeb5",
      "metadata": {
        "id": "d82deeb5",
        "outputId": "430d9e71-123c-4b78-f70c-05561df7b5e9"
      },
      "outputs": [
        {
          "name": "stdout",
          "output_type": "stream",
          "text": [
            "정확도 :  0.9947787170561909\n",
            "혼돈행렬 : \n",
            " [[1322    0   13]\n",
            " [   1 1409    1]\n",
            " [   5    1 1270]]\n"
          ]
        }
      ],
      "source": [
        "# 모델링\n",
        "xgb_model = XGBClassifier(n_estimators=200, learning_rate=round(best['learning_rate'], 5), \n",
        "                            max_depth=int(best['max_depth']), min_child_weight=int(best['min_child_weight']),\n",
        "                            colsample_bytree=round(best['colsample_bytree'], 5)\n",
        "                           )\n",
        "xgb_model.fit(X_train, y_train)\n",
        "pred= xgb_model.predict(X_test)\n",
        "print('정확도 : ', accuracy_score(y_test, pred))\n",
        "print('혼돈행렬 : \\n', confusion_matrix(y_test, pred))"
      ]
    },
    {
      "cell_type": "code",
      "execution_count": null,
      "id": "e379bfc8",
      "metadata": {
        "id": "e379bfc8",
        "outputId": "83db0df6-a7b8-4c80-e866-607fecbb9d8b"
      },
      "outputs": [
        {
          "data": {
            "text/plain": [
              "99.52978056426332"
            ]
          },
          "execution_count": 73,
          "metadata": {},
          "output_type": "execute_result"
        }
      ],
      "source": [
        "# Mars의 정확도\n",
        "1270/(5+1+1270)*100"
      ]
    },
    {
      "cell_type": "markdown",
      "id": "3c6208d1",
      "metadata": {
        "id": "3c6208d1"
      },
      "source": [
        "### 결측값 예측 하기"
      ]
    },
    {
      "cell_type": "code",
      "execution_count": null,
      "id": "6863fe87",
      "metadata": {
        "id": "6863fe87",
        "outputId": "a63052b4-5241-41bb-8fd6-ba7f6c2ca6e4"
      },
      "outputs": [
        {
          "name": "stdout",
          "output_type": "stream",
          "text": [
            "<class 'pandas.core.frame.DataFrame'>\n",
            "RangeIndex: 279 entries, 0 to 278\n",
            "Data columns (total 18 columns):\n",
            " #   Column        Non-Null Count  Dtype  \n",
            "---  ------        --------------  -----  \n",
            " 0   PassengerId   279 non-null    object \n",
            " 1   HomePlanet    0 non-null      float64\n",
            " 2   CryoSleep     279 non-null    bool   \n",
            " 3   Cabin1        274 non-null    object \n",
            " 4   Cabin2        274 non-null    float64\n",
            " 5   Combi         274 non-null    object \n",
            " 6   Cabin3        274 non-null    object \n",
            " 7   Cabin         274 non-null    object \n",
            " 8   Destination   273 non-null    object \n",
            " 9   Age           274 non-null    float64\n",
            " 10  VIP           276 non-null    float64\n",
            " 11  RoomService   275 non-null    float64\n",
            " 12  FoodCourt     276 non-null    float64\n",
            " 13  ShoppingMall  275 non-null    float64\n",
            " 14  Spa           272 non-null    float64\n",
            " 15  VRDeck        277 non-null    float64\n",
            " 16  Name          269 non-null    object \n",
            " 17  Transported   192 non-null    float64\n",
            "dtypes: bool(1), float64(10), object(7)\n",
            "memory usage: 37.5+ KB\n"
          ]
        }
      ],
      "source": [
        "df.info()"
      ]
    },
    {
      "cell_type": "code",
      "execution_count": null,
      "id": "99e36628",
      "metadata": {
        "id": "99e36628"
      },
      "outputs": [],
      "source": [
        "# 예측값\n",
        "df['sampling_pred_hp'] = xgb_model.predict(dt)\n",
        "# 원본 형태로 되돌리기\n",
        "df['sampling_pred_hp'] = df['sampling_pred_hp'].map({0:'Earth', 1:'Europa', 2:'Mars'})"
      ]
    },
    {
      "cell_type": "code",
      "execution_count": null,
      "id": "433cacc8",
      "metadata": {
        "id": "433cacc8",
        "outputId": "1d112190-bfba-4a85-ce2b-8e7ac9828c8f"
      },
      "outputs": [
        {
          "data": {
            "text/plain": [
              "(array(['Earth', 'Europa', 'Mars'], dtype=object),\n",
              " array([140,  67,  72], dtype=int64))"
            ]
          },
          "execution_count": 90,
          "metadata": {},
          "output_type": "execute_result"
        }
      ],
      "source": [
        "np.unique(df['sampling_pred_hp'], return_counts = True)"
      ]
    },
    {
      "cell_type": "code",
      "execution_count": null,
      "id": "ba064226",
      "metadata": {
        "id": "ba064226"
      },
      "outputs": [],
      "source": [
        "#엑셀로 저장하기\n",
        "df.to_excel('C:/Users/admin/Desktop/sparta/hp_fill(sampling).xlsx')"
      ]
    },
    {
      "cell_type": "markdown",
      "id": "1ffd2236",
      "metadata": {
        "id": "1ffd2236"
      },
      "source": [
        "# Destination 결측치 판단"
      ]
    },
    {
      "cell_type": "code",
      "execution_count": null,
      "id": "f6d77d69",
      "metadata": {
        "id": "f6d77d69",
        "outputId": "e79eb6ef-b845-4b38-965b-bc12d24da5bd"
      },
      "outputs": [
        {
          "name": "stdout",
          "output_type": "stream",
          "text": [
            "<class 'pandas.core.frame.DataFrame'>\n",
            "RangeIndex: 12970 entries, 0 to 12969\n",
            "Data columns (total 18 columns):\n",
            " #   Column        Non-Null Count  Dtype  \n",
            "---  ------        --------------  -----  \n",
            " 0   PassengerId   12970 non-null  object \n",
            " 1   HomePlanet    12970 non-null  object \n",
            " 2   CryoSleep     12970 non-null  bool   \n",
            " 3   Cabin1        12804 non-null  object \n",
            " 4   Cabin2        12804 non-null  float64\n",
            " 5   Combi         12804 non-null  object \n",
            " 6   Cabin3        12804 non-null  object \n",
            " 7   Cabin         12804 non-null  object \n",
            " 8   Destination   12704 non-null  object \n",
            " 9   Age           12700 non-null  float64\n",
            " 10  VIP           12970 non-null  bool   \n",
            " 11  RoomService   12776 non-null  float64\n",
            " 12  FoodCourt     12752 non-null  float64\n",
            " 13  ShoppingMall  12760 non-null  float64\n",
            " 14  Spa           12754 non-null  float64\n",
            " 15  VRDeck        12766 non-null  float64\n",
            " 16  Name          12676 non-null  object \n",
            " 17  Transported   8693 non-null   float64\n",
            "dtypes: bool(2), float64(8), object(8)\n",
            "memory usage: 1.6+ MB\n"
          ]
        }
      ],
      "source": [
        "# 다른값 결측치 채운 데이터프레임 불러오기\n",
        "df_dt = pd.read_excel('C:/Users/admin/Desktop/sparta/train_test_filled_hp_cs_vp.xlsx')\n",
        "df_dt.info()"
      ]
    },
    {
      "cell_type": "code",
      "execution_count": null,
      "id": "08f54293",
      "metadata": {
        "id": "08f54293",
        "outputId": "f67bffe8-e3d4-41dc-e73c-dab106f0bc83"
      },
      "outputs": [
        {
          "data": {
            "text/html": [
              "<div>\n",
              "<style scoped>\n",
              "    .dataframe tbody tr th:only-of-type {\n",
              "        vertical-align: middle;\n",
              "    }\n",
              "\n",
              "    .dataframe tbody tr th {\n",
              "        vertical-align: top;\n",
              "    }\n",
              "\n",
              "    .dataframe thead th {\n",
              "        text-align: right;\n",
              "    }\n",
              "</style>\n",
              "<table border=\"1\" class=\"dataframe\">\n",
              "  <thead>\n",
              "    <tr style=\"text-align: right;\">\n",
              "      <th></th>\n",
              "      <th>PassengerId</th>\n",
              "      <th>HomePlanet</th>\n",
              "      <th>CryoSleep</th>\n",
              "      <th>Cabin1</th>\n",
              "      <th>Cabin2</th>\n",
              "      <th>Combi</th>\n",
              "      <th>Cabin3</th>\n",
              "      <th>Cabin</th>\n",
              "      <th>Destination</th>\n",
              "      <th>Age</th>\n",
              "      <th>VIP</th>\n",
              "      <th>RoomService</th>\n",
              "      <th>FoodCourt</th>\n",
              "      <th>ShoppingMall</th>\n",
              "      <th>Spa</th>\n",
              "      <th>VRDeck</th>\n",
              "      <th>Name</th>\n",
              "      <th>Transported</th>\n",
              "    </tr>\n",
              "  </thead>\n",
              "  <tbody>\n",
              "    <tr>\n",
              "      <th>0</th>\n",
              "      <td>0001_01</td>\n",
              "      <td>Europa</td>\n",
              "      <td>False</td>\n",
              "      <td>B</td>\n",
              "      <td>0.0</td>\n",
              "      <td>B0</td>\n",
              "      <td>P</td>\n",
              "      <td>B/0/P</td>\n",
              "      <td>TRAPPIST-1e</td>\n",
              "      <td>39.0</td>\n",
              "      <td>False</td>\n",
              "      <td>0.0</td>\n",
              "      <td>0.0</td>\n",
              "      <td>0.0</td>\n",
              "      <td>0.0</td>\n",
              "      <td>0.0</td>\n",
              "      <td>Maham Ofracculy</td>\n",
              "      <td>0.0</td>\n",
              "    </tr>\n",
              "    <tr>\n",
              "      <th>1</th>\n",
              "      <td>0002_01</td>\n",
              "      <td>Earth</td>\n",
              "      <td>False</td>\n",
              "      <td>F</td>\n",
              "      <td>0.0</td>\n",
              "      <td>F0</td>\n",
              "      <td>S</td>\n",
              "      <td>F/0/S</td>\n",
              "      <td>TRAPPIST-1e</td>\n",
              "      <td>24.0</td>\n",
              "      <td>False</td>\n",
              "      <td>109.0</td>\n",
              "      <td>9.0</td>\n",
              "      <td>25.0</td>\n",
              "      <td>549.0</td>\n",
              "      <td>44.0</td>\n",
              "      <td>Juanna Vines</td>\n",
              "      <td>1.0</td>\n",
              "    </tr>\n",
              "    <tr>\n",
              "      <th>2</th>\n",
              "      <td>0003_01</td>\n",
              "      <td>Europa</td>\n",
              "      <td>False</td>\n",
              "      <td>A</td>\n",
              "      <td>0.0</td>\n",
              "      <td>A0</td>\n",
              "      <td>S</td>\n",
              "      <td>A/0/S</td>\n",
              "      <td>TRAPPIST-1e</td>\n",
              "      <td>58.0</td>\n",
              "      <td>True</td>\n",
              "      <td>43.0</td>\n",
              "      <td>3576.0</td>\n",
              "      <td>0.0</td>\n",
              "      <td>6715.0</td>\n",
              "      <td>49.0</td>\n",
              "      <td>Altark Susent</td>\n",
              "      <td>0.0</td>\n",
              "    </tr>\n",
              "    <tr>\n",
              "      <th>3</th>\n",
              "      <td>0003_02</td>\n",
              "      <td>Europa</td>\n",
              "      <td>False</td>\n",
              "      <td>A</td>\n",
              "      <td>0.0</td>\n",
              "      <td>A0</td>\n",
              "      <td>S</td>\n",
              "      <td>A/0/S</td>\n",
              "      <td>TRAPPIST-1e</td>\n",
              "      <td>33.0</td>\n",
              "      <td>False</td>\n",
              "      <td>0.0</td>\n",
              "      <td>1283.0</td>\n",
              "      <td>371.0</td>\n",
              "      <td>3329.0</td>\n",
              "      <td>193.0</td>\n",
              "      <td>Solam Susent</td>\n",
              "      <td>0.0</td>\n",
              "    </tr>\n",
              "    <tr>\n",
              "      <th>4</th>\n",
              "      <td>0004_01</td>\n",
              "      <td>Earth</td>\n",
              "      <td>False</td>\n",
              "      <td>F</td>\n",
              "      <td>1.0</td>\n",
              "      <td>F1</td>\n",
              "      <td>S</td>\n",
              "      <td>F/1/S</td>\n",
              "      <td>TRAPPIST-1e</td>\n",
              "      <td>16.0</td>\n",
              "      <td>False</td>\n",
              "      <td>303.0</td>\n",
              "      <td>70.0</td>\n",
              "      <td>151.0</td>\n",
              "      <td>565.0</td>\n",
              "      <td>2.0</td>\n",
              "      <td>Willy Santantines</td>\n",
              "      <td>1.0</td>\n",
              "    </tr>\n",
              "  </tbody>\n",
              "</table>\n",
              "</div>"
            ],
            "text/plain": [
              "  PassengerId HomePlanet  CryoSleep Cabin1  Cabin2 Combi Cabin3  Cabin  \\\n",
              "0     0001_01     Europa      False      B     0.0    B0      P  B/0/P   \n",
              "1     0002_01      Earth      False      F     0.0    F0      S  F/0/S   \n",
              "2     0003_01     Europa      False      A     0.0    A0      S  A/0/S   \n",
              "3     0003_02     Europa      False      A     0.0    A0      S  A/0/S   \n",
              "4     0004_01      Earth      False      F     1.0    F1      S  F/1/S   \n",
              "\n",
              "   Destination   Age    VIP  RoomService  FoodCourt  ShoppingMall     Spa  \\\n",
              "0  TRAPPIST-1e  39.0  False          0.0        0.0           0.0     0.0   \n",
              "1  TRAPPIST-1e  24.0  False        109.0        9.0          25.0   549.0   \n",
              "2  TRAPPIST-1e  58.0   True         43.0     3576.0           0.0  6715.0   \n",
              "3  TRAPPIST-1e  33.0  False          0.0     1283.0         371.0  3329.0   \n",
              "4  TRAPPIST-1e  16.0  False        303.0       70.0         151.0   565.0   \n",
              "\n",
              "   VRDeck               Name  Transported  \n",
              "0     0.0    Maham Ofracculy          0.0  \n",
              "1    44.0       Juanna Vines          1.0  \n",
              "2    49.0      Altark Susent          0.0  \n",
              "3   193.0       Solam Susent          0.0  \n",
              "4     2.0  Willy Santantines          1.0  "
            ]
          },
          "execution_count": 7,
          "metadata": {},
          "output_type": "execute_result"
        }
      ],
      "source": [
        "df_dt.head()"
      ]
    },
    {
      "cell_type": "code",
      "execution_count": null,
      "id": "6b80d961",
      "metadata": {
        "id": "6b80d961"
      },
      "outputs": [],
      "source": [
        "df_dt[df_dt['CryoSleep'].isnull()] = 0.0"
      ]
    },
    {
      "cell_type": "code",
      "execution_count": null,
      "id": "8c16bed0",
      "metadata": {
        "id": "8c16bed0",
        "outputId": "05c72f1e-d8d1-4d90-af3c-cb6659f4a9be"
      },
      "outputs": [
        {
          "data": {
            "text/plain": [
              "PassengerId        0\n",
              "HomePlanet         0\n",
              "CryoSleep          0\n",
              "Cabin1           166\n",
              "Cabin2           166\n",
              "Combi            166\n",
              "Cabin3           166\n",
              "Cabin            166\n",
              "Destination      266\n",
              "Age              270\n",
              "VIP                0\n",
              "RoomService      194\n",
              "FoodCourt        218\n",
              "ShoppingMall     210\n",
              "Spa              216\n",
              "VRDeck           204\n",
              "Name             294\n",
              "Transported     4277\n",
              "dtype: int64"
            ]
          },
          "execution_count": 9,
          "metadata": {},
          "output_type": "execute_result"
        }
      ],
      "source": [
        "df_dt.isnull().sum()"
      ]
    },
    {
      "cell_type": "code",
      "execution_count": null,
      "id": "9f03b97e",
      "metadata": {
        "id": "9f03b97e",
        "outputId": "a05c2ba5-7d83-4485-8ac7-c39e86722c65"
      },
      "outputs": [
        {
          "name": "stdout",
          "output_type": "stream",
          "text": [
            "<class 'pandas.core.frame.DataFrame'>\n",
            "RangeIndex: 12970 entries, 0 to 12969\n",
            "Data columns (total 12 columns):\n",
            " #   Column        Non-Null Count  Dtype  \n",
            "---  ------        --------------  -----  \n",
            " 0   HomePlanet    12970 non-null  object \n",
            " 1   CryoSleep     12970 non-null  object \n",
            " 2   Cabin1        12804 non-null  object \n",
            " 3   Cabin2        12804 non-null  float64\n",
            " 4   Cabin3        12804 non-null  object \n",
            " 5   Destination   12704 non-null  object \n",
            " 6   VIP           12970 non-null  object \n",
            " 7   RoomService   12776 non-null  float64\n",
            " 8   FoodCourt     12752 non-null  float64\n",
            " 9   ShoppingMall  12760 non-null  float64\n",
            " 10  Spa           12754 non-null  float64\n",
            " 11  VRDeck        12766 non-null  float64\n",
            "dtypes: float64(6), object(6)\n",
            "memory usage: 1.2+ MB\n"
          ]
        }
      ],
      "source": [
        "df_dt = df_dt.drop(['PassengerId', 'Name','Transported','Cabin','Combi', 'Age'], axis =1)\n",
        "df_dt.info() # 채울 셋"
      ]
    },
    {
      "cell_type": "code",
      "execution_count": null,
      "id": "5f4f90ac",
      "metadata": {
        "id": "5f4f90ac",
        "outputId": "8a60e62b-66d7-4f91-d462-3e9f49826dca"
      },
      "outputs": [
        {
          "name": "stdout",
          "output_type": "stream",
          "text": [
            "<class 'pandas.core.frame.DataFrame'>\n",
            "Int64Index: 11565 entries, 0 to 12969\n",
            "Data columns (total 12 columns):\n",
            " #   Column        Non-Null Count  Dtype  \n",
            "---  ------        --------------  -----  \n",
            " 0   HomePlanet    11565 non-null  object \n",
            " 1   CryoSleep     11565 non-null  object \n",
            " 2   Cabin1        11565 non-null  object \n",
            " 3   Cabin2        11565 non-null  float64\n",
            " 4   Cabin3        11565 non-null  object \n",
            " 5   Destination   11565 non-null  object \n",
            " 6   VIP           11565 non-null  object \n",
            " 7   RoomService   11565 non-null  float64\n",
            " 8   FoodCourt     11565 non-null  float64\n",
            " 9   ShoppingMall  11565 non-null  float64\n",
            " 10  Spa           11565 non-null  float64\n",
            " 11  VRDeck        11565 non-null  float64\n",
            "dtypes: float64(6), object(6)\n",
            "memory usage: 1.1+ MB\n"
          ]
        }
      ],
      "source": [
        "x= df_dt.dropna(axis=0)\n",
        "x.info() # train용 데이터 완성"
      ]
    },
    {
      "cell_type": "markdown",
      "id": "0e33ada9",
      "metadata": {
        "id": "0e33ada9"
      },
      "source": [
        "## 원-핫 인코딩"
      ]
    },
    {
      "cell_type": "code",
      "execution_count": null,
      "id": "7c693405",
      "metadata": {
        "id": "7c693405"
      },
      "outputs": [],
      "source": [
        "# cabin1, homeplanet\n",
        "encode = pd.get_dummies(x['Cabin1'])\n",
        "x = x.drop('Cabin1', axis =1)\n",
        "x = x.join(encode)\n",
        "encode = pd.get_dummies(x['HomePlanet'])\n",
        "x = x.drop('HomePlanet', axis =1)\n",
        "x = x.join(encode)"
      ]
    },
    {
      "cell_type": "code",
      "execution_count": null,
      "id": "c8f35bc0",
      "metadata": {
        "id": "c8f35bc0",
        "outputId": "2a81c551-805b-4479-d68e-bd24448e45b0"
      },
      "outputs": [
        {
          "data": {
            "text/plain": [
              "False    7283\n",
              "True     4282\n",
              "Name: CryoSleep, dtype: int64"
            ]
          },
          "execution_count": 15,
          "metadata": {},
          "output_type": "execute_result"
        }
      ],
      "source": [
        "x['CryoSleep'].value_counts()"
      ]
    },
    {
      "cell_type": "code",
      "execution_count": null,
      "id": "eb01f5c4",
      "metadata": {
        "id": "eb01f5c4",
        "outputId": "8eed0d75-3148-4521-94de-c180087f1764"
      },
      "outputs": [
        {
          "data": {
            "text/plain": [
              "0.6977950713359273"
            ]
          },
          "execution_count": 1,
          "metadata": {},
          "output_type": "execute_result"
        }
      ],
      "source": [
        "8070 / (8070+2417+1078)"
      ]
    },
    {
      "cell_type": "code",
      "execution_count": null,
      "id": "53b4b8af",
      "metadata": {
        "id": "53b4b8af",
        "outputId": "9d0c68ce-b83c-4979-835b-0e79bf4a58a1"
      },
      "outputs": [
        {
          "data": {
            "text/plain": [
              "TRAPPIST-1e      8070\n",
              "55 Cancri e      2417\n",
              "PSO J318.5-22    1078\n",
              "Name: Destination, dtype: int64"
            ]
          },
          "execution_count": 16,
          "metadata": {},
          "output_type": "execute_result"
        }
      ],
      "source": [
        "x['Destination'].value_counts()"
      ]
    },
    {
      "cell_type": "code",
      "execution_count": null,
      "id": "567c2935",
      "metadata": {
        "id": "567c2935"
      },
      "outputs": [],
      "source": [
        "x['Cabin3'].replace({'P': True,'S': False}, inplace=True)\n",
        "x['Destination'] = x['Destination'].map({\n",
        "    'TRAPPIST-1e':0, '55 Cancri e':1, 'PSO J318.5-22':2})"
      ]
    },
    {
      "cell_type": "code",
      "execution_count": null,
      "id": "bed684a2",
      "metadata": {
        "id": "bed684a2"
      },
      "outputs": [],
      "source": [
        "# boolean으로 변환\n",
        "x['CryoSleep'] = x['CryoSleep'].astype(bool)\n",
        "x['VIP'] = x['VIP'].astype(bool)\n",
        "x['Cabin3'] = x['Cabin3'].astype(bool)\n",
        "x['Destination'] = x['Destination'].astype(int)"
      ]
    },
    {
      "cell_type": "code",
      "execution_count": null,
      "id": "53ac358b",
      "metadata": {
        "id": "53ac358b",
        "outputId": "f20e6509-c4df-4793-da02-557b43129486"
      },
      "outputs": [
        {
          "name": "stdout",
          "output_type": "stream",
          "text": [
            "<class 'pandas.core.frame.DataFrame'>\n",
            "Int64Index: 11565 entries, 0 to 12969\n",
            "Data columns (total 21 columns):\n",
            " #   Column        Non-Null Count  Dtype  \n",
            "---  ------        --------------  -----  \n",
            " 0   CryoSleep     11565 non-null  bool   \n",
            " 1   Cabin2        11565 non-null  float64\n",
            " 2   Cabin3        11565 non-null  bool   \n",
            " 3   Destination   11565 non-null  int32  \n",
            " 4   VIP           11565 non-null  bool   \n",
            " 5   RoomService   11565 non-null  float64\n",
            " 6   FoodCourt     11565 non-null  float64\n",
            " 7   ShoppingMall  11565 non-null  float64\n",
            " 8   Spa           11565 non-null  float64\n",
            " 9   VRDeck        11565 non-null  float64\n",
            " 10  A             11565 non-null  uint8  \n",
            " 11  B             11565 non-null  uint8  \n",
            " 12  C             11565 non-null  uint8  \n",
            " 13  D             11565 non-null  uint8  \n",
            " 14  E             11565 non-null  uint8  \n",
            " 15  F             11565 non-null  uint8  \n",
            " 16  G             11565 non-null  uint8  \n",
            " 17  T             11565 non-null  uint8  \n",
            " 18  Earth         11565 non-null  uint8  \n",
            " 19  Europa        11565 non-null  uint8  \n",
            " 20  Mars          11565 non-null  uint8  \n",
            "dtypes: bool(3), float64(6), int32(1), uint8(11)\n",
            "memory usage: 1.1 MB\n"
          ]
        }
      ],
      "source": [
        "x.info()"
      ]
    },
    {
      "cell_type": "code",
      "execution_count": null,
      "id": "2903d019",
      "metadata": {
        "id": "2903d019",
        "outputId": "f98b2348-21e0-4c70-ffd8-5aa81056c498"
      },
      "outputs": [
        {
          "data": {
            "text/plain": [
              "0    8070\n",
              "1    2417\n",
              "2    1078\n",
              "Name: Destination, dtype: int64"
            ]
          },
          "execution_count": 20,
          "metadata": {},
          "output_type": "execute_result"
        }
      ],
      "source": [
        "x['Destination'].value_counts()"
      ]
    },
    {
      "cell_type": "markdown",
      "id": "1ab1cfeb",
      "metadata": {
        "id": "1ab1cfeb"
      },
      "source": [
        "## 스케일링"
      ]
    },
    {
      "cell_type": "code",
      "execution_count": null,
      "id": "90e4d41d",
      "metadata": {
        "id": "90e4d41d",
        "outputId": "8a5536f6-c6d4-4297-ebfb-8caee5844fa8"
      },
      "outputs": [
        {
          "data": {
            "text/html": [
              "<div>\n",
              "<style scoped>\n",
              "    .dataframe tbody tr th:only-of-type {\n",
              "        vertical-align: middle;\n",
              "    }\n",
              "\n",
              "    .dataframe tbody tr th {\n",
              "        vertical-align: top;\n",
              "    }\n",
              "\n",
              "    .dataframe thead th {\n",
              "        text-align: right;\n",
              "    }\n",
              "</style>\n",
              "<table border=\"1\" class=\"dataframe\">\n",
              "  <thead>\n",
              "    <tr style=\"text-align: right;\">\n",
              "      <th></th>\n",
              "      <th>CryoSleep</th>\n",
              "      <th>Cabin2</th>\n",
              "      <th>Cabin3</th>\n",
              "      <th>Destination</th>\n",
              "      <th>VIP</th>\n",
              "      <th>RoomService</th>\n",
              "      <th>FoodCourt</th>\n",
              "      <th>ShoppingMall</th>\n",
              "      <th>Spa</th>\n",
              "      <th>VRDeck</th>\n",
              "      <th>...</th>\n",
              "      <th>B</th>\n",
              "      <th>C</th>\n",
              "      <th>D</th>\n",
              "      <th>E</th>\n",
              "      <th>F</th>\n",
              "      <th>G</th>\n",
              "      <th>T</th>\n",
              "      <th>Earth</th>\n",
              "      <th>Europa</th>\n",
              "      <th>Mars</th>\n",
              "    </tr>\n",
              "  </thead>\n",
              "  <tbody>\n",
              "    <tr>\n",
              "      <th>0</th>\n",
              "      <td>False</td>\n",
              "      <td>-1.172239</td>\n",
              "      <td>True</td>\n",
              "      <td>0</td>\n",
              "      <td>False</td>\n",
              "      <td>-0.336424</td>\n",
              "      <td>-0.280619</td>\n",
              "      <td>-0.286750</td>\n",
              "      <td>-0.270668</td>\n",
              "      <td>-0.260993</td>\n",
              "      <td>...</td>\n",
              "      <td>1</td>\n",
              "      <td>0</td>\n",
              "      <td>0</td>\n",
              "      <td>0</td>\n",
              "      <td>0</td>\n",
              "      <td>0</td>\n",
              "      <td>0</td>\n",
              "      <td>0</td>\n",
              "      <td>1</td>\n",
              "      <td>0</td>\n",
              "    </tr>\n",
              "    <tr>\n",
              "      <th>1</th>\n",
              "      <td>False</td>\n",
              "      <td>-1.172239</td>\n",
              "      <td>False</td>\n",
              "      <td>0</td>\n",
              "      <td>False</td>\n",
              "      <td>-0.167339</td>\n",
              "      <td>-0.275001</td>\n",
              "      <td>-0.244668</td>\n",
              "      <td>0.216287</td>\n",
              "      <td>-0.221524</td>\n",
              "      <td>...</td>\n",
              "      <td>0</td>\n",
              "      <td>0</td>\n",
              "      <td>0</td>\n",
              "      <td>0</td>\n",
              "      <td>1</td>\n",
              "      <td>0</td>\n",
              "      <td>0</td>\n",
              "      <td>1</td>\n",
              "      <td>0</td>\n",
              "      <td>0</td>\n",
              "    </tr>\n",
              "    <tr>\n",
              "      <th>2</th>\n",
              "      <td>False</td>\n",
              "      <td>-1.172239</td>\n",
              "      <td>False</td>\n",
              "      <td>0</td>\n",
              "      <td>True</td>\n",
              "      <td>-0.269721</td>\n",
              "      <td>1.951716</td>\n",
              "      <td>-0.286750</td>\n",
              "      <td>5.685434</td>\n",
              "      <td>-0.217039</td>\n",
              "      <td>...</td>\n",
              "      <td>0</td>\n",
              "      <td>0</td>\n",
              "      <td>0</td>\n",
              "      <td>0</td>\n",
              "      <td>0</td>\n",
              "      <td>0</td>\n",
              "      <td>0</td>\n",
              "      <td>0</td>\n",
              "      <td>1</td>\n",
              "      <td>0</td>\n",
              "    </tr>\n",
              "    <tr>\n",
              "      <th>3</th>\n",
              "      <td>False</td>\n",
              "      <td>-1.172239</td>\n",
              "      <td>False</td>\n",
              "      <td>0</td>\n",
              "      <td>False</td>\n",
              "      <td>-0.336424</td>\n",
              "      <td>0.520300</td>\n",
              "      <td>0.337736</td>\n",
              "      <td>2.682104</td>\n",
              "      <td>-0.087867</td>\n",
              "      <td>...</td>\n",
              "      <td>0</td>\n",
              "      <td>0</td>\n",
              "      <td>0</td>\n",
              "      <td>0</td>\n",
              "      <td>0</td>\n",
              "      <td>0</td>\n",
              "      <td>0</td>\n",
              "      <td>0</td>\n",
              "      <td>1</td>\n",
              "      <td>0</td>\n",
              "    </tr>\n",
              "    <tr>\n",
              "      <th>4</th>\n",
              "      <td>False</td>\n",
              "      <td>-1.170293</td>\n",
              "      <td>False</td>\n",
              "      <td>0</td>\n",
              "      <td>False</td>\n",
              "      <td>0.133602</td>\n",
              "      <td>-0.236921</td>\n",
              "      <td>-0.032579</td>\n",
              "      <td>0.230478</td>\n",
              "      <td>-0.259199</td>\n",
              "      <td>...</td>\n",
              "      <td>0</td>\n",
              "      <td>0</td>\n",
              "      <td>0</td>\n",
              "      <td>0</td>\n",
              "      <td>1</td>\n",
              "      <td>0</td>\n",
              "      <td>0</td>\n",
              "      <td>1</td>\n",
              "      <td>0</td>\n",
              "      <td>0</td>\n",
              "    </tr>\n",
              "    <tr>\n",
              "      <th>...</th>\n",
              "      <td>...</td>\n",
              "      <td>...</td>\n",
              "      <td>...</td>\n",
              "      <td>...</td>\n",
              "      <td>...</td>\n",
              "      <td>...</td>\n",
              "      <td>...</td>\n",
              "      <td>...</td>\n",
              "      <td>...</td>\n",
              "      <td>...</td>\n",
              "      <td>...</td>\n",
              "      <td>...</td>\n",
              "      <td>...</td>\n",
              "      <td>...</td>\n",
              "      <td>...</td>\n",
              "      <td>...</td>\n",
              "      <td>...</td>\n",
              "      <td>...</td>\n",
              "      <td>...</td>\n",
              "      <td>...</td>\n",
              "      <td>...</td>\n",
              "    </tr>\n",
              "    <tr>\n",
              "      <th>12963</th>\n",
              "      <td>False</td>\n",
              "      <td>-0.631383</td>\n",
              "      <td>False</td>\n",
              "      <td>0</td>\n",
              "      <td>False</td>\n",
              "      <td>-0.263516</td>\n",
              "      <td>-0.280619</td>\n",
              "      <td>6.195440</td>\n",
              "      <td>-0.270668</td>\n",
              "      <td>-0.260993</td>\n",
              "      <td>...</td>\n",
              "      <td>0</td>\n",
              "      <td>0</td>\n",
              "      <td>1</td>\n",
              "      <td>0</td>\n",
              "      <td>0</td>\n",
              "      <td>0</td>\n",
              "      <td>0</td>\n",
              "      <td>0</td>\n",
              "      <td>0</td>\n",
              "      <td>1</td>\n",
              "    </tr>\n",
              "    <tr>\n",
              "      <th>12964</th>\n",
              "      <td>False</td>\n",
              "      <td>2.321923</td>\n",
              "      <td>False</td>\n",
              "      <td>0</td>\n",
              "      <td>False</td>\n",
              "      <td>-0.336424</td>\n",
              "      <td>0.259361</td>\n",
              "      <td>-0.286750</td>\n",
              "      <td>-0.268007</td>\n",
              "      <td>-0.260993</td>\n",
              "      <td>...</td>\n",
              "      <td>0</td>\n",
              "      <td>0</td>\n",
              "      <td>0</td>\n",
              "      <td>0</td>\n",
              "      <td>1</td>\n",
              "      <td>0</td>\n",
              "      <td>0</td>\n",
              "      <td>1</td>\n",
              "      <td>0</td>\n",
              "      <td>0</td>\n",
              "    </tr>\n",
              "    <tr>\n",
              "      <th>12965</th>\n",
              "      <td>True</td>\n",
              "      <td>1.738266</td>\n",
              "      <td>False</td>\n",
              "      <td>0</td>\n",
              "      <td>False</td>\n",
              "      <td>-0.336424</td>\n",
              "      <td>-0.280619</td>\n",
              "      <td>-0.286750</td>\n",
              "      <td>-0.270668</td>\n",
              "      <td>-0.260993</td>\n",
              "      <td>...</td>\n",
              "      <td>0</td>\n",
              "      <td>0</td>\n",
              "      <td>0</td>\n",
              "      <td>0</td>\n",
              "      <td>0</td>\n",
              "      <td>1</td>\n",
              "      <td>0</td>\n",
              "      <td>1</td>\n",
              "      <td>0</td>\n",
              "      <td>0</td>\n",
              "    </tr>\n",
              "    <tr>\n",
              "      <th>12967</th>\n",
              "      <td>True</td>\n",
              "      <td>-0.596364</td>\n",
              "      <td>True</td>\n",
              "      <td>1</td>\n",
              "      <td>False</td>\n",
              "      <td>-0.336424</td>\n",
              "      <td>-0.280619</td>\n",
              "      <td>-0.286750</td>\n",
              "      <td>-0.270668</td>\n",
              "      <td>-0.260993</td>\n",
              "      <td>...</td>\n",
              "      <td>0</td>\n",
              "      <td>0</td>\n",
              "      <td>1</td>\n",
              "      <td>0</td>\n",
              "      <td>0</td>\n",
              "      <td>0</td>\n",
              "      <td>0</td>\n",
              "      <td>0</td>\n",
              "      <td>0</td>\n",
              "      <td>1</td>\n",
              "    </tr>\n",
              "    <tr>\n",
              "      <th>12969</th>\n",
              "      <td>True</td>\n",
              "      <td>1.742157</td>\n",
              "      <td>False</td>\n",
              "      <td>2</td>\n",
              "      <td>False</td>\n",
              "      <td>-0.336424</td>\n",
              "      <td>-0.280619</td>\n",
              "      <td>-0.286750</td>\n",
              "      <td>-0.270668</td>\n",
              "      <td>-0.260993</td>\n",
              "      <td>...</td>\n",
              "      <td>0</td>\n",
              "      <td>0</td>\n",
              "      <td>0</td>\n",
              "      <td>0</td>\n",
              "      <td>0</td>\n",
              "      <td>1</td>\n",
              "      <td>0</td>\n",
              "      <td>1</td>\n",
              "      <td>0</td>\n",
              "      <td>0</td>\n",
              "    </tr>\n",
              "  </tbody>\n",
              "</table>\n",
              "<p>11565 rows × 21 columns</p>\n",
              "</div>"
            ],
            "text/plain": [
              "       CryoSleep    Cabin2  Cabin3  Destination    VIP  RoomService  \\\n",
              "0          False -1.172239    True            0  False    -0.336424   \n",
              "1          False -1.172239   False            0  False    -0.167339   \n",
              "2          False -1.172239   False            0   True    -0.269721   \n",
              "3          False -1.172239   False            0  False    -0.336424   \n",
              "4          False -1.170293   False            0  False     0.133602   \n",
              "...          ...       ...     ...          ...    ...          ...   \n",
              "12963      False -0.631383   False            0  False    -0.263516   \n",
              "12964      False  2.321923   False            0  False    -0.336424   \n",
              "12965       True  1.738266   False            0  False    -0.336424   \n",
              "12967       True -0.596364    True            1  False    -0.336424   \n",
              "12969       True  1.742157   False            2  False    -0.336424   \n",
              "\n",
              "       FoodCourt  ShoppingMall       Spa    VRDeck  ...  B  C  D  E  F  G  T  \\\n",
              "0      -0.280619     -0.286750 -0.270668 -0.260993  ...  1  0  0  0  0  0  0   \n",
              "1      -0.275001     -0.244668  0.216287 -0.221524  ...  0  0  0  0  1  0  0   \n",
              "2       1.951716     -0.286750  5.685434 -0.217039  ...  0  0  0  0  0  0  0   \n",
              "3       0.520300      0.337736  2.682104 -0.087867  ...  0  0  0  0  0  0  0   \n",
              "4      -0.236921     -0.032579  0.230478 -0.259199  ...  0  0  0  0  1  0  0   \n",
              "...          ...           ...       ...       ...  ... .. .. .. .. .. .. ..   \n",
              "12963  -0.280619      6.195440 -0.270668 -0.260993  ...  0  0  1  0  0  0  0   \n",
              "12964   0.259361     -0.286750 -0.268007 -0.260993  ...  0  0  0  0  1  0  0   \n",
              "12965  -0.280619     -0.286750 -0.270668 -0.260993  ...  0  0  0  0  0  1  0   \n",
              "12967  -0.280619     -0.286750 -0.270668 -0.260993  ...  0  0  1  0  0  0  0   \n",
              "12969  -0.280619     -0.286750 -0.270668 -0.260993  ...  0  0  0  0  0  1  0   \n",
              "\n",
              "       Earth  Europa  Mars  \n",
              "0          0       1     0  \n",
              "1          1       0     0  \n",
              "2          0       1     0  \n",
              "3          0       1     0  \n",
              "4          1       0     0  \n",
              "...      ...     ...   ...  \n",
              "12963      0       0     1  \n",
              "12964      1       0     0  \n",
              "12965      1       0     0  \n",
              "12967      0       0     1  \n",
              "12969      1       0     0  \n",
              "\n",
              "[11565 rows x 21 columns]"
            ]
          },
          "execution_count": 23,
          "metadata": {},
          "output_type": "execute_result"
        }
      ],
      "source": [
        "col = ['Cabin2', 'RoomService','FoodCourt','ShoppingMall','Spa','VRDeck']\n",
        "\n",
        "data_scaled(x, col)"
      ]
    },
    {
      "cell_type": "markdown",
      "id": "1a08e194",
      "metadata": {
        "id": "1a08e194"
      },
      "source": [
        "## 복합 샘플링"
      ]
    },
    {
      "cell_type": "code",
      "execution_count": null,
      "id": "8f3f6f66",
      "metadata": {
        "id": "8f3f6f66"
      },
      "outputs": [],
      "source": [
        "x_tr = x.drop('Destination', axis =1) \n",
        "x_lb = x['Destination']"
      ]
    },
    {
      "cell_type": "code",
      "execution_count": null,
      "id": "5ae8f7ee",
      "metadata": {
        "id": "5ae8f7ee"
      },
      "outputs": [],
      "source": [
        "# 복합 샘플링\n",
        "X_sample, y_sample = SMOTEENN(random_state =109).fit_resample(x_tr, x_lb)"
      ]
    },
    {
      "cell_type": "code",
      "execution_count": null,
      "id": "ac9943c4",
      "metadata": {
        "id": "ac9943c4",
        "outputId": "6281044d-3deb-4772-b8c5-2701b3bef0e6"
      },
      "outputs": [
        {
          "data": {
            "text/plain": [
              "2    4634\n",
              "1    3841\n",
              "0    2406\n",
              "Name: Destination, dtype: int64"
            ]
          },
          "execution_count": 29,
          "metadata": {},
          "output_type": "execute_result"
        }
      ],
      "source": [
        "y_sample.value_counts() # 아직 편향이 좀 있지만, 나아졌네"
      ]
    },
    {
      "cell_type": "markdown",
      "id": "5e944bcf",
      "metadata": {
        "id": "5e944bcf"
      },
      "source": [
        "## 세트분리"
      ]
    },
    {
      "cell_type": "code",
      "execution_count": null,
      "id": "235589be",
      "metadata": {
        "id": "235589be"
      },
      "outputs": [],
      "source": [
        "X_train, X_test, y_train, y_test = train_test_split(X_sample, y_sample, random_state=109)"
      ]
    },
    {
      "cell_type": "markdown",
      "id": "1396a4f2",
      "metadata": {
        "id": "1396a4f2"
      },
      "source": [
        "## 모델링"
      ]
    },
    {
      "cell_type": "code",
      "execution_count": null,
      "id": "9bf930a6",
      "metadata": {
        "id": "9bf930a6"
      },
      "outputs": [],
      "source": [
        "# hyperopt 적용을 위한 설정 값 담기\n",
        "xgb_search_space = {'max_depth': hp.quniform('max_depth', 5, 20, 1),\n",
        "                    'min_child_weight': hp.quniform('min_child_weight', 1, 2, 1),\n",
        "                    'learning_rate': hp.uniform('learning_rate', 0.01, 0.2),\n",
        "                    'colsample_bytree': hp.uniform('colsample_bytree', 0.5, 0.95)\n",
        "               }"
      ]
    },
    {
      "cell_type": "code",
      "execution_count": null,
      "id": "7f915eed",
      "metadata": {
        "id": "7f915eed"
      },
      "outputs": [],
      "source": [
        "# 실행을 위한 함수 정의\n",
        "def objective_func(search_space):\n",
        "    xgb_clf = XGBClassifier(n_estimators=100, max_depth=int(search_space['max_depth']),\n",
        "                            min_child_weight=int(search_space['min_child_weight']),\n",
        "                            learning_rate=search_space['learning_rate'],\n",
        "                            colsample_bytree=search_space['colsample_bytree'], \n",
        "                            eval_metric='logloss')\n",
        "    accuracy = cross_val_score(xgb_clf, X_train, y_train, scoring='accuracy', cv=3)\n",
        "    return {'loss':-1 * np.mean(accuracy), 'status': STATUS_OK}"
      ]
    },
    {
      "cell_type": "code",
      "execution_count": null,
      "id": "14feae63",
      "metadata": {
        "id": "14feae63",
        "outputId": "5fd75940-88ac-4cbe-8b91-9f89f28e3c6c"
      },
      "outputs": [
        {
          "name": "stdout",
          "output_type": "stream",
          "text": [
            "100%|███████████████████████████████████████████████| 50/50 [03:51<00:00,  4.63s/trial, best loss: -0.9030637254901962]\n",
            "best: {'colsample_bytree': 0.8239686401837011, 'learning_rate': 0.18147134837616583, 'max_depth': 17.0, 'min_child_weight': 1.0}\n"
          ]
        }
      ],
      "source": [
        "# 최적의 파라미터 찾기\n",
        "trial_val = Trials()\n",
        "best = fmin(fn=objective_func,\n",
        "            space=xgb_search_space,\n",
        "            algo=tpe.suggest,\n",
        "            max_evals=50,\n",
        "            trials=trial_val, rstate=np.random.default_rng(seed=9))\n",
        "print('best:', best)"
      ]
    },
    {
      "cell_type": "code",
      "execution_count": null,
      "id": "14689d4a",
      "metadata": {
        "id": "14689d4a",
        "outputId": "37fe4d57-7797-451c-bc55-79e9ec770bd8"
      },
      "outputs": [
        {
          "name": "stdout",
          "output_type": "stream",
          "text": [
            "정확도 :  0.9209849320102903\n",
            "혼돈행렬 : \n",
            " [[ 469   53   56]\n",
            " [  38  891   43]\n",
            " [  15   10 1146]]\n"
          ]
        }
      ],
      "source": [
        "# 모델링\n",
        "xgb_model = XGBClassifier(n_estimators=200, learning_rate=round(best['learning_rate'], 5), \n",
        "                            max_depth=int(best['max_depth']), min_child_weight=int(best['min_child_weight']),\n",
        "                            colsample_bytree=round(best['colsample_bytree'], 5)\n",
        "                           )\n",
        "xgb_model.fit(X_train, y_train)\n",
        "pred= xgb_model.predict(X_test)\n",
        "print('정확도 : ', accuracy_score(y_test, pred))\n",
        "print('혼돈행렬 : \\n', confusion_matrix(y_test, pred))"
      ]
    },
    {
      "cell_type": "markdown",
      "id": "639d81bc",
      "metadata": {
        "id": "639d81bc"
      },
      "source": [
        "## 예측값 구하기\n",
        "### 머신용 데이터 정리"
      ]
    },
    {
      "cell_type": "code",
      "execution_count": null,
      "id": "60c69c1d",
      "metadata": {
        "id": "60c69c1d",
        "outputId": "81252e16-ed45-420b-b810-3339bf7a88c1"
      },
      "outputs": [
        {
          "name": "stdout",
          "output_type": "stream",
          "text": [
            "<class 'pandas.core.frame.DataFrame'>\n",
            "RangeIndex: 12970 entries, 0 to 12969\n",
            "Data columns (total 12 columns):\n",
            " #   Column        Non-Null Count  Dtype  \n",
            "---  ------        --------------  -----  \n",
            " 0   HomePlanet    12970 non-null  object \n",
            " 1   CryoSleep     12970 non-null  object \n",
            " 2   Cabin1        12804 non-null  object \n",
            " 3   Cabin2        12804 non-null  float64\n",
            " 4   Cabin3        12804 non-null  object \n",
            " 5   Destination   12704 non-null  object \n",
            " 6   VIP           12970 non-null  object \n",
            " 7   RoomService   12776 non-null  float64\n",
            " 8   FoodCourt     12752 non-null  float64\n",
            " 9   ShoppingMall  12760 non-null  float64\n",
            " 10  Spa           12754 non-null  float64\n",
            " 11  VRDeck        12766 non-null  float64\n",
            "dtypes: float64(6), object(6)\n",
            "memory usage: 1.2+ MB\n"
          ]
        }
      ],
      "source": [
        "df_dt.info()"
      ]
    },
    {
      "cell_type": "code",
      "execution_count": null,
      "id": "7f05d953",
      "metadata": {
        "id": "7f05d953",
        "outputId": "560af956-6bab-49bc-b953-6f4c1cbab00d"
      },
      "outputs": [
        {
          "name": "stdout",
          "output_type": "stream",
          "text": [
            "<class 'pandas.core.frame.DataFrame'>\n",
            "Int64Index: 266 entries, 47 to 12968\n",
            "Data columns (total 12 columns):\n",
            " #   Column        Non-Null Count  Dtype  \n",
            "---  ------        --------------  -----  \n",
            " 0   HomePlanet    266 non-null    object \n",
            " 1   CryoSleep     266 non-null    object \n",
            " 2   Cabin1        264 non-null    object \n",
            " 3   Cabin2        264 non-null    float64\n",
            " 4   Cabin3        264 non-null    object \n",
            " 5   Destination   0 non-null      object \n",
            " 6   VIP           266 non-null    object \n",
            " 7   RoomService   264 non-null    float64\n",
            " 8   FoodCourt     262 non-null    float64\n",
            " 9   ShoppingMall  260 non-null    float64\n",
            " 10  Spa           261 non-null    float64\n",
            " 11  VRDeck        259 non-null    float64\n",
            "dtypes: float64(6), object(6)\n",
            "memory usage: 27.0+ KB\n"
          ]
        }
      ],
      "source": [
        "y = df_dt[df_dt['Destination'].isnull()]\n",
        "y.info() "
      ]
    },
    {
      "cell_type": "code",
      "execution_count": null,
      "id": "399709e8",
      "metadata": {
        "id": "399709e8"
      },
      "outputs": [],
      "source": [
        "y_te = y.drop('Destination', axis = 1)"
      ]
    },
    {
      "cell_type": "code",
      "execution_count": null,
      "id": "aaac30ef",
      "metadata": {
        "id": "aaac30ef",
        "outputId": "e7b34088-c603-416e-c136-5969271c8f99"
      },
      "outputs": [
        {
          "name": "stdout",
          "output_type": "stream",
          "text": [
            "<class 'pandas.core.frame.DataFrame'>\n",
            "Int64Index: 266 entries, 47 to 12968\n",
            "Data columns (total 11 columns):\n",
            " #   Column        Non-Null Count  Dtype  \n",
            "---  ------        --------------  -----  \n",
            " 0   HomePlanet    266 non-null    object \n",
            " 1   CryoSleep     266 non-null    object \n",
            " 2   Cabin1        264 non-null    object \n",
            " 3   Cabin2        264 non-null    float64\n",
            " 4   Cabin3        264 non-null    object \n",
            " 5   VIP           266 non-null    object \n",
            " 6   RoomService   264 non-null    float64\n",
            " 7   FoodCourt     262 non-null    float64\n",
            " 8   ShoppingMall  260 non-null    float64\n",
            " 9   Spa           261 non-null    float64\n",
            " 10  VRDeck        259 non-null    float64\n",
            "dtypes: float64(6), object(5)\n",
            "memory usage: 24.9+ KB\n"
          ]
        }
      ],
      "source": [
        "y_te.info()"
      ]
    },
    {
      "cell_type": "code",
      "execution_count": null,
      "id": "8b87d313",
      "metadata": {
        "id": "8b87d313",
        "outputId": "6fa3946d-fde1-4d5a-eda2-1150b98ed1cd"
      },
      "outputs": [
        {
          "data": {
            "text/html": [
              "<div>\n",
              "<style scoped>\n",
              "    .dataframe tbody tr th:only-of-type {\n",
              "        vertical-align: middle;\n",
              "    }\n",
              "\n",
              "    .dataframe tbody tr th {\n",
              "        vertical-align: top;\n",
              "    }\n",
              "\n",
              "    .dataframe thead th {\n",
              "        text-align: right;\n",
              "    }\n",
              "</style>\n",
              "<table border=\"1\" class=\"dataframe\">\n",
              "  <thead>\n",
              "    <tr style=\"text-align: right;\">\n",
              "      <th></th>\n",
              "      <th>CryoSleep</th>\n",
              "      <th>Cabin2</th>\n",
              "      <th>Cabin3</th>\n",
              "      <th>VIP</th>\n",
              "      <th>RoomService</th>\n",
              "      <th>FoodCourt</th>\n",
              "      <th>ShoppingMall</th>\n",
              "      <th>Spa</th>\n",
              "      <th>VRDeck</th>\n",
              "      <th>A</th>\n",
              "      <th>B</th>\n",
              "      <th>C</th>\n",
              "      <th>D</th>\n",
              "      <th>E</th>\n",
              "      <th>F</th>\n",
              "      <th>G</th>\n",
              "      <th>Earth</th>\n",
              "      <th>Europa</th>\n",
              "      <th>Mars</th>\n",
              "    </tr>\n",
              "  </thead>\n",
              "  <tbody>\n",
              "    <tr>\n",
              "      <th>47</th>\n",
              "      <td>True</td>\n",
              "      <td>-1.178292</td>\n",
              "      <td>True</td>\n",
              "      <td>False</td>\n",
              "      <td>-0.410815</td>\n",
              "      <td>-0.353903</td>\n",
              "      <td>-0.422433</td>\n",
              "      <td>-0.269849</td>\n",
              "      <td>-0.273905</td>\n",
              "      <td>0</td>\n",
              "      <td>0</td>\n",
              "      <td>0</td>\n",
              "      <td>0</td>\n",
              "      <td>0</td>\n",
              "      <td>1</td>\n",
              "      <td>0</td>\n",
              "      <td>0</td>\n",
              "      <td>0</td>\n",
              "      <td>1</td>\n",
              "    </tr>\n",
              "    <tr>\n",
              "      <th>128</th>\n",
              "      <td>False</td>\n",
              "      <td>-1.188073</td>\n",
              "      <td>True</td>\n",
              "      <td>False</td>\n",
              "      <td>-0.410815</td>\n",
              "      <td>-0.330370</td>\n",
              "      <td>-0.422433</td>\n",
              "      <td>0.192184</td>\n",
              "      <td>-0.046715</td>\n",
              "      <td>0</td>\n",
              "      <td>0</td>\n",
              "      <td>0</td>\n",
              "      <td>0</td>\n",
              "      <td>1</td>\n",
              "      <td>0</td>\n",
              "      <td>0</td>\n",
              "      <td>1</td>\n",
              "      <td>0</td>\n",
              "      <td>0</td>\n",
              "    </tr>\n",
              "    <tr>\n",
              "      <th>139</th>\n",
              "      <td>False</td>\n",
              "      <td>-1.135255</td>\n",
              "      <td>True</td>\n",
              "      <td>False</td>\n",
              "      <td>-0.410815</td>\n",
              "      <td>-0.353903</td>\n",
              "      <td>-0.422433</td>\n",
              "      <td>-0.269849</td>\n",
              "      <td>0.392299</td>\n",
              "      <td>0</td>\n",
              "      <td>0</td>\n",
              "      <td>0</td>\n",
              "      <td>0</td>\n",
              "      <td>0</td>\n",
              "      <td>1</td>\n",
              "      <td>0</td>\n",
              "      <td>1</td>\n",
              "      <td>0</td>\n",
              "      <td>0</td>\n",
              "    </tr>\n",
              "    <tr>\n",
              "      <th>347</th>\n",
              "      <td>False</td>\n",
              "      <td>-1.072656</td>\n",
              "      <td>True</td>\n",
              "      <td>False</td>\n",
              "      <td>0.306721</td>\n",
              "      <td>-0.353903</td>\n",
              "      <td>-0.422433</td>\n",
              "      <td>-0.266572</td>\n",
              "      <td>0.129988</td>\n",
              "      <td>0</td>\n",
              "      <td>0</td>\n",
              "      <td>0</td>\n",
              "      <td>0</td>\n",
              "      <td>0</td>\n",
              "      <td>0</td>\n",
              "      <td>1</td>\n",
              "      <td>1</td>\n",
              "      <td>0</td>\n",
              "      <td>0</td>\n",
              "    </tr>\n",
              "    <tr>\n",
              "      <th>430</th>\n",
              "      <td>True</td>\n",
              "      <td>-1.066787</td>\n",
              "      <td>True</td>\n",
              "      <td>False</td>\n",
              "      <td>-0.410815</td>\n",
              "      <td>-0.353903</td>\n",
              "      <td>-0.422433</td>\n",
              "      <td>-0.269849</td>\n",
              "      <td>-0.273905</td>\n",
              "      <td>0</td>\n",
              "      <td>0</td>\n",
              "      <td>0</td>\n",
              "      <td>0</td>\n",
              "      <td>0</td>\n",
              "      <td>0</td>\n",
              "      <td>1</td>\n",
              "      <td>1</td>\n",
              "      <td>0</td>\n",
              "      <td>0</td>\n",
              "    </tr>\n",
              "  </tbody>\n",
              "</table>\n",
              "</div>"
            ],
            "text/plain": [
              "     CryoSleep    Cabin2  Cabin3    VIP  RoomService  FoodCourt  ShoppingMall  \\\n",
              "47        True -1.178292    True  False    -0.410815  -0.353903     -0.422433   \n",
              "128      False -1.188073    True  False    -0.410815  -0.330370     -0.422433   \n",
              "139      False -1.135255    True  False    -0.410815  -0.353903     -0.422433   \n",
              "347      False -1.072656    True  False     0.306721  -0.353903     -0.422433   \n",
              "430       True -1.066787    True  False    -0.410815  -0.353903     -0.422433   \n",
              "\n",
              "          Spa    VRDeck  A  B  C  D  E  F  G  Earth  Europa  Mars  \n",
              "47  -0.269849 -0.273905  0  0  0  0  0  1  0      0       0     1  \n",
              "128  0.192184 -0.046715  0  0  0  0  1  0  0      1       0     0  \n",
              "139 -0.269849  0.392299  0  0  0  0  0  1  0      1       0     0  \n",
              "347 -0.266572  0.129988  0  0  0  0  0  0  1      1       0     0  \n",
              "430 -0.269849 -0.273905  0  0  0  0  0  0  1      1       0     0  "
            ]
          },
          "execution_count": 54,
          "metadata": {},
          "output_type": "execute_result"
        }
      ],
      "source": [
        "y_te.head()"
      ]
    },
    {
      "cell_type": "code",
      "execution_count": null,
      "id": "9812ecaa",
      "metadata": {
        "id": "9812ecaa"
      },
      "outputs": [],
      "source": [
        "# 원-핫 인코딩\n",
        "# cabin1, homeplanet\n",
        "encode = pd.get_dummies(df_dt['Cabin1'])\n",
        "df_dt = df_dt.drop('Cabin1', axis =1)\n",
        "df_dt = df_dt.join(encode)\n",
        "encode = pd.get_dummies(df_dt['HomePlanet'])\n",
        "df_dt = df_dt.drop('HomePlanet', axis =1)\n",
        "df_dt = df_dt.join(encode)"
      ]
    },
    {
      "cell_type": "code",
      "execution_count": null,
      "id": "158413b4",
      "metadata": {
        "id": "158413b4"
      },
      "outputs": [],
      "source": [
        "# boolean으로 변환\n",
        "df_dt['CryoSleep'] = df_dt['CryoSleep'].astype(bool)\n",
        "df_dt['VIP'] = df_dt['VIP'].astype(bool)\n",
        "df_dt['Cabin3'] = df_dt['Cabin3'].astype(bool)"
      ]
    },
    {
      "cell_type": "code",
      "execution_count": null,
      "id": "622ba5b0",
      "metadata": {
        "scrolled": true,
        "id": "622ba5b0",
        "outputId": "1576dc3e-1e1a-4f06-f4fe-9efc50816787"
      },
      "outputs": [
        {
          "data": {
            "text/html": [
              "<div>\n",
              "<style scoped>\n",
              "    .dataframe tbody tr th:only-of-type {\n",
              "        vertical-align: middle;\n",
              "    }\n",
              "\n",
              "    .dataframe tbody tr th {\n",
              "        vertical-align: top;\n",
              "    }\n",
              "\n",
              "    .dataframe thead th {\n",
              "        text-align: right;\n",
              "    }\n",
              "</style>\n",
              "<table border=\"1\" class=\"dataframe\">\n",
              "  <thead>\n",
              "    <tr style=\"text-align: right;\">\n",
              "      <th></th>\n",
              "      <th>CryoSleep</th>\n",
              "      <th>Cabin2</th>\n",
              "      <th>Cabin3</th>\n",
              "      <th>Destination</th>\n",
              "      <th>VIP</th>\n",
              "      <th>RoomService</th>\n",
              "      <th>FoodCourt</th>\n",
              "      <th>ShoppingMall</th>\n",
              "      <th>Spa</th>\n",
              "      <th>VRDeck</th>\n",
              "      <th>...</th>\n",
              "      <th>B</th>\n",
              "      <th>C</th>\n",
              "      <th>D</th>\n",
              "      <th>E</th>\n",
              "      <th>F</th>\n",
              "      <th>G</th>\n",
              "      <th>T</th>\n",
              "      <th>Earth</th>\n",
              "      <th>Europa</th>\n",
              "      <th>Mars</th>\n",
              "    </tr>\n",
              "  </thead>\n",
              "  <tbody>\n",
              "    <tr>\n",
              "      <th>0</th>\n",
              "      <td>False</td>\n",
              "      <td>-1.174864</td>\n",
              "      <td>True</td>\n",
              "      <td>TRAPPIST-1e</td>\n",
              "      <td>False</td>\n",
              "      <td>-0.343152</td>\n",
              "      <td>-0.284403</td>\n",
              "      <td>-0.294957</td>\n",
              "      <td>-0.272138</td>\n",
              "      <td>-0.259273</td>\n",
              "      <td>...</td>\n",
              "      <td>1</td>\n",
              "      <td>0</td>\n",
              "      <td>0</td>\n",
              "      <td>0</td>\n",
              "      <td>0</td>\n",
              "      <td>0</td>\n",
              "      <td>0</td>\n",
              "      <td>0</td>\n",
              "      <td>1</td>\n",
              "      <td>0</td>\n",
              "    </tr>\n",
              "    <tr>\n",
              "      <th>1</th>\n",
              "      <td>False</td>\n",
              "      <td>-1.174864</td>\n",
              "      <td>True</td>\n",
              "      <td>TRAPPIST-1e</td>\n",
              "      <td>False</td>\n",
              "      <td>-0.174435</td>\n",
              "      <td>-0.278708</td>\n",
              "      <td>-0.252478</td>\n",
              "      <td>0.214786</td>\n",
              "      <td>-0.221901</td>\n",
              "      <td>...</td>\n",
              "      <td>0</td>\n",
              "      <td>0</td>\n",
              "      <td>0</td>\n",
              "      <td>0</td>\n",
              "      <td>1</td>\n",
              "      <td>0</td>\n",
              "      <td>0</td>\n",
              "      <td>1</td>\n",
              "      <td>0</td>\n",
              "      <td>0</td>\n",
              "    </tr>\n",
              "    <tr>\n",
              "      <th>2</th>\n",
              "      <td>False</td>\n",
              "      <td>-1.174864</td>\n",
              "      <td>True</td>\n",
              "      <td>TRAPPIST-1e</td>\n",
              "      <td>True</td>\n",
              "      <td>-0.276594</td>\n",
              "      <td>1.978442</td>\n",
              "      <td>-0.294957</td>\n",
              "      <td>5.683589</td>\n",
              "      <td>-0.217654</td>\n",
              "      <td>...</td>\n",
              "      <td>0</td>\n",
              "      <td>0</td>\n",
              "      <td>0</td>\n",
              "      <td>0</td>\n",
              "      <td>0</td>\n",
              "      <td>0</td>\n",
              "      <td>0</td>\n",
              "      <td>0</td>\n",
              "      <td>1</td>\n",
              "      <td>0</td>\n",
              "    </tr>\n",
              "    <tr>\n",
              "      <th>3</th>\n",
              "      <td>False</td>\n",
              "      <td>-1.174864</td>\n",
              "      <td>True</td>\n",
              "      <td>TRAPPIST-1e</td>\n",
              "      <td>False</td>\n",
              "      <td>-0.343152</td>\n",
              "      <td>0.527462</td>\n",
              "      <td>0.335431</td>\n",
              "      <td>2.680448</td>\n",
              "      <td>-0.095344</td>\n",
              "      <td>...</td>\n",
              "      <td>0</td>\n",
              "      <td>0</td>\n",
              "      <td>0</td>\n",
              "      <td>0</td>\n",
              "      <td>0</td>\n",
              "      <td>0</td>\n",
              "      <td>0</td>\n",
              "      <td>0</td>\n",
              "      <td>1</td>\n",
              "      <td>0</td>\n",
              "    </tr>\n",
              "    <tr>\n",
              "      <th>4</th>\n",
              "      <td>False</td>\n",
              "      <td>-1.172914</td>\n",
              "      <td>True</td>\n",
              "      <td>TRAPPIST-1e</td>\n",
              "      <td>False</td>\n",
              "      <td>0.125850</td>\n",
              "      <td>-0.240108</td>\n",
              "      <td>-0.038384</td>\n",
              "      <td>0.228976</td>\n",
              "      <td>-0.257575</td>\n",
              "      <td>...</td>\n",
              "      <td>0</td>\n",
              "      <td>0</td>\n",
              "      <td>0</td>\n",
              "      <td>0</td>\n",
              "      <td>1</td>\n",
              "      <td>0</td>\n",
              "      <td>0</td>\n",
              "      <td>1</td>\n",
              "      <td>0</td>\n",
              "      <td>0</td>\n",
              "    </tr>\n",
              "    <tr>\n",
              "      <th>...</th>\n",
              "      <td>...</td>\n",
              "      <td>...</td>\n",
              "      <td>...</td>\n",
              "      <td>...</td>\n",
              "      <td>...</td>\n",
              "      <td>...</td>\n",
              "      <td>...</td>\n",
              "      <td>...</td>\n",
              "      <td>...</td>\n",
              "      <td>...</td>\n",
              "      <td>...</td>\n",
              "      <td>...</td>\n",
              "      <td>...</td>\n",
              "      <td>...</td>\n",
              "      <td>...</td>\n",
              "      <td>...</td>\n",
              "      <td>...</td>\n",
              "      <td>...</td>\n",
              "      <td>...</td>\n",
              "      <td>...</td>\n",
              "      <td>...</td>\n",
              "    </tr>\n",
              "    <tr>\n",
              "      <th>12965</th>\n",
              "      <td>True</td>\n",
              "      <td>1.741991</td>\n",
              "      <td>True</td>\n",
              "      <td>TRAPPIST-1e</td>\n",
              "      <td>False</td>\n",
              "      <td>-0.343152</td>\n",
              "      <td>-0.284403</td>\n",
              "      <td>-0.294957</td>\n",
              "      <td>-0.272138</td>\n",
              "      <td>-0.259273</td>\n",
              "      <td>...</td>\n",
              "      <td>0</td>\n",
              "      <td>0</td>\n",
              "      <td>0</td>\n",
              "      <td>0</td>\n",
              "      <td>0</td>\n",
              "      <td>1</td>\n",
              "      <td>0</td>\n",
              "      <td>1</td>\n",
              "      <td>0</td>\n",
              "      <td>0</td>\n",
              "    </tr>\n",
              "    <tr>\n",
              "      <th>12966</th>\n",
              "      <td>False</td>\n",
              "      <td>NaN</td>\n",
              "      <td>True</td>\n",
              "      <td>TRAPPIST-1e</td>\n",
              "      <td>False</td>\n",
              "      <td>-0.343152</td>\n",
              "      <td>0.251567</td>\n",
              "      <td>-0.266071</td>\n",
              "      <td>-0.263269</td>\n",
              "      <td>-0.136963</td>\n",
              "      <td>...</td>\n",
              "      <td>0</td>\n",
              "      <td>0</td>\n",
              "      <td>0</td>\n",
              "      <td>0</td>\n",
              "      <td>0</td>\n",
              "      <td>0</td>\n",
              "      <td>0</td>\n",
              "      <td>1</td>\n",
              "      <td>0</td>\n",
              "      <td>0</td>\n",
              "    </tr>\n",
              "    <tr>\n",
              "      <th>12967</th>\n",
              "      <td>True</td>\n",
              "      <td>-0.597732</td>\n",
              "      <td>True</td>\n",
              "      <td>55 Cancri e</td>\n",
              "      <td>False</td>\n",
              "      <td>-0.343152</td>\n",
              "      <td>-0.284403</td>\n",
              "      <td>-0.294957</td>\n",
              "      <td>-0.272138</td>\n",
              "      <td>-0.259273</td>\n",
              "      <td>...</td>\n",
              "      <td>0</td>\n",
              "      <td>0</td>\n",
              "      <td>1</td>\n",
              "      <td>0</td>\n",
              "      <td>0</td>\n",
              "      <td>0</td>\n",
              "      <td>0</td>\n",
              "      <td>0</td>\n",
              "      <td>0</td>\n",
              "      <td>1</td>\n",
              "    </tr>\n",
              "    <tr>\n",
              "      <th>12968</th>\n",
              "      <td>False</td>\n",
              "      <td>-0.595783</td>\n",
              "      <td>True</td>\n",
              "      <td>NaN</td>\n",
              "      <td>False</td>\n",
              "      <td>-0.343152</td>\n",
              "      <td>1.411465</td>\n",
              "      <td>-0.294957</td>\n",
              "      <td>-0.272138</td>\n",
              "      <td>0.184950</td>\n",
              "      <td>...</td>\n",
              "      <td>0</td>\n",
              "      <td>0</td>\n",
              "      <td>1</td>\n",
              "      <td>0</td>\n",
              "      <td>0</td>\n",
              "      <td>0</td>\n",
              "      <td>0</td>\n",
              "      <td>0</td>\n",
              "      <td>1</td>\n",
              "      <td>0</td>\n",
              "    </tr>\n",
              "    <tr>\n",
              "      <th>12969</th>\n",
              "      <td>True</td>\n",
              "      <td>1.745890</td>\n",
              "      <td>True</td>\n",
              "      <td>PSO J318.5-22</td>\n",
              "      <td>False</td>\n",
              "      <td>-0.343152</td>\n",
              "      <td>-0.284403</td>\n",
              "      <td>-0.294957</td>\n",
              "      <td>-0.272138</td>\n",
              "      <td>-0.259273</td>\n",
              "      <td>...</td>\n",
              "      <td>0</td>\n",
              "      <td>0</td>\n",
              "      <td>0</td>\n",
              "      <td>0</td>\n",
              "      <td>0</td>\n",
              "      <td>1</td>\n",
              "      <td>0</td>\n",
              "      <td>1</td>\n",
              "      <td>0</td>\n",
              "      <td>0</td>\n",
              "    </tr>\n",
              "  </tbody>\n",
              "</table>\n",
              "<p>12970 rows × 21 columns</p>\n",
              "</div>"
            ],
            "text/plain": [
              "       CryoSleep    Cabin2  Cabin3    Destination    VIP  RoomService  \\\n",
              "0          False -1.174864    True    TRAPPIST-1e  False    -0.343152   \n",
              "1          False -1.174864    True    TRAPPIST-1e  False    -0.174435   \n",
              "2          False -1.174864    True    TRAPPIST-1e   True    -0.276594   \n",
              "3          False -1.174864    True    TRAPPIST-1e  False    -0.343152   \n",
              "4          False -1.172914    True    TRAPPIST-1e  False     0.125850   \n",
              "...          ...       ...     ...            ...    ...          ...   \n",
              "12965       True  1.741991    True    TRAPPIST-1e  False    -0.343152   \n",
              "12966      False       NaN    True    TRAPPIST-1e  False    -0.343152   \n",
              "12967       True -0.597732    True    55 Cancri e  False    -0.343152   \n",
              "12968      False -0.595783    True            NaN  False    -0.343152   \n",
              "12969       True  1.745890    True  PSO J318.5-22  False    -0.343152   \n",
              "\n",
              "       FoodCourt  ShoppingMall       Spa    VRDeck  ...  B  C  D  E  F  G  T  \\\n",
              "0      -0.284403     -0.294957 -0.272138 -0.259273  ...  1  0  0  0  0  0  0   \n",
              "1      -0.278708     -0.252478  0.214786 -0.221901  ...  0  0  0  0  1  0  0   \n",
              "2       1.978442     -0.294957  5.683589 -0.217654  ...  0  0  0  0  0  0  0   \n",
              "3       0.527462      0.335431  2.680448 -0.095344  ...  0  0  0  0  0  0  0   \n",
              "4      -0.240108     -0.038384  0.228976 -0.257575  ...  0  0  0  0  1  0  0   \n",
              "...          ...           ...       ...       ...  ... .. .. .. .. .. .. ..   \n",
              "12965  -0.284403     -0.294957 -0.272138 -0.259273  ...  0  0  0  0  0  1  0   \n",
              "12966   0.251567     -0.266071 -0.263269 -0.136963  ...  0  0  0  0  0  0  0   \n",
              "12967  -0.284403     -0.294957 -0.272138 -0.259273  ...  0  0  1  0  0  0  0   \n",
              "12968   1.411465     -0.294957 -0.272138  0.184950  ...  0  0  1  0  0  0  0   \n",
              "12969  -0.284403     -0.294957 -0.272138 -0.259273  ...  0  0  0  0  0  1  0   \n",
              "\n",
              "       Earth  Europa  Mars  \n",
              "0          0       1     0  \n",
              "1          1       0     0  \n",
              "2          0       1     0  \n",
              "3          0       1     0  \n",
              "4          1       0     0  \n",
              "...      ...     ...   ...  \n",
              "12965      1       0     0  \n",
              "12966      1       0     0  \n",
              "12967      0       0     1  \n",
              "12968      0       1     0  \n",
              "12969      1       0     0  \n",
              "\n",
              "[12970 rows x 21 columns]"
            ]
          },
          "execution_count": 64,
          "metadata": {},
          "output_type": "execute_result"
        }
      ],
      "source": [
        "# 스케일링\n",
        "data_scaled(df_dt, col)"
      ]
    },
    {
      "cell_type": "code",
      "execution_count": null,
      "id": "37e1abc3",
      "metadata": {
        "id": "37e1abc3",
        "outputId": "dbc10e76-c843-4bed-e48d-5436c94bf235"
      },
      "outputs": [
        {
          "name": "stdout",
          "output_type": "stream",
          "text": [
            "<class 'pandas.core.frame.DataFrame'>\n",
            "Int64Index: 266 entries, 47 to 12968\n",
            "Data columns (total 21 columns):\n",
            " #   Column        Non-Null Count  Dtype  \n",
            "---  ------        --------------  -----  \n",
            " 0   CryoSleep     266 non-null    bool   \n",
            " 1   Cabin2        264 non-null    float64\n",
            " 2   Cabin3        266 non-null    bool   \n",
            " 3   Destination   0 non-null      object \n",
            " 4   VIP           266 non-null    bool   \n",
            " 5   RoomService   264 non-null    float64\n",
            " 6   FoodCourt     262 non-null    float64\n",
            " 7   ShoppingMall  260 non-null    float64\n",
            " 8   Spa           261 non-null    float64\n",
            " 9   VRDeck        259 non-null    float64\n",
            " 10  A             266 non-null    uint8  \n",
            " 11  B             266 non-null    uint8  \n",
            " 12  C             266 non-null    uint8  \n",
            " 13  D             266 non-null    uint8  \n",
            " 14  E             266 non-null    uint8  \n",
            " 15  F             266 non-null    uint8  \n",
            " 16  G             266 non-null    uint8  \n",
            " 17  T             266 non-null    uint8  \n",
            " 18  Earth         266 non-null    uint8  \n",
            " 19  Europa        266 non-null    uint8  \n",
            " 20  Mars          266 non-null    uint8  \n",
            "dtypes: bool(3), float64(6), object(1), uint8(11)\n",
            "memory usage: 20.3+ KB\n"
          ]
        }
      ],
      "source": [
        "# 머신 돌릴 데이터\n",
        "y_te = df_dt[df_dt['Destination'].isnull()]\n",
        "y_te.info() "
      ]
    },
    {
      "cell_type": "code",
      "execution_count": null,
      "id": "eca92905",
      "metadata": {
        "id": "eca92905"
      },
      "outputs": [],
      "source": [
        "# label값 제외\n",
        "y_te = y_te.drop('Destination', axis =1)"
      ]
    },
    {
      "cell_type": "markdown",
      "id": "a3f0e589",
      "metadata": {
        "id": "a3f0e589"
      },
      "source": [
        "### 예측값 넣을 df 정의"
      ]
    },
    {
      "cell_type": "code",
      "execution_count": null,
      "id": "209a3655",
      "metadata": {
        "id": "209a3655",
        "outputId": "9ea40dfa-70c8-4c98-847e-5411c1c9b49f"
      },
      "outputs": [
        {
          "name": "stdout",
          "output_type": "stream",
          "text": [
            "<class 'pandas.core.frame.DataFrame'>\n",
            "RangeIndex: 12970 entries, 0 to 12969\n",
            "Data columns (total 18 columns):\n",
            " #   Column        Non-Null Count  Dtype  \n",
            "---  ------        --------------  -----  \n",
            " 0   PassengerId   12970 non-null  object \n",
            " 1   HomePlanet    12970 non-null  object \n",
            " 2   CryoSleep     12970 non-null  bool   \n",
            " 3   Cabin1        12804 non-null  object \n",
            " 4   Cabin2        12804 non-null  float64\n",
            " 5   Combi         12804 non-null  object \n",
            " 6   Cabin3        12804 non-null  object \n",
            " 7   Cabin         12804 non-null  object \n",
            " 8   Destination   12704 non-null  object \n",
            " 9   Age           12700 non-null  float64\n",
            " 10  VIP           12970 non-null  bool   \n",
            " 11  RoomService   12776 non-null  float64\n",
            " 12  FoodCourt     12752 non-null  float64\n",
            " 13  ShoppingMall  12760 non-null  float64\n",
            " 14  Spa           12754 non-null  float64\n",
            " 15  VRDeck        12766 non-null  float64\n",
            " 16  Name          12676 non-null  object \n",
            " 17  Transported   8693 non-null   float64\n",
            "dtypes: bool(2), float64(8), object(8)\n",
            "memory usage: 1.6+ MB\n"
          ]
        }
      ],
      "source": [
        "data = pd.read_excel('C:/Users/admin/Desktop/sparta/train_test_filled_hp_cs_vp.xlsx')\n",
        "data.info()"
      ]
    },
    {
      "cell_type": "code",
      "execution_count": null,
      "id": "7cab7fe7",
      "metadata": {
        "id": "7cab7fe7",
        "outputId": "8fde2a25-3c04-4a9d-84be-b94b821b6598"
      },
      "outputs": [
        {
          "data": {
            "text/html": [
              "<div>\n",
              "<style scoped>\n",
              "    .dataframe tbody tr th:only-of-type {\n",
              "        vertical-align: middle;\n",
              "    }\n",
              "\n",
              "    .dataframe tbody tr th {\n",
              "        vertical-align: top;\n",
              "    }\n",
              "\n",
              "    .dataframe thead th {\n",
              "        text-align: right;\n",
              "    }\n",
              "</style>\n",
              "<table border=\"1\" class=\"dataframe\">\n",
              "  <thead>\n",
              "    <tr style=\"text-align: right;\">\n",
              "      <th></th>\n",
              "      <th>PassengerId</th>\n",
              "      <th>HomePlanet</th>\n",
              "      <th>CryoSleep</th>\n",
              "      <th>Cabin1</th>\n",
              "      <th>Cabin2</th>\n",
              "      <th>Combi</th>\n",
              "      <th>Cabin3</th>\n",
              "      <th>Cabin</th>\n",
              "      <th>Destination</th>\n",
              "      <th>Age</th>\n",
              "      <th>VIP</th>\n",
              "      <th>RoomService</th>\n",
              "      <th>FoodCourt</th>\n",
              "      <th>ShoppingMall</th>\n",
              "      <th>Spa</th>\n",
              "      <th>VRDeck</th>\n",
              "      <th>Name</th>\n",
              "      <th>Transported</th>\n",
              "    </tr>\n",
              "  </thead>\n",
              "  <tbody>\n",
              "    <tr>\n",
              "      <th>47</th>\n",
              "      <td>0045_02</td>\n",
              "      <td>Mars</td>\n",
              "      <td>True</td>\n",
              "      <td>F</td>\n",
              "      <td>10.0</td>\n",
              "      <td>F10</td>\n",
              "      <td>P</td>\n",
              "      <td>F/10/P</td>\n",
              "      <td>NaN</td>\n",
              "      <td>19.0</td>\n",
              "      <td>False</td>\n",
              "      <td>0.0</td>\n",
              "      <td>0.0</td>\n",
              "      <td>0.0</td>\n",
              "      <td>0.0</td>\n",
              "      <td>0.0</td>\n",
              "      <td>Mass Chmad</td>\n",
              "      <td>1.0</td>\n",
              "    </tr>\n",
              "    <tr>\n",
              "      <th>128</th>\n",
              "      <td>0138_02</td>\n",
              "      <td>Earth</td>\n",
              "      <td>False</td>\n",
              "      <td>E</td>\n",
              "      <td>5.0</td>\n",
              "      <td>E5</td>\n",
              "      <td>P</td>\n",
              "      <td>E/5/P</td>\n",
              "      <td>NaN</td>\n",
              "      <td>34.0</td>\n",
              "      <td>False</td>\n",
              "      <td>0.0</td>\n",
              "      <td>22.0</td>\n",
              "      <td>0.0</td>\n",
              "      <td>564.0</td>\n",
              "      <td>207.0</td>\n",
              "      <td>Monah Gambs</td>\n",
              "      <td>0.0</td>\n",
              "    </tr>\n",
              "    <tr>\n",
              "      <th>139</th>\n",
              "      <td>0152_01</td>\n",
              "      <td>Earth</td>\n",
              "      <td>False</td>\n",
              "      <td>F</td>\n",
              "      <td>32.0</td>\n",
              "      <td>F32</td>\n",
              "      <td>P</td>\n",
              "      <td>F/32/P</td>\n",
              "      <td>NaN</td>\n",
              "      <td>41.0</td>\n",
              "      <td>False</td>\n",
              "      <td>0.0</td>\n",
              "      <td>0.0</td>\n",
              "      <td>0.0</td>\n",
              "      <td>0.0</td>\n",
              "      <td>607.0</td>\n",
              "      <td>Andan Estron</td>\n",
              "      <td>0.0</td>\n",
              "    </tr>\n",
              "    <tr>\n",
              "      <th>347</th>\n",
              "      <td>0382_01</td>\n",
              "      <td>Earth</td>\n",
              "      <td>False</td>\n",
              "      <td>G</td>\n",
              "      <td>64.0</td>\n",
              "      <td>G64</td>\n",
              "      <td>P</td>\n",
              "      <td>G/64/P</td>\n",
              "      <td>NaN</td>\n",
              "      <td>23.0</td>\n",
              "      <td>False</td>\n",
              "      <td>348.0</td>\n",
              "      <td>0.0</td>\n",
              "      <td>0.0</td>\n",
              "      <td>4.0</td>\n",
              "      <td>368.0</td>\n",
              "      <td>Blanie Floydendley</td>\n",
              "      <td>0.0</td>\n",
              "    </tr>\n",
              "    <tr>\n",
              "      <th>430</th>\n",
              "      <td>0462_01</td>\n",
              "      <td>Earth</td>\n",
              "      <td>True</td>\n",
              "      <td>G</td>\n",
              "      <td>67.0</td>\n",
              "      <td>G67</td>\n",
              "      <td>S</td>\n",
              "      <td>G/67/S</td>\n",
              "      <td>NaN</td>\n",
              "      <td>50.0</td>\n",
              "      <td>False</td>\n",
              "      <td>0.0</td>\n",
              "      <td>0.0</td>\n",
              "      <td>0.0</td>\n",
              "      <td>0.0</td>\n",
              "      <td>0.0</td>\n",
              "      <td>Ronia Sosanturney</td>\n",
              "      <td>0.0</td>\n",
              "    </tr>\n",
              "  </tbody>\n",
              "</table>\n",
              "</div>"
            ],
            "text/plain": [
              "    PassengerId HomePlanet  CryoSleep Cabin1  Cabin2 Combi Cabin3   Cabin  \\\n",
              "47      0045_02       Mars       True      F    10.0   F10      P  F/10/P   \n",
              "128     0138_02      Earth      False      E     5.0    E5      P   E/5/P   \n",
              "139     0152_01      Earth      False      F    32.0   F32      P  F/32/P   \n",
              "347     0382_01      Earth      False      G    64.0   G64      P  G/64/P   \n",
              "430     0462_01      Earth       True      G    67.0   G67      S  G/67/S   \n",
              "\n",
              "    Destination   Age    VIP  RoomService  FoodCourt  ShoppingMall    Spa  \\\n",
              "47          NaN  19.0  False          0.0        0.0           0.0    0.0   \n",
              "128         NaN  34.0  False          0.0       22.0           0.0  564.0   \n",
              "139         NaN  41.0  False          0.0        0.0           0.0    0.0   \n",
              "347         NaN  23.0  False        348.0        0.0           0.0    4.0   \n",
              "430         NaN  50.0  False          0.0        0.0           0.0    0.0   \n",
              "\n",
              "     VRDeck                Name  Transported  \n",
              "47      0.0          Mass Chmad          1.0  \n",
              "128   207.0         Monah Gambs          0.0  \n",
              "139   607.0        Andan Estron          0.0  \n",
              "347   368.0  Blanie Floydendley          0.0  \n",
              "430     0.0   Ronia Sosanturney          0.0  "
            ]
          },
          "execution_count": 75,
          "metadata": {},
          "output_type": "execute_result"
        }
      ],
      "source": [
        "q = data[data['Destination'].isna()]\n",
        "q.head() # Destination 값 넣을 df"
      ]
    },
    {
      "cell_type": "code",
      "execution_count": null,
      "id": "3edb76fd",
      "metadata": {
        "id": "3edb76fd",
        "outputId": "a64f68b2-6f08-48ed-a68c-089052ed858f"
      },
      "outputs": [
        {
          "name": "stdout",
          "output_type": "stream",
          "text": [
            "<class 'pandas.core.frame.DataFrame'>\n",
            "Int64Index: 266 entries, 47 to 12968\n",
            "Data columns (total 18 columns):\n",
            " #   Column        Non-Null Count  Dtype  \n",
            "---  ------        --------------  -----  \n",
            " 0   PassengerId   266 non-null    object \n",
            " 1   HomePlanet    266 non-null    object \n",
            " 2   CryoSleep     266 non-null    bool   \n",
            " 3   Cabin1        264 non-null    object \n",
            " 4   Cabin2        264 non-null    float64\n",
            " 5   Combi         264 non-null    object \n",
            " 6   Cabin3        264 non-null    object \n",
            " 7   Cabin         264 non-null    object \n",
            " 8   Destination   0 non-null      object \n",
            " 9   Age           258 non-null    float64\n",
            " 10  VIP           266 non-null    bool   \n",
            " 11  RoomService   264 non-null    float64\n",
            " 12  FoodCourt     262 non-null    float64\n",
            " 13  ShoppingMall  260 non-null    float64\n",
            " 14  Spa           261 non-null    float64\n",
            " 15  VRDeck        259 non-null    float64\n",
            " 16  Name          263 non-null    object \n",
            " 17  Transported   174 non-null    float64\n",
            "dtypes: bool(2), float64(8), object(8)\n",
            "memory usage: 35.8+ KB\n"
          ]
        }
      ],
      "source": [
        "q.info()"
      ]
    },
    {
      "cell_type": "markdown",
      "id": "c4d155fb",
      "metadata": {
        "id": "c4d155fb"
      },
      "source": [
        "### 예측값 내보내기"
      ]
    },
    {
      "cell_type": "code",
      "execution_count": null,
      "id": "fb3d7a78",
      "metadata": {
        "id": "fb3d7a78"
      },
      "outputs": [],
      "source": [
        "q['predict_dt']= xgb_model.predict(y_te)"
      ]
    },
    {
      "cell_type": "code",
      "execution_count": null,
      "id": "5758ac4d",
      "metadata": {
        "id": "5758ac4d",
        "outputId": "d61c87d3-5a2e-46b0-d686-d1185518cd5a"
      },
      "outputs": [
        {
          "data": {
            "text/plain": [
              "0    122\n",
              "2     76\n",
              "1     68\n",
              "Name: predict_dt, dtype: int64"
            ]
          },
          "execution_count": 78,
          "metadata": {},
          "output_type": "execute_result"
        }
      ],
      "source": [
        "q['predict_dt'].value_counts()"
      ]
    },
    {
      "cell_type": "code",
      "execution_count": null,
      "id": "06ee1711",
      "metadata": {
        "id": "06ee1711"
      },
      "outputs": [],
      "source": [
        "# 'TRAPPIST-1e':0, '55 Cancri e':1, 'PSO J318.5-22':2 로 변환시킨거 되돌리기\n",
        "q['predict_dt'] = q['predict_dt'].map({0:'TRAPPIST-1e', 1:'55 Cancri e', 2:'PSO J318.5-22' })"
      ]
    },
    {
      "cell_type": "code",
      "execution_count": null,
      "id": "0a0bc939",
      "metadata": {
        "id": "0a0bc939",
        "outputId": "067b3b22-024e-49f7-b7ab-aa4b71a21a5f"
      },
      "outputs": [
        {
          "data": {
            "text/plain": [
              "TRAPPIST-1e      122\n",
              "PSO J318.5-22     76\n",
              "55 Cancri e       68\n",
              "Name: predict_dt, dtype: int64"
            ]
          },
          "execution_count": 80,
          "metadata": {},
          "output_type": "execute_result"
        }
      ],
      "source": [
        "q['predict_dt'].value_counts() # 변경 확인"
      ]
    },
    {
      "cell_type": "code",
      "execution_count": null,
      "id": "148fd7da",
      "metadata": {
        "id": "148fd7da"
      },
      "outputs": [],
      "source": [
        "# 예측한 값 엑셀로 내보내기\n",
        "q.to_excel('C:/Users/admin/Desktop/sparta/Destination_fillna.xlsx')"
      ]
    },
    {
      "cell_type": "code",
      "execution_count": null,
      "id": "e42128da",
      "metadata": {
        "id": "e42128da"
      },
      "outputs": [],
      "source": []
    }
  ],
  "metadata": {
    "kernelspec": {
      "display_name": "Python 3 (ipykernel)",
      "language": "python",
      "name": "python3"
    },
    "language_info": {
      "codemirror_mode": {
        "name": "ipython",
        "version": 3
      },
      "file_extension": ".py",
      "mimetype": "text/x-python",
      "name": "python",
      "nbconvert_exporter": "python",
      "pygments_lexer": "ipython3",
      "version": "3.9.7"
    },
    "toc": {
      "base_numbering": 1,
      "nav_menu": {},
      "number_sections": true,
      "sideBar": true,
      "skip_h1_title": false,
      "title_cell": "Table of Contents",
      "title_sidebar": "Contents",
      "toc_cell": false,
      "toc_position": {
        "height": "calc(100% - 180px)",
        "left": "10px",
        "top": "150px",
        "width": "263.694px"
      },
      "toc_section_display": true,
      "toc_window_display": true
    },
    "colab": {
      "provenance": [],
      "toc_visible": true
    }
  },
  "nbformat": 4,
  "nbformat_minor": 5
}