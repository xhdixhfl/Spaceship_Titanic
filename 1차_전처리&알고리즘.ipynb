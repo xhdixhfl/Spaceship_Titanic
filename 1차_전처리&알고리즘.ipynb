{
  "cells": [
    {
      "cell_type": "markdown",
      "metadata": {
        "id": "view-in-github",
        "colab_type": "text"
      },
      "source": [
        "<a href=\"https://colab.research.google.com/github/xhdixhfl/Spaceship_Titanic/blob/main/1%EC%B0%A8_%EC%A0%84%EC%B2%98%EB%A6%AC%26%EC%95%8C%EA%B3%A0%EB%A6%AC%EC%A6%98.ipynb\" target=\"_parent\"><img src=\"https://colab.research.google.com/assets/colab-badge.svg\" alt=\"Open In Colab\"/></a>"
      ]
    },
    {
      "cell_type": "markdown",
      "id": "aa95546f",
      "metadata": {
        "id": "aa95546f"
      },
      "source": [
        "# 사용할 라이브러리 로딩"
      ]
    },
    {
      "cell_type": "code",
      "execution_count": null,
      "id": "7dae342d",
      "metadata": {
        "id": "7dae342d",
        "outputId": "514e93d7-8a50-45ef-b518-7821eb0bbbd5"
      },
      "outputs": [
        {
          "name": "stdout",
          "output_type": "stream",
          "text": [
            "Requirement already satisfied: imbalanced-learn in c:\\anaconda3\\lib\\site-packages (0.9.1)\n",
            "Requirement already satisfied: joblib>=1.0.0 in c:\\anaconda3\\lib\\site-packages (from imbalanced-learn) (1.1.0)\n",
            "Requirement already satisfied: threadpoolctl>=2.0.0 in c:\\anaconda3\\lib\\site-packages (from imbalanced-learn) (2.2.0)\n",
            "Requirement already satisfied: scipy>=1.3.2 in c:\\users\\admin\\appdata\\roaming\\python\\python39\\site-packages (from imbalanced-learn) (1.9.3)\n",
            "Requirement already satisfied: scikit-learn>=1.1.0 in c:\\users\\admin\\appdata\\roaming\\python\\python39\\site-packages (from imbalanced-learn) (1.1.3)\n",
            "Requirement already satisfied: numpy>=1.17.3 in c:\\anaconda3\\lib\\site-packages (from imbalanced-learn) (1.23.4)\n"
          ]
        }
      ],
      "source": [
        "! pip install -U imbalanced-learn"
      ]
    },
    {
      "cell_type": "code",
      "execution_count": null,
      "id": "0ea70205",
      "metadata": {
        "id": "0ea70205"
      },
      "outputs": [],
      "source": [
        "import numpy as np # Numpy\n",
        "import pandas as pd # Pandas\n",
        "import matplotlib as mpl #Matplotlib 세팅용\n",
        "import matplotlib.pyplot as plt # 시각화 도구\n",
        "import seaborn as sns # 시각화 도구\n",
        "from sklearn.model_selection import train_test_split # 데이터셋 분리\n",
        "from sklearn.cluster import KMeans # 클러스터링\n",
        "from sklearn.metrics import silhouette_score # 실루엣 점수\n",
        "import xgboost as xgb # XGBoost\n",
        "from xgboost import XGBClassifier  # XGBoostClassifier\n",
        "from sklearn.model_selection import GridSearchCV # 그리드 서치\n",
        "from sklearn.metrics import accuracy_score, precision_score # 평가 지표\n",
        "from sklearn.metrics import recall_score, confusion_matrix, roc_auc_score, f1_score # 평가 지표\n",
        "from imblearn.combine import *\n",
        "from sklearn.ensemble import RandomForestClassifier # 랜덤 포레스트\n",
        "from hyperopt import hp, STATUS_OK, fmin, tpe, Trials # 최적의 파람\n",
        "from imblearn.combine import * # 복합 샘플링\n",
        "from sklearn.model_selection import cross_val_score # 교차 스코어\n",
        "import warnings # 경고문 제거용\n",
        "from imblearn.combine import SMOTEENN, SMOTETomek # 복합샘플링\n",
        "\n",
        "from imblearn.over_sampling import *\n",
        "%matplotlib inline\n",
        "%config Inlinebackend.figure_format = 'retina'\n",
        "\n",
        "# 한글 폰트 설정\n",
        "mpl.rc('font', family='D2Coding')\n",
        "# 유니코드에서 음수 부호 설정\n",
        "mpl.rc('axes', unicode_minus = False)\n",
        "\n",
        "warnings.filterwarnings('ignore')\n",
        "sns.set(font=\"D2Coding\", rc={\"axes.unicode_minus\":False}, style='darkgrid')\n",
        "plt.rc('figure', figsize=(10,8))"
      ]
    },
    {
      "cell_type": "markdown",
      "id": "4511ace7",
      "metadata": {
        "id": "4511ace7"
      },
      "source": [
        "# 필요함수 만들기"
      ]
    },
    {
      "cell_type": "code",
      "execution_count": null,
      "id": "aee6f28c",
      "metadata": {
        "id": "aee6f28c"
      },
      "outputs": [],
      "source": [
        "# 스케일링을 위한 함수 생성\n",
        "col = []\n",
        "def data_scaled(df, col):\n",
        "    for i in col:\n",
        "        data_mean = df[i].mean()\n",
        "        data_std = df[i].std()\n",
        "        scaled = (df[i]-data_mean)/data_std\n",
        "        df[i]=scaled\n",
        "    return df"
      ]
    },
    {
      "cell_type": "code",
      "execution_count": null,
      "id": "254e85be",
      "metadata": {
        "id": "254e85be"
      },
      "outputs": [],
      "source": [
        "# 평가를 위한 함수 생성\n",
        "def  get_clf_eval(y_test, pred=None, pred_proba=None):\n",
        "    confusion = confusion_matrix(y_test, pred)\n",
        "    accuracy = accuracy_score(y_test, pred)\n",
        "    precision = precision_score(y_test, pred)\n",
        "    recall = recall_score(y_test, pred)\n",
        "    f1 = f1_score(y_test, pred)\n",
        "#     roc_auc = roc_auc_score(y_test, pred_proba)\n",
        "    \n",
        "    print('오차 행렬')\n",
        "    print(confusion)\n",
        " \n",
        "    print('정확도: {0:.4f}, 정밀도: {1:.4f}, \\\n",
        "    재현율: {2:.4f}, F1: {3:.4f}'.format(accuracy, precision, recall, f1))"
      ]
    },
    {
      "cell_type": "markdown",
      "id": "87294182",
      "metadata": {
        "id": "87294182"
      },
      "source": [
        "# 데이터 불러오기"
      ]
    },
    {
      "cell_type": "markdown",
      "id": "ff920db5",
      "metadata": {
        "id": "ff920db5"
      },
      "source": [
        "- PassengerId는 'gggg_pp' 형태를 띔\n",
        "- 같은 'pp'는 가족일 가능성이 높음\n",
        "- 이를 바탕으로 1차적으로 Cabin의 결측값을 채워줌\n",
        "- 그후 Cabin을 문자/ 숫자/ 문자/ 문자+숫자 형태로 나눈 새로운 컬럼 4를 만들어 준 데이터 세트"
      ]
    },
    {
      "cell_type": "markdown",
      "id": "6d4abf6f",
      "metadata": {
        "id": "6d4abf6f"
      },
      "source": [
        "passengerid로 cabin을 채운 그리고 cabin을 나눈 사진 첨부 필요"
      ]
    },
    {
      "cell_type": "code",
      "execution_count": null,
      "id": "dcc30b23",
      "metadata": {
        "id": "dcc30b23",
        "outputId": "06e8263c-6b6f-4711-be7e-55cdcdbcabba"
      },
      "outputs": [
        {
          "name": "stdout",
          "output_type": "stream",
          "text": [
            "(12970, 18)\n"
          ]
        }
      ],
      "source": [
        "spaceship = pd.read_excel('train_test_origin.xlsx')\n",
        "print(spaceship.shape)"
      ]
    },
    {
      "cell_type": "code",
      "execution_count": null,
      "id": "1b5bac07",
      "metadata": {
        "scrolled": true,
        "id": "1b5bac07",
        "outputId": "2f09729e-a9e8-43d3-9df6-2e332894a62b"
      },
      "outputs": [
        {
          "data": {
            "text/html": [
              "<div>\n",
              "<style scoped>\n",
              "    .dataframe tbody tr th:only-of-type {\n",
              "        vertical-align: middle;\n",
              "    }\n",
              "\n",
              "    .dataframe tbody tr th {\n",
              "        vertical-align: top;\n",
              "    }\n",
              "\n",
              "    .dataframe thead th {\n",
              "        text-align: right;\n",
              "    }\n",
              "</style>\n",
              "<table border=\"1\" class=\"dataframe\">\n",
              "  <thead>\n",
              "    <tr style=\"text-align: right;\">\n",
              "      <th></th>\n",
              "      <th>PassengerId</th>\n",
              "      <th>HomePlanet</th>\n",
              "      <th>CryoSleep</th>\n",
              "      <th>Cabin1</th>\n",
              "      <th>Cabin2</th>\n",
              "      <th>Combi</th>\n",
              "      <th>Cabin3</th>\n",
              "      <th>Cabin</th>\n",
              "      <th>Destination</th>\n",
              "      <th>Age</th>\n",
              "      <th>VIP</th>\n",
              "      <th>RoomService</th>\n",
              "      <th>FoodCourt</th>\n",
              "      <th>ShoppingMall</th>\n",
              "      <th>Spa</th>\n",
              "      <th>VRDeck</th>\n",
              "      <th>Name</th>\n",
              "      <th>Transported</th>\n",
              "    </tr>\n",
              "  </thead>\n",
              "  <tbody>\n",
              "    <tr>\n",
              "      <th>0</th>\n",
              "      <td>0001_01</td>\n",
              "      <td>Europa</td>\n",
              "      <td>0.0</td>\n",
              "      <td>B</td>\n",
              "      <td>0.0</td>\n",
              "      <td>B0</td>\n",
              "      <td>P</td>\n",
              "      <td>B/0/P</td>\n",
              "      <td>TRAPPIST-1e</td>\n",
              "      <td>39.0</td>\n",
              "      <td>0.0</td>\n",
              "      <td>0.0</td>\n",
              "      <td>0.0</td>\n",
              "      <td>0.0</td>\n",
              "      <td>0.0</td>\n",
              "      <td>0.0</td>\n",
              "      <td>Maham Ofracculy</td>\n",
              "      <td>0.0</td>\n",
              "    </tr>\n",
              "    <tr>\n",
              "      <th>1</th>\n",
              "      <td>0002_01</td>\n",
              "      <td>Earth</td>\n",
              "      <td>0.0</td>\n",
              "      <td>F</td>\n",
              "      <td>0.0</td>\n",
              "      <td>F0</td>\n",
              "      <td>S</td>\n",
              "      <td>F/0/S</td>\n",
              "      <td>TRAPPIST-1e</td>\n",
              "      <td>24.0</td>\n",
              "      <td>0.0</td>\n",
              "      <td>109.0</td>\n",
              "      <td>9.0</td>\n",
              "      <td>25.0</td>\n",
              "      <td>549.0</td>\n",
              "      <td>44.0</td>\n",
              "      <td>Juanna Vines</td>\n",
              "      <td>1.0</td>\n",
              "    </tr>\n",
              "    <tr>\n",
              "      <th>2</th>\n",
              "      <td>0003_01</td>\n",
              "      <td>Europa</td>\n",
              "      <td>0.0</td>\n",
              "      <td>A</td>\n",
              "      <td>0.0</td>\n",
              "      <td>A0</td>\n",
              "      <td>S</td>\n",
              "      <td>A/0/S</td>\n",
              "      <td>TRAPPIST-1e</td>\n",
              "      <td>58.0</td>\n",
              "      <td>1.0</td>\n",
              "      <td>43.0</td>\n",
              "      <td>3576.0</td>\n",
              "      <td>0.0</td>\n",
              "      <td>6715.0</td>\n",
              "      <td>49.0</td>\n",
              "      <td>Altark Susent</td>\n",
              "      <td>0.0</td>\n",
              "    </tr>\n",
              "    <tr>\n",
              "      <th>3</th>\n",
              "      <td>0003_02</td>\n",
              "      <td>Europa</td>\n",
              "      <td>0.0</td>\n",
              "      <td>A</td>\n",
              "      <td>0.0</td>\n",
              "      <td>A0</td>\n",
              "      <td>S</td>\n",
              "      <td>A/0/S</td>\n",
              "      <td>TRAPPIST-1e</td>\n",
              "      <td>33.0</td>\n",
              "      <td>0.0</td>\n",
              "      <td>0.0</td>\n",
              "      <td>1283.0</td>\n",
              "      <td>371.0</td>\n",
              "      <td>3329.0</td>\n",
              "      <td>193.0</td>\n",
              "      <td>Solam Susent</td>\n",
              "      <td>0.0</td>\n",
              "    </tr>\n",
              "    <tr>\n",
              "      <th>4</th>\n",
              "      <td>0004_01</td>\n",
              "      <td>Earth</td>\n",
              "      <td>0.0</td>\n",
              "      <td>F</td>\n",
              "      <td>1.0</td>\n",
              "      <td>F1</td>\n",
              "      <td>S</td>\n",
              "      <td>F/1/S</td>\n",
              "      <td>TRAPPIST-1e</td>\n",
              "      <td>16.0</td>\n",
              "      <td>0.0</td>\n",
              "      <td>303.0</td>\n",
              "      <td>70.0</td>\n",
              "      <td>151.0</td>\n",
              "      <td>565.0</td>\n",
              "      <td>2.0</td>\n",
              "      <td>Willy Santantines</td>\n",
              "      <td>1.0</td>\n",
              "    </tr>\n",
              "  </tbody>\n",
              "</table>\n",
              "</div>"
            ],
            "text/plain": [
              "  PassengerId HomePlanet  CryoSleep Cabin1  Cabin2 Combi Cabin3  Cabin  \\\n",
              "0     0001_01     Europa        0.0      B     0.0    B0      P  B/0/P   \n",
              "1     0002_01      Earth        0.0      F     0.0    F0      S  F/0/S   \n",
              "2     0003_01     Europa        0.0      A     0.0    A0      S  A/0/S   \n",
              "3     0003_02     Europa        0.0      A     0.0    A0      S  A/0/S   \n",
              "4     0004_01      Earth        0.0      F     1.0    F1      S  F/1/S   \n",
              "\n",
              "   Destination   Age  VIP  RoomService  FoodCourt  ShoppingMall     Spa  \\\n",
              "0  TRAPPIST-1e  39.0  0.0          0.0        0.0           0.0     0.0   \n",
              "1  TRAPPIST-1e  24.0  0.0        109.0        9.0          25.0   549.0   \n",
              "2  TRAPPIST-1e  58.0  1.0         43.0     3576.0           0.0  6715.0   \n",
              "3  TRAPPIST-1e  33.0  0.0          0.0     1283.0         371.0  3329.0   \n",
              "4  TRAPPIST-1e  16.0  0.0        303.0       70.0         151.0   565.0   \n",
              "\n",
              "   VRDeck               Name  Transported  \n",
              "0     0.0    Maham Ofracculy          0.0  \n",
              "1    44.0       Juanna Vines          1.0  \n",
              "2    49.0      Altark Susent          0.0  \n",
              "3   193.0       Solam Susent          0.0  \n",
              "4     2.0  Willy Santantines          1.0  "
            ]
          },
          "execution_count": 4,
          "metadata": {},
          "output_type": "execute_result"
        }
      ],
      "source": [
        "spaceship.head()"
      ]
    },
    {
      "cell_type": "markdown",
      "id": "a28d22a3",
      "metadata": {
        "id": "a28d22a3"
      },
      "source": [
        "# 데이터 탐색"
      ]
    },
    {
      "cell_type": "markdown",
      "id": "cd29a13e",
      "metadata": {
        "id": "cd29a13e"
      },
      "source": [
        "## 데이터 정보 확인"
      ]
    },
    {
      "cell_type": "code",
      "execution_count": null,
      "id": "a83aeea2",
      "metadata": {
        "id": "a83aeea2",
        "outputId": "78bc924d-0862-4b49-f1d9-6ed6c22148b3"
      },
      "outputs": [
        {
          "name": "stdout",
          "output_type": "stream",
          "text": [
            "<class 'pandas.core.frame.DataFrame'>\n",
            "RangeIndex: 12970 entries, 0 to 12969\n",
            "Data columns (total 18 columns):\n",
            " #   Column        Non-Null Count  Dtype  \n",
            "---  ------        --------------  -----  \n",
            " 0   PassengerId   12970 non-null  object \n",
            " 1   HomePlanet    12691 non-null  object \n",
            " 2   CryoSleep     12660 non-null  float64\n",
            " 3   Cabin1        12804 non-null  object \n",
            " 4   Cabin2        12804 non-null  float64\n",
            " 5   Combi         12804 non-null  object \n",
            " 6   Cabin3        12804 non-null  object \n",
            " 7   Cabin         12804 non-null  object \n",
            " 8   Destination   12704 non-null  object \n",
            " 9   Age           12700 non-null  float64\n",
            " 10  VIP           12674 non-null  float64\n",
            " 11  RoomService   12776 non-null  float64\n",
            " 12  FoodCourt     12752 non-null  float64\n",
            " 13  ShoppingMall  12760 non-null  float64\n",
            " 14  Spa           12754 non-null  float64\n",
            " 15  VRDeck        12766 non-null  float64\n",
            " 16  Name          12676 non-null  object \n",
            " 17  Transported   8693 non-null   float64\n",
            "dtypes: float64(10), object(8)\n",
            "memory usage: 1.8+ MB\n"
          ]
        }
      ],
      "source": [
        "spaceship.info()"
      ]
    },
    {
      "cell_type": "markdown",
      "id": "f2e08a87",
      "metadata": {
        "id": "f2e08a87"
      },
      "source": [
        "## 결측값 확인"
      ]
    },
    {
      "cell_type": "code",
      "execution_count": null,
      "id": "6328ea61",
      "metadata": {
        "id": "6328ea61",
        "outputId": "3db4f7c5-8070-450a-f6f7-99f80e8b5804"
      },
      "outputs": [
        {
          "data": {
            "text/plain": [
              "PassengerId        0\n",
              "HomePlanet       279\n",
              "CryoSleep        310\n",
              "Cabin1           166\n",
              "Cabin2           166\n",
              "Combi            166\n",
              "Cabin3           166\n",
              "Cabin            166\n",
              "Destination      266\n",
              "Age              270\n",
              "VIP              296\n",
              "RoomService      194\n",
              "FoodCourt        218\n",
              "ShoppingMall     210\n",
              "Spa              216\n",
              "VRDeck           204\n",
              "Name             294\n",
              "Transported     4277\n",
              "dtype: int64"
            ]
          },
          "execution_count": 6,
          "metadata": {},
          "output_type": "execute_result"
        }
      ],
      "source": [
        "spaceship.isnull().sum()"
      ]
    },
    {
      "cell_type": "markdown",
      "id": "ccb1b592",
      "metadata": {
        "id": "ccb1b592"
      },
      "source": [
        "- 결측값 처리가 필요한 피처들 : \n",
        "<br> HomePlanet(279), CryoSleep(310), Destination(266), Age(270), VIP(296), RoomService(194), FoodCourt(218), ShoppingMall(210), Spa(216), VRDeck(204)"
      ]
    },
    {
      "cell_type": "markdown",
      "id": "887e0243",
      "metadata": {
        "id": "887e0243"
      },
      "source": [
        "# 전처리"
      ]
    },
    {
      "cell_type": "markdown",
      "id": "a23dff90",
      "metadata": {
        "id": "a23dff90"
      },
      "source": [
        "## 불필요한 피처 제거 : PassengerId, Name, Combi, Cabin, Transported"
      ]
    },
    {
      "cell_type": "code",
      "execution_count": null,
      "id": "f9fabe7a",
      "metadata": {
        "id": "f9fabe7a"
      },
      "outputs": [],
      "source": [
        "spaceship.drop(['PassengerId', 'Name','Combi','Cabin','Transported'], inplace=True, axis=1)"
      ]
    },
    {
      "cell_type": "code",
      "execution_count": null,
      "id": "e4cb25f4",
      "metadata": {
        "id": "e4cb25f4",
        "outputId": "9725c37a-7383-4316-b593-df586b513af2"
      },
      "outputs": [
        {
          "name": "stdout",
          "output_type": "stream",
          "text": [
            "<class 'pandas.core.frame.DataFrame'>\n",
            "RangeIndex: 12970 entries, 0 to 12969\n",
            "Data columns (total 13 columns):\n",
            " #   Column        Non-Null Count  Dtype  \n",
            "---  ------        --------------  -----  \n",
            " 0   HomePlanet    12691 non-null  object \n",
            " 1   CryoSleep     12660 non-null  float64\n",
            " 2   Cabin1        12804 non-null  object \n",
            " 3   Cabin2        12804 non-null  float64\n",
            " 4   Cabin3        12804 non-null  object \n",
            " 5   Destination   12704 non-null  object \n",
            " 6   Age           12700 non-null  float64\n",
            " 7   VIP           12674 non-null  float64\n",
            " 8   RoomService   12776 non-null  float64\n",
            " 9   FoodCourt     12752 non-null  float64\n",
            " 10  ShoppingMall  12760 non-null  float64\n",
            " 11  Spa           12754 non-null  float64\n",
            " 12  VRDeck        12766 non-null  float64\n",
            "dtypes: float64(9), object(4)\n",
            "memory usage: 1.3+ MB\n"
          ]
        }
      ],
      "source": [
        "spaceship.info() # 제거 확인"
      ]
    },
    {
      "cell_type": "markdown",
      "id": "7c35a156",
      "metadata": {
        "id": "7c35a156"
      },
      "source": [
        "## 피처(CryoSleep, Cabin3, VIP) Dtype 변경 : object ▶ boolean"
      ]
    },
    {
      "cell_type": "code",
      "execution_count": null,
      "id": "b382adec",
      "metadata": {
        "id": "b382adec",
        "outputId": "482e1c85-22ad-4aa5-e4dd-0c6740f71502"
      },
      "outputs": [
        {
          "name": "stdout",
          "output_type": "stream",
          "text": [
            "<class 'pandas.core.frame.DataFrame'>\n",
            "RangeIndex: 12970 entries, 0 to 12969\n",
            "Data columns (total 13 columns):\n",
            " #   Column        Non-Null Count  Dtype  \n",
            "---  ------        --------------  -----  \n",
            " 0   HomePlanet    12691 non-null  object \n",
            " 1   CryoSleep     12970 non-null  bool   \n",
            " 2   Cabin1        12804 non-null  object \n",
            " 3   Cabin2        12804 non-null  float64\n",
            " 4   Cabin3        12970 non-null  bool   \n",
            " 5   Destination   12704 non-null  object \n",
            " 6   Age           12700 non-null  float64\n",
            " 7   VIP           12970 non-null  bool   \n",
            " 8   RoomService   12776 non-null  float64\n",
            " 9   FoodCourt     12752 non-null  float64\n",
            " 10  ShoppingMall  12760 non-null  float64\n",
            " 11  Spa           12754 non-null  float64\n",
            " 12  VRDeck        12766 non-null  float64\n",
            "dtypes: bool(3), float64(7), object(3)\n",
            "memory usage: 1.0+ MB\n"
          ]
        }
      ],
      "source": [
        "# Cabin3의 P(좌현)를 False으로 S(우현)를 True로 변경\n",
        "spaceship['Cabin3'].replace({'P': True,'S': False}, inplace=True)\n",
        "\n",
        "# boolean으로 변환\n",
        "spaceship['CryoSleep'] = spaceship['CryoSleep'].astype(bool)\n",
        "spaceship['VIP'] = spaceship['VIP'].astype(bool)\n",
        "spaceship['Cabin3'] = spaceship['Cabin3'].astype(bool)\n",
        "\n",
        "# 변환 확인\n",
        "spaceship.info()"
      ]
    },
    {
      "cell_type": "markdown",
      "id": "f46fa3bf",
      "metadata": {
        "id": "f46fa3bf"
      },
      "source": [
        "# HomePlanet 결측값 처리"
      ]
    },
    {
      "cell_type": "markdown",
      "id": "6f18b4c1",
      "metadata": {
        "id": "6f18b4c1"
      },
      "source": [
        "## 데이터 불러오기"
      ]
    },
    {
      "cell_type": "code",
      "execution_count": null,
      "id": "a250404c",
      "metadata": {
        "id": "a250404c"
      },
      "outputs": [],
      "source": [
        "# HomePlanet에 대한 데이터프레임 생성\n",
        "hp_df = spaceship.iloc[:,:]\n",
        "\n",
        "# 앞서 제거한 피처 외 추가제거\n",
        "hp_df = hp_df.drop('Age', axis=1)"
      ]
    },
    {
      "cell_type": "code",
      "execution_count": null,
      "id": "22ee55fd",
      "metadata": {
        "id": "22ee55fd",
        "outputId": "4f212c81-c836-42bd-b13e-67fb0db20824"
      },
      "outputs": [
        {
          "data": {
            "text/html": [
              "<div>\n",
              "<style scoped>\n",
              "    .dataframe tbody tr th:only-of-type {\n",
              "        vertical-align: middle;\n",
              "    }\n",
              "\n",
              "    .dataframe tbody tr th {\n",
              "        vertical-align: top;\n",
              "    }\n",
              "\n",
              "    .dataframe thead th {\n",
              "        text-align: right;\n",
              "    }\n",
              "</style>\n",
              "<table border=\"1\" class=\"dataframe\">\n",
              "  <thead>\n",
              "    <tr style=\"text-align: right;\">\n",
              "      <th></th>\n",
              "      <th>HomePlanet</th>\n",
              "      <th>CryoSleep</th>\n",
              "      <th>Cabin1</th>\n",
              "      <th>Cabin2</th>\n",
              "      <th>Cabin3</th>\n",
              "      <th>Destination</th>\n",
              "      <th>VIP</th>\n",
              "      <th>RoomService</th>\n",
              "      <th>FoodCourt</th>\n",
              "      <th>ShoppingMall</th>\n",
              "      <th>Spa</th>\n",
              "      <th>VRDeck</th>\n",
              "    </tr>\n",
              "  </thead>\n",
              "  <tbody>\n",
              "    <tr>\n",
              "      <th>0</th>\n",
              "      <td>Europa</td>\n",
              "      <td>False</td>\n",
              "      <td>B</td>\n",
              "      <td>0.0</td>\n",
              "      <td>True</td>\n",
              "      <td>TRAPPIST-1e</td>\n",
              "      <td>False</td>\n",
              "      <td>0.0</td>\n",
              "      <td>0.0</td>\n",
              "      <td>0.0</td>\n",
              "      <td>0.0</td>\n",
              "      <td>0.0</td>\n",
              "    </tr>\n",
              "    <tr>\n",
              "      <th>1</th>\n",
              "      <td>Earth</td>\n",
              "      <td>False</td>\n",
              "      <td>F</td>\n",
              "      <td>0.0</td>\n",
              "      <td>False</td>\n",
              "      <td>TRAPPIST-1e</td>\n",
              "      <td>False</td>\n",
              "      <td>109.0</td>\n",
              "      <td>9.0</td>\n",
              "      <td>25.0</td>\n",
              "      <td>549.0</td>\n",
              "      <td>44.0</td>\n",
              "    </tr>\n",
              "    <tr>\n",
              "      <th>2</th>\n",
              "      <td>Europa</td>\n",
              "      <td>False</td>\n",
              "      <td>A</td>\n",
              "      <td>0.0</td>\n",
              "      <td>False</td>\n",
              "      <td>TRAPPIST-1e</td>\n",
              "      <td>True</td>\n",
              "      <td>43.0</td>\n",
              "      <td>3576.0</td>\n",
              "      <td>0.0</td>\n",
              "      <td>6715.0</td>\n",
              "      <td>49.0</td>\n",
              "    </tr>\n",
              "    <tr>\n",
              "      <th>3</th>\n",
              "      <td>Europa</td>\n",
              "      <td>False</td>\n",
              "      <td>A</td>\n",
              "      <td>0.0</td>\n",
              "      <td>False</td>\n",
              "      <td>TRAPPIST-1e</td>\n",
              "      <td>False</td>\n",
              "      <td>0.0</td>\n",
              "      <td>1283.0</td>\n",
              "      <td>371.0</td>\n",
              "      <td>3329.0</td>\n",
              "      <td>193.0</td>\n",
              "    </tr>\n",
              "    <tr>\n",
              "      <th>4</th>\n",
              "      <td>Earth</td>\n",
              "      <td>False</td>\n",
              "      <td>F</td>\n",
              "      <td>1.0</td>\n",
              "      <td>False</td>\n",
              "      <td>TRAPPIST-1e</td>\n",
              "      <td>False</td>\n",
              "      <td>303.0</td>\n",
              "      <td>70.0</td>\n",
              "      <td>151.0</td>\n",
              "      <td>565.0</td>\n",
              "      <td>2.0</td>\n",
              "    </tr>\n",
              "  </tbody>\n",
              "</table>\n",
              "</div>"
            ],
            "text/plain": [
              "  HomePlanet  CryoSleep Cabin1  Cabin2  Cabin3  Destination    VIP  \\\n",
              "0     Europa      False      B     0.0    True  TRAPPIST-1e  False   \n",
              "1      Earth      False      F     0.0   False  TRAPPIST-1e  False   \n",
              "2     Europa      False      A     0.0   False  TRAPPIST-1e   True   \n",
              "3     Europa      False      A     0.0   False  TRAPPIST-1e  False   \n",
              "4      Earth      False      F     1.0   False  TRAPPIST-1e  False   \n",
              "\n",
              "   RoomService  FoodCourt  ShoppingMall     Spa  VRDeck  \n",
              "0          0.0        0.0           0.0     0.0     0.0  \n",
              "1        109.0        9.0          25.0   549.0    44.0  \n",
              "2         43.0     3576.0           0.0  6715.0    49.0  \n",
              "3          0.0     1283.0         371.0  3329.0   193.0  \n",
              "4        303.0       70.0         151.0   565.0     2.0  "
            ]
          },
          "execution_count": 24,
          "metadata": {},
          "output_type": "execute_result"
        }
      ],
      "source": [
        "hp_df.head()"
      ]
    },
    {
      "cell_type": "markdown",
      "id": "5c8f912c",
      "metadata": {
        "id": "5c8f912c"
      },
      "source": [
        "## 전처리"
      ]
    },
    {
      "cell_type": "code",
      "execution_count": null,
      "id": "814f6def",
      "metadata": {
        "id": "814f6def",
        "outputId": "9ebe5ad0-3fec-43a9-bdec-4db5c76c09b6"
      },
      "outputs": [
        {
          "name": "stdout",
          "output_type": "stream",
          "text": [
            "<class 'pandas.core.frame.DataFrame'>\n",
            "Int64Index: 11317 entries, 0 to 12969\n",
            "Data columns (total 12 columns):\n",
            " #   Column        Non-Null Count  Dtype  \n",
            "---  ------        --------------  -----  \n",
            " 0   HomePlanet    11317 non-null  object \n",
            " 1   CryoSleep     11317 non-null  bool   \n",
            " 2   Cabin1        11317 non-null  object \n",
            " 3   Cabin2        11317 non-null  float64\n",
            " 4   Cabin3        11317 non-null  bool   \n",
            " 5   Destination   11317 non-null  object \n",
            " 6   VIP           11317 non-null  bool   \n",
            " 7   RoomService   11317 non-null  float64\n",
            " 8   FoodCourt     11317 non-null  float64\n",
            " 9   ShoppingMall  11317 non-null  float64\n",
            " 10  Spa           11317 non-null  float64\n",
            " 11  VRDeck        11317 non-null  float64\n",
            "dtypes: bool(3), float64(6), object(3)\n",
            "memory usage: 917.3+ KB\n"
          ]
        }
      ],
      "source": [
        "# 결측값이 있는 행 삭제 \n",
        "hp_df.dropna(inplace=True)\n",
        "hp_df.info()"
      ]
    },
    {
      "cell_type": "code",
      "execution_count": null,
      "id": "35d93cbb",
      "metadata": {
        "id": "35d93cbb",
        "outputId": "ee027242-95a4-43d0-f89e-3c597eeb62f5"
      },
      "outputs": [
        {
          "data": {
            "text/plain": [
              "array([1, 0, 2], dtype=int64)"
            ]
          },
          "execution_count": 26,
          "metadata": {},
          "output_type": "execute_result"
        }
      ],
      "source": [
        "# homeplanet이 타깃으로 할거라서 홈플레닛 값을 0,1,2로 치환하여 사용\n",
        "hp_df.HomePlanet = hp_df['HomePlanet'].map({'Earth':0, 'Europa':1, 'Mars':2})\n",
        "\n",
        "# 변경 확인\n",
        "hp_df.HomePlanet.unique()"
      ]
    },
    {
      "cell_type": "code",
      "execution_count": null,
      "id": "395821e2",
      "metadata": {
        "id": "395821e2"
      },
      "outputs": [],
      "source": [
        "# 원-핫 인코딩 (cabin1, destination)\n",
        "\n",
        "## Cabin1\n",
        "encoding = pd.get_dummies(hp_df.Cabin1)\n",
        "hp_df = hp_df.drop('Cabin1', axis =1) # 기존 삭제\n",
        "hp_df = hp_df.join(encoding) # 적용\n",
        "## Destination\n",
        "encoding = pd.get_dummies(hp_df.Destination)\n",
        "hp_df = hp_df.drop('Destination', axis =1) # 기존 삭제\n",
        "hp_df = hp_df.join(encoding) # 적용"
      ]
    },
    {
      "cell_type": "code",
      "execution_count": null,
      "id": "70c93200",
      "metadata": {
        "id": "70c93200",
        "outputId": "f89ac627-438a-4fa3-933d-fbb6dfa558cc"
      },
      "outputs": [
        {
          "data": {
            "text/html": [
              "<div>\n",
              "<style scoped>\n",
              "    .dataframe tbody tr th:only-of-type {\n",
              "        vertical-align: middle;\n",
              "    }\n",
              "\n",
              "    .dataframe tbody tr th {\n",
              "        vertical-align: top;\n",
              "    }\n",
              "\n",
              "    .dataframe thead th {\n",
              "        text-align: right;\n",
              "    }\n",
              "</style>\n",
              "<table border=\"1\" class=\"dataframe\">\n",
              "  <thead>\n",
              "    <tr style=\"text-align: right;\">\n",
              "      <th></th>\n",
              "      <th>HomePlanet</th>\n",
              "      <th>CryoSleep</th>\n",
              "      <th>Cabin2</th>\n",
              "      <th>Cabin3</th>\n",
              "      <th>VIP</th>\n",
              "      <th>RoomService</th>\n",
              "      <th>FoodCourt</th>\n",
              "      <th>ShoppingMall</th>\n",
              "      <th>Spa</th>\n",
              "      <th>VRDeck</th>\n",
              "      <th>...</th>\n",
              "      <th>B</th>\n",
              "      <th>C</th>\n",
              "      <th>D</th>\n",
              "      <th>E</th>\n",
              "      <th>F</th>\n",
              "      <th>G</th>\n",
              "      <th>T</th>\n",
              "      <th>55 Cancri e</th>\n",
              "      <th>PSO J318.5-22</th>\n",
              "      <th>TRAPPIST-1e</th>\n",
              "    </tr>\n",
              "  </thead>\n",
              "  <tbody>\n",
              "    <tr>\n",
              "      <th>0</th>\n",
              "      <td>1</td>\n",
              "      <td>False</td>\n",
              "      <td>0.0</td>\n",
              "      <td>True</td>\n",
              "      <td>False</td>\n",
              "      <td>0.0</td>\n",
              "      <td>0.0</td>\n",
              "      <td>0.0</td>\n",
              "      <td>0.0</td>\n",
              "      <td>0.0</td>\n",
              "      <td>...</td>\n",
              "      <td>1</td>\n",
              "      <td>0</td>\n",
              "      <td>0</td>\n",
              "      <td>0</td>\n",
              "      <td>0</td>\n",
              "      <td>0</td>\n",
              "      <td>0</td>\n",
              "      <td>0</td>\n",
              "      <td>0</td>\n",
              "      <td>1</td>\n",
              "    </tr>\n",
              "    <tr>\n",
              "      <th>1</th>\n",
              "      <td>0</td>\n",
              "      <td>False</td>\n",
              "      <td>0.0</td>\n",
              "      <td>False</td>\n",
              "      <td>False</td>\n",
              "      <td>109.0</td>\n",
              "      <td>9.0</td>\n",
              "      <td>25.0</td>\n",
              "      <td>549.0</td>\n",
              "      <td>44.0</td>\n",
              "      <td>...</td>\n",
              "      <td>0</td>\n",
              "      <td>0</td>\n",
              "      <td>0</td>\n",
              "      <td>0</td>\n",
              "      <td>1</td>\n",
              "      <td>0</td>\n",
              "      <td>0</td>\n",
              "      <td>0</td>\n",
              "      <td>0</td>\n",
              "      <td>1</td>\n",
              "    </tr>\n",
              "    <tr>\n",
              "      <th>2</th>\n",
              "      <td>1</td>\n",
              "      <td>False</td>\n",
              "      <td>0.0</td>\n",
              "      <td>False</td>\n",
              "      <td>True</td>\n",
              "      <td>43.0</td>\n",
              "      <td>3576.0</td>\n",
              "      <td>0.0</td>\n",
              "      <td>6715.0</td>\n",
              "      <td>49.0</td>\n",
              "      <td>...</td>\n",
              "      <td>0</td>\n",
              "      <td>0</td>\n",
              "      <td>0</td>\n",
              "      <td>0</td>\n",
              "      <td>0</td>\n",
              "      <td>0</td>\n",
              "      <td>0</td>\n",
              "      <td>0</td>\n",
              "      <td>0</td>\n",
              "      <td>1</td>\n",
              "    </tr>\n",
              "    <tr>\n",
              "      <th>3</th>\n",
              "      <td>1</td>\n",
              "      <td>False</td>\n",
              "      <td>0.0</td>\n",
              "      <td>False</td>\n",
              "      <td>False</td>\n",
              "      <td>0.0</td>\n",
              "      <td>1283.0</td>\n",
              "      <td>371.0</td>\n",
              "      <td>3329.0</td>\n",
              "      <td>193.0</td>\n",
              "      <td>...</td>\n",
              "      <td>0</td>\n",
              "      <td>0</td>\n",
              "      <td>0</td>\n",
              "      <td>0</td>\n",
              "      <td>0</td>\n",
              "      <td>0</td>\n",
              "      <td>0</td>\n",
              "      <td>0</td>\n",
              "      <td>0</td>\n",
              "      <td>1</td>\n",
              "    </tr>\n",
              "    <tr>\n",
              "      <th>4</th>\n",
              "      <td>0</td>\n",
              "      <td>False</td>\n",
              "      <td>1.0</td>\n",
              "      <td>False</td>\n",
              "      <td>False</td>\n",
              "      <td>303.0</td>\n",
              "      <td>70.0</td>\n",
              "      <td>151.0</td>\n",
              "      <td>565.0</td>\n",
              "      <td>2.0</td>\n",
              "      <td>...</td>\n",
              "      <td>0</td>\n",
              "      <td>0</td>\n",
              "      <td>0</td>\n",
              "      <td>0</td>\n",
              "      <td>1</td>\n",
              "      <td>0</td>\n",
              "      <td>0</td>\n",
              "      <td>0</td>\n",
              "      <td>0</td>\n",
              "      <td>1</td>\n",
              "    </tr>\n",
              "  </tbody>\n",
              "</table>\n",
              "<p>5 rows × 21 columns</p>\n",
              "</div>"
            ],
            "text/plain": [
              "   HomePlanet  CryoSleep  Cabin2  Cabin3    VIP  RoomService  FoodCourt  \\\n",
              "0           1      False     0.0    True  False          0.0        0.0   \n",
              "1           0      False     0.0   False  False        109.0        9.0   \n",
              "2           1      False     0.0   False   True         43.0     3576.0   \n",
              "3           1      False     0.0   False  False          0.0     1283.0   \n",
              "4           0      False     1.0   False  False        303.0       70.0   \n",
              "\n",
              "   ShoppingMall     Spa  VRDeck  ...  B  C  D  E  F  G  T  55 Cancri e  \\\n",
              "0           0.0     0.0     0.0  ...  1  0  0  0  0  0  0            0   \n",
              "1          25.0   549.0    44.0  ...  0  0  0  0  1  0  0            0   \n",
              "2           0.0  6715.0    49.0  ...  0  0  0  0  0  0  0            0   \n",
              "3         371.0  3329.0   193.0  ...  0  0  0  0  0  0  0            0   \n",
              "4         151.0   565.0     2.0  ...  0  0  0  0  1  0  0            0   \n",
              "\n",
              "   PSO J318.5-22  TRAPPIST-1e  \n",
              "0              0            1  \n",
              "1              0            1  \n",
              "2              0            1  \n",
              "3              0            1  \n",
              "4              0            1  \n",
              "\n",
              "[5 rows x 21 columns]"
            ]
          },
          "execution_count": 29,
          "metadata": {},
          "output_type": "execute_result"
        }
      ],
      "source": [
        "hp_df.head()"
      ]
    },
    {
      "cell_type": "code",
      "execution_count": null,
      "id": "9bac7dbc",
      "metadata": {
        "id": "9bac7dbc",
        "outputId": "42c52d95-3f92-4e73-fa19-f0d824b4ef65"
      },
      "outputs": [
        {
          "name": "stdout",
          "output_type": "stream",
          "text": [
            "<class 'pandas.core.frame.DataFrame'>\n",
            "Int64Index: 11317 entries, 0 to 12969\n",
            "Data columns (total 21 columns):\n",
            " #   Column         Non-Null Count  Dtype  \n",
            "---  ------         --------------  -----  \n",
            " 0   HomePlanet     11317 non-null  int64  \n",
            " 1   CryoSleep      11317 non-null  bool   \n",
            " 2   Cabin2         11317 non-null  float64\n",
            " 3   Cabin3         11317 non-null  bool   \n",
            " 4   VIP            11317 non-null  bool   \n",
            " 5   RoomService    11317 non-null  float64\n",
            " 6   FoodCourt      11317 non-null  float64\n",
            " 7   ShoppingMall   11317 non-null  float64\n",
            " 8   Spa            11317 non-null  float64\n",
            " 9   VRDeck         11317 non-null  float64\n",
            " 10  A              11317 non-null  uint8  \n",
            " 11  B              11317 non-null  uint8  \n",
            " 12  C              11317 non-null  uint8  \n",
            " 13  D              11317 non-null  uint8  \n",
            " 14  E              11317 non-null  uint8  \n",
            " 15  F              11317 non-null  uint8  \n",
            " 16  G              11317 non-null  uint8  \n",
            " 17  T              11317 non-null  uint8  \n",
            " 18  55 Cancri e    11317 non-null  uint8  \n",
            " 19  PSO J318.5-22  11317 non-null  uint8  \n",
            " 20  TRAPPIST-1e    11317 non-null  uint8  \n",
            "dtypes: bool(3), float64(6), int64(1), uint8(11)\n",
            "memory usage: 1.1 MB\n"
          ]
        }
      ],
      "source": [
        "hp_df.info()"
      ]
    },
    {
      "cell_type": "code",
      "execution_count": null,
      "id": "57e83880",
      "metadata": {
        "id": "57e83880",
        "outputId": "a7e4092b-5afd-4e85-8ade-8fc8cf2fa4de"
      },
      "outputs": [
        {
          "data": {
            "text/html": [
              "<div>\n",
              "<style scoped>\n",
              "    .dataframe tbody tr th:only-of-type {\n",
              "        vertical-align: middle;\n",
              "    }\n",
              "\n",
              "    .dataframe tbody tr th {\n",
              "        vertical-align: top;\n",
              "    }\n",
              "\n",
              "    .dataframe thead th {\n",
              "        text-align: right;\n",
              "    }\n",
              "</style>\n",
              "<table border=\"1\" class=\"dataframe\">\n",
              "  <thead>\n",
              "    <tr style=\"text-align: right;\">\n",
              "      <th></th>\n",
              "      <th>HomePlanet</th>\n",
              "      <th>CryoSleep</th>\n",
              "      <th>Cabin2</th>\n",
              "      <th>Cabin3</th>\n",
              "      <th>VIP</th>\n",
              "      <th>RoomService</th>\n",
              "      <th>FoodCourt</th>\n",
              "      <th>ShoppingMall</th>\n",
              "      <th>Spa</th>\n",
              "      <th>VRDeck</th>\n",
              "      <th>...</th>\n",
              "      <th>B</th>\n",
              "      <th>C</th>\n",
              "      <th>D</th>\n",
              "      <th>E</th>\n",
              "      <th>F</th>\n",
              "      <th>G</th>\n",
              "      <th>T</th>\n",
              "      <th>55 Cancri e</th>\n",
              "      <th>PSO J318.5-22</th>\n",
              "      <th>TRAPPIST-1e</th>\n",
              "    </tr>\n",
              "  </thead>\n",
              "  <tbody>\n",
              "    <tr>\n",
              "      <th>0</th>\n",
              "      <td>1</td>\n",
              "      <td>False</td>\n",
              "      <td>-1.171813</td>\n",
              "      <td>True</td>\n",
              "      <td>False</td>\n",
              "      <td>-0.334680</td>\n",
              "      <td>-0.281438</td>\n",
              "      <td>-0.285053</td>\n",
              "      <td>-0.270872</td>\n",
              "      <td>-0.260036</td>\n",
              "      <td>...</td>\n",
              "      <td>1</td>\n",
              "      <td>0</td>\n",
              "      <td>0</td>\n",
              "      <td>0</td>\n",
              "      <td>0</td>\n",
              "      <td>0</td>\n",
              "      <td>0</td>\n",
              "      <td>0</td>\n",
              "      <td>0</td>\n",
              "      <td>1</td>\n",
              "    </tr>\n",
              "    <tr>\n",
              "      <th>1</th>\n",
              "      <td>0</td>\n",
              "      <td>False</td>\n",
              "      <td>-1.171813</td>\n",
              "      <td>False</td>\n",
              "      <td>False</td>\n",
              "      <td>-0.166509</td>\n",
              "      <td>-0.275840</td>\n",
              "      <td>-0.243219</td>\n",
              "      <td>0.215668</td>\n",
              "      <td>-0.220589</td>\n",
              "      <td>...</td>\n",
              "      <td>0</td>\n",
              "      <td>0</td>\n",
              "      <td>0</td>\n",
              "      <td>0</td>\n",
              "      <td>1</td>\n",
              "      <td>0</td>\n",
              "      <td>0</td>\n",
              "      <td>0</td>\n",
              "      <td>0</td>\n",
              "      <td>1</td>\n",
              "    </tr>\n",
              "    <tr>\n",
              "      <th>2</th>\n",
              "      <td>1</td>\n",
              "      <td>False</td>\n",
              "      <td>-1.171813</td>\n",
              "      <td>False</td>\n",
              "      <td>True</td>\n",
              "      <td>-0.268338</td>\n",
              "      <td>1.942578</td>\n",
              "      <td>-0.285053</td>\n",
              "      <td>5.680162</td>\n",
              "      <td>-0.216106</td>\n",
              "      <td>...</td>\n",
              "      <td>0</td>\n",
              "      <td>0</td>\n",
              "      <td>0</td>\n",
              "      <td>0</td>\n",
              "      <td>0</td>\n",
              "      <td>0</td>\n",
              "      <td>0</td>\n",
              "      <td>0</td>\n",
              "      <td>0</td>\n",
              "      <td>1</td>\n",
              "    </tr>\n",
              "    <tr>\n",
              "      <th>3</th>\n",
              "      <td>1</td>\n",
              "      <td>False</td>\n",
              "      <td>-1.171813</td>\n",
              "      <td>False</td>\n",
              "      <td>False</td>\n",
              "      <td>-0.334680</td>\n",
              "      <td>0.516496</td>\n",
              "      <td>0.335766</td>\n",
              "      <td>2.679387</td>\n",
              "      <td>-0.087005</td>\n",
              "      <td>...</td>\n",
              "      <td>0</td>\n",
              "      <td>0</td>\n",
              "      <td>0</td>\n",
              "      <td>0</td>\n",
              "      <td>0</td>\n",
              "      <td>0</td>\n",
              "      <td>0</td>\n",
              "      <td>0</td>\n",
              "      <td>0</td>\n",
              "      <td>1</td>\n",
              "    </tr>\n",
              "    <tr>\n",
              "      <th>4</th>\n",
              "      <td>0</td>\n",
              "      <td>False</td>\n",
              "      <td>-1.169865</td>\n",
              "      <td>False</td>\n",
              "      <td>False</td>\n",
              "      <td>0.132804</td>\n",
              "      <td>-0.237903</td>\n",
              "      <td>-0.032375</td>\n",
              "      <td>0.229848</td>\n",
              "      <td>-0.258243</td>\n",
              "      <td>...</td>\n",
              "      <td>0</td>\n",
              "      <td>0</td>\n",
              "      <td>0</td>\n",
              "      <td>0</td>\n",
              "      <td>1</td>\n",
              "      <td>0</td>\n",
              "      <td>0</td>\n",
              "      <td>0</td>\n",
              "      <td>0</td>\n",
              "      <td>1</td>\n",
              "    </tr>\n",
              "    <tr>\n",
              "      <th>...</th>\n",
              "      <td>...</td>\n",
              "      <td>...</td>\n",
              "      <td>...</td>\n",
              "      <td>...</td>\n",
              "      <td>...</td>\n",
              "      <td>...</td>\n",
              "      <td>...</td>\n",
              "      <td>...</td>\n",
              "      <td>...</td>\n",
              "      <td>...</td>\n",
              "      <td>...</td>\n",
              "      <td>...</td>\n",
              "      <td>...</td>\n",
              "      <td>...</td>\n",
              "      <td>...</td>\n",
              "      <td>...</td>\n",
              "      <td>...</td>\n",
              "      <td>...</td>\n",
              "      <td>...</td>\n",
              "      <td>...</td>\n",
              "      <td>...</td>\n",
              "    </tr>\n",
              "    <tr>\n",
              "      <th>12963</th>\n",
              "      <td>2</td>\n",
              "      <td>False</td>\n",
              "      <td>-0.630313</td>\n",
              "      <td>False</td>\n",
              "      <td>False</td>\n",
              "      <td>-0.262166</td>\n",
              "      <td>-0.281438</td>\n",
              "      <td>6.159085</td>\n",
              "      <td>-0.270872</td>\n",
              "      <td>-0.260036</td>\n",
              "      <td>...</td>\n",
              "      <td>0</td>\n",
              "      <td>0</td>\n",
              "      <td>1</td>\n",
              "      <td>0</td>\n",
              "      <td>0</td>\n",
              "      <td>0</td>\n",
              "      <td>0</td>\n",
              "      <td>0</td>\n",
              "      <td>0</td>\n",
              "      <td>1</td>\n",
              "    </tr>\n",
              "    <tr>\n",
              "      <th>12964</th>\n",
              "      <td>0</td>\n",
              "      <td>False</td>\n",
              "      <td>2.326507</td>\n",
              "      <td>False</td>\n",
              "      <td>False</td>\n",
              "      <td>-0.334680</td>\n",
              "      <td>0.256530</td>\n",
              "      <td>-0.285053</td>\n",
              "      <td>-0.268214</td>\n",
              "      <td>-0.260036</td>\n",
              "      <td>...</td>\n",
              "      <td>0</td>\n",
              "      <td>0</td>\n",
              "      <td>0</td>\n",
              "      <td>0</td>\n",
              "      <td>1</td>\n",
              "      <td>0</td>\n",
              "      <td>0</td>\n",
              "      <td>0</td>\n",
              "      <td>0</td>\n",
              "      <td>1</td>\n",
              "    </tr>\n",
              "    <tr>\n",
              "      <th>12965</th>\n",
              "      <td>0</td>\n",
              "      <td>True</td>\n",
              "      <td>1.742155</td>\n",
              "      <td>False</td>\n",
              "      <td>False</td>\n",
              "      <td>-0.334680</td>\n",
              "      <td>-0.281438</td>\n",
              "      <td>-0.285053</td>\n",
              "      <td>-0.270872</td>\n",
              "      <td>-0.260036</td>\n",
              "      <td>...</td>\n",
              "      <td>0</td>\n",
              "      <td>0</td>\n",
              "      <td>0</td>\n",
              "      <td>0</td>\n",
              "      <td>0</td>\n",
              "      <td>1</td>\n",
              "      <td>0</td>\n",
              "      <td>0</td>\n",
              "      <td>0</td>\n",
              "      <td>1</td>\n",
              "    </tr>\n",
              "    <tr>\n",
              "      <th>12967</th>\n",
              "      <td>2</td>\n",
              "      <td>True</td>\n",
              "      <td>-0.595252</td>\n",
              "      <td>True</td>\n",
              "      <td>False</td>\n",
              "      <td>-0.334680</td>\n",
              "      <td>-0.281438</td>\n",
              "      <td>-0.285053</td>\n",
              "      <td>-0.270872</td>\n",
              "      <td>-0.260036</td>\n",
              "      <td>...</td>\n",
              "      <td>0</td>\n",
              "      <td>0</td>\n",
              "      <td>1</td>\n",
              "      <td>0</td>\n",
              "      <td>0</td>\n",
              "      <td>0</td>\n",
              "      <td>0</td>\n",
              "      <td>1</td>\n",
              "      <td>0</td>\n",
              "      <td>0</td>\n",
              "    </tr>\n",
              "    <tr>\n",
              "      <th>12969</th>\n",
              "      <td>0</td>\n",
              "      <td>True</td>\n",
              "      <td>1.746051</td>\n",
              "      <td>False</td>\n",
              "      <td>False</td>\n",
              "      <td>-0.334680</td>\n",
              "      <td>-0.281438</td>\n",
              "      <td>-0.285053</td>\n",
              "      <td>-0.270872</td>\n",
              "      <td>-0.260036</td>\n",
              "      <td>...</td>\n",
              "      <td>0</td>\n",
              "      <td>0</td>\n",
              "      <td>0</td>\n",
              "      <td>0</td>\n",
              "      <td>0</td>\n",
              "      <td>1</td>\n",
              "      <td>0</td>\n",
              "      <td>0</td>\n",
              "      <td>1</td>\n",
              "      <td>0</td>\n",
              "    </tr>\n",
              "  </tbody>\n",
              "</table>\n",
              "<p>11317 rows × 21 columns</p>\n",
              "</div>"
            ],
            "text/plain": [
              "       HomePlanet  CryoSleep    Cabin2  Cabin3    VIP  RoomService  FoodCourt  \\\n",
              "0               1      False -1.171813    True  False    -0.334680  -0.281438   \n",
              "1               0      False -1.171813   False  False    -0.166509  -0.275840   \n",
              "2               1      False -1.171813   False   True    -0.268338   1.942578   \n",
              "3               1      False -1.171813   False  False    -0.334680   0.516496   \n",
              "4               0      False -1.169865   False  False     0.132804  -0.237903   \n",
              "...           ...        ...       ...     ...    ...          ...        ...   \n",
              "12963           2      False -0.630313   False  False    -0.262166  -0.281438   \n",
              "12964           0      False  2.326507   False  False    -0.334680   0.256530   \n",
              "12965           0       True  1.742155   False  False    -0.334680  -0.281438   \n",
              "12967           2       True -0.595252    True  False    -0.334680  -0.281438   \n",
              "12969           0       True  1.746051   False  False    -0.334680  -0.281438   \n",
              "\n",
              "       ShoppingMall       Spa    VRDeck  ...  B  C  D  E  F  G  T  \\\n",
              "0         -0.285053 -0.270872 -0.260036  ...  1  0  0  0  0  0  0   \n",
              "1         -0.243219  0.215668 -0.220589  ...  0  0  0  0  1  0  0   \n",
              "2         -0.285053  5.680162 -0.216106  ...  0  0  0  0  0  0  0   \n",
              "3          0.335766  2.679387 -0.087005  ...  0  0  0  0  0  0  0   \n",
              "4         -0.032375  0.229848 -0.258243  ...  0  0  0  0  1  0  0   \n",
              "...             ...       ...       ...  ... .. .. .. .. .. .. ..   \n",
              "12963      6.159085 -0.270872 -0.260036  ...  0  0  1  0  0  0  0   \n",
              "12964     -0.285053 -0.268214 -0.260036  ...  0  0  0  0  1  0  0   \n",
              "12965     -0.285053 -0.270872 -0.260036  ...  0  0  0  0  0  1  0   \n",
              "12967     -0.285053 -0.270872 -0.260036  ...  0  0  1  0  0  0  0   \n",
              "12969     -0.285053 -0.270872 -0.260036  ...  0  0  0  0  0  1  0   \n",
              "\n",
              "       55 Cancri e  PSO J318.5-22  TRAPPIST-1e  \n",
              "0                0              0            1  \n",
              "1                0              0            1  \n",
              "2                0              0            1  \n",
              "3                0              0            1  \n",
              "4                0              0            1  \n",
              "...            ...            ...          ...  \n",
              "12963            0              0            1  \n",
              "12964            0              0            1  \n",
              "12965            0              0            1  \n",
              "12967            1              0            0  \n",
              "12969            0              1            0  \n",
              "\n",
              "[11317 rows x 21 columns]"
            ]
          },
          "execution_count": 34,
          "metadata": {},
          "output_type": "execute_result"
        }
      ],
      "source": [
        "# 스케일링\n",
        "\n",
        "## 위에 정의된 스케일링 함수 호출\n",
        "col = ['Cabin2', 'RoomService','FoodCourt','ShoppingMall','Spa','VRDeck']\n",
        "data_scaled(hp_df, col)"
      ]
    },
    {
      "cell_type": "markdown",
      "id": "526247f0",
      "metadata": {
        "id": "526247f0"
      },
      "source": [
        "## 데이터와 타겟값 분리"
      ]
    },
    {
      "cell_type": "code",
      "execution_count": null,
      "id": "c0dab786",
      "metadata": {
        "id": "c0dab786"
      },
      "outputs": [],
      "source": [
        "hp_data = hp_df.iloc[:,1:]\n",
        "hp_label = hp_df.iloc[:,0]"
      ]
    },
    {
      "cell_type": "code",
      "execution_count": null,
      "id": "9c14d634",
      "metadata": {
        "id": "9c14d634",
        "outputId": "99cb203d-1021-4699-fdc0-9288af1c294e"
      },
      "outputs": [
        {
          "data": {
            "text/html": [
              "<div>\n",
              "<style scoped>\n",
              "    .dataframe tbody tr th:only-of-type {\n",
              "        vertical-align: middle;\n",
              "    }\n",
              "\n",
              "    .dataframe tbody tr th {\n",
              "        vertical-align: top;\n",
              "    }\n",
              "\n",
              "    .dataframe thead th {\n",
              "        text-align: right;\n",
              "    }\n",
              "</style>\n",
              "<table border=\"1\" class=\"dataframe\">\n",
              "  <thead>\n",
              "    <tr style=\"text-align: right;\">\n",
              "      <th></th>\n",
              "      <th>CryoSleep</th>\n",
              "      <th>Cabin2</th>\n",
              "      <th>Cabin3</th>\n",
              "      <th>VIP</th>\n",
              "      <th>RoomService</th>\n",
              "      <th>FoodCourt</th>\n",
              "      <th>ShoppingMall</th>\n",
              "      <th>Spa</th>\n",
              "      <th>VRDeck</th>\n",
              "      <th>A</th>\n",
              "      <th>B</th>\n",
              "      <th>C</th>\n",
              "      <th>D</th>\n",
              "      <th>E</th>\n",
              "      <th>F</th>\n",
              "      <th>G</th>\n",
              "      <th>T</th>\n",
              "      <th>55 Cancri e</th>\n",
              "      <th>PSO J318.5-22</th>\n",
              "      <th>TRAPPIST-1e</th>\n",
              "    </tr>\n",
              "  </thead>\n",
              "  <tbody>\n",
              "    <tr>\n",
              "      <th>0</th>\n",
              "      <td>False</td>\n",
              "      <td>-1.171813</td>\n",
              "      <td>True</td>\n",
              "      <td>False</td>\n",
              "      <td>-0.334680</td>\n",
              "      <td>-0.281438</td>\n",
              "      <td>-0.285053</td>\n",
              "      <td>-0.270872</td>\n",
              "      <td>-0.260036</td>\n",
              "      <td>0</td>\n",
              "      <td>1</td>\n",
              "      <td>0</td>\n",
              "      <td>0</td>\n",
              "      <td>0</td>\n",
              "      <td>0</td>\n",
              "      <td>0</td>\n",
              "      <td>0</td>\n",
              "      <td>0</td>\n",
              "      <td>0</td>\n",
              "      <td>1</td>\n",
              "    </tr>\n",
              "    <tr>\n",
              "      <th>1</th>\n",
              "      <td>False</td>\n",
              "      <td>-1.171813</td>\n",
              "      <td>False</td>\n",
              "      <td>False</td>\n",
              "      <td>-0.166509</td>\n",
              "      <td>-0.275840</td>\n",
              "      <td>-0.243219</td>\n",
              "      <td>0.215668</td>\n",
              "      <td>-0.220589</td>\n",
              "      <td>0</td>\n",
              "      <td>0</td>\n",
              "      <td>0</td>\n",
              "      <td>0</td>\n",
              "      <td>0</td>\n",
              "      <td>1</td>\n",
              "      <td>0</td>\n",
              "      <td>0</td>\n",
              "      <td>0</td>\n",
              "      <td>0</td>\n",
              "      <td>1</td>\n",
              "    </tr>\n",
              "    <tr>\n",
              "      <th>2</th>\n",
              "      <td>False</td>\n",
              "      <td>-1.171813</td>\n",
              "      <td>False</td>\n",
              "      <td>True</td>\n",
              "      <td>-0.268338</td>\n",
              "      <td>1.942578</td>\n",
              "      <td>-0.285053</td>\n",
              "      <td>5.680162</td>\n",
              "      <td>-0.216106</td>\n",
              "      <td>1</td>\n",
              "      <td>0</td>\n",
              "      <td>0</td>\n",
              "      <td>0</td>\n",
              "      <td>0</td>\n",
              "      <td>0</td>\n",
              "      <td>0</td>\n",
              "      <td>0</td>\n",
              "      <td>0</td>\n",
              "      <td>0</td>\n",
              "      <td>1</td>\n",
              "    </tr>\n",
              "    <tr>\n",
              "      <th>3</th>\n",
              "      <td>False</td>\n",
              "      <td>-1.171813</td>\n",
              "      <td>False</td>\n",
              "      <td>False</td>\n",
              "      <td>-0.334680</td>\n",
              "      <td>0.516496</td>\n",
              "      <td>0.335766</td>\n",
              "      <td>2.679387</td>\n",
              "      <td>-0.087005</td>\n",
              "      <td>1</td>\n",
              "      <td>0</td>\n",
              "      <td>0</td>\n",
              "      <td>0</td>\n",
              "      <td>0</td>\n",
              "      <td>0</td>\n",
              "      <td>0</td>\n",
              "      <td>0</td>\n",
              "      <td>0</td>\n",
              "      <td>0</td>\n",
              "      <td>1</td>\n",
              "    </tr>\n",
              "    <tr>\n",
              "      <th>4</th>\n",
              "      <td>False</td>\n",
              "      <td>-1.169865</td>\n",
              "      <td>False</td>\n",
              "      <td>False</td>\n",
              "      <td>0.132804</td>\n",
              "      <td>-0.237903</td>\n",
              "      <td>-0.032375</td>\n",
              "      <td>0.229848</td>\n",
              "      <td>-0.258243</td>\n",
              "      <td>0</td>\n",
              "      <td>0</td>\n",
              "      <td>0</td>\n",
              "      <td>0</td>\n",
              "      <td>0</td>\n",
              "      <td>1</td>\n",
              "      <td>0</td>\n",
              "      <td>0</td>\n",
              "      <td>0</td>\n",
              "      <td>0</td>\n",
              "      <td>1</td>\n",
              "    </tr>\n",
              "  </tbody>\n",
              "</table>\n",
              "</div>"
            ],
            "text/plain": [
              "   CryoSleep    Cabin2  Cabin3    VIP  RoomService  FoodCourt  ShoppingMall  \\\n",
              "0      False -1.171813    True  False    -0.334680  -0.281438     -0.285053   \n",
              "1      False -1.171813   False  False    -0.166509  -0.275840     -0.243219   \n",
              "2      False -1.171813   False   True    -0.268338   1.942578     -0.285053   \n",
              "3      False -1.171813   False  False    -0.334680   0.516496      0.335766   \n",
              "4      False -1.169865   False  False     0.132804  -0.237903     -0.032375   \n",
              "\n",
              "        Spa    VRDeck  A  B  C  D  E  F  G  T  55 Cancri e  PSO J318.5-22  \\\n",
              "0 -0.270872 -0.260036  0  1  0  0  0  0  0  0            0              0   \n",
              "1  0.215668 -0.220589  0  0  0  0  0  1  0  0            0              0   \n",
              "2  5.680162 -0.216106  1  0  0  0  0  0  0  0            0              0   \n",
              "3  2.679387 -0.087005  1  0  0  0  0  0  0  0            0              0   \n",
              "4  0.229848 -0.258243  0  0  0  0  0  1  0  0            0              0   \n",
              "\n",
              "   TRAPPIST-1e  \n",
              "0            1  \n",
              "1            1  \n",
              "2            1  \n",
              "3            1  \n",
              "4            1  "
            ]
          },
          "execution_count": 36,
          "metadata": {},
          "output_type": "execute_result"
        }
      ],
      "source": [
        "hp_data.head()"
      ]
    },
    {
      "cell_type": "code",
      "execution_count": null,
      "id": "c4a284df",
      "metadata": {
        "id": "c4a284df",
        "outputId": "ce97b599-f283-467d-dc20-3764eac785fe"
      },
      "outputs": [
        {
          "data": {
            "text/plain": [
              "0        1\n",
              "1        0\n",
              "2        1\n",
              "3        1\n",
              "4        0\n",
              "        ..\n",
              "12963    2\n",
              "12964    0\n",
              "12965    0\n",
              "12967    2\n",
              "12969    0\n",
              "Name: HomePlanet, Length: 11317, dtype: int64"
            ]
          },
          "execution_count": 37,
          "metadata": {},
          "output_type": "execute_result"
        }
      ],
      "source": [
        "hp_label"
      ]
    },
    {
      "cell_type": "markdown",
      "id": "491e8d1f",
      "metadata": {
        "id": "491e8d1f"
      },
      "source": [
        "## train, test 데이터세트 분리"
      ]
    },
    {
      "cell_type": "code",
      "execution_count": null,
      "id": "8d2f8475",
      "metadata": {
        "id": "8d2f8475"
      },
      "outputs": [],
      "source": [
        "X_train, X_test, y_train, y_test = train_test_split(hp_data,hp_label, random_state =109) "
      ]
    },
    {
      "cell_type": "markdown",
      "id": "c0d6acbc",
      "metadata": {
        "id": "c0d6acbc"
      },
      "source": [
        "## 모델링_랜덤포레스트"
      ]
    },
    {
      "cell_type": "code",
      "execution_count": null,
      "id": "e55eb5d2",
      "metadata": {
        "id": "e55eb5d2"
      },
      "outputs": [],
      "source": [
        "# 임시 모델 설정\n",
        "rfc = RandomForestClassifier()\n",
        "# 그리드 서치\n",
        "#grid = {\n",
        "#    'n_estimators': [50,90,100,150,200, 250],\n",
        "#    'max_depth': [3,5,7,9,13,15],\n",
        "#    'min_samples_leaf':[3,5,7,9,13,15],\n",
        "#    'min_samples_split': [3,5,7,9,13,15]\n",
        "#}\n",
        "# 그리드 객체\n",
        "#rfc_grid = GridSearchCV(rfc, param_grid = grid, scoring = 'accuracy', cv=5, n_jobs=-1, \n",
        "#                       verbose =1)\n",
        "# fitting\n",
        "#rfc_grid.fit(hp_data, hp_label)\n",
        "#print('최고 평균 정확도 : {}'.format(rfc_grid.best_score_))\n",
        "#print('최고 파라미터: {}', rfc_grid.best_params_)"
      ]
    },
    {
      "cell_type": "code",
      "execution_count": null,
      "id": "13ea6126",
      "metadata": {
        "id": "13ea6126",
        "outputId": "440fdb69-b653-4e04-cc07-f51feb300606"
      },
      "outputs": [
        {
          "name": "stdout",
          "output_type": "stream",
          "text": [
            "정확도 :  0.9621807899620041\n"
          ]
        }
      ],
      "source": [
        "# 최적의 파라미터를 이용한 모델링\n",
        "rfc_model = RandomForestClassifier(n_estimators=200, max_depth=15, \n",
        "                                   min_samples_leaf=3, min_samples_split=9, random_state=109)\n",
        "\n",
        "# fitting\n",
        "rfc_model.fit(hp_data, hp_label)\n",
        "\n",
        "# pred \n",
        "rfc_pred = rfc_model.predict(hp_data)\n",
        "print('정확도 : ', accuracy_score(hp_label, rfc_pred))"
      ]
    },
    {
      "cell_type": "code",
      "execution_count": null,
      "id": "bf5990cb",
      "metadata": {
        "id": "bf5990cb",
        "outputId": "bdb16d26-a687-436e-db26-8949968e6629"
      },
      "outputs": [
        {
          "data": {
            "text/plain": [
              "array([[5919,    5,  130],\n",
              "       [  12, 2800,   45],\n",
              "       [ 180,   56, 2170]], dtype=int64)"
            ]
          },
          "execution_count": 43,
          "metadata": {},
          "output_type": "execute_result"
        }
      ],
      "source": [
        "# 혼돈행렬\n",
        "confusion_matrix(hp_label, rfc_pred)"
      ]
    },
    {
      "cell_type": "code",
      "execution_count": null,
      "id": "2bbd2e65",
      "metadata": {
        "id": "2bbd2e65",
        "outputId": "20c8743a-c721-4d1d-9150-b77279978412"
      },
      "outputs": [
        {
          "data": {
            "text/plain": [
              "0.9019118869492935"
            ]
          },
          "execution_count": 44,
          "metadata": {},
          "output_type": "execute_result"
        }
      ],
      "source": [
        "2170/(2170+56+180)"
      ]
    },
    {
      "cell_type": "code",
      "execution_count": null,
      "id": "3781afda",
      "metadata": {
        "id": "3781afda",
        "outputId": "c8d95348-bf74-4d8d-c3df-1dee247b9120"
      },
      "outputs": [
        {
          "name": "stdout",
          "output_type": "stream",
          "text": [
            "Fitting 5 folds for each of 1296 candidates, totalling 6480 fits\n"
          ]
        },
        {
          "data": {
            "text/html": [
              "<style>#sk-container-id-1 {color: black;background-color: white;}#sk-container-id-1 pre{padding: 0;}#sk-container-id-1 div.sk-toggleable {background-color: white;}#sk-container-id-1 label.sk-toggleable__label {cursor: pointer;display: block;width: 100%;margin-bottom: 0;padding: 0.3em;box-sizing: border-box;text-align: center;}#sk-container-id-1 label.sk-toggleable__label-arrow:before {content: \"▸\";float: left;margin-right: 0.25em;color: #696969;}#sk-container-id-1 label.sk-toggleable__label-arrow:hover:before {color: black;}#sk-container-id-1 div.sk-estimator:hover label.sk-toggleable__label-arrow:before {color: black;}#sk-container-id-1 div.sk-toggleable__content {max-height: 0;max-width: 0;overflow: hidden;text-align: left;background-color: #f0f8ff;}#sk-container-id-1 div.sk-toggleable__content pre {margin: 0.2em;color: black;border-radius: 0.25em;background-color: #f0f8ff;}#sk-container-id-1 input.sk-toggleable__control:checked~div.sk-toggleable__content {max-height: 200px;max-width: 100%;overflow: auto;}#sk-container-id-1 input.sk-toggleable__control:checked~label.sk-toggleable__label-arrow:before {content: \"▾\";}#sk-container-id-1 div.sk-estimator input.sk-toggleable__control:checked~label.sk-toggleable__label {background-color: #d4ebff;}#sk-container-id-1 div.sk-label input.sk-toggleable__control:checked~label.sk-toggleable__label {background-color: #d4ebff;}#sk-container-id-1 input.sk-hidden--visually {border: 0;clip: rect(1px 1px 1px 1px);clip: rect(1px, 1px, 1px, 1px);height: 1px;margin: -1px;overflow: hidden;padding: 0;position: absolute;width: 1px;}#sk-container-id-1 div.sk-estimator {font-family: monospace;background-color: #f0f8ff;border: 1px dotted black;border-radius: 0.25em;box-sizing: border-box;margin-bottom: 0.5em;}#sk-container-id-1 div.sk-estimator:hover {background-color: #d4ebff;}#sk-container-id-1 div.sk-parallel-item::after {content: \"\";width: 100%;border-bottom: 1px solid gray;flex-grow: 1;}#sk-container-id-1 div.sk-label:hover label.sk-toggleable__label {background-color: #d4ebff;}#sk-container-id-1 div.sk-serial::before {content: \"\";position: absolute;border-left: 1px solid gray;box-sizing: border-box;top: 0;bottom: 0;left: 50%;z-index: 0;}#sk-container-id-1 div.sk-serial {display: flex;flex-direction: column;align-items: center;background-color: white;padding-right: 0.2em;padding-left: 0.2em;position: relative;}#sk-container-id-1 div.sk-item {position: relative;z-index: 1;}#sk-container-id-1 div.sk-parallel {display: flex;align-items: stretch;justify-content: center;background-color: white;position: relative;}#sk-container-id-1 div.sk-item::before, #sk-container-id-1 div.sk-parallel-item::before {content: \"\";position: absolute;border-left: 1px solid gray;box-sizing: border-box;top: 0;bottom: 0;left: 50%;z-index: -1;}#sk-container-id-1 div.sk-parallel-item {display: flex;flex-direction: column;z-index: 1;position: relative;background-color: white;}#sk-container-id-1 div.sk-parallel-item:first-child::after {align-self: flex-end;width: 50%;}#sk-container-id-1 div.sk-parallel-item:last-child::after {align-self: flex-start;width: 50%;}#sk-container-id-1 div.sk-parallel-item:only-child::after {width: 0;}#sk-container-id-1 div.sk-dashed-wrapped {border: 1px dashed gray;margin: 0 0.4em 0.5em 0.4em;box-sizing: border-box;padding-bottom: 0.4em;background-color: white;}#sk-container-id-1 div.sk-label label {font-family: monospace;font-weight: bold;display: inline-block;line-height: 1.2em;}#sk-container-id-1 div.sk-label-container {text-align: center;}#sk-container-id-1 div.sk-container {/* jupyter's `normalize.less` sets `[hidden] { display: none; }` but bootstrap.min.css set `[hidden] { display: none !important; }` so we also need the `!important` here to be able to override the default hidden behavior on the sphinx rendered scikit-learn.org. See: https://github.com/scikit-learn/scikit-learn/issues/21755 */display: inline-block !important;position: relative;}#sk-container-id-1 div.sk-text-repr-fallback {display: none;}</style><div id=\"sk-container-id-1\" class=\"sk-top-container\"><div class=\"sk-text-repr-fallback\"><pre>GridSearchCV(cv=5, estimator=RandomForestClassifier(), n_jobs=-1,\n",
              "             param_grid={&#x27;max_depth&#x27;: [3, 5, 7, 9, 13, 15],\n",
              "                         &#x27;min_samples_leaf&#x27;: [3, 5, 7, 9, 13, 15],\n",
              "                         &#x27;min_samples_split&#x27;: [3, 5, 7, 9, 13, 15],\n",
              "                         &#x27;n_estimators&#x27;: [50, 90, 100, 150, 200, 250]},\n",
              "             scoring=&#x27;accuracy&#x27;, verbose=1)</pre><b>In a Jupyter environment, please rerun this cell to show the HTML representation or trust the notebook. <br />On GitHub, the HTML representation is unable to render, please try loading this page with nbviewer.org.</b></div><div class=\"sk-container\" hidden><div class=\"sk-item sk-dashed-wrapped\"><div class=\"sk-label-container\"><div class=\"sk-label sk-toggleable\"><input class=\"sk-toggleable__control sk-hidden--visually\" id=\"sk-estimator-id-1\" type=\"checkbox\" ><label for=\"sk-estimator-id-1\" class=\"sk-toggleable__label sk-toggleable__label-arrow\">GridSearchCV</label><div class=\"sk-toggleable__content\"><pre>GridSearchCV(cv=5, estimator=RandomForestClassifier(), n_jobs=-1,\n",
              "             param_grid={&#x27;max_depth&#x27;: [3, 5, 7, 9, 13, 15],\n",
              "                         &#x27;min_samples_leaf&#x27;: [3, 5, 7, 9, 13, 15],\n",
              "                         &#x27;min_samples_split&#x27;: [3, 5, 7, 9, 13, 15],\n",
              "                         &#x27;n_estimators&#x27;: [50, 90, 100, 150, 200, 250]},\n",
              "             scoring=&#x27;accuracy&#x27;, verbose=1)</pre></div></div></div><div class=\"sk-parallel\"><div class=\"sk-parallel-item\"><div class=\"sk-item\"><div class=\"sk-label-container\"><div class=\"sk-label sk-toggleable\"><input class=\"sk-toggleable__control sk-hidden--visually\" id=\"sk-estimator-id-2\" type=\"checkbox\" ><label for=\"sk-estimator-id-2\" class=\"sk-toggleable__label sk-toggleable__label-arrow\">estimator: RandomForestClassifier</label><div class=\"sk-toggleable__content\"><pre>RandomForestClassifier()</pre></div></div></div><div class=\"sk-serial\"><div class=\"sk-item\"><div class=\"sk-estimator sk-toggleable\"><input class=\"sk-toggleable__control sk-hidden--visually\" id=\"sk-estimator-id-3\" type=\"checkbox\" ><label for=\"sk-estimator-id-3\" class=\"sk-toggleable__label sk-toggleable__label-arrow\">RandomForestClassifier</label><div class=\"sk-toggleable__content\"><pre>RandomForestClassifier()</pre></div></div></div></div></div></div></div></div></div></div>"
            ],
            "text/plain": [
              "GridSearchCV(cv=5, estimator=RandomForestClassifier(), n_jobs=-1,\n",
              "             param_grid={'max_depth': [3, 5, 7, 9, 13, 15],\n",
              "                         'min_samples_leaf': [3, 5, 7, 9, 13, 15],\n",
              "                         'min_samples_split': [3, 5, 7, 9, 13, 15],\n",
              "                         'n_estimators': [50, 90, 100, 150, 200, 250]},\n",
              "             scoring='accuracy', verbose=1)"
            ]
          },
          "execution_count": 46,
          "metadata": {},
          "output_type": "execute_result"
        }
      ],
      "source": [
        "rf_clf = RandomForestClassifier()\n",
        "grid = {\n",
        "    'n_estimators': [50,90,100,150,200, 250],\n",
        "    'max_depth': [3,5,7,9,13,15],\n",
        "    'min_samples_leaf':[3,5,7,9,13,15],\n",
        "    'min_samples_split': [3,5,7,9,13,15]}\n",
        "\n",
        "clf_grid = GridSearchCV(rf_clf, param_grid = grid, scoring='accuracy', verbose=1, cv= 5, n_jobs=-1)\n",
        "\n",
        "clf_grid.fit(X_train, y_train)\n"
      ]
    },
    {
      "cell_type": "code",
      "execution_count": null,
      "id": "b681b903",
      "metadata": {
        "id": "b681b903",
        "outputId": "62817404-bada-4268-a264-8b981e0718da"
      },
      "outputs": [
        {
          "name": "stdout",
          "output_type": "stream",
          "text": [
            "최고 평균 정확도 : 0.9370803322984578\n",
            "최고 파라미터: {} {'max_depth': 15, 'min_samples_leaf': 3, 'min_samples_split': 9, 'n_estimators': 200}\n"
          ]
        }
      ],
      "source": [
        "print('최고 평균 정확도 : {}'.format(clf_grid.best_score_))\n",
        "print('최고 파라미터: {}', clf_grid.best_params_)"
      ]
    },
    {
      "cell_type": "code",
      "execution_count": null,
      "id": "5bbe0620",
      "metadata": {
        "id": "5bbe0620",
        "outputId": "41050c36-f93f-470e-dda2-93c87359356f"
      },
      "outputs": [
        {
          "name": "stdout",
          "output_type": "stream",
          "text": [
            "정확도 :  0.9406360424028268\n"
          ]
        }
      ],
      "source": [
        "# 최적의 파라미터를 이용한 모델링\n",
        "clf_model = RandomForestClassifier(n_estimators=150, max_depth=15, \n",
        "                                   min_samples_leaf=3, min_samples_split=5, random_state=109)\n",
        "\n",
        "# fitting\n",
        "clf_model.fit(X_train, y_train)\n",
        "\n",
        "# pred \n",
        "clf_pred = clf_model.predict(X_test)\n",
        "print('정확도 : ', accuracy_score(y_test, clf_pred))"
      ]
    },
    {
      "cell_type": "code",
      "execution_count": null,
      "id": "e0de4403",
      "metadata": {
        "id": "e0de4403",
        "outputId": "bfa241df-505a-45d6-ded7-ff1f55f6ed9b"
      },
      "outputs": [
        {
          "data": {
            "text/plain": [
              "array([[1481,    1,   47],\n",
              "       [  11,  671,   15],\n",
              "       [  78,   16,  510]], dtype=int64)"
            ]
          },
          "execution_count": 49,
          "metadata": {},
          "output_type": "execute_result"
        }
      ],
      "source": [
        "confusion_matrix(y_test, clf_pred)"
      ]
    },
    {
      "cell_type": "code",
      "execution_count": null,
      "id": "4fbd1de2",
      "metadata": {
        "id": "4fbd1de2",
        "outputId": "899b9b35-0a7f-4138-eb43-16d63773d455"
      },
      "outputs": [
        {
          "data": {
            "text/plain": [
              "0.8443708609271523"
            ]
          },
          "execution_count": 50,
          "metadata": {},
          "output_type": "execute_result"
        }
      ],
      "source": [
        "# Mars의 예측 정확도가 다소 낮은걸 확인\n",
        "510/(78+16+510)"
      ]
    },
    {
      "cell_type": "markdown",
      "id": "71486c08",
      "metadata": {
        "id": "71486c08"
      },
      "source": [
        "## 모델링_XGBoost"
      ]
    },
    {
      "cell_type": "code",
      "execution_count": null,
      "id": "104285b7",
      "metadata": {
        "id": "104285b7"
      },
      "outputs": [],
      "source": [
        "# hyperopt 적용을 위한 설정 값 담기\n",
        "xgb_search_space = {'max_depth': hp.quniform('max_depth', 5, 20, 1),\n",
        "                    'min_child_weight': hp.quniform('min_child_weight', 1, 2, 1),\n",
        "                    'learning_rate': hp.uniform('learning_rate', 0.01, 0.2),\n",
        "                    'colsample_bytree': hp.uniform('colsample_bytree', 0.5, 1)\n",
        "               }"
      ]
    },
    {
      "cell_type": "code",
      "execution_count": null,
      "id": "602ae67a",
      "metadata": {
        "id": "602ae67a"
      },
      "outputs": [],
      "source": [
        "# 실행을 위한 함수 정의\n",
        "def objective_func(search_space):\n",
        "    xgb_clf = XGBClassifier(n_estimators=100, max_depth=int(search_space['max_depth']),\n",
        "                            min_child_weight=int(search_space['min_child_weight']),\n",
        "                            learning_rate=search_space['learning_rate'],\n",
        "                            colsample_bytree=search_space['colsample_bytree'], \n",
        "                            eval_metric='logloss')\n",
        "    accuracy = cross_val_score(xgb_clf, X_train, y_train, scoring='accuracy', cv=3)\n",
        "    return {'loss':-1 * np.mean(accuracy), 'status': STATUS_OK}\n"
      ]
    },
    {
      "cell_type": "code",
      "execution_count": null,
      "id": "807772f5",
      "metadata": {
        "id": "807772f5",
        "outputId": "a454b9f4-82dc-408d-d45d-b73f05a072d1"
      },
      "outputs": [
        {
          "name": "stdout",
          "output_type": "stream",
          "text": [
            "100%|███████████████████████████████████████████████| 50/50 [02:59<00:00,  3.59s/trial, best loss: -0.9408507128549547]\n",
            "best: {'colsample_bytree': 0.6385285878314475, 'learning_rate': 0.16316252418744445, 'max_depth': 12.0, 'min_child_weight': 1.0}\n"
          ]
        }
      ],
      "source": [
        "# 최적의 파라미터 찾기\n",
        "trial_val = Trials()\n",
        "best = fmin(fn=objective_func, # 정의한 실행 함수\n",
        "            space=xgb_search_space, # 하이퍼 오피티 설정값 정의한거\n",
        "            algo=tpe.suggest,\n",
        "            max_evals=50,\n",
        "            trials=trial_val, rstate=np.random.default_rng(seed=9))\n",
        "print('best:', best)"
      ]
    },
    {
      "cell_type": "code",
      "execution_count": null,
      "id": "c0ec81fd",
      "metadata": {
        "id": "c0ec81fd",
        "outputId": "867b2efa-c9be-4be1-f392-3990028c40ed"
      },
      "outputs": [
        {
          "name": "stdout",
          "output_type": "stream",
          "text": [
            "정확도 :  0.9452296819787986\n",
            "혼돈행렬 : \n",
            " [[1468    4   57]\n",
            " [   5  678   14]\n",
            " [  62   13  529]]\n"
          ]
        }
      ],
      "source": [
        "# 모델링\n",
        "xgb_model = XGBClassifier(n_estimators=200, learning_rate=round(best['learning_rate'], 5), \n",
        "                            max_depth=int(best['max_depth']), min_child_weight=int(best['min_child_weight']),\n",
        "                            colsample_bytree=round(best['colsample_bytree'], 5)\n",
        "                           )\n",
        "xgb_model.fit(X_train, y_train)\n",
        "pred= xgb_model.predict(X_test)\n",
        "print('정확도 : ', accuracy_score(y_test, pred))\n",
        "print('혼돈행렬 : \\n', confusion_matrix(y_test, pred))"
      ]
    },
    {
      "cell_type": "code",
      "execution_count": null,
      "id": "b15f390c",
      "metadata": {
        "id": "b15f390c",
        "outputId": "38409567-fd74-4f9a-ae3b-60066c99a4e7"
      },
      "outputs": [
        {
          "data": {
            "text/plain": [
              "87.58278145695364"
            ]
          },
          "execution_count": 55,
          "metadata": {},
          "output_type": "execute_result"
        }
      ],
      "source": [
        "# Mars의 정확도\n",
        "529/(62+13+529)*100"
      ]
    },
    {
      "cell_type": "markdown",
      "id": "54ef2ba3",
      "metadata": {
        "id": "54ef2ba3"
      },
      "source": [
        "## 복합 샘플링"
      ]
    },
    {
      "cell_type": "code",
      "execution_count": null,
      "id": "e4e06acf",
      "metadata": {
        "id": "e4e06acf",
        "outputId": "3012a5bf-cada-4555-dd92-7a6a7e3176d5"
      },
      "outputs": [
        {
          "data": {
            "text/plain": [
              "(array([0, 1, 2], dtype=int64), array([6054, 2857, 2406], dtype=int64))"
            ]
          },
          "execution_count": 56,
          "metadata": {},
          "output_type": "execute_result"
        }
      ],
      "source": [
        "# 샘플 편향\n",
        "np.unique(hp_label, return_counts = True)"
      ]
    },
    {
      "cell_type": "code",
      "execution_count": null,
      "id": "85cdf33d",
      "metadata": {
        "id": "85cdf33d",
        "outputId": "d8fb1abd-4358-4492-d780-5a10d2d506a0"
      },
      "outputs": [
        {
          "ename": "AttributeError",
          "evalue": "'NoneType' object has no attribute 'split'",
          "output_type": "error",
          "traceback": [
            "\u001b[1;31m---------------------------------------------------------------------------\u001b[0m",
            "\u001b[1;31mAttributeError\u001b[0m                            Traceback (most recent call last)",
            "\u001b[1;32m~\\AppData\\Local\\Temp/ipykernel_10908/3568714071.py\u001b[0m in \u001b[0;36m<module>\u001b[1;34m\u001b[0m\n\u001b[0;32m      1\u001b[0m \u001b[1;31m# 복합 샘플링\u001b[0m\u001b[1;33m\u001b[0m\u001b[1;33m\u001b[0m\u001b[0m\n\u001b[1;32m----> 2\u001b[1;33m \u001b[0mX_samp\u001b[0m\u001b[1;33m,\u001b[0m \u001b[0my_samp\u001b[0m \u001b[1;33m=\u001b[0m \u001b[0mSMOTEENN\u001b[0m\u001b[1;33m(\u001b[0m\u001b[0mrandom_state\u001b[0m\u001b[1;33m=\u001b[0m\u001b[1;36m109\u001b[0m\u001b[1;33m)\u001b[0m\u001b[1;33m.\u001b[0m\u001b[0mfit_resample\u001b[0m\u001b[1;33m(\u001b[0m\u001b[0mhp_data\u001b[0m\u001b[1;33m,\u001b[0m \u001b[0mhp_label\u001b[0m\u001b[1;33m)\u001b[0m\u001b[1;33m\u001b[0m\u001b[1;33m\u001b[0m\u001b[0m\n\u001b[0m",
            "\u001b[1;32mC:\\Anaconda3\\lib\\site-packages\\imblearn\\base.py\u001b[0m in \u001b[0;36mfit_resample\u001b[1;34m(self, X, y)\u001b[0m\n\u001b[0;32m     81\u001b[0m         )\n\u001b[0;32m     82\u001b[0m \u001b[1;33m\u001b[0m\u001b[0m\n\u001b[1;32m---> 83\u001b[1;33m         \u001b[0moutput\u001b[0m \u001b[1;33m=\u001b[0m \u001b[0mself\u001b[0m\u001b[1;33m.\u001b[0m\u001b[0m_fit_resample\u001b[0m\u001b[1;33m(\u001b[0m\u001b[0mX\u001b[0m\u001b[1;33m,\u001b[0m \u001b[0my\u001b[0m\u001b[1;33m)\u001b[0m\u001b[1;33m\u001b[0m\u001b[1;33m\u001b[0m\u001b[0m\n\u001b[0m\u001b[0;32m     84\u001b[0m \u001b[1;33m\u001b[0m\u001b[0m\n\u001b[0;32m     85\u001b[0m         y_ = (\n",
            "\u001b[1;32mC:\\Anaconda3\\lib\\site-packages\\imblearn\\combine\\_smote_enn.py\u001b[0m in \u001b[0;36m_fit_resample\u001b[1;34m(self, X, y)\u001b[0m\n\u001b[0;32m    161\u001b[0m         \u001b[0mself\u001b[0m\u001b[1;33m.\u001b[0m\u001b[0msampling_strategy_\u001b[0m \u001b[1;33m=\u001b[0m \u001b[0mself\u001b[0m\u001b[1;33m.\u001b[0m\u001b[0msampling_strategy\u001b[0m\u001b[1;33m\u001b[0m\u001b[1;33m\u001b[0m\u001b[0m\n\u001b[0;32m    162\u001b[0m \u001b[1;33m\u001b[0m\u001b[0m\n\u001b[1;32m--> 163\u001b[1;33m         \u001b[0mX_res\u001b[0m\u001b[1;33m,\u001b[0m \u001b[0my_res\u001b[0m \u001b[1;33m=\u001b[0m \u001b[0mself\u001b[0m\u001b[1;33m.\u001b[0m\u001b[0msmote_\u001b[0m\u001b[1;33m.\u001b[0m\u001b[0mfit_resample\u001b[0m\u001b[1;33m(\u001b[0m\u001b[0mX\u001b[0m\u001b[1;33m,\u001b[0m \u001b[0my\u001b[0m\u001b[1;33m)\u001b[0m\u001b[1;33m\u001b[0m\u001b[1;33m\u001b[0m\u001b[0m\n\u001b[0m\u001b[0;32m    164\u001b[0m         \u001b[1;32mreturn\u001b[0m \u001b[0mself\u001b[0m\u001b[1;33m.\u001b[0m\u001b[0menn_\u001b[0m\u001b[1;33m.\u001b[0m\u001b[0mfit_resample\u001b[0m\u001b[1;33m(\u001b[0m\u001b[0mX_res\u001b[0m\u001b[1;33m,\u001b[0m \u001b[0my_res\u001b[0m\u001b[1;33m)\u001b[0m\u001b[1;33m\u001b[0m\u001b[1;33m\u001b[0m\u001b[0m\n",
            "\u001b[1;32mC:\\Anaconda3\\lib\\site-packages\\imblearn\\base.py\u001b[0m in \u001b[0;36mfit_resample\u001b[1;34m(self, X, y)\u001b[0m\n\u001b[0;32m     81\u001b[0m         )\n\u001b[0;32m     82\u001b[0m \u001b[1;33m\u001b[0m\u001b[0m\n\u001b[1;32m---> 83\u001b[1;33m         \u001b[0moutput\u001b[0m \u001b[1;33m=\u001b[0m \u001b[0mself\u001b[0m\u001b[1;33m.\u001b[0m\u001b[0m_fit_resample\u001b[0m\u001b[1;33m(\u001b[0m\u001b[0mX\u001b[0m\u001b[1;33m,\u001b[0m \u001b[0my\u001b[0m\u001b[1;33m)\u001b[0m\u001b[1;33m\u001b[0m\u001b[1;33m\u001b[0m\u001b[0m\n\u001b[0m\u001b[0;32m     84\u001b[0m \u001b[1;33m\u001b[0m\u001b[0m\n\u001b[0;32m     85\u001b[0m         y_ = (\n",
            "\u001b[1;32mC:\\Anaconda3\\lib\\site-packages\\imblearn\\over_sampling\\_smote\\base.py\u001b[0m in \u001b[0;36m_fit_resample\u001b[1;34m(self, X, y)\u001b[0m\n\u001b[0;32m    322\u001b[0m \u001b[1;33m\u001b[0m\u001b[0m\n\u001b[0;32m    323\u001b[0m             \u001b[0mself\u001b[0m\u001b[1;33m.\u001b[0m\u001b[0mnn_k_\u001b[0m\u001b[1;33m.\u001b[0m\u001b[0mfit\u001b[0m\u001b[1;33m(\u001b[0m\u001b[0mX_class\u001b[0m\u001b[1;33m)\u001b[0m\u001b[1;33m\u001b[0m\u001b[1;33m\u001b[0m\u001b[0m\n\u001b[1;32m--> 324\u001b[1;33m             \u001b[0mnns\u001b[0m \u001b[1;33m=\u001b[0m \u001b[0mself\u001b[0m\u001b[1;33m.\u001b[0m\u001b[0mnn_k_\u001b[0m\u001b[1;33m.\u001b[0m\u001b[0mkneighbors\u001b[0m\u001b[1;33m(\u001b[0m\u001b[0mX_class\u001b[0m\u001b[1;33m,\u001b[0m \u001b[0mreturn_distance\u001b[0m\u001b[1;33m=\u001b[0m\u001b[1;32mFalse\u001b[0m\u001b[1;33m)\u001b[0m\u001b[1;33m[\u001b[0m\u001b[1;33m:\u001b[0m\u001b[1;33m,\u001b[0m \u001b[1;36m1\u001b[0m\u001b[1;33m:\u001b[0m\u001b[1;33m]\u001b[0m\u001b[1;33m\u001b[0m\u001b[1;33m\u001b[0m\u001b[0m\n\u001b[0m\u001b[0;32m    325\u001b[0m             X_new, y_new = self._make_samples(\n\u001b[0;32m    326\u001b[0m                 \u001b[0mX_class\u001b[0m\u001b[1;33m,\u001b[0m \u001b[0my\u001b[0m\u001b[1;33m.\u001b[0m\u001b[0mdtype\u001b[0m\u001b[1;33m,\u001b[0m \u001b[0mclass_sample\u001b[0m\u001b[1;33m,\u001b[0m \u001b[0mX_class\u001b[0m\u001b[1;33m,\u001b[0m \u001b[0mnns\u001b[0m\u001b[1;33m,\u001b[0m \u001b[0mn_samples\u001b[0m\u001b[1;33m,\u001b[0m \u001b[1;36m1.0\u001b[0m\u001b[1;33m\u001b[0m\u001b[1;33m\u001b[0m\u001b[0m\n",
            "\u001b[1;32m~\\AppData\\Roaming\\Python\\Python39\\site-packages\\sklearn\\neighbors\\_base.py\u001b[0m in \u001b[0;36mkneighbors\u001b[1;34m(self, X, n_neighbors, return_distance)\u001b[0m\n\u001b[0;32m    761\u001b[0m         )\n\u001b[0;32m    762\u001b[0m         \u001b[1;32mif\u001b[0m \u001b[0muse_pairwise_distances_reductions\u001b[0m\u001b[1;33m:\u001b[0m\u001b[1;33m\u001b[0m\u001b[1;33m\u001b[0m\u001b[0m\n\u001b[1;32m--> 763\u001b[1;33m             results = PairwiseDistancesArgKmin.compute(\n\u001b[0m\u001b[0;32m    764\u001b[0m                 \u001b[0mX\u001b[0m\u001b[1;33m=\u001b[0m\u001b[0mX\u001b[0m\u001b[1;33m,\u001b[0m\u001b[1;33m\u001b[0m\u001b[1;33m\u001b[0m\u001b[0m\n\u001b[0;32m    765\u001b[0m                 \u001b[0mY\u001b[0m\u001b[1;33m=\u001b[0m\u001b[0mself\u001b[0m\u001b[1;33m.\u001b[0m\u001b[0m_fit_X\u001b[0m\u001b[1;33m,\u001b[0m\u001b[1;33m\u001b[0m\u001b[1;33m\u001b[0m\u001b[0m\n",
            "\u001b[1;32msklearn\\metrics\\_pairwise_distances_reduction.pyx\u001b[0m in \u001b[0;36msklearn.metrics._pairwise_distances_reduction.PairwiseDistancesArgKmin.compute\u001b[1;34m()\u001b[0m\n",
            "\u001b[1;32m~\\AppData\\Roaming\\Python\\Python39\\site-packages\\sklearn\\utils\\fixes.py\u001b[0m in \u001b[0;36mthreadpool_limits\u001b[1;34m(limits, user_api)\u001b[0m\n\u001b[0;32m    149\u001b[0m         \u001b[1;32mreturn\u001b[0m \u001b[0mcontroller\u001b[0m\u001b[1;33m.\u001b[0m\u001b[0mlimit\u001b[0m\u001b[1;33m(\u001b[0m\u001b[0mlimits\u001b[0m\u001b[1;33m=\u001b[0m\u001b[0mlimits\u001b[0m\u001b[1;33m,\u001b[0m \u001b[0muser_api\u001b[0m\u001b[1;33m=\u001b[0m\u001b[0muser_api\u001b[0m\u001b[1;33m)\u001b[0m\u001b[1;33m\u001b[0m\u001b[1;33m\u001b[0m\u001b[0m\n\u001b[0;32m    150\u001b[0m     \u001b[1;32melse\u001b[0m\u001b[1;33m:\u001b[0m\u001b[1;33m\u001b[0m\u001b[1;33m\u001b[0m\u001b[0m\n\u001b[1;32m--> 151\u001b[1;33m         \u001b[1;32mreturn\u001b[0m \u001b[0mthreadpoolctl\u001b[0m\u001b[1;33m.\u001b[0m\u001b[0mthreadpool_limits\u001b[0m\u001b[1;33m(\u001b[0m\u001b[0mlimits\u001b[0m\u001b[1;33m=\u001b[0m\u001b[0mlimits\u001b[0m\u001b[1;33m,\u001b[0m \u001b[0muser_api\u001b[0m\u001b[1;33m=\u001b[0m\u001b[0muser_api\u001b[0m\u001b[1;33m)\u001b[0m\u001b[1;33m\u001b[0m\u001b[1;33m\u001b[0m\u001b[0m\n\u001b[0m\u001b[0;32m    152\u001b[0m \u001b[1;33m\u001b[0m\u001b[0m\n\u001b[0;32m    153\u001b[0m \u001b[1;33m\u001b[0m\u001b[0m\n",
            "\u001b[1;32mC:\\Anaconda3\\lib\\site-packages\\threadpoolctl.py\u001b[0m in \u001b[0;36m__init__\u001b[1;34m(self, limits, user_api)\u001b[0m\n\u001b[0;32m    169\u001b[0m             \u001b[0mself\u001b[0m\u001b[1;33m.\u001b[0m\u001b[0m_check_params\u001b[0m\u001b[1;33m(\u001b[0m\u001b[0mlimits\u001b[0m\u001b[1;33m,\u001b[0m \u001b[0muser_api\u001b[0m\u001b[1;33m)\u001b[0m\u001b[1;33m\u001b[0m\u001b[1;33m\u001b[0m\u001b[0m\n\u001b[0;32m    170\u001b[0m \u001b[1;33m\u001b[0m\u001b[0m\n\u001b[1;32m--> 171\u001b[1;33m         \u001b[0mself\u001b[0m\u001b[1;33m.\u001b[0m\u001b[0m_original_info\u001b[0m \u001b[1;33m=\u001b[0m \u001b[0mself\u001b[0m\u001b[1;33m.\u001b[0m\u001b[0m_set_threadpool_limits\u001b[0m\u001b[1;33m(\u001b[0m\u001b[1;33m)\u001b[0m\u001b[1;33m\u001b[0m\u001b[1;33m\u001b[0m\u001b[0m\n\u001b[0m\u001b[0;32m    172\u001b[0m \u001b[1;33m\u001b[0m\u001b[0m\n\u001b[0;32m    173\u001b[0m     \u001b[1;32mdef\u001b[0m \u001b[0m__enter__\u001b[0m\u001b[1;33m(\u001b[0m\u001b[0mself\u001b[0m\u001b[1;33m)\u001b[0m\u001b[1;33m:\u001b[0m\u001b[1;33m\u001b[0m\u001b[1;33m\u001b[0m\u001b[0m\n",
            "\u001b[1;32mC:\\Anaconda3\\lib\\site-packages\\threadpoolctl.py\u001b[0m in \u001b[0;36m_set_threadpool_limits\u001b[1;34m(self)\u001b[0m\n\u001b[0;32m    266\u001b[0m             \u001b[1;32mreturn\u001b[0m \u001b[1;32mNone\u001b[0m\u001b[1;33m\u001b[0m\u001b[1;33m\u001b[0m\u001b[0m\n\u001b[0;32m    267\u001b[0m \u001b[1;33m\u001b[0m\u001b[0m\n\u001b[1;32m--> 268\u001b[1;33m         modules = _ThreadpoolInfo(prefixes=self._prefixes,\n\u001b[0m\u001b[0;32m    269\u001b[0m                                   user_api=self._user_api)\n\u001b[0;32m    270\u001b[0m         \u001b[1;32mfor\u001b[0m \u001b[0mmodule\u001b[0m \u001b[1;32min\u001b[0m \u001b[0mmodules\u001b[0m\u001b[1;33m:\u001b[0m\u001b[1;33m\u001b[0m\u001b[1;33m\u001b[0m\u001b[0m\n",
            "\u001b[1;32mC:\\Anaconda3\\lib\\site-packages\\threadpoolctl.py\u001b[0m in \u001b[0;36m__init__\u001b[1;34m(self, user_api, prefixes, modules)\u001b[0m\n\u001b[0;32m    338\u001b[0m \u001b[1;33m\u001b[0m\u001b[0m\n\u001b[0;32m    339\u001b[0m             \u001b[0mself\u001b[0m\u001b[1;33m.\u001b[0m\u001b[0mmodules\u001b[0m \u001b[1;33m=\u001b[0m \u001b[1;33m[\u001b[0m\u001b[1;33m]\u001b[0m\u001b[1;33m\u001b[0m\u001b[1;33m\u001b[0m\u001b[0m\n\u001b[1;32m--> 340\u001b[1;33m             \u001b[0mself\u001b[0m\u001b[1;33m.\u001b[0m\u001b[0m_load_modules\u001b[0m\u001b[1;33m(\u001b[0m\u001b[1;33m)\u001b[0m\u001b[1;33m\u001b[0m\u001b[1;33m\u001b[0m\u001b[0m\n\u001b[0m\u001b[0;32m    341\u001b[0m             \u001b[0mself\u001b[0m\u001b[1;33m.\u001b[0m\u001b[0m_warn_if_incompatible_openmp\u001b[0m\u001b[1;33m(\u001b[0m\u001b[1;33m)\u001b[0m\u001b[1;33m\u001b[0m\u001b[1;33m\u001b[0m\u001b[0m\n\u001b[0;32m    342\u001b[0m         \u001b[1;32melse\u001b[0m\u001b[1;33m:\u001b[0m\u001b[1;33m\u001b[0m\u001b[1;33m\u001b[0m\u001b[0m\n",
            "\u001b[1;32mC:\\Anaconda3\\lib\\site-packages\\threadpoolctl.py\u001b[0m in \u001b[0;36m_load_modules\u001b[1;34m(self)\u001b[0m\n\u001b[0;32m    371\u001b[0m             \u001b[0mself\u001b[0m\u001b[1;33m.\u001b[0m\u001b[0m_find_modules_with_dyld\u001b[0m\u001b[1;33m(\u001b[0m\u001b[1;33m)\u001b[0m\u001b[1;33m\u001b[0m\u001b[1;33m\u001b[0m\u001b[0m\n\u001b[0;32m    372\u001b[0m         \u001b[1;32melif\u001b[0m \u001b[0msys\u001b[0m\u001b[1;33m.\u001b[0m\u001b[0mplatform\u001b[0m \u001b[1;33m==\u001b[0m \u001b[1;34m\"win32\"\u001b[0m\u001b[1;33m:\u001b[0m\u001b[1;33m\u001b[0m\u001b[1;33m\u001b[0m\u001b[0m\n\u001b[1;32m--> 373\u001b[1;33m             \u001b[0mself\u001b[0m\u001b[1;33m.\u001b[0m\u001b[0m_find_modules_with_enum_process_module_ex\u001b[0m\u001b[1;33m(\u001b[0m\u001b[1;33m)\u001b[0m\u001b[1;33m\u001b[0m\u001b[1;33m\u001b[0m\u001b[0m\n\u001b[0m\u001b[0;32m    374\u001b[0m         \u001b[1;32melse\u001b[0m\u001b[1;33m:\u001b[0m\u001b[1;33m\u001b[0m\u001b[1;33m\u001b[0m\u001b[0m\n\u001b[0;32m    375\u001b[0m             \u001b[0mself\u001b[0m\u001b[1;33m.\u001b[0m\u001b[0m_find_modules_with_dl_iterate_phdr\u001b[0m\u001b[1;33m(\u001b[0m\u001b[1;33m)\u001b[0m\u001b[1;33m\u001b[0m\u001b[1;33m\u001b[0m\u001b[0m\n",
            "\u001b[1;32mC:\\Anaconda3\\lib\\site-packages\\threadpoolctl.py\u001b[0m in \u001b[0;36m_find_modules_with_enum_process_module_ex\u001b[1;34m(self)\u001b[0m\n\u001b[0;32m    483\u001b[0m \u001b[1;33m\u001b[0m\u001b[0m\n\u001b[0;32m    484\u001b[0m                 \u001b[1;31m# Store the module if it is supported and selected\u001b[0m\u001b[1;33m\u001b[0m\u001b[1;33m\u001b[0m\u001b[0m\n\u001b[1;32m--> 485\u001b[1;33m                 \u001b[0mself\u001b[0m\u001b[1;33m.\u001b[0m\u001b[0m_make_module_from_path\u001b[0m\u001b[1;33m(\u001b[0m\u001b[0mfilepath\u001b[0m\u001b[1;33m)\u001b[0m\u001b[1;33m\u001b[0m\u001b[1;33m\u001b[0m\u001b[0m\n\u001b[0m\u001b[0;32m    486\u001b[0m         \u001b[1;32mfinally\u001b[0m\u001b[1;33m:\u001b[0m\u001b[1;33m\u001b[0m\u001b[1;33m\u001b[0m\u001b[0m\n\u001b[0;32m    487\u001b[0m             \u001b[0mkernel_32\u001b[0m\u001b[1;33m.\u001b[0m\u001b[0mCloseHandle\u001b[0m\u001b[1;33m(\u001b[0m\u001b[0mh_process\u001b[0m\u001b[1;33m)\u001b[0m\u001b[1;33m\u001b[0m\u001b[1;33m\u001b[0m\u001b[0m\n",
            "\u001b[1;32mC:\\Anaconda3\\lib\\site-packages\\threadpoolctl.py\u001b[0m in \u001b[0;36m_make_module_from_path\u001b[1;34m(self, filepath)\u001b[0m\n\u001b[0;32m    513\u001b[0m             \u001b[1;32mif\u001b[0m \u001b[0mprefix\u001b[0m \u001b[1;32min\u001b[0m \u001b[0mself\u001b[0m\u001b[1;33m.\u001b[0m\u001b[0mprefixes\u001b[0m \u001b[1;32mor\u001b[0m \u001b[0muser_api\u001b[0m \u001b[1;32min\u001b[0m \u001b[0mself\u001b[0m\u001b[1;33m.\u001b[0m\u001b[0muser_api\u001b[0m\u001b[1;33m:\u001b[0m\u001b[1;33m\u001b[0m\u001b[1;33m\u001b[0m\u001b[0m\n\u001b[0;32m    514\u001b[0m                 \u001b[0mmodule_class\u001b[0m \u001b[1;33m=\u001b[0m \u001b[0mglobals\u001b[0m\u001b[1;33m(\u001b[0m\u001b[1;33m)\u001b[0m\u001b[1;33m[\u001b[0m\u001b[0mmodule_class\u001b[0m\u001b[1;33m]\u001b[0m\u001b[1;33m\u001b[0m\u001b[1;33m\u001b[0m\u001b[0m\n\u001b[1;32m--> 515\u001b[1;33m                 \u001b[0mmodule\u001b[0m \u001b[1;33m=\u001b[0m \u001b[0mmodule_class\u001b[0m\u001b[1;33m(\u001b[0m\u001b[0mfilepath\u001b[0m\u001b[1;33m,\u001b[0m \u001b[0mprefix\u001b[0m\u001b[1;33m,\u001b[0m \u001b[0muser_api\u001b[0m\u001b[1;33m,\u001b[0m \u001b[0minternal_api\u001b[0m\u001b[1;33m)\u001b[0m\u001b[1;33m\u001b[0m\u001b[1;33m\u001b[0m\u001b[0m\n\u001b[0m\u001b[0;32m    516\u001b[0m                 \u001b[0mself\u001b[0m\u001b[1;33m.\u001b[0m\u001b[0mmodules\u001b[0m\u001b[1;33m.\u001b[0m\u001b[0mappend\u001b[0m\u001b[1;33m(\u001b[0m\u001b[0mmodule\u001b[0m\u001b[1;33m)\u001b[0m\u001b[1;33m\u001b[0m\u001b[1;33m\u001b[0m\u001b[0m\n\u001b[0;32m    517\u001b[0m \u001b[1;33m\u001b[0m\u001b[0m\n",
            "\u001b[1;32mC:\\Anaconda3\\lib\\site-packages\\threadpoolctl.py\u001b[0m in \u001b[0;36m__init__\u001b[1;34m(self, filepath, prefix, user_api, internal_api)\u001b[0m\n\u001b[0;32m    604\u001b[0m         \u001b[0mself\u001b[0m\u001b[1;33m.\u001b[0m\u001b[0minternal_api\u001b[0m \u001b[1;33m=\u001b[0m \u001b[0minternal_api\u001b[0m\u001b[1;33m\u001b[0m\u001b[1;33m\u001b[0m\u001b[0m\n\u001b[0;32m    605\u001b[0m         \u001b[0mself\u001b[0m\u001b[1;33m.\u001b[0m\u001b[0m_dynlib\u001b[0m \u001b[1;33m=\u001b[0m \u001b[0mctypes\u001b[0m\u001b[1;33m.\u001b[0m\u001b[0mCDLL\u001b[0m\u001b[1;33m(\u001b[0m\u001b[0mfilepath\u001b[0m\u001b[1;33m,\u001b[0m \u001b[0mmode\u001b[0m\u001b[1;33m=\u001b[0m\u001b[0m_RTLD_NOLOAD\u001b[0m\u001b[1;33m)\u001b[0m\u001b[1;33m\u001b[0m\u001b[1;33m\u001b[0m\u001b[0m\n\u001b[1;32m--> 606\u001b[1;33m         \u001b[0mself\u001b[0m\u001b[1;33m.\u001b[0m\u001b[0mversion\u001b[0m \u001b[1;33m=\u001b[0m \u001b[0mself\u001b[0m\u001b[1;33m.\u001b[0m\u001b[0mget_version\u001b[0m\u001b[1;33m(\u001b[0m\u001b[1;33m)\u001b[0m\u001b[1;33m\u001b[0m\u001b[1;33m\u001b[0m\u001b[0m\n\u001b[0m\u001b[0;32m    607\u001b[0m         \u001b[0mself\u001b[0m\u001b[1;33m.\u001b[0m\u001b[0mnum_threads\u001b[0m \u001b[1;33m=\u001b[0m \u001b[0mself\u001b[0m\u001b[1;33m.\u001b[0m\u001b[0mget_num_threads\u001b[0m\u001b[1;33m(\u001b[0m\u001b[1;33m)\u001b[0m\u001b[1;33m\u001b[0m\u001b[1;33m\u001b[0m\u001b[0m\n\u001b[0;32m    608\u001b[0m         \u001b[0mself\u001b[0m\u001b[1;33m.\u001b[0m\u001b[0m_get_extra_info\u001b[0m\u001b[1;33m(\u001b[0m\u001b[1;33m)\u001b[0m\u001b[1;33m\u001b[0m\u001b[1;33m\u001b[0m\u001b[0m\n",
            "\u001b[1;32mC:\\Anaconda3\\lib\\site-packages\\threadpoolctl.py\u001b[0m in \u001b[0;36mget_version\u001b[1;34m(self)\u001b[0m\n\u001b[0;32m    644\u001b[0m                              lambda: None)\n\u001b[0;32m    645\u001b[0m         \u001b[0mget_config\u001b[0m\u001b[1;33m.\u001b[0m\u001b[0mrestype\u001b[0m \u001b[1;33m=\u001b[0m \u001b[0mctypes\u001b[0m\u001b[1;33m.\u001b[0m\u001b[0mc_char_p\u001b[0m\u001b[1;33m\u001b[0m\u001b[1;33m\u001b[0m\u001b[0m\n\u001b[1;32m--> 646\u001b[1;33m         \u001b[0mconfig\u001b[0m \u001b[1;33m=\u001b[0m \u001b[0mget_config\u001b[0m\u001b[1;33m(\u001b[0m\u001b[1;33m)\u001b[0m\u001b[1;33m.\u001b[0m\u001b[0msplit\u001b[0m\u001b[1;33m(\u001b[0m\u001b[1;33m)\u001b[0m\u001b[1;33m\u001b[0m\u001b[1;33m\u001b[0m\u001b[0m\n\u001b[0m\u001b[0;32m    647\u001b[0m         \u001b[1;32mif\u001b[0m \u001b[0mconfig\u001b[0m\u001b[1;33m[\u001b[0m\u001b[1;36m0\u001b[0m\u001b[1;33m]\u001b[0m \u001b[1;33m==\u001b[0m \u001b[1;34mb\"OpenBLAS\"\u001b[0m\u001b[1;33m:\u001b[0m\u001b[1;33m\u001b[0m\u001b[1;33m\u001b[0m\u001b[0m\n\u001b[0;32m    648\u001b[0m             \u001b[1;32mreturn\u001b[0m \u001b[0mconfig\u001b[0m\u001b[1;33m[\u001b[0m\u001b[1;36m1\u001b[0m\u001b[1;33m]\u001b[0m\u001b[1;33m.\u001b[0m\u001b[0mdecode\u001b[0m\u001b[1;33m(\u001b[0m\u001b[1;34m\"utf-8\"\u001b[0m\u001b[1;33m)\u001b[0m\u001b[1;33m\u001b[0m\u001b[1;33m\u001b[0m\u001b[0m\n",
            "\u001b[1;31mAttributeError\u001b[0m: 'NoneType' object has no attribute 'split'"
          ]
        }
      ],
      "source": [
        "# 복합 샘플링\n",
        "X_samp, y_samp = SMOTEENN(random_state=109).fit_resample(hp_data, hp_label)"
      ]
    },
    {
      "cell_type": "code",
      "execution_count": null,
      "id": "625de5cf",
      "metadata": {
        "id": "625de5cf"
      },
      "outputs": [],
      "source": [
        "# 샘플링 완료\n",
        "np.unique(y_samp, return_counts = True)"
      ]
    },
    {
      "cell_type": "markdown",
      "id": "809079ff",
      "metadata": {
        "id": "809079ff"
      },
      "source": [
        "## 샘플링 데이터세트 분리"
      ]
    },
    {
      "cell_type": "code",
      "execution_count": null,
      "id": "7152e503",
      "metadata": {
        "id": "7152e503"
      },
      "outputs": [],
      "source": [
        "X_train, X_test, y_train, y_test = train_test_split( X_samp, y_samp, random_state = 109 )"
      ]
    },
    {
      "cell_type": "markdown",
      "id": "f4871878",
      "metadata": {
        "id": "f4871878"
      },
      "source": [
        "## 모델링_XGBClassifier & hyperopt"
      ]
    },
    {
      "cell_type": "code",
      "execution_count": null,
      "id": "a6581d8b",
      "metadata": {
        "id": "a6581d8b"
      },
      "outputs": [],
      "source": [
        "# 실행을 위한 함수 정의\n",
        "def objective_func(search_space):\n",
        "    xgb_clf = XGBClassifier(n_estimators=100, max_depth=int(search_space['max_depth']),\n",
        "                            min_child_weight=int(search_space['min_child_weight']),\n",
        "                            learning_rate=search_space['learning_rate'],\n",
        "                            colsample_bytree=search_space['colsample_bytree'], \n",
        "                            eval_metric='logloss')\n",
        "    accuracy = cross_val_score(xgb_clf, X_train, y_train, scoring='accuracy', cv=3)\n",
        "    return {'loss':-1 * np.mean(accuracy), 'status': STATUS_OK}"
      ]
    },
    {
      "cell_type": "code",
      "execution_count": null,
      "id": "3f5147aa",
      "metadata": {
        "id": "3f5147aa"
      },
      "outputs": [],
      "source": [
        "# 최적의 파라미터 찾기\n",
        "trial_val = Trials()\n",
        "best = fmin(fn=objective_func,\n",
        "            space=xgb_search_space,\n",
        "            algo=tpe.suggest,\n",
        "            max_evals=50,\n",
        "            trials=trial_val, rstate=np.random.default_rng(seed=9))\n",
        "print('best:', best)"
      ]
    },
    {
      "cell_type": "code",
      "execution_count": null,
      "id": "bb33651f",
      "metadata": {
        "id": "bb33651f"
      },
      "outputs": [],
      "source": [
        "# 모델링\n",
        "xgb_model = XGBClassifier(n_estimators=200, learning_rate=round(best['learning_rate'], 5), \n",
        "                            max_depth=int(best['max_depth']), min_child_weight=int(best['min_child_weight']),\n",
        "                            colsample_bytree=round(best['colsample_bytree'], 5)\n",
        "                           )\n",
        "xgb_model.fit(X_train, y_train)\n",
        "pred= xgb_model.predict(X_test)\n",
        "print('정확도 : ', accuracy_score(y_test, pred))\n",
        "print('혼돈행렬 : \\n', confusion_matrix(y_test, pred))"
      ]
    },
    {
      "cell_type": "code",
      "execution_count": null,
      "id": "aec68fc4",
      "metadata": {
        "id": "aec68fc4"
      },
      "outputs": [],
      "source": [
        "# Mars의 정확도\n",
        "1270/(5+1+1270)*100"
      ]
    },
    {
      "cell_type": "markdown",
      "id": "af8b4190",
      "metadata": {
        "id": "af8b4190"
      },
      "source": [
        "## 결측값 채우기"
      ]
    },
    {
      "cell_type": "code",
      "execution_count": null,
      "id": "a8e6d526",
      "metadata": {
        "id": "a8e6d526"
      },
      "outputs": [],
      "source": [
        "# 이전과 동일한 절차\n",
        "\n",
        "# 결측치 파일 불러오기\n",
        "df = pd.read_excel('C:/Users/admin/Desktop/sparta/hp_na.xlsx')\n",
        "df.head()\n",
        "data = df.drop(['Transported', 'Name', 'Age', 'Cabin','Combi'], axis=1)\n",
        "# Cabin1\n",
        "encode = pd.get_dummies(data['Cabin1'])\n",
        "data.drop('Cabin1', axis=1)\n",
        "data = data.join(encode)\n",
        "# Destination\n",
        "encode = pd.get_dummies(data['Destination'])\n",
        "data.drop(['Destination'], axis=1)\n",
        "data = data.join(encode)\n",
        "data['Cabin3'] = data['Cabin3'].map({'P':0, 'S':1})\n",
        "data['HomePlanet'] = data['HomePlanet'].map({'Earth':0, 'Europa':1, 'Mars':2})\n",
        "data_scaled(data, col)\n",
        "dt = data.drop(['PassengerId', 'HomePlanet','Destination', 'Cabin1'], axis = 1)\n",
        "label = data['HomePlanet']\n",
        "dt.info()"
      ]
    },
    {
      "cell_type": "code",
      "execution_count": null,
      "id": "3d4f1b7c",
      "metadata": {
        "id": "3d4f1b7c"
      },
      "outputs": [],
      "source": [
        "df['predict_hp']= xgb_model.predict(dt)\n",
        "df['predict_hp'] = df['predict_hp'].map({0:'Earth', 1:'Europa', 2:'Mars'})\n",
        "df # 샘플링 하지 않고 처리한 것"
      ]
    },
    {
      "cell_type": "code",
      "execution_count": null,
      "id": "9f9c28c7",
      "metadata": {
        "id": "9f9c28c7"
      },
      "outputs": [],
      "source": [
        "# 예측값 (샘플링 후)\n",
        "df['sampling_pred_hp'] = xgb_model.predict(dt)\n",
        "# 원본 형태로 되돌리기\n",
        "df['sampling_pred_hp'] = df['sampling_pred_hp'].map({0:'Earth', 1:'Europa', 2:'Mars'})"
      ]
    },
    {
      "cell_type": "code",
      "execution_count": null,
      "id": "47765155",
      "metadata": {
        "id": "47765155"
      },
      "outputs": [],
      "source": [
        "np.unique(df['sampling_pred_hp'], return_counts = True)"
      ]
    },
    {
      "cell_type": "code",
      "execution_count": null,
      "id": "d670d641",
      "metadata": {
        "id": "d670d641"
      },
      "outputs": [],
      "source": [
        "#엑셀로 저장하기\n",
        "df.to_excel('C:/Users/admin/Desktop/sparta/hp_fill(sampling).xlsx')"
      ]
    },
    {
      "cell_type": "markdown",
      "id": "785d5852",
      "metadata": {
        "id": "785d5852"
      },
      "source": [
        "#  CrySleep 결측값 처리"
      ]
    },
    {
      "cell_type": "markdown",
      "id": "17d43ace",
      "metadata": {
        "id": "17d43ace"
      },
      "source": [
        "## 데이터 불러오기"
      ]
    },
    {
      "cell_type": "code",
      "execution_count": null,
      "id": "333aea4b",
      "metadata": {
        "id": "333aea4b",
        "outputId": "e755ac0d-9f31-4411-f958-bbba544165ec"
      },
      "outputs": [
        {
          "name": "stdout",
          "output_type": "stream",
          "text": [
            "<class 'pandas.core.frame.DataFrame'>\n",
            "Int64Index: 11076 entries, 0 to 12969\n",
            "Data columns (total 13 columns):\n",
            " #   Column        Non-Null Count  Dtype  \n",
            "---  ------        --------------  -----  \n",
            " 0   HomePlanet    11076 non-null  object \n",
            " 1   CryoSleep     11076 non-null  bool   \n",
            " 2   Cabin1        11076 non-null  object \n",
            " 3   Cabin2        11076 non-null  float64\n",
            " 4   Cabin3        11076 non-null  bool   \n",
            " 5   Destination   11076 non-null  object \n",
            " 6   Age           11076 non-null  float64\n",
            " 7   VIP           11076 non-null  bool   \n",
            " 8   RoomService   11076 non-null  float64\n",
            " 9   FoodCourt     11076 non-null  float64\n",
            " 10  ShoppingMall  11076 non-null  float64\n",
            " 11  Spa           11076 non-null  float64\n",
            " 12  VRDeck        11076 non-null  float64\n",
            "dtypes: bool(3), float64(7), object(3)\n",
            "memory usage: 1.2+ MB\n"
          ]
        }
      ],
      "source": [
        "cs_df = spaceship.iloc[:,:]\n",
        "cs_df.info()"
      ]
    },
    {
      "cell_type": "markdown",
      "id": "a386f09c",
      "metadata": {
        "id": "a386f09c"
      },
      "source": [
        "## 전처리"
      ]
    },
    {
      "cell_type": "code",
      "execution_count": null,
      "id": "8780b665",
      "metadata": {
        "id": "8780b665",
        "outputId": "13879200-885c-4cf9-ccab-4913e8f3713f"
      },
      "outputs": [
        {
          "data": {
            "text/plain": [
              "(11076, 13)"
            ]
          },
          "execution_count": 72,
          "metadata": {},
          "output_type": "execute_result"
        }
      ],
      "source": [
        "cs_df.dropna(axis=0,inplace=True)\n",
        "cs_df.shape"
      ]
    },
    {
      "cell_type": "code",
      "execution_count": null,
      "id": "61cd2f44",
      "metadata": {
        "id": "61cd2f44"
      },
      "outputs": [],
      "source": [
        "# 원-핫 인코딩 (cabin1, destination)\n",
        "\n",
        "## HomePlanet\n",
        "encoding = pd.get_dummies(cs_df.HomePlanet)\n",
        "cs_df = cs_df.drop('HomePlanet', axis =1) # 기존 삭제\n",
        "cs_df = cs_df.join(encoding) # 적용\n",
        "## Cabin1\n",
        "encoding = pd.get_dummies(cs_df.Cabin1)\n",
        "cs_df = cs_df.drop('Cabin1', axis =1) # 기존 삭제\n",
        "cs_df = cs_df.join(encoding) # 적용\n",
        "## Destination\n",
        "encoding = pd.get_dummies(cs_df.Destination)\n",
        "cs_df = cs_df.drop('Destination', axis =1) # 기존 삭제\n",
        "cs_df = cs_df.join(encoding) # 적용"
      ]
    },
    {
      "cell_type": "code",
      "execution_count": null,
      "id": "2cca9716",
      "metadata": {
        "id": "2cca9716",
        "outputId": "418b94f8-3b6a-4ddd-c227-3105d0299c21"
      },
      "outputs": [
        {
          "name": "stdout",
          "output_type": "stream",
          "text": [
            "<class 'pandas.core.frame.DataFrame'>\n",
            "Int64Index: 11076 entries, 0 to 12969\n",
            "Data columns (total 24 columns):\n",
            " #   Column         Non-Null Count  Dtype  \n",
            "---  ------         --------------  -----  \n",
            " 0   CryoSleep      11076 non-null  bool   \n",
            " 1   Cabin2         11076 non-null  float64\n",
            " 2   Cabin3         11076 non-null  bool   \n",
            " 3   Age            11076 non-null  float64\n",
            " 4   VIP            11076 non-null  bool   \n",
            " 5   RoomService    11076 non-null  float64\n",
            " 6   FoodCourt      11076 non-null  float64\n",
            " 7   ShoppingMall   11076 non-null  float64\n",
            " 8   Spa            11076 non-null  float64\n",
            " 9   VRDeck         11076 non-null  float64\n",
            " 10  Earth          11076 non-null  uint8  \n",
            " 11  Europa         11076 non-null  uint8  \n",
            " 12  Mars           11076 non-null  uint8  \n",
            " 13  A              11076 non-null  uint8  \n",
            " 14  B              11076 non-null  uint8  \n",
            " 15  C              11076 non-null  uint8  \n",
            " 16  D              11076 non-null  uint8  \n",
            " 17  E              11076 non-null  uint8  \n",
            " 18  F              11076 non-null  uint8  \n",
            " 19  G              11076 non-null  uint8  \n",
            " 20  T              11076 non-null  uint8  \n",
            " 21  55 Cancri e    11076 non-null  uint8  \n",
            " 22  PSO J318.5-22  11076 non-null  uint8  \n",
            " 23  TRAPPIST-1e    11076 non-null  uint8  \n",
            "dtypes: bool(3), float64(7), uint8(14)\n",
            "memory usage: 1.1 MB\n"
          ]
        }
      ],
      "source": [
        "cs_df.info()"
      ]
    },
    {
      "cell_type": "code",
      "execution_count": null,
      "id": "7e6c2a2a",
      "metadata": {
        "id": "7e6c2a2a",
        "outputId": "40260aaf-1a1e-4490-f000-adcd4e2617d9"
      },
      "outputs": [
        {
          "data": {
            "text/html": [
              "<div>\n",
              "<style scoped>\n",
              "    .dataframe tbody tr th:only-of-type {\n",
              "        vertical-align: middle;\n",
              "    }\n",
              "\n",
              "    .dataframe tbody tr th {\n",
              "        vertical-align: top;\n",
              "    }\n",
              "\n",
              "    .dataframe thead th {\n",
              "        text-align: right;\n",
              "    }\n",
              "</style>\n",
              "<table border=\"1\" class=\"dataframe\">\n",
              "  <thead>\n",
              "    <tr style=\"text-align: right;\">\n",
              "      <th></th>\n",
              "      <th>CryoSleep</th>\n",
              "      <th>Cabin2</th>\n",
              "      <th>Cabin3</th>\n",
              "      <th>Age</th>\n",
              "      <th>VIP</th>\n",
              "      <th>RoomService</th>\n",
              "      <th>FoodCourt</th>\n",
              "      <th>ShoppingMall</th>\n",
              "      <th>Spa</th>\n",
              "      <th>VRDeck</th>\n",
              "      <th>...</th>\n",
              "      <th>B</th>\n",
              "      <th>C</th>\n",
              "      <th>D</th>\n",
              "      <th>E</th>\n",
              "      <th>F</th>\n",
              "      <th>G</th>\n",
              "      <th>T</th>\n",
              "      <th>55 Cancri e</th>\n",
              "      <th>PSO J318.5-22</th>\n",
              "      <th>TRAPPIST-1e</th>\n",
              "    </tr>\n",
              "  </thead>\n",
              "  <tbody>\n",
              "    <tr>\n",
              "      <th>0</th>\n",
              "      <td>False</td>\n",
              "      <td>-1.171058</td>\n",
              "      <td>True</td>\n",
              "      <td>39.0</td>\n",
              "      <td>False</td>\n",
              "      <td>-0.334616</td>\n",
              "      <td>-0.282674</td>\n",
              "      <td>-0.285975</td>\n",
              "      <td>-0.271173</td>\n",
              "      <td>-0.260034</td>\n",
              "      <td>...</td>\n",
              "      <td>1</td>\n",
              "      <td>0</td>\n",
              "      <td>0</td>\n",
              "      <td>0</td>\n",
              "      <td>0</td>\n",
              "      <td>0</td>\n",
              "      <td>0</td>\n",
              "      <td>0</td>\n",
              "      <td>0</td>\n",
              "      <td>1</td>\n",
              "    </tr>\n",
              "    <tr>\n",
              "      <th>1</th>\n",
              "      <td>False</td>\n",
              "      <td>-1.171058</td>\n",
              "      <td>False</td>\n",
              "      <td>24.0</td>\n",
              "      <td>False</td>\n",
              "      <td>-0.166861</td>\n",
              "      <td>-0.277057</td>\n",
              "      <td>-0.244125</td>\n",
              "      <td>0.217775</td>\n",
              "      <td>-0.220858</td>\n",
              "      <td>...</td>\n",
              "      <td>0</td>\n",
              "      <td>0</td>\n",
              "      <td>0</td>\n",
              "      <td>0</td>\n",
              "      <td>1</td>\n",
              "      <td>0</td>\n",
              "      <td>0</td>\n",
              "      <td>0</td>\n",
              "      <td>0</td>\n",
              "      <td>1</td>\n",
              "    </tr>\n",
              "    <tr>\n",
              "      <th>2</th>\n",
              "      <td>False</td>\n",
              "      <td>-1.171058</td>\n",
              "      <td>False</td>\n",
              "      <td>58.0</td>\n",
              "      <td>True</td>\n",
              "      <td>-0.268437</td>\n",
              "      <td>1.949128</td>\n",
              "      <td>-0.285975</td>\n",
              "      <td>5.709312</td>\n",
              "      <td>-0.216406</td>\n",
              "      <td>...</td>\n",
              "      <td>0</td>\n",
              "      <td>0</td>\n",
              "      <td>0</td>\n",
              "      <td>0</td>\n",
              "      <td>0</td>\n",
              "      <td>0</td>\n",
              "      <td>0</td>\n",
              "      <td>0</td>\n",
              "      <td>0</td>\n",
              "      <td>1</td>\n",
              "    </tr>\n",
              "    <tr>\n",
              "      <th>3</th>\n",
              "      <td>False</td>\n",
              "      <td>-1.171058</td>\n",
              "      <td>False</td>\n",
              "      <td>33.0</td>\n",
              "      <td>False</td>\n",
              "      <td>-0.334616</td>\n",
              "      <td>0.518053</td>\n",
              "      <td>0.335083</td>\n",
              "      <td>2.693687</td>\n",
              "      <td>-0.088194</td>\n",
              "      <td>...</td>\n",
              "      <td>0</td>\n",
              "      <td>0</td>\n",
              "      <td>0</td>\n",
              "      <td>0</td>\n",
              "      <td>0</td>\n",
              "      <td>0</td>\n",
              "      <td>0</td>\n",
              "      <td>0</td>\n",
              "      <td>0</td>\n",
              "      <td>1</td>\n",
              "    </tr>\n",
              "    <tr>\n",
              "      <th>4</th>\n",
              "      <td>False</td>\n",
              "      <td>-1.169112</td>\n",
              "      <td>False</td>\n",
              "      <td>16.0</td>\n",
              "      <td>False</td>\n",
              "      <td>0.131712</td>\n",
              "      <td>-0.238987</td>\n",
              "      <td>-0.033199</td>\n",
              "      <td>0.232025</td>\n",
              "      <td>-0.258253</td>\n",
              "      <td>...</td>\n",
              "      <td>0</td>\n",
              "      <td>0</td>\n",
              "      <td>0</td>\n",
              "      <td>0</td>\n",
              "      <td>1</td>\n",
              "      <td>0</td>\n",
              "      <td>0</td>\n",
              "      <td>0</td>\n",
              "      <td>0</td>\n",
              "      <td>1</td>\n",
              "    </tr>\n",
              "    <tr>\n",
              "      <th>...</th>\n",
              "      <td>...</td>\n",
              "      <td>...</td>\n",
              "      <td>...</td>\n",
              "      <td>...</td>\n",
              "      <td>...</td>\n",
              "      <td>...</td>\n",
              "      <td>...</td>\n",
              "      <td>...</td>\n",
              "      <td>...</td>\n",
              "      <td>...</td>\n",
              "      <td>...</td>\n",
              "      <td>...</td>\n",
              "      <td>...</td>\n",
              "      <td>...</td>\n",
              "      <td>...</td>\n",
              "      <td>...</td>\n",
              "      <td>...</td>\n",
              "      <td>...</td>\n",
              "      <td>...</td>\n",
              "      <td>...</td>\n",
              "      <td>...</td>\n",
              "    </tr>\n",
              "    <tr>\n",
              "      <th>12962</th>\n",
              "      <td>True</td>\n",
              "      <td>1.737845</td>\n",
              "      <td>False</td>\n",
              "      <td>43.0</td>\n",
              "      <td>False</td>\n",
              "      <td>-0.334616</td>\n",
              "      <td>-0.282674</td>\n",
              "      <td>-0.285975</td>\n",
              "      <td>-0.271173</td>\n",
              "      <td>-0.260034</td>\n",
              "      <td>...</td>\n",
              "      <td>0</td>\n",
              "      <td>0</td>\n",
              "      <td>0</td>\n",
              "      <td>0</td>\n",
              "      <td>0</td>\n",
              "      <td>1</td>\n",
              "      <td>0</td>\n",
              "      <td>0</td>\n",
              "      <td>0</td>\n",
              "      <td>1</td>\n",
              "    </tr>\n",
              "    <tr>\n",
              "      <th>12963</th>\n",
              "      <td>False</td>\n",
              "      <td>-0.630138</td>\n",
              "      <td>False</td>\n",
              "      <td>43.0</td>\n",
              "      <td>False</td>\n",
              "      <td>-0.262281</td>\n",
              "      <td>-0.282674</td>\n",
              "      <td>6.160647</td>\n",
              "      <td>-0.271173</td>\n",
              "      <td>-0.260034</td>\n",
              "      <td>...</td>\n",
              "      <td>0</td>\n",
              "      <td>0</td>\n",
              "      <td>1</td>\n",
              "      <td>0</td>\n",
              "      <td>0</td>\n",
              "      <td>0</td>\n",
              "      <td>0</td>\n",
              "      <td>0</td>\n",
              "      <td>0</td>\n",
              "      <td>1</td>\n",
              "    </tr>\n",
              "    <tr>\n",
              "      <th>12964</th>\n",
              "      <td>False</td>\n",
              "      <td>2.323517</td>\n",
              "      <td>False</td>\n",
              "      <td>40.0</td>\n",
              "      <td>False</td>\n",
              "      <td>-0.334616</td>\n",
              "      <td>0.257177</td>\n",
              "      <td>-0.285975</td>\n",
              "      <td>-0.268502</td>\n",
              "      <td>-0.260034</td>\n",
              "      <td>...</td>\n",
              "      <td>0</td>\n",
              "      <td>0</td>\n",
              "      <td>0</td>\n",
              "      <td>0</td>\n",
              "      <td>1</td>\n",
              "      <td>0</td>\n",
              "      <td>0</td>\n",
              "      <td>0</td>\n",
              "      <td>0</td>\n",
              "      <td>1</td>\n",
              "    </tr>\n",
              "    <tr>\n",
              "      <th>12965</th>\n",
              "      <td>True</td>\n",
              "      <td>1.739790</td>\n",
              "      <td>False</td>\n",
              "      <td>34.0</td>\n",
              "      <td>False</td>\n",
              "      <td>-0.334616</td>\n",
              "      <td>-0.282674</td>\n",
              "      <td>-0.285975</td>\n",
              "      <td>-0.271173</td>\n",
              "      <td>-0.260034</td>\n",
              "      <td>...</td>\n",
              "      <td>0</td>\n",
              "      <td>0</td>\n",
              "      <td>0</td>\n",
              "      <td>0</td>\n",
              "      <td>0</td>\n",
              "      <td>1</td>\n",
              "      <td>0</td>\n",
              "      <td>0</td>\n",
              "      <td>0</td>\n",
              "      <td>1</td>\n",
              "    </tr>\n",
              "    <tr>\n",
              "      <th>12969</th>\n",
              "      <td>True</td>\n",
              "      <td>1.743682</td>\n",
              "      <td>False</td>\n",
              "      <td>43.0</td>\n",
              "      <td>False</td>\n",
              "      <td>-0.334616</td>\n",
              "      <td>-0.282674</td>\n",
              "      <td>-0.285975</td>\n",
              "      <td>-0.271173</td>\n",
              "      <td>-0.260034</td>\n",
              "      <td>...</td>\n",
              "      <td>0</td>\n",
              "      <td>0</td>\n",
              "      <td>0</td>\n",
              "      <td>0</td>\n",
              "      <td>0</td>\n",
              "      <td>1</td>\n",
              "      <td>0</td>\n",
              "      <td>0</td>\n",
              "      <td>1</td>\n",
              "      <td>0</td>\n",
              "    </tr>\n",
              "  </tbody>\n",
              "</table>\n",
              "<p>11076 rows × 24 columns</p>\n",
              "</div>"
            ],
            "text/plain": [
              "       CryoSleep    Cabin2  Cabin3   Age    VIP  RoomService  FoodCourt  \\\n",
              "0          False -1.171058    True  39.0  False    -0.334616  -0.282674   \n",
              "1          False -1.171058   False  24.0  False    -0.166861  -0.277057   \n",
              "2          False -1.171058   False  58.0   True    -0.268437   1.949128   \n",
              "3          False -1.171058   False  33.0  False    -0.334616   0.518053   \n",
              "4          False -1.169112   False  16.0  False     0.131712  -0.238987   \n",
              "...          ...       ...     ...   ...    ...          ...        ...   \n",
              "12962       True  1.737845   False  43.0  False    -0.334616  -0.282674   \n",
              "12963      False -0.630138   False  43.0  False    -0.262281  -0.282674   \n",
              "12964      False  2.323517   False  40.0  False    -0.334616   0.257177   \n",
              "12965       True  1.739790   False  34.0  False    -0.334616  -0.282674   \n",
              "12969       True  1.743682   False  43.0  False    -0.334616  -0.282674   \n",
              "\n",
              "       ShoppingMall       Spa    VRDeck  ...  B  C  D  E  F  G  T  \\\n",
              "0         -0.285975 -0.271173 -0.260034  ...  1  0  0  0  0  0  0   \n",
              "1         -0.244125  0.217775 -0.220858  ...  0  0  0  0  1  0  0   \n",
              "2         -0.285975  5.709312 -0.216406  ...  0  0  0  0  0  0  0   \n",
              "3          0.335083  2.693687 -0.088194  ...  0  0  0  0  0  0  0   \n",
              "4         -0.033199  0.232025 -0.258253  ...  0  0  0  0  1  0  0   \n",
              "...             ...       ...       ...  ... .. .. .. .. .. .. ..   \n",
              "12962     -0.285975 -0.271173 -0.260034  ...  0  0  0  0  0  1  0   \n",
              "12963      6.160647 -0.271173 -0.260034  ...  0  0  1  0  0  0  0   \n",
              "12964     -0.285975 -0.268502 -0.260034  ...  0  0  0  0  1  0  0   \n",
              "12965     -0.285975 -0.271173 -0.260034  ...  0  0  0  0  0  1  0   \n",
              "12969     -0.285975 -0.271173 -0.260034  ...  0  0  0  0  0  1  0   \n",
              "\n",
              "       55 Cancri e  PSO J318.5-22  TRAPPIST-1e  \n",
              "0                0              0            1  \n",
              "1                0              0            1  \n",
              "2                0              0            1  \n",
              "3                0              0            1  \n",
              "4                0              0            1  \n",
              "...            ...            ...          ...  \n",
              "12962            0              0            1  \n",
              "12963            0              0            1  \n",
              "12964            0              0            1  \n",
              "12965            0              0            1  \n",
              "12969            0              1            0  \n",
              "\n",
              "[11076 rows x 24 columns]"
            ]
          },
          "execution_count": 75,
          "metadata": {},
          "output_type": "execute_result"
        }
      ],
      "source": [
        "# 스케일링\n",
        "\n",
        "## 위에 정의된 스케일링 함수 호출\n",
        "col = ['Cabin2', 'RoomService','FoodCourt','ShoppingMall','Spa','VRDeck']\n",
        "data_scaled(cs_df, col)"
      ]
    },
    {
      "cell_type": "markdown",
      "id": "aa28bf0b",
      "metadata": {
        "id": "aa28bf0b"
      },
      "source": [
        "## 데이터와 타겟값 분리"
      ]
    },
    {
      "cell_type": "code",
      "execution_count": null,
      "id": "e022a102",
      "metadata": {
        "id": "e022a102"
      },
      "outputs": [],
      "source": [
        "cs_data = cs_df.drop('CryoSleep',axis=1)\n",
        "cs_label = cs_df.CryoSleep"
      ]
    },
    {
      "cell_type": "code",
      "execution_count": null,
      "id": "c95a1ac3",
      "metadata": {
        "id": "c95a1ac3",
        "outputId": "0f20b875-ca2b-43f6-d2f4-7c816aa195e9"
      },
      "outputs": [
        {
          "data": {
            "text/html": [
              "<div>\n",
              "<style scoped>\n",
              "    .dataframe tbody tr th:only-of-type {\n",
              "        vertical-align: middle;\n",
              "    }\n",
              "\n",
              "    .dataframe tbody tr th {\n",
              "        vertical-align: top;\n",
              "    }\n",
              "\n",
              "    .dataframe thead th {\n",
              "        text-align: right;\n",
              "    }\n",
              "</style>\n",
              "<table border=\"1\" class=\"dataframe\">\n",
              "  <thead>\n",
              "    <tr style=\"text-align: right;\">\n",
              "      <th></th>\n",
              "      <th>Cabin2</th>\n",
              "      <th>Cabin3</th>\n",
              "      <th>Age</th>\n",
              "      <th>VIP</th>\n",
              "      <th>RoomService</th>\n",
              "      <th>FoodCourt</th>\n",
              "      <th>ShoppingMall</th>\n",
              "      <th>Spa</th>\n",
              "      <th>VRDeck</th>\n",
              "      <th>Earth</th>\n",
              "      <th>...</th>\n",
              "      <th>B</th>\n",
              "      <th>C</th>\n",
              "      <th>D</th>\n",
              "      <th>E</th>\n",
              "      <th>F</th>\n",
              "      <th>G</th>\n",
              "      <th>T</th>\n",
              "      <th>55 Cancri e</th>\n",
              "      <th>PSO J318.5-22</th>\n",
              "      <th>TRAPPIST-1e</th>\n",
              "    </tr>\n",
              "  </thead>\n",
              "  <tbody>\n",
              "    <tr>\n",
              "      <th>0</th>\n",
              "      <td>-1.171058</td>\n",
              "      <td>True</td>\n",
              "      <td>39.0</td>\n",
              "      <td>False</td>\n",
              "      <td>-0.334616</td>\n",
              "      <td>-0.282674</td>\n",
              "      <td>-0.285975</td>\n",
              "      <td>-0.271173</td>\n",
              "      <td>-0.260034</td>\n",
              "      <td>0</td>\n",
              "      <td>...</td>\n",
              "      <td>1</td>\n",
              "      <td>0</td>\n",
              "      <td>0</td>\n",
              "      <td>0</td>\n",
              "      <td>0</td>\n",
              "      <td>0</td>\n",
              "      <td>0</td>\n",
              "      <td>0</td>\n",
              "      <td>0</td>\n",
              "      <td>1</td>\n",
              "    </tr>\n",
              "    <tr>\n",
              "      <th>1</th>\n",
              "      <td>-1.171058</td>\n",
              "      <td>False</td>\n",
              "      <td>24.0</td>\n",
              "      <td>False</td>\n",
              "      <td>-0.166861</td>\n",
              "      <td>-0.277057</td>\n",
              "      <td>-0.244125</td>\n",
              "      <td>0.217775</td>\n",
              "      <td>-0.220858</td>\n",
              "      <td>1</td>\n",
              "      <td>...</td>\n",
              "      <td>0</td>\n",
              "      <td>0</td>\n",
              "      <td>0</td>\n",
              "      <td>0</td>\n",
              "      <td>1</td>\n",
              "      <td>0</td>\n",
              "      <td>0</td>\n",
              "      <td>0</td>\n",
              "      <td>0</td>\n",
              "      <td>1</td>\n",
              "    </tr>\n",
              "    <tr>\n",
              "      <th>2</th>\n",
              "      <td>-1.171058</td>\n",
              "      <td>False</td>\n",
              "      <td>58.0</td>\n",
              "      <td>True</td>\n",
              "      <td>-0.268437</td>\n",
              "      <td>1.949128</td>\n",
              "      <td>-0.285975</td>\n",
              "      <td>5.709312</td>\n",
              "      <td>-0.216406</td>\n",
              "      <td>0</td>\n",
              "      <td>...</td>\n",
              "      <td>0</td>\n",
              "      <td>0</td>\n",
              "      <td>0</td>\n",
              "      <td>0</td>\n",
              "      <td>0</td>\n",
              "      <td>0</td>\n",
              "      <td>0</td>\n",
              "      <td>0</td>\n",
              "      <td>0</td>\n",
              "      <td>1</td>\n",
              "    </tr>\n",
              "    <tr>\n",
              "      <th>3</th>\n",
              "      <td>-1.171058</td>\n",
              "      <td>False</td>\n",
              "      <td>33.0</td>\n",
              "      <td>False</td>\n",
              "      <td>-0.334616</td>\n",
              "      <td>0.518053</td>\n",
              "      <td>0.335083</td>\n",
              "      <td>2.693687</td>\n",
              "      <td>-0.088194</td>\n",
              "      <td>0</td>\n",
              "      <td>...</td>\n",
              "      <td>0</td>\n",
              "      <td>0</td>\n",
              "      <td>0</td>\n",
              "      <td>0</td>\n",
              "      <td>0</td>\n",
              "      <td>0</td>\n",
              "      <td>0</td>\n",
              "      <td>0</td>\n",
              "      <td>0</td>\n",
              "      <td>1</td>\n",
              "    </tr>\n",
              "    <tr>\n",
              "      <th>4</th>\n",
              "      <td>-1.169112</td>\n",
              "      <td>False</td>\n",
              "      <td>16.0</td>\n",
              "      <td>False</td>\n",
              "      <td>0.131712</td>\n",
              "      <td>-0.238987</td>\n",
              "      <td>-0.033199</td>\n",
              "      <td>0.232025</td>\n",
              "      <td>-0.258253</td>\n",
              "      <td>1</td>\n",
              "      <td>...</td>\n",
              "      <td>0</td>\n",
              "      <td>0</td>\n",
              "      <td>0</td>\n",
              "      <td>0</td>\n",
              "      <td>1</td>\n",
              "      <td>0</td>\n",
              "      <td>0</td>\n",
              "      <td>0</td>\n",
              "      <td>0</td>\n",
              "      <td>1</td>\n",
              "    </tr>\n",
              "  </tbody>\n",
              "</table>\n",
              "<p>5 rows × 23 columns</p>\n",
              "</div>"
            ],
            "text/plain": [
              "     Cabin2  Cabin3   Age    VIP  RoomService  FoodCourt  ShoppingMall  \\\n",
              "0 -1.171058    True  39.0  False    -0.334616  -0.282674     -0.285975   \n",
              "1 -1.171058   False  24.0  False    -0.166861  -0.277057     -0.244125   \n",
              "2 -1.171058   False  58.0   True    -0.268437   1.949128     -0.285975   \n",
              "3 -1.171058   False  33.0  False    -0.334616   0.518053      0.335083   \n",
              "4 -1.169112   False  16.0  False     0.131712  -0.238987     -0.033199   \n",
              "\n",
              "        Spa    VRDeck  Earth  ...  B  C  D  E  F  G  T  55 Cancri e  \\\n",
              "0 -0.271173 -0.260034      0  ...  1  0  0  0  0  0  0            0   \n",
              "1  0.217775 -0.220858      1  ...  0  0  0  0  1  0  0            0   \n",
              "2  5.709312 -0.216406      0  ...  0  0  0  0  0  0  0            0   \n",
              "3  2.693687 -0.088194      0  ...  0  0  0  0  0  0  0            0   \n",
              "4  0.232025 -0.258253      1  ...  0  0  0  0  1  0  0            0   \n",
              "\n",
              "   PSO J318.5-22  TRAPPIST-1e  \n",
              "0              0            1  \n",
              "1              0            1  \n",
              "2              0            1  \n",
              "3              0            1  \n",
              "4              0            1  \n",
              "\n",
              "[5 rows x 23 columns]"
            ]
          },
          "execution_count": 78,
          "metadata": {},
          "output_type": "execute_result"
        }
      ],
      "source": [
        "cs_data.head()"
      ]
    },
    {
      "cell_type": "code",
      "execution_count": null,
      "id": "9c1aa1a6",
      "metadata": {
        "id": "9c1aa1a6",
        "outputId": "6390fdf7-4922-4b8f-b8da-fa13567eb98c"
      },
      "outputs": [
        {
          "data": {
            "text/plain": [
              "0    False\n",
              "1    False\n",
              "2    False\n",
              "3    False\n",
              "4    False\n",
              "Name: CryoSleep, dtype: bool"
            ]
          },
          "execution_count": 79,
          "metadata": {},
          "output_type": "execute_result"
        }
      ],
      "source": [
        "cs_label.head()"
      ]
    },
    {
      "cell_type": "markdown",
      "id": "e3430db1",
      "metadata": {
        "id": "e3430db1"
      },
      "source": [
        "## train, test 데이터세트 분리"
      ]
    },
    {
      "cell_type": "code",
      "execution_count": null,
      "id": "ace8738d",
      "metadata": {
        "id": "ace8738d"
      },
      "outputs": [],
      "source": [
        "X_train, X_test, y_train, y_test = train_test_split(cs_data,cs_label, random_state=109)\n",
        "X_train, X_val, y_train, y_val = train_test_split(X_train, y_train)"
      ]
    },
    {
      "cell_type": "markdown",
      "id": "4fb9e9ab",
      "metadata": {
        "id": "4fb9e9ab"
      },
      "source": [
        "## 모델링_XGBClassifier"
      ]
    },
    {
      "cell_type": "code",
      "execution_count": null,
      "id": "48db95ef",
      "metadata": {
        "id": "48db95ef",
        "outputId": "5043bcc5-05c3-4c89-9292-d7763a54f5ff"
      },
      "outputs": [
        {
          "data": {
            "text/html": [
              "<style>#sk-container-id-2 {color: black;background-color: white;}#sk-container-id-2 pre{padding: 0;}#sk-container-id-2 div.sk-toggleable {background-color: white;}#sk-container-id-2 label.sk-toggleable__label {cursor: pointer;display: block;width: 100%;margin-bottom: 0;padding: 0.3em;box-sizing: border-box;text-align: center;}#sk-container-id-2 label.sk-toggleable__label-arrow:before {content: \"▸\";float: left;margin-right: 0.25em;color: #696969;}#sk-container-id-2 label.sk-toggleable__label-arrow:hover:before {color: black;}#sk-container-id-2 div.sk-estimator:hover label.sk-toggleable__label-arrow:before {color: black;}#sk-container-id-2 div.sk-toggleable__content {max-height: 0;max-width: 0;overflow: hidden;text-align: left;background-color: #f0f8ff;}#sk-container-id-2 div.sk-toggleable__content pre {margin: 0.2em;color: black;border-radius: 0.25em;background-color: #f0f8ff;}#sk-container-id-2 input.sk-toggleable__control:checked~div.sk-toggleable__content {max-height: 200px;max-width: 100%;overflow: auto;}#sk-container-id-2 input.sk-toggleable__control:checked~label.sk-toggleable__label-arrow:before {content: \"▾\";}#sk-container-id-2 div.sk-estimator input.sk-toggleable__control:checked~label.sk-toggleable__label {background-color: #d4ebff;}#sk-container-id-2 div.sk-label input.sk-toggleable__control:checked~label.sk-toggleable__label {background-color: #d4ebff;}#sk-container-id-2 input.sk-hidden--visually {border: 0;clip: rect(1px 1px 1px 1px);clip: rect(1px, 1px, 1px, 1px);height: 1px;margin: -1px;overflow: hidden;padding: 0;position: absolute;width: 1px;}#sk-container-id-2 div.sk-estimator {font-family: monospace;background-color: #f0f8ff;border: 1px dotted black;border-radius: 0.25em;box-sizing: border-box;margin-bottom: 0.5em;}#sk-container-id-2 div.sk-estimator:hover {background-color: #d4ebff;}#sk-container-id-2 div.sk-parallel-item::after {content: \"\";width: 100%;border-bottom: 1px solid gray;flex-grow: 1;}#sk-container-id-2 div.sk-label:hover label.sk-toggleable__label {background-color: #d4ebff;}#sk-container-id-2 div.sk-serial::before {content: \"\";position: absolute;border-left: 1px solid gray;box-sizing: border-box;top: 0;bottom: 0;left: 50%;z-index: 0;}#sk-container-id-2 div.sk-serial {display: flex;flex-direction: column;align-items: center;background-color: white;padding-right: 0.2em;padding-left: 0.2em;position: relative;}#sk-container-id-2 div.sk-item {position: relative;z-index: 1;}#sk-container-id-2 div.sk-parallel {display: flex;align-items: stretch;justify-content: center;background-color: white;position: relative;}#sk-container-id-2 div.sk-item::before, #sk-container-id-2 div.sk-parallel-item::before {content: \"\";position: absolute;border-left: 1px solid gray;box-sizing: border-box;top: 0;bottom: 0;left: 50%;z-index: -1;}#sk-container-id-2 div.sk-parallel-item {display: flex;flex-direction: column;z-index: 1;position: relative;background-color: white;}#sk-container-id-2 div.sk-parallel-item:first-child::after {align-self: flex-end;width: 50%;}#sk-container-id-2 div.sk-parallel-item:last-child::after {align-self: flex-start;width: 50%;}#sk-container-id-2 div.sk-parallel-item:only-child::after {width: 0;}#sk-container-id-2 div.sk-dashed-wrapped {border: 1px dashed gray;margin: 0 0.4em 0.5em 0.4em;box-sizing: border-box;padding-bottom: 0.4em;background-color: white;}#sk-container-id-2 div.sk-label label {font-family: monospace;font-weight: bold;display: inline-block;line-height: 1.2em;}#sk-container-id-2 div.sk-label-container {text-align: center;}#sk-container-id-2 div.sk-container {/* jupyter's `normalize.less` sets `[hidden] { display: none; }` but bootstrap.min.css set `[hidden] { display: none !important; }` so we also need the `!important` here to be able to override the default hidden behavior on the sphinx rendered scikit-learn.org. See: https://github.com/scikit-learn/scikit-learn/issues/21755 */display: inline-block !important;position: relative;}#sk-container-id-2 div.sk-text-repr-fallback {display: none;}</style><div id=\"sk-container-id-2\" class=\"sk-top-container\"><div class=\"sk-text-repr-fallback\"><pre>GridSearchCV(cv=3,\n",
              "             estimator=XGBClassifier(base_score=None, booster=None,\n",
              "                                     callbacks=None, colsample_bylevel=None,\n",
              "                                     colsample_bynode=None,\n",
              "                                     colsample_bytree=None,\n",
              "                                     early_stopping_rounds=None,\n",
              "                                     enable_categorical=False, eval_metric=None,\n",
              "                                     feature_types=None, gamma=None,\n",
              "                                     gpu_id=None, grow_policy=None,\n",
              "                                     importance_type=None,\n",
              "                                     interaction_constraints=None,\n",
              "                                     learning_rate=None,...\n",
              "                                     missing=nan, monotone_constraints=None,\n",
              "                                     n_estimators=100, n_jobs=None,\n",
              "                                     num_parallel_tree=None, predictor=None,\n",
              "                                     random_state=None, ...),\n",
              "             n_jobs=-1,\n",
              "             param_grid={&#x27;gamma&#x27;: [0.5, 1, 1.5, 2, 2.5, 3, 3.5, 4, 4.5, 5],\n",
              "                         &#x27;learning_rate&#x27;: [0.01, 0.05, 0.1, 0.15, 0.2, 0.25,\n",
              "                                           0.3, 0.35, 0.4],\n",
              "                         &#x27;max_depth&#x27;: [2, 3, 4, 5, 6, 7, 8, 9, 10, 11, 12, 13,\n",
              "                                       14, 15, 16, 17, 18, 19, 20, 21, 22, 23,\n",
              "                                       24, 25, None],\n",
              "                         &#x27;random_state&#x27;: [109]})</pre><b>In a Jupyter environment, please rerun this cell to show the HTML representation or trust the notebook. <br />On GitHub, the HTML representation is unable to render, please try loading this page with nbviewer.org.</b></div><div class=\"sk-container\" hidden><div class=\"sk-item sk-dashed-wrapped\"><div class=\"sk-label-container\"><div class=\"sk-label sk-toggleable\"><input class=\"sk-toggleable__control sk-hidden--visually\" id=\"sk-estimator-id-4\" type=\"checkbox\" ><label for=\"sk-estimator-id-4\" class=\"sk-toggleable__label sk-toggleable__label-arrow\">GridSearchCV</label><div class=\"sk-toggleable__content\"><pre>GridSearchCV(cv=3,\n",
              "             estimator=XGBClassifier(base_score=None, booster=None,\n",
              "                                     callbacks=None, colsample_bylevel=None,\n",
              "                                     colsample_bynode=None,\n",
              "                                     colsample_bytree=None,\n",
              "                                     early_stopping_rounds=None,\n",
              "                                     enable_categorical=False, eval_metric=None,\n",
              "                                     feature_types=None, gamma=None,\n",
              "                                     gpu_id=None, grow_policy=None,\n",
              "                                     importance_type=None,\n",
              "                                     interaction_constraints=None,\n",
              "                                     learning_rate=None,...\n",
              "                                     missing=nan, monotone_constraints=None,\n",
              "                                     n_estimators=100, n_jobs=None,\n",
              "                                     num_parallel_tree=None, predictor=None,\n",
              "                                     random_state=None, ...),\n",
              "             n_jobs=-1,\n",
              "             param_grid={&#x27;gamma&#x27;: [0.5, 1, 1.5, 2, 2.5, 3, 3.5, 4, 4.5, 5],\n",
              "                         &#x27;learning_rate&#x27;: [0.01, 0.05, 0.1, 0.15, 0.2, 0.25,\n",
              "                                           0.3, 0.35, 0.4],\n",
              "                         &#x27;max_depth&#x27;: [2, 3, 4, 5, 6, 7, 8, 9, 10, 11, 12, 13,\n",
              "                                       14, 15, 16, 17, 18, 19, 20, 21, 22, 23,\n",
              "                                       24, 25, None],\n",
              "                         &#x27;random_state&#x27;: [109]})</pre></div></div></div><div class=\"sk-parallel\"><div class=\"sk-parallel-item\"><div class=\"sk-item\"><div class=\"sk-label-container\"><div class=\"sk-label sk-toggleable\"><input class=\"sk-toggleable__control sk-hidden--visually\" id=\"sk-estimator-id-5\" type=\"checkbox\" ><label for=\"sk-estimator-id-5\" class=\"sk-toggleable__label sk-toggleable__label-arrow\">estimator: XGBClassifier</label><div class=\"sk-toggleable__content\"><pre>XGBClassifier(base_score=None, booster=None, callbacks=None,\n",
              "              colsample_bylevel=None, colsample_bynode=None,\n",
              "              colsample_bytree=None, early_stopping_rounds=None,\n",
              "              enable_categorical=False, eval_metric=None, feature_types=None,\n",
              "              gamma=None, gpu_id=None, grow_policy=None, importance_type=None,\n",
              "              interaction_constraints=None, learning_rate=None, max_bin=None,\n",
              "              max_cat_threshold=None, max_cat_to_onehot=None,\n",
              "              max_delta_step=None, max_depth=None, max_leaves=None,\n",
              "              min_child_weight=None, missing=nan, monotone_constraints=None,\n",
              "              n_estimators=100, n_jobs=None, num_parallel_tree=None,\n",
              "              predictor=None, random_state=None, ...)</pre></div></div></div><div class=\"sk-serial\"><div class=\"sk-item\"><div class=\"sk-estimator sk-toggleable\"><input class=\"sk-toggleable__control sk-hidden--visually\" id=\"sk-estimator-id-6\" type=\"checkbox\" ><label for=\"sk-estimator-id-6\" class=\"sk-toggleable__label sk-toggleable__label-arrow\">XGBClassifier</label><div class=\"sk-toggleable__content\"><pre>XGBClassifier(base_score=None, booster=None, callbacks=None,\n",
              "              colsample_bylevel=None, colsample_bynode=None,\n",
              "              colsample_bytree=None, early_stopping_rounds=None,\n",
              "              enable_categorical=False, eval_metric=None, feature_types=None,\n",
              "              gamma=None, gpu_id=None, grow_policy=None, importance_type=None,\n",
              "              interaction_constraints=None, learning_rate=None, max_bin=None,\n",
              "              max_cat_threshold=None, max_cat_to_onehot=None,\n",
              "              max_delta_step=None, max_depth=None, max_leaves=None,\n",
              "              min_child_weight=None, missing=nan, monotone_constraints=None,\n",
              "              n_estimators=100, n_jobs=None, num_parallel_tree=None,\n",
              "              predictor=None, random_state=None, ...)</pre></div></div></div></div></div></div></div></div></div></div>"
            ],
            "text/plain": [
              "GridSearchCV(cv=3,\n",
              "             estimator=XGBClassifier(base_score=None, booster=None,\n",
              "                                     callbacks=None, colsample_bylevel=None,\n",
              "                                     colsample_bynode=None,\n",
              "                                     colsample_bytree=None,\n",
              "                                     early_stopping_rounds=None,\n",
              "                                     enable_categorical=False, eval_metric=None,\n",
              "                                     feature_types=None, gamma=None,\n",
              "                                     gpu_id=None, grow_policy=None,\n",
              "                                     importance_type=None,\n",
              "                                     interaction_constraints=None,\n",
              "                                     learning_rate=None,...\n",
              "                                     missing=nan, monotone_constraints=None,\n",
              "                                     n_estimators=100, n_jobs=None,\n",
              "                                     num_parallel_tree=None, predictor=None,\n",
              "                                     random_state=None, ...),\n",
              "             n_jobs=-1,\n",
              "             param_grid={'gamma': [0.5, 1, 1.5, 2, 2.5, 3, 3.5, 4, 4.5, 5],\n",
              "                         'learning_rate': [0.01, 0.05, 0.1, 0.15, 0.2, 0.25,\n",
              "                                           0.3, 0.35, 0.4],\n",
              "                         'max_depth': [2, 3, 4, 5, 6, 7, 8, 9, 10, 11, 12, 13,\n",
              "                                       14, 15, 16, 17, 18, 19, 20, 21, 22, 23,\n",
              "                                       24, 25, None],\n",
              "                         'random_state': [109]})"
            ]
          },
          "execution_count": 81,
          "metadata": {},
          "output_type": "execute_result"
        }
      ],
      "source": [
        "# 그리드 서치를 이용한 최적의 파라미터 찾기\n",
        "\n",
        "xgbo = xgb.XGBClassifier()\n",
        "\n",
        "params = {\n",
        "    'max_depth':[2, 3, 4, 5, 6, 7, 8, 9, 10, 11, 12, 13, 14, 15, 16, 17, 18,\n",
        "                 19, 20, 21, 22, 23, 24, 25, None],\n",
        "    'learning_rate':[0.01, 0.05, 0.1, 0.15, 0.2, 0.25, 0.3, 0.35, 0.4],\n",
        "    'gamma':[0.5, 1, 1.5, 2, 2.5, 3, 3.5, 4, 4.5, 5],\n",
        "    'random_state':[109]\n",
        "}\n",
        "\n",
        "gs = GridSearchCV(xgbo, param_grid = params, cv = 3, refit = True,\n",
        "                  n_jobs=-1)\n",
        "gs.fit(X_train, y_train)"
      ]
    },
    {
      "cell_type": "code",
      "execution_count": null,
      "id": "342cad56",
      "metadata": {
        "id": "342cad56",
        "outputId": "4a9c1d5a-72bd-4324-a697-3629dcac4998"
      },
      "outputs": [
        {
          "ename": "NameError",
          "evalue": "name 'bin_objective_func' is not defined",
          "output_type": "error",
          "traceback": [
            "\u001b[1;31m---------------------------------------------------------------------------\u001b[0m",
            "\u001b[1;31mNameError\u001b[0m                                 Traceback (most recent call last)",
            "\u001b[1;32m~\\AppData\\Local\\Temp/ipykernel_10908/485971092.py\u001b[0m in \u001b[0;36m<module>\u001b[1;34m\u001b[0m\n\u001b[0;32m      5\u001b[0m \u001b[1;31m# fmin() 함수를 호출. max_evals 지정된 횟수만큼 반복 후\u001b[0m\u001b[1;33m\u001b[0m\u001b[1;33m\u001b[0m\u001b[0m\n\u001b[0;32m      6\u001b[0m \u001b[1;31m# 목적함수의 최솟값을 가지는 최적 입력값 추출\u001b[0m\u001b[1;33m\u001b[0m\u001b[1;33m\u001b[0m\u001b[0m\n\u001b[1;32m----> 7\u001b[1;33m best = fmin(fn=bin_objective_func,\n\u001b[0m\u001b[0;32m      8\u001b[0m            \u001b[0mspace\u001b[0m\u001b[1;33m=\u001b[0m\u001b[0mxgb_search_space\u001b[0m\u001b[1;33m,\u001b[0m\u001b[1;33m\u001b[0m\u001b[1;33m\u001b[0m\u001b[0m\n\u001b[0;32m      9\u001b[0m            \u001b[0malgo\u001b[0m\u001b[1;33m=\u001b[0m\u001b[0mtpe\u001b[0m\u001b[1;33m.\u001b[0m\u001b[0msuggest\u001b[0m\u001b[1;33m,\u001b[0m\u001b[1;33m\u001b[0m\u001b[1;33m\u001b[0m\u001b[0m\n",
            "\u001b[1;31mNameError\u001b[0m: name 'bin_objective_func' is not defined"
          ]
        }
      ],
      "source": [
        "# HyperOPT를 이용한 최적의 파라미터 찾기\n",
        "\n",
        "trials = Trials()\n",
        "\n",
        "# fmin() 함수를 호출. max_evals 지정된 횟수만큼 반복 후\n",
        "# 목적함수의 최솟값을 가지는 최적 입력값 추출\n",
        "best = fmin(fn=bin_objective_func,\n",
        "           space=xgb_search_space,\n",
        "           algo=tpe.suggest,\n",
        "           max_evals=50, # 최대 반복 횟수를 지정\n",
        "           trials=trials, rstate=np.random.default_rng(seed=109))\n",
        "\n",
        "print('best:', best)"
      ]
    },
    {
      "cell_type": "code",
      "execution_count": null,
      "id": "61f95689",
      "metadata": {
        "id": "61f95689"
      },
      "outputs": [],
      "source": [
        "# 평가 결과\n",
        "model = gs.best_estimator_\n",
        "print(model.score(X_train, y_train))\n",
        "print(model.score(X_test, y_test))\n",
        "print(model.score(X_val, y_val))"
      ]
    },
    {
      "cell_type": "code",
      "execution_count": null,
      "id": "739a1ee5",
      "metadata": {
        "id": "739a1ee5"
      },
      "outputs": [],
      "source": [
        "# 최적의 파라미터값\n",
        "print(gs.best_params_)"
      ]
    },
    {
      "cell_type": "code",
      "execution_count": null,
      "id": "d957767f",
      "metadata": {
        "id": "d957767f",
        "outputId": "7944c607-33ec-4542-ff3d-d5a31dc91119"
      },
      "outputs": [
        {
          "data": {
            "text/html": [
              "<style>#sk-container-id-3 {color: black;background-color: white;}#sk-container-id-3 pre{padding: 0;}#sk-container-id-3 div.sk-toggleable {background-color: white;}#sk-container-id-3 label.sk-toggleable__label {cursor: pointer;display: block;width: 100%;margin-bottom: 0;padding: 0.3em;box-sizing: border-box;text-align: center;}#sk-container-id-3 label.sk-toggleable__label-arrow:before {content: \"▸\";float: left;margin-right: 0.25em;color: #696969;}#sk-container-id-3 label.sk-toggleable__label-arrow:hover:before {color: black;}#sk-container-id-3 div.sk-estimator:hover label.sk-toggleable__label-arrow:before {color: black;}#sk-container-id-3 div.sk-toggleable__content {max-height: 0;max-width: 0;overflow: hidden;text-align: left;background-color: #f0f8ff;}#sk-container-id-3 div.sk-toggleable__content pre {margin: 0.2em;color: black;border-radius: 0.25em;background-color: #f0f8ff;}#sk-container-id-3 input.sk-toggleable__control:checked~div.sk-toggleable__content {max-height: 200px;max-width: 100%;overflow: auto;}#sk-container-id-3 input.sk-toggleable__control:checked~label.sk-toggleable__label-arrow:before {content: \"▾\";}#sk-container-id-3 div.sk-estimator input.sk-toggleable__control:checked~label.sk-toggleable__label {background-color: #d4ebff;}#sk-container-id-3 div.sk-label input.sk-toggleable__control:checked~label.sk-toggleable__label {background-color: #d4ebff;}#sk-container-id-3 input.sk-hidden--visually {border: 0;clip: rect(1px 1px 1px 1px);clip: rect(1px, 1px, 1px, 1px);height: 1px;margin: -1px;overflow: hidden;padding: 0;position: absolute;width: 1px;}#sk-container-id-3 div.sk-estimator {font-family: monospace;background-color: #f0f8ff;border: 1px dotted black;border-radius: 0.25em;box-sizing: border-box;margin-bottom: 0.5em;}#sk-container-id-3 div.sk-estimator:hover {background-color: #d4ebff;}#sk-container-id-3 div.sk-parallel-item::after {content: \"\";width: 100%;border-bottom: 1px solid gray;flex-grow: 1;}#sk-container-id-3 div.sk-label:hover label.sk-toggleable__label {background-color: #d4ebff;}#sk-container-id-3 div.sk-serial::before {content: \"\";position: absolute;border-left: 1px solid gray;box-sizing: border-box;top: 0;bottom: 0;left: 50%;z-index: 0;}#sk-container-id-3 div.sk-serial {display: flex;flex-direction: column;align-items: center;background-color: white;padding-right: 0.2em;padding-left: 0.2em;position: relative;}#sk-container-id-3 div.sk-item {position: relative;z-index: 1;}#sk-container-id-3 div.sk-parallel {display: flex;align-items: stretch;justify-content: center;background-color: white;position: relative;}#sk-container-id-3 div.sk-item::before, #sk-container-id-3 div.sk-parallel-item::before {content: \"\";position: absolute;border-left: 1px solid gray;box-sizing: border-box;top: 0;bottom: 0;left: 50%;z-index: -1;}#sk-container-id-3 div.sk-parallel-item {display: flex;flex-direction: column;z-index: 1;position: relative;background-color: white;}#sk-container-id-3 div.sk-parallel-item:first-child::after {align-self: flex-end;width: 50%;}#sk-container-id-3 div.sk-parallel-item:last-child::after {align-self: flex-start;width: 50%;}#sk-container-id-3 div.sk-parallel-item:only-child::after {width: 0;}#sk-container-id-3 div.sk-dashed-wrapped {border: 1px dashed gray;margin: 0 0.4em 0.5em 0.4em;box-sizing: border-box;padding-bottom: 0.4em;background-color: white;}#sk-container-id-3 div.sk-label label {font-family: monospace;font-weight: bold;display: inline-block;line-height: 1.2em;}#sk-container-id-3 div.sk-label-container {text-align: center;}#sk-container-id-3 div.sk-container {/* jupyter's `normalize.less` sets `[hidden] { display: none; }` but bootstrap.min.css set `[hidden] { display: none !important; }` so we also need the `!important` here to be able to override the default hidden behavior on the sphinx rendered scikit-learn.org. See: https://github.com/scikit-learn/scikit-learn/issues/21755 */display: inline-block !important;position: relative;}#sk-container-id-3 div.sk-text-repr-fallback {display: none;}</style><div id=\"sk-container-id-3\" class=\"sk-top-container\"><div class=\"sk-text-repr-fallback\"><pre>XGBClassifier(base_score=0.5, booster=&#x27;gbtree&#x27;, callbacks=None,\n",
              "              colsample_bylevel=1, colsample_bynode=1, colsample_bytree=1,\n",
              "              early_stopping_rounds=None, enable_categorical=False,\n",
              "              eval_metric=None, feature_types=None, gamma=1.5, gpu_id=-1,\n",
              "              grow_policy=&#x27;depthwise&#x27;, importance_type=None,\n",
              "              interaction_constraints=&#x27;&#x27;, learning_rate=0.1, max_bin=256,\n",
              "              max_cat_threshold=64, max_cat_to_onehot=4, max_delta_step=0,\n",
              "              max_depth=4, max_leaves=0, min_child_weight=1, missing=nan,\n",
              "              monotone_constraints=&#x27;()&#x27;, n_estimators=100, n_jobs=0,\n",
              "              num_parallel_tree=1, predictor=&#x27;auto&#x27;, random_state=109, ...)</pre><b>In a Jupyter environment, please rerun this cell to show the HTML representation or trust the notebook. <br />On GitHub, the HTML representation is unable to render, please try loading this page with nbviewer.org.</b></div><div class=\"sk-container\" hidden><div class=\"sk-item\"><div class=\"sk-estimator sk-toggleable\"><input class=\"sk-toggleable__control sk-hidden--visually\" id=\"sk-estimator-id-7\" type=\"checkbox\" checked><label for=\"sk-estimator-id-7\" class=\"sk-toggleable__label sk-toggleable__label-arrow\">XGBClassifier</label><div class=\"sk-toggleable__content\"><pre>XGBClassifier(base_score=0.5, booster=&#x27;gbtree&#x27;, callbacks=None,\n",
              "              colsample_bylevel=1, colsample_bynode=1, colsample_bytree=1,\n",
              "              early_stopping_rounds=None, enable_categorical=False,\n",
              "              eval_metric=None, feature_types=None, gamma=1.5, gpu_id=-1,\n",
              "              grow_policy=&#x27;depthwise&#x27;, importance_type=None,\n",
              "              interaction_constraints=&#x27;&#x27;, learning_rate=0.1, max_bin=256,\n",
              "              max_cat_threshold=64, max_cat_to_onehot=4, max_delta_step=0,\n",
              "              max_depth=4, max_leaves=0, min_child_weight=1, missing=nan,\n",
              "              monotone_constraints=&#x27;()&#x27;, n_estimators=100, n_jobs=0,\n",
              "              num_parallel_tree=1, predictor=&#x27;auto&#x27;, random_state=109, ...)</pre></div></div></div></div></div>"
            ],
            "text/plain": [
              "XGBClassifier(base_score=0.5, booster='gbtree', callbacks=None,\n",
              "              colsample_bylevel=1, colsample_bynode=1, colsample_bytree=1,\n",
              "              early_stopping_rounds=None, enable_categorical=False,\n",
              "              eval_metric=None, feature_types=None, gamma=1.5, gpu_id=-1,\n",
              "              grow_policy='depthwise', importance_type=None,\n",
              "              interaction_constraints='', learning_rate=0.1, max_bin=256,\n",
              "              max_cat_threshold=64, max_cat_to_onehot=4, max_delta_step=0,\n",
              "              max_depth=4, max_leaves=0, min_child_weight=1, missing=nan,\n",
              "              monotone_constraints='()', n_estimators=100, n_jobs=0,\n",
              "              num_parallel_tree=1, predictor='auto', random_state=109, ...)"
            ]
          },
          "execution_count": 85,
          "metadata": {},
          "output_type": "execute_result"
        }
      ],
      "source": [
        "# 그리드서치를 통해 얻어진 파라미터를 적용시킨 XGBClassifier 모델로 학습\n",
        "xgbo = xgb.XGBClassifier(gamma=1.5, learning_rate=0.1, max_depth=4, random_state=109)\n",
        "xgbo.fit(X_train, y_train)"
      ]
    },
    {
      "cell_type": "code",
      "execution_count": null,
      "id": "a19b87da",
      "metadata": {
        "id": "a19b87da"
      },
      "outputs": [],
      "source": [
        "# 앞서 만든 평가 함수(사용자 지정 함수)를 위해 필요한 변수들\n",
        "train_pred = xgbo.predict(X_train)\n",
        "train_proba = xgbo.predict_proba(X_train)\n",
        "\n",
        "test_pred = xgbo.predict(X_test)\n",
        "test_proba = xgbo.predict_proba(X_test)\n",
        "\n",
        "val_pred = xgbo.predict(X_val)\n",
        "val_proba = xgbo.predict_proba(X_val)"
      ]
    },
    {
      "cell_type": "code",
      "execution_count": null,
      "id": "daabeed5",
      "metadata": {
        "id": "daabeed5",
        "outputId": "d04a931d-fb70-434d-da80-5c7585887360"
      },
      "outputs": [
        {
          "name": "stdout",
          "output_type": "stream",
          "text": [
            "오차 행렬\n",
            "[[3535  229]\n",
            " [ 124 2342]]\n",
            "정확도: 0.9433, 정밀도: 0.9109,     재현율: 0.9497, F1: 0.9299\n"
          ]
        }
      ],
      "source": [
        "# 훈련셋 평가\n",
        "get_clf_eval(y_train, train_pred, train_proba)"
      ]
    },
    {
      "cell_type": "code",
      "execution_count": null,
      "id": "b6e450be",
      "metadata": {
        "id": "b6e450be",
        "outputId": "39db4006-cf6c-4414-deca-f4d49c067208"
      },
      "outputs": [
        {
          "name": "stdout",
          "output_type": "stream",
          "text": [
            "오차 행렬\n",
            "[[1575  111]\n",
            " [  57 1026]]\n",
            "정확도: 0.9393, 정밀도: 0.9024,     재현율: 0.9474, F1: 0.9243\n"
          ]
        }
      ],
      "source": [
        "# 테스트셋 평가\n",
        "get_clf_eval(y_test, test_pred, test_proba)"
      ]
    },
    {
      "cell_type": "code",
      "execution_count": null,
      "id": "67a40542",
      "metadata": {
        "id": "67a40542",
        "outputId": "f9b6534d-5e10-4057-fe38-edadb4e5e5fb"
      },
      "outputs": [
        {
          "name": "stdout",
          "output_type": "stream",
          "text": [
            "오차 행렬\n",
            "[[1178   91]\n",
            " [  48  760]]\n",
            "정확도: 0.9331, 정밀도: 0.8931,     재현율: 0.9406, F1: 0.9162\n"
          ]
        }
      ],
      "source": [
        "# 검증셋 평가\n",
        "get_clf_eval(y_val, val_pred, val_proba)"
      ]
    },
    {
      "cell_type": "code",
      "execution_count": null,
      "id": "01aa557f",
      "metadata": {
        "id": "01aa557f",
        "outputId": "66148885-9c7b-45b9-fb87-60853655989c"
      },
      "outputs": [
        {
          "data": {
            "text/html": [
              "<style>#sk-container-id-4 {color: black;background-color: white;}#sk-container-id-4 pre{padding: 0;}#sk-container-id-4 div.sk-toggleable {background-color: white;}#sk-container-id-4 label.sk-toggleable__label {cursor: pointer;display: block;width: 100%;margin-bottom: 0;padding: 0.3em;box-sizing: border-box;text-align: center;}#sk-container-id-4 label.sk-toggleable__label-arrow:before {content: \"▸\";float: left;margin-right: 0.25em;color: #696969;}#sk-container-id-4 label.sk-toggleable__label-arrow:hover:before {color: black;}#sk-container-id-4 div.sk-estimator:hover label.sk-toggleable__label-arrow:before {color: black;}#sk-container-id-4 div.sk-toggleable__content {max-height: 0;max-width: 0;overflow: hidden;text-align: left;background-color: #f0f8ff;}#sk-container-id-4 div.sk-toggleable__content pre {margin: 0.2em;color: black;border-radius: 0.25em;background-color: #f0f8ff;}#sk-container-id-4 input.sk-toggleable__control:checked~div.sk-toggleable__content {max-height: 200px;max-width: 100%;overflow: auto;}#sk-container-id-4 input.sk-toggleable__control:checked~label.sk-toggleable__label-arrow:before {content: \"▾\";}#sk-container-id-4 div.sk-estimator input.sk-toggleable__control:checked~label.sk-toggleable__label {background-color: #d4ebff;}#sk-container-id-4 div.sk-label input.sk-toggleable__control:checked~label.sk-toggleable__label {background-color: #d4ebff;}#sk-container-id-4 input.sk-hidden--visually {border: 0;clip: rect(1px 1px 1px 1px);clip: rect(1px, 1px, 1px, 1px);height: 1px;margin: -1px;overflow: hidden;padding: 0;position: absolute;width: 1px;}#sk-container-id-4 div.sk-estimator {font-family: monospace;background-color: #f0f8ff;border: 1px dotted black;border-radius: 0.25em;box-sizing: border-box;margin-bottom: 0.5em;}#sk-container-id-4 div.sk-estimator:hover {background-color: #d4ebff;}#sk-container-id-4 div.sk-parallel-item::after {content: \"\";width: 100%;border-bottom: 1px solid gray;flex-grow: 1;}#sk-container-id-4 div.sk-label:hover label.sk-toggleable__label {background-color: #d4ebff;}#sk-container-id-4 div.sk-serial::before {content: \"\";position: absolute;border-left: 1px solid gray;box-sizing: border-box;top: 0;bottom: 0;left: 50%;z-index: 0;}#sk-container-id-4 div.sk-serial {display: flex;flex-direction: column;align-items: center;background-color: white;padding-right: 0.2em;padding-left: 0.2em;position: relative;}#sk-container-id-4 div.sk-item {position: relative;z-index: 1;}#sk-container-id-4 div.sk-parallel {display: flex;align-items: stretch;justify-content: center;background-color: white;position: relative;}#sk-container-id-4 div.sk-item::before, #sk-container-id-4 div.sk-parallel-item::before {content: \"\";position: absolute;border-left: 1px solid gray;box-sizing: border-box;top: 0;bottom: 0;left: 50%;z-index: -1;}#sk-container-id-4 div.sk-parallel-item {display: flex;flex-direction: column;z-index: 1;position: relative;background-color: white;}#sk-container-id-4 div.sk-parallel-item:first-child::after {align-self: flex-end;width: 50%;}#sk-container-id-4 div.sk-parallel-item:last-child::after {align-self: flex-start;width: 50%;}#sk-container-id-4 div.sk-parallel-item:only-child::after {width: 0;}#sk-container-id-4 div.sk-dashed-wrapped {border: 1px dashed gray;margin: 0 0.4em 0.5em 0.4em;box-sizing: border-box;padding-bottom: 0.4em;background-color: white;}#sk-container-id-4 div.sk-label label {font-family: monospace;font-weight: bold;display: inline-block;line-height: 1.2em;}#sk-container-id-4 div.sk-label-container {text-align: center;}#sk-container-id-4 div.sk-container {/* jupyter's `normalize.less` sets `[hidden] { display: none; }` but bootstrap.min.css set `[hidden] { display: none !important; }` so we also need the `!important` here to be able to override the default hidden behavior on the sphinx rendered scikit-learn.org. See: https://github.com/scikit-learn/scikit-learn/issues/21755 */display: inline-block !important;position: relative;}#sk-container-id-4 div.sk-text-repr-fallback {display: none;}</style><div id=\"sk-container-id-4\" class=\"sk-top-container\"><div class=\"sk-text-repr-fallback\"><pre>XGBClassifier(base_score=0.5, booster=&#x27;gbtree&#x27;, callbacks=None,\n",
              "              colsample_bylevel=1, colsample_bynode=1,\n",
              "              colsample_bytree=0.8365276251129549, early_stopping_rounds=None,\n",
              "              enable_categorical=False, eval_metric=None, feature_types=None,\n",
              "              gamma=3.67957927070578, gpu_id=-1, grow_policy=&#x27;depthwise&#x27;,\n",
              "              importance_type=None, interaction_constraints=&#x27;&#x27;,\n",
              "              learning_rate=0.14989523300636218, max_bin=256,\n",
              "              max_cat_threshold=64, max_cat_to_onehot=4, max_delta_step=0,\n",
              "              max_depth=15, max_leaves=0, min_child_weight=6, missing=nan,\n",
              "              monotone_constraints=&#x27;()&#x27;, n_estimators=100, n_jobs=0,\n",
              "              num_parallel_tree=1, predictor=&#x27;auto&#x27;, random_state=109, ...)</pre><b>In a Jupyter environment, please rerun this cell to show the HTML representation or trust the notebook. <br />On GitHub, the HTML representation is unable to render, please try loading this page with nbviewer.org.</b></div><div class=\"sk-container\" hidden><div class=\"sk-item\"><div class=\"sk-estimator sk-toggleable\"><input class=\"sk-toggleable__control sk-hidden--visually\" id=\"sk-estimator-id-8\" type=\"checkbox\" checked><label for=\"sk-estimator-id-8\" class=\"sk-toggleable__label sk-toggleable__label-arrow\">XGBClassifier</label><div class=\"sk-toggleable__content\"><pre>XGBClassifier(base_score=0.5, booster=&#x27;gbtree&#x27;, callbacks=None,\n",
              "              colsample_bylevel=1, colsample_bynode=1,\n",
              "              colsample_bytree=0.8365276251129549, early_stopping_rounds=None,\n",
              "              enable_categorical=False, eval_metric=None, feature_types=None,\n",
              "              gamma=3.67957927070578, gpu_id=-1, grow_policy=&#x27;depthwise&#x27;,\n",
              "              importance_type=None, interaction_constraints=&#x27;&#x27;,\n",
              "              learning_rate=0.14989523300636218, max_bin=256,\n",
              "              max_cat_threshold=64, max_cat_to_onehot=4, max_delta_step=0,\n",
              "              max_depth=15, max_leaves=0, min_child_weight=6, missing=nan,\n",
              "              monotone_constraints=&#x27;()&#x27;, n_estimators=100, n_jobs=0,\n",
              "              num_parallel_tree=1, predictor=&#x27;auto&#x27;, random_state=109, ...)</pre></div></div></div></div></div>"
            ],
            "text/plain": [
              "XGBClassifier(base_score=0.5, booster='gbtree', callbacks=None,\n",
              "              colsample_bylevel=1, colsample_bynode=1,\n",
              "              colsample_bytree=0.8365276251129549, early_stopping_rounds=None,\n",
              "              enable_categorical=False, eval_metric=None, feature_types=None,\n",
              "              gamma=3.67957927070578, gpu_id=-1, grow_policy='depthwise',\n",
              "              importance_type=None, interaction_constraints='',\n",
              "              learning_rate=0.14989523300636218, max_bin=256,\n",
              "              max_cat_threshold=64, max_cat_to_onehot=4, max_delta_step=0,\n",
              "              max_depth=15, max_leaves=0, min_child_weight=6, missing=nan,\n",
              "              monotone_constraints='()', n_estimators=100, n_jobs=0,\n",
              "              num_parallel_tree=1, predictor='auto', random_state=109, ...)"
            ]
          },
          "execution_count": 92,
          "metadata": {},
          "output_type": "execute_result"
        }
      ],
      "source": [
        "# HyperOPT를 통해 얻어진 파라미터를 적용시킨 XGBClassifier 모델로 학습\n",
        "xgbo = xgb.XGBClassifier(colsample_bytree=0.8365276251129549, gamma=3.67957927070578, learning_rate=0.14989523300636218,\n",
        "                         max_depth=15, min_child_weight=6, random_state=109)\n",
        "xgbo.fit(X_train, y_train)"
      ]
    },
    {
      "cell_type": "code",
      "execution_count": null,
      "id": "6d41c22f",
      "metadata": {
        "id": "6d41c22f"
      },
      "outputs": [],
      "source": [
        "# 앞서 만든 평가 함수(사용자 지정 함수)를 위해 필요한 변수들\n",
        "train_pred = xgbo.predict(X_train)\n",
        "train_proba = xgbo.predict_proba(X_train)\n",
        "\n",
        "test_pred = xgbo.predict(X_test)\n",
        "test_proba = xgbo.predict_proba(X_test)\n",
        "\n",
        "val_pred = xgbo.predict(X_val)\n",
        "val_proba = xgbo.predict_proba(X_val)"
      ]
    },
    {
      "cell_type": "code",
      "execution_count": null,
      "id": "4cb60dfa",
      "metadata": {
        "id": "4cb60dfa",
        "outputId": "ef2e5fc0-ab7a-4953-e3ad-dcb45dd10878"
      },
      "outputs": [
        {
          "name": "stdout",
          "output_type": "stream",
          "text": [
            "오차 행렬\n",
            "[[3596  168]\n",
            " [ 141 2325]]\n",
            "정확도: 0.9504, 정밀도: 0.9326,     재현율: 0.9428, F1: 0.9377\n"
          ]
        }
      ],
      "source": [
        "# 훈련셋 평가\n",
        "get_clf_eval(y_train, train_pred, train_proba)"
      ]
    },
    {
      "cell_type": "code",
      "execution_count": null,
      "id": "fa078451",
      "metadata": {
        "id": "fa078451",
        "outputId": "dc904f7f-14ad-44ae-84af-93cc8111da34"
      },
      "outputs": [
        {
          "name": "stdout",
          "output_type": "stream",
          "text": [
            "오차 행렬\n",
            "[[1590   96]\n",
            " [  71 1012]]\n",
            "정확도: 0.9397, 정밀도: 0.9134,     재현율: 0.9344, F1: 0.9238\n"
          ]
        }
      ],
      "source": [
        "# 테스트셋 평가\n",
        "get_clf_eval(y_test, test_pred, test_proba)"
      ]
    },
    {
      "cell_type": "code",
      "execution_count": null,
      "id": "796bef76",
      "metadata": {
        "id": "796bef76",
        "outputId": "d3118de5-facc-4b08-eda0-4a74a3393277"
      },
      "outputs": [
        {
          "name": "stdout",
          "output_type": "stream",
          "text": [
            "오차 행렬\n",
            "[[1197   72]\n",
            " [  65  743]]\n",
            "정확도: 0.9340, 정밀도: 0.9117,     재현율: 0.9196, F1: 0.9156\n"
          ]
        }
      ],
      "source": [
        "# 검증셋 평가\n",
        "get_clf_eval(y_val, val_pred, val_proba)"
      ]
    },
    {
      "cell_type": "markdown",
      "id": "8c223775",
      "metadata": {
        "id": "8c223775"
      },
      "source": [
        "## 결측값 채우기"
      ]
    },
    {
      "cell_type": "code",
      "execution_count": null,
      "id": "2790566c",
      "metadata": {
        "id": "2790566c"
      },
      "outputs": [],
      "source": [
        "c_na = pd.read_excel('na_slp.xlsx')"
      ]
    },
    {
      "cell_type": "code",
      "execution_count": null,
      "id": "f7a439d0",
      "metadata": {
        "id": "f7a439d0"
      },
      "outputs": [],
      "source": [
        "c_na.head()"
      ]
    },
    {
      "cell_type": "code",
      "execution_count": null,
      "id": "ad729ddb",
      "metadata": {
        "id": "ad729ddb"
      },
      "outputs": [],
      "source": [
        "c_na.drop(['PassengerId', 'Name', 'Transported', 'Combi', 'Cabin', 'CryoSleep'], inplace=True, axis=1)"
      ]
    },
    {
      "cell_type": "code",
      "execution_count": null,
      "id": "15d8060b",
      "metadata": {
        "id": "15d8060b"
      },
      "outputs": [],
      "source": [
        "c_na.info()"
      ]
    },
    {
      "cell_type": "code",
      "execution_count": null,
      "id": "d84d39d0",
      "metadata": {
        "id": "d84d39d0"
      },
      "outputs": [],
      "source": [
        "c_na['Cabin3'].replace({'P': 'True','S': 'False'}, inplace=True)"
      ]
    },
    {
      "cell_type": "code",
      "execution_count": null,
      "id": "3ddfb9a4",
      "metadata": {
        "id": "3ddfb9a4"
      },
      "outputs": [],
      "source": [
        "c_na['Cabin3'] = c_na.Cabin3.astype(bool)\n",
        "c_na['VIP'] = c_na.VIP.astype(bool)\n",
        "c_na.info()"
      ]
    },
    {
      "cell_type": "code",
      "execution_count": null,
      "id": "82d47118",
      "metadata": {
        "id": "82d47118"
      },
      "outputs": [],
      "source": [
        "# object 타입의 데이터들 더미화\n",
        "train_encoding = pd.get_dummies(c_na['HomePlanet'])\n",
        "c_na=c_na.drop('HomePlanet',axis=1)\n",
        "c_na = c_na.join(train_encoding)\n",
        "\n",
        "train_encoding = pd.get_dummies(c_na['Destination'])\n",
        "c_na=c_na.drop('Destination',axis=1)\n",
        "c_na = c_na.join(train_encoding)\n",
        "\n",
        "train_encoding = pd.get_dummies(c_na['Cabin1'])\n",
        "c_na=c_na.drop('Cabin1',axis=1)\n",
        "c_na = c_na.join(train_encoding)"
      ]
    },
    {
      "cell_type": "code",
      "execution_count": null,
      "id": "099682c2",
      "metadata": {
        "id": "099682c2"
      },
      "outputs": [],
      "source": [
        "c_na.info()"
      ]
    },
    {
      "cell_type": "code",
      "execution_count": null,
      "id": "0b33a479",
      "metadata": {
        "id": "0b33a479"
      },
      "outputs": [],
      "source": [
        "c_na_d = c_na.dropna(axis=0)"
      ]
    },
    {
      "cell_type": "code",
      "execution_count": null,
      "id": "8f7ce431",
      "metadata": {
        "id": "8f7ce431"
      },
      "outputs": [],
      "source": [
        "col = ['Cabin2', 'Age', 'RoomService','FoodCourt','ShoppingMall','Spa','VRDeck']\n",
        "data_scaled(c_na, col)"
      ]
    },
    {
      "cell_type": "code",
      "execution_count": null,
      "id": "327e9148",
      "metadata": {
        "id": "327e9148"
      },
      "outputs": [],
      "source": [
        "c_na.head()"
      ]
    },
    {
      "cell_type": "code",
      "execution_count": null,
      "id": "9dbd927a",
      "metadata": {
        "id": "9dbd927a"
      },
      "outputs": [],
      "source": [
        "c_pred = xgbo.predict(c_na)"
      ]
    },
    {
      "cell_type": "code",
      "execution_count": null,
      "id": "603a4861",
      "metadata": {
        "id": "603a4861"
      },
      "outputs": [],
      "source": [
        "c_pred = pd.DataFrame(c_pred)"
      ]
    },
    {
      "cell_type": "code",
      "execution_count": null,
      "id": "c5bcc3fb",
      "metadata": {
        "id": "c5bcc3fb"
      },
      "outputs": [],
      "source": [
        "c_pred.value_counts()"
      ]
    },
    {
      "cell_type": "code",
      "execution_count": null,
      "id": "d4519eb9",
      "metadata": {
        "id": "d4519eb9"
      },
      "outputs": [],
      "source": [
        "c_pred.to_csv('c_pred.csv')"
      ]
    },
    {
      "cell_type": "code",
      "execution_count": null,
      "id": "20e03c7c",
      "metadata": {
        "id": "20e03c7c"
      },
      "outputs": [],
      "source": [
        "c_pred_h = xgbo.predict(c_na)"
      ]
    },
    {
      "cell_type": "code",
      "execution_count": null,
      "id": "82ea8962",
      "metadata": {
        "id": "82ea8962"
      },
      "outputs": [],
      "source": [
        "c_pred_h = pd.DataFrame(c_pred_h)"
      ]
    },
    {
      "cell_type": "code",
      "execution_count": null,
      "id": "c8d4ab78",
      "metadata": {
        "id": "c8d4ab78"
      },
      "outputs": [],
      "source": [
        "c_pred_h.value_counts()"
      ]
    },
    {
      "cell_type": "markdown",
      "id": "fd661004",
      "metadata": {
        "id": "fd661004"
      },
      "source": [
        "# Destination 결측값 처리"
      ]
    },
    {
      "cell_type": "markdown",
      "id": "a90d100c",
      "metadata": {
        "id": "a90d100c"
      },
      "source": [
        "## 데이터 불러오기"
      ]
    },
    {
      "cell_type": "code",
      "execution_count": null,
      "id": "bc9154dc",
      "metadata": {
        "id": "bc9154dc",
        "outputId": "9f305fa1-c099-4632-8a64-98290b19b1f3"
      },
      "outputs": [
        {
          "name": "stdout",
          "output_type": "stream",
          "text": [
            "<class 'pandas.core.frame.DataFrame'>\n",
            "Int64Index: 11076 entries, 0 to 12969\n",
            "Data columns (total 13 columns):\n",
            " #   Column        Non-Null Count  Dtype  \n",
            "---  ------        --------------  -----  \n",
            " 0   HomePlanet    11076 non-null  object \n",
            " 1   CryoSleep     11076 non-null  bool   \n",
            " 2   Cabin1        11076 non-null  object \n",
            " 3   Cabin2        11076 non-null  float64\n",
            " 4   Cabin3        11076 non-null  bool   \n",
            " 5   Destination   11076 non-null  object \n",
            " 6   Age           11076 non-null  float64\n",
            " 7   VIP           11076 non-null  bool   \n",
            " 8   RoomService   11076 non-null  float64\n",
            " 9   FoodCourt     11076 non-null  float64\n",
            " 10  ShoppingMall  11076 non-null  float64\n",
            " 11  Spa           11076 non-null  float64\n",
            " 12  VRDeck        11076 non-null  float64\n",
            "dtypes: bool(3), float64(7), object(3)\n",
            "memory usage: 1.2+ MB\n"
          ]
        }
      ],
      "source": [
        "dst_df = spaceship.iloc[:,:]\n",
        "dst_df.info() "
      ]
    },
    {
      "cell_type": "markdown",
      "id": "b3594ab7",
      "metadata": {
        "id": "b3594ab7"
      },
      "source": [
        "## 전처리"
      ]
    },
    {
      "cell_type": "code",
      "execution_count": null,
      "id": "377e5073",
      "metadata": {
        "id": "377e5073",
        "outputId": "d7404c09-fd13-415d-daf1-b8d86c26064e"
      },
      "outputs": [
        {
          "data": {
            "text/plain": [
              "(11076, 13)"
            ]
          },
          "execution_count": 103,
          "metadata": {},
          "output_type": "execute_result"
        }
      ],
      "source": [
        "dst_df.dropna(axis=0,inplace=True)\n",
        "dst_df.shape"
      ]
    },
    {
      "cell_type": "code",
      "execution_count": null,
      "id": "8e1bd077",
      "metadata": {
        "id": "8e1bd077",
        "outputId": "fbd420fa-14ff-46ba-8c6d-ec7a85ccfb0b"
      },
      "outputs": [
        {
          "name": "stdout",
          "output_type": "stream",
          "text": [
            "<class 'pandas.core.frame.DataFrame'>\n",
            "Int64Index: 11076 entries, 0 to 12969\n",
            "Data columns (total 22 columns):\n",
            " #   Column        Non-Null Count  Dtype  \n",
            "---  ------        --------------  -----  \n",
            " 0   CryoSleep     11076 non-null  bool   \n",
            " 1   Cabin2        11076 non-null  float64\n",
            " 2   Cabin3        11076 non-null  bool   \n",
            " 3   Destination   11076 non-null  object \n",
            " 4   Age           11076 non-null  float64\n",
            " 5   VIP           11076 non-null  bool   \n",
            " 6   RoomService   11076 non-null  float64\n",
            " 7   FoodCourt     11076 non-null  float64\n",
            " 8   ShoppingMall  11076 non-null  float64\n",
            " 9   Spa           11076 non-null  float64\n",
            " 10  VRDeck        11076 non-null  float64\n",
            " 11  Earth         11076 non-null  uint8  \n",
            " 12  Europa        11076 non-null  uint8  \n",
            " 13  Mars          11076 non-null  uint8  \n",
            " 14  A             11076 non-null  uint8  \n",
            " 15  B             11076 non-null  uint8  \n",
            " 16  C             11076 non-null  uint8  \n",
            " 17  D             11076 non-null  uint8  \n",
            " 18  E             11076 non-null  uint8  \n",
            " 19  F             11076 non-null  uint8  \n",
            " 20  G             11076 non-null  uint8  \n",
            " 21  T             11076 non-null  uint8  \n",
            "dtypes: bool(3), float64(7), object(1), uint8(11)\n",
            "memory usage: 1.2+ MB\n"
          ]
        }
      ],
      "source": [
        "# 원-핫 인코딩 (cabin1, destination)\n",
        "\n",
        "## HomePlanet\n",
        "encoding = pd.get_dummies(dst_df.HomePlanet)\n",
        "dst_df = dst_df.drop('HomePlanet', axis =1) # 기존 삭제\n",
        "dst_df = dst_df.join(encoding) # 적용\n",
        "## Cabin1\n",
        "encoding = pd.get_dummies(dst_df.Cabin1)\n",
        "dst_df = dst_df.drop('Cabin1', axis =1) # 기존 삭제\n",
        "dst_df = dst_df.join(encoding) # 적용\n",
        "\n",
        "dst_df.info()"
      ]
    },
    {
      "cell_type": "code",
      "execution_count": null,
      "id": "c4f96290",
      "metadata": {
        "id": "c4f96290",
        "outputId": "ac42de6b-e6c2-4d51-a349-7c94557b269a"
      },
      "outputs": [
        {
          "data": {
            "text/html": [
              "<div>\n",
              "<style scoped>\n",
              "    .dataframe tbody tr th:only-of-type {\n",
              "        vertical-align: middle;\n",
              "    }\n",
              "\n",
              "    .dataframe tbody tr th {\n",
              "        vertical-align: top;\n",
              "    }\n",
              "\n",
              "    .dataframe thead th {\n",
              "        text-align: right;\n",
              "    }\n",
              "</style>\n",
              "<table border=\"1\" class=\"dataframe\">\n",
              "  <thead>\n",
              "    <tr style=\"text-align: right;\">\n",
              "      <th></th>\n",
              "      <th>CryoSleep</th>\n",
              "      <th>Cabin2</th>\n",
              "      <th>Cabin3</th>\n",
              "      <th>Destination</th>\n",
              "      <th>Age</th>\n",
              "      <th>VIP</th>\n",
              "      <th>RoomService</th>\n",
              "      <th>FoodCourt</th>\n",
              "      <th>ShoppingMall</th>\n",
              "      <th>Spa</th>\n",
              "      <th>...</th>\n",
              "      <th>Europa</th>\n",
              "      <th>Mars</th>\n",
              "      <th>A</th>\n",
              "      <th>B</th>\n",
              "      <th>C</th>\n",
              "      <th>D</th>\n",
              "      <th>E</th>\n",
              "      <th>F</th>\n",
              "      <th>G</th>\n",
              "      <th>T</th>\n",
              "    </tr>\n",
              "  </thead>\n",
              "  <tbody>\n",
              "    <tr>\n",
              "      <th>0</th>\n",
              "      <td>False</td>\n",
              "      <td>-1.171058</td>\n",
              "      <td>True</td>\n",
              "      <td>TRAPPIST-1e</td>\n",
              "      <td>39.0</td>\n",
              "      <td>False</td>\n",
              "      <td>-0.334616</td>\n",
              "      <td>-0.282674</td>\n",
              "      <td>-0.285975</td>\n",
              "      <td>-0.271173</td>\n",
              "      <td>...</td>\n",
              "      <td>1</td>\n",
              "      <td>0</td>\n",
              "      <td>0</td>\n",
              "      <td>1</td>\n",
              "      <td>0</td>\n",
              "      <td>0</td>\n",
              "      <td>0</td>\n",
              "      <td>0</td>\n",
              "      <td>0</td>\n",
              "      <td>0</td>\n",
              "    </tr>\n",
              "    <tr>\n",
              "      <th>1</th>\n",
              "      <td>False</td>\n",
              "      <td>-1.171058</td>\n",
              "      <td>False</td>\n",
              "      <td>TRAPPIST-1e</td>\n",
              "      <td>24.0</td>\n",
              "      <td>False</td>\n",
              "      <td>-0.166861</td>\n",
              "      <td>-0.277057</td>\n",
              "      <td>-0.244125</td>\n",
              "      <td>0.217775</td>\n",
              "      <td>...</td>\n",
              "      <td>0</td>\n",
              "      <td>0</td>\n",
              "      <td>0</td>\n",
              "      <td>0</td>\n",
              "      <td>0</td>\n",
              "      <td>0</td>\n",
              "      <td>0</td>\n",
              "      <td>1</td>\n",
              "      <td>0</td>\n",
              "      <td>0</td>\n",
              "    </tr>\n",
              "    <tr>\n",
              "      <th>2</th>\n",
              "      <td>False</td>\n",
              "      <td>-1.171058</td>\n",
              "      <td>False</td>\n",
              "      <td>TRAPPIST-1e</td>\n",
              "      <td>58.0</td>\n",
              "      <td>True</td>\n",
              "      <td>-0.268437</td>\n",
              "      <td>1.949128</td>\n",
              "      <td>-0.285975</td>\n",
              "      <td>5.709312</td>\n",
              "      <td>...</td>\n",
              "      <td>1</td>\n",
              "      <td>0</td>\n",
              "      <td>1</td>\n",
              "      <td>0</td>\n",
              "      <td>0</td>\n",
              "      <td>0</td>\n",
              "      <td>0</td>\n",
              "      <td>0</td>\n",
              "      <td>0</td>\n",
              "      <td>0</td>\n",
              "    </tr>\n",
              "    <tr>\n",
              "      <th>3</th>\n",
              "      <td>False</td>\n",
              "      <td>-1.171058</td>\n",
              "      <td>False</td>\n",
              "      <td>TRAPPIST-1e</td>\n",
              "      <td>33.0</td>\n",
              "      <td>False</td>\n",
              "      <td>-0.334616</td>\n",
              "      <td>0.518053</td>\n",
              "      <td>0.335083</td>\n",
              "      <td>2.693687</td>\n",
              "      <td>...</td>\n",
              "      <td>1</td>\n",
              "      <td>0</td>\n",
              "      <td>1</td>\n",
              "      <td>0</td>\n",
              "      <td>0</td>\n",
              "      <td>0</td>\n",
              "      <td>0</td>\n",
              "      <td>0</td>\n",
              "      <td>0</td>\n",
              "      <td>0</td>\n",
              "    </tr>\n",
              "    <tr>\n",
              "      <th>4</th>\n",
              "      <td>False</td>\n",
              "      <td>-1.169112</td>\n",
              "      <td>False</td>\n",
              "      <td>TRAPPIST-1e</td>\n",
              "      <td>16.0</td>\n",
              "      <td>False</td>\n",
              "      <td>0.131712</td>\n",
              "      <td>-0.238987</td>\n",
              "      <td>-0.033199</td>\n",
              "      <td>0.232025</td>\n",
              "      <td>...</td>\n",
              "      <td>0</td>\n",
              "      <td>0</td>\n",
              "      <td>0</td>\n",
              "      <td>0</td>\n",
              "      <td>0</td>\n",
              "      <td>0</td>\n",
              "      <td>0</td>\n",
              "      <td>1</td>\n",
              "      <td>0</td>\n",
              "      <td>0</td>\n",
              "    </tr>\n",
              "    <tr>\n",
              "      <th>...</th>\n",
              "      <td>...</td>\n",
              "      <td>...</td>\n",
              "      <td>...</td>\n",
              "      <td>...</td>\n",
              "      <td>...</td>\n",
              "      <td>...</td>\n",
              "      <td>...</td>\n",
              "      <td>...</td>\n",
              "      <td>...</td>\n",
              "      <td>...</td>\n",
              "      <td>...</td>\n",
              "      <td>...</td>\n",
              "      <td>...</td>\n",
              "      <td>...</td>\n",
              "      <td>...</td>\n",
              "      <td>...</td>\n",
              "      <td>...</td>\n",
              "      <td>...</td>\n",
              "      <td>...</td>\n",
              "      <td>...</td>\n",
              "      <td>...</td>\n",
              "    </tr>\n",
              "    <tr>\n",
              "      <th>12962</th>\n",
              "      <td>True</td>\n",
              "      <td>1.737845</td>\n",
              "      <td>False</td>\n",
              "      <td>TRAPPIST-1e</td>\n",
              "      <td>43.0</td>\n",
              "      <td>False</td>\n",
              "      <td>-0.334616</td>\n",
              "      <td>-0.282674</td>\n",
              "      <td>-0.285975</td>\n",
              "      <td>-0.271173</td>\n",
              "      <td>...</td>\n",
              "      <td>0</td>\n",
              "      <td>0</td>\n",
              "      <td>0</td>\n",
              "      <td>0</td>\n",
              "      <td>0</td>\n",
              "      <td>0</td>\n",
              "      <td>0</td>\n",
              "      <td>0</td>\n",
              "      <td>1</td>\n",
              "      <td>0</td>\n",
              "    </tr>\n",
              "    <tr>\n",
              "      <th>12963</th>\n",
              "      <td>False</td>\n",
              "      <td>-0.630138</td>\n",
              "      <td>False</td>\n",
              "      <td>TRAPPIST-1e</td>\n",
              "      <td>43.0</td>\n",
              "      <td>False</td>\n",
              "      <td>-0.262281</td>\n",
              "      <td>-0.282674</td>\n",
              "      <td>6.160647</td>\n",
              "      <td>-0.271173</td>\n",
              "      <td>...</td>\n",
              "      <td>0</td>\n",
              "      <td>1</td>\n",
              "      <td>0</td>\n",
              "      <td>0</td>\n",
              "      <td>0</td>\n",
              "      <td>1</td>\n",
              "      <td>0</td>\n",
              "      <td>0</td>\n",
              "      <td>0</td>\n",
              "      <td>0</td>\n",
              "    </tr>\n",
              "    <tr>\n",
              "      <th>12964</th>\n",
              "      <td>False</td>\n",
              "      <td>2.323517</td>\n",
              "      <td>False</td>\n",
              "      <td>TRAPPIST-1e</td>\n",
              "      <td>40.0</td>\n",
              "      <td>False</td>\n",
              "      <td>-0.334616</td>\n",
              "      <td>0.257177</td>\n",
              "      <td>-0.285975</td>\n",
              "      <td>-0.268502</td>\n",
              "      <td>...</td>\n",
              "      <td>0</td>\n",
              "      <td>0</td>\n",
              "      <td>0</td>\n",
              "      <td>0</td>\n",
              "      <td>0</td>\n",
              "      <td>0</td>\n",
              "      <td>0</td>\n",
              "      <td>1</td>\n",
              "      <td>0</td>\n",
              "      <td>0</td>\n",
              "    </tr>\n",
              "    <tr>\n",
              "      <th>12965</th>\n",
              "      <td>True</td>\n",
              "      <td>1.739790</td>\n",
              "      <td>False</td>\n",
              "      <td>TRAPPIST-1e</td>\n",
              "      <td>34.0</td>\n",
              "      <td>False</td>\n",
              "      <td>-0.334616</td>\n",
              "      <td>-0.282674</td>\n",
              "      <td>-0.285975</td>\n",
              "      <td>-0.271173</td>\n",
              "      <td>...</td>\n",
              "      <td>0</td>\n",
              "      <td>0</td>\n",
              "      <td>0</td>\n",
              "      <td>0</td>\n",
              "      <td>0</td>\n",
              "      <td>0</td>\n",
              "      <td>0</td>\n",
              "      <td>0</td>\n",
              "      <td>1</td>\n",
              "      <td>0</td>\n",
              "    </tr>\n",
              "    <tr>\n",
              "      <th>12969</th>\n",
              "      <td>True</td>\n",
              "      <td>1.743682</td>\n",
              "      <td>False</td>\n",
              "      <td>PSO J318.5-22</td>\n",
              "      <td>43.0</td>\n",
              "      <td>False</td>\n",
              "      <td>-0.334616</td>\n",
              "      <td>-0.282674</td>\n",
              "      <td>-0.285975</td>\n",
              "      <td>-0.271173</td>\n",
              "      <td>...</td>\n",
              "      <td>0</td>\n",
              "      <td>0</td>\n",
              "      <td>0</td>\n",
              "      <td>0</td>\n",
              "      <td>0</td>\n",
              "      <td>0</td>\n",
              "      <td>0</td>\n",
              "      <td>0</td>\n",
              "      <td>1</td>\n",
              "      <td>0</td>\n",
              "    </tr>\n",
              "  </tbody>\n",
              "</table>\n",
              "<p>11076 rows × 22 columns</p>\n",
              "</div>"
            ],
            "text/plain": [
              "       CryoSleep    Cabin2  Cabin3    Destination   Age    VIP  RoomService  \\\n",
              "0          False -1.171058    True    TRAPPIST-1e  39.0  False    -0.334616   \n",
              "1          False -1.171058   False    TRAPPIST-1e  24.0  False    -0.166861   \n",
              "2          False -1.171058   False    TRAPPIST-1e  58.0   True    -0.268437   \n",
              "3          False -1.171058   False    TRAPPIST-1e  33.0  False    -0.334616   \n",
              "4          False -1.169112   False    TRAPPIST-1e  16.0  False     0.131712   \n",
              "...          ...       ...     ...            ...   ...    ...          ...   \n",
              "12962       True  1.737845   False    TRAPPIST-1e  43.0  False    -0.334616   \n",
              "12963      False -0.630138   False    TRAPPIST-1e  43.0  False    -0.262281   \n",
              "12964      False  2.323517   False    TRAPPIST-1e  40.0  False    -0.334616   \n",
              "12965       True  1.739790   False    TRAPPIST-1e  34.0  False    -0.334616   \n",
              "12969       True  1.743682   False  PSO J318.5-22  43.0  False    -0.334616   \n",
              "\n",
              "       FoodCourt  ShoppingMall       Spa  ...  Europa  Mars  A  B  C  D  E  F  \\\n",
              "0      -0.282674     -0.285975 -0.271173  ...       1     0  0  1  0  0  0  0   \n",
              "1      -0.277057     -0.244125  0.217775  ...       0     0  0  0  0  0  0  1   \n",
              "2       1.949128     -0.285975  5.709312  ...       1     0  1  0  0  0  0  0   \n",
              "3       0.518053      0.335083  2.693687  ...       1     0  1  0  0  0  0  0   \n",
              "4      -0.238987     -0.033199  0.232025  ...       0     0  0  0  0  0  0  1   \n",
              "...          ...           ...       ...  ...     ...   ... .. .. .. .. .. ..   \n",
              "12962  -0.282674     -0.285975 -0.271173  ...       0     0  0  0  0  0  0  0   \n",
              "12963  -0.282674      6.160647 -0.271173  ...       0     1  0  0  0  1  0  0   \n",
              "12964   0.257177     -0.285975 -0.268502  ...       0     0  0  0  0  0  0  1   \n",
              "12965  -0.282674     -0.285975 -0.271173  ...       0     0  0  0  0  0  0  0   \n",
              "12969  -0.282674     -0.285975 -0.271173  ...       0     0  0  0  0  0  0  0   \n",
              "\n",
              "       G  T  \n",
              "0      0  0  \n",
              "1      0  0  \n",
              "2      0  0  \n",
              "3      0  0  \n",
              "4      0  0  \n",
              "...   .. ..  \n",
              "12962  1  0  \n",
              "12963  0  0  \n",
              "12964  0  0  \n",
              "12965  1  0  \n",
              "12969  1  0  \n",
              "\n",
              "[11076 rows x 22 columns]"
            ]
          },
          "execution_count": 106,
          "metadata": {},
          "output_type": "execute_result"
        }
      ],
      "source": [
        "# 스케일링\n",
        "\n",
        "## 위에 정의된 스케일링 함수 호출\n",
        "col = ['Cabin2', 'RoomService','FoodCourt','ShoppingMall','Spa','VRDeck']\n",
        "data_scaled(dst_df, col)"
      ]
    },
    {
      "cell_type": "code",
      "execution_count": null,
      "id": "363b57e1",
      "metadata": {
        "id": "363b57e1",
        "outputId": "9580a2c4-f72b-4b69-b01e-cfbd376720fa"
      },
      "outputs": [
        {
          "data": {
            "text/plain": [
              "array(['TRAPPIST-1e', 'PSO J318.5-22', '55 Cancri e'], dtype=object)"
            ]
          },
          "execution_count": 107,
          "metadata": {},
          "output_type": "execute_result"
        }
      ],
      "source": [
        "dst_df.Destination.unique()"
      ]
    },
    {
      "cell_type": "code",
      "execution_count": null,
      "id": "2237f581",
      "metadata": {
        "id": "2237f581"
      },
      "outputs": [],
      "source": [
        "# Object 타입을 숫자형으로 변경하기\n",
        "# 'TRAPPIST-1e' = 0, 'PSO J318.5-22' = 1, '55 Cancri e' = 2\n",
        "dst_df.Destination.replace({'TRAPPIST-1e':0, '55 Cancri e':1, 'PSO J318.5-22':2}, inplace=True)"
      ]
    },
    {
      "cell_type": "code",
      "execution_count": null,
      "id": "db91fbcb",
      "metadata": {
        "id": "db91fbcb",
        "outputId": "f6022f05-89b4-4901-ba77-e3db67ed115c"
      },
      "outputs": [
        {
          "data": {
            "text/plain": [
              "0    7715\n",
              "1    2325\n",
              "2    1036\n",
              "Name: Destination, dtype: int64"
            ]
          },
          "execution_count": 110,
          "metadata": {},
          "output_type": "execute_result"
        }
      ],
      "source": [
        "dst_df['Destination'].value_counts()"
      ]
    },
    {
      "cell_type": "markdown",
      "id": "69562565",
      "metadata": {
        "id": "69562565"
      },
      "source": [
        "## 데이터와 타겟값 분리"
      ]
    },
    {
      "cell_type": "code",
      "execution_count": null,
      "id": "48e5d5ee",
      "metadata": {
        "id": "48e5d5ee"
      },
      "outputs": [],
      "source": [
        "dst_data = dst_df.drop('Destination', axis =1) \n",
        "dst_label = dst_df['Destination']"
      ]
    },
    {
      "cell_type": "markdown",
      "id": "20f93957",
      "metadata": {
        "id": "20f93957"
      },
      "source": [
        "## 복합샘플링"
      ]
    },
    {
      "cell_type": "code",
      "execution_count": null,
      "id": "f3fce0db",
      "metadata": {
        "id": "f3fce0db",
        "outputId": "cb4b3306-2ac1-4743-b3c9-e4305e3dcf13"
      },
      "outputs": [
        {
          "ename": "AttributeError",
          "evalue": "'NoneType' object has no attribute 'split'",
          "output_type": "error",
          "traceback": [
            "\u001b[1;31m---------------------------------------------------------------------------\u001b[0m",
            "\u001b[1;31mAttributeError\u001b[0m                            Traceback (most recent call last)",
            "\u001b[1;32m~\\AppData\\Local\\Temp/ipykernel_10908/3831475034.py\u001b[0m in \u001b[0;36m<module>\u001b[1;34m\u001b[0m\n\u001b[0;32m      1\u001b[0m \u001b[1;31m# 복합 샘플링\u001b[0m\u001b[1;33m\u001b[0m\u001b[1;33m\u001b[0m\u001b[0m\n\u001b[1;32m----> 2\u001b[1;33m \u001b[0mX_sample\u001b[0m\u001b[1;33m,\u001b[0m \u001b[0my_sample\u001b[0m \u001b[1;33m=\u001b[0m \u001b[0mSMOTEENN\u001b[0m\u001b[1;33m(\u001b[0m\u001b[0mrandom_state\u001b[0m \u001b[1;33m=\u001b[0m\u001b[1;36m109\u001b[0m\u001b[1;33m)\u001b[0m\u001b[1;33m.\u001b[0m\u001b[0mfit_resample\u001b[0m\u001b[1;33m(\u001b[0m\u001b[0mdst_data\u001b[0m\u001b[1;33m,\u001b[0m \u001b[0mdst_label\u001b[0m\u001b[1;33m)\u001b[0m\u001b[1;33m\u001b[0m\u001b[1;33m\u001b[0m\u001b[0m\n\u001b[0m",
            "\u001b[1;32mC:\\Anaconda3\\lib\\site-packages\\imblearn\\base.py\u001b[0m in \u001b[0;36mfit_resample\u001b[1;34m(self, X, y)\u001b[0m\n\u001b[0;32m     81\u001b[0m         )\n\u001b[0;32m     82\u001b[0m \u001b[1;33m\u001b[0m\u001b[0m\n\u001b[1;32m---> 83\u001b[1;33m         \u001b[0moutput\u001b[0m \u001b[1;33m=\u001b[0m \u001b[0mself\u001b[0m\u001b[1;33m.\u001b[0m\u001b[0m_fit_resample\u001b[0m\u001b[1;33m(\u001b[0m\u001b[0mX\u001b[0m\u001b[1;33m,\u001b[0m \u001b[0my\u001b[0m\u001b[1;33m)\u001b[0m\u001b[1;33m\u001b[0m\u001b[1;33m\u001b[0m\u001b[0m\n\u001b[0m\u001b[0;32m     84\u001b[0m \u001b[1;33m\u001b[0m\u001b[0m\n\u001b[0;32m     85\u001b[0m         y_ = (\n",
            "\u001b[1;32mC:\\Anaconda3\\lib\\site-packages\\imblearn\\combine\\_smote_enn.py\u001b[0m in \u001b[0;36m_fit_resample\u001b[1;34m(self, X, y)\u001b[0m\n\u001b[0;32m    161\u001b[0m         \u001b[0mself\u001b[0m\u001b[1;33m.\u001b[0m\u001b[0msampling_strategy_\u001b[0m \u001b[1;33m=\u001b[0m \u001b[0mself\u001b[0m\u001b[1;33m.\u001b[0m\u001b[0msampling_strategy\u001b[0m\u001b[1;33m\u001b[0m\u001b[1;33m\u001b[0m\u001b[0m\n\u001b[0;32m    162\u001b[0m \u001b[1;33m\u001b[0m\u001b[0m\n\u001b[1;32m--> 163\u001b[1;33m         \u001b[0mX_res\u001b[0m\u001b[1;33m,\u001b[0m \u001b[0my_res\u001b[0m \u001b[1;33m=\u001b[0m \u001b[0mself\u001b[0m\u001b[1;33m.\u001b[0m\u001b[0msmote_\u001b[0m\u001b[1;33m.\u001b[0m\u001b[0mfit_resample\u001b[0m\u001b[1;33m(\u001b[0m\u001b[0mX\u001b[0m\u001b[1;33m,\u001b[0m \u001b[0my\u001b[0m\u001b[1;33m)\u001b[0m\u001b[1;33m\u001b[0m\u001b[1;33m\u001b[0m\u001b[0m\n\u001b[0m\u001b[0;32m    164\u001b[0m         \u001b[1;32mreturn\u001b[0m \u001b[0mself\u001b[0m\u001b[1;33m.\u001b[0m\u001b[0menn_\u001b[0m\u001b[1;33m.\u001b[0m\u001b[0mfit_resample\u001b[0m\u001b[1;33m(\u001b[0m\u001b[0mX_res\u001b[0m\u001b[1;33m,\u001b[0m \u001b[0my_res\u001b[0m\u001b[1;33m)\u001b[0m\u001b[1;33m\u001b[0m\u001b[1;33m\u001b[0m\u001b[0m\n",
            "\u001b[1;32mC:\\Anaconda3\\lib\\site-packages\\imblearn\\base.py\u001b[0m in \u001b[0;36mfit_resample\u001b[1;34m(self, X, y)\u001b[0m\n\u001b[0;32m     81\u001b[0m         )\n\u001b[0;32m     82\u001b[0m \u001b[1;33m\u001b[0m\u001b[0m\n\u001b[1;32m---> 83\u001b[1;33m         \u001b[0moutput\u001b[0m \u001b[1;33m=\u001b[0m \u001b[0mself\u001b[0m\u001b[1;33m.\u001b[0m\u001b[0m_fit_resample\u001b[0m\u001b[1;33m(\u001b[0m\u001b[0mX\u001b[0m\u001b[1;33m,\u001b[0m \u001b[0my\u001b[0m\u001b[1;33m)\u001b[0m\u001b[1;33m\u001b[0m\u001b[1;33m\u001b[0m\u001b[0m\n\u001b[0m\u001b[0;32m     84\u001b[0m \u001b[1;33m\u001b[0m\u001b[0m\n\u001b[0;32m     85\u001b[0m         y_ = (\n",
            "\u001b[1;32mC:\\Anaconda3\\lib\\site-packages\\imblearn\\over_sampling\\_smote\\base.py\u001b[0m in \u001b[0;36m_fit_resample\u001b[1;34m(self, X, y)\u001b[0m\n\u001b[0;32m    322\u001b[0m \u001b[1;33m\u001b[0m\u001b[0m\n\u001b[0;32m    323\u001b[0m             \u001b[0mself\u001b[0m\u001b[1;33m.\u001b[0m\u001b[0mnn_k_\u001b[0m\u001b[1;33m.\u001b[0m\u001b[0mfit\u001b[0m\u001b[1;33m(\u001b[0m\u001b[0mX_class\u001b[0m\u001b[1;33m)\u001b[0m\u001b[1;33m\u001b[0m\u001b[1;33m\u001b[0m\u001b[0m\n\u001b[1;32m--> 324\u001b[1;33m             \u001b[0mnns\u001b[0m \u001b[1;33m=\u001b[0m \u001b[0mself\u001b[0m\u001b[1;33m.\u001b[0m\u001b[0mnn_k_\u001b[0m\u001b[1;33m.\u001b[0m\u001b[0mkneighbors\u001b[0m\u001b[1;33m(\u001b[0m\u001b[0mX_class\u001b[0m\u001b[1;33m,\u001b[0m \u001b[0mreturn_distance\u001b[0m\u001b[1;33m=\u001b[0m\u001b[1;32mFalse\u001b[0m\u001b[1;33m)\u001b[0m\u001b[1;33m[\u001b[0m\u001b[1;33m:\u001b[0m\u001b[1;33m,\u001b[0m \u001b[1;36m1\u001b[0m\u001b[1;33m:\u001b[0m\u001b[1;33m]\u001b[0m\u001b[1;33m\u001b[0m\u001b[1;33m\u001b[0m\u001b[0m\n\u001b[0m\u001b[0;32m    325\u001b[0m             X_new, y_new = self._make_samples(\n\u001b[0;32m    326\u001b[0m                 \u001b[0mX_class\u001b[0m\u001b[1;33m,\u001b[0m \u001b[0my\u001b[0m\u001b[1;33m.\u001b[0m\u001b[0mdtype\u001b[0m\u001b[1;33m,\u001b[0m \u001b[0mclass_sample\u001b[0m\u001b[1;33m,\u001b[0m \u001b[0mX_class\u001b[0m\u001b[1;33m,\u001b[0m \u001b[0mnns\u001b[0m\u001b[1;33m,\u001b[0m \u001b[0mn_samples\u001b[0m\u001b[1;33m,\u001b[0m \u001b[1;36m1.0\u001b[0m\u001b[1;33m\u001b[0m\u001b[1;33m\u001b[0m\u001b[0m\n",
            "\u001b[1;32m~\\AppData\\Roaming\\Python\\Python39\\site-packages\\sklearn\\neighbors\\_base.py\u001b[0m in \u001b[0;36mkneighbors\u001b[1;34m(self, X, n_neighbors, return_distance)\u001b[0m\n\u001b[0;32m    761\u001b[0m         )\n\u001b[0;32m    762\u001b[0m         \u001b[1;32mif\u001b[0m \u001b[0muse_pairwise_distances_reductions\u001b[0m\u001b[1;33m:\u001b[0m\u001b[1;33m\u001b[0m\u001b[1;33m\u001b[0m\u001b[0m\n\u001b[1;32m--> 763\u001b[1;33m             results = PairwiseDistancesArgKmin.compute(\n\u001b[0m\u001b[0;32m    764\u001b[0m                 \u001b[0mX\u001b[0m\u001b[1;33m=\u001b[0m\u001b[0mX\u001b[0m\u001b[1;33m,\u001b[0m\u001b[1;33m\u001b[0m\u001b[1;33m\u001b[0m\u001b[0m\n\u001b[0;32m    765\u001b[0m                 \u001b[0mY\u001b[0m\u001b[1;33m=\u001b[0m\u001b[0mself\u001b[0m\u001b[1;33m.\u001b[0m\u001b[0m_fit_X\u001b[0m\u001b[1;33m,\u001b[0m\u001b[1;33m\u001b[0m\u001b[1;33m\u001b[0m\u001b[0m\n",
            "\u001b[1;32msklearn\\metrics\\_pairwise_distances_reduction.pyx\u001b[0m in \u001b[0;36msklearn.metrics._pairwise_distances_reduction.PairwiseDistancesArgKmin.compute\u001b[1;34m()\u001b[0m\n",
            "\u001b[1;32m~\\AppData\\Roaming\\Python\\Python39\\site-packages\\sklearn\\utils\\fixes.py\u001b[0m in \u001b[0;36mthreadpool_limits\u001b[1;34m(limits, user_api)\u001b[0m\n\u001b[0;32m    149\u001b[0m         \u001b[1;32mreturn\u001b[0m \u001b[0mcontroller\u001b[0m\u001b[1;33m.\u001b[0m\u001b[0mlimit\u001b[0m\u001b[1;33m(\u001b[0m\u001b[0mlimits\u001b[0m\u001b[1;33m=\u001b[0m\u001b[0mlimits\u001b[0m\u001b[1;33m,\u001b[0m \u001b[0muser_api\u001b[0m\u001b[1;33m=\u001b[0m\u001b[0muser_api\u001b[0m\u001b[1;33m)\u001b[0m\u001b[1;33m\u001b[0m\u001b[1;33m\u001b[0m\u001b[0m\n\u001b[0;32m    150\u001b[0m     \u001b[1;32melse\u001b[0m\u001b[1;33m:\u001b[0m\u001b[1;33m\u001b[0m\u001b[1;33m\u001b[0m\u001b[0m\n\u001b[1;32m--> 151\u001b[1;33m         \u001b[1;32mreturn\u001b[0m \u001b[0mthreadpoolctl\u001b[0m\u001b[1;33m.\u001b[0m\u001b[0mthreadpool_limits\u001b[0m\u001b[1;33m(\u001b[0m\u001b[0mlimits\u001b[0m\u001b[1;33m=\u001b[0m\u001b[0mlimits\u001b[0m\u001b[1;33m,\u001b[0m \u001b[0muser_api\u001b[0m\u001b[1;33m=\u001b[0m\u001b[0muser_api\u001b[0m\u001b[1;33m)\u001b[0m\u001b[1;33m\u001b[0m\u001b[1;33m\u001b[0m\u001b[0m\n\u001b[0m\u001b[0;32m    152\u001b[0m \u001b[1;33m\u001b[0m\u001b[0m\n\u001b[0;32m    153\u001b[0m \u001b[1;33m\u001b[0m\u001b[0m\n",
            "\u001b[1;32mC:\\Anaconda3\\lib\\site-packages\\threadpoolctl.py\u001b[0m in \u001b[0;36m__init__\u001b[1;34m(self, limits, user_api)\u001b[0m\n\u001b[0;32m    169\u001b[0m             \u001b[0mself\u001b[0m\u001b[1;33m.\u001b[0m\u001b[0m_check_params\u001b[0m\u001b[1;33m(\u001b[0m\u001b[0mlimits\u001b[0m\u001b[1;33m,\u001b[0m \u001b[0muser_api\u001b[0m\u001b[1;33m)\u001b[0m\u001b[1;33m\u001b[0m\u001b[1;33m\u001b[0m\u001b[0m\n\u001b[0;32m    170\u001b[0m \u001b[1;33m\u001b[0m\u001b[0m\n\u001b[1;32m--> 171\u001b[1;33m         \u001b[0mself\u001b[0m\u001b[1;33m.\u001b[0m\u001b[0m_original_info\u001b[0m \u001b[1;33m=\u001b[0m \u001b[0mself\u001b[0m\u001b[1;33m.\u001b[0m\u001b[0m_set_threadpool_limits\u001b[0m\u001b[1;33m(\u001b[0m\u001b[1;33m)\u001b[0m\u001b[1;33m\u001b[0m\u001b[1;33m\u001b[0m\u001b[0m\n\u001b[0m\u001b[0;32m    172\u001b[0m \u001b[1;33m\u001b[0m\u001b[0m\n\u001b[0;32m    173\u001b[0m     \u001b[1;32mdef\u001b[0m \u001b[0m__enter__\u001b[0m\u001b[1;33m(\u001b[0m\u001b[0mself\u001b[0m\u001b[1;33m)\u001b[0m\u001b[1;33m:\u001b[0m\u001b[1;33m\u001b[0m\u001b[1;33m\u001b[0m\u001b[0m\n",
            "\u001b[1;32mC:\\Anaconda3\\lib\\site-packages\\threadpoolctl.py\u001b[0m in \u001b[0;36m_set_threadpool_limits\u001b[1;34m(self)\u001b[0m\n\u001b[0;32m    266\u001b[0m             \u001b[1;32mreturn\u001b[0m \u001b[1;32mNone\u001b[0m\u001b[1;33m\u001b[0m\u001b[1;33m\u001b[0m\u001b[0m\n\u001b[0;32m    267\u001b[0m \u001b[1;33m\u001b[0m\u001b[0m\n\u001b[1;32m--> 268\u001b[1;33m         modules = _ThreadpoolInfo(prefixes=self._prefixes,\n\u001b[0m\u001b[0;32m    269\u001b[0m                                   user_api=self._user_api)\n\u001b[0;32m    270\u001b[0m         \u001b[1;32mfor\u001b[0m \u001b[0mmodule\u001b[0m \u001b[1;32min\u001b[0m \u001b[0mmodules\u001b[0m\u001b[1;33m:\u001b[0m\u001b[1;33m\u001b[0m\u001b[1;33m\u001b[0m\u001b[0m\n",
            "\u001b[1;32mC:\\Anaconda3\\lib\\site-packages\\threadpoolctl.py\u001b[0m in \u001b[0;36m__init__\u001b[1;34m(self, user_api, prefixes, modules)\u001b[0m\n\u001b[0;32m    338\u001b[0m \u001b[1;33m\u001b[0m\u001b[0m\n\u001b[0;32m    339\u001b[0m             \u001b[0mself\u001b[0m\u001b[1;33m.\u001b[0m\u001b[0mmodules\u001b[0m \u001b[1;33m=\u001b[0m \u001b[1;33m[\u001b[0m\u001b[1;33m]\u001b[0m\u001b[1;33m\u001b[0m\u001b[1;33m\u001b[0m\u001b[0m\n\u001b[1;32m--> 340\u001b[1;33m             \u001b[0mself\u001b[0m\u001b[1;33m.\u001b[0m\u001b[0m_load_modules\u001b[0m\u001b[1;33m(\u001b[0m\u001b[1;33m)\u001b[0m\u001b[1;33m\u001b[0m\u001b[1;33m\u001b[0m\u001b[0m\n\u001b[0m\u001b[0;32m    341\u001b[0m             \u001b[0mself\u001b[0m\u001b[1;33m.\u001b[0m\u001b[0m_warn_if_incompatible_openmp\u001b[0m\u001b[1;33m(\u001b[0m\u001b[1;33m)\u001b[0m\u001b[1;33m\u001b[0m\u001b[1;33m\u001b[0m\u001b[0m\n\u001b[0;32m    342\u001b[0m         \u001b[1;32melse\u001b[0m\u001b[1;33m:\u001b[0m\u001b[1;33m\u001b[0m\u001b[1;33m\u001b[0m\u001b[0m\n",
            "\u001b[1;32mC:\\Anaconda3\\lib\\site-packages\\threadpoolctl.py\u001b[0m in \u001b[0;36m_load_modules\u001b[1;34m(self)\u001b[0m\n\u001b[0;32m    371\u001b[0m             \u001b[0mself\u001b[0m\u001b[1;33m.\u001b[0m\u001b[0m_find_modules_with_dyld\u001b[0m\u001b[1;33m(\u001b[0m\u001b[1;33m)\u001b[0m\u001b[1;33m\u001b[0m\u001b[1;33m\u001b[0m\u001b[0m\n\u001b[0;32m    372\u001b[0m         \u001b[1;32melif\u001b[0m \u001b[0msys\u001b[0m\u001b[1;33m.\u001b[0m\u001b[0mplatform\u001b[0m \u001b[1;33m==\u001b[0m \u001b[1;34m\"win32\"\u001b[0m\u001b[1;33m:\u001b[0m\u001b[1;33m\u001b[0m\u001b[1;33m\u001b[0m\u001b[0m\n\u001b[1;32m--> 373\u001b[1;33m             \u001b[0mself\u001b[0m\u001b[1;33m.\u001b[0m\u001b[0m_find_modules_with_enum_process_module_ex\u001b[0m\u001b[1;33m(\u001b[0m\u001b[1;33m)\u001b[0m\u001b[1;33m\u001b[0m\u001b[1;33m\u001b[0m\u001b[0m\n\u001b[0m\u001b[0;32m    374\u001b[0m         \u001b[1;32melse\u001b[0m\u001b[1;33m:\u001b[0m\u001b[1;33m\u001b[0m\u001b[1;33m\u001b[0m\u001b[0m\n\u001b[0;32m    375\u001b[0m             \u001b[0mself\u001b[0m\u001b[1;33m.\u001b[0m\u001b[0m_find_modules_with_dl_iterate_phdr\u001b[0m\u001b[1;33m(\u001b[0m\u001b[1;33m)\u001b[0m\u001b[1;33m\u001b[0m\u001b[1;33m\u001b[0m\u001b[0m\n",
            "\u001b[1;32mC:\\Anaconda3\\lib\\site-packages\\threadpoolctl.py\u001b[0m in \u001b[0;36m_find_modules_with_enum_process_module_ex\u001b[1;34m(self)\u001b[0m\n\u001b[0;32m    483\u001b[0m \u001b[1;33m\u001b[0m\u001b[0m\n\u001b[0;32m    484\u001b[0m                 \u001b[1;31m# Store the module if it is supported and selected\u001b[0m\u001b[1;33m\u001b[0m\u001b[1;33m\u001b[0m\u001b[0m\n\u001b[1;32m--> 485\u001b[1;33m                 \u001b[0mself\u001b[0m\u001b[1;33m.\u001b[0m\u001b[0m_make_module_from_path\u001b[0m\u001b[1;33m(\u001b[0m\u001b[0mfilepath\u001b[0m\u001b[1;33m)\u001b[0m\u001b[1;33m\u001b[0m\u001b[1;33m\u001b[0m\u001b[0m\n\u001b[0m\u001b[0;32m    486\u001b[0m         \u001b[1;32mfinally\u001b[0m\u001b[1;33m:\u001b[0m\u001b[1;33m\u001b[0m\u001b[1;33m\u001b[0m\u001b[0m\n\u001b[0;32m    487\u001b[0m             \u001b[0mkernel_32\u001b[0m\u001b[1;33m.\u001b[0m\u001b[0mCloseHandle\u001b[0m\u001b[1;33m(\u001b[0m\u001b[0mh_process\u001b[0m\u001b[1;33m)\u001b[0m\u001b[1;33m\u001b[0m\u001b[1;33m\u001b[0m\u001b[0m\n",
            "\u001b[1;32mC:\\Anaconda3\\lib\\site-packages\\threadpoolctl.py\u001b[0m in \u001b[0;36m_make_module_from_path\u001b[1;34m(self, filepath)\u001b[0m\n\u001b[0;32m    513\u001b[0m             \u001b[1;32mif\u001b[0m \u001b[0mprefix\u001b[0m \u001b[1;32min\u001b[0m \u001b[0mself\u001b[0m\u001b[1;33m.\u001b[0m\u001b[0mprefixes\u001b[0m \u001b[1;32mor\u001b[0m \u001b[0muser_api\u001b[0m \u001b[1;32min\u001b[0m \u001b[0mself\u001b[0m\u001b[1;33m.\u001b[0m\u001b[0muser_api\u001b[0m\u001b[1;33m:\u001b[0m\u001b[1;33m\u001b[0m\u001b[1;33m\u001b[0m\u001b[0m\n\u001b[0;32m    514\u001b[0m                 \u001b[0mmodule_class\u001b[0m \u001b[1;33m=\u001b[0m \u001b[0mglobals\u001b[0m\u001b[1;33m(\u001b[0m\u001b[1;33m)\u001b[0m\u001b[1;33m[\u001b[0m\u001b[0mmodule_class\u001b[0m\u001b[1;33m]\u001b[0m\u001b[1;33m\u001b[0m\u001b[1;33m\u001b[0m\u001b[0m\n\u001b[1;32m--> 515\u001b[1;33m                 \u001b[0mmodule\u001b[0m \u001b[1;33m=\u001b[0m \u001b[0mmodule_class\u001b[0m\u001b[1;33m(\u001b[0m\u001b[0mfilepath\u001b[0m\u001b[1;33m,\u001b[0m \u001b[0mprefix\u001b[0m\u001b[1;33m,\u001b[0m \u001b[0muser_api\u001b[0m\u001b[1;33m,\u001b[0m \u001b[0minternal_api\u001b[0m\u001b[1;33m)\u001b[0m\u001b[1;33m\u001b[0m\u001b[1;33m\u001b[0m\u001b[0m\n\u001b[0m\u001b[0;32m    516\u001b[0m                 \u001b[0mself\u001b[0m\u001b[1;33m.\u001b[0m\u001b[0mmodules\u001b[0m\u001b[1;33m.\u001b[0m\u001b[0mappend\u001b[0m\u001b[1;33m(\u001b[0m\u001b[0mmodule\u001b[0m\u001b[1;33m)\u001b[0m\u001b[1;33m\u001b[0m\u001b[1;33m\u001b[0m\u001b[0m\n\u001b[0;32m    517\u001b[0m \u001b[1;33m\u001b[0m\u001b[0m\n",
            "\u001b[1;32mC:\\Anaconda3\\lib\\site-packages\\threadpoolctl.py\u001b[0m in \u001b[0;36m__init__\u001b[1;34m(self, filepath, prefix, user_api, internal_api)\u001b[0m\n\u001b[0;32m    604\u001b[0m         \u001b[0mself\u001b[0m\u001b[1;33m.\u001b[0m\u001b[0minternal_api\u001b[0m \u001b[1;33m=\u001b[0m \u001b[0minternal_api\u001b[0m\u001b[1;33m\u001b[0m\u001b[1;33m\u001b[0m\u001b[0m\n\u001b[0;32m    605\u001b[0m         \u001b[0mself\u001b[0m\u001b[1;33m.\u001b[0m\u001b[0m_dynlib\u001b[0m \u001b[1;33m=\u001b[0m \u001b[0mctypes\u001b[0m\u001b[1;33m.\u001b[0m\u001b[0mCDLL\u001b[0m\u001b[1;33m(\u001b[0m\u001b[0mfilepath\u001b[0m\u001b[1;33m,\u001b[0m \u001b[0mmode\u001b[0m\u001b[1;33m=\u001b[0m\u001b[0m_RTLD_NOLOAD\u001b[0m\u001b[1;33m)\u001b[0m\u001b[1;33m\u001b[0m\u001b[1;33m\u001b[0m\u001b[0m\n\u001b[1;32m--> 606\u001b[1;33m         \u001b[0mself\u001b[0m\u001b[1;33m.\u001b[0m\u001b[0mversion\u001b[0m \u001b[1;33m=\u001b[0m \u001b[0mself\u001b[0m\u001b[1;33m.\u001b[0m\u001b[0mget_version\u001b[0m\u001b[1;33m(\u001b[0m\u001b[1;33m)\u001b[0m\u001b[1;33m\u001b[0m\u001b[1;33m\u001b[0m\u001b[0m\n\u001b[0m\u001b[0;32m    607\u001b[0m         \u001b[0mself\u001b[0m\u001b[1;33m.\u001b[0m\u001b[0mnum_threads\u001b[0m \u001b[1;33m=\u001b[0m \u001b[0mself\u001b[0m\u001b[1;33m.\u001b[0m\u001b[0mget_num_threads\u001b[0m\u001b[1;33m(\u001b[0m\u001b[1;33m)\u001b[0m\u001b[1;33m\u001b[0m\u001b[1;33m\u001b[0m\u001b[0m\n\u001b[0;32m    608\u001b[0m         \u001b[0mself\u001b[0m\u001b[1;33m.\u001b[0m\u001b[0m_get_extra_info\u001b[0m\u001b[1;33m(\u001b[0m\u001b[1;33m)\u001b[0m\u001b[1;33m\u001b[0m\u001b[1;33m\u001b[0m\u001b[0m\n",
            "\u001b[1;32mC:\\Anaconda3\\lib\\site-packages\\threadpoolctl.py\u001b[0m in \u001b[0;36mget_version\u001b[1;34m(self)\u001b[0m\n\u001b[0;32m    644\u001b[0m                              lambda: None)\n\u001b[0;32m    645\u001b[0m         \u001b[0mget_config\u001b[0m\u001b[1;33m.\u001b[0m\u001b[0mrestype\u001b[0m \u001b[1;33m=\u001b[0m \u001b[0mctypes\u001b[0m\u001b[1;33m.\u001b[0m\u001b[0mc_char_p\u001b[0m\u001b[1;33m\u001b[0m\u001b[1;33m\u001b[0m\u001b[0m\n\u001b[1;32m--> 646\u001b[1;33m         \u001b[0mconfig\u001b[0m \u001b[1;33m=\u001b[0m \u001b[0mget_config\u001b[0m\u001b[1;33m(\u001b[0m\u001b[1;33m)\u001b[0m\u001b[1;33m.\u001b[0m\u001b[0msplit\u001b[0m\u001b[1;33m(\u001b[0m\u001b[1;33m)\u001b[0m\u001b[1;33m\u001b[0m\u001b[1;33m\u001b[0m\u001b[0m\n\u001b[0m\u001b[0;32m    647\u001b[0m         \u001b[1;32mif\u001b[0m \u001b[0mconfig\u001b[0m\u001b[1;33m[\u001b[0m\u001b[1;36m0\u001b[0m\u001b[1;33m]\u001b[0m \u001b[1;33m==\u001b[0m \u001b[1;34mb\"OpenBLAS\"\u001b[0m\u001b[1;33m:\u001b[0m\u001b[1;33m\u001b[0m\u001b[1;33m\u001b[0m\u001b[0m\n\u001b[0;32m    648\u001b[0m             \u001b[1;32mreturn\u001b[0m \u001b[0mconfig\u001b[0m\u001b[1;33m[\u001b[0m\u001b[1;36m1\u001b[0m\u001b[1;33m]\u001b[0m\u001b[1;33m.\u001b[0m\u001b[0mdecode\u001b[0m\u001b[1;33m(\u001b[0m\u001b[1;34m\"utf-8\"\u001b[0m\u001b[1;33m)\u001b[0m\u001b[1;33m\u001b[0m\u001b[1;33m\u001b[0m\u001b[0m\n",
            "\u001b[1;31mAttributeError\u001b[0m: 'NoneType' object has no attribute 'split'"
          ]
        }
      ],
      "source": [
        "# 복합 샘플링\n",
        "X_sample, y_sample = SMOTEENN(random_state =109).fit_resample(dst_data, dst_label)"
      ]
    },
    {
      "cell_type": "code",
      "execution_count": null,
      "id": "dc6e54da",
      "metadata": {
        "id": "dc6e54da"
      },
      "outputs": [],
      "source": [
        "y_sample.value_counts() # 아직 편향이 좀 있지만, 나아졌네"
      ]
    },
    {
      "cell_type": "markdown",
      "id": "4bf58231",
      "metadata": {
        "id": "4bf58231"
      },
      "source": [
        "## train, test 데이터 세트 분리"
      ]
    },
    {
      "cell_type": "code",
      "execution_count": null,
      "id": "8dc77247",
      "metadata": {
        "id": "8dc77247"
      },
      "outputs": [],
      "source": [
        "X_train, X_test, y_train, y_test = train_test_split(X_sample, y_sample, random_state=109)"
      ]
    },
    {
      "cell_type": "markdown",
      "id": "e40a8cb7",
      "metadata": {
        "id": "e40a8cb7"
      },
      "source": [
        "## 모델링_XGBClassifier"
      ]
    },
    {
      "cell_type": "code",
      "execution_count": null,
      "id": "8ff6ee17",
      "metadata": {
        "id": "8ff6ee17"
      },
      "outputs": [],
      "source": [
        "# hyperopt 적용을 위한 설정 값 담기\n",
        "xgb_search_space = {'max_depth': hp.quniform('max_depth', 5, 20, 1),\n",
        "                    'min_child_weight': hp.quniform('min_child_weight', 1, 2, 1),\n",
        "                    'learning_rate': hp.uniform('learning_rate', 0.01, 0.2),\n",
        "                    'colsample_bytree': hp.uniform('colsample_bytree', 0.5, 0.95)\n",
        "               }"
      ]
    },
    {
      "cell_type": "code",
      "execution_count": null,
      "id": "77bd8b91",
      "metadata": {
        "id": "77bd8b91"
      },
      "outputs": [],
      "source": [
        "# 실행을 위한 함수 정의\n",
        "def objective_func(search_space):\n",
        "    xgb_clf = XGBClassifier(n_estimators=100, max_depth=int(search_space['max_depth']),\n",
        "                            min_child_weight=int(search_space['min_child_weight']),\n",
        "                            learning_rate=search_space['learning_rate'],\n",
        "                            colsample_bytree=search_space['colsample_bytree'], \n",
        "                            eval_metric='logloss')\n",
        "    accuracy = cross_val_score(xgb_clf, X_train, y_train, scoring='accuracy', cv=3)\n",
        "    return {'loss':-1 * np.mean(accuracy), 'status': STATUS_OK}"
      ]
    },
    {
      "cell_type": "code",
      "execution_count": null,
      "id": "0ffe021f",
      "metadata": {
        "id": "0ffe021f"
      },
      "outputs": [],
      "source": [
        "# 최적의 파라미터 찾기\n",
        "trial_val = Trials()\n",
        "best = fmin(fn=objective_func,\n",
        "            space=xgb_search_space,\n",
        "            algo=tpe.suggest,\n",
        "            max_evals=50,\n",
        "            trials=trial_val, rstate=np.random.default_rng(seed=9))\n",
        "print('best:', best)"
      ]
    },
    {
      "cell_type": "code",
      "execution_count": null,
      "id": "646926bf",
      "metadata": {
        "id": "646926bf"
      },
      "outputs": [],
      "source": [
        "# HyperOPT를 통해 얻어진 파라미터를 적용시킨 XGBClassifier 모델로 학습\n",
        "xgb_model = XGBClassifier(n_estimators=200, learning_rate=round(best['learning_rate'], 5), \n",
        "                            max_depth=int(best['max_depth']), min_child_weight=int(best['min_child_weight']),\n",
        "                            colsample_bytree=round(best['colsample_bytree'], 5)\n",
        "                           )\n",
        "xgb_model.fit(X_train, y_train)\n",
        "pred= xgb_model.predict(X_test)\n",
        "print('정확도 : ', accuracy_score(y_test, pred))\n",
        "print('혼돈행렬 : \\n', confusion_matrix(y_test, pred))"
      ]
    },
    {
      "cell_type": "code",
      "execution_count": null,
      "id": "97855dd6",
      "metadata": {
        "id": "97855dd6"
      },
      "outputs": [],
      "source": [
        "# 앞서 만든 평가 함수(사용자 지정 함수)를 위해 필요한 변수들\n",
        "train_pred = xgb_clf.predict(X_train)\n",
        "train_proba = xgb_clf.predict_proba(X_train)\n",
        "\n",
        "test_pred = xgb_clf.predict(X_test)\n",
        "test_proba = xgb_clf.predict_proba(X_test)"
      ]
    },
    {
      "cell_type": "markdown",
      "id": "6d389734",
      "metadata": {
        "id": "6d389734"
      },
      "source": [
        "## 결측값 채우기"
      ]
    },
    {
      "cell_type": "code",
      "execution_count": null,
      "id": "e77f8e03",
      "metadata": {
        "id": "e77f8e03"
      },
      "outputs": [],
      "source": [
        "file = pd.read_excel('C:/Users/admin/Desktop/sparta/train_test_filled_hp_cs_vp.xlsx')\n",
        "file.info()"
      ]
    },
    {
      "cell_type": "code",
      "execution_count": null,
      "id": "3a0fd74c",
      "metadata": {
        "id": "3a0fd74c"
      },
      "outputs": [],
      "source": [
        "filled_df = file[file['Destination'].isna()]\n",
        "filled_df.head() # Destination 값 넣을 df"
      ]
    },
    {
      "cell_type": "code",
      "execution_count": null,
      "id": "502c4b8e",
      "metadata": {
        "id": "502c4b8e"
      },
      "outputs": [],
      "source": [
        "filled_df['predict_dt']= xgb_model.predict(y_te)\n",
        "filled_df['predict_dt'].value_counts()"
      ]
    },
    {
      "cell_type": "code",
      "execution_count": null,
      "id": "010bdd1b",
      "metadata": {
        "id": "010bdd1b"
      },
      "outputs": [],
      "source": [
        "# 'TRAPPIST-1e':0, '55 Cancri e':1, 'PSO J318.5-22':2 로 변환시킨거 되돌리기\n",
        "filled_df['predict_dt'] = filled_df['predict_dt'].map({0:'TRAPPIST-1e', 1:'55 Cancri e', 2:'PSO J318.5-22' })\n",
        "filled_df['predict_dt'].value_counts() # 변경 확인"
      ]
    },
    {
      "cell_type": "code",
      "execution_count": null,
      "id": "43d712c3",
      "metadata": {
        "id": "43d712c3"
      },
      "outputs": [],
      "source": [
        "# 예측한 값 엑셀로 내보내기\n",
        "filled_df.to_excel('C:/Users/admin/Desktop/sparta/Destination_fillna.xlsx')"
      ]
    },
    {
      "cell_type": "markdown",
      "id": "dd25b540",
      "metadata": {
        "id": "dd25b540"
      },
      "source": [
        "# VIP 결측값 처리"
      ]
    },
    {
      "cell_type": "markdown",
      "id": "387a1879",
      "metadata": {
        "id": "387a1879"
      },
      "source": [
        "## 데이터 불러오기"
      ]
    },
    {
      "cell_type": "code",
      "execution_count": null,
      "id": "d6f6542f",
      "metadata": {
        "id": "d6f6542f",
        "outputId": "1e3e5161-a9cf-4dc9-a92a-b3e9346dfb99"
      },
      "outputs": [
        {
          "name": "stdout",
          "output_type": "stream",
          "text": [
            "<class 'pandas.core.frame.DataFrame'>\n",
            "Int64Index: 11076 entries, 0 to 12969\n",
            "Data columns (total 13 columns):\n",
            " #   Column        Non-Null Count  Dtype  \n",
            "---  ------        --------------  -----  \n",
            " 0   HomePlanet    11076 non-null  object \n",
            " 1   CryoSleep     11076 non-null  bool   \n",
            " 2   Cabin1        11076 non-null  object \n",
            " 3   Cabin2        11076 non-null  float64\n",
            " 4   Cabin3        11076 non-null  bool   \n",
            " 5   Destination   11076 non-null  object \n",
            " 6   Age           11076 non-null  float64\n",
            " 7   VIP           11076 non-null  bool   \n",
            " 8   RoomService   11076 non-null  float64\n",
            " 9   FoodCourt     11076 non-null  float64\n",
            " 10  ShoppingMall  11076 non-null  float64\n",
            " 11  Spa           11076 non-null  float64\n",
            " 12  VRDeck        11076 non-null  float64\n",
            "dtypes: bool(3), float64(7), object(3)\n",
            "memory usage: 1.2+ MB\n"
          ]
        }
      ],
      "source": [
        "vip_df = spaceship.iloc[:,:]\n",
        "vip_df.info() "
      ]
    },
    {
      "cell_type": "markdown",
      "id": "d7d7a9ba",
      "metadata": {
        "id": "d7d7a9ba"
      },
      "source": [
        "## 데이터 탐색"
      ]
    },
    {
      "cell_type": "code",
      "execution_count": null,
      "id": "ed6ed790",
      "metadata": {
        "id": "ed6ed790",
        "outputId": "c5459510-0d2b-4781-c752-7fd7d209ec38"
      },
      "outputs": [
        {
          "data": {
            "text/plain": [
              "False    10584\n",
              "True       492\n",
              "Name: VIP, dtype: int64"
            ]
          },
          "execution_count": 114,
          "metadata": {},
          "output_type": "execute_result"
        }
      ],
      "source": [
        "vip_df.VIP.value_counts() "
      ]
    },
    {
      "cell_type": "markdown",
      "id": "856d1b2a",
      "metadata": {
        "id": "856d1b2a"
      },
      "source": [
        "- 굉장히 심한 편향성을 띔"
      ]
    },
    {
      "cell_type": "markdown",
      "id": "fe287f8b",
      "metadata": {
        "id": "fe287f8b"
      },
      "source": [
        "## 전처리"
      ]
    },
    {
      "cell_type": "code",
      "execution_count": null,
      "id": "ceee49f3",
      "metadata": {
        "id": "ceee49f3",
        "outputId": "5320b3b2-4948-469f-8205-d7dad425c657"
      },
      "outputs": [
        {
          "data": {
            "text/plain": [
              "(11076, 13)"
            ]
          },
          "execution_count": 115,
          "metadata": {},
          "output_type": "execute_result"
        }
      ],
      "source": [
        "vip_df.dropna(axis=0,inplace=True)\n",
        "vip_df.shape"
      ]
    },
    {
      "cell_type": "code",
      "execution_count": null,
      "id": "9efc6ad7",
      "metadata": {
        "id": "9efc6ad7",
        "outputId": "4e5f4cc5-b9ff-426e-b341-731ea1c5acc8"
      },
      "outputs": [
        {
          "data": {
            "text/html": [
              "<div>\n",
              "<style scoped>\n",
              "    .dataframe tbody tr th:only-of-type {\n",
              "        vertical-align: middle;\n",
              "    }\n",
              "\n",
              "    .dataframe tbody tr th {\n",
              "        vertical-align: top;\n",
              "    }\n",
              "\n",
              "    .dataframe thead th {\n",
              "        text-align: right;\n",
              "    }\n",
              "</style>\n",
              "<table border=\"1\" class=\"dataframe\">\n",
              "  <thead>\n",
              "    <tr style=\"text-align: right;\">\n",
              "      <th></th>\n",
              "      <th>HomePlanet</th>\n",
              "      <th>CryoSleep</th>\n",
              "      <th>Cabin1</th>\n",
              "      <th>Cabin2</th>\n",
              "      <th>Cabin3</th>\n",
              "      <th>Destination</th>\n",
              "      <th>Age</th>\n",
              "      <th>VIP</th>\n",
              "      <th>RoomService</th>\n",
              "      <th>FoodCourt</th>\n",
              "      <th>ShoppingMall</th>\n",
              "      <th>Spa</th>\n",
              "      <th>VRDeck</th>\n",
              "    </tr>\n",
              "  </thead>\n",
              "  <tbody>\n",
              "    <tr>\n",
              "      <th>0</th>\n",
              "      <td>Europa</td>\n",
              "      <td>False</td>\n",
              "      <td>B</td>\n",
              "      <td>0.0</td>\n",
              "      <td>True</td>\n",
              "      <td>TRAPPIST-1e</td>\n",
              "      <td>39.0</td>\n",
              "      <td>False</td>\n",
              "      <td>0.0</td>\n",
              "      <td>0.0</td>\n",
              "      <td>0.0</td>\n",
              "      <td>0.0</td>\n",
              "      <td>0.0</td>\n",
              "    </tr>\n",
              "    <tr>\n",
              "      <th>1</th>\n",
              "      <td>Earth</td>\n",
              "      <td>False</td>\n",
              "      <td>F</td>\n",
              "      <td>0.0</td>\n",
              "      <td>False</td>\n",
              "      <td>TRAPPIST-1e</td>\n",
              "      <td>24.0</td>\n",
              "      <td>False</td>\n",
              "      <td>109.0</td>\n",
              "      <td>9.0</td>\n",
              "      <td>25.0</td>\n",
              "      <td>549.0</td>\n",
              "      <td>44.0</td>\n",
              "    </tr>\n",
              "    <tr>\n",
              "      <th>2</th>\n",
              "      <td>Europa</td>\n",
              "      <td>False</td>\n",
              "      <td>A</td>\n",
              "      <td>0.0</td>\n",
              "      <td>False</td>\n",
              "      <td>TRAPPIST-1e</td>\n",
              "      <td>58.0</td>\n",
              "      <td>True</td>\n",
              "      <td>43.0</td>\n",
              "      <td>3576.0</td>\n",
              "      <td>0.0</td>\n",
              "      <td>6715.0</td>\n",
              "      <td>49.0</td>\n",
              "    </tr>\n",
              "    <tr>\n",
              "      <th>3</th>\n",
              "      <td>Europa</td>\n",
              "      <td>False</td>\n",
              "      <td>A</td>\n",
              "      <td>0.0</td>\n",
              "      <td>False</td>\n",
              "      <td>TRAPPIST-1e</td>\n",
              "      <td>33.0</td>\n",
              "      <td>False</td>\n",
              "      <td>0.0</td>\n",
              "      <td>1283.0</td>\n",
              "      <td>371.0</td>\n",
              "      <td>3329.0</td>\n",
              "      <td>193.0</td>\n",
              "    </tr>\n",
              "    <tr>\n",
              "      <th>4</th>\n",
              "      <td>Earth</td>\n",
              "      <td>False</td>\n",
              "      <td>F</td>\n",
              "      <td>1.0</td>\n",
              "      <td>False</td>\n",
              "      <td>TRAPPIST-1e</td>\n",
              "      <td>16.0</td>\n",
              "      <td>False</td>\n",
              "      <td>303.0</td>\n",
              "      <td>70.0</td>\n",
              "      <td>151.0</td>\n",
              "      <td>565.0</td>\n",
              "      <td>2.0</td>\n",
              "    </tr>\n",
              "  </tbody>\n",
              "</table>\n",
              "</div>"
            ],
            "text/plain": [
              "  HomePlanet  CryoSleep Cabin1  Cabin2  Cabin3  Destination   Age    VIP  \\\n",
              "0     Europa      False      B     0.0    True  TRAPPIST-1e  39.0  False   \n",
              "1      Earth      False      F     0.0   False  TRAPPIST-1e  24.0  False   \n",
              "2     Europa      False      A     0.0   False  TRAPPIST-1e  58.0   True   \n",
              "3     Europa      False      A     0.0   False  TRAPPIST-1e  33.0  False   \n",
              "4      Earth      False      F     1.0   False  TRAPPIST-1e  16.0  False   \n",
              "\n",
              "   RoomService  FoodCourt  ShoppingMall     Spa  VRDeck  \n",
              "0          0.0        0.0           0.0     0.0     0.0  \n",
              "1        109.0        9.0          25.0   549.0    44.0  \n",
              "2         43.0     3576.0           0.0  6715.0    49.0  \n",
              "3          0.0     1283.0         371.0  3329.0   193.0  \n",
              "4        303.0       70.0         151.0   565.0     2.0  "
            ]
          },
          "execution_count": 117,
          "metadata": {},
          "output_type": "execute_result"
        }
      ],
      "source": [
        "vip_df.head()"
      ]
    },
    {
      "cell_type": "code",
      "execution_count": null,
      "id": "c91e3a04",
      "metadata": {
        "id": "c91e3a04",
        "outputId": "31384065-7818-4c64-f3c5-d6a8d6845797"
      },
      "outputs": [
        {
          "name": "stdout",
          "output_type": "stream",
          "text": [
            "<class 'pandas.core.frame.DataFrame'>\n",
            "Int64Index: 11076 entries, 0 to 12969\n",
            "Data columns (total 13 columns):\n",
            " #   Column        Non-Null Count  Dtype  \n",
            "---  ------        --------------  -----  \n",
            " 0   HomePlanet    11076 non-null  object \n",
            " 1   CryoSleep     11076 non-null  bool   \n",
            " 2   Cabin1        11076 non-null  object \n",
            " 3   Cabin2        11076 non-null  float64\n",
            " 4   Cabin3        11076 non-null  bool   \n",
            " 5   Destination   11076 non-null  object \n",
            " 6   Age           11076 non-null  float64\n",
            " 7   VIP           11076 non-null  bool   \n",
            " 8   RoomService   11076 non-null  float64\n",
            " 9   FoodCourt     11076 non-null  float64\n",
            " 10  ShoppingMall  11076 non-null  float64\n",
            " 11  Spa           11076 non-null  float64\n",
            " 12  VRDeck        11076 non-null  float64\n",
            "dtypes: bool(3), float64(7), object(3)\n",
            "memory usage: 1.2+ MB\n"
          ]
        }
      ],
      "source": [
        "vip_df.info()"
      ]
    },
    {
      "cell_type": "code",
      "execution_count": null,
      "id": "25f233c6",
      "metadata": {
        "id": "25f233c6",
        "outputId": "c48b86ef-8504-4ffa-b255-de7efc614593"
      },
      "outputs": [
        {
          "name": "stdout",
          "output_type": "stream",
          "text": [
            "<class 'pandas.core.frame.DataFrame'>\n",
            "Int64Index: 11076 entries, 0 to 12969\n",
            "Data columns (total 24 columns):\n",
            " #   Column         Non-Null Count  Dtype  \n",
            "---  ------         --------------  -----  \n",
            " 0   CryoSleep      11076 non-null  bool   \n",
            " 1   Cabin2         11076 non-null  float64\n",
            " 2   Cabin3         11076 non-null  bool   \n",
            " 3   Age            11076 non-null  float64\n",
            " 4   VIP            11076 non-null  bool   \n",
            " 5   RoomService    11076 non-null  float64\n",
            " 6   FoodCourt      11076 non-null  float64\n",
            " 7   ShoppingMall   11076 non-null  float64\n",
            " 8   Spa            11076 non-null  float64\n",
            " 9   VRDeck         11076 non-null  float64\n",
            " 10  Earth          11076 non-null  uint8  \n",
            " 11  Europa         11076 non-null  uint8  \n",
            " 12  Mars           11076 non-null  uint8  \n",
            " 13  A              11076 non-null  uint8  \n",
            " 14  B              11076 non-null  uint8  \n",
            " 15  C              11076 non-null  uint8  \n",
            " 16  D              11076 non-null  uint8  \n",
            " 17  E              11076 non-null  uint8  \n",
            " 18  F              11076 non-null  uint8  \n",
            " 19  G              11076 non-null  uint8  \n",
            " 20  T              11076 non-null  uint8  \n",
            " 21  55 Cancri e    11076 non-null  uint8  \n",
            " 22  PSO J318.5-22  11076 non-null  uint8  \n",
            " 23  TRAPPIST-1e    11076 non-null  uint8  \n",
            "dtypes: bool(3), float64(7), uint8(14)\n",
            "memory usage: 1.1 MB\n"
          ]
        }
      ],
      "source": [
        "# 원-핫 인코딩 (cabin1, destination)\n",
        "\n",
        "## HomePlanet\n",
        "encoding = pd.get_dummies(vip_df.HomePlanet)\n",
        "vip_df = vip_df.drop('HomePlanet', axis =1) # 기존 삭제\n",
        "vip_df = vip_df.join(encoding) # 적용\n",
        "## Cabin1\n",
        "encoding = pd.get_dummies(vip_df.Cabin1)\n",
        "vip_df = vip_df.drop('Cabin1', axis =1) # 기존 삭제\n",
        "vip_df = vip_df.join(encoding) # 적용\n",
        "\n",
        "## Cabin1\n",
        "encoding = pd.get_dummies(vip_df.Destination)\n",
        "vip_df = vip_df.drop('Destination', axis =1) # 기존 삭제\n",
        "vip_df = vip_df.join(encoding) # 적용\n",
        "\n",
        "vip_df.info()"
      ]
    },
    {
      "cell_type": "code",
      "execution_count": null,
      "id": "59b7ed7a",
      "metadata": {
        "id": "59b7ed7a",
        "outputId": "72e33e01-6587-40b1-93db-ae0bd974035e"
      },
      "outputs": [
        {
          "data": {
            "text/html": [
              "<div>\n",
              "<style scoped>\n",
              "    .dataframe tbody tr th:only-of-type {\n",
              "        vertical-align: middle;\n",
              "    }\n",
              "\n",
              "    .dataframe tbody tr th {\n",
              "        vertical-align: top;\n",
              "    }\n",
              "\n",
              "    .dataframe thead th {\n",
              "        text-align: right;\n",
              "    }\n",
              "</style>\n",
              "<table border=\"1\" class=\"dataframe\">\n",
              "  <thead>\n",
              "    <tr style=\"text-align: right;\">\n",
              "      <th></th>\n",
              "      <th>CryoSleep</th>\n",
              "      <th>Cabin2</th>\n",
              "      <th>Cabin3</th>\n",
              "      <th>Age</th>\n",
              "      <th>VIP</th>\n",
              "      <th>RoomService</th>\n",
              "      <th>FoodCourt</th>\n",
              "      <th>ShoppingMall</th>\n",
              "      <th>Spa</th>\n",
              "      <th>VRDeck</th>\n",
              "      <th>...</th>\n",
              "      <th>B</th>\n",
              "      <th>C</th>\n",
              "      <th>D</th>\n",
              "      <th>E</th>\n",
              "      <th>F</th>\n",
              "      <th>G</th>\n",
              "      <th>T</th>\n",
              "      <th>55 Cancri e</th>\n",
              "      <th>PSO J318.5-22</th>\n",
              "      <th>TRAPPIST-1e</th>\n",
              "    </tr>\n",
              "  </thead>\n",
              "  <tbody>\n",
              "    <tr>\n",
              "      <th>0</th>\n",
              "      <td>False</td>\n",
              "      <td>-1.171058</td>\n",
              "      <td>True</td>\n",
              "      <td>0.707877</td>\n",
              "      <td>False</td>\n",
              "      <td>-0.334616</td>\n",
              "      <td>-0.282674</td>\n",
              "      <td>-0.285975</td>\n",
              "      <td>-0.271173</td>\n",
              "      <td>-0.260034</td>\n",
              "      <td>...</td>\n",
              "      <td>1</td>\n",
              "      <td>0</td>\n",
              "      <td>0</td>\n",
              "      <td>0</td>\n",
              "      <td>0</td>\n",
              "      <td>0</td>\n",
              "      <td>0</td>\n",
              "      <td>0</td>\n",
              "      <td>0</td>\n",
              "      <td>1</td>\n",
              "    </tr>\n",
              "    <tr>\n",
              "      <th>1</th>\n",
              "      <td>False</td>\n",
              "      <td>-1.171058</td>\n",
              "      <td>False</td>\n",
              "      <td>-0.329018</td>\n",
              "      <td>False</td>\n",
              "      <td>-0.166861</td>\n",
              "      <td>-0.277057</td>\n",
              "      <td>-0.244125</td>\n",
              "      <td>0.217775</td>\n",
              "      <td>-0.220858</td>\n",
              "      <td>...</td>\n",
              "      <td>0</td>\n",
              "      <td>0</td>\n",
              "      <td>0</td>\n",
              "      <td>0</td>\n",
              "      <td>1</td>\n",
              "      <td>0</td>\n",
              "      <td>0</td>\n",
              "      <td>0</td>\n",
              "      <td>0</td>\n",
              "      <td>1</td>\n",
              "    </tr>\n",
              "    <tr>\n",
              "      <th>2</th>\n",
              "      <td>False</td>\n",
              "      <td>-1.171058</td>\n",
              "      <td>False</td>\n",
              "      <td>2.021278</td>\n",
              "      <td>True</td>\n",
              "      <td>-0.268437</td>\n",
              "      <td>1.949128</td>\n",
              "      <td>-0.285975</td>\n",
              "      <td>5.709312</td>\n",
              "      <td>-0.216406</td>\n",
              "      <td>...</td>\n",
              "      <td>0</td>\n",
              "      <td>0</td>\n",
              "      <td>0</td>\n",
              "      <td>0</td>\n",
              "      <td>0</td>\n",
              "      <td>0</td>\n",
              "      <td>0</td>\n",
              "      <td>0</td>\n",
              "      <td>0</td>\n",
              "      <td>1</td>\n",
              "    </tr>\n",
              "    <tr>\n",
              "      <th>3</th>\n",
              "      <td>False</td>\n",
              "      <td>-1.171058</td>\n",
              "      <td>False</td>\n",
              "      <td>0.293119</td>\n",
              "      <td>False</td>\n",
              "      <td>-0.334616</td>\n",
              "      <td>0.518053</td>\n",
              "      <td>0.335083</td>\n",
              "      <td>2.693687</td>\n",
              "      <td>-0.088194</td>\n",
              "      <td>...</td>\n",
              "      <td>0</td>\n",
              "      <td>0</td>\n",
              "      <td>0</td>\n",
              "      <td>0</td>\n",
              "      <td>0</td>\n",
              "      <td>0</td>\n",
              "      <td>0</td>\n",
              "      <td>0</td>\n",
              "      <td>0</td>\n",
              "      <td>1</td>\n",
              "    </tr>\n",
              "    <tr>\n",
              "      <th>4</th>\n",
              "      <td>False</td>\n",
              "      <td>-1.169112</td>\n",
              "      <td>False</td>\n",
              "      <td>-0.882029</td>\n",
              "      <td>False</td>\n",
              "      <td>0.131712</td>\n",
              "      <td>-0.238987</td>\n",
              "      <td>-0.033199</td>\n",
              "      <td>0.232025</td>\n",
              "      <td>-0.258253</td>\n",
              "      <td>...</td>\n",
              "      <td>0</td>\n",
              "      <td>0</td>\n",
              "      <td>0</td>\n",
              "      <td>0</td>\n",
              "      <td>1</td>\n",
              "      <td>0</td>\n",
              "      <td>0</td>\n",
              "      <td>0</td>\n",
              "      <td>0</td>\n",
              "      <td>1</td>\n",
              "    </tr>\n",
              "    <tr>\n",
              "      <th>...</th>\n",
              "      <td>...</td>\n",
              "      <td>...</td>\n",
              "      <td>...</td>\n",
              "      <td>...</td>\n",
              "      <td>...</td>\n",
              "      <td>...</td>\n",
              "      <td>...</td>\n",
              "      <td>...</td>\n",
              "      <td>...</td>\n",
              "      <td>...</td>\n",
              "      <td>...</td>\n",
              "      <td>...</td>\n",
              "      <td>...</td>\n",
              "      <td>...</td>\n",
              "      <td>...</td>\n",
              "      <td>...</td>\n",
              "      <td>...</td>\n",
              "      <td>...</td>\n",
              "      <td>...</td>\n",
              "      <td>...</td>\n",
              "      <td>...</td>\n",
              "    </tr>\n",
              "    <tr>\n",
              "      <th>12962</th>\n",
              "      <td>True</td>\n",
              "      <td>1.737845</td>\n",
              "      <td>False</td>\n",
              "      <td>0.984383</td>\n",
              "      <td>False</td>\n",
              "      <td>-0.334616</td>\n",
              "      <td>-0.282674</td>\n",
              "      <td>-0.285975</td>\n",
              "      <td>-0.271173</td>\n",
              "      <td>-0.260034</td>\n",
              "      <td>...</td>\n",
              "      <td>0</td>\n",
              "      <td>0</td>\n",
              "      <td>0</td>\n",
              "      <td>0</td>\n",
              "      <td>0</td>\n",
              "      <td>1</td>\n",
              "      <td>0</td>\n",
              "      <td>0</td>\n",
              "      <td>0</td>\n",
              "      <td>1</td>\n",
              "    </tr>\n",
              "    <tr>\n",
              "      <th>12963</th>\n",
              "      <td>False</td>\n",
              "      <td>-0.630138</td>\n",
              "      <td>False</td>\n",
              "      <td>0.984383</td>\n",
              "      <td>False</td>\n",
              "      <td>-0.262281</td>\n",
              "      <td>-0.282674</td>\n",
              "      <td>6.160647</td>\n",
              "      <td>-0.271173</td>\n",
              "      <td>-0.260034</td>\n",
              "      <td>...</td>\n",
              "      <td>0</td>\n",
              "      <td>0</td>\n",
              "      <td>1</td>\n",
              "      <td>0</td>\n",
              "      <td>0</td>\n",
              "      <td>0</td>\n",
              "      <td>0</td>\n",
              "      <td>0</td>\n",
              "      <td>0</td>\n",
              "      <td>1</td>\n",
              "    </tr>\n",
              "    <tr>\n",
              "      <th>12964</th>\n",
              "      <td>False</td>\n",
              "      <td>2.323517</td>\n",
              "      <td>False</td>\n",
              "      <td>0.777004</td>\n",
              "      <td>False</td>\n",
              "      <td>-0.334616</td>\n",
              "      <td>0.257177</td>\n",
              "      <td>-0.285975</td>\n",
              "      <td>-0.268502</td>\n",
              "      <td>-0.260034</td>\n",
              "      <td>...</td>\n",
              "      <td>0</td>\n",
              "      <td>0</td>\n",
              "      <td>0</td>\n",
              "      <td>0</td>\n",
              "      <td>1</td>\n",
              "      <td>0</td>\n",
              "      <td>0</td>\n",
              "      <td>0</td>\n",
              "      <td>0</td>\n",
              "      <td>1</td>\n",
              "    </tr>\n",
              "    <tr>\n",
              "      <th>12965</th>\n",
              "      <td>True</td>\n",
              "      <td>1.739790</td>\n",
              "      <td>False</td>\n",
              "      <td>0.362246</td>\n",
              "      <td>False</td>\n",
              "      <td>-0.334616</td>\n",
              "      <td>-0.282674</td>\n",
              "      <td>-0.285975</td>\n",
              "      <td>-0.271173</td>\n",
              "      <td>-0.260034</td>\n",
              "      <td>...</td>\n",
              "      <td>0</td>\n",
              "      <td>0</td>\n",
              "      <td>0</td>\n",
              "      <td>0</td>\n",
              "      <td>0</td>\n",
              "      <td>1</td>\n",
              "      <td>0</td>\n",
              "      <td>0</td>\n",
              "      <td>0</td>\n",
              "      <td>1</td>\n",
              "    </tr>\n",
              "    <tr>\n",
              "      <th>12969</th>\n",
              "      <td>True</td>\n",
              "      <td>1.743682</td>\n",
              "      <td>False</td>\n",
              "      <td>0.984383</td>\n",
              "      <td>False</td>\n",
              "      <td>-0.334616</td>\n",
              "      <td>-0.282674</td>\n",
              "      <td>-0.285975</td>\n",
              "      <td>-0.271173</td>\n",
              "      <td>-0.260034</td>\n",
              "      <td>...</td>\n",
              "      <td>0</td>\n",
              "      <td>0</td>\n",
              "      <td>0</td>\n",
              "      <td>0</td>\n",
              "      <td>0</td>\n",
              "      <td>1</td>\n",
              "      <td>0</td>\n",
              "      <td>0</td>\n",
              "      <td>1</td>\n",
              "      <td>0</td>\n",
              "    </tr>\n",
              "  </tbody>\n",
              "</table>\n",
              "<p>11076 rows × 24 columns</p>\n",
              "</div>"
            ],
            "text/plain": [
              "       CryoSleep    Cabin2  Cabin3       Age    VIP  RoomService  FoodCourt  \\\n",
              "0          False -1.171058    True  0.707877  False    -0.334616  -0.282674   \n",
              "1          False -1.171058   False -0.329018  False    -0.166861  -0.277057   \n",
              "2          False -1.171058   False  2.021278   True    -0.268437   1.949128   \n",
              "3          False -1.171058   False  0.293119  False    -0.334616   0.518053   \n",
              "4          False -1.169112   False -0.882029  False     0.131712  -0.238987   \n",
              "...          ...       ...     ...       ...    ...          ...        ...   \n",
              "12962       True  1.737845   False  0.984383  False    -0.334616  -0.282674   \n",
              "12963      False -0.630138   False  0.984383  False    -0.262281  -0.282674   \n",
              "12964      False  2.323517   False  0.777004  False    -0.334616   0.257177   \n",
              "12965       True  1.739790   False  0.362246  False    -0.334616  -0.282674   \n",
              "12969       True  1.743682   False  0.984383  False    -0.334616  -0.282674   \n",
              "\n",
              "       ShoppingMall       Spa    VRDeck  ...  B  C  D  E  F  G  T  \\\n",
              "0         -0.285975 -0.271173 -0.260034  ...  1  0  0  0  0  0  0   \n",
              "1         -0.244125  0.217775 -0.220858  ...  0  0  0  0  1  0  0   \n",
              "2         -0.285975  5.709312 -0.216406  ...  0  0  0  0  0  0  0   \n",
              "3          0.335083  2.693687 -0.088194  ...  0  0  0  0  0  0  0   \n",
              "4         -0.033199  0.232025 -0.258253  ...  0  0  0  0  1  0  0   \n",
              "...             ...       ...       ...  ... .. .. .. .. .. .. ..   \n",
              "12962     -0.285975 -0.271173 -0.260034  ...  0  0  0  0  0  1  0   \n",
              "12963      6.160647 -0.271173 -0.260034  ...  0  0  1  0  0  0  0   \n",
              "12964     -0.285975 -0.268502 -0.260034  ...  0  0  0  0  1  0  0   \n",
              "12965     -0.285975 -0.271173 -0.260034  ...  0  0  0  0  0  1  0   \n",
              "12969     -0.285975 -0.271173 -0.260034  ...  0  0  0  0  0  1  0   \n",
              "\n",
              "       55 Cancri e  PSO J318.5-22  TRAPPIST-1e  \n",
              "0                0              0            1  \n",
              "1                0              0            1  \n",
              "2                0              0            1  \n",
              "3                0              0            1  \n",
              "4                0              0            1  \n",
              "...            ...            ...          ...  \n",
              "12962            0              0            1  \n",
              "12963            0              0            1  \n",
              "12964            0              0            1  \n",
              "12965            0              0            1  \n",
              "12969            0              1            0  \n",
              "\n",
              "[11076 rows x 24 columns]"
            ]
          },
          "execution_count": 120,
          "metadata": {},
          "output_type": "execute_result"
        }
      ],
      "source": [
        "# 스케일링을 위한 함수 생성\n",
        "col = ['Cabin2', 'Age', 'RoomService','FoodCourt','ShoppingMall','Spa','VRDeck']\n",
        "data_scaled(vip_df, col)"
      ]
    },
    {
      "cell_type": "markdown",
      "id": "c4575454",
      "metadata": {
        "id": "c4575454"
      },
      "source": [
        "## 데이터와 타겟값 분리"
      ]
    },
    {
      "cell_type": "code",
      "execution_count": null,
      "id": "94dbf24c",
      "metadata": {
        "id": "94dbf24c"
      },
      "outputs": [],
      "source": [
        "vip_data = vip_df.drop(['VIP'],axis=1)\n",
        "vip_label = vip_df['VIP'].replace({True:1,False:0})"
      ]
    },
    {
      "cell_type": "code",
      "execution_count": null,
      "id": "ed9c9277",
      "metadata": {
        "id": "ed9c9277",
        "outputId": "bfca321d-9108-4dd8-e5f5-e891a818ccc6"
      },
      "outputs": [
        {
          "data": {
            "text/html": [
              "<div>\n",
              "<style scoped>\n",
              "    .dataframe tbody tr th:only-of-type {\n",
              "        vertical-align: middle;\n",
              "    }\n",
              "\n",
              "    .dataframe tbody tr th {\n",
              "        vertical-align: top;\n",
              "    }\n",
              "\n",
              "    .dataframe thead th {\n",
              "        text-align: right;\n",
              "    }\n",
              "</style>\n",
              "<table border=\"1\" class=\"dataframe\">\n",
              "  <thead>\n",
              "    <tr style=\"text-align: right;\">\n",
              "      <th></th>\n",
              "      <th>CryoSleep</th>\n",
              "      <th>Cabin2</th>\n",
              "      <th>Cabin3</th>\n",
              "      <th>Age</th>\n",
              "      <th>RoomService</th>\n",
              "      <th>FoodCourt</th>\n",
              "      <th>ShoppingMall</th>\n",
              "      <th>Spa</th>\n",
              "      <th>VRDeck</th>\n",
              "      <th>Earth</th>\n",
              "      <th>...</th>\n",
              "      <th>B</th>\n",
              "      <th>C</th>\n",
              "      <th>D</th>\n",
              "      <th>E</th>\n",
              "      <th>F</th>\n",
              "      <th>G</th>\n",
              "      <th>T</th>\n",
              "      <th>55 Cancri e</th>\n",
              "      <th>PSO J318.5-22</th>\n",
              "      <th>TRAPPIST-1e</th>\n",
              "    </tr>\n",
              "  </thead>\n",
              "  <tbody>\n",
              "    <tr>\n",
              "      <th>0</th>\n",
              "      <td>False</td>\n",
              "      <td>-1.171058</td>\n",
              "      <td>True</td>\n",
              "      <td>0.707877</td>\n",
              "      <td>-0.334616</td>\n",
              "      <td>-0.282674</td>\n",
              "      <td>-0.285975</td>\n",
              "      <td>-0.271173</td>\n",
              "      <td>-0.260034</td>\n",
              "      <td>0</td>\n",
              "      <td>...</td>\n",
              "      <td>1</td>\n",
              "      <td>0</td>\n",
              "      <td>0</td>\n",
              "      <td>0</td>\n",
              "      <td>0</td>\n",
              "      <td>0</td>\n",
              "      <td>0</td>\n",
              "      <td>0</td>\n",
              "      <td>0</td>\n",
              "      <td>1</td>\n",
              "    </tr>\n",
              "    <tr>\n",
              "      <th>1</th>\n",
              "      <td>False</td>\n",
              "      <td>-1.171058</td>\n",
              "      <td>False</td>\n",
              "      <td>-0.329018</td>\n",
              "      <td>-0.166861</td>\n",
              "      <td>-0.277057</td>\n",
              "      <td>-0.244125</td>\n",
              "      <td>0.217775</td>\n",
              "      <td>-0.220858</td>\n",
              "      <td>1</td>\n",
              "      <td>...</td>\n",
              "      <td>0</td>\n",
              "      <td>0</td>\n",
              "      <td>0</td>\n",
              "      <td>0</td>\n",
              "      <td>1</td>\n",
              "      <td>0</td>\n",
              "      <td>0</td>\n",
              "      <td>0</td>\n",
              "      <td>0</td>\n",
              "      <td>1</td>\n",
              "    </tr>\n",
              "    <tr>\n",
              "      <th>2</th>\n",
              "      <td>False</td>\n",
              "      <td>-1.171058</td>\n",
              "      <td>False</td>\n",
              "      <td>2.021278</td>\n",
              "      <td>-0.268437</td>\n",
              "      <td>1.949128</td>\n",
              "      <td>-0.285975</td>\n",
              "      <td>5.709312</td>\n",
              "      <td>-0.216406</td>\n",
              "      <td>0</td>\n",
              "      <td>...</td>\n",
              "      <td>0</td>\n",
              "      <td>0</td>\n",
              "      <td>0</td>\n",
              "      <td>0</td>\n",
              "      <td>0</td>\n",
              "      <td>0</td>\n",
              "      <td>0</td>\n",
              "      <td>0</td>\n",
              "      <td>0</td>\n",
              "      <td>1</td>\n",
              "    </tr>\n",
              "    <tr>\n",
              "      <th>3</th>\n",
              "      <td>False</td>\n",
              "      <td>-1.171058</td>\n",
              "      <td>False</td>\n",
              "      <td>0.293119</td>\n",
              "      <td>-0.334616</td>\n",
              "      <td>0.518053</td>\n",
              "      <td>0.335083</td>\n",
              "      <td>2.693687</td>\n",
              "      <td>-0.088194</td>\n",
              "      <td>0</td>\n",
              "      <td>...</td>\n",
              "      <td>0</td>\n",
              "      <td>0</td>\n",
              "      <td>0</td>\n",
              "      <td>0</td>\n",
              "      <td>0</td>\n",
              "      <td>0</td>\n",
              "      <td>0</td>\n",
              "      <td>0</td>\n",
              "      <td>0</td>\n",
              "      <td>1</td>\n",
              "    </tr>\n",
              "    <tr>\n",
              "      <th>4</th>\n",
              "      <td>False</td>\n",
              "      <td>-1.169112</td>\n",
              "      <td>False</td>\n",
              "      <td>-0.882029</td>\n",
              "      <td>0.131712</td>\n",
              "      <td>-0.238987</td>\n",
              "      <td>-0.033199</td>\n",
              "      <td>0.232025</td>\n",
              "      <td>-0.258253</td>\n",
              "      <td>1</td>\n",
              "      <td>...</td>\n",
              "      <td>0</td>\n",
              "      <td>0</td>\n",
              "      <td>0</td>\n",
              "      <td>0</td>\n",
              "      <td>1</td>\n",
              "      <td>0</td>\n",
              "      <td>0</td>\n",
              "      <td>0</td>\n",
              "      <td>0</td>\n",
              "      <td>1</td>\n",
              "    </tr>\n",
              "  </tbody>\n",
              "</table>\n",
              "<p>5 rows × 23 columns</p>\n",
              "</div>"
            ],
            "text/plain": [
              "   CryoSleep    Cabin2  Cabin3       Age  RoomService  FoodCourt  \\\n",
              "0      False -1.171058    True  0.707877    -0.334616  -0.282674   \n",
              "1      False -1.171058   False -0.329018    -0.166861  -0.277057   \n",
              "2      False -1.171058   False  2.021278    -0.268437   1.949128   \n",
              "3      False -1.171058   False  0.293119    -0.334616   0.518053   \n",
              "4      False -1.169112   False -0.882029     0.131712  -0.238987   \n",
              "\n",
              "   ShoppingMall       Spa    VRDeck  Earth  ...  B  C  D  E  F  G  T  \\\n",
              "0     -0.285975 -0.271173 -0.260034      0  ...  1  0  0  0  0  0  0   \n",
              "1     -0.244125  0.217775 -0.220858      1  ...  0  0  0  0  1  0  0   \n",
              "2     -0.285975  5.709312 -0.216406      0  ...  0  0  0  0  0  0  0   \n",
              "3      0.335083  2.693687 -0.088194      0  ...  0  0  0  0  0  0  0   \n",
              "4     -0.033199  0.232025 -0.258253      1  ...  0  0  0  0  1  0  0   \n",
              "\n",
              "   55 Cancri e  PSO J318.5-22  TRAPPIST-1e  \n",
              "0            0              0            1  \n",
              "1            0              0            1  \n",
              "2            0              0            1  \n",
              "3            0              0            1  \n",
              "4            0              0            1  \n",
              "\n",
              "[5 rows x 23 columns]"
            ]
          },
          "execution_count": 123,
          "metadata": {},
          "output_type": "execute_result"
        }
      ],
      "source": [
        "vip_data.head()"
      ]
    },
    {
      "cell_type": "code",
      "execution_count": null,
      "id": "a7247724",
      "metadata": {
        "id": "a7247724",
        "outputId": "5c96a2b3-9d21-4331-8edf-53d53dd10605"
      },
      "outputs": [
        {
          "data": {
            "text/plain": [
              "0    0\n",
              "1    0\n",
              "2    1\n",
              "3    0\n",
              "4    0\n",
              "Name: VIP, dtype: int64"
            ]
          },
          "execution_count": 124,
          "metadata": {},
          "output_type": "execute_result"
        }
      ],
      "source": [
        "vip_label.head()"
      ]
    },
    {
      "cell_type": "markdown",
      "id": "20a0720e",
      "metadata": {
        "id": "20a0720e"
      },
      "source": [
        "## 오버샘플링"
      ]
    },
    {
      "cell_type": "code",
      "execution_count": null,
      "id": "4669c111",
      "metadata": {
        "id": "4669c111"
      },
      "outputs": [],
      "source": [
        "X_samp, y_samp = RandomOverSampler(random_state=109).fit_resample(vip_data, vip_label)"
      ]
    },
    {
      "cell_type": "code",
      "execution_count": null,
      "id": "e88913db",
      "metadata": {
        "id": "e88913db",
        "outputId": "74b12c85-fcf6-49ca-833f-62a5365897c7"
      },
      "outputs": [
        {
          "name": "stdout",
          "output_type": "stream",
          "text": [
            "(21168, 23)\n",
            "(21168,)\n"
          ]
        }
      ],
      "source": [
        "print(X_samp.shape)\n",
        "print(y_samp.shape)"
      ]
    },
    {
      "cell_type": "markdown",
      "id": "186652bd",
      "metadata": {
        "id": "186652bd"
      },
      "source": [
        "## train, test 데이터세트 분리"
      ]
    },
    {
      "cell_type": "code",
      "execution_count": null,
      "id": "21825509",
      "metadata": {
        "id": "21825509"
      },
      "outputs": [],
      "source": [
        "X_train,X_test,y_train,y_test = train_test_split(X_samp, y_samp, random_state=109)"
      ]
    },
    {
      "cell_type": "markdown",
      "id": "c30c5eec",
      "metadata": {
        "id": "c30c5eec"
      },
      "source": [
        "## 모델링_XGBClassifier"
      ]
    },
    {
      "cell_type": "code",
      "execution_count": null,
      "id": "c97f1d19",
      "metadata": {
        "id": "c97f1d19"
      },
      "outputs": [],
      "source": [
        "# hyperopt 적용을 위한 설정 값 담기\n",
        "xgb_search_space = {'max_depth': hp.quniform('max_depth', 5, 20, 1),\n",
        "                    'min_child_weight': hp.quniform('min_child_weight', 1, 2, 1),\n",
        "                    'learning_rate': hp.uniform('learning_rate', 0.01, 0.2),\n",
        "                    'colsample_bytree': hp.uniform('colsample_bytree', 0.5, 1)\n",
        "               }"
      ]
    },
    {
      "cell_type": "code",
      "execution_count": null,
      "id": "fdc74d2b",
      "metadata": {
        "id": "fdc74d2b"
      },
      "outputs": [],
      "source": [
        "# 실행을 위한 함수 정의\n",
        "from xgboost import XGBClassifier\n",
        "def objective_func(search_space):\n",
        "    xgb_clf = XGBClassifier(n_estimators=100, max_depth=int(search_space['max_depth']),\n",
        "                            min_child_weight=int(search_space['min_child_weight']),\n",
        "                            learning_rate=search_space['learning_rate'],\n",
        "                            colsample_bytree=search_space['colsample_bytree'], \n",
        "                            eval_metric='logloss')\n",
        "    accuracy = cross_val_score(xgb_clf, X_train, y_train, scoring='accuracy', cv=3)\n",
        "    return {'loss':-1 * np.mean(accuracy), 'status': STATUS_OK}"
      ]
    },
    {
      "cell_type": "code",
      "execution_count": null,
      "id": "0ee4e264",
      "metadata": {
        "id": "0ee4e264",
        "outputId": "894d81f2-a9d6-4a0e-8863-7705aa3138c7"
      },
      "outputs": [
        {
          "name": "stdout",
          "output_type": "stream",
          "text": [
            "100%|███████████████████████████████████████████████| 50/50 [02:09<00:00,  2.58s/trial, best loss: -0.9848828420256992]\n",
            "best: {'colsample_bytree': 0.6505615548391389, 'learning_rate': 0.12186920094079653, 'max_depth': 19.0, 'min_child_weight': 1.0}\n"
          ]
        }
      ],
      "source": [
        "# 최적의 파라미터 찾기\n",
        "from sklearn.model_selection import cross_val_score\n",
        "trial_val = Trials()\n",
        "best = fmin(fn=objective_func,\n",
        "            space=xgb_search_space,\n",
        "            algo=tpe.suggest,\n",
        "            max_evals=50,\n",
        "            trials=trial_val, rstate=np.random.default_rng(seed=9))\n",
        "print('best:', best)"
      ]
    },
    {
      "cell_type": "code",
      "execution_count": null,
      "id": "2f06730c",
      "metadata": {
        "id": "2f06730c",
        "outputId": "a41b6f95-c6ff-450a-ddb4-3ff9af014980"
      },
      "outputs": [
        {
          "name": "stdout",
          "output_type": "stream",
          "text": [
            "정확도 :  0.9958427815570673\n",
            "혼돈행렬 : \n",
            " [[2624   22]\n",
            " [   0 2646]]\n"
          ]
        }
      ],
      "source": [
        "# hyperopt를 통해 얻은 최적의 파라미터를 이용한 XGBClassifier\n",
        "xgb_model = XGBClassifier(n_estimators=200, learning_rate=round(best['learning_rate'], 5), \n",
        "                            max_depth=int(best['max_depth']), min_child_weight=int(best['min_child_weight']),\n",
        "                            colsample_bytree=round(best['colsample_bytree'], 5)\n",
        "                           )\n",
        "xgb_model.fit(X_train, y_train)\n",
        "pred= xgb_model.predict(X_test)\n",
        "\n",
        "# 테스트 데이터 평가\n",
        "print('정확도 : ', accuracy_score(y_test, pred))\n",
        "print('혼돈행렬 : \\n', confusion_matrix(y_test, pred))"
      ]
    },
    {
      "cell_type": "code",
      "execution_count": null,
      "id": "ef35b54a",
      "metadata": {
        "id": "ef35b54a",
        "outputId": "1d78cf59-83a1-40d8-f88c-8d836ad02590"
      },
      "outputs": [
        {
          "name": "stdout",
          "output_type": "stream",
          "text": [
            "정확도 :  0.9998110355253212\n",
            "혼돈행렬 : \n",
            " [[7935    3]\n",
            " [   0 7938]]\n"
          ]
        }
      ],
      "source": [
        "# 트레인 데이터 평가\n",
        "pred= xgb_model.predict(X_train)\n",
        "print('정확도 : ', accuracy_score(y_train, pred))\n",
        "print('혼돈행렬 : \\n', confusion_matrix(y_train, pred))"
      ]
    },
    {
      "cell_type": "markdown",
      "id": "5500b5a9",
      "metadata": {
        "id": "5500b5a9"
      },
      "source": [
        "## 결측값 채우기"
      ]
    },
    {
      "cell_type": "code",
      "execution_count": null,
      "id": "7979ae39",
      "metadata": {
        "id": "7979ae39"
      },
      "outputs": [],
      "source": [
        "# VIP의 결측값만 비어있는 파일 불러오기\n",
        "vip_nan_df = pd.read_excel('C:\\\\k_digital\\\\source\\\\sparta_data\\\\na_vip.xlsx')"
      ]
    },
    {
      "cell_type": "code",
      "execution_count": null,
      "id": "40187abb",
      "metadata": {
        "id": "40187abb",
        "outputId": "39f0c49e-0488-4e9e-f7e7-b42708ceff3f"
      },
      "outputs": [
        {
          "name": "stdout",
          "output_type": "stream",
          "text": [
            "<class 'pandas.core.frame.DataFrame'>\n",
            "RangeIndex: 296 entries, 0 to 295\n",
            "Data columns (total 13 columns):\n",
            " #   Column        Non-Null Count  Dtype  \n",
            "---  ------        --------------  -----  \n",
            " 0   HomePlanet    296 non-null    object \n",
            " 1   CryoSleep     296 non-null    bool   \n",
            " 2   Cabin1        287 non-null    object \n",
            " 3   Cabin2        287 non-null    float64\n",
            " 4   Cabin3        296 non-null    bool   \n",
            " 5   Destination   289 non-null    object \n",
            " 6   Age           287 non-null    float64\n",
            " 7   VIP           0 non-null      float64\n",
            " 8   RoomService   291 non-null    float64\n",
            " 9   FoodCourt     293 non-null    float64\n",
            " 10  ShoppingMall  292 non-null    float64\n",
            " 11  Spa           293 non-null    float64\n",
            " 12  VRDeck        294 non-null    float64\n",
            "dtypes: bool(2), float64(8), object(3)\n",
            "memory usage: 26.1+ KB\n"
          ]
        }
      ],
      "source": [
        "# 이전 과정 반복 \n",
        "\n",
        "vip_nan_df.drop(['PassengerId','Combi','Cabin','Name','Transported'],axis=1,inplace=True)\n",
        "## Cabin3의 P(좌현)를 False으로 S(우현)를 True로 변경\n",
        "vip_nan_df['Cabin3'].replace({'P': True,'S': False}, inplace=True)\n",
        "\n",
        "## boolean으로 변환\n",
        "vip_nan_df['CryoSleep'] = vip_nan_df['CryoSleep'].astype(bool)\n",
        "\n",
        "vip_nan_df['Cabin3'] = vip_nan_df['Cabin3'].astype(bool)\n",
        "\n",
        "## 변환 확인\n",
        "vip_nan_df.info()"
      ]
    },
    {
      "cell_type": "code",
      "execution_count": null,
      "id": "65bf8127",
      "metadata": {
        "id": "65bf8127",
        "outputId": "69ecf5e4-7b43-49c0-f642-df3046581f35"
      },
      "outputs": [
        {
          "data": {
            "text/html": [
              "<div>\n",
              "<style scoped>\n",
              "    .dataframe tbody tr th:only-of-type {\n",
              "        vertical-align: middle;\n",
              "    }\n",
              "\n",
              "    .dataframe tbody tr th {\n",
              "        vertical-align: top;\n",
              "    }\n",
              "\n",
              "    .dataframe thead th {\n",
              "        text-align: right;\n",
              "    }\n",
              "</style>\n",
              "<table border=\"1\" class=\"dataframe\">\n",
              "  <thead>\n",
              "    <tr style=\"text-align: right;\">\n",
              "      <th></th>\n",
              "      <th>CryoSleep</th>\n",
              "      <th>Cabin2</th>\n",
              "      <th>Cabin3</th>\n",
              "      <th>Age</th>\n",
              "      <th>VIP</th>\n",
              "      <th>RoomService</th>\n",
              "      <th>FoodCourt</th>\n",
              "      <th>ShoppingMall</th>\n",
              "      <th>Spa</th>\n",
              "      <th>VRDeck</th>\n",
              "      <th>...</th>\n",
              "      <th>B</th>\n",
              "      <th>C</th>\n",
              "      <th>D</th>\n",
              "      <th>E</th>\n",
              "      <th>F</th>\n",
              "      <th>G</th>\n",
              "      <th>T</th>\n",
              "      <th>55 Cancri e</th>\n",
              "      <th>PSO J318.5-22</th>\n",
              "      <th>TRAPPIST-1e</th>\n",
              "    </tr>\n",
              "  </thead>\n",
              "  <tbody>\n",
              "    <tr>\n",
              "      <th>0</th>\n",
              "      <td>False</td>\n",
              "      <td>-1.167170</td>\n",
              "      <td>False</td>\n",
              "      <td>-0.953023</td>\n",
              "      <td>NaN</td>\n",
              "      <td>-0.302677</td>\n",
              "      <td>-0.030337</td>\n",
              "      <td>-0.220319</td>\n",
              "      <td>-0.286713</td>\n",
              "      <td>0.022392</td>\n",
              "      <td>...</td>\n",
              "      <td>0</td>\n",
              "      <td>0</td>\n",
              "      <td>0</td>\n",
              "      <td>0</td>\n",
              "      <td>1</td>\n",
              "      <td>0</td>\n",
              "      <td>0</td>\n",
              "      <td>1</td>\n",
              "      <td>0</td>\n",
              "      <td>0</td>\n",
              "    </tr>\n",
              "    <tr>\n",
              "      <th>1</th>\n",
              "      <td>False</td>\n",
              "      <td>-1.146095</td>\n",
              "      <td>False</td>\n",
              "      <td>-1.970321</td>\n",
              "      <td>NaN</td>\n",
              "      <td>-0.302677</td>\n",
              "      <td>-0.225656</td>\n",
              "      <td>-0.363966</td>\n",
              "      <td>-0.302602</td>\n",
              "      <td>-0.250833</td>\n",
              "      <td>...</td>\n",
              "      <td>0</td>\n",
              "      <td>0</td>\n",
              "      <td>0</td>\n",
              "      <td>0</td>\n",
              "      <td>0</td>\n",
              "      <td>1</td>\n",
              "      <td>0</td>\n",
              "      <td>0</td>\n",
              "      <td>0</td>\n",
              "      <td>1</td>\n",
              "    </tr>\n",
              "    <tr>\n",
              "      <th>2</th>\n",
              "      <td>True</td>\n",
              "      <td>-1.111608</td>\n",
              "      <td>True</td>\n",
              "      <td>0.403375</td>\n",
              "      <td>NaN</td>\n",
              "      <td>-0.302677</td>\n",
              "      <td>-0.225656</td>\n",
              "      <td>-0.363966</td>\n",
              "      <td>-0.302602</td>\n",
              "      <td>-0.250833</td>\n",
              "      <td>...</td>\n",
              "      <td>0</td>\n",
              "      <td>0</td>\n",
              "      <td>0</td>\n",
              "      <td>0</td>\n",
              "      <td>1</td>\n",
              "      <td>0</td>\n",
              "      <td>0</td>\n",
              "      <td>0</td>\n",
              "      <td>0</td>\n",
              "      <td>1</td>\n",
              "    </tr>\n",
              "    <tr>\n",
              "      <th>3</th>\n",
              "      <td>True</td>\n",
              "      <td>-1.092449</td>\n",
              "      <td>False</td>\n",
              "      <td>-1.020843</td>\n",
              "      <td>NaN</td>\n",
              "      <td>-0.302677</td>\n",
              "      <td>-0.225656</td>\n",
              "      <td>-0.363966</td>\n",
              "      <td>-0.302602</td>\n",
              "      <td>-0.250833</td>\n",
              "      <td>...</td>\n",
              "      <td>0</td>\n",
              "      <td>0</td>\n",
              "      <td>0</td>\n",
              "      <td>0</td>\n",
              "      <td>1</td>\n",
              "      <td>0</td>\n",
              "      <td>0</td>\n",
              "      <td>1</td>\n",
              "      <td>0</td>\n",
              "      <td>0</td>\n",
              "    </tr>\n",
              "    <tr>\n",
              "      <th>4</th>\n",
              "      <td>False</td>\n",
              "      <td>-1.136515</td>\n",
              "      <td>True</td>\n",
              "      <td>NaN</td>\n",
              "      <td>NaN</td>\n",
              "      <td>-0.247317</td>\n",
              "      <td>-0.165313</td>\n",
              "      <td>0.180697</td>\n",
              "      <td>-0.301808</td>\n",
              "      <td>1.115295</td>\n",
              "      <td>...</td>\n",
              "      <td>0</td>\n",
              "      <td>0</td>\n",
              "      <td>1</td>\n",
              "      <td>0</td>\n",
              "      <td>0</td>\n",
              "      <td>0</td>\n",
              "      <td>0</td>\n",
              "      <td>0</td>\n",
              "      <td>0</td>\n",
              "      <td>1</td>\n",
              "    </tr>\n",
              "    <tr>\n",
              "      <th>...</th>\n",
              "      <td>...</td>\n",
              "      <td>...</td>\n",
              "      <td>...</td>\n",
              "      <td>...</td>\n",
              "      <td>...</td>\n",
              "      <td>...</td>\n",
              "      <td>...</td>\n",
              "      <td>...</td>\n",
              "      <td>...</td>\n",
              "      <td>...</td>\n",
              "      <td>...</td>\n",
              "      <td>...</td>\n",
              "      <td>...</td>\n",
              "      <td>...</td>\n",
              "      <td>...</td>\n",
              "      <td>...</td>\n",
              "      <td>...</td>\n",
              "      <td>...</td>\n",
              "      <td>...</td>\n",
              "      <td>...</td>\n",
              "      <td>...</td>\n",
              "    </tr>\n",
              "    <tr>\n",
              "      <th>291</th>\n",
              "      <td>False</td>\n",
              "      <td>-0.550247</td>\n",
              "      <td>False</td>\n",
              "      <td>0.199915</td>\n",
              "      <td>NaN</td>\n",
              "      <td>-0.269203</td>\n",
              "      <td>0.452404</td>\n",
              "      <td>-0.363966</td>\n",
              "      <td>2.869616</td>\n",
              "      <td>0.076901</td>\n",
              "      <td>...</td>\n",
              "      <td>0</td>\n",
              "      <td>1</td>\n",
              "      <td>0</td>\n",
              "      <td>0</td>\n",
              "      <td>0</td>\n",
              "      <td>0</td>\n",
              "      <td>0</td>\n",
              "      <td>0</td>\n",
              "      <td>0</td>\n",
              "      <td>1</td>\n",
              "    </tr>\n",
              "    <tr>\n",
              "      <th>292</th>\n",
              "      <td>True</td>\n",
              "      <td>-0.619219</td>\n",
              "      <td>True</td>\n",
              "      <td>0.674654</td>\n",
              "      <td>NaN</td>\n",
              "      <td>-0.302677</td>\n",
              "      <td>-0.225656</td>\n",
              "      <td>-0.363966</td>\n",
              "      <td>-0.302602</td>\n",
              "      <td>-0.250833</td>\n",
              "      <td>...</td>\n",
              "      <td>0</td>\n",
              "      <td>1</td>\n",
              "      <td>0</td>\n",
              "      <td>0</td>\n",
              "      <td>0</td>\n",
              "      <td>0</td>\n",
              "      <td>0</td>\n",
              "      <td>0</td>\n",
              "      <td>0</td>\n",
              "      <td>1</td>\n",
              "    </tr>\n",
              "    <tr>\n",
              "      <th>293</th>\n",
              "      <td>False</td>\n",
              "      <td>NaN</td>\n",
              "      <td>True</td>\n",
              "      <td>0.606834</td>\n",
              "      <td>NaN</td>\n",
              "      <td>0.706693</td>\n",
              "      <td>-0.225656</td>\n",
              "      <td>-0.238275</td>\n",
              "      <td>-0.272413</td>\n",
              "      <td>-0.244020</td>\n",
              "      <td>...</td>\n",
              "      <td>0</td>\n",
              "      <td>0</td>\n",
              "      <td>0</td>\n",
              "      <td>0</td>\n",
              "      <td>0</td>\n",
              "      <td>0</td>\n",
              "      <td>0</td>\n",
              "      <td>0</td>\n",
              "      <td>0</td>\n",
              "      <td>1</td>\n",
              "    </tr>\n",
              "    <tr>\n",
              "      <th>294</th>\n",
              "      <td>False</td>\n",
              "      <td>2.432825</td>\n",
              "      <td>True</td>\n",
              "      <td>-0.546103</td>\n",
              "      <td>NaN</td>\n",
              "      <td>0.521298</td>\n",
              "      <td>-0.225656</td>\n",
              "      <td>-0.301120</td>\n",
              "      <td>-0.302602</td>\n",
              "      <td>-0.199050</td>\n",
              "      <td>...</td>\n",
              "      <td>0</td>\n",
              "      <td>0</td>\n",
              "      <td>0</td>\n",
              "      <td>0</td>\n",
              "      <td>1</td>\n",
              "      <td>0</td>\n",
              "      <td>0</td>\n",
              "      <td>0</td>\n",
              "      <td>0</td>\n",
              "      <td>1</td>\n",
              "    </tr>\n",
              "    <tr>\n",
              "      <th>295</th>\n",
              "      <td>True</td>\n",
              "      <td>1.697116</td>\n",
              "      <td>True</td>\n",
              "      <td>-1.766861</td>\n",
              "      <td>NaN</td>\n",
              "      <td>-0.302677</td>\n",
              "      <td>-0.225656</td>\n",
              "      <td>-0.363966</td>\n",
              "      <td>-0.302602</td>\n",
              "      <td>-0.250833</td>\n",
              "      <td>...</td>\n",
              "      <td>0</td>\n",
              "      <td>0</td>\n",
              "      <td>0</td>\n",
              "      <td>0</td>\n",
              "      <td>0</td>\n",
              "      <td>1</td>\n",
              "      <td>0</td>\n",
              "      <td>1</td>\n",
              "      <td>0</td>\n",
              "      <td>0</td>\n",
              "    </tr>\n",
              "  </tbody>\n",
              "</table>\n",
              "<p>296 rows × 24 columns</p>\n",
              "</div>"
            ],
            "text/plain": [
              "     CryoSleep    Cabin2  Cabin3       Age  VIP  RoomService  FoodCourt  \\\n",
              "0        False -1.167170   False -0.953023  NaN    -0.302677  -0.030337   \n",
              "1        False -1.146095   False -1.970321  NaN    -0.302677  -0.225656   \n",
              "2         True -1.111608    True  0.403375  NaN    -0.302677  -0.225656   \n",
              "3         True -1.092449   False -1.020843  NaN    -0.302677  -0.225656   \n",
              "4        False -1.136515    True       NaN  NaN    -0.247317  -0.165313   \n",
              "..         ...       ...     ...       ...  ...          ...        ...   \n",
              "291      False -0.550247   False  0.199915  NaN    -0.269203   0.452404   \n",
              "292       True -0.619219    True  0.674654  NaN    -0.302677  -0.225656   \n",
              "293      False       NaN    True  0.606834  NaN     0.706693  -0.225656   \n",
              "294      False  2.432825    True -0.546103  NaN     0.521298  -0.225656   \n",
              "295       True  1.697116    True -1.766861  NaN    -0.302677  -0.225656   \n",
              "\n",
              "     ShoppingMall       Spa    VRDeck  ...  B  C  D  E  F  G  T  55 Cancri e  \\\n",
              "0       -0.220319 -0.286713  0.022392  ...  0  0  0  0  1  0  0            1   \n",
              "1       -0.363966 -0.302602 -0.250833  ...  0  0  0  0  0  1  0            0   \n",
              "2       -0.363966 -0.302602 -0.250833  ...  0  0  0  0  1  0  0            0   \n",
              "3       -0.363966 -0.302602 -0.250833  ...  0  0  0  0  1  0  0            1   \n",
              "4        0.180697 -0.301808  1.115295  ...  0  0  1  0  0  0  0            0   \n",
              "..            ...       ...       ...  ... .. .. .. .. .. .. ..          ...   \n",
              "291     -0.363966  2.869616  0.076901  ...  0  1  0  0  0  0  0            0   \n",
              "292     -0.363966 -0.302602 -0.250833  ...  0  1  0  0  0  0  0            0   \n",
              "293     -0.238275 -0.272413 -0.244020  ...  0  0  0  0  0  0  0            0   \n",
              "294     -0.301120 -0.302602 -0.199050  ...  0  0  0  0  1  0  0            0   \n",
              "295     -0.363966 -0.302602 -0.250833  ...  0  0  0  0  0  1  0            1   \n",
              "\n",
              "     PSO J318.5-22  TRAPPIST-1e  \n",
              "0                0            0  \n",
              "1                0            1  \n",
              "2                0            1  \n",
              "3                0            0  \n",
              "4                0            1  \n",
              "..             ...          ...  \n",
              "291              0            1  \n",
              "292              0            1  \n",
              "293              0            1  \n",
              "294              0            1  \n",
              "295              0            0  \n",
              "\n",
              "[296 rows x 24 columns]"
            ]
          },
          "execution_count": 144,
          "metadata": {},
          "output_type": "execute_result"
        }
      ],
      "source": [
        "## object 타입의 데이터들 더미화\n",
        "train_encoding = pd.get_dummies(vip_nan_df['HomePlanet'])\n",
        "vip_nan_df=vip_nan_df.drop('HomePlanet',axis=1)\n",
        "vip_nan_df = vip_nan_df.join(train_encoding)\n",
        "\n",
        "train_encoding = pd.get_dummies(vip_nan_df['Cabin1'])\n",
        "## 기존의 팀명 컬러 삭제\n",
        "vip_nan_df=vip_nan_df.drop('Cabin1',axis=1)\n",
        "vip_nan_df = vip_nan_df.join(train_encoding)\n",
        "\n",
        "\n",
        "train_encoding = pd.get_dummies(vip_nan_df['Destination'])\n",
        "## 기존의 팀명 컬러 삭제\n",
        "vip_nan_df = vip_nan_df.drop('Destination',axis=1)\n",
        "vip_nan_df = vip_nan_df.join(train_encoding)\n",
        "\n",
        "col = ['Cabin2', 'Age', 'RoomService','FoodCourt','ShoppingMall','Spa','VRDeck']\n",
        "data_scaled(vip_nan_df, col)"
      ]
    },
    {
      "cell_type": "code",
      "execution_count": null,
      "id": "bba52634",
      "metadata": {
        "id": "bba52634",
        "outputId": "bb10ddb8-36c7-4867-efa8-7a33df599f9b"
      },
      "outputs": [
        {
          "data": {
            "text/html": [
              "<div>\n",
              "<style scoped>\n",
              "    .dataframe tbody tr th:only-of-type {\n",
              "        vertical-align: middle;\n",
              "    }\n",
              "\n",
              "    .dataframe tbody tr th {\n",
              "        vertical-align: top;\n",
              "    }\n",
              "\n",
              "    .dataframe thead th {\n",
              "        text-align: right;\n",
              "    }\n",
              "</style>\n",
              "<table border=\"1\" class=\"dataframe\">\n",
              "  <thead>\n",
              "    <tr style=\"text-align: right;\">\n",
              "      <th></th>\n",
              "      <th>0</th>\n",
              "    </tr>\n",
              "  </thead>\n",
              "  <tbody>\n",
              "    <tr>\n",
              "      <th>0</th>\n",
              "      <td>False</td>\n",
              "    </tr>\n",
              "    <tr>\n",
              "      <th>1</th>\n",
              "      <td>False</td>\n",
              "    </tr>\n",
              "    <tr>\n",
              "      <th>2</th>\n",
              "      <td>False</td>\n",
              "    </tr>\n",
              "    <tr>\n",
              "      <th>3</th>\n",
              "      <td>False</td>\n",
              "    </tr>\n",
              "    <tr>\n",
              "      <th>4</th>\n",
              "      <td>False</td>\n",
              "    </tr>\n",
              "    <tr>\n",
              "      <th>...</th>\n",
              "      <td>...</td>\n",
              "    </tr>\n",
              "    <tr>\n",
              "      <th>291</th>\n",
              "      <td>True</td>\n",
              "    </tr>\n",
              "    <tr>\n",
              "      <th>292</th>\n",
              "      <td>False</td>\n",
              "    </tr>\n",
              "    <tr>\n",
              "      <th>293</th>\n",
              "      <td>False</td>\n",
              "    </tr>\n",
              "    <tr>\n",
              "      <th>294</th>\n",
              "      <td>False</td>\n",
              "    </tr>\n",
              "    <tr>\n",
              "      <th>295</th>\n",
              "      <td>False</td>\n",
              "    </tr>\n",
              "  </tbody>\n",
              "</table>\n",
              "<p>296 rows × 1 columns</p>\n",
              "</div>"
            ],
            "text/plain": [
              "         0\n",
              "0    False\n",
              "1    False\n",
              "2    False\n",
              "3    False\n",
              "4    False\n",
              "..     ...\n",
              "291   True\n",
              "292  False\n",
              "293  False\n",
              "294  False\n",
              "295  False\n",
              "\n",
              "[296 rows x 1 columns]"
            ]
          },
          "execution_count": 148,
          "metadata": {},
          "output_type": "execute_result"
        }
      ],
      "source": [
        "vip_nan_data = vip_nan_df.drop(['VIP'],axis=1)\n",
        "vip_nan_label = vip_nan_df.VIP\n",
        "\n",
        "pred= xgb_model.predict(vip_nan_data)\n",
        "pred = pd.DataFrame(pred)\n",
        "pred.replace({0:False,1:True},inplace=True)\n",
        "pred"
      ]
    },
    {
      "cell_type": "code",
      "execution_count": null,
      "id": "c39c72db",
      "metadata": {
        "id": "c39c72db",
        "outputId": "222f4315-8f09-4343-eddf-b572f1fedd98"
      },
      "outputs": [
        {
          "data": {
            "text/html": [
              "<div>\n",
              "<style scoped>\n",
              "    .dataframe tbody tr th:only-of-type {\n",
              "        vertical-align: middle;\n",
              "    }\n",
              "\n",
              "    .dataframe tbody tr th {\n",
              "        vertical-align: top;\n",
              "    }\n",
              "\n",
              "    .dataframe thead th {\n",
              "        text-align: right;\n",
              "    }\n",
              "</style>\n",
              "<table border=\"1\" class=\"dataframe\">\n",
              "  <thead>\n",
              "    <tr style=\"text-align: right;\">\n",
              "      <th></th>\n",
              "      <th>CryoSleep</th>\n",
              "      <th>Cabin2</th>\n",
              "      <th>Cabin3</th>\n",
              "      <th>Age</th>\n",
              "      <th>RoomService</th>\n",
              "      <th>FoodCourt</th>\n",
              "      <th>ShoppingMall</th>\n",
              "      <th>Spa</th>\n",
              "      <th>VRDeck</th>\n",
              "      <th>Earth</th>\n",
              "      <th>...</th>\n",
              "      <th>C</th>\n",
              "      <th>D</th>\n",
              "      <th>E</th>\n",
              "      <th>F</th>\n",
              "      <th>G</th>\n",
              "      <th>T</th>\n",
              "      <th>55 Cancri e</th>\n",
              "      <th>PSO J318.5-22</th>\n",
              "      <th>TRAPPIST-1e</th>\n",
              "      <th>VIP</th>\n",
              "    </tr>\n",
              "  </thead>\n",
              "  <tbody>\n",
              "    <tr>\n",
              "      <th>0</th>\n",
              "      <td>False</td>\n",
              "      <td>-1.167170</td>\n",
              "      <td>False</td>\n",
              "      <td>-0.953023</td>\n",
              "      <td>-0.302677</td>\n",
              "      <td>-0.030337</td>\n",
              "      <td>-0.220319</td>\n",
              "      <td>-0.286713</td>\n",
              "      <td>0.022392</td>\n",
              "      <td>1</td>\n",
              "      <td>...</td>\n",
              "      <td>0</td>\n",
              "      <td>0</td>\n",
              "      <td>0</td>\n",
              "      <td>1</td>\n",
              "      <td>0</td>\n",
              "      <td>0</td>\n",
              "      <td>1</td>\n",
              "      <td>0</td>\n",
              "      <td>0</td>\n",
              "      <td>False</td>\n",
              "    </tr>\n",
              "    <tr>\n",
              "      <th>1</th>\n",
              "      <td>False</td>\n",
              "      <td>-1.146095</td>\n",
              "      <td>False</td>\n",
              "      <td>-1.970321</td>\n",
              "      <td>-0.302677</td>\n",
              "      <td>-0.225656</td>\n",
              "      <td>-0.363966</td>\n",
              "      <td>-0.302602</td>\n",
              "      <td>-0.250833</td>\n",
              "      <td>1</td>\n",
              "      <td>...</td>\n",
              "      <td>0</td>\n",
              "      <td>0</td>\n",
              "      <td>0</td>\n",
              "      <td>0</td>\n",
              "      <td>1</td>\n",
              "      <td>0</td>\n",
              "      <td>0</td>\n",
              "      <td>0</td>\n",
              "      <td>1</td>\n",
              "      <td>False</td>\n",
              "    </tr>\n",
              "    <tr>\n",
              "      <th>2</th>\n",
              "      <td>True</td>\n",
              "      <td>-1.111608</td>\n",
              "      <td>True</td>\n",
              "      <td>0.403375</td>\n",
              "      <td>-0.302677</td>\n",
              "      <td>-0.225656</td>\n",
              "      <td>-0.363966</td>\n",
              "      <td>-0.302602</td>\n",
              "      <td>-0.250833</td>\n",
              "      <td>0</td>\n",
              "      <td>...</td>\n",
              "      <td>0</td>\n",
              "      <td>0</td>\n",
              "      <td>0</td>\n",
              "      <td>1</td>\n",
              "      <td>0</td>\n",
              "      <td>0</td>\n",
              "      <td>0</td>\n",
              "      <td>0</td>\n",
              "      <td>1</td>\n",
              "      <td>False</td>\n",
              "    </tr>\n",
              "    <tr>\n",
              "      <th>3</th>\n",
              "      <td>True</td>\n",
              "      <td>-1.092449</td>\n",
              "      <td>False</td>\n",
              "      <td>-1.020843</td>\n",
              "      <td>-0.302677</td>\n",
              "      <td>-0.225656</td>\n",
              "      <td>-0.363966</td>\n",
              "      <td>-0.302602</td>\n",
              "      <td>-0.250833</td>\n",
              "      <td>0</td>\n",
              "      <td>...</td>\n",
              "      <td>0</td>\n",
              "      <td>0</td>\n",
              "      <td>0</td>\n",
              "      <td>1</td>\n",
              "      <td>0</td>\n",
              "      <td>0</td>\n",
              "      <td>1</td>\n",
              "      <td>0</td>\n",
              "      <td>0</td>\n",
              "      <td>False</td>\n",
              "    </tr>\n",
              "    <tr>\n",
              "      <th>4</th>\n",
              "      <td>False</td>\n",
              "      <td>-1.136515</td>\n",
              "      <td>True</td>\n",
              "      <td>NaN</td>\n",
              "      <td>-0.247317</td>\n",
              "      <td>-0.165313</td>\n",
              "      <td>0.180697</td>\n",
              "      <td>-0.301808</td>\n",
              "      <td>1.115295</td>\n",
              "      <td>0</td>\n",
              "      <td>...</td>\n",
              "      <td>0</td>\n",
              "      <td>1</td>\n",
              "      <td>0</td>\n",
              "      <td>0</td>\n",
              "      <td>0</td>\n",
              "      <td>0</td>\n",
              "      <td>0</td>\n",
              "      <td>0</td>\n",
              "      <td>1</td>\n",
              "      <td>False</td>\n",
              "    </tr>\n",
              "    <tr>\n",
              "      <th>...</th>\n",
              "      <td>...</td>\n",
              "      <td>...</td>\n",
              "      <td>...</td>\n",
              "      <td>...</td>\n",
              "      <td>...</td>\n",
              "      <td>...</td>\n",
              "      <td>...</td>\n",
              "      <td>...</td>\n",
              "      <td>...</td>\n",
              "      <td>...</td>\n",
              "      <td>...</td>\n",
              "      <td>...</td>\n",
              "      <td>...</td>\n",
              "      <td>...</td>\n",
              "      <td>...</td>\n",
              "      <td>...</td>\n",
              "      <td>...</td>\n",
              "      <td>...</td>\n",
              "      <td>...</td>\n",
              "      <td>...</td>\n",
              "      <td>...</td>\n",
              "    </tr>\n",
              "    <tr>\n",
              "      <th>291</th>\n",
              "      <td>False</td>\n",
              "      <td>-0.550247</td>\n",
              "      <td>False</td>\n",
              "      <td>0.199915</td>\n",
              "      <td>-0.269203</td>\n",
              "      <td>0.452404</td>\n",
              "      <td>-0.363966</td>\n",
              "      <td>2.869616</td>\n",
              "      <td>0.076901</td>\n",
              "      <td>0</td>\n",
              "      <td>...</td>\n",
              "      <td>1</td>\n",
              "      <td>0</td>\n",
              "      <td>0</td>\n",
              "      <td>0</td>\n",
              "      <td>0</td>\n",
              "      <td>0</td>\n",
              "      <td>0</td>\n",
              "      <td>0</td>\n",
              "      <td>1</td>\n",
              "      <td>True</td>\n",
              "    </tr>\n",
              "    <tr>\n",
              "      <th>292</th>\n",
              "      <td>True</td>\n",
              "      <td>-0.619219</td>\n",
              "      <td>True</td>\n",
              "      <td>0.674654</td>\n",
              "      <td>-0.302677</td>\n",
              "      <td>-0.225656</td>\n",
              "      <td>-0.363966</td>\n",
              "      <td>-0.302602</td>\n",
              "      <td>-0.250833</td>\n",
              "      <td>0</td>\n",
              "      <td>...</td>\n",
              "      <td>1</td>\n",
              "      <td>0</td>\n",
              "      <td>0</td>\n",
              "      <td>0</td>\n",
              "      <td>0</td>\n",
              "      <td>0</td>\n",
              "      <td>0</td>\n",
              "      <td>0</td>\n",
              "      <td>1</td>\n",
              "      <td>False</td>\n",
              "    </tr>\n",
              "    <tr>\n",
              "      <th>293</th>\n",
              "      <td>False</td>\n",
              "      <td>NaN</td>\n",
              "      <td>True</td>\n",
              "      <td>0.606834</td>\n",
              "      <td>0.706693</td>\n",
              "      <td>-0.225656</td>\n",
              "      <td>-0.238275</td>\n",
              "      <td>-0.272413</td>\n",
              "      <td>-0.244020</td>\n",
              "      <td>0</td>\n",
              "      <td>...</td>\n",
              "      <td>0</td>\n",
              "      <td>0</td>\n",
              "      <td>0</td>\n",
              "      <td>0</td>\n",
              "      <td>0</td>\n",
              "      <td>0</td>\n",
              "      <td>0</td>\n",
              "      <td>0</td>\n",
              "      <td>1</td>\n",
              "      <td>False</td>\n",
              "    </tr>\n",
              "    <tr>\n",
              "      <th>294</th>\n",
              "      <td>False</td>\n",
              "      <td>2.432825</td>\n",
              "      <td>True</td>\n",
              "      <td>-0.546103</td>\n",
              "      <td>0.521298</td>\n",
              "      <td>-0.225656</td>\n",
              "      <td>-0.301120</td>\n",
              "      <td>-0.302602</td>\n",
              "      <td>-0.199050</td>\n",
              "      <td>1</td>\n",
              "      <td>...</td>\n",
              "      <td>0</td>\n",
              "      <td>0</td>\n",
              "      <td>0</td>\n",
              "      <td>1</td>\n",
              "      <td>0</td>\n",
              "      <td>0</td>\n",
              "      <td>0</td>\n",
              "      <td>0</td>\n",
              "      <td>1</td>\n",
              "      <td>False</td>\n",
              "    </tr>\n",
              "    <tr>\n",
              "      <th>295</th>\n",
              "      <td>True</td>\n",
              "      <td>1.697116</td>\n",
              "      <td>True</td>\n",
              "      <td>-1.766861</td>\n",
              "      <td>-0.302677</td>\n",
              "      <td>-0.225656</td>\n",
              "      <td>-0.363966</td>\n",
              "      <td>-0.302602</td>\n",
              "      <td>-0.250833</td>\n",
              "      <td>1</td>\n",
              "      <td>...</td>\n",
              "      <td>0</td>\n",
              "      <td>0</td>\n",
              "      <td>0</td>\n",
              "      <td>0</td>\n",
              "      <td>1</td>\n",
              "      <td>0</td>\n",
              "      <td>1</td>\n",
              "      <td>0</td>\n",
              "      <td>0</td>\n",
              "      <td>False</td>\n",
              "    </tr>\n",
              "  </tbody>\n",
              "</table>\n",
              "<p>296 rows × 24 columns</p>\n",
              "</div>"
            ],
            "text/plain": [
              "     CryoSleep    Cabin2  Cabin3       Age  RoomService  FoodCourt  \\\n",
              "0        False -1.167170   False -0.953023    -0.302677  -0.030337   \n",
              "1        False -1.146095   False -1.970321    -0.302677  -0.225656   \n",
              "2         True -1.111608    True  0.403375    -0.302677  -0.225656   \n",
              "3         True -1.092449   False -1.020843    -0.302677  -0.225656   \n",
              "4        False -1.136515    True       NaN    -0.247317  -0.165313   \n",
              "..         ...       ...     ...       ...          ...        ...   \n",
              "291      False -0.550247   False  0.199915    -0.269203   0.452404   \n",
              "292       True -0.619219    True  0.674654    -0.302677  -0.225656   \n",
              "293      False       NaN    True  0.606834     0.706693  -0.225656   \n",
              "294      False  2.432825    True -0.546103     0.521298  -0.225656   \n",
              "295       True  1.697116    True -1.766861    -0.302677  -0.225656   \n",
              "\n",
              "     ShoppingMall       Spa    VRDeck  Earth  ...  C  D  E  F  G  T  \\\n",
              "0       -0.220319 -0.286713  0.022392      1  ...  0  0  0  1  0  0   \n",
              "1       -0.363966 -0.302602 -0.250833      1  ...  0  0  0  0  1  0   \n",
              "2       -0.363966 -0.302602 -0.250833      0  ...  0  0  0  1  0  0   \n",
              "3       -0.363966 -0.302602 -0.250833      0  ...  0  0  0  1  0  0   \n",
              "4        0.180697 -0.301808  1.115295      0  ...  0  1  0  0  0  0   \n",
              "..            ...       ...       ...    ...  ... .. .. .. .. .. ..   \n",
              "291     -0.363966  2.869616  0.076901      0  ...  1  0  0  0  0  0   \n",
              "292     -0.363966 -0.302602 -0.250833      0  ...  1  0  0  0  0  0   \n",
              "293     -0.238275 -0.272413 -0.244020      0  ...  0  0  0  0  0  0   \n",
              "294     -0.301120 -0.302602 -0.199050      1  ...  0  0  0  1  0  0   \n",
              "295     -0.363966 -0.302602 -0.250833      1  ...  0  0  0  0  1  0   \n",
              "\n",
              "     55 Cancri e  PSO J318.5-22  TRAPPIST-1e    VIP  \n",
              "0              1              0            0  False  \n",
              "1              0              0            1  False  \n",
              "2              0              0            1  False  \n",
              "3              1              0            0  False  \n",
              "4              0              0            1  False  \n",
              "..           ...            ...          ...    ...  \n",
              "291            0              0            1   True  \n",
              "292            0              0            1  False  \n",
              "293            0              0            1  False  \n",
              "294            0              0            1  False  \n",
              "295            1              0            0  False  \n",
              "\n",
              "[296 rows x 24 columns]"
            ]
          },
          "execution_count": 151,
          "metadata": {},
          "output_type": "execute_result"
        }
      ],
      "source": [
        "vip_nan_df.drop('VIP',axis=1,inplace=True)\n",
        "vip_nan_df.insert(23,'VIP',pred)\n",
        "vip_nan_df"
      ]
    },
    {
      "cell_type": "code",
      "execution_count": null,
      "id": "4fe5723a",
      "metadata": {
        "id": "4fe5723a",
        "outputId": "b93c1291-803c-4ba5-8915-61bd87498098"
      },
      "outputs": [
        {
          "data": {
            "text/plain": [
              "False    276\n",
              "True      20\n",
              "Name: VIP, dtype: int64"
            ]
          },
          "execution_count": 152,
          "metadata": {},
          "output_type": "execute_result"
        }
      ],
      "source": [
        "vip_nan_df.VIP.value_counts()"
      ]
    },
    {
      "cell_type": "markdown",
      "id": "636353a7",
      "metadata": {
        "id": "636353a7"
      },
      "source": [
        "# Age 결측값 처리"
      ]
    },
    {
      "cell_type": "markdown",
      "id": "9c309c60",
      "metadata": {
        "id": "9c309c60"
      },
      "source": [
        "중앙값인 27로 채워주었다"
      ]
    },
    {
      "cell_type": "markdown",
      "id": "9e693ec9",
      "metadata": {
        "id": "9e693ec9"
      },
      "source": [
        "# 돈과 관련된 피처들 결측값 처리\n",
        "- (RoomService, ShoppingMall, Spa, VRDeck, FoodCourt) "
      ]
    },
    {
      "cell_type": "markdown",
      "id": "7130a102",
      "metadata": {
        "id": "7130a102"
      },
      "source": [
        "최빈값인 0으로 채워주었다"
      ]
    },
    {
      "cell_type": "code",
      "execution_count": null,
      "id": "6144d530",
      "metadata": {
        "id": "6144d530"
      },
      "outputs": [],
      "source": []
    }
  ],
  "metadata": {
    "kernelspec": {
      "display_name": "Python 3 (ipykernel)",
      "language": "python",
      "name": "python3"
    },
    "language_info": {
      "codemirror_mode": {
        "name": "ipython",
        "version": 3
      },
      "file_extension": ".py",
      "mimetype": "text/x-python",
      "name": "python",
      "nbconvert_exporter": "python",
      "pygments_lexer": "ipython3",
      "version": "3.9.7"
    },
    "toc": {
      "base_numbering": 1,
      "nav_menu": {},
      "number_sections": true,
      "sideBar": true,
      "skip_h1_title": false,
      "title_cell": "Table of Contents",
      "title_sidebar": "Contents",
      "toc_cell": false,
      "toc_position": {
        "height": "calc(100% - 180px)",
        "left": "10px",
        "top": "150px",
        "width": "279.273px"
      },
      "toc_section_display": true,
      "toc_window_display": true
    },
    "colab": {
      "provenance": [],
      "toc_visible": true,
      "include_colab_link": true
    }
  },
  "nbformat": 4,
  "nbformat_minor": 5
}